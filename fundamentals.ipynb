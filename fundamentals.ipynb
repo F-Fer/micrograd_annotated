{
 "cells": [
  {
   "cell_type": "code",
   "metadata": {
    "ExecuteTime": {
     "end_time": "2024-12-08T16:08:17.620314Z",
     "start_time": "2024-12-08T16:08:17.616645Z"
    }
   },
   "source": [
    "import math\n",
    "import numpy as np\n",
    "import matplotlib.pyplot as plt\n",
    "%matplotlib inline"
   ],
   "outputs": [],
   "execution_count": 45
  },
  {
   "cell_type": "markdown",
   "metadata": {},
   "source": [
    "# Intuition behind Derivatives"
   ]
  },
  {
   "cell_type": "code",
   "metadata": {
    "ExecuteTime": {
     "end_time": "2024-12-08T16:08:17.638008Z",
     "start_time": "2024-12-08T16:08:17.635627Z"
    }
   },
   "source": [
    "def f(x):\n",
    "    return 3*x**2 - 4*x + 5"
   ],
   "outputs": [],
   "execution_count": 46
  },
  {
   "cell_type": "code",
   "metadata": {
    "ExecuteTime": {
     "end_time": "2024-12-08T16:08:17.651569Z",
     "start_time": "2024-12-08T16:08:17.649277Z"
    }
   },
   "source": [
    "f(3.0)\n"
   ],
   "outputs": [
    {
     "data": {
      "text/plain": [
       "20.0"
      ]
     },
     "execution_count": 47,
     "metadata": {},
     "output_type": "execute_result"
    }
   ],
   "execution_count": 47
  },
  {
   "cell_type": "code",
   "metadata": {
    "ExecuteTime": {
     "end_time": "2024-12-08T16:08:17.732983Z",
     "start_time": "2024-12-08T16:08:17.680525Z"
    }
   },
   "source": [
    "xs = np.arange(-5, 5, 0.25)\n",
    "ys = f(xs)\n",
    "plt.plot(xs, ys)\n",
    "plt.show()"
   ],
   "outputs": [
    {
     "data": {
      "text/plain": [
       "<Figure size 640x480 with 1 Axes>"
      ],
      "image/png": "[encoded data removed]"
     },
     "metadata": {},
     "output_type": "display_data"
    }
   ],
   "execution_count": 48
  },
  {
   "cell_type": "markdown",
   "metadata": {},
   "source": [
    "## Differentiation for Univariate Functions\n",
    "\n",
    "### Definition: *Derivative*\n",
    "\n",
    "For $h \\gt 0$ the *derivative* of $f$ at $x$ is defined as the limit\n",
    "\n",
    "$$\n",
    "\\frac{df}{dx} := \\lim_{h \\to 0} \\frac{ f(x + h) - f(x) }{ h }\n",
    "$$\n"
   ]
  },
  {
   "cell_type": "code",
   "metadata": {
    "ExecuteTime": {
     "end_time": "2024-12-08T16:08:17.740341Z",
     "start_time": "2024-12-08T16:08:17.738210Z"
    }
   },
   "source": [
    "# For f(x) at x = 2/3:\n",
    "h = 0.000001\n",
    "x = 2/3\n",
    "print((f(x + h) - f(x)) / h)"
   ],
   "outputs": [
    {
     "name": "stdout",
     "output_type": "stream",
     "text": [
      "2.999378523327323e-06\n"
     ]
    }
   ],
   "execution_count": 49
  },
  {
   "cell_type": "markdown",
   "metadata": {},
   "source": [
    "## Partial Differentiation and Gradients\n",
    "\n",
    "### Definition: *Partial Derivative*\n",
    "\n",
    "For a function $f : \\mathbb{R}^2 \\to \\mathbb{R}, \\, \\mathbf{x} \\mapsto f(\\mathbf{x}), \\mathbf{x} \\in \\mathbb{R}^n$ of $n$ variables $x_1, \\dots, x_n$ we define the *partial derivative* as \n",
    "\n",
    "$$\n",
    "\\frac{\\partial f}{\\partial x_1} = \\lim_{h \\to 0} \\frac{ f(x_1 + h, x_2, \\dots, x_n ) - f( \\mathbf{x} ) }{ h }\n",
    "$$\n",
    "$$\n",
    "\\vdots\n",
    "$$\n",
    "$$\n",
    "\\frac{\\partial f}{\\partial x_n} = \\lim_{h \\to 0} \\frac{ f(x_1, x_2, \\dots, x_n + h ) - f( \\mathbf{x} ) }{ h }\n",
    "$$\n",
    "\n",
    "and collect them in the new row vector\n",
    "\n",
    "$$\n",
    "\\nabla_x f = \\text{grad} f = \\frac{\\partial f}{\\partial \\mathbf{x}} =  \\begin{bmatrix}\n",
    "\\frac{\\partial f}{\\partial x_1} & \\frac{\\partial f}{\\partial x_2} & \\dots & \\frac{\\partial f}{\\partial x_n}\n",
    "\\end{bmatrix} \\in \\mathbb{R}^{1 \\times n}\n",
    "$$\n"
   ]
  },
  {
   "cell_type": "code",
   "metadata": {
    "ExecuteTime": {
     "end_time": "2024-12-08T16:08:17.765955Z",
     "start_time": "2024-12-08T16:08:17.763550Z"
    }
   },
   "source": [
    "# Multivariate function f(a, b, x) = a * b + c  \n",
    "\n",
    "def f(a, b, c):\n",
    "    return a*b + c\n",
    "\n",
    "a = 2.0\n",
    "b = -3.0\n",
    "c = 10.0\n",
    "d = f(a, b, c)\n",
    "print(d)"
   ],
   "outputs": [
    {
     "name": "stdout",
     "output_type": "stream",
     "text": [
      "4.0\n"
     ]
    }
   ],
   "execution_count": 50
  },
  {
   "cell_type": "code",
   "metadata": {
    "ExecuteTime": {
     "end_time": "2024-12-08T16:08:17.788914Z",
     "start_time": "2024-12-08T16:08:17.786531Z"
    }
   },
   "source": [
    "# Partial derivatives for f with respect to a\n",
    "\n",
    "h = 0.00001\n",
    "\n",
    "# Inputs\n",
    "a = 2.0\n",
    "b = -3.0\n",
    "c = 10.0\n",
    "\n",
    "d1 = f(a, b, c)\n",
    "d2 = f(a+h, b, c)\n",
    "\n",
    "print(\"d1\", d1)\n",
    "print(\"d2\", d2)\n",
    "print(\"Derivative w. r. to a =\", ((d2 - d1) / h))"
   ],
   "outputs": [
    {
     "name": "stdout",
     "output_type": "stream",
     "text": [
      "d1 4.0\n",
      "d2 3.9999699999999994\n",
      "Derivative w. r. to a = -3.000000000064062\n"
     ]
    }
   ],
   "execution_count": 51
  },
  {
   "cell_type": "markdown",
   "metadata": {},
   "source": [
    "*The partial derivative with respect to $a$ of $f$ at $a=2, b=-3, c=10$ is -3.*\n",
    "\n",
    "*Proving this with the analytical approach gives us $\\frac{\\partial f}{\\partial a} = b$.*"
   ]
  },
  {
   "cell_type": "code",
   "metadata": {
    "ExecuteTime": {
     "end_time": "2024-12-08T16:08:17.812747Z",
     "start_time": "2024-12-08T16:08:17.810285Z"
    }
   },
   "source": [
    "# Partial derivatis for f with respect to b & c\n",
    "\n",
    "h = 0.00001\n",
    "\n",
    "# Inputs\n",
    "a = 2.0\n",
    "b = -3.0\n",
    "c = 10.0\n",
    "\n",
    "d3 = f(a, b+h, c)\n",
    "d4 = f(a, b, c+h)\n",
    "\n",
    "print(\"d3\", d3)\n",
    "print(\"Derivative w. r. to b =\", ((d3 - d1) / h))\n",
    "print(\"d3\", d4)\n",
    "print(\"Derivative w. r. to c =\", ((d4 - d1) / h))"
   ],
   "outputs": [
    {
     "name": "stdout",
     "output_type": "stream",
     "text": [
      "d3 4.00002\n",
      "Derivative w. r. to b = 2.0000000000131024\n",
      "d3 4.00001\n",
      "Derivative w. r. to c = 0.9999999999621422\n"
     ]
    }
   ],
   "execution_count": 52
  },
  {
   "cell_type": "markdown",
   "metadata": {},
   "source": [
    "$$\\frac{\\partial f}{\\partial b} = a$$\n",
    "\n",
    "$$\\frac{\\partial f}{\\partial c} = 1$$"
   ]
  },
  {
   "cell_type": "markdown",
   "metadata": {},
   "source": [
    "# Neural Networks"
   ]
  },
  {
   "cell_type": "code",
   "metadata": {
    "ExecuteTime": {
     "end_time": "2024-12-08T16:08:17.838009Z",
     "start_time": "2024-12-08T16:08:17.833403Z"
    }
   },
   "source": [
    "class Value:\n",
    "\n",
    "    def __init__(self, data, _children=(), _op=\"\", label=\"\"):\n",
    "        self.data = data\n",
    "        self.grad = 0.0\n",
    "        self._backward = lambda: None\n",
    "        self._prev = set(_children)\n",
    "        self._op = _op\n",
    "        self.label = label\n",
    "\n",
    "    def __repr__(self):\n",
    "        return f\"{self.label if self.label is not None else 'NoName'}: {self.data}\"\n",
    "    \n",
    "    def __add__(self, other):\n",
    "        out = Value(self.data + other.data, (self, other), \"+\")\n",
    "        def _backward():\n",
    "            self.grad = out.grad\n",
    "            other.grad = out.grad\n",
    "        out._backward = _backward\n",
    "        return out\n",
    "\n",
    "    def __mul__(self, other):\n",
    "        out = Value(self.data * other.data, (self, other), \"*\")\n",
    "        def _backward():\n",
    "            self.grad = out.grad * other.data\n",
    "            other.grad = out.grad * self.data\n",
    "        out._backward = _backward\n",
    "        return out\n",
    "\n",
    "    def tanh(self):\n",
    "        t = (math.exp(2*self.data) - 1) / (math.exp(2*self.data) + 1)\n",
    "        out = Value(t, (self, ), \"tanh\")\n",
    "        def _backward():\n",
    "            self.grad = (1 - t**2) * out.grad\n",
    "        out._backward = _backward\n",
    "        return out\n",
    "\n",
    "    def copy(self):\n",
    "        return Value(self.data, self._prev, self._op, self.label)"
   ],
   "outputs": [],
   "execution_count": 53
  },
  {
   "cell_type": "code",
   "metadata": {
    "ExecuteTime": {
     "end_time": "2024-12-08T16:08:17.849797Z",
     "start_time": "2024-12-08T16:08:17.846387Z"
    }
   },
   "source": [
    "from graphviz import Digraph\n",
    "\n",
    "def trace(root):\n",
    "    nodes , edges = set(), set()\n",
    "    def build(v):\n",
    "        if v not in nodes:\n",
    "            nodes.add(v)\n",
    "            for child in v._prev:\n",
    "                edges.add((child, v))\n",
    "                build(child)\n",
    "    build(root)\n",
    "    return nodes, edges\n",
    "\n",
    "def draw_dot(root):\n",
    "    dot = Digraph(format=\"svg\", graph_attr={\"rankdir\": \"LR\"})\n",
    "\n",
    "    nodes, edges = trace(root)\n",
    "    for n in nodes:\n",
    "        uid = str(id(n))\n",
    "        dot.node(name = uid, label = \"{ %s | data %.4f | grad %.4f }}\" % (n.label, n.data, n.grad), shape=\"record\")\n",
    "        if n._op:\n",
    "            dot.node(name = uid + n._op, label=n._op)\n",
    "            dot.edge(uid + n._op, uid)\n",
    "\n",
    "    for n1, n2 in edges:\n",
    "        dot.edge(str(id(n1)), str(id(n2)) + n2._op)\n",
    "\n",
    "    return dot"
   ],
   "outputs": [],
   "execution_count": 54
  },
  {
   "cell_type": "markdown",
   "metadata": {},
   "source": [
    "## Manual Backpropagation for the Function\n",
    "\n",
    "$$\n",
    "L(a, b, c, d) = ((a \\times b) + c) \\times d\n",
    "$$"
   ]
  },
  {
   "cell_type": "markdown",
   "metadata": {},
   "source": [
    "Or\n",
    "\n",
    "$$\n",
    "L(a, b, c, d) = L(f(e(a, b), c), d), \n",
    "$$\n",
    "\n",
    "with\n",
    "\n",
    "$$\n",
    "e(a, b) = a \\times b, \n",
    "$$\n",
    "$$\n",
    "f(e, c) = e + c, \n",
    "$$\n",
    "$$\n",
    "L(f, d) = f \\times d\n",
    "$$"
   ]
  },
  {
   "cell_type": "markdown",
   "metadata": {},
   "source": [
    "### Building the Computation Graph"
   ]
  },
  {
   "cell_type": "code",
   "metadata": {
    "ExecuteTime": {
     "end_time": "2024-12-08T16:08:17.862739Z",
     "start_time": "2024-12-08T16:08:17.860335Z"
    }
   },
   "source": [
    "# Input\n",
    "a = Value(2.0, label=\"a\")\n",
    "b = Value(-3.0, label=\"b\")\n",
    "c = Value(10, label=\"c\")\n",
    "d = Value(-2.0, label=\"d\")\n",
    "\n",
    "# Itermetiate nodes\n",
    "e = a * b; e.label = \"e\"\n",
    "f = e + c; f.label = \"f\"\n",
    "L = f * d; L.label = \"L\""
   ],
   "outputs": [],
   "execution_count": 55
  },
  {
   "cell_type": "code",
   "metadata": {
    "ExecuteTime": {
     "end_time": "2024-12-08T16:08:17.967549Z",
     "start_time": "2024-12-08T16:08:17.865829Z"
    }
   },
   "source": [
    "draw_dot(L)"
   ],
   "outputs": [
    {
     "data": {
      "image/svg+xml": "<?xml version=\"1.0\" encoding=\"UTF-8\" standalone=\"no\"?>\n<!DOCTYPE svg PUBLIC \"-//W3C//DTD SVG 1.1//EN\"\n \"http://www.w3.org/Graphics/SVG/1.1/DTD/svg11.dtd\">\n<!-- Generated by graphviz version 12.2.0 (20241103.1931)\n -->\n<!-- Pages: 1 -->\n<svg width=\"1142pt\" height=\"154pt\"\n viewBox=\"0.00 0.00 1142.00 154.00\" xmlns=\"http://www.w3.org/2000/svg\" xmlns:xlink=\"http://www.w3.org/1999/xlink\">\n<g id=\"graph0\" class=\"graph\" transform=\"scale(1 1) rotate(0) translate(4 150)\">\n<polygon fill=\"white\" stroke=\"none\" points=\"-4,4 -4,-150 1138,-150 1138,4 -4,4\"/>\n<!-- 5101294672 -->\n<g id=\"node1\" class=\"node\">\n<title>5101294672</title>\n<polygon fill=\"none\" stroke=\"black\" points=\"633.38,-54.5 633.38,-90.5 814.88,-90.5 814.88,-54.5 633.38,-54.5\"/>\n<text text-anchor=\"middle\" x=\"643.62\" y=\"-67.7\" font-family=\"Times,serif\" font-size=\"14.00\">f</text>\n<polyline fill=\"none\" stroke=\"black\" points=\"653.88,-55 653.88,-90.5\"/>\n<text text-anchor=\"middle\" x=\"693.75\" y=\"-67.7\" font-family=\"Times,serif\" font-size=\"14.00\">data 4.0000</text>\n<polyline fill=\"none\" stroke=\"black\" points=\"733.62,-55 733.62,-90.5\"/>\n<text text-anchor=\"middle\" x=\"774.25\" y=\"-67.7\" font-family=\"Times,serif\" font-size=\"14.00\">grad 0.0000</text>\n</g>\n<!-- 5101302208* -->\n<g id=\"node10\" class=\"node\">\n<title>5101302208*</title>\n<ellipse fill=\"none\" stroke=\"black\" cx=\"881.25\" cy=\"-99.5\" rx=\"27\" ry=\"18\"/>\n<text text-anchor=\"middle\" x=\"881.25\" y=\"-94.45\" font-family=\"Times,serif\" font-size=\"14.00\">*</text>\n</g>\n<!-- 5101294672&#45;&gt;5101302208* -->\n<g id=\"edge7\" class=\"edge\">\n<title>5101294672&#45;&gt;5101302208*</title>\n<path fill=\"none\" stroke=\"black\" d=\"M815.36,-88.21C825.26,-89.93 834.87,-91.6 843.54,-93.11\"/>\n<polygon fill=\"black\" stroke=\"black\" points=\"842.76,-96.53 853.21,-94.79 843.96,-89.63 842.76,-96.53\"/>\n</g>\n<!-- 5101294672+ -->\n<g id=\"node2\" class=\"node\">\n<title>5101294672+</title>\n<ellipse fill=\"none\" stroke=\"black\" cx=\"567\" cy=\"-72.5\" rx=\"27\" ry=\"18\"/>\n<text text-anchor=\"middle\" x=\"567\" y=\"-67.45\" font-family=\"Times,serif\" font-size=\"14.00\">+</text>\n</g>\n<!-- 5101294672+&#45;&gt;5101294672 -->\n<g id=\"edge1\" class=\"edge\">\n<title>5101294672+&#45;&gt;5101294672</title>\n<path fill=\"none\" stroke=\"black\" d=\"M594.31,-72.5C602.35,-72.5 611.72,-72.5 621.67,-72.5\"/>\n<polygon fill=\"black\" stroke=\"black\" points=\"621.6,-76 631.6,-72.5 621.6,-69 621.6,-76\"/>\n</g>\n<!-- 5101974624 -->\n<g id=\"node3\" class=\"node\">\n<title>5101974624</title>\n<polygon fill=\"none\" stroke=\"black\" points=\"0,-55.5 0,-91.5 188.25,-91.5 188.25,-55.5 0,-55.5\"/>\n<text text-anchor=\"middle\" x=\"11.38\" y=\"-68.7\" font-family=\"Times,serif\" font-size=\"14.00\">b</text>\n<polyline fill=\"none\" stroke=\"black\" points=\"22.75,-56 22.75,-91.5\"/>\n<text text-anchor=\"middle\" x=\"64.88\" y=\"-68.7\" font-family=\"Times,serif\" font-size=\"14.00\">data &#45;3.0000</text>\n<polyline fill=\"none\" stroke=\"black\" points=\"107,-56 107,-91.5\"/>\n<text text-anchor=\"middle\" x=\"147.62\" y=\"-68.7\" font-family=\"Times,serif\" font-size=\"14.00\">grad 0.0000</text>\n</g>\n<!-- 5101289680* -->\n<g id=\"node7\" class=\"node\">\n<title>5101289680*</title>\n<ellipse fill=\"none\" stroke=\"black\" cx=\"251.25\" cy=\"-45.5\" rx=\"27\" ry=\"18\"/>\n<text text-anchor=\"middle\" x=\"251.25\" y=\"-40.45\" font-family=\"Times,serif\" font-size=\"14.00\">*</text>\n</g>\n<!-- 5101974624&#45;&gt;5101289680* -->\n<g id=\"edge6\" class=\"edge\">\n<title>5101974624&#45;&gt;5101289680*</title>\n<path fill=\"none\" stroke=\"black\" d=\"M188.49,-56.65C197.36,-55.05 205.93,-53.5 213.73,-52.09\"/>\n<polygon fill=\"black\" stroke=\"black\" points=\"214.2,-55.56 223.42,-50.34 212.95,-48.68 214.2,-55.56\"/>\n</g>\n<!-- 5101973136 -->\n<g id=\"node4\" class=\"node\">\n<title>5101973136</title>\n<polygon fill=\"none\" stroke=\"black\" points=\"630,-109.5 630,-145.5 818.25,-145.5 818.25,-109.5 630,-109.5\"/>\n<text text-anchor=\"middle\" x=\"641.38\" y=\"-122.7\" font-family=\"Times,serif\" font-size=\"14.00\">d</text>\n<polyline fill=\"none\" stroke=\"black\" points=\"652.75,-110 652.75,-145.5\"/>\n<text text-anchor=\"middle\" x=\"694.88\" y=\"-122.7\" font-family=\"Times,serif\" font-size=\"14.00\">data &#45;2.0000</text>\n<polyline fill=\"none\" stroke=\"black\" points=\"737,-110 737,-145.5\"/>\n<text text-anchor=\"middle\" x=\"777.62\" y=\"-122.7\" font-family=\"Times,serif\" font-size=\"14.00\">grad 0.0000</text>\n</g>\n<!-- 5101973136&#45;&gt;5101302208* -->\n<g id=\"edge8\" class=\"edge\">\n<title>5101973136&#45;&gt;5101302208*</title>\n<path fill=\"none\" stroke=\"black\" d=\"M818.49,-110.65C827.36,-109.05 835.93,-107.5 843.73,-106.09\"/>\n<polygon fill=\"black\" stroke=\"black\" points=\"844.2,-109.56 853.42,-104.34 842.95,-102.68 844.2,-109.56\"/>\n</g>\n<!-- 5101973184 -->\n<g id=\"node5\" class=\"node\">\n<title>5101973184</title>\n<polygon fill=\"none\" stroke=\"black\" points=\"314.25,-82.5 314.25,-118.5 504,-118.5 504,-82.5 314.25,-82.5\"/>\n<text text-anchor=\"middle\" x=\"325.25\" y=\"-95.7\" font-family=\"Times,serif\" font-size=\"14.00\">c</text>\n<polyline fill=\"none\" stroke=\"black\" points=\"336.25,-83 336.25,-118.5\"/>\n<text text-anchor=\"middle\" x=\"379.5\" y=\"-95.7\" font-family=\"Times,serif\" font-size=\"14.00\">data 10.0000</text>\n<polyline fill=\"none\" stroke=\"black\" points=\"422.75,-83 422.75,-118.5\"/>\n<text text-anchor=\"middle\" x=\"463.38\" y=\"-95.7\" font-family=\"Times,serif\" font-size=\"14.00\">grad 0.0000</text>\n</g>\n<!-- 5101973184&#45;&gt;5101294672+ -->\n<g id=\"edge4\" class=\"edge\">\n<title>5101973184&#45;&gt;5101294672+</title>\n<path fill=\"none\" stroke=\"black\" d=\"M504.39,-83.57C513.16,-81.99 521.65,-80.47 529.37,-79.08\"/>\n<polygon fill=\"black\" stroke=\"black\" points=\"529.73,-82.57 538.95,-77.36 528.49,-75.68 529.73,-82.57\"/>\n</g>\n<!-- 5101289680 -->\n<g id=\"node6\" class=\"node\">\n<title>5101289680</title>\n<polygon fill=\"none\" stroke=\"black\" points=\"315.38,-27.5 315.38,-63.5 502.88,-63.5 502.88,-27.5 315.38,-27.5\"/>\n<text text-anchor=\"middle\" x=\"326.38\" y=\"-40.7\" font-family=\"Times,serif\" font-size=\"14.00\">e</text>\n<polyline fill=\"none\" stroke=\"black\" points=\"337.38,-28 337.38,-63.5\"/>\n<text text-anchor=\"middle\" x=\"379.5\" y=\"-40.7\" font-family=\"Times,serif\" font-size=\"14.00\">data &#45;6.0000</text>\n<polyline fill=\"none\" stroke=\"black\" points=\"421.62,-28 421.62,-63.5\"/>\n<text text-anchor=\"middle\" x=\"462.25\" y=\"-40.7\" font-family=\"Times,serif\" font-size=\"14.00\">grad 0.0000</text>\n</g>\n<!-- 5101289680&#45;&gt;5101294672+ -->\n<g id=\"edge5\" class=\"edge\">\n<title>5101289680&#45;&gt;5101294672+</title>\n<path fill=\"none\" stroke=\"black\" d=\"M503.05,-61.6C512.25,-63.19 521.16,-64.73 529.24,-66.13\"/>\n<polygon fill=\"black\" stroke=\"black\" points=\"528.48,-69.55 538.93,-67.81 529.68,-62.66 528.48,-69.55\"/>\n</g>\n<!-- 5101289680*&#45;&gt;5101289680 -->\n<g id=\"edge2\" class=\"edge\">\n<title>5101289680*&#45;&gt;5101289680</title>\n<path fill=\"none\" stroke=\"black\" d=\"M278.69,-45.5C286.1,-45.5 294.64,-45.5 303.71,-45.5\"/>\n<polygon fill=\"black\" stroke=\"black\" points=\"303.51,-49 313.51,-45.5 303.51,-42 303.51,-49\"/>\n</g>\n<!-- 5101974864 -->\n<g id=\"node8\" class=\"node\">\n<title>5101974864</title>\n<polygon fill=\"none\" stroke=\"black\" points=\"2.62,-0.5 2.62,-36.5 185.62,-36.5 185.62,-0.5 2.62,-0.5\"/>\n<text text-anchor=\"middle\" x=\"13.62\" y=\"-13.7\" font-family=\"Times,serif\" font-size=\"14.00\">a</text>\n<polyline fill=\"none\" stroke=\"black\" points=\"24.62,-1 24.62,-36.5\"/>\n<text text-anchor=\"middle\" x=\"64.5\" y=\"-13.7\" font-family=\"Times,serif\" font-size=\"14.00\">data 2.0000</text>\n<polyline fill=\"none\" stroke=\"black\" points=\"104.38,-1 104.38,-36.5\"/>\n<text text-anchor=\"middle\" x=\"145\" y=\"-13.7\" font-family=\"Times,serif\" font-size=\"14.00\">grad 0.0000</text>\n</g>\n<!-- 5101974864&#45;&gt;5101289680* -->\n<g id=\"edge9\" class=\"edge\">\n<title>5101974864&#45;&gt;5101289680*</title>\n<path fill=\"none\" stroke=\"black\" d=\"M185.81,-34.28C195.45,-35.96 204.82,-37.59 213.29,-39.07\"/>\n<polygon fill=\"black\" stroke=\"black\" points=\"212.65,-42.51 223.1,-40.77 213.85,-35.61 212.65,-42.51\"/>\n</g>\n<!-- 5101302208 -->\n<g id=\"node9\" class=\"node\">\n<title>5101302208</title>\n<polygon fill=\"none\" stroke=\"black\" points=\"944.25,-81.5 944.25,-117.5 1134,-117.5 1134,-81.5 944.25,-81.5\"/>\n<text text-anchor=\"middle\" x=\"956.38\" y=\"-94.7\" font-family=\"Times,serif\" font-size=\"14.00\">L</text>\n<polyline fill=\"none\" stroke=\"black\" points=\"968.5,-82 968.5,-117.5\"/>\n<text text-anchor=\"middle\" x=\"1010.62\" y=\"-94.7\" font-family=\"Times,serif\" font-size=\"14.00\">data &#45;8.0000</text>\n<polyline fill=\"none\" stroke=\"black\" points=\"1052.75,-82 1052.75,-117.5\"/>\n<text text-anchor=\"middle\" x=\"1093.38\" y=\"-94.7\" font-family=\"Times,serif\" font-size=\"14.00\">grad 0.0000</text>\n</g>\n<!-- 5101302208*&#45;&gt;5101302208 -->\n<g id=\"edge3\" class=\"edge\">\n<title>5101302208*&#45;&gt;5101302208</title>\n<path fill=\"none\" stroke=\"black\" d=\"M908.69,-99.5C915.84,-99.5 924.03,-99.5 932.74,-99.5\"/>\n<polygon fill=\"black\" stroke=\"black\" points=\"932.51,-103 942.51,-99.5 932.51,-96 932.51,-103\"/>\n</g>\n</g>\n</svg>\n",
      "text/plain": [
       "<graphviz.graphs.Digraph at 0x13019ea40>"
      ]
     },
     "execution_count": 56,
     "metadata": {},
     "output_type": "execute_result"
    }
   ],
   "execution_count": 56
  },
  {
   "cell_type": "markdown",
   "metadata": {},
   "source": [
    "### Backpropagation Step 1: **L**"
   ]
  },
  {
   "cell_type": "markdown",
   "metadata": {},
   "source": [
    "The derivative of L with respect to L is 1.\n",
    "$$ \\frac{\\partial L}{\\partial L} = 1.0 $$\n",
    "$$ \\frac{\\partial \\text{ dependant var}\\ }{\\partial \\text{ independant var}\\ } = derivative $$"
   ]
  },
  {
   "cell_type": "code",
   "metadata": {
    "ExecuteTime": {
     "end_time": "2024-12-08T16:08:18.057860Z",
     "start_time": "2024-12-08T16:08:17.976933Z"
    }
   },
   "source": [
    "def partial_using_lim(dependent_var, independent_var, h=1e-4):\n",
    "    list_of_values = [dependent_var.copy()]\n",
    "    val1 = list_of_values[0].data\n",
    "\n",
    "    def _copy_graph(current_value, independent_var, list_of_values):\n",
    "        children = list(current_value._prev)\n",
    "        if current_value.label == independent_var.label:\n",
    "            current_value.data += h\n",
    "            current_value._prev = set()\n",
    "        elif len(children) == 1:\n",
    "            new_children = [children[0].copy()]\n",
    "            list_of_values.append(new_children[0])\n",
    "            current_value._prev = set(new_children)\n",
    "            list_of_values = _copy_graph(new_children[0], independent_var, list_of_values)\n",
    "        elif len(children) > 1:\n",
    "            order = [1, 0]\n",
    "            if children[0]._prev == set():\n",
    "                order = [0, 1]\n",
    "            new_children = [children[order[i]].copy() for i in range(2)]\n",
    "            list_of_values.append(new_children[0])\n",
    "            list_of_values.append(new_children[1])\n",
    "            current_value._prev = set(new_children)\n",
    "            list_of_values = _copy_graph(new_children[0], independent_var, list_of_values)\n",
    "            list_of_values = _copy_graph(new_children[1], independent_var, list_of_values)\n",
    "        return list_of_values\n",
    "    \n",
    "    def _update_graph(value):\n",
    "        if value._prev != set():\n",
    "            children = list(value._prev)\n",
    "            for child in children:\n",
    "                _update_graph(child)\n",
    "            if value._op == \"*\":\n",
    "                value.data = children[0].data * children[1].data\n",
    "            elif value._op == \"+\":\n",
    "                value.data = children[0].data + children[1].data\n",
    "            elif value._op == \"tanh\":\n",
    "                value.data = (math.exp(2*children[0].data) - 1) / (math.exp(2*children[0].data) + 1)\n",
    "    \n",
    "    list_of_values = _copy_graph(list_of_values[0], independent_var, list_of_values)\n",
    "    _update_graph(list_of_values[0])\n",
    "    val2 = list_of_values[0].data\n",
    "\n",
    "    return draw_dot(list_of_values[0]), ((val2 - val1) / h)\n",
    "\n",
    "dot, derivative = partial_using_lim(L, L)\n",
    "print(derivative)\n",
    "dot\n"
   ],
   "outputs": [
    {
     "name": "stdout",
     "output_type": "stream",
     "text": [
      "0.9999999999976694\n"
     ]
    },
    {
     "data": {
      "image/svg+xml": "<?xml version=\"1.0\" encoding=\"UTF-8\" standalone=\"no\"?>\n<!DOCTYPE svg PUBLIC \"-//W3C//DTD SVG 1.1//EN\"\n \"http://www.w3.org/Graphics/SVG/1.1/DTD/svg11.dtd\">\n<!-- Generated by graphviz version 12.2.0 (20241103.1931)\n -->\n<!-- Pages: 1 -->\n<svg width=\"288pt\" height=\"45pt\"\n viewBox=\"0.00 0.00 287.75 45.00\" xmlns=\"http://www.w3.org/2000/svg\" xmlns:xlink=\"http://www.w3.org/1999/xlink\">\n<g id=\"graph0\" class=\"graph\" transform=\"scale(1 1) rotate(0) translate(4 41)\">\n<polygon fill=\"white\" stroke=\"none\" points=\"-4,4 -4,-41 283.75,-41 283.75,4 -4,4\"/>\n<!-- 5101222208 -->\n<g id=\"node1\" class=\"node\">\n<title>5101222208</title>\n<polygon fill=\"none\" stroke=\"black\" points=\"90,-0.5 90,-36.5 279.75,-36.5 279.75,-0.5 90,-0.5\"/>\n<text text-anchor=\"middle\" x=\"102.12\" y=\"-13.7\" font-family=\"Times,serif\" font-size=\"14.00\">L</text>\n<polyline fill=\"none\" stroke=\"black\" points=\"114.25,-1 114.25,-36.5\"/>\n<text text-anchor=\"middle\" x=\"156.38\" y=\"-13.7\" font-family=\"Times,serif\" font-size=\"14.00\">data &#45;7.9999</text>\n<polyline fill=\"none\" stroke=\"black\" points=\"198.5,-1 198.5,-36.5\"/>\n<text text-anchor=\"middle\" x=\"239.12\" y=\"-13.7\" font-family=\"Times,serif\" font-size=\"14.00\">grad 0.0000</text>\n</g>\n<!-- 5101222208* -->\n<g id=\"node2\" class=\"node\">\n<title>5101222208*</title>\n<ellipse fill=\"none\" stroke=\"black\" cx=\"27\" cy=\"-18.5\" rx=\"27\" ry=\"18\"/>\n<text text-anchor=\"middle\" x=\"27\" y=\"-13.45\" font-family=\"Times,serif\" font-size=\"14.00\">*</text>\n</g>\n<!-- 5101222208*&#45;&gt;5101222208 -->\n<g id=\"edge1\" class=\"edge\">\n<title>5101222208*&#45;&gt;5101222208</title>\n<path fill=\"none\" stroke=\"black\" d=\"M54.44,-18.5C61.59,-18.5 69.78,-18.5 78.49,-18.5\"/>\n<polygon fill=\"black\" stroke=\"black\" points=\"78.26,-22 88.26,-18.5 78.26,-15 78.26,-22\"/>\n</g>\n</g>\n</svg>\n",
      "text/plain": [
       "<graphviz.graphs.Digraph at 0x1300e7a00>"
      ]
     },
     "execution_count": 57,
     "metadata": {},
     "output_type": "execute_result"
    }
   ],
   "execution_count": 57
  },
  {
   "cell_type": "code",
   "metadata": {
    "ExecuteTime": {
     "end_time": "2024-12-08T16:08:18.145554Z",
     "start_time": "2024-12-08T16:08:18.065160Z"
    }
   },
   "source": [
    "L.grad = 1.0\n",
    "draw_dot(L)"
   ],
   "outputs": [
    {
     "data": {
      "image/svg+xml": "<?xml version=\"1.0\" encoding=\"UTF-8\" standalone=\"no\"?>\n<!DOCTYPE svg PUBLIC \"-//W3C//DTD SVG 1.1//EN\"\n \"http://www.w3.org/Graphics/SVG/1.1/DTD/svg11.dtd\">\n<!-- Generated by graphviz version 12.2.0 (20241103.1931)\n -->\n<!-- Pages: 1 -->\n<svg width=\"1142pt\" height=\"154pt\"\n viewBox=\"0.00 0.00 1142.00 154.00\" xmlns=\"http://www.w3.org/2000/svg\" xmlns:xlink=\"http://www.w3.org/1999/xlink\">\n<g id=\"graph0\" class=\"graph\" transform=\"scale(1 1) rotate(0) translate(4 150)\">\n<polygon fill=\"white\" stroke=\"none\" points=\"-4,4 -4,-150 1138,-150 1138,4 -4,4\"/>\n<!-- 5101294672 -->\n<g id=\"node1\" class=\"node\">\n<title>5101294672</title>\n<polygon fill=\"none\" stroke=\"black\" points=\"633.38,-54.5 633.38,-90.5 814.88,-90.5 814.88,-54.5 633.38,-54.5\"/>\n<text text-anchor=\"middle\" x=\"643.62\" y=\"-67.7\" font-family=\"Times,serif\" font-size=\"14.00\">f</text>\n<polyline fill=\"none\" stroke=\"black\" points=\"653.88,-55 653.88,-90.5\"/>\n<text text-anchor=\"middle\" x=\"693.75\" y=\"-67.7\" font-family=\"Times,serif\" font-size=\"14.00\">data 4.0000</text>\n<polyline fill=\"none\" stroke=\"black\" points=\"733.62,-55 733.62,-90.5\"/>\n<text text-anchor=\"middle\" x=\"774.25\" y=\"-67.7\" font-family=\"Times,serif\" font-size=\"14.00\">grad 0.0000</text>\n</g>\n<!-- 5101302208* -->\n<g id=\"node10\" class=\"node\">\n<title>5101302208*</title>\n<ellipse fill=\"none\" stroke=\"black\" cx=\"881.25\" cy=\"-99.5\" rx=\"27\" ry=\"18\"/>\n<text text-anchor=\"middle\" x=\"881.25\" y=\"-94.45\" font-family=\"Times,serif\" font-size=\"14.00\">*</text>\n</g>\n<!-- 5101294672&#45;&gt;5101302208* -->\n<g id=\"edge7\" class=\"edge\">\n<title>5101294672&#45;&gt;5101302208*</title>\n<path fill=\"none\" stroke=\"black\" d=\"M815.36,-88.21C825.26,-89.93 834.87,-91.6 843.54,-93.11\"/>\n<polygon fill=\"black\" stroke=\"black\" points=\"842.76,-96.53 853.21,-94.79 843.96,-89.63 842.76,-96.53\"/>\n</g>\n<!-- 5101294672+ -->\n<g id=\"node2\" class=\"node\">\n<title>5101294672+</title>\n<ellipse fill=\"none\" stroke=\"black\" cx=\"567\" cy=\"-72.5\" rx=\"27\" ry=\"18\"/>\n<text text-anchor=\"middle\" x=\"567\" y=\"-67.45\" font-family=\"Times,serif\" font-size=\"14.00\">+</text>\n</g>\n<!-- 5101294672+&#45;&gt;5101294672 -->\n<g id=\"edge1\" class=\"edge\">\n<title>5101294672+&#45;&gt;5101294672</title>\n<path fill=\"none\" stroke=\"black\" d=\"M594.31,-72.5C602.35,-72.5 611.72,-72.5 621.67,-72.5\"/>\n<polygon fill=\"black\" stroke=\"black\" points=\"621.6,-76 631.6,-72.5 621.6,-69 621.6,-76\"/>\n</g>\n<!-- 5101974624 -->\n<g id=\"node3\" class=\"node\">\n<title>5101974624</title>\n<polygon fill=\"none\" stroke=\"black\" points=\"0,-55.5 0,-91.5 188.25,-91.5 188.25,-55.5 0,-55.5\"/>\n<text text-anchor=\"middle\" x=\"11.38\" y=\"-68.7\" font-family=\"Times,serif\" font-size=\"14.00\">b</text>\n<polyline fill=\"none\" stroke=\"black\" points=\"22.75,-56 22.75,-91.5\"/>\n<text text-anchor=\"middle\" x=\"64.88\" y=\"-68.7\" font-family=\"Times,serif\" font-size=\"14.00\">data &#45;3.0000</text>\n<polyline fill=\"none\" stroke=\"black\" points=\"107,-56 107,-91.5\"/>\n<text text-anchor=\"middle\" x=\"147.62\" y=\"-68.7\" font-family=\"Times,serif\" font-size=\"14.00\">grad 0.0000</text>\n</g>\n<!-- 5101289680* -->\n<g id=\"node7\" class=\"node\">\n<title>5101289680*</title>\n<ellipse fill=\"none\" stroke=\"black\" cx=\"251.25\" cy=\"-45.5\" rx=\"27\" ry=\"18\"/>\n<text text-anchor=\"middle\" x=\"251.25\" y=\"-40.45\" font-family=\"Times,serif\" font-size=\"14.00\">*</text>\n</g>\n<!-- 5101974624&#45;&gt;5101289680* -->\n<g id=\"edge6\" class=\"edge\">\n<title>5101974624&#45;&gt;5101289680*</title>\n<path fill=\"none\" stroke=\"black\" d=\"M188.49,-56.65C197.36,-55.05 205.93,-53.5 213.73,-52.09\"/>\n<polygon fill=\"black\" stroke=\"black\" points=\"214.2,-55.56 223.42,-50.34 212.95,-48.68 214.2,-55.56\"/>\n</g>\n<!-- 5101973136 -->\n<g id=\"node4\" class=\"node\">\n<title>5101973136</title>\n<polygon fill=\"none\" stroke=\"black\" points=\"630,-109.5 630,-145.5 818.25,-145.5 818.25,-109.5 630,-109.5\"/>\n<text text-anchor=\"middle\" x=\"641.38\" y=\"-122.7\" font-family=\"Times,serif\" font-size=\"14.00\">d</text>\n<polyline fill=\"none\" stroke=\"black\" points=\"652.75,-110 652.75,-145.5\"/>\n<text text-anchor=\"middle\" x=\"694.88\" y=\"-122.7\" font-family=\"Times,serif\" font-size=\"14.00\">data &#45;2.0000</text>\n<polyline fill=\"none\" stroke=\"black\" points=\"737,-110 737,-145.5\"/>\n<text text-anchor=\"middle\" x=\"777.62\" y=\"-122.7\" font-family=\"Times,serif\" font-size=\"14.00\">grad 0.0000</text>\n</g>\n<!-- 5101973136&#45;&gt;5101302208* -->\n<g id=\"edge8\" class=\"edge\">\n<title>5101973136&#45;&gt;5101302208*</title>\n<path fill=\"none\" stroke=\"black\" d=\"M818.49,-110.65C827.36,-109.05 835.93,-107.5 843.73,-106.09\"/>\n<polygon fill=\"black\" stroke=\"black\" points=\"844.2,-109.56 853.42,-104.34 842.95,-102.68 844.2,-109.56\"/>\n</g>\n<!-- 5101973184 -->\n<g id=\"node5\" class=\"node\">\n<title>5101973184</title>\n<polygon fill=\"none\" stroke=\"black\" points=\"314.25,-82.5 314.25,-118.5 504,-118.5 504,-82.5 314.25,-82.5\"/>\n<text text-anchor=\"middle\" x=\"325.25\" y=\"-95.7\" font-family=\"Times,serif\" font-size=\"14.00\">c</text>\n<polyline fill=\"none\" stroke=\"black\" points=\"336.25,-83 336.25,-118.5\"/>\n<text text-anchor=\"middle\" x=\"379.5\" y=\"-95.7\" font-family=\"Times,serif\" font-size=\"14.00\">data 10.0000</text>\n<polyline fill=\"none\" stroke=\"black\" points=\"422.75,-83 422.75,-118.5\"/>\n<text text-anchor=\"middle\" x=\"463.38\" y=\"-95.7\" font-family=\"Times,serif\" font-size=\"14.00\">grad 0.0000</text>\n</g>\n<!-- 5101973184&#45;&gt;5101294672+ -->\n<g id=\"edge4\" class=\"edge\">\n<title>5101973184&#45;&gt;5101294672+</title>\n<path fill=\"none\" stroke=\"black\" d=\"M504.39,-83.57C513.16,-81.99 521.65,-80.47 529.37,-79.08\"/>\n<polygon fill=\"black\" stroke=\"black\" points=\"529.73,-82.57 538.95,-77.36 528.49,-75.68 529.73,-82.57\"/>\n</g>\n<!-- 5101289680 -->\n<g id=\"node6\" class=\"node\">\n<title>5101289680</title>\n<polygon fill=\"none\" stroke=\"black\" points=\"315.38,-27.5 315.38,-63.5 502.88,-63.5 502.88,-27.5 315.38,-27.5\"/>\n<text text-anchor=\"middle\" x=\"326.38\" y=\"-40.7\" font-family=\"Times,serif\" font-size=\"14.00\">e</text>\n<polyline fill=\"none\" stroke=\"black\" points=\"337.38,-28 337.38,-63.5\"/>\n<text text-anchor=\"middle\" x=\"379.5\" y=\"-40.7\" font-family=\"Times,serif\" font-size=\"14.00\">data &#45;6.0000</text>\n<polyline fill=\"none\" stroke=\"black\" points=\"421.62,-28 421.62,-63.5\"/>\n<text text-anchor=\"middle\" x=\"462.25\" y=\"-40.7\" font-family=\"Times,serif\" font-size=\"14.00\">grad 0.0000</text>\n</g>\n<!-- 5101289680&#45;&gt;5101294672+ -->\n<g id=\"edge5\" class=\"edge\">\n<title>5101289680&#45;&gt;5101294672+</title>\n<path fill=\"none\" stroke=\"black\" d=\"M503.05,-61.6C512.25,-63.19 521.16,-64.73 529.24,-66.13\"/>\n<polygon fill=\"black\" stroke=\"black\" points=\"528.48,-69.55 538.93,-67.81 529.68,-62.66 528.48,-69.55\"/>\n</g>\n<!-- 5101289680*&#45;&gt;5101289680 -->\n<g id=\"edge2\" class=\"edge\">\n<title>5101289680*&#45;&gt;5101289680</title>\n<path fill=\"none\" stroke=\"black\" d=\"M278.69,-45.5C286.1,-45.5 294.64,-45.5 303.71,-45.5\"/>\n<polygon fill=\"black\" stroke=\"black\" points=\"303.51,-49 313.51,-45.5 303.51,-42 303.51,-49\"/>\n</g>\n<!-- 5101974864 -->\n<g id=\"node8\" class=\"node\">\n<title>5101974864</title>\n<polygon fill=\"none\" stroke=\"black\" points=\"2.62,-0.5 2.62,-36.5 185.62,-36.5 185.62,-0.5 2.62,-0.5\"/>\n<text text-anchor=\"middle\" x=\"13.62\" y=\"-13.7\" font-family=\"Times,serif\" font-size=\"14.00\">a</text>\n<polyline fill=\"none\" stroke=\"black\" points=\"24.62,-1 24.62,-36.5\"/>\n<text text-anchor=\"middle\" x=\"64.5\" y=\"-13.7\" font-family=\"Times,serif\" font-size=\"14.00\">data 2.0000</text>\n<polyline fill=\"none\" stroke=\"black\" points=\"104.38,-1 104.38,-36.5\"/>\n<text text-anchor=\"middle\" x=\"145\" y=\"-13.7\" font-family=\"Times,serif\" font-size=\"14.00\">grad 0.0000</text>\n</g>\n<!-- 5101974864&#45;&gt;5101289680* -->\n<g id=\"edge9\" class=\"edge\">\n<title>5101974864&#45;&gt;5101289680*</title>\n<path fill=\"none\" stroke=\"black\" d=\"M185.81,-34.28C195.45,-35.96 204.82,-37.59 213.29,-39.07\"/>\n<polygon fill=\"black\" stroke=\"black\" points=\"212.65,-42.51 223.1,-40.77 213.85,-35.61 212.65,-42.51\"/>\n</g>\n<!-- 5101302208 -->\n<g id=\"node9\" class=\"node\">\n<title>5101302208</title>\n<polygon fill=\"none\" stroke=\"black\" points=\"944.25,-81.5 944.25,-117.5 1134,-117.5 1134,-81.5 944.25,-81.5\"/>\n<text text-anchor=\"middle\" x=\"956.38\" y=\"-94.7\" font-family=\"Times,serif\" font-size=\"14.00\">L</text>\n<polyline fill=\"none\" stroke=\"black\" points=\"968.5,-82 968.5,-117.5\"/>\n<text text-anchor=\"middle\" x=\"1010.62\" y=\"-94.7\" font-family=\"Times,serif\" font-size=\"14.00\">data &#45;8.0000</text>\n<polyline fill=\"none\" stroke=\"black\" points=\"1052.75,-82 1052.75,-117.5\"/>\n<text text-anchor=\"middle\" x=\"1093.38\" y=\"-94.7\" font-family=\"Times,serif\" font-size=\"14.00\">grad 1.0000</text>\n</g>\n<!-- 5101302208*&#45;&gt;5101302208 -->\n<g id=\"edge3\" class=\"edge\">\n<title>5101302208*&#45;&gt;5101302208</title>\n<path fill=\"none\" stroke=\"black\" d=\"M908.69,-99.5C915.84,-99.5 924.03,-99.5 932.74,-99.5\"/>\n<polygon fill=\"black\" stroke=\"black\" points=\"932.51,-103 942.51,-99.5 932.51,-96 932.51,-103\"/>\n</g>\n</g>\n</svg>\n",
      "text/plain": [
       "<graphviz.graphs.Digraph at 0x1300e6950>"
      ]
     },
     "execution_count": 58,
     "metadata": {},
     "output_type": "execute_result"
    }
   ],
   "execution_count": 58
  },
  {
   "cell_type": "markdown",
   "metadata": {},
   "source": [
    "### Backpropagation Step 2: **d** & **f**"
   ]
  },
  {
   "cell_type": "markdown",
   "metadata": {},
   "source": [
    "Knowing that $L(f, d) = f \\times d$, we can calculate the derivatives simply as\n",
    "\n",
    "$$\n",
    "\\frac{ \\partial L }{ \\partial d} = f\n",
    "$$\n",
    "\n",
    "and \n",
    "\n",
    "$$\n",
    "\\frac{\\partial L}{\\partial f} = d\n",
    "$$"
   ]
  },
  {
   "cell_type": "code",
   "metadata": {
    "ExecuteTime": {
     "end_time": "2024-12-08T16:08:18.230242Z",
     "start_time": "2024-12-08T16:08:18.153341Z"
    }
   },
   "source": [
    "# For d:\n",
    "\n",
    "dot, derivative = partial_using_lim(L, d)\n",
    "print(derivative)\n",
    "dot"
   ],
   "outputs": [
    {
     "name": "stdout",
     "output_type": "stream",
     "text": [
      "3.9999999999995595\n"
     ]
    },
    {
     "data": {
      "image/svg+xml": "<?xml version=\"1.0\" encoding=\"UTF-8\" standalone=\"no\"?>\n<!DOCTYPE svg PUBLIC \"-//W3C//DTD SVG 1.1//EN\"\n \"http://www.w3.org/Graphics/SVG/1.1/DTD/svg11.dtd\">\n<!-- Generated by graphviz version 12.2.0 (20241103.1931)\n -->\n<!-- Pages: 1 -->\n<svg width=\"1142pt\" height=\"128pt\"\n viewBox=\"0.00 0.00 1142.00 128.00\" xmlns=\"http://www.w3.org/2000/svg\" xmlns:xlink=\"http://www.w3.org/1999/xlink\">\n<g id=\"graph0\" class=\"graph\" transform=\"scale(1 1) rotate(0) translate(4 124)\">\n<polygon fill=\"white\" stroke=\"none\" points=\"-4,4 -4,-124 1138,-124 1138,4 -4,4\"/>\n<!-- 5101766208 -->\n<g id=\"node1\" class=\"node\">\n<title>5101766208</title>\n<polygon fill=\"none\" stroke=\"black\" points=\"314.25,-83.5 314.25,-119.5 504,-119.5 504,-83.5 314.25,-83.5\"/>\n<text text-anchor=\"middle\" x=\"325.25\" y=\"-96.7\" font-family=\"Times,serif\" font-size=\"14.00\">c</text>\n<polyline fill=\"none\" stroke=\"black\" points=\"336.25,-84 336.25,-119.5\"/>\n<text text-anchor=\"middle\" x=\"379.5\" y=\"-96.7\" font-family=\"Times,serif\" font-size=\"14.00\">data 10.0000</text>\n<polyline fill=\"none\" stroke=\"black\" points=\"422.75,-84 422.75,-119.5\"/>\n<text text-anchor=\"middle\" x=\"463.38\" y=\"-96.7\" font-family=\"Times,serif\" font-size=\"14.00\">grad 0.0000</text>\n</g>\n<!-- 5101222016+ -->\n<g id=\"node3\" class=\"node\">\n<title>5101222016+</title>\n<ellipse fill=\"none\" stroke=\"black\" cx=\"567\" cy=\"-73.5\" rx=\"27\" ry=\"18\"/>\n<text text-anchor=\"middle\" x=\"567\" y=\"-68.45\" font-family=\"Times,serif\" font-size=\"14.00\">+</text>\n</g>\n<!-- 5101766208&#45;&gt;5101222016+ -->\n<g id=\"edge6\" class=\"edge\">\n<title>5101766208&#45;&gt;5101222016+</title>\n<path fill=\"none\" stroke=\"black\" d=\"M504.39,-84.57C513.16,-82.99 521.65,-81.47 529.37,-80.08\"/>\n<polygon fill=\"black\" stroke=\"black\" points=\"529.73,-83.57 538.95,-78.36 528.49,-76.68 529.73,-83.57\"/>\n</g>\n<!-- 5101222016 -->\n<g id=\"node2\" class=\"node\">\n<title>5101222016</title>\n<polygon fill=\"none\" stroke=\"black\" points=\"633.38,-55.5 633.38,-91.5 814.88,-91.5 814.88,-55.5 633.38,-55.5\"/>\n<text text-anchor=\"middle\" x=\"643.62\" y=\"-68.7\" font-family=\"Times,serif\" font-size=\"14.00\">f</text>\n<polyline fill=\"none\" stroke=\"black\" points=\"653.88,-56 653.88,-91.5\"/>\n<text text-anchor=\"middle\" x=\"693.75\" y=\"-68.7\" font-family=\"Times,serif\" font-size=\"14.00\">data 4.0000</text>\n<polyline fill=\"none\" stroke=\"black\" points=\"733.62,-56 733.62,-91.5\"/>\n<text text-anchor=\"middle\" x=\"774.25\" y=\"-68.7\" font-family=\"Times,serif\" font-size=\"14.00\">grad 0.0000</text>\n</g>\n<!-- 5101216592* -->\n<g id=\"node10\" class=\"node\">\n<title>5101216592*</title>\n<ellipse fill=\"none\" stroke=\"black\" cx=\"881.25\" cy=\"-45.5\" rx=\"27\" ry=\"18\"/>\n<text text-anchor=\"middle\" x=\"881.25\" y=\"-40.45\" font-family=\"Times,serif\" font-size=\"14.00\">*</text>\n</g>\n<!-- 5101222016&#45;&gt;5101216592* -->\n<g id=\"edge5\" class=\"edge\">\n<title>5101222016&#45;&gt;5101216592*</title>\n<path fill=\"none\" stroke=\"black\" d=\"M815.36,-57.21C825.26,-55.43 834.87,-53.69 843.54,-52.13\"/>\n<polygon fill=\"black\" stroke=\"black\" points=\"843.99,-55.6 853.21,-50.38 842.75,-48.71 843.99,-55.6\"/>\n</g>\n<!-- 5101222016+&#45;&gt;5101222016 -->\n<g id=\"edge1\" class=\"edge\">\n<title>5101222016+&#45;&gt;5101222016</title>\n<path fill=\"none\" stroke=\"black\" d=\"M594.31,-73.5C602.35,-73.5 611.72,-73.5 621.67,-73.5\"/>\n<polygon fill=\"black\" stroke=\"black\" points=\"621.6,-77 631.6,-73.5 621.6,-70 621.6,-77\"/>\n</g>\n<!-- 5101766304 -->\n<g id=\"node4\" class=\"node\">\n<title>5101766304</title>\n<polygon fill=\"none\" stroke=\"black\" points=\"2.62,-56.5 2.62,-92.5 185.62,-92.5 185.62,-56.5 2.62,-56.5\"/>\n<text text-anchor=\"middle\" x=\"13.62\" y=\"-69.7\" font-family=\"Times,serif\" font-size=\"14.00\">a</text>\n<polyline fill=\"none\" stroke=\"black\" points=\"24.62,-57 24.62,-92.5\"/>\n<text text-anchor=\"middle\" x=\"64.5\" y=\"-69.7\" font-family=\"Times,serif\" font-size=\"14.00\">data 2.0000</text>\n<polyline fill=\"none\" stroke=\"black\" points=\"104.38,-57 104.38,-92.5\"/>\n<text text-anchor=\"middle\" x=\"145\" y=\"-69.7\" font-family=\"Times,serif\" font-size=\"14.00\">grad 0.0000</text>\n</g>\n<!-- 5101766976* -->\n<g id=\"node8\" class=\"node\">\n<title>5101766976*</title>\n<ellipse fill=\"none\" stroke=\"black\" cx=\"251.25\" cy=\"-46.5\" rx=\"27\" ry=\"18\"/>\n<text text-anchor=\"middle\" x=\"251.25\" y=\"-41.45\" font-family=\"Times,serif\" font-size=\"14.00\">*</text>\n</g>\n<!-- 5101766304&#45;&gt;5101766976* -->\n<g id=\"edge7\" class=\"edge\">\n<title>5101766304&#45;&gt;5101766976*</title>\n<path fill=\"none\" stroke=\"black\" d=\"M185.81,-58.13C195.66,-56.35 205.21,-54.63 213.82,-53.08\"/>\n<polygon fill=\"black\" stroke=\"black\" points=\"214.19,-56.57 223.41,-51.34 212.95,-49.68 214.19,-56.57\"/>\n</g>\n<!-- 5101765824 -->\n<g id=\"node5\" class=\"node\">\n<title>5101765824</title>\n<polygon fill=\"none\" stroke=\"black\" points=\"0,-1.5 0,-37.5 188.25,-37.5 188.25,-1.5 0,-1.5\"/>\n<text text-anchor=\"middle\" x=\"11.38\" y=\"-14.7\" font-family=\"Times,serif\" font-size=\"14.00\">b</text>\n<polyline fill=\"none\" stroke=\"black\" points=\"22.75,-2 22.75,-37.5\"/>\n<text text-anchor=\"middle\" x=\"64.88\" y=\"-14.7\" font-family=\"Times,serif\" font-size=\"14.00\">data &#45;3.0000</text>\n<polyline fill=\"none\" stroke=\"black\" points=\"107,-2 107,-37.5\"/>\n<text text-anchor=\"middle\" x=\"147.62\" y=\"-14.7\" font-family=\"Times,serif\" font-size=\"14.00\">grad 0.0000</text>\n</g>\n<!-- 5101765824&#45;&gt;5101766976* -->\n<g id=\"edge4\" class=\"edge\">\n<title>5101765824&#45;&gt;5101766976*</title>\n<path fill=\"none\" stroke=\"black\" d=\"M188.49,-35.75C197.27,-37.28 205.77,-38.76 213.51,-40.1\"/>\n<polygon fill=\"black\" stroke=\"black\" points=\"212.66,-43.51 223.11,-41.78 213.86,-36.61 212.66,-43.51\"/>\n</g>\n<!-- 5101217024 -->\n<g id=\"node6\" class=\"node\">\n<title>5101217024</title>\n<polygon fill=\"none\" stroke=\"black\" points=\"630,-0.5 630,-36.5 818.25,-36.5 818.25,-0.5 630,-0.5\"/>\n<text text-anchor=\"middle\" x=\"641.38\" y=\"-13.7\" font-family=\"Times,serif\" font-size=\"14.00\">d</text>\n<polyline fill=\"none\" stroke=\"black\" points=\"652.75,-1 652.75,-36.5\"/>\n<text text-anchor=\"middle\" x=\"694.88\" y=\"-13.7\" font-family=\"Times,serif\" font-size=\"14.00\">data &#45;1.9999</text>\n<polyline fill=\"none\" stroke=\"black\" points=\"737,-1 737,-36.5\"/>\n<text text-anchor=\"middle\" x=\"777.62\" y=\"-13.7\" font-family=\"Times,serif\" font-size=\"14.00\">grad 0.0000</text>\n</g>\n<!-- 5101217024&#45;&gt;5101216592* -->\n<g id=\"edge8\" class=\"edge\">\n<title>5101217024&#45;&gt;5101216592*</title>\n<path fill=\"none\" stroke=\"black\" d=\"M818.49,-34.75C827.27,-36.28 835.77,-37.76 843.51,-39.1\"/>\n<polygon fill=\"black\" stroke=\"black\" points=\"842.66,-42.51 853.11,-40.78 843.86,-35.61 842.66,-42.51\"/>\n</g>\n<!-- 5101766976 -->\n<g id=\"node7\" class=\"node\">\n<title>5101766976</title>\n<polygon fill=\"none\" stroke=\"black\" points=\"315.38,-28.5 315.38,-64.5 502.88,-64.5 502.88,-28.5 315.38,-28.5\"/>\n<text text-anchor=\"middle\" x=\"326.38\" y=\"-41.7\" font-family=\"Times,serif\" font-size=\"14.00\">e</text>\n<polyline fill=\"none\" stroke=\"black\" points=\"337.38,-29 337.38,-64.5\"/>\n<text text-anchor=\"middle\" x=\"379.5\" y=\"-41.7\" font-family=\"Times,serif\" font-size=\"14.00\">data &#45;6.0000</text>\n<polyline fill=\"none\" stroke=\"black\" points=\"421.62,-29 421.62,-64.5\"/>\n<text text-anchor=\"middle\" x=\"462.25\" y=\"-41.7\" font-family=\"Times,serif\" font-size=\"14.00\">grad 0.0000</text>\n</g>\n<!-- 5101766976&#45;&gt;5101222016+ -->\n<g id=\"edge9\" class=\"edge\">\n<title>5101766976&#45;&gt;5101222016+</title>\n<path fill=\"none\" stroke=\"black\" d=\"M503.05,-62.6C512.25,-64.19 521.16,-65.73 529.24,-67.13\"/>\n<polygon fill=\"black\" stroke=\"black\" points=\"528.48,-70.55 538.93,-68.81 529.68,-63.66 528.48,-70.55\"/>\n</g>\n<!-- 5101766976*&#45;&gt;5101766976 -->\n<g id=\"edge2\" class=\"edge\">\n<title>5101766976*&#45;&gt;5101766976</title>\n<path fill=\"none\" stroke=\"black\" d=\"M278.69,-46.5C286.1,-46.5 294.64,-46.5 303.71,-46.5\"/>\n<polygon fill=\"black\" stroke=\"black\" points=\"303.51,-50 313.51,-46.5 303.51,-43 303.51,-50\"/>\n</g>\n<!-- 5101216592 -->\n<g id=\"node9\" class=\"node\">\n<title>5101216592</title>\n<polygon fill=\"none\" stroke=\"black\" points=\"944.25,-27.5 944.25,-63.5 1134,-63.5 1134,-27.5 944.25,-27.5\"/>\n<text text-anchor=\"middle\" x=\"956.38\" y=\"-40.7\" font-family=\"Times,serif\" font-size=\"14.00\">L</text>\n<polyline fill=\"none\" stroke=\"black\" points=\"968.5,-28 968.5,-63.5\"/>\n<text text-anchor=\"middle\" x=\"1010.62\" y=\"-40.7\" font-family=\"Times,serif\" font-size=\"14.00\">data &#45;7.9996</text>\n<polyline fill=\"none\" stroke=\"black\" points=\"1052.75,-28 1052.75,-63.5\"/>\n<text text-anchor=\"middle\" x=\"1093.38\" y=\"-40.7\" font-family=\"Times,serif\" font-size=\"14.00\">grad 0.0000</text>\n</g>\n<!-- 5101216592*&#45;&gt;5101216592 -->\n<g id=\"edge3\" class=\"edge\">\n<title>5101216592*&#45;&gt;5101216592</title>\n<path fill=\"none\" stroke=\"black\" d=\"M908.69,-45.5C915.84,-45.5 924.03,-45.5 932.74,-45.5\"/>\n<polygon fill=\"black\" stroke=\"black\" points=\"932.51,-49 942.51,-45.5 932.51,-42 932.51,-49\"/>\n</g>\n</g>\n</svg>\n",
      "text/plain": [
       "<graphviz.graphs.Digraph at 0x1300e6440>"
      ]
     },
     "execution_count": 59,
     "metadata": {},
     "output_type": "execute_result"
    }
   ],
   "execution_count": 59
  },
  {
   "cell_type": "code",
   "metadata": {
    "ExecuteTime": {
     "end_time": "2024-12-08T16:08:18.316437Z",
     "start_time": "2024-12-08T16:08:18.237466Z"
    }
   },
   "source": [
    "# For f:\n",
    "\n",
    "dot, derivative = partial_using_lim(L, f)\n",
    "print(derivative)\n",
    "dot"
   ],
   "outputs": [
    {
     "name": "stdout",
     "output_type": "stream",
     "text": [
      "-1.9999999999953388\n"
     ]
    },
    {
     "data": {
      "image/svg+xml": "<?xml version=\"1.0\" encoding=\"UTF-8\" standalone=\"no\"?>\n<!DOCTYPE svg PUBLIC \"-//W3C//DTD SVG 1.1//EN\"\n \"http://www.w3.org/Graphics/SVG/1.1/DTD/svg11.dtd\">\n<!-- Generated by graphviz version 12.2.0 (20241103.1931)\n -->\n<!-- Pages: 1 -->\n<svg width=\"602pt\" height=\"100pt\"\n viewBox=\"0.00 0.00 602.00 100.00\" xmlns=\"http://www.w3.org/2000/svg\" xmlns:xlink=\"http://www.w3.org/1999/xlink\">\n<g id=\"graph0\" class=\"graph\" transform=\"scale(1 1) rotate(0) translate(4 96)\">\n<polygon fill=\"white\" stroke=\"none\" points=\"-4,4 -4,-96 598,-96 598,4 -4,4\"/>\n<!-- 5101307072 -->\n<g id=\"node1\" class=\"node\">\n<title>5101307072</title>\n<polygon fill=\"none\" stroke=\"black\" points=\"93.38,-0.5 93.38,-36.5 274.88,-36.5 274.88,-0.5 93.38,-0.5\"/>\n<text text-anchor=\"middle\" x=\"103.62\" y=\"-13.7\" font-family=\"Times,serif\" font-size=\"14.00\">f</text>\n<polyline fill=\"none\" stroke=\"black\" points=\"113.88,-1 113.88,-36.5\"/>\n<text text-anchor=\"middle\" x=\"153.75\" y=\"-13.7\" font-family=\"Times,serif\" font-size=\"14.00\">data 4.0001</text>\n<polyline fill=\"none\" stroke=\"black\" points=\"193.62,-1 193.62,-36.5\"/>\n<text text-anchor=\"middle\" x=\"234.25\" y=\"-13.7\" font-family=\"Times,serif\" font-size=\"14.00\">grad 0.0000</text>\n</g>\n<!-- 5101523184* -->\n<g id=\"node5\" class=\"node\">\n<title>5101523184*</title>\n<ellipse fill=\"none\" stroke=\"black\" cx=\"341.25\" cy=\"-45.5\" rx=\"27\" ry=\"18\"/>\n<text text-anchor=\"middle\" x=\"341.25\" y=\"-40.45\" font-family=\"Times,serif\" font-size=\"14.00\">*</text>\n</g>\n<!-- 5101307072&#45;&gt;5101523184* -->\n<g id=\"edge4\" class=\"edge\">\n<title>5101307072&#45;&gt;5101523184*</title>\n<path fill=\"none\" stroke=\"black\" d=\"M275.36,-34.21C285.26,-35.93 294.87,-37.6 303.54,-39.11\"/>\n<polygon fill=\"black\" stroke=\"black\" points=\"302.76,-42.53 313.21,-40.79 303.96,-35.63 302.76,-42.53\"/>\n</g>\n<!-- 5101307072+ -->\n<g id=\"node2\" class=\"node\">\n<title>5101307072+</title>\n<ellipse fill=\"none\" stroke=\"black\" cx=\"27\" cy=\"-18.5\" rx=\"27\" ry=\"18\"/>\n<text text-anchor=\"middle\" x=\"27\" y=\"-13.45\" font-family=\"Times,serif\" font-size=\"14.00\">+</text>\n</g>\n<!-- 5101307072+&#45;&gt;5101307072 -->\n<g id=\"edge1\" class=\"edge\">\n<title>5101307072+&#45;&gt;5101307072</title>\n<path fill=\"none\" stroke=\"black\" d=\"M54.31,-18.5C62.35,-18.5 71.72,-18.5 81.67,-18.5\"/>\n<polygon fill=\"black\" stroke=\"black\" points=\"81.6,-22 91.6,-18.5 81.6,-15 81.6,-22\"/>\n</g>\n<!-- 5101531200 -->\n<g id=\"node3\" class=\"node\">\n<title>5101531200</title>\n<polygon fill=\"none\" stroke=\"black\" points=\"90,-55.5 90,-91.5 278.25,-91.5 278.25,-55.5 90,-55.5\"/>\n<text text-anchor=\"middle\" x=\"101.38\" y=\"-68.7\" font-family=\"Times,serif\" font-size=\"14.00\">d</text>\n<polyline fill=\"none\" stroke=\"black\" points=\"112.75,-56 112.75,-91.5\"/>\n<text text-anchor=\"middle\" x=\"154.88\" y=\"-68.7\" font-family=\"Times,serif\" font-size=\"14.00\">data &#45;2.0000</text>\n<polyline fill=\"none\" stroke=\"black\" points=\"197,-56 197,-91.5\"/>\n<text text-anchor=\"middle\" x=\"237.62\" y=\"-68.7\" font-family=\"Times,serif\" font-size=\"14.00\">grad 0.0000</text>\n</g>\n<!-- 5101531200&#45;&gt;5101523184* -->\n<g id=\"edge3\" class=\"edge\">\n<title>5101531200&#45;&gt;5101523184*</title>\n<path fill=\"none\" stroke=\"black\" d=\"M278.49,-56.65C287.36,-55.05 295.93,-53.5 303.73,-52.09\"/>\n<polygon fill=\"black\" stroke=\"black\" points=\"304.2,-55.56 313.42,-50.34 302.95,-48.68 304.2,-55.56\"/>\n</g>\n<!-- 5101523184 -->\n<g id=\"node4\" class=\"node\">\n<title>5101523184</title>\n<polygon fill=\"none\" stroke=\"black\" points=\"404.25,-27.5 404.25,-63.5 594,-63.5 594,-27.5 404.25,-27.5\"/>\n<text text-anchor=\"middle\" x=\"416.38\" y=\"-40.7\" font-family=\"Times,serif\" font-size=\"14.00\">L</text>\n<polyline fill=\"none\" stroke=\"black\" points=\"428.5,-28 428.5,-63.5\"/>\n<text text-anchor=\"middle\" x=\"470.62\" y=\"-40.7\" font-family=\"Times,serif\" font-size=\"14.00\">data &#45;8.0002</text>\n<polyline fill=\"none\" stroke=\"black\" points=\"512.75,-28 512.75,-63.5\"/>\n<text text-anchor=\"middle\" x=\"553.38\" y=\"-40.7\" font-family=\"Times,serif\" font-size=\"14.00\">grad 0.0000</text>\n</g>\n<!-- 5101523184*&#45;&gt;5101523184 -->\n<g id=\"edge2\" class=\"edge\">\n<title>5101523184*&#45;&gt;5101523184</title>\n<path fill=\"none\" stroke=\"black\" d=\"M368.69,-45.5C375.84,-45.5 384.03,-45.5 392.74,-45.5\"/>\n<polygon fill=\"black\" stroke=\"black\" points=\"392.51,-49 402.51,-45.5 392.51,-42 392.51,-49\"/>\n</g>\n</g>\n</svg>\n",
      "text/plain": [
       "<graphviz.graphs.Digraph at 0x130131960>"
      ]
     },
     "execution_count": 60,
     "metadata": {},
     "output_type": "execute_result"
    }
   ],
   "execution_count": 60
  },
  {
   "cell_type": "code",
   "metadata": {
    "ExecuteTime": {
     "end_time": "2024-12-08T16:08:18.404267Z",
     "start_time": "2024-12-08T16:08:18.325985Z"
    }
   },
   "source": [
    "d.grad = f.data # = -2\n",
    "f.grad = d.data # = 4\n",
    "draw_dot(L)"
   ],
   "outputs": [
    {
     "data": {
      "image/svg+xml": "<?xml version=\"1.0\" encoding=\"UTF-8\" standalone=\"no\"?>\n<!DOCTYPE svg PUBLIC \"-//W3C//DTD SVG 1.1//EN\"\n \"http://www.w3.org/Graphics/SVG/1.1/DTD/svg11.dtd\">\n<!-- Generated by graphviz version 12.2.0 (20241103.1931)\n -->\n<!-- Pages: 1 -->\n<svg width=\"1142pt\" height=\"154pt\"\n viewBox=\"0.00 0.00 1142.00 154.00\" xmlns=\"http://www.w3.org/2000/svg\" xmlns:xlink=\"http://www.w3.org/1999/xlink\">\n<g id=\"graph0\" class=\"graph\" transform=\"scale(1 1) rotate(0) translate(4 150)\">\n<polygon fill=\"white\" stroke=\"none\" points=\"-4,4 -4,-150 1138,-150 1138,4 -4,4\"/>\n<!-- 5101294672 -->\n<g id=\"node1\" class=\"node\">\n<title>5101294672</title>\n<polygon fill=\"none\" stroke=\"black\" points=\"631.12,-54.5 631.12,-90.5 817.12,-90.5 817.12,-54.5 631.12,-54.5\"/>\n<text text-anchor=\"middle\" x=\"641.38\" y=\"-67.7\" font-family=\"Times,serif\" font-size=\"14.00\">f</text>\n<polyline fill=\"none\" stroke=\"black\" points=\"651.62,-55 651.62,-90.5\"/>\n<text text-anchor=\"middle\" x=\"691.5\" y=\"-67.7\" font-family=\"Times,serif\" font-size=\"14.00\">data 4.0000</text>\n<polyline fill=\"none\" stroke=\"black\" points=\"731.38,-55 731.38,-90.5\"/>\n<text text-anchor=\"middle\" x=\"774.25\" y=\"-67.7\" font-family=\"Times,serif\" font-size=\"14.00\">grad &#45;2.0000</text>\n</g>\n<!-- 5101302208* -->\n<g id=\"node10\" class=\"node\">\n<title>5101302208*</title>\n<ellipse fill=\"none\" stroke=\"black\" cx=\"881.25\" cy=\"-99.5\" rx=\"27\" ry=\"18\"/>\n<text text-anchor=\"middle\" x=\"881.25\" y=\"-94.45\" font-family=\"Times,serif\" font-size=\"14.00\">*</text>\n</g>\n<!-- 5101294672&#45;&gt;5101302208* -->\n<g id=\"edge7\" class=\"edge\">\n<title>5101294672&#45;&gt;5101302208*</title>\n<path fill=\"none\" stroke=\"black\" d=\"M817.6,-88.6C826.76,-90.19 835.62,-91.73 843.67,-93.13\"/>\n<polygon fill=\"black\" stroke=\"black\" points=\"842.85,-96.54 853.3,-94.81 844.05,-89.65 842.85,-96.54\"/>\n</g>\n<!-- 5101294672+ -->\n<g id=\"node2\" class=\"node\">\n<title>5101294672+</title>\n<ellipse fill=\"none\" stroke=\"black\" cx=\"567\" cy=\"-72.5\" rx=\"27\" ry=\"18\"/>\n<text text-anchor=\"middle\" x=\"567\" y=\"-67.45\" font-family=\"Times,serif\" font-size=\"14.00\">+</text>\n</g>\n<!-- 5101294672+&#45;&gt;5101294672 -->\n<g id=\"edge1\" class=\"edge\">\n<title>5101294672+&#45;&gt;5101294672</title>\n<path fill=\"none\" stroke=\"black\" d=\"M594.31,-72.5C601.75,-72.5 610.32,-72.5 619.44,-72.5\"/>\n<polygon fill=\"black\" stroke=\"black\" points=\"619.28,-76 629.28,-72.5 619.28,-69 619.28,-76\"/>\n</g>\n<!-- 5101974624 -->\n<g id=\"node3\" class=\"node\">\n<title>5101974624</title>\n<polygon fill=\"none\" stroke=\"black\" points=\"0,-55.5 0,-91.5 188.25,-91.5 188.25,-55.5 0,-55.5\"/>\n<text text-anchor=\"middle\" x=\"11.38\" y=\"-68.7\" font-family=\"Times,serif\" font-size=\"14.00\">b</text>\n<polyline fill=\"none\" stroke=\"black\" points=\"22.75,-56 22.75,-91.5\"/>\n<text text-anchor=\"middle\" x=\"64.88\" y=\"-68.7\" font-family=\"Times,serif\" font-size=\"14.00\">data &#45;3.0000</text>\n<polyline fill=\"none\" stroke=\"black\" points=\"107,-56 107,-91.5\"/>\n<text text-anchor=\"middle\" x=\"147.62\" y=\"-68.7\" font-family=\"Times,serif\" font-size=\"14.00\">grad 0.0000</text>\n</g>\n<!-- 5101289680* -->\n<g id=\"node7\" class=\"node\">\n<title>5101289680*</title>\n<ellipse fill=\"none\" stroke=\"black\" cx=\"251.25\" cy=\"-45.5\" rx=\"27\" ry=\"18\"/>\n<text text-anchor=\"middle\" x=\"251.25\" y=\"-40.45\" font-family=\"Times,serif\" font-size=\"14.00\">*</text>\n</g>\n<!-- 5101974624&#45;&gt;5101289680* -->\n<g id=\"edge6\" class=\"edge\">\n<title>5101974624&#45;&gt;5101289680*</title>\n<path fill=\"none\" stroke=\"black\" d=\"M188.49,-56.65C197.36,-55.05 205.93,-53.5 213.73,-52.09\"/>\n<polygon fill=\"black\" stroke=\"black\" points=\"214.2,-55.56 223.42,-50.34 212.95,-48.68 214.2,-55.56\"/>\n</g>\n<!-- 5101973136 -->\n<g id=\"node4\" class=\"node\">\n<title>5101973136</title>\n<polygon fill=\"none\" stroke=\"black\" points=\"630,-109.5 630,-145.5 818.25,-145.5 818.25,-109.5 630,-109.5\"/>\n<text text-anchor=\"middle\" x=\"641.38\" y=\"-122.7\" font-family=\"Times,serif\" font-size=\"14.00\">d</text>\n<polyline fill=\"none\" stroke=\"black\" points=\"652.75,-110 652.75,-145.5\"/>\n<text text-anchor=\"middle\" x=\"694.88\" y=\"-122.7\" font-family=\"Times,serif\" font-size=\"14.00\">data &#45;2.0000</text>\n<polyline fill=\"none\" stroke=\"black\" points=\"737,-110 737,-145.5\"/>\n<text text-anchor=\"middle\" x=\"777.62\" y=\"-122.7\" font-family=\"Times,serif\" font-size=\"14.00\">grad 4.0000</text>\n</g>\n<!-- 5101973136&#45;&gt;5101302208* -->\n<g id=\"edge8\" class=\"edge\">\n<title>5101973136&#45;&gt;5101302208*</title>\n<path fill=\"none\" stroke=\"black\" d=\"M818.49,-110.65C827.36,-109.05 835.93,-107.5 843.73,-106.09\"/>\n<polygon fill=\"black\" stroke=\"black\" points=\"844.2,-109.56 853.42,-104.34 842.95,-102.68 844.2,-109.56\"/>\n</g>\n<!-- 5101973184 -->\n<g id=\"node5\" class=\"node\">\n<title>5101973184</title>\n<polygon fill=\"none\" stroke=\"black\" points=\"314.25,-82.5 314.25,-118.5 504,-118.5 504,-82.5 314.25,-82.5\"/>\n<text text-anchor=\"middle\" x=\"325.25\" y=\"-95.7\" font-family=\"Times,serif\" font-size=\"14.00\">c</text>\n<polyline fill=\"none\" stroke=\"black\" points=\"336.25,-83 336.25,-118.5\"/>\n<text text-anchor=\"middle\" x=\"379.5\" y=\"-95.7\" font-family=\"Times,serif\" font-size=\"14.00\">data 10.0000</text>\n<polyline fill=\"none\" stroke=\"black\" points=\"422.75,-83 422.75,-118.5\"/>\n<text text-anchor=\"middle\" x=\"463.38\" y=\"-95.7\" font-family=\"Times,serif\" font-size=\"14.00\">grad 0.0000</text>\n</g>\n<!-- 5101973184&#45;&gt;5101294672+ -->\n<g id=\"edge4\" class=\"edge\">\n<title>5101973184&#45;&gt;5101294672+</title>\n<path fill=\"none\" stroke=\"black\" d=\"M504.39,-83.57C513.16,-81.99 521.65,-80.47 529.37,-79.08\"/>\n<polygon fill=\"black\" stroke=\"black\" points=\"529.73,-82.57 538.95,-77.36 528.49,-75.68 529.73,-82.57\"/>\n</g>\n<!-- 5101289680 -->\n<g id=\"node6\" class=\"node\">\n<title>5101289680</title>\n<polygon fill=\"none\" stroke=\"black\" points=\"315.38,-27.5 315.38,-63.5 502.88,-63.5 502.88,-27.5 315.38,-27.5\"/>\n<text text-anchor=\"middle\" x=\"326.38\" y=\"-40.7\" font-family=\"Times,serif\" font-size=\"14.00\">e</text>\n<polyline fill=\"none\" stroke=\"black\" points=\"337.38,-28 337.38,-63.5\"/>\n<text text-anchor=\"middle\" x=\"379.5\" y=\"-40.7\" font-family=\"Times,serif\" font-size=\"14.00\">data &#45;6.0000</text>\n<polyline fill=\"none\" stroke=\"black\" points=\"421.62,-28 421.62,-63.5\"/>\n<text text-anchor=\"middle\" x=\"462.25\" y=\"-40.7\" font-family=\"Times,serif\" font-size=\"14.00\">grad 0.0000</text>\n</g>\n<!-- 5101289680&#45;&gt;5101294672+ -->\n<g id=\"edge5\" class=\"edge\">\n<title>5101289680&#45;&gt;5101294672+</title>\n<path fill=\"none\" stroke=\"black\" d=\"M503.05,-61.6C512.25,-63.19 521.16,-64.73 529.24,-66.13\"/>\n<polygon fill=\"black\" stroke=\"black\" points=\"528.48,-69.55 538.93,-67.81 529.68,-62.66 528.48,-69.55\"/>\n</g>\n<!-- 5101289680*&#45;&gt;5101289680 -->\n<g id=\"edge2\" class=\"edge\">\n<title>5101289680*&#45;&gt;5101289680</title>\n<path fill=\"none\" stroke=\"black\" d=\"M278.69,-45.5C286.1,-45.5 294.64,-45.5 303.71,-45.5\"/>\n<polygon fill=\"black\" stroke=\"black\" points=\"303.51,-49 313.51,-45.5 303.51,-42 303.51,-49\"/>\n</g>\n<!-- 5101974864 -->\n<g id=\"node8\" class=\"node\">\n<title>5101974864</title>\n<polygon fill=\"none\" stroke=\"black\" points=\"2.62,-0.5 2.62,-36.5 185.62,-36.5 185.62,-0.5 2.62,-0.5\"/>\n<text text-anchor=\"middle\" x=\"13.62\" y=\"-13.7\" font-family=\"Times,serif\" font-size=\"14.00\">a</text>\n<polyline fill=\"none\" stroke=\"black\" points=\"24.62,-1 24.62,-36.5\"/>\n<text text-anchor=\"middle\" x=\"64.5\" y=\"-13.7\" font-family=\"Times,serif\" font-size=\"14.00\">data 2.0000</text>\n<polyline fill=\"none\" stroke=\"black\" points=\"104.38,-1 104.38,-36.5\"/>\n<text text-anchor=\"middle\" x=\"145\" y=\"-13.7\" font-family=\"Times,serif\" font-size=\"14.00\">grad 0.0000</text>\n</g>\n<!-- 5101974864&#45;&gt;5101289680* -->\n<g id=\"edge9\" class=\"edge\">\n<title>5101974864&#45;&gt;5101289680*</title>\n<path fill=\"none\" stroke=\"black\" d=\"M185.81,-34.28C195.45,-35.96 204.82,-37.59 213.29,-39.07\"/>\n<polygon fill=\"black\" stroke=\"black\" points=\"212.65,-42.51 223.1,-40.77 213.85,-35.61 212.65,-42.51\"/>\n</g>\n<!-- 5101302208 -->\n<g id=\"node9\" class=\"node\">\n<title>5101302208</title>\n<polygon fill=\"none\" stroke=\"black\" points=\"944.25,-81.5 944.25,-117.5 1134,-117.5 1134,-81.5 944.25,-81.5\"/>\n<text text-anchor=\"middle\" x=\"956.38\" y=\"-94.7\" font-family=\"Times,serif\" font-size=\"14.00\">L</text>\n<polyline fill=\"none\" stroke=\"black\" points=\"968.5,-82 968.5,-117.5\"/>\n<text text-anchor=\"middle\" x=\"1010.62\" y=\"-94.7\" font-family=\"Times,serif\" font-size=\"14.00\">data &#45;8.0000</text>\n<polyline fill=\"none\" stroke=\"black\" points=\"1052.75,-82 1052.75,-117.5\"/>\n<text text-anchor=\"middle\" x=\"1093.38\" y=\"-94.7\" font-family=\"Times,serif\" font-size=\"14.00\">grad 1.0000</text>\n</g>\n<!-- 5101302208*&#45;&gt;5101302208 -->\n<g id=\"edge3\" class=\"edge\">\n<title>5101302208*&#45;&gt;5101302208</title>\n<path fill=\"none\" stroke=\"black\" d=\"M908.69,-99.5C915.84,-99.5 924.03,-99.5 932.74,-99.5\"/>\n<polygon fill=\"black\" stroke=\"black\" points=\"932.51,-103 942.51,-99.5 932.51,-96 932.51,-103\"/>\n</g>\n</g>\n</svg>\n",
      "text/plain": [
       "<graphviz.graphs.Digraph at 0x1300e60e0>"
      ]
     },
     "execution_count": 61,
     "metadata": {},
     "output_type": "execute_result"
    }
   ],
   "execution_count": 61
  },
  {
   "cell_type": "markdown",
   "metadata": {},
   "source": [
    "### Backpropagation Step 3: **c** & **e**"
   ]
  },
  {
   "metadata": {},
   "cell_type": "markdown",
   "source": ""
  },
  {
   "cell_type": "markdown",
   "metadata": {},
   "source": [
    "In order to find the derivative $\\frac{\\partial L}{\\partial e}$, we will first calculate the partial derivative $\\frac{\\partial f}{\\partial e}$.\n",
    "\n",
    "Since we know that $f(e, c) = e + c$, we can simply derive f as\n",
    "\n",
    "$$\\frac{\\partial f}{\\partial e} = 1$$"
   ]
  },
  {
   "cell_type": "code",
   "metadata": {
    "ExecuteTime": {
     "end_time": "2024-12-08T16:08:18.496058Z",
     "start_time": "2024-12-08T16:08:18.413319Z"
    }
   },
   "source": [
    "dot, derivative = partial_using_lim(f, e)\n",
    "print(derivative)\n",
    "dot"
   ],
   "outputs": [
    {
     "name": "stdout",
     "output_type": "stream",
     "text": [
      "0.9999999999976694\n"
     ]
    },
    {
     "data": {
      "image/svg+xml": "<?xml version=\"1.0\" encoding=\"UTF-8\" standalone=\"no\"?>\n<!DOCTYPE svg PUBLIC \"-//W3C//DTD SVG 1.1//EN\"\n \"http://www.w3.org/Graphics/SVG/1.1/DTD/svg11.dtd\">\n<!-- Generated by graphviz version 12.2.0 (20241103.1931)\n -->\n<!-- Pages: 1 -->\n<svg width=\"595pt\" height=\"100pt\"\n viewBox=\"0.00 0.00 595.25 100.00\" xmlns=\"http://www.w3.org/2000/svg\" xmlns:xlink=\"http://www.w3.org/1999/xlink\">\n<g id=\"graph0\" class=\"graph\" transform=\"scale(1 1) rotate(0) translate(4 96)\">\n<polygon fill=\"white\" stroke=\"none\" points=\"-4,4 -4,-96 591.25,-96 591.25,4 -4,4\"/>\n<!-- 5101311872 -->\n<g id=\"node1\" class=\"node\">\n<title>5101311872</title>\n<polygon fill=\"none\" stroke=\"black\" points=\"405.75,-27.5 405.75,-63.5 587.25,-63.5 587.25,-27.5 405.75,-27.5\"/>\n<text text-anchor=\"middle\" x=\"416\" y=\"-40.7\" font-family=\"Times,serif\" font-size=\"14.00\">f</text>\n<polyline fill=\"none\" stroke=\"black\" points=\"426.25,-28 426.25,-63.5\"/>\n<text text-anchor=\"middle\" x=\"466.12\" y=\"-40.7\" font-family=\"Times,serif\" font-size=\"14.00\">data 4.0001</text>\n<polyline fill=\"none\" stroke=\"black\" points=\"506,-28 506,-63.5\"/>\n<text text-anchor=\"middle\" x=\"546.62\" y=\"-40.7\" font-family=\"Times,serif\" font-size=\"14.00\">grad 0.0000</text>\n</g>\n<!-- 5101311872+ -->\n<g id=\"node2\" class=\"node\">\n<title>5101311872+</title>\n<ellipse fill=\"none\" stroke=\"black\" cx=\"342.75\" cy=\"-45.5\" rx=\"27\" ry=\"18\"/>\n<text text-anchor=\"middle\" x=\"342.75\" y=\"-40.45\" font-family=\"Times,serif\" font-size=\"14.00\">+</text>\n</g>\n<!-- 5101311872+&#45;&gt;5101311872 -->\n<g id=\"edge1\" class=\"edge\">\n<title>5101311872+&#45;&gt;5101311872</title>\n<path fill=\"none\" stroke=\"black\" d=\"M370.18,-45.5C377.35,-45.5 385.55,-45.5 394.26,-45.5\"/>\n<polygon fill=\"black\" stroke=\"black\" points=\"394.01,-49 404.01,-45.5 394.01,-42 394.01,-49\"/>\n</g>\n<!-- 5101314560 -->\n<g id=\"node3\" class=\"node\">\n<title>5101314560</title>\n<polygon fill=\"none\" stroke=\"black\" points=\"91.12,-55.5 91.12,-91.5 278.62,-91.5 278.62,-55.5 91.12,-55.5\"/>\n<text text-anchor=\"middle\" x=\"102.12\" y=\"-68.7\" font-family=\"Times,serif\" font-size=\"14.00\">e</text>\n<polyline fill=\"none\" stroke=\"black\" points=\"113.12,-56 113.12,-91.5\"/>\n<text text-anchor=\"middle\" x=\"155.25\" y=\"-68.7\" font-family=\"Times,serif\" font-size=\"14.00\">data &#45;5.9999</text>\n<polyline fill=\"none\" stroke=\"black\" points=\"197.38,-56 197.38,-91.5\"/>\n<text text-anchor=\"middle\" x=\"238\" y=\"-68.7\" font-family=\"Times,serif\" font-size=\"14.00\">grad 0.0000</text>\n</g>\n<!-- 5101314560&#45;&gt;5101311872+ -->\n<g id=\"edge4\" class=\"edge\">\n<title>5101314560&#45;&gt;5101311872+</title>\n<path fill=\"none\" stroke=\"black\" d=\"M278.8,-56.81C288,-55.16 296.91,-53.56 304.99,-52.1\"/>\n<polygon fill=\"black\" stroke=\"black\" points=\"305.46,-55.58 314.68,-50.36 304.22,-48.69 305.46,-55.58\"/>\n</g>\n<!-- 5101314560* -->\n<g id=\"node4\" class=\"node\">\n<title>5101314560*</title>\n<ellipse fill=\"none\" stroke=\"black\" cx=\"27\" cy=\"-73.5\" rx=\"27\" ry=\"18\"/>\n<text text-anchor=\"middle\" x=\"27\" y=\"-68.45\" font-family=\"Times,serif\" font-size=\"14.00\">*</text>\n</g>\n<!-- 5101314560*&#45;&gt;5101314560 -->\n<g id=\"edge2\" class=\"edge\">\n<title>5101314560*&#45;&gt;5101314560</title>\n<path fill=\"none\" stroke=\"black\" d=\"M54.44,-73.5C61.85,-73.5 70.39,-73.5 79.46,-73.5\"/>\n<polygon fill=\"black\" stroke=\"black\" points=\"79.26,-77 89.26,-73.5 79.26,-70 79.26,-77\"/>\n</g>\n<!-- 5101316288 -->\n<g id=\"node5\" class=\"node\">\n<title>5101316288</title>\n<polygon fill=\"none\" stroke=\"black\" points=\"90,-0.5 90,-36.5 279.75,-36.5 279.75,-0.5 90,-0.5\"/>\n<text text-anchor=\"middle\" x=\"101\" y=\"-13.7\" font-family=\"Times,serif\" font-size=\"14.00\">c</text>\n<polyline fill=\"none\" stroke=\"black\" points=\"112,-1 112,-36.5\"/>\n<text text-anchor=\"middle\" x=\"155.25\" y=\"-13.7\" font-family=\"Times,serif\" font-size=\"14.00\">data 10.0000</text>\n<polyline fill=\"none\" stroke=\"black\" points=\"198.5,-1 198.5,-36.5\"/>\n<text text-anchor=\"middle\" x=\"239.12\" y=\"-13.7\" font-family=\"Times,serif\" font-size=\"14.00\">grad 0.0000</text>\n</g>\n<!-- 5101316288&#45;&gt;5101311872+ -->\n<g id=\"edge3\" class=\"edge\">\n<title>5101316288&#45;&gt;5101311872+</title>\n<path fill=\"none\" stroke=\"black\" d=\"M280.14,-34.83C288.91,-36.35 297.4,-37.82 305.12,-39.15\"/>\n<polygon fill=\"black\" stroke=\"black\" points=\"304.25,-42.56 314.7,-40.81 305.44,-35.66 304.25,-42.56\"/>\n</g>\n</g>\n</svg>\n",
      "text/plain": [
       "<graphviz.graphs.Digraph at 0x1300fd060>"
      ]
     },
     "execution_count": 62,
     "metadata": {},
     "output_type": "execute_result"
    }
   ],
   "execution_count": 62
  },
  {
   "metadata": {},
   "cell_type": "markdown",
   "source": [
    "The same goes for $c$:\n",
    "$$\\frac{ \\partial f }{ c } = 1$$"
   ]
  },
  {
   "metadata": {
    "ExecuteTime": {
     "end_time": "2024-12-08T16:08:18.580241Z",
     "start_time": "2024-12-08T16:08:18.502992Z"
    }
   },
   "cell_type": "code",
   "source": [
    "dot, derivative = partial_using_lim(f, c)\n",
    "print(derivative)\n",
    "dot"
   ],
   "outputs": [
    {
     "name": "stdout",
     "output_type": "stream",
     "text": [
      "0.9999999999976694\n"
     ]
    },
    {
     "data": {
      "image/svg+xml": "<?xml version=\"1.0\" encoding=\"UTF-8\" standalone=\"no\"?>\n<!DOCTYPE svg PUBLIC \"-//W3C//DTD SVG 1.1//EN\"\n \"http://www.w3.org/Graphics/SVG/1.1/DTD/svg11.dtd\">\n<!-- Generated by graphviz version 12.2.0 (20241103.1931)\n -->\n<!-- Pages: 1 -->\n<svg width=\"820pt\" height=\"128pt\"\n viewBox=\"0.00 0.00 819.50 128.00\" xmlns=\"http://www.w3.org/2000/svg\" xmlns:xlink=\"http://www.w3.org/1999/xlink\">\n<g id=\"graph0\" class=\"graph\" transform=\"scale(1 1) rotate(0) translate(4 124)\">\n<polygon fill=\"white\" stroke=\"none\" points=\"-4,4 -4,-124 815.5,-124 815.5,4 -4,4\"/>\n<!-- 5101317152 -->\n<g id=\"node1\" class=\"node\">\n<title>5101317152</title>\n<polygon fill=\"none\" stroke=\"black\" points=\"2.62,-83.5 2.62,-119.5 185.62,-119.5 185.62,-83.5 2.62,-83.5\"/>\n<text text-anchor=\"middle\" x=\"13.62\" y=\"-96.7\" font-family=\"Times,serif\" font-size=\"14.00\">a</text>\n<polyline fill=\"none\" stroke=\"black\" points=\"24.62,-84 24.62,-119.5\"/>\n<text text-anchor=\"middle\" x=\"64.5\" y=\"-96.7\" font-family=\"Times,serif\" font-size=\"14.00\">data 2.0000</text>\n<polyline fill=\"none\" stroke=\"black\" points=\"104.38,-84 104.38,-119.5\"/>\n<text text-anchor=\"middle\" x=\"145\" y=\"-96.7\" font-family=\"Times,serif\" font-size=\"14.00\">grad 0.0000</text>\n</g>\n<!-- 5101311584* -->\n<g id=\"node3\" class=\"node\">\n<title>5101311584*</title>\n<ellipse fill=\"none\" stroke=\"black\" cx=\"251.25\" cy=\"-73.5\" rx=\"27\" ry=\"18\"/>\n<text text-anchor=\"middle\" x=\"251.25\" y=\"-68.45\" font-family=\"Times,serif\" font-size=\"14.00\">*</text>\n</g>\n<!-- 5101317152&#45;&gt;5101311584* -->\n<g id=\"edge3\" class=\"edge\">\n<title>5101317152&#45;&gt;5101311584*</title>\n<path fill=\"none\" stroke=\"black\" d=\"M185.81,-85.13C195.66,-83.35 205.21,-81.63 213.82,-80.08\"/>\n<polygon fill=\"black\" stroke=\"black\" points=\"214.19,-83.57 223.41,-78.34 212.95,-76.68 214.19,-83.57\"/>\n</g>\n<!-- 5101311584 -->\n<g id=\"node2\" class=\"node\">\n<title>5101311584</title>\n<polygon fill=\"none\" stroke=\"black\" points=\"315.38,-55.5 315.38,-91.5 502.88,-91.5 502.88,-55.5 315.38,-55.5\"/>\n<text text-anchor=\"middle\" x=\"326.38\" y=\"-68.7\" font-family=\"Times,serif\" font-size=\"14.00\">e</text>\n<polyline fill=\"none\" stroke=\"black\" points=\"337.38,-56 337.38,-91.5\"/>\n<text text-anchor=\"middle\" x=\"379.5\" y=\"-68.7\" font-family=\"Times,serif\" font-size=\"14.00\">data &#45;6.0000</text>\n<polyline fill=\"none\" stroke=\"black\" points=\"421.62,-56 421.62,-91.5\"/>\n<text text-anchor=\"middle\" x=\"462.25\" y=\"-68.7\" font-family=\"Times,serif\" font-size=\"14.00\">grad 0.0000</text>\n</g>\n<!-- 5101307120+ -->\n<g id=\"node6\" class=\"node\">\n<title>5101307120+</title>\n<ellipse fill=\"none\" stroke=\"black\" cx=\"567\" cy=\"-45.5\" rx=\"27\" ry=\"18\"/>\n<text text-anchor=\"middle\" x=\"567\" y=\"-40.45\" font-family=\"Times,serif\" font-size=\"14.00\">+</text>\n</g>\n<!-- 5101311584&#45;&gt;5101307120+ -->\n<g id=\"edge4\" class=\"edge\">\n<title>5101311584&#45;&gt;5101307120+</title>\n<path fill=\"none\" stroke=\"black\" d=\"M503.05,-56.81C512.25,-55.16 521.16,-53.56 529.24,-52.1\"/>\n<polygon fill=\"black\" stroke=\"black\" points=\"529.71,-55.58 538.93,-50.36 528.47,-48.69 529.71,-55.58\"/>\n</g>\n<!-- 5101311584*&#45;&gt;5101311584 -->\n<g id=\"edge1\" class=\"edge\">\n<title>5101311584*&#45;&gt;5101311584</title>\n<path fill=\"none\" stroke=\"black\" d=\"M278.69,-73.5C286.1,-73.5 294.64,-73.5 303.71,-73.5\"/>\n<polygon fill=\"black\" stroke=\"black\" points=\"303.51,-77 313.51,-73.5 303.51,-70 303.51,-77\"/>\n</g>\n<!-- 5101307504 -->\n<g id=\"node4\" class=\"node\">\n<title>5101307504</title>\n<polygon fill=\"none\" stroke=\"black\" points=\"314.25,-0.5 314.25,-36.5 504,-36.5 504,-0.5 314.25,-0.5\"/>\n<text text-anchor=\"middle\" x=\"325.25\" y=\"-13.7\" font-family=\"Times,serif\" font-size=\"14.00\">c</text>\n<polyline fill=\"none\" stroke=\"black\" points=\"336.25,-1 336.25,-36.5\"/>\n<text text-anchor=\"middle\" x=\"379.5\" y=\"-13.7\" font-family=\"Times,serif\" font-size=\"14.00\">data 10.0001</text>\n<polyline fill=\"none\" stroke=\"black\" points=\"422.75,-1 422.75,-36.5\"/>\n<text text-anchor=\"middle\" x=\"463.38\" y=\"-13.7\" font-family=\"Times,serif\" font-size=\"14.00\">grad 0.0000</text>\n</g>\n<!-- 5101307504&#45;&gt;5101307120+ -->\n<g id=\"edge5\" class=\"edge\">\n<title>5101307504&#45;&gt;5101307120+</title>\n<path fill=\"none\" stroke=\"black\" d=\"M504.39,-34.83C513.16,-36.35 521.65,-37.82 529.37,-39.15\"/>\n<polygon fill=\"black\" stroke=\"black\" points=\"528.5,-42.56 538.95,-40.81 529.69,-35.66 528.5,-42.56\"/>\n</g>\n<!-- 5101307120 -->\n<g id=\"node5\" class=\"node\">\n<title>5101307120</title>\n<polygon fill=\"none\" stroke=\"black\" points=\"630,-27.5 630,-63.5 811.5,-63.5 811.5,-27.5 630,-27.5\"/>\n<text text-anchor=\"middle\" x=\"640.25\" y=\"-40.7\" font-family=\"Times,serif\" font-size=\"14.00\">f</text>\n<polyline fill=\"none\" stroke=\"black\" points=\"650.5,-28 650.5,-63.5\"/>\n<text text-anchor=\"middle\" x=\"690.38\" y=\"-40.7\" font-family=\"Times,serif\" font-size=\"14.00\">data 4.0001</text>\n<polyline fill=\"none\" stroke=\"black\" points=\"730.25,-28 730.25,-63.5\"/>\n<text text-anchor=\"middle\" x=\"770.88\" y=\"-40.7\" font-family=\"Times,serif\" font-size=\"14.00\">grad 0.0000</text>\n</g>\n<!-- 5101307120+&#45;&gt;5101307120 -->\n<g id=\"edge2\" class=\"edge\">\n<title>5101307120+&#45;&gt;5101307120</title>\n<path fill=\"none\" stroke=\"black\" d=\"M594.43,-45.5C601.6,-45.5 609.8,-45.5 618.51,-45.5\"/>\n<polygon fill=\"black\" stroke=\"black\" points=\"618.26,-49 628.26,-45.5 618.26,-42 618.26,-49\"/>\n</g>\n<!-- 5101307648 -->\n<g id=\"node7\" class=\"node\">\n<title>5101307648</title>\n<polygon fill=\"none\" stroke=\"black\" points=\"0,-28.5 0,-64.5 188.25,-64.5 188.25,-28.5 0,-28.5\"/>\n<text text-anchor=\"middle\" x=\"11.38\" y=\"-41.7\" font-family=\"Times,serif\" font-size=\"14.00\">b</text>\n<polyline fill=\"none\" stroke=\"black\" points=\"22.75,-29 22.75,-64.5\"/>\n<text text-anchor=\"middle\" x=\"64.88\" y=\"-41.7\" font-family=\"Times,serif\" font-size=\"14.00\">data &#45;3.0000</text>\n<polyline fill=\"none\" stroke=\"black\" points=\"107,-29 107,-64.5\"/>\n<text text-anchor=\"middle\" x=\"147.62\" y=\"-41.7\" font-family=\"Times,serif\" font-size=\"14.00\">grad 0.0000</text>\n</g>\n<!-- 5101307648&#45;&gt;5101311584* -->\n<g id=\"edge6\" class=\"edge\">\n<title>5101307648&#45;&gt;5101311584*</title>\n<path fill=\"none\" stroke=\"black\" d=\"M188.49,-62.75C197.27,-64.28 205.77,-65.76 213.51,-67.1\"/>\n<polygon fill=\"black\" stroke=\"black\" points=\"212.66,-70.51 223.11,-68.78 213.86,-63.61 212.66,-70.51\"/>\n</g>\n</g>\n</svg>\n",
      "text/plain": [
       "<graphviz.graphs.Digraph at 0x1300fcac0>"
      ]
     },
     "execution_count": 63,
     "metadata": {},
     "output_type": "execute_result"
    }
   ],
   "execution_count": 63
  },
  {
   "metadata": {},
   "cell_type": "markdown",
   "source": [
    "#### Chain Rule\n",
    "\n",
    "$$\\frac{\\partial y}{\\partial x} = \\frac{\\partial y}{\\partial u} \\frac{\\partial u}{\\partial x}$$\n"
   ]
  },
  {
   "metadata": {},
   "cell_type": "markdown",
   "source": [
    "Therefore we can simply calculate $\\frac{\\partial L}{\\partial c}$ and $\\frac{\\partial L}{\\partial e}$ with the chain rule:\n",
    "\n",
    "$$\\frac{\\partial L}{\\partial c} = \\frac{\\partial L}{\\partial f} \\frac{\\partial f}{\\partial c} = -2 \\times 1 = -2$$\n",
    "$$\\frac{\\partial L}{\\partial e} = \\frac{\\partial L}{\\partial f} \\frac{\\partial f}{\\partial e} = -2 \\times 1 = -2$$\n",
    "\n",
    "\n"
   ]
  },
  {
   "metadata": {
    "ExecuteTime": {
     "end_time": "2024-12-08T16:08:18.667663Z",
     "start_time": "2024-12-08T16:08:18.588034Z"
    }
   },
   "cell_type": "code",
   "source": [
    "# Applying the gradients:\n",
    "c.grad = e.grad = -2.0\n",
    "draw_dot(L)"
   ],
   "outputs": [
    {
     "data": {
      "image/svg+xml": "<?xml version=\"1.0\" encoding=\"UTF-8\" standalone=\"no\"?>\n<!DOCTYPE svg PUBLIC \"-//W3C//DTD SVG 1.1//EN\"\n \"http://www.w3.org/Graphics/SVG/1.1/DTD/svg11.dtd\">\n<!-- Generated by graphviz version 12.2.0 (20241103.1931)\n -->\n<!-- Pages: 1 -->\n<svg width=\"1147pt\" height=\"154pt\"\n viewBox=\"0.00 0.00 1146.50 154.00\" xmlns=\"http://www.w3.org/2000/svg\" xmlns:xlink=\"http://www.w3.org/1999/xlink\">\n<g id=\"graph0\" class=\"graph\" transform=\"scale(1 1) rotate(0) translate(4 150)\">\n<polygon fill=\"white\" stroke=\"none\" points=\"-4,4 -4,-150 1142.5,-150 1142.5,4 -4,4\"/>\n<!-- 5101294672 -->\n<g id=\"node1\" class=\"node\">\n<title>5101294672</title>\n<polygon fill=\"none\" stroke=\"black\" points=\"635.62,-54.5 635.62,-90.5 821.62,-90.5 821.62,-54.5 635.62,-54.5\"/>\n<text text-anchor=\"middle\" x=\"645.88\" y=\"-67.7\" font-family=\"Times,serif\" font-size=\"14.00\">f</text>\n<polyline fill=\"none\" stroke=\"black\" points=\"656.12,-55 656.12,-90.5\"/>\n<text text-anchor=\"middle\" x=\"696\" y=\"-67.7\" font-family=\"Times,serif\" font-size=\"14.00\">data 4.0000</text>\n<polyline fill=\"none\" stroke=\"black\" points=\"735.88,-55 735.88,-90.5\"/>\n<text text-anchor=\"middle\" x=\"778.75\" y=\"-67.7\" font-family=\"Times,serif\" font-size=\"14.00\">grad &#45;2.0000</text>\n</g>\n<!-- 5101302208* -->\n<g id=\"node10\" class=\"node\">\n<title>5101302208*</title>\n<ellipse fill=\"none\" stroke=\"black\" cx=\"885.75\" cy=\"-99.5\" rx=\"27\" ry=\"18\"/>\n<text text-anchor=\"middle\" x=\"885.75\" y=\"-94.45\" font-family=\"Times,serif\" font-size=\"14.00\">*</text>\n</g>\n<!-- 5101294672&#45;&gt;5101302208* -->\n<g id=\"edge7\" class=\"edge\">\n<title>5101294672&#45;&gt;5101302208*</title>\n<path fill=\"none\" stroke=\"black\" d=\"M822.1,-88.6C831.26,-90.19 840.12,-91.73 848.17,-93.13\"/>\n<polygon fill=\"black\" stroke=\"black\" points=\"847.35,-96.54 857.8,-94.81 848.55,-89.65 847.35,-96.54\"/>\n</g>\n<!-- 5101294672+ -->\n<g id=\"node2\" class=\"node\">\n<title>5101294672+</title>\n<ellipse fill=\"none\" stroke=\"black\" cx=\"571.5\" cy=\"-72.5\" rx=\"27\" ry=\"18\"/>\n<text text-anchor=\"middle\" x=\"571.5\" y=\"-67.45\" font-family=\"Times,serif\" font-size=\"14.00\">+</text>\n</g>\n<!-- 5101294672+&#45;&gt;5101294672 -->\n<g id=\"edge1\" class=\"edge\">\n<title>5101294672+&#45;&gt;5101294672</title>\n<path fill=\"none\" stroke=\"black\" d=\"M598.81,-72.5C606.25,-72.5 614.82,-72.5 623.94,-72.5\"/>\n<polygon fill=\"black\" stroke=\"black\" points=\"623.78,-76 633.78,-72.5 623.78,-69 623.78,-76\"/>\n</g>\n<!-- 5101974624 -->\n<g id=\"node3\" class=\"node\">\n<title>5101974624</title>\n<polygon fill=\"none\" stroke=\"black\" points=\"0,-55.5 0,-91.5 188.25,-91.5 188.25,-55.5 0,-55.5\"/>\n<text text-anchor=\"middle\" x=\"11.38\" y=\"-68.7\" font-family=\"Times,serif\" font-size=\"14.00\">b</text>\n<polyline fill=\"none\" stroke=\"black\" points=\"22.75,-56 22.75,-91.5\"/>\n<text text-anchor=\"middle\" x=\"64.88\" y=\"-68.7\" font-family=\"Times,serif\" font-size=\"14.00\">data &#45;3.0000</text>\n<polyline fill=\"none\" stroke=\"black\" points=\"107,-56 107,-91.5\"/>\n<text text-anchor=\"middle\" x=\"147.62\" y=\"-68.7\" font-family=\"Times,serif\" font-size=\"14.00\">grad 0.0000</text>\n</g>\n<!-- 5101289680* -->\n<g id=\"node7\" class=\"node\">\n<title>5101289680*</title>\n<ellipse fill=\"none\" stroke=\"black\" cx=\"251.25\" cy=\"-45.5\" rx=\"27\" ry=\"18\"/>\n<text text-anchor=\"middle\" x=\"251.25\" y=\"-40.45\" font-family=\"Times,serif\" font-size=\"14.00\">*</text>\n</g>\n<!-- 5101974624&#45;&gt;5101289680* -->\n<g id=\"edge6\" class=\"edge\">\n<title>5101974624&#45;&gt;5101289680*</title>\n<path fill=\"none\" stroke=\"black\" d=\"M188.49,-56.65C197.36,-55.05 205.93,-53.5 213.73,-52.09\"/>\n<polygon fill=\"black\" stroke=\"black\" points=\"214.2,-55.56 223.42,-50.34 212.95,-48.68 214.2,-55.56\"/>\n</g>\n<!-- 5101973136 -->\n<g id=\"node4\" class=\"node\">\n<title>5101973136</title>\n<polygon fill=\"none\" stroke=\"black\" points=\"634.5,-109.5 634.5,-145.5 822.75,-145.5 822.75,-109.5 634.5,-109.5\"/>\n<text text-anchor=\"middle\" x=\"645.88\" y=\"-122.7\" font-family=\"Times,serif\" font-size=\"14.00\">d</text>\n<polyline fill=\"none\" stroke=\"black\" points=\"657.25,-110 657.25,-145.5\"/>\n<text text-anchor=\"middle\" x=\"699.38\" y=\"-122.7\" font-family=\"Times,serif\" font-size=\"14.00\">data &#45;2.0000</text>\n<polyline fill=\"none\" stroke=\"black\" points=\"741.5,-110 741.5,-145.5\"/>\n<text text-anchor=\"middle\" x=\"782.12\" y=\"-122.7\" font-family=\"Times,serif\" font-size=\"14.00\">grad 4.0000</text>\n</g>\n<!-- 5101973136&#45;&gt;5101302208* -->\n<g id=\"edge8\" class=\"edge\">\n<title>5101973136&#45;&gt;5101302208*</title>\n<path fill=\"none\" stroke=\"black\" d=\"M822.99,-110.65C831.86,-109.05 840.43,-107.5 848.23,-106.09\"/>\n<polygon fill=\"black\" stroke=\"black\" points=\"848.7,-109.56 857.92,-104.34 847.45,-102.68 848.7,-109.56\"/>\n</g>\n<!-- 5101973184 -->\n<g id=\"node5\" class=\"node\">\n<title>5101973184</title>\n<polygon fill=\"none\" stroke=\"black\" points=\"314.25,-82.5 314.25,-118.5 508.5,-118.5 508.5,-82.5 314.25,-82.5\"/>\n<text text-anchor=\"middle\" x=\"325.25\" y=\"-95.7\" font-family=\"Times,serif\" font-size=\"14.00\">c</text>\n<polyline fill=\"none\" stroke=\"black\" points=\"336.25,-83 336.25,-118.5\"/>\n<text text-anchor=\"middle\" x=\"379.5\" y=\"-95.7\" font-family=\"Times,serif\" font-size=\"14.00\">data 10.0000</text>\n<polyline fill=\"none\" stroke=\"black\" points=\"422.75,-83 422.75,-118.5\"/>\n<text text-anchor=\"middle\" x=\"465.62\" y=\"-95.7\" font-family=\"Times,serif\" font-size=\"14.00\">grad &#45;2.0000</text>\n</g>\n<!-- 5101973184&#45;&gt;5101294672+ -->\n<g id=\"edge4\" class=\"edge\">\n<title>5101973184&#45;&gt;5101294672+</title>\n<path fill=\"none\" stroke=\"black\" d=\"M508.91,-83.41C517.71,-81.85 526.2,-80.34 533.92,-78.98\"/>\n<polygon fill=\"black\" stroke=\"black\" points=\"534.27,-82.47 543.5,-77.28 533.05,-75.58 534.27,-82.47\"/>\n</g>\n<!-- 5101289680 -->\n<g id=\"node6\" class=\"node\">\n<title>5101289680</title>\n<polygon fill=\"none\" stroke=\"black\" points=\"315.38,-27.5 315.38,-63.5 507.38,-63.5 507.38,-27.5 315.38,-27.5\"/>\n<text text-anchor=\"middle\" x=\"326.38\" y=\"-40.7\" font-family=\"Times,serif\" font-size=\"14.00\">e</text>\n<polyline fill=\"none\" stroke=\"black\" points=\"337.38,-28 337.38,-63.5\"/>\n<text text-anchor=\"middle\" x=\"379.5\" y=\"-40.7\" font-family=\"Times,serif\" font-size=\"14.00\">data &#45;6.0000</text>\n<polyline fill=\"none\" stroke=\"black\" points=\"421.62,-28 421.62,-63.5\"/>\n<text text-anchor=\"middle\" x=\"464.5\" y=\"-40.7\" font-family=\"Times,serif\" font-size=\"14.00\">grad &#45;2.0000</text>\n</g>\n<!-- 5101289680&#45;&gt;5101294672+ -->\n<g id=\"edge5\" class=\"edge\">\n<title>5101289680&#45;&gt;5101294672+</title>\n<path fill=\"none\" stroke=\"black\" d=\"M507.55,-61.75C516.78,-63.33 525.7,-64.85 533.79,-66.23\"/>\n<polygon fill=\"black\" stroke=\"black\" points=\"533.03,-69.65 543.48,-67.89 534.21,-62.75 533.03,-69.65\"/>\n</g>\n<!-- 5101289680*&#45;&gt;5101289680 -->\n<g id=\"edge2\" class=\"edge\">\n<title>5101289680*&#45;&gt;5101289680</title>\n<path fill=\"none\" stroke=\"black\" d=\"M278.72,-45.5C286.09,-45.5 294.59,-45.5 303.63,-45.5\"/>\n<polygon fill=\"black\" stroke=\"black\" points=\"303.39,-49 313.39,-45.5 303.39,-42 303.39,-49\"/>\n</g>\n<!-- 5101974864 -->\n<g id=\"node8\" class=\"node\">\n<title>5101974864</title>\n<polygon fill=\"none\" stroke=\"black\" points=\"2.62,-0.5 2.62,-36.5 185.62,-36.5 185.62,-0.5 2.62,-0.5\"/>\n<text text-anchor=\"middle\" x=\"13.62\" y=\"-13.7\" font-family=\"Times,serif\" font-size=\"14.00\">a</text>\n<polyline fill=\"none\" stroke=\"black\" points=\"24.62,-1 24.62,-36.5\"/>\n<text text-anchor=\"middle\" x=\"64.5\" y=\"-13.7\" font-family=\"Times,serif\" font-size=\"14.00\">data 2.0000</text>\n<polyline fill=\"none\" stroke=\"black\" points=\"104.38,-1 104.38,-36.5\"/>\n<text text-anchor=\"middle\" x=\"145\" y=\"-13.7\" font-family=\"Times,serif\" font-size=\"14.00\">grad 0.0000</text>\n</g>\n<!-- 5101974864&#45;&gt;5101289680* -->\n<g id=\"edge9\" class=\"edge\">\n<title>5101974864&#45;&gt;5101289680*</title>\n<path fill=\"none\" stroke=\"black\" d=\"M185.81,-34.28C195.45,-35.96 204.82,-37.59 213.29,-39.07\"/>\n<polygon fill=\"black\" stroke=\"black\" points=\"212.65,-42.51 223.1,-40.77 213.85,-35.61 212.65,-42.51\"/>\n</g>\n<!-- 5101302208 -->\n<g id=\"node9\" class=\"node\">\n<title>5101302208</title>\n<polygon fill=\"none\" stroke=\"black\" points=\"948.75,-81.5 948.75,-117.5 1138.5,-117.5 1138.5,-81.5 948.75,-81.5\"/>\n<text text-anchor=\"middle\" x=\"960.88\" y=\"-94.7\" font-family=\"Times,serif\" font-size=\"14.00\">L</text>\n<polyline fill=\"none\" stroke=\"black\" points=\"973,-82 973,-117.5\"/>\n<text text-anchor=\"middle\" x=\"1015.12\" y=\"-94.7\" font-family=\"Times,serif\" font-size=\"14.00\">data &#45;8.0000</text>\n<polyline fill=\"none\" stroke=\"black\" points=\"1057.25,-82 1057.25,-117.5\"/>\n<text text-anchor=\"middle\" x=\"1097.88\" y=\"-94.7\" font-family=\"Times,serif\" font-size=\"14.00\">grad 1.0000</text>\n</g>\n<!-- 5101302208*&#45;&gt;5101302208 -->\n<g id=\"edge3\" class=\"edge\">\n<title>5101302208*&#45;&gt;5101302208</title>\n<path fill=\"none\" stroke=\"black\" d=\"M913.19,-99.5C920.34,-99.5 928.53,-99.5 937.24,-99.5\"/>\n<polygon fill=\"black\" stroke=\"black\" points=\"937.01,-103 947.01,-99.5 937.01,-96 937.01,-103\"/>\n</g>\n</g>\n</svg>\n",
      "text/plain": [
       "<graphviz.graphs.Digraph at 0x1300ffee0>"
      ]
     },
     "execution_count": 64,
     "metadata": {},
     "output_type": "execute_result"
    }
   ],
   "execution_count": 64
  },
  {
   "metadata": {},
   "cell_type": "markdown",
   "source": [
    "### Backpropagation Step 4: $a$ & $b$\n",
    "\n",
    "We will again first calculate the partial derivatives $\\frac{\\partial e}{\\partial a}$ and $\\frac{\\partial e}{\\partial b}$.\n",
    "Since we know that $e(a, b) = a \\times b$, we can derive them manually again:\n",
    "\n",
    "$$\\frac{\\partial e}{\\partial a} = b = -3$$\n",
    "$$\\frac{\\partial e}{\\partial b} = a = 2$$\n",
    "\n"
   ]
  },
  {
   "metadata": {
    "ExecuteTime": {
     "end_time": "2024-12-08T16:08:18.752018Z",
     "start_time": "2024-12-08T16:08:18.674416Z"
    }
   },
   "cell_type": "code",
   "source": [
    "# For a\n",
    "dot, derivative = partial_using_lim(e, a)\n",
    "print(derivative)\n",
    "dot"
   ],
   "outputs": [
    {
     "name": "stdout",
     "output_type": "stream",
     "text": [
      "-3.000000000010772\n"
     ]
    },
    {
     "data": {
      "image/svg+xml": "<?xml version=\"1.0\" encoding=\"UTF-8\" standalone=\"no\"?>\n<!DOCTYPE svg PUBLIC \"-//W3C//DTD SVG 1.1//EN\"\n \"http://www.w3.org/Graphics/SVG/1.1/DTD/svg11.dtd\">\n<!-- Generated by graphviz version 12.2.0 (20241103.1931)\n -->\n<!-- Pages: 1 -->\n<svg width=\"510pt\" height=\"100pt\"\n viewBox=\"0.00 0.00 509.75 100.00\" xmlns=\"http://www.w3.org/2000/svg\" xmlns:xlink=\"http://www.w3.org/1999/xlink\">\n<g id=\"graph0\" class=\"graph\" transform=\"scale(1 1) rotate(0) translate(4 96)\">\n<polygon fill=\"white\" stroke=\"none\" points=\"-4,4 -4,-96 505.75,-96 505.75,4 -4,4\"/>\n<!-- 5101316240 -->\n<g id=\"node1\" class=\"node\">\n<title>5101316240</title>\n<polygon fill=\"none\" stroke=\"black\" points=\"314.25,-27.5 314.25,-63.5 501.75,-63.5 501.75,-27.5 314.25,-27.5\"/>\n<text text-anchor=\"middle\" x=\"325.25\" y=\"-40.7\" font-family=\"Times,serif\" font-size=\"14.00\">e</text>\n<polyline fill=\"none\" stroke=\"black\" points=\"336.25,-28 336.25,-63.5\"/>\n<text text-anchor=\"middle\" x=\"378.38\" y=\"-40.7\" font-family=\"Times,serif\" font-size=\"14.00\">data &#45;6.0003</text>\n<polyline fill=\"none\" stroke=\"black\" points=\"420.5,-28 420.5,-63.5\"/>\n<text text-anchor=\"middle\" x=\"461.12\" y=\"-40.7\" font-family=\"Times,serif\" font-size=\"14.00\">grad 0.0000</text>\n</g>\n<!-- 5101316240* -->\n<g id=\"node2\" class=\"node\">\n<title>5101316240*</title>\n<ellipse fill=\"none\" stroke=\"black\" cx=\"251.25\" cy=\"-45.5\" rx=\"27\" ry=\"18\"/>\n<text text-anchor=\"middle\" x=\"251.25\" y=\"-40.45\" font-family=\"Times,serif\" font-size=\"14.00\">*</text>\n</g>\n<!-- 5101316240*&#45;&gt;5101316240 -->\n<g id=\"edge1\" class=\"edge\">\n<title>5101316240*&#45;&gt;5101316240</title>\n<path fill=\"none\" stroke=\"black\" d=\"M278.5,-45.5C285.66,-45.5 293.87,-45.5 302.6,-45.5\"/>\n<polygon fill=\"black\" stroke=\"black\" points=\"302.39,-49 312.39,-45.5 302.39,-42 302.39,-49\"/>\n</g>\n<!-- 5101321136 -->\n<g id=\"node3\" class=\"node\">\n<title>5101321136</title>\n<polygon fill=\"none\" stroke=\"black\" points=\"0,-55.5 0,-91.5 188.25,-91.5 188.25,-55.5 0,-55.5\"/>\n<text text-anchor=\"middle\" x=\"11.38\" y=\"-68.7\" font-family=\"Times,serif\" font-size=\"14.00\">b</text>\n<polyline fill=\"none\" stroke=\"black\" points=\"22.75,-56 22.75,-91.5\"/>\n<text text-anchor=\"middle\" x=\"64.88\" y=\"-68.7\" font-family=\"Times,serif\" font-size=\"14.00\">data &#45;3.0000</text>\n<polyline fill=\"none\" stroke=\"black\" points=\"107,-56 107,-91.5\"/>\n<text text-anchor=\"middle\" x=\"147.62\" y=\"-68.7\" font-family=\"Times,serif\" font-size=\"14.00\">grad 0.0000</text>\n</g>\n<!-- 5101321136&#45;&gt;5101316240* -->\n<g id=\"edge2\" class=\"edge\">\n<title>5101321136&#45;&gt;5101316240*</title>\n<path fill=\"none\" stroke=\"black\" d=\"M188.49,-56.65C197.36,-55.05 205.93,-53.5 213.73,-52.09\"/>\n<polygon fill=\"black\" stroke=\"black\" points=\"214.2,-55.56 223.42,-50.34 212.95,-48.68 214.2,-55.56\"/>\n</g>\n<!-- 5101321664 -->\n<g id=\"node4\" class=\"node\">\n<title>5101321664</title>\n<polygon fill=\"none\" stroke=\"black\" points=\"2.62,-0.5 2.62,-36.5 185.62,-36.5 185.62,-0.5 2.62,-0.5\"/>\n<text text-anchor=\"middle\" x=\"13.62\" y=\"-13.7\" font-family=\"Times,serif\" font-size=\"14.00\">a</text>\n<polyline fill=\"none\" stroke=\"black\" points=\"24.62,-1 24.62,-36.5\"/>\n<text text-anchor=\"middle\" x=\"64.5\" y=\"-13.7\" font-family=\"Times,serif\" font-size=\"14.00\">data 2.0001</text>\n<polyline fill=\"none\" stroke=\"black\" points=\"104.38,-1 104.38,-36.5\"/>\n<text text-anchor=\"middle\" x=\"145\" y=\"-13.7\" font-family=\"Times,serif\" font-size=\"14.00\">grad 0.0000</text>\n</g>\n<!-- 5101321664&#45;&gt;5101316240* -->\n<g id=\"edge3\" class=\"edge\">\n<title>5101321664&#45;&gt;5101316240*</title>\n<path fill=\"none\" stroke=\"black\" d=\"M185.81,-34.28C195.45,-35.96 204.82,-37.59 213.29,-39.07\"/>\n<polygon fill=\"black\" stroke=\"black\" points=\"212.65,-42.51 223.1,-40.77 213.85,-35.61 212.65,-42.51\"/>\n</g>\n</g>\n</svg>\n",
      "text/plain": [
       "<graphviz.graphs.Digraph at 0x1300feec0>"
      ]
     },
     "execution_count": 65,
     "metadata": {},
     "output_type": "execute_result"
    }
   ],
   "execution_count": 65
  },
  {
   "metadata": {
    "ExecuteTime": {
     "end_time": "2024-12-08T16:08:18.838061Z",
     "start_time": "2024-12-08T16:08:18.760564Z"
    }
   },
   "cell_type": "code",
   "source": [
    "# for b\n",
    "dot, derivative = partial_using_lim(e, b)\n",
    "print(derivative)\n",
    "dot"
   ],
   "outputs": [
    {
     "name": "stdout",
     "output_type": "stream",
     "text": [
      "2.0000000000042206\n"
     ]
    },
    {
     "data": {
      "image/svg+xml": "<?xml version=\"1.0\" encoding=\"UTF-8\" standalone=\"no\"?>\n<!DOCTYPE svg PUBLIC \"-//W3C//DTD SVG 1.1//EN\"\n \"http://www.w3.org/Graphics/SVG/1.1/DTD/svg11.dtd\">\n<!-- Generated by graphviz version 12.2.0 (20241103.1931)\n -->\n<!-- Pages: 1 -->\n<svg width=\"510pt\" height=\"100pt\"\n viewBox=\"0.00 0.00 509.75 100.00\" xmlns=\"http://www.w3.org/2000/svg\" xmlns:xlink=\"http://www.w3.org/1999/xlink\">\n<g id=\"graph0\" class=\"graph\" transform=\"scale(1 1) rotate(0) translate(4 96)\">\n<polygon fill=\"white\" stroke=\"none\" points=\"-4,4 -4,-96 505.75,-96 505.75,4 -4,4\"/>\n<!-- 5101306640 -->\n<g id=\"node1\" class=\"node\">\n<title>5101306640</title>\n<polygon fill=\"none\" stroke=\"black\" points=\"0,-55.5 0,-91.5 188.25,-91.5 188.25,-55.5 0,-55.5\"/>\n<text text-anchor=\"middle\" x=\"11.38\" y=\"-68.7\" font-family=\"Times,serif\" font-size=\"14.00\">b</text>\n<polyline fill=\"none\" stroke=\"black\" points=\"22.75,-56 22.75,-91.5\"/>\n<text text-anchor=\"middle\" x=\"64.88\" y=\"-68.7\" font-family=\"Times,serif\" font-size=\"14.00\">data &#45;2.9999</text>\n<polyline fill=\"none\" stroke=\"black\" points=\"107,-56 107,-91.5\"/>\n<text text-anchor=\"middle\" x=\"147.62\" y=\"-68.7\" font-family=\"Times,serif\" font-size=\"14.00\">grad 0.0000</text>\n</g>\n<!-- 5101321760* -->\n<g id=\"node3\" class=\"node\">\n<title>5101321760*</title>\n<ellipse fill=\"none\" stroke=\"black\" cx=\"251.25\" cy=\"-45.5\" rx=\"27\" ry=\"18\"/>\n<text text-anchor=\"middle\" x=\"251.25\" y=\"-40.45\" font-family=\"Times,serif\" font-size=\"14.00\">*</text>\n</g>\n<!-- 5101306640&#45;&gt;5101321760* -->\n<g id=\"edge2\" class=\"edge\">\n<title>5101306640&#45;&gt;5101321760*</title>\n<path fill=\"none\" stroke=\"black\" d=\"M188.49,-56.65C197.36,-55.05 205.93,-53.5 213.73,-52.09\"/>\n<polygon fill=\"black\" stroke=\"black\" points=\"214.2,-55.56 223.42,-50.34 212.95,-48.68 214.2,-55.56\"/>\n</g>\n<!-- 5101321760 -->\n<g id=\"node2\" class=\"node\">\n<title>5101321760</title>\n<polygon fill=\"none\" stroke=\"black\" points=\"314.25,-27.5 314.25,-63.5 501.75,-63.5 501.75,-27.5 314.25,-27.5\"/>\n<text text-anchor=\"middle\" x=\"325.25\" y=\"-40.7\" font-family=\"Times,serif\" font-size=\"14.00\">e</text>\n<polyline fill=\"none\" stroke=\"black\" points=\"336.25,-28 336.25,-63.5\"/>\n<text text-anchor=\"middle\" x=\"378.38\" y=\"-40.7\" font-family=\"Times,serif\" font-size=\"14.00\">data &#45;5.9998</text>\n<polyline fill=\"none\" stroke=\"black\" points=\"420.5,-28 420.5,-63.5\"/>\n<text text-anchor=\"middle\" x=\"461.12\" y=\"-40.7\" font-family=\"Times,serif\" font-size=\"14.00\">grad 0.0000</text>\n</g>\n<!-- 5101321760*&#45;&gt;5101321760 -->\n<g id=\"edge1\" class=\"edge\">\n<title>5101321760*&#45;&gt;5101321760</title>\n<path fill=\"none\" stroke=\"black\" d=\"M278.5,-45.5C285.66,-45.5 293.87,-45.5 302.6,-45.5\"/>\n<polygon fill=\"black\" stroke=\"black\" points=\"302.39,-49 312.39,-45.5 302.39,-42 302.39,-49\"/>\n</g>\n<!-- 5101315760 -->\n<g id=\"node4\" class=\"node\">\n<title>5101315760</title>\n<polygon fill=\"none\" stroke=\"black\" points=\"2.62,-0.5 2.62,-36.5 185.62,-36.5 185.62,-0.5 2.62,-0.5\"/>\n<text text-anchor=\"middle\" x=\"13.62\" y=\"-13.7\" font-family=\"Times,serif\" font-size=\"14.00\">a</text>\n<polyline fill=\"none\" stroke=\"black\" points=\"24.62,-1 24.62,-36.5\"/>\n<text text-anchor=\"middle\" x=\"64.5\" y=\"-13.7\" font-family=\"Times,serif\" font-size=\"14.00\">data 2.0000</text>\n<polyline fill=\"none\" stroke=\"black\" points=\"104.38,-1 104.38,-36.5\"/>\n<text text-anchor=\"middle\" x=\"145\" y=\"-13.7\" font-family=\"Times,serif\" font-size=\"14.00\">grad 0.0000</text>\n</g>\n<!-- 5101315760&#45;&gt;5101321760* -->\n<g id=\"edge3\" class=\"edge\">\n<title>5101315760&#45;&gt;5101321760*</title>\n<path fill=\"none\" stroke=\"black\" d=\"M185.81,-34.28C195.45,-35.96 204.82,-37.59 213.29,-39.07\"/>\n<polygon fill=\"black\" stroke=\"black\" points=\"212.65,-42.51 223.1,-40.77 213.85,-35.61 212.65,-42.51\"/>\n</g>\n</g>\n</svg>\n",
      "text/plain": [
       "<graphviz.graphs.Digraph at 0x1300fe800>"
      ]
     },
     "execution_count": 66,
     "metadata": {},
     "output_type": "execute_result"
    }
   ],
   "execution_count": 66
  },
  {
   "metadata": {},
   "cell_type": "markdown",
   "source": [
    "Calculating the gradient using the chain rule gives us:\n",
    "\n",
    "$$\\frac{\\partial L}{\\partial a} = \\frac{\\partial L}{\\partial e} \\frac{\\partial e}{\\partial a} = -2 \\times -3 = 6$$\n",
    "$$\\frac{\\partial L}{\\partial b} = \\frac{\\partial L}{\\partial e} \\frac{\\partial e}{\\partial b} = -2 \\times 2 = -4$$\n",
    "\n"
   ]
  },
  {
   "metadata": {
    "ExecuteTime": {
     "end_time": "2024-12-08T16:08:18.924070Z",
     "start_time": "2024-12-08T16:08:18.845482Z"
    }
   },
   "cell_type": "code",
   "source": [
    "# Applying the gradients\n",
    "a.grad = 6.0\n",
    "b.grad = -4.0\n",
    "draw_dot(L)"
   ],
   "outputs": [
    {
     "data": {
      "image/svg+xml": "<?xml version=\"1.0\" encoding=\"UTF-8\" standalone=\"no\"?>\n<!DOCTYPE svg PUBLIC \"-//W3C//DTD SVG 1.1//EN\"\n \"http://www.w3.org/Graphics/SVG/1.1/DTD/svg11.dtd\">\n<!-- Generated by graphviz version 12.2.0 (20241103.1931)\n -->\n<!-- Pages: 1 -->\n<svg width=\"1151pt\" height=\"154pt\"\n viewBox=\"0.00 0.00 1151.00 154.00\" xmlns=\"http://www.w3.org/2000/svg\" xmlns:xlink=\"http://www.w3.org/1999/xlink\">\n<g id=\"graph0\" class=\"graph\" transform=\"scale(1 1) rotate(0) translate(4 150)\">\n<polygon fill=\"white\" stroke=\"none\" points=\"-4,4 -4,-150 1147,-150 1147,4 -4,4\"/>\n<!-- 5101294672 -->\n<g id=\"node1\" class=\"node\">\n<title>5101294672</title>\n<polygon fill=\"none\" stroke=\"black\" points=\"640.12,-54.5 640.12,-90.5 826.12,-90.5 826.12,-54.5 640.12,-54.5\"/>\n<text text-anchor=\"middle\" x=\"650.38\" y=\"-67.7\" font-family=\"Times,serif\" font-size=\"14.00\">f</text>\n<polyline fill=\"none\" stroke=\"black\" points=\"660.62,-55 660.62,-90.5\"/>\n<text text-anchor=\"middle\" x=\"700.5\" y=\"-67.7\" font-family=\"Times,serif\" font-size=\"14.00\">data 4.0000</text>\n<polyline fill=\"none\" stroke=\"black\" points=\"740.38,-55 740.38,-90.5\"/>\n<text text-anchor=\"middle\" x=\"783.25\" y=\"-67.7\" font-family=\"Times,serif\" font-size=\"14.00\">grad &#45;2.0000</text>\n</g>\n<!-- 5101302208* -->\n<g id=\"node10\" class=\"node\">\n<title>5101302208*</title>\n<ellipse fill=\"none\" stroke=\"black\" cx=\"890.25\" cy=\"-99.5\" rx=\"27\" ry=\"18\"/>\n<text text-anchor=\"middle\" x=\"890.25\" y=\"-94.45\" font-family=\"Times,serif\" font-size=\"14.00\">*</text>\n</g>\n<!-- 5101294672&#45;&gt;5101302208* -->\n<g id=\"edge7\" class=\"edge\">\n<title>5101294672&#45;&gt;5101302208*</title>\n<path fill=\"none\" stroke=\"black\" d=\"M826.6,-88.6C835.76,-90.19 844.62,-91.73 852.67,-93.13\"/>\n<polygon fill=\"black\" stroke=\"black\" points=\"851.85,-96.54 862.3,-94.81 853.05,-89.65 851.85,-96.54\"/>\n</g>\n<!-- 5101294672+ -->\n<g id=\"node2\" class=\"node\">\n<title>5101294672+</title>\n<ellipse fill=\"none\" stroke=\"black\" cx=\"576\" cy=\"-72.5\" rx=\"27\" ry=\"18\"/>\n<text text-anchor=\"middle\" x=\"576\" y=\"-67.45\" font-family=\"Times,serif\" font-size=\"14.00\">+</text>\n</g>\n<!-- 5101294672+&#45;&gt;5101294672 -->\n<g id=\"edge1\" class=\"edge\">\n<title>5101294672+&#45;&gt;5101294672</title>\n<path fill=\"none\" stroke=\"black\" d=\"M603.31,-72.5C610.75,-72.5 619.32,-72.5 628.44,-72.5\"/>\n<polygon fill=\"black\" stroke=\"black\" points=\"628.28,-76 638.28,-72.5 628.28,-69 628.28,-76\"/>\n</g>\n<!-- 5101974624 -->\n<g id=\"node3\" class=\"node\">\n<title>5101974624</title>\n<polygon fill=\"none\" stroke=\"black\" points=\"0,-55.5 0,-91.5 192.75,-91.5 192.75,-55.5 0,-55.5\"/>\n<text text-anchor=\"middle\" x=\"11.38\" y=\"-68.7\" font-family=\"Times,serif\" font-size=\"14.00\">b</text>\n<polyline fill=\"none\" stroke=\"black\" points=\"22.75,-56 22.75,-91.5\"/>\n<text text-anchor=\"middle\" x=\"64.88\" y=\"-68.7\" font-family=\"Times,serif\" font-size=\"14.00\">data &#45;3.0000</text>\n<polyline fill=\"none\" stroke=\"black\" points=\"107,-56 107,-91.5\"/>\n<text text-anchor=\"middle\" x=\"149.88\" y=\"-68.7\" font-family=\"Times,serif\" font-size=\"14.00\">grad &#45;4.0000</text>\n</g>\n<!-- 5101289680* -->\n<g id=\"node7\" class=\"node\">\n<title>5101289680*</title>\n<ellipse fill=\"none\" stroke=\"black\" cx=\"255.75\" cy=\"-45.5\" rx=\"27\" ry=\"18\"/>\n<text text-anchor=\"middle\" x=\"255.75\" y=\"-40.45\" font-family=\"Times,serif\" font-size=\"14.00\">*</text>\n</g>\n<!-- 5101974624&#45;&gt;5101289680* -->\n<g id=\"edge6\" class=\"edge\">\n<title>5101974624&#45;&gt;5101289680*</title>\n<path fill=\"none\" stroke=\"black\" d=\"M193,-56.49C201.81,-54.92 210.32,-53.41 218.06,-52.03\"/>\n<polygon fill=\"black\" stroke=\"black\" points=\"218.43,-55.52 227.66,-50.32 217.21,-48.62 218.43,-55.52\"/>\n</g>\n<!-- 5101973136 -->\n<g id=\"node4\" class=\"node\">\n<title>5101973136</title>\n<polygon fill=\"none\" stroke=\"black\" points=\"639,-109.5 639,-145.5 827.25,-145.5 827.25,-109.5 639,-109.5\"/>\n<text text-anchor=\"middle\" x=\"650.38\" y=\"-122.7\" font-family=\"Times,serif\" font-size=\"14.00\">d</text>\n<polyline fill=\"none\" stroke=\"black\" points=\"661.75,-110 661.75,-145.5\"/>\n<text text-anchor=\"middle\" x=\"703.88\" y=\"-122.7\" font-family=\"Times,serif\" font-size=\"14.00\">data &#45;2.0000</text>\n<polyline fill=\"none\" stroke=\"black\" points=\"746,-110 746,-145.5\"/>\n<text text-anchor=\"middle\" x=\"786.62\" y=\"-122.7\" font-family=\"Times,serif\" font-size=\"14.00\">grad 4.0000</text>\n</g>\n<!-- 5101973136&#45;&gt;5101302208* -->\n<g id=\"edge8\" class=\"edge\">\n<title>5101973136&#45;&gt;5101302208*</title>\n<path fill=\"none\" stroke=\"black\" d=\"M827.49,-110.65C836.36,-109.05 844.93,-107.5 852.73,-106.09\"/>\n<polygon fill=\"black\" stroke=\"black\" points=\"853.2,-109.56 862.42,-104.34 851.95,-102.68 853.2,-109.56\"/>\n</g>\n<!-- 5101973184 -->\n<g id=\"node5\" class=\"node\">\n<title>5101973184</title>\n<polygon fill=\"none\" stroke=\"black\" points=\"318.75,-82.5 318.75,-118.5 513,-118.5 513,-82.5 318.75,-82.5\"/>\n<text text-anchor=\"middle\" x=\"329.75\" y=\"-95.7\" font-family=\"Times,serif\" font-size=\"14.00\">c</text>\n<polyline fill=\"none\" stroke=\"black\" points=\"340.75,-83 340.75,-118.5\"/>\n<text text-anchor=\"middle\" x=\"384\" y=\"-95.7\" font-family=\"Times,serif\" font-size=\"14.00\">data 10.0000</text>\n<polyline fill=\"none\" stroke=\"black\" points=\"427.25,-83 427.25,-118.5\"/>\n<text text-anchor=\"middle\" x=\"470.12\" y=\"-95.7\" font-family=\"Times,serif\" font-size=\"14.00\">grad &#45;2.0000</text>\n</g>\n<!-- 5101973184&#45;&gt;5101294672+ -->\n<g id=\"edge4\" class=\"edge\">\n<title>5101973184&#45;&gt;5101294672+</title>\n<path fill=\"none\" stroke=\"black\" d=\"M513.41,-83.41C522.21,-81.85 530.7,-80.34 538.42,-78.98\"/>\n<polygon fill=\"black\" stroke=\"black\" points=\"538.77,-82.47 548,-77.28 537.55,-75.58 538.77,-82.47\"/>\n</g>\n<!-- 5101289680 -->\n<g id=\"node6\" class=\"node\">\n<title>5101289680</title>\n<polygon fill=\"none\" stroke=\"black\" points=\"319.88,-27.5 319.88,-63.5 511.88,-63.5 511.88,-27.5 319.88,-27.5\"/>\n<text text-anchor=\"middle\" x=\"330.88\" y=\"-40.7\" font-family=\"Times,serif\" font-size=\"14.00\">e</text>\n<polyline fill=\"none\" stroke=\"black\" points=\"341.88,-28 341.88,-63.5\"/>\n<text text-anchor=\"middle\" x=\"384\" y=\"-40.7\" font-family=\"Times,serif\" font-size=\"14.00\">data &#45;6.0000</text>\n<polyline fill=\"none\" stroke=\"black\" points=\"426.12,-28 426.12,-63.5\"/>\n<text text-anchor=\"middle\" x=\"469\" y=\"-40.7\" font-family=\"Times,serif\" font-size=\"14.00\">grad &#45;2.0000</text>\n</g>\n<!-- 5101289680&#45;&gt;5101294672+ -->\n<g id=\"edge5\" class=\"edge\">\n<title>5101289680&#45;&gt;5101294672+</title>\n<path fill=\"none\" stroke=\"black\" d=\"M512.05,-61.75C521.28,-63.33 530.2,-64.85 538.29,-66.23\"/>\n<polygon fill=\"black\" stroke=\"black\" points=\"537.53,-69.65 547.98,-67.89 538.71,-62.75 537.53,-69.65\"/>\n</g>\n<!-- 5101289680*&#45;&gt;5101289680 -->\n<g id=\"edge2\" class=\"edge\">\n<title>5101289680*&#45;&gt;5101289680</title>\n<path fill=\"none\" stroke=\"black\" d=\"M283.22,-45.5C290.59,-45.5 299.09,-45.5 308.13,-45.5\"/>\n<polygon fill=\"black\" stroke=\"black\" points=\"307.89,-49 317.89,-45.5 307.89,-42 307.89,-49\"/>\n</g>\n<!-- 5101974864 -->\n<g id=\"node8\" class=\"node\">\n<title>5101974864</title>\n<polygon fill=\"none\" stroke=\"black\" points=\"4.88,-0.5 4.88,-36.5 187.88,-36.5 187.88,-0.5 4.88,-0.5\"/>\n<text text-anchor=\"middle\" x=\"15.88\" y=\"-13.7\" font-family=\"Times,serif\" font-size=\"14.00\">a</text>\n<polyline fill=\"none\" stroke=\"black\" points=\"26.88,-1 26.88,-36.5\"/>\n<text text-anchor=\"middle\" x=\"66.75\" y=\"-13.7\" font-family=\"Times,serif\" font-size=\"14.00\">data 2.0000</text>\n<polyline fill=\"none\" stroke=\"black\" points=\"106.62,-1 106.62,-36.5\"/>\n<text text-anchor=\"middle\" x=\"147.25\" y=\"-13.7\" font-family=\"Times,serif\" font-size=\"14.00\">grad 6.0000</text>\n</g>\n<!-- 5101974864&#45;&gt;5101289680* -->\n<g id=\"edge9\" class=\"edge\">\n<title>5101974864&#45;&gt;5101289680*</title>\n<path fill=\"none\" stroke=\"black\" d=\"M188.01,-34.05C198.46,-35.84 208.62,-37.59 217.74,-39.15\"/>\n<polygon fill=\"black\" stroke=\"black\" points=\"217.11,-42.59 227.56,-40.84 218.3,-35.69 217.11,-42.59\"/>\n</g>\n<!-- 5101302208 -->\n<g id=\"node9\" class=\"node\">\n<title>5101302208</title>\n<polygon fill=\"none\" stroke=\"black\" points=\"953.25,-81.5 953.25,-117.5 1143,-117.5 1143,-81.5 953.25,-81.5\"/>\n<text text-anchor=\"middle\" x=\"965.38\" y=\"-94.7\" font-family=\"Times,serif\" font-size=\"14.00\">L</text>\n<polyline fill=\"none\" stroke=\"black\" points=\"977.5,-82 977.5,-117.5\"/>\n<text text-anchor=\"middle\" x=\"1019.62\" y=\"-94.7\" font-family=\"Times,serif\" font-size=\"14.00\">data &#45;8.0000</text>\n<polyline fill=\"none\" stroke=\"black\" points=\"1061.75,-82 1061.75,-117.5\"/>\n<text text-anchor=\"middle\" x=\"1102.38\" y=\"-94.7\" font-family=\"Times,serif\" font-size=\"14.00\">grad 1.0000</text>\n</g>\n<!-- 5101302208*&#45;&gt;5101302208 -->\n<g id=\"edge3\" class=\"edge\">\n<title>5101302208*&#45;&gt;5101302208</title>\n<path fill=\"none\" stroke=\"black\" d=\"M917.69,-99.5C924.84,-99.5 933.03,-99.5 941.74,-99.5\"/>\n<polygon fill=\"black\" stroke=\"black\" points=\"941.51,-103 951.51,-99.5 941.51,-96 941.51,-103\"/>\n</g>\n</g>\n</svg>\n",
      "text/plain": [
       "<graphviz.graphs.Digraph at 0x1300fe710>"
      ]
     },
     "execution_count": 67,
     "metadata": {},
     "output_type": "execute_result"
    }
   ],
   "execution_count": 67
  },
  {
   "metadata": {},
   "cell_type": "markdown",
   "source": [
    "# Manual Backprop for a *Perceptron*\n",
    "\n",
    "A perceptron is a simplified mathematical model of a biological neuron. It is defined as such:\n",
    "$$perceptron(\\mathbf{x}) = f(\\mathbf{w}\\mathbf{x} + b),$$\n",
    "where\n",
    "- $\\mathbf{x}$ is the input vector\n",
    "- $\\mathbf{w}$ is the weight vector\n",
    "- $b$ is the bias scalar\n",
    "- $f(x)$ is the activation function"
   ]
  },
  {
   "metadata": {
    "ExecuteTime": {
     "end_time": "2024-12-08T16:08:19.015373Z",
     "start_time": "2024-12-08T16:08:18.935313Z"
    }
   },
   "cell_type": "code",
   "source": [
    "# Perceptron inputs x1, x2\n",
    "x1 = Value(2.0, label=\"x1\")\n",
    "x2 = Value(0.0, label=\"x2\")\n",
    "# Weights w1, w2, and bias b\n",
    "w1 = Value(-3.0, label=\"w1\")\n",
    "w2 = Value(1.0, label=\"w2\")\n",
    "b = Value(6.8813735870195432, label=\"b\")\n",
    "# n = x1*w1 + x2*w2 + b\n",
    "x1w1 = x1*w1; x1w1.label = \"x1*w1\"\n",
    "x2w2 = x2*w2; x2w2.label = \"x2*w2\"\n",
    "x1w1x2w2 = x1w1 + x2w2; x1w1x2w2.label = \"x1w1+x2w2\"\n",
    "n = x1w1x2w2 + b; n.label = \"n\"#\n",
    "o = n.tanh(); o.label = \"o\"\n",
    "draw_dot(o)"
   ],
   "outputs": [
    {
     "data": {
      "image/svg+xml": "<?xml version=\"1.0\" encoding=\"UTF-8\" standalone=\"no\"?>\n<!DOCTYPE svg PUBLIC \"-//W3C//DTD SVG 1.1//EN\"\n \"http://www.w3.org/Graphics/SVG/1.1/DTD/svg11.dtd\">\n<!-- Generated by graphviz version 12.2.0 (20241103.1931)\n -->\n<!-- Pages: 1 -->\n<svg width=\"1546pt\" height=\"210pt\"\n viewBox=\"0.00 0.00 1545.50 210.00\" xmlns=\"http://www.w3.org/2000/svg\" xmlns:xlink=\"http://www.w3.org/1999/xlink\">\n<g id=\"graph0\" class=\"graph\" transform=\"scale(1 1) rotate(0) translate(4 206)\">\n<polygon fill=\"white\" stroke=\"none\" points=\"-4,4 -4,-206 1541.5,-206 1541.5,4 -4,4\"/>\n<!-- 5101311488 -->\n<g id=\"node1\" class=\"node\">\n<title>5101311488</title>\n<polygon fill=\"none\" stroke=\"black\" points=\"3.75,-165.5 3.75,-201.5 194.25,-201.5 194.25,-165.5 3.75,-165.5\"/>\n<text text-anchor=\"middle\" x=\"18.5\" y=\"-178.7\" font-family=\"Times,serif\" font-size=\"14.00\">x2</text>\n<polyline fill=\"none\" stroke=\"black\" points=\"33.25,-166 33.25,-201.5\"/>\n<text text-anchor=\"middle\" x=\"73.12\" y=\"-178.7\" font-family=\"Times,serif\" font-size=\"14.00\">data 0.0000</text>\n<polyline fill=\"none\" stroke=\"black\" points=\"113,-166 113,-201.5\"/>\n<text text-anchor=\"middle\" x=\"153.62\" y=\"-178.7\" font-family=\"Times,serif\" font-size=\"14.00\">grad 0.0000</text>\n</g>\n<!-- 5101306976* -->\n<g id=\"node7\" class=\"node\">\n<title>5101306976*</title>\n<ellipse fill=\"none\" stroke=\"black\" cx=\"261\" cy=\"-128.5\" rx=\"27\" ry=\"18\"/>\n<text text-anchor=\"middle\" x=\"261\" y=\"-123.45\" font-family=\"Times,serif\" font-size=\"14.00\">*</text>\n</g>\n<!-- 5101311488&#45;&gt;5101306976* -->\n<g id=\"edge13\" class=\"edge\">\n<title>5101311488&#45;&gt;5101306976*</title>\n<path fill=\"none\" stroke=\"black\" d=\"M172.12,-165.01C180.9,-162.35 189.7,-159.5 198,-156.5 208.09,-152.86 218.82,-148.27 228.47,-143.88\"/>\n<polygon fill=\"black\" stroke=\"black\" points=\"229.86,-147.09 237.45,-139.69 226.9,-140.75 229.86,-147.09\"/>\n</g>\n<!-- 5101767216 -->\n<g id=\"node2\" class=\"node\">\n<title>5101767216</title>\n<polygon fill=\"none\" stroke=\"black\" points=\"1353.75,-54.5 1353.75,-90.5 1537.5,-90.5 1537.5,-54.5 1353.75,-54.5\"/>\n<text text-anchor=\"middle\" x=\"1365.12\" y=\"-67.7\" font-family=\"Times,serif\" font-size=\"14.00\">o</text>\n<polyline fill=\"none\" stroke=\"black\" points=\"1376.5,-55 1376.5,-90.5\"/>\n<text text-anchor=\"middle\" x=\"1416.38\" y=\"-67.7\" font-family=\"Times,serif\" font-size=\"14.00\">data 0.7071</text>\n<polyline fill=\"none\" stroke=\"black\" points=\"1456.25,-55 1456.25,-90.5\"/>\n<text text-anchor=\"middle\" x=\"1496.88\" y=\"-67.7\" font-family=\"Times,serif\" font-size=\"14.00\">grad 0.0000</text>\n</g>\n<!-- 5101767216tanh -->\n<g id=\"node3\" class=\"node\">\n<title>5101767216tanh</title>\n<ellipse fill=\"none\" stroke=\"black\" cx=\"1290.75\" cy=\"-72.5\" rx=\"27\" ry=\"18\"/>\n<text text-anchor=\"middle\" x=\"1290.75\" y=\"-67.45\" font-family=\"Times,serif\" font-size=\"14.00\">tanh</text>\n</g>\n<!-- 5101767216tanh&#45;&gt;5101767216 -->\n<g id=\"edge1\" class=\"edge\">\n<title>5101767216tanh&#45;&gt;5101767216</title>\n<path fill=\"none\" stroke=\"black\" d=\"M1318.03,-72.5C1325.17,-72.5 1333.36,-72.5 1342.07,-72.5\"/>\n<polygon fill=\"black\" stroke=\"black\" points=\"1341.81,-76 1351.81,-72.5 1341.81,-69 1341.81,-76\"/>\n</g>\n<!-- 5101320800 -->\n<g id=\"node4\" class=\"node\">\n<title>5101320800</title>\n<polygon fill=\"none\" stroke=\"black\" points=\"668.25,-82.5 668.25,-118.5 918,-118.5 918,-82.5 668.25,-82.5\"/>\n<text text-anchor=\"middle\" x=\"710.38\" y=\"-95.7\" font-family=\"Times,serif\" font-size=\"14.00\">x1w1+x2w2</text>\n<polyline fill=\"none\" stroke=\"black\" points=\"752.5,-83 752.5,-118.5\"/>\n<text text-anchor=\"middle\" x=\"794.62\" y=\"-95.7\" font-family=\"Times,serif\" font-size=\"14.00\">data &#45;6.0000</text>\n<polyline fill=\"none\" stroke=\"black\" points=\"836.75,-83 836.75,-118.5\"/>\n<text text-anchor=\"middle\" x=\"877.38\" y=\"-95.7\" font-family=\"Times,serif\" font-size=\"14.00\">grad 0.0000</text>\n</g>\n<!-- 5101766640+ -->\n<g id=\"node15\" class=\"node\">\n<title>5101766640+</title>\n<ellipse fill=\"none\" stroke=\"black\" cx=\"981\" cy=\"-72.5\" rx=\"27\" ry=\"18\"/>\n<text text-anchor=\"middle\" x=\"981\" y=\"-67.45\" font-family=\"Times,serif\" font-size=\"14.00\">+</text>\n</g>\n<!-- 5101320800&#45;&gt;5101766640+ -->\n<g id=\"edge6\" class=\"edge\">\n<title>5101320800&#45;&gt;5101766640+</title>\n<path fill=\"none\" stroke=\"black\" d=\"M916.81,-82.02C926.08,-80.62 934.9,-79.29 942.86,-78.09\"/>\n<polygon fill=\"black\" stroke=\"black\" points=\"943.36,-81.56 952.72,-76.61 942.31,-74.64 943.36,-81.56\"/>\n</g>\n<!-- 5101320800+ -->\n<g id=\"node5\" class=\"node\">\n<title>5101320800+</title>\n<ellipse fill=\"none\" stroke=\"black\" cx=\"605.25\" cy=\"-100.5\" rx=\"27\" ry=\"18\"/>\n<text text-anchor=\"middle\" x=\"605.25\" y=\"-95.45\" font-family=\"Times,serif\" font-size=\"14.00\">+</text>\n</g>\n<!-- 5101320800+&#45;&gt;5101320800 -->\n<g id=\"edge2\" class=\"edge\">\n<title>5101320800+&#45;&gt;5101320800</title>\n<path fill=\"none\" stroke=\"black\" d=\"M632.49,-100.5C639.52,-100.5 647.64,-100.5 656.4,-100.5\"/>\n<polygon fill=\"black\" stroke=\"black\" points=\"656.3,-104 666.3,-100.5 656.3,-97 656.3,-104\"/>\n</g>\n<!-- 5101306976 -->\n<g id=\"node6\" class=\"node\">\n<title>5101306976</title>\n<polygon fill=\"none\" stroke=\"black\" points=\"326.25,-110.5 326.25,-146.5 540,-146.5 540,-110.5 326.25,-110.5\"/>\n<text text-anchor=\"middle\" x=\"352.62\" y=\"-123.7\" font-family=\"Times,serif\" font-size=\"14.00\">x2*w2</text>\n<polyline fill=\"none\" stroke=\"black\" points=\"379,-111 379,-146.5\"/>\n<text text-anchor=\"middle\" x=\"418.88\" y=\"-123.7\" font-family=\"Times,serif\" font-size=\"14.00\">data 0.0000</text>\n<polyline fill=\"none\" stroke=\"black\" points=\"458.75,-111 458.75,-146.5\"/>\n<text text-anchor=\"middle\" x=\"499.38\" y=\"-123.7\" font-family=\"Times,serif\" font-size=\"14.00\">grad 0.0000</text>\n</g>\n<!-- 5101306976&#45;&gt;5101320800+ -->\n<g id=\"edge10\" class=\"edge\">\n<title>5101306976&#45;&gt;5101320800+</title>\n<path fill=\"none\" stroke=\"black\" d=\"M540.42,-111.01C549.89,-109.45 559,-107.95 567.21,-106.6\"/>\n<polygon fill=\"black\" stroke=\"black\" points=\"567.75,-110.05 577.05,-104.98 566.62,-103.15 567.75,-110.05\"/>\n</g>\n<!-- 5101306976*&#45;&gt;5101306976 -->\n<g id=\"edge3\" class=\"edge\">\n<title>5101306976*&#45;&gt;5101306976</title>\n<path fill=\"none\" stroke=\"black\" d=\"M288.21,-128.5C296,-128.5 305.08,-128.5 314.82,-128.5\"/>\n<polygon fill=\"black\" stroke=\"black\" points=\"314.55,-132 324.55,-128.5 314.55,-125 314.55,-132\"/>\n</g>\n<!-- 5101310288 -->\n<g id=\"node8\" class=\"node\">\n<title>5101310288</title>\n<polygon fill=\"none\" stroke=\"black\" points=\"3.75,-55.5 3.75,-91.5 194.25,-91.5 194.25,-55.5 3.75,-55.5\"/>\n<text text-anchor=\"middle\" x=\"18.5\" y=\"-68.7\" font-family=\"Times,serif\" font-size=\"14.00\">x1</text>\n<polyline fill=\"none\" stroke=\"black\" points=\"33.25,-56 33.25,-91.5\"/>\n<text text-anchor=\"middle\" x=\"73.12\" y=\"-68.7\" font-family=\"Times,serif\" font-size=\"14.00\">data 2.0000</text>\n<polyline fill=\"none\" stroke=\"black\" points=\"113,-56 113,-91.5\"/>\n<text text-anchor=\"middle\" x=\"153.62\" y=\"-68.7\" font-family=\"Times,serif\" font-size=\"14.00\">grad 0.0000</text>\n</g>\n<!-- 5101321088* -->\n<g id=\"node10\" class=\"node\">\n<title>5101321088*</title>\n<ellipse fill=\"none\" stroke=\"black\" cx=\"261\" cy=\"-73.5\" rx=\"27\" ry=\"18\"/>\n<text text-anchor=\"middle\" x=\"261\" y=\"-68.45\" font-family=\"Times,serif\" font-size=\"14.00\">*</text>\n</g>\n<!-- 5101310288&#45;&gt;5101321088* -->\n<g id=\"edge9\" class=\"edge\">\n<title>5101310288&#45;&gt;5101321088*</title>\n<path fill=\"none\" stroke=\"black\" d=\"M194.46,-73.5C204.21,-73.5 213.66,-73.5 222.21,-73.5\"/>\n<polygon fill=\"black\" stroke=\"black\" points=\"222.12,-77 232.12,-73.5 222.12,-70 222.12,-77\"/>\n</g>\n<!-- 5101321088 -->\n<g id=\"node9\" class=\"node\">\n<title>5101321088</title>\n<polygon fill=\"none\" stroke=\"black\" points=\"324,-55.5 324,-91.5 542.25,-91.5 542.25,-55.5 324,-55.5\"/>\n<text text-anchor=\"middle\" x=\"350.38\" y=\"-68.7\" font-family=\"Times,serif\" font-size=\"14.00\">x1*w1</text>\n<polyline fill=\"none\" stroke=\"black\" points=\"376.75,-56 376.75,-91.5\"/>\n<text text-anchor=\"middle\" x=\"418.88\" y=\"-68.7\" font-family=\"Times,serif\" font-size=\"14.00\">data &#45;6.0000</text>\n<polyline fill=\"none\" stroke=\"black\" points=\"461,-56 461,-91.5\"/>\n<text text-anchor=\"middle\" x=\"501.62\" y=\"-68.7\" font-family=\"Times,serif\" font-size=\"14.00\">grad 0.0000</text>\n</g>\n<!-- 5101321088&#45;&gt;5101320800+ -->\n<g id=\"edge12\" class=\"edge\">\n<title>5101321088&#45;&gt;5101320800+</title>\n<path fill=\"none\" stroke=\"black\" d=\"M542.35,-90.68C551.12,-92.07 559.54,-93.4 567.19,-94.62\"/>\n<polygon fill=\"black\" stroke=\"black\" points=\"566.59,-98.07 577.02,-96.18 567.69,-91.15 566.59,-98.07\"/>\n</g>\n<!-- 5101321088*&#45;&gt;5101321088 -->\n<g id=\"edge4\" class=\"edge\">\n<title>5101321088*&#45;&gt;5101321088</title>\n<path fill=\"none\" stroke=\"black\" d=\"M288.21,-73.5C295.29,-73.5 303.43,-73.5 312.17,-73.5\"/>\n<polygon fill=\"black\" stroke=\"black\" points=\"312.01,-77 322.01,-73.5 312.01,-70 312.01,-77\"/>\n</g>\n<!-- 5101307312 -->\n<g id=\"node11\" class=\"node\">\n<title>5101307312</title>\n<polygon fill=\"none\" stroke=\"black\" points=\"701.25,-27.5 701.25,-63.5 885,-63.5 885,-27.5 701.25,-27.5\"/>\n<text text-anchor=\"middle\" x=\"712.62\" y=\"-40.7\" font-family=\"Times,serif\" font-size=\"14.00\">b</text>\n<polyline fill=\"none\" stroke=\"black\" points=\"724,-28 724,-63.5\"/>\n<text text-anchor=\"middle\" x=\"763.88\" y=\"-40.7\" font-family=\"Times,serif\" font-size=\"14.00\">data 6.8814</text>\n<polyline fill=\"none\" stroke=\"black\" points=\"803.75,-28 803.75,-63.5\"/>\n<text text-anchor=\"middle\" x=\"844.38\" y=\"-40.7\" font-family=\"Times,serif\" font-size=\"14.00\">grad 0.0000</text>\n</g>\n<!-- 5101307312&#45;&gt;5101766640+ -->\n<g id=\"edge8\" class=\"edge\">\n<title>5101307312&#45;&gt;5101766640+</title>\n<path fill=\"none\" stroke=\"black\" d=\"M885.43,-58.76C906.02,-61.75 926.71,-64.76 943.47,-67.19\"/>\n<polygon fill=\"black\" stroke=\"black\" points=\"942.5,-70.59 952.9,-68.56 943.5,-63.66 942.5,-70.59\"/>\n</g>\n<!-- 5101306304 -->\n<g id=\"node12\" class=\"node\">\n<title>5101306304</title>\n<polygon fill=\"none\" stroke=\"black\" points=\"2.25,-110.5 2.25,-146.5 195.75,-146.5 195.75,-110.5 2.25,-110.5\"/>\n<text text-anchor=\"middle\" x=\"18.5\" y=\"-123.7\" font-family=\"Times,serif\" font-size=\"14.00\">w2</text>\n<polyline fill=\"none\" stroke=\"black\" points=\"34.75,-111 34.75,-146.5\"/>\n<text text-anchor=\"middle\" x=\"74.62\" y=\"-123.7\" font-family=\"Times,serif\" font-size=\"14.00\">data 1.0000</text>\n<polyline fill=\"none\" stroke=\"black\" points=\"114.5,-111 114.5,-146.5\"/>\n<text text-anchor=\"middle\" x=\"155.12\" y=\"-123.7\" font-family=\"Times,serif\" font-size=\"14.00\">grad 0.0000</text>\n</g>\n<!-- 5101306304&#45;&gt;5101306976* -->\n<g id=\"edge11\" class=\"edge\">\n<title>5101306304&#45;&gt;5101306976*</title>\n<path fill=\"none\" stroke=\"black\" d=\"M195.84,-128.5C205.14,-128.5 214.15,-128.5 222.32,-128.5\"/>\n<polygon fill=\"black\" stroke=\"black\" points=\"222.13,-132 232.13,-128.5 222.13,-125 222.13,-132\"/>\n</g>\n<!-- 5101320656 -->\n<g id=\"node13\" class=\"node\">\n<title>5101320656</title>\n<polygon fill=\"none\" stroke=\"black\" points=\"0,-0.5 0,-36.5 198,-36.5 198,-0.5 0,-0.5\"/>\n<text text-anchor=\"middle\" x=\"16.25\" y=\"-13.7\" font-family=\"Times,serif\" font-size=\"14.00\">w1</text>\n<polyline fill=\"none\" stroke=\"black\" points=\"32.5,-1 32.5,-36.5\"/>\n<text text-anchor=\"middle\" x=\"74.62\" y=\"-13.7\" font-family=\"Times,serif\" font-size=\"14.00\">data &#45;3.0000</text>\n<polyline fill=\"none\" stroke=\"black\" points=\"116.75,-1 116.75,-36.5\"/>\n<text text-anchor=\"middle\" x=\"157.38\" y=\"-13.7\" font-family=\"Times,serif\" font-size=\"14.00\">grad 0.0000</text>\n</g>\n<!-- 5101320656&#45;&gt;5101321088* -->\n<g id=\"edge7\" class=\"edge\">\n<title>5101320656&#45;&gt;5101321088*</title>\n<path fill=\"none\" stroke=\"black\" d=\"M172.12,-36.99C180.9,-39.65 189.7,-42.5 198,-45.5 208.09,-49.14 218.82,-53.73 228.47,-58.12\"/>\n<polygon fill=\"black\" stroke=\"black\" points=\"226.9,-61.25 237.45,-62.31 229.86,-54.91 226.9,-61.25\"/>\n</g>\n<!-- 5101766640 -->\n<g id=\"node14\" class=\"node\">\n<title>5101766640</title>\n<polygon fill=\"none\" stroke=\"black\" points=\"1044,-54.5 1044,-90.5 1227.75,-90.5 1227.75,-54.5 1044,-54.5\"/>\n<text text-anchor=\"middle\" x=\"1055.38\" y=\"-67.7\" font-family=\"Times,serif\" font-size=\"14.00\">n</text>\n<polyline fill=\"none\" stroke=\"black\" points=\"1066.75,-55 1066.75,-90.5\"/>\n<text text-anchor=\"middle\" x=\"1106.62\" y=\"-67.7\" font-family=\"Times,serif\" font-size=\"14.00\">data 0.8814</text>\n<polyline fill=\"none\" stroke=\"black\" points=\"1146.5,-55 1146.5,-90.5\"/>\n<text text-anchor=\"middle\" x=\"1187.12\" y=\"-67.7\" font-family=\"Times,serif\" font-size=\"14.00\">grad 0.0000</text>\n</g>\n<!-- 5101766640&#45;&gt;5101767216tanh -->\n<g id=\"edge14\" class=\"edge\">\n<title>5101766640&#45;&gt;5101767216tanh</title>\n<path fill=\"none\" stroke=\"black\" d=\"M1228.01,-72.5C1236.39,-72.5 1244.52,-72.5 1251.98,-72.5\"/>\n<polygon fill=\"black\" stroke=\"black\" points=\"1251.95,-76 1261.95,-72.5 1251.95,-69 1251.95,-76\"/>\n</g>\n<!-- 5101766640+&#45;&gt;5101766640 -->\n<g id=\"edge5\" class=\"edge\">\n<title>5101766640+&#45;&gt;5101766640</title>\n<path fill=\"none\" stroke=\"black\" d=\"M1008.28,-72.5C1015.42,-72.5 1023.61,-72.5 1032.32,-72.5\"/>\n<polygon fill=\"black\" stroke=\"black\" points=\"1032.06,-76 1042.06,-72.5 1032.06,-69 1032.06,-76\"/>\n</g>\n</g>\n</svg>\n",
      "text/plain": [
       "<graphviz.graphs.Digraph at 0x13016c730>"
      ]
     },
     "execution_count": 68,
     "metadata": {},
     "output_type": "execute_result"
    }
   ],
   "execution_count": 68
  },
  {
   "metadata": {},
   "cell_type": "markdown",
   "source": "## Backpropagation Step 1: o"
  },
  {
   "metadata": {
    "ExecuteTime": {
     "end_time": "2024-12-08T16:08:19.098575Z",
     "start_time": "2024-12-08T16:08:19.022427Z"
    }
   },
   "cell_type": "code",
   "source": [
    "o.grad = 1\n",
    "draw_dot(o)"
   ],
   "outputs": [
    {
     "data": {
      "image/svg+xml": "<?xml version=\"1.0\" encoding=\"UTF-8\" standalone=\"no\"?>\n<!DOCTYPE svg PUBLIC \"-//W3C//DTD SVG 1.1//EN\"\n \"http://www.w3.org/Graphics/SVG/1.1/DTD/svg11.dtd\">\n<!-- Generated by graphviz version 12.2.0 (20241103.1931)\n -->\n<!-- Pages: 1 -->\n<svg width=\"1546pt\" height=\"210pt\"\n viewBox=\"0.00 0.00 1545.50 210.00\" xmlns=\"http://www.w3.org/2000/svg\" xmlns:xlink=\"http://www.w3.org/1999/xlink\">\n<g id=\"graph0\" class=\"graph\" transform=\"scale(1 1) rotate(0) translate(4 206)\">\n<polygon fill=\"white\" stroke=\"none\" points=\"-4,4 -4,-206 1541.5,-206 1541.5,4 -4,4\"/>\n<!-- 5101311488 -->\n<g id=\"node1\" class=\"node\">\n<title>5101311488</title>\n<polygon fill=\"none\" stroke=\"black\" points=\"3.75,-165.5 3.75,-201.5 194.25,-201.5 194.25,-165.5 3.75,-165.5\"/>\n<text text-anchor=\"middle\" x=\"18.5\" y=\"-178.7\" font-family=\"Times,serif\" font-size=\"14.00\">x2</text>\n<polyline fill=\"none\" stroke=\"black\" points=\"33.25,-166 33.25,-201.5\"/>\n<text text-anchor=\"middle\" x=\"73.12\" y=\"-178.7\" font-family=\"Times,serif\" font-size=\"14.00\">data 0.0000</text>\n<polyline fill=\"none\" stroke=\"black\" points=\"113,-166 113,-201.5\"/>\n<text text-anchor=\"middle\" x=\"153.62\" y=\"-178.7\" font-family=\"Times,serif\" font-size=\"14.00\">grad 0.0000</text>\n</g>\n<!-- 5101306976* -->\n<g id=\"node7\" class=\"node\">\n<title>5101306976*</title>\n<ellipse fill=\"none\" stroke=\"black\" cx=\"261\" cy=\"-128.5\" rx=\"27\" ry=\"18\"/>\n<text text-anchor=\"middle\" x=\"261\" y=\"-123.45\" font-family=\"Times,serif\" font-size=\"14.00\">*</text>\n</g>\n<!-- 5101311488&#45;&gt;5101306976* -->\n<g id=\"edge13\" class=\"edge\">\n<title>5101311488&#45;&gt;5101306976*</title>\n<path fill=\"none\" stroke=\"black\" d=\"M172.12,-165.01C180.9,-162.35 189.7,-159.5 198,-156.5 208.09,-152.86 218.82,-148.27 228.47,-143.88\"/>\n<polygon fill=\"black\" stroke=\"black\" points=\"229.86,-147.09 237.45,-139.69 226.9,-140.75 229.86,-147.09\"/>\n</g>\n<!-- 5101767216 -->\n<g id=\"node2\" class=\"node\">\n<title>5101767216</title>\n<polygon fill=\"none\" stroke=\"black\" points=\"1353.75,-54.5 1353.75,-90.5 1537.5,-90.5 1537.5,-54.5 1353.75,-54.5\"/>\n<text text-anchor=\"middle\" x=\"1365.12\" y=\"-67.7\" font-family=\"Times,serif\" font-size=\"14.00\">o</text>\n<polyline fill=\"none\" stroke=\"black\" points=\"1376.5,-55 1376.5,-90.5\"/>\n<text text-anchor=\"middle\" x=\"1416.38\" y=\"-67.7\" font-family=\"Times,serif\" font-size=\"14.00\">data 0.7071</text>\n<polyline fill=\"none\" stroke=\"black\" points=\"1456.25,-55 1456.25,-90.5\"/>\n<text text-anchor=\"middle\" x=\"1496.88\" y=\"-67.7\" font-family=\"Times,serif\" font-size=\"14.00\">grad 1.0000</text>\n</g>\n<!-- 5101767216tanh -->\n<g id=\"node3\" class=\"node\">\n<title>5101767216tanh</title>\n<ellipse fill=\"none\" stroke=\"black\" cx=\"1290.75\" cy=\"-72.5\" rx=\"27\" ry=\"18\"/>\n<text text-anchor=\"middle\" x=\"1290.75\" y=\"-67.45\" font-family=\"Times,serif\" font-size=\"14.00\">tanh</text>\n</g>\n<!-- 5101767216tanh&#45;&gt;5101767216 -->\n<g id=\"edge1\" class=\"edge\">\n<title>5101767216tanh&#45;&gt;5101767216</title>\n<path fill=\"none\" stroke=\"black\" d=\"M1318.03,-72.5C1325.17,-72.5 1333.36,-72.5 1342.07,-72.5\"/>\n<polygon fill=\"black\" stroke=\"black\" points=\"1341.81,-76 1351.81,-72.5 1341.81,-69 1341.81,-76\"/>\n</g>\n<!-- 5101320800 -->\n<g id=\"node4\" class=\"node\">\n<title>5101320800</title>\n<polygon fill=\"none\" stroke=\"black\" points=\"668.25,-82.5 668.25,-118.5 918,-118.5 918,-82.5 668.25,-82.5\"/>\n<text text-anchor=\"middle\" x=\"710.38\" y=\"-95.7\" font-family=\"Times,serif\" font-size=\"14.00\">x1w1+x2w2</text>\n<polyline fill=\"none\" stroke=\"black\" points=\"752.5,-83 752.5,-118.5\"/>\n<text text-anchor=\"middle\" x=\"794.62\" y=\"-95.7\" font-family=\"Times,serif\" font-size=\"14.00\">data &#45;6.0000</text>\n<polyline fill=\"none\" stroke=\"black\" points=\"836.75,-83 836.75,-118.5\"/>\n<text text-anchor=\"middle\" x=\"877.38\" y=\"-95.7\" font-family=\"Times,serif\" font-size=\"14.00\">grad 0.0000</text>\n</g>\n<!-- 5101766640+ -->\n<g id=\"node15\" class=\"node\">\n<title>5101766640+</title>\n<ellipse fill=\"none\" stroke=\"black\" cx=\"981\" cy=\"-72.5\" rx=\"27\" ry=\"18\"/>\n<text text-anchor=\"middle\" x=\"981\" y=\"-67.45\" font-family=\"Times,serif\" font-size=\"14.00\">+</text>\n</g>\n<!-- 5101320800&#45;&gt;5101766640+ -->\n<g id=\"edge6\" class=\"edge\">\n<title>5101320800&#45;&gt;5101766640+</title>\n<path fill=\"none\" stroke=\"black\" d=\"M916.81,-82.02C926.08,-80.62 934.9,-79.29 942.86,-78.09\"/>\n<polygon fill=\"black\" stroke=\"black\" points=\"943.36,-81.56 952.72,-76.61 942.31,-74.64 943.36,-81.56\"/>\n</g>\n<!-- 5101320800+ -->\n<g id=\"node5\" class=\"node\">\n<title>5101320800+</title>\n<ellipse fill=\"none\" stroke=\"black\" cx=\"605.25\" cy=\"-100.5\" rx=\"27\" ry=\"18\"/>\n<text text-anchor=\"middle\" x=\"605.25\" y=\"-95.45\" font-family=\"Times,serif\" font-size=\"14.00\">+</text>\n</g>\n<!-- 5101320800+&#45;&gt;5101320800 -->\n<g id=\"edge2\" class=\"edge\">\n<title>5101320800+&#45;&gt;5101320800</title>\n<path fill=\"none\" stroke=\"black\" d=\"M632.49,-100.5C639.52,-100.5 647.64,-100.5 656.4,-100.5\"/>\n<polygon fill=\"black\" stroke=\"black\" points=\"656.3,-104 666.3,-100.5 656.3,-97 656.3,-104\"/>\n</g>\n<!-- 5101306976 -->\n<g id=\"node6\" class=\"node\">\n<title>5101306976</title>\n<polygon fill=\"none\" stroke=\"black\" points=\"326.25,-110.5 326.25,-146.5 540,-146.5 540,-110.5 326.25,-110.5\"/>\n<text text-anchor=\"middle\" x=\"352.62\" y=\"-123.7\" font-family=\"Times,serif\" font-size=\"14.00\">x2*w2</text>\n<polyline fill=\"none\" stroke=\"black\" points=\"379,-111 379,-146.5\"/>\n<text text-anchor=\"middle\" x=\"418.88\" y=\"-123.7\" font-family=\"Times,serif\" font-size=\"14.00\">data 0.0000</text>\n<polyline fill=\"none\" stroke=\"black\" points=\"458.75,-111 458.75,-146.5\"/>\n<text text-anchor=\"middle\" x=\"499.38\" y=\"-123.7\" font-family=\"Times,serif\" font-size=\"14.00\">grad 0.0000</text>\n</g>\n<!-- 5101306976&#45;&gt;5101320800+ -->\n<g id=\"edge10\" class=\"edge\">\n<title>5101306976&#45;&gt;5101320800+</title>\n<path fill=\"none\" stroke=\"black\" d=\"M540.42,-111.01C549.89,-109.45 559,-107.95 567.21,-106.6\"/>\n<polygon fill=\"black\" stroke=\"black\" points=\"567.75,-110.05 577.05,-104.98 566.62,-103.15 567.75,-110.05\"/>\n</g>\n<!-- 5101306976*&#45;&gt;5101306976 -->\n<g id=\"edge3\" class=\"edge\">\n<title>5101306976*&#45;&gt;5101306976</title>\n<path fill=\"none\" stroke=\"black\" d=\"M288.21,-128.5C296,-128.5 305.08,-128.5 314.82,-128.5\"/>\n<polygon fill=\"black\" stroke=\"black\" points=\"314.55,-132 324.55,-128.5 314.55,-125 314.55,-132\"/>\n</g>\n<!-- 5101310288 -->\n<g id=\"node8\" class=\"node\">\n<title>5101310288</title>\n<polygon fill=\"none\" stroke=\"black\" points=\"3.75,-55.5 3.75,-91.5 194.25,-91.5 194.25,-55.5 3.75,-55.5\"/>\n<text text-anchor=\"middle\" x=\"18.5\" y=\"-68.7\" font-family=\"Times,serif\" font-size=\"14.00\">x1</text>\n<polyline fill=\"none\" stroke=\"black\" points=\"33.25,-56 33.25,-91.5\"/>\n<text text-anchor=\"middle\" x=\"73.12\" y=\"-68.7\" font-family=\"Times,serif\" font-size=\"14.00\">data 2.0000</text>\n<polyline fill=\"none\" stroke=\"black\" points=\"113,-56 113,-91.5\"/>\n<text text-anchor=\"middle\" x=\"153.62\" y=\"-68.7\" font-family=\"Times,serif\" font-size=\"14.00\">grad 0.0000</text>\n</g>\n<!-- 5101321088* -->\n<g id=\"node10\" class=\"node\">\n<title>5101321088*</title>\n<ellipse fill=\"none\" stroke=\"black\" cx=\"261\" cy=\"-73.5\" rx=\"27\" ry=\"18\"/>\n<text text-anchor=\"middle\" x=\"261\" y=\"-68.45\" font-family=\"Times,serif\" font-size=\"14.00\">*</text>\n</g>\n<!-- 5101310288&#45;&gt;5101321088* -->\n<g id=\"edge9\" class=\"edge\">\n<title>5101310288&#45;&gt;5101321088*</title>\n<path fill=\"none\" stroke=\"black\" d=\"M194.46,-73.5C204.21,-73.5 213.66,-73.5 222.21,-73.5\"/>\n<polygon fill=\"black\" stroke=\"black\" points=\"222.12,-77 232.12,-73.5 222.12,-70 222.12,-77\"/>\n</g>\n<!-- 5101321088 -->\n<g id=\"node9\" class=\"node\">\n<title>5101321088</title>\n<polygon fill=\"none\" stroke=\"black\" points=\"324,-55.5 324,-91.5 542.25,-91.5 542.25,-55.5 324,-55.5\"/>\n<text text-anchor=\"middle\" x=\"350.38\" y=\"-68.7\" font-family=\"Times,serif\" font-size=\"14.00\">x1*w1</text>\n<polyline fill=\"none\" stroke=\"black\" points=\"376.75,-56 376.75,-91.5\"/>\n<text text-anchor=\"middle\" x=\"418.88\" y=\"-68.7\" font-family=\"Times,serif\" font-size=\"14.00\">data &#45;6.0000</text>\n<polyline fill=\"none\" stroke=\"black\" points=\"461,-56 461,-91.5\"/>\n<text text-anchor=\"middle\" x=\"501.62\" y=\"-68.7\" font-family=\"Times,serif\" font-size=\"14.00\">grad 0.0000</text>\n</g>\n<!-- 5101321088&#45;&gt;5101320800+ -->\n<g id=\"edge12\" class=\"edge\">\n<title>5101321088&#45;&gt;5101320800+</title>\n<path fill=\"none\" stroke=\"black\" d=\"M542.35,-90.68C551.12,-92.07 559.54,-93.4 567.19,-94.62\"/>\n<polygon fill=\"black\" stroke=\"black\" points=\"566.59,-98.07 577.02,-96.18 567.69,-91.15 566.59,-98.07\"/>\n</g>\n<!-- 5101321088*&#45;&gt;5101321088 -->\n<g id=\"edge4\" class=\"edge\">\n<title>5101321088*&#45;&gt;5101321088</title>\n<path fill=\"none\" stroke=\"black\" d=\"M288.21,-73.5C295.29,-73.5 303.43,-73.5 312.17,-73.5\"/>\n<polygon fill=\"black\" stroke=\"black\" points=\"312.01,-77 322.01,-73.5 312.01,-70 312.01,-77\"/>\n</g>\n<!-- 5101307312 -->\n<g id=\"node11\" class=\"node\">\n<title>5101307312</title>\n<polygon fill=\"none\" stroke=\"black\" points=\"701.25,-27.5 701.25,-63.5 885,-63.5 885,-27.5 701.25,-27.5\"/>\n<text text-anchor=\"middle\" x=\"712.62\" y=\"-40.7\" font-family=\"Times,serif\" font-size=\"14.00\">b</text>\n<polyline fill=\"none\" stroke=\"black\" points=\"724,-28 724,-63.5\"/>\n<text text-anchor=\"middle\" x=\"763.88\" y=\"-40.7\" font-family=\"Times,serif\" font-size=\"14.00\">data 6.8814</text>\n<polyline fill=\"none\" stroke=\"black\" points=\"803.75,-28 803.75,-63.5\"/>\n<text text-anchor=\"middle\" x=\"844.38\" y=\"-40.7\" font-family=\"Times,serif\" font-size=\"14.00\">grad 0.0000</text>\n</g>\n<!-- 5101307312&#45;&gt;5101766640+ -->\n<g id=\"edge8\" class=\"edge\">\n<title>5101307312&#45;&gt;5101766640+</title>\n<path fill=\"none\" stroke=\"black\" d=\"M885.43,-58.76C906.02,-61.75 926.71,-64.76 943.47,-67.19\"/>\n<polygon fill=\"black\" stroke=\"black\" points=\"942.5,-70.59 952.9,-68.56 943.5,-63.66 942.5,-70.59\"/>\n</g>\n<!-- 5101306304 -->\n<g id=\"node12\" class=\"node\">\n<title>5101306304</title>\n<polygon fill=\"none\" stroke=\"black\" points=\"2.25,-110.5 2.25,-146.5 195.75,-146.5 195.75,-110.5 2.25,-110.5\"/>\n<text text-anchor=\"middle\" x=\"18.5\" y=\"-123.7\" font-family=\"Times,serif\" font-size=\"14.00\">w2</text>\n<polyline fill=\"none\" stroke=\"black\" points=\"34.75,-111 34.75,-146.5\"/>\n<text text-anchor=\"middle\" x=\"74.62\" y=\"-123.7\" font-family=\"Times,serif\" font-size=\"14.00\">data 1.0000</text>\n<polyline fill=\"none\" stroke=\"black\" points=\"114.5,-111 114.5,-146.5\"/>\n<text text-anchor=\"middle\" x=\"155.12\" y=\"-123.7\" font-family=\"Times,serif\" font-size=\"14.00\">grad 0.0000</text>\n</g>\n<!-- 5101306304&#45;&gt;5101306976* -->\n<g id=\"edge11\" class=\"edge\">\n<title>5101306304&#45;&gt;5101306976*</title>\n<path fill=\"none\" stroke=\"black\" d=\"M195.84,-128.5C205.14,-128.5 214.15,-128.5 222.32,-128.5\"/>\n<polygon fill=\"black\" stroke=\"black\" points=\"222.13,-132 232.13,-128.5 222.13,-125 222.13,-132\"/>\n</g>\n<!-- 5101320656 -->\n<g id=\"node13\" class=\"node\">\n<title>5101320656</title>\n<polygon fill=\"none\" stroke=\"black\" points=\"0,-0.5 0,-36.5 198,-36.5 198,-0.5 0,-0.5\"/>\n<text text-anchor=\"middle\" x=\"16.25\" y=\"-13.7\" font-family=\"Times,serif\" font-size=\"14.00\">w1</text>\n<polyline fill=\"none\" stroke=\"black\" points=\"32.5,-1 32.5,-36.5\"/>\n<text text-anchor=\"middle\" x=\"74.62\" y=\"-13.7\" font-family=\"Times,serif\" font-size=\"14.00\">data &#45;3.0000</text>\n<polyline fill=\"none\" stroke=\"black\" points=\"116.75,-1 116.75,-36.5\"/>\n<text text-anchor=\"middle\" x=\"157.38\" y=\"-13.7\" font-family=\"Times,serif\" font-size=\"14.00\">grad 0.0000</text>\n</g>\n<!-- 5101320656&#45;&gt;5101321088* -->\n<g id=\"edge7\" class=\"edge\">\n<title>5101320656&#45;&gt;5101321088*</title>\n<path fill=\"none\" stroke=\"black\" d=\"M172.12,-36.99C180.9,-39.65 189.7,-42.5 198,-45.5 208.09,-49.14 218.82,-53.73 228.47,-58.12\"/>\n<polygon fill=\"black\" stroke=\"black\" points=\"226.9,-61.25 237.45,-62.31 229.86,-54.91 226.9,-61.25\"/>\n</g>\n<!-- 5101766640 -->\n<g id=\"node14\" class=\"node\">\n<title>5101766640</title>\n<polygon fill=\"none\" stroke=\"black\" points=\"1044,-54.5 1044,-90.5 1227.75,-90.5 1227.75,-54.5 1044,-54.5\"/>\n<text text-anchor=\"middle\" x=\"1055.38\" y=\"-67.7\" font-family=\"Times,serif\" font-size=\"14.00\">n</text>\n<polyline fill=\"none\" stroke=\"black\" points=\"1066.75,-55 1066.75,-90.5\"/>\n<text text-anchor=\"middle\" x=\"1106.62\" y=\"-67.7\" font-family=\"Times,serif\" font-size=\"14.00\">data 0.8814</text>\n<polyline fill=\"none\" stroke=\"black\" points=\"1146.5,-55 1146.5,-90.5\"/>\n<text text-anchor=\"middle\" x=\"1187.12\" y=\"-67.7\" font-family=\"Times,serif\" font-size=\"14.00\">grad 0.0000</text>\n</g>\n<!-- 5101766640&#45;&gt;5101767216tanh -->\n<g id=\"edge14\" class=\"edge\">\n<title>5101766640&#45;&gt;5101767216tanh</title>\n<path fill=\"none\" stroke=\"black\" d=\"M1228.01,-72.5C1236.39,-72.5 1244.52,-72.5 1251.98,-72.5\"/>\n<polygon fill=\"black\" stroke=\"black\" points=\"1251.95,-76 1261.95,-72.5 1251.95,-69 1251.95,-76\"/>\n</g>\n<!-- 5101766640+&#45;&gt;5101766640 -->\n<g id=\"edge5\" class=\"edge\">\n<title>5101766640+&#45;&gt;5101766640</title>\n<path fill=\"none\" stroke=\"black\" d=\"M1008.28,-72.5C1015.42,-72.5 1023.61,-72.5 1032.32,-72.5\"/>\n<polygon fill=\"black\" stroke=\"black\" points=\"1032.06,-76 1042.06,-72.5 1032.06,-69 1032.06,-76\"/>\n</g>\n</g>\n</svg>\n",
      "text/plain": [
       "<graphviz.graphs.Digraph at 0x1300e6aa0>"
      ]
     },
     "execution_count": 69,
     "metadata": {},
     "output_type": "execute_result"
    }
   ],
   "execution_count": 69
  },
  {
   "metadata": {},
   "cell_type": "markdown",
   "source": "## Backpropagation Step 2: n"
  },
  {
   "metadata": {},
   "cell_type": "markdown",
   "source": [
    "We know that the derivative of $tanh(x)$ is equal to $1 - tanh^2(x)$. Therefor we can calculate\n",
    "\n",
    "$$\\frac{\\partial o}{\\partial n} = 1 - o^2 = 1 - 0.7071^2 = 0.5$$"
   ]
  },
  {
   "metadata": {
    "ExecuteTime": {
     "end_time": "2024-12-08T16:08:19.190342Z",
     "start_time": "2024-12-08T16:08:19.105442Z"
    }
   },
   "cell_type": "code",
   "source": [
    "dot, derivative = partial_using_lim(o, n)\n",
    "print(derivative)\n",
    "dot"
   ],
   "outputs": [
    {
     "name": "stdout",
     "output_type": "stream",
     "text": [
      "0.4999646454939555\n"
     ]
    },
    {
     "data": {
      "image/svg+xml": "<?xml version=\"1.0\" encoding=\"UTF-8\" standalone=\"no\"?>\n<!DOCTYPE svg PUBLIC \"-//W3C//DTD SVG 1.1//EN\"\n \"http://www.w3.org/Graphics/SVG/1.1/DTD/svg11.dtd\">\n<!-- Generated by graphviz version 12.2.0 (20241103.1931)\n -->\n<!-- Pages: 1 -->\n<svg width=\"592pt\" height=\"45pt\"\n viewBox=\"0.00 0.00 591.50 45.00\" xmlns=\"http://www.w3.org/2000/svg\" xmlns:xlink=\"http://www.w3.org/1999/xlink\">\n<g id=\"graph0\" class=\"graph\" transform=\"scale(1 1) rotate(0) translate(4 41)\">\n<polygon fill=\"white\" stroke=\"none\" points=\"-4,4 -4,-41 587.5,-41 587.5,4 -4,4\"/>\n<!-- 5101218320 -->\n<g id=\"node1\" class=\"node\">\n<title>5101218320</title>\n<polygon fill=\"none\" stroke=\"black\" points=\"399.75,-0.5 399.75,-36.5 583.5,-36.5 583.5,-0.5 399.75,-0.5\"/>\n<text text-anchor=\"middle\" x=\"411.12\" y=\"-13.7\" font-family=\"Times,serif\" font-size=\"14.00\">o</text>\n<polyline fill=\"none\" stroke=\"black\" points=\"422.5,-1 422.5,-36.5\"/>\n<text text-anchor=\"middle\" x=\"462.38\" y=\"-13.7\" font-family=\"Times,serif\" font-size=\"14.00\">data 0.7072</text>\n<polyline fill=\"none\" stroke=\"black\" points=\"502.25,-1 502.25,-36.5\"/>\n<text text-anchor=\"middle\" x=\"542.88\" y=\"-13.7\" font-family=\"Times,serif\" font-size=\"14.00\">grad 0.0000</text>\n</g>\n<!-- 5101218320tanh -->\n<g id=\"node2\" class=\"node\">\n<title>5101218320tanh</title>\n<ellipse fill=\"none\" stroke=\"black\" cx=\"336.75\" cy=\"-18.5\" rx=\"27\" ry=\"18\"/>\n<text text-anchor=\"middle\" x=\"336.75\" y=\"-13.45\" font-family=\"Times,serif\" font-size=\"14.00\">tanh</text>\n</g>\n<!-- 5101218320tanh&#45;&gt;5101218320 -->\n<g id=\"edge1\" class=\"edge\">\n<title>5101218320tanh&#45;&gt;5101218320</title>\n<path fill=\"none\" stroke=\"black\" d=\"M364.03,-18.5C371.17,-18.5 379.36,-18.5 388.07,-18.5\"/>\n<polygon fill=\"black\" stroke=\"black\" points=\"387.81,-22 397.81,-18.5 387.81,-15 387.81,-22\"/>\n</g>\n<!-- 5101223360 -->\n<g id=\"node3\" class=\"node\">\n<title>5101223360</title>\n<polygon fill=\"none\" stroke=\"black\" points=\"90,-0.5 90,-36.5 273.75,-36.5 273.75,-0.5 90,-0.5\"/>\n<text text-anchor=\"middle\" x=\"101.38\" y=\"-13.7\" font-family=\"Times,serif\" font-size=\"14.00\">n</text>\n<polyline fill=\"none\" stroke=\"black\" points=\"112.75,-1 112.75,-36.5\"/>\n<text text-anchor=\"middle\" x=\"152.62\" y=\"-13.7\" font-family=\"Times,serif\" font-size=\"14.00\">data 0.8815</text>\n<polyline fill=\"none\" stroke=\"black\" points=\"192.5,-1 192.5,-36.5\"/>\n<text text-anchor=\"middle\" x=\"233.12\" y=\"-13.7\" font-family=\"Times,serif\" font-size=\"14.00\">grad 0.0000</text>\n</g>\n<!-- 5101223360&#45;&gt;5101218320tanh -->\n<g id=\"edge3\" class=\"edge\">\n<title>5101223360&#45;&gt;5101218320tanh</title>\n<path fill=\"none\" stroke=\"black\" d=\"M274.01,-18.5C282.39,-18.5 290.52,-18.5 297.98,-18.5\"/>\n<polygon fill=\"black\" stroke=\"black\" points=\"297.95,-22 307.95,-18.5 297.95,-15 297.95,-22\"/>\n</g>\n<!-- 5101223360+ -->\n<g id=\"node4\" class=\"node\">\n<title>5101223360+</title>\n<ellipse fill=\"none\" stroke=\"black\" cx=\"27\" cy=\"-18.5\" rx=\"27\" ry=\"18\"/>\n<text text-anchor=\"middle\" x=\"27\" y=\"-13.45\" font-family=\"Times,serif\" font-size=\"14.00\">+</text>\n</g>\n<!-- 5101223360+&#45;&gt;5101223360 -->\n<g id=\"edge2\" class=\"edge\">\n<title>5101223360+&#45;&gt;5101223360</title>\n<path fill=\"none\" stroke=\"black\" d=\"M54.28,-18.5C61.42,-18.5 69.61,-18.5 78.32,-18.5\"/>\n<polygon fill=\"black\" stroke=\"black\" points=\"78.06,-22 88.06,-18.5 78.06,-15 78.06,-22\"/>\n</g>\n</g>\n</svg>\n",
      "text/plain": [
       "<graphviz.graphs.Digraph at 0x1300e7910>"
      ]
     },
     "execution_count": 70,
     "metadata": {},
     "output_type": "execute_result"
    }
   ],
   "execution_count": 70
  },
  {
   "metadata": {
    "ExecuteTime": {
     "end_time": "2024-12-08T16:08:19.277439Z",
     "start_time": "2024-12-08T16:08:19.197323Z"
    }
   },
   "cell_type": "code",
   "source": [
    "# Applying the gradient\n",
    "n.grad = 0.5\n",
    "draw_dot(o)"
   ],
   "outputs": [
    {
     "data": {
      "image/svg+xml": "<?xml version=\"1.0\" encoding=\"UTF-8\" standalone=\"no\"?>\n<!DOCTYPE svg PUBLIC \"-//W3C//DTD SVG 1.1//EN\"\n \"http://www.w3.org/Graphics/SVG/1.1/DTD/svg11.dtd\">\n<!-- Generated by graphviz version 12.2.0 (20241103.1931)\n -->\n<!-- Pages: 1 -->\n<svg width=\"1546pt\" height=\"210pt\"\n viewBox=\"0.00 0.00 1545.50 210.00\" xmlns=\"http://www.w3.org/2000/svg\" xmlns:xlink=\"http://www.w3.org/1999/xlink\">\n<g id=\"graph0\" class=\"graph\" transform=\"scale(1 1) rotate(0) translate(4 206)\">\n<polygon fill=\"white\" stroke=\"none\" points=\"-4,4 -4,-206 1541.5,-206 1541.5,4 -4,4\"/>\n<!-- 5101311488 -->\n<g id=\"node1\" class=\"node\">\n<title>5101311488</title>\n<polygon fill=\"none\" stroke=\"black\" points=\"3.75,-165.5 3.75,-201.5 194.25,-201.5 194.25,-165.5 3.75,-165.5\"/>\n<text text-anchor=\"middle\" x=\"18.5\" y=\"-178.7\" font-family=\"Times,serif\" font-size=\"14.00\">x2</text>\n<polyline fill=\"none\" stroke=\"black\" points=\"33.25,-166 33.25,-201.5\"/>\n<text text-anchor=\"middle\" x=\"73.12\" y=\"-178.7\" font-family=\"Times,serif\" font-size=\"14.00\">data 0.0000</text>\n<polyline fill=\"none\" stroke=\"black\" points=\"113,-166 113,-201.5\"/>\n<text text-anchor=\"middle\" x=\"153.62\" y=\"-178.7\" font-family=\"Times,serif\" font-size=\"14.00\">grad 0.0000</text>\n</g>\n<!-- 5101306976* -->\n<g id=\"node7\" class=\"node\">\n<title>5101306976*</title>\n<ellipse fill=\"none\" stroke=\"black\" cx=\"261\" cy=\"-128.5\" rx=\"27\" ry=\"18\"/>\n<text text-anchor=\"middle\" x=\"261\" y=\"-123.45\" font-family=\"Times,serif\" font-size=\"14.00\">*</text>\n</g>\n<!-- 5101311488&#45;&gt;5101306976* -->\n<g id=\"edge13\" class=\"edge\">\n<title>5101311488&#45;&gt;5101306976*</title>\n<path fill=\"none\" stroke=\"black\" d=\"M172.12,-165.01C180.9,-162.35 189.7,-159.5 198,-156.5 208.09,-152.86 218.82,-148.27 228.47,-143.88\"/>\n<polygon fill=\"black\" stroke=\"black\" points=\"229.86,-147.09 237.45,-139.69 226.9,-140.75 229.86,-147.09\"/>\n</g>\n<!-- 5101767216 -->\n<g id=\"node2\" class=\"node\">\n<title>5101767216</title>\n<polygon fill=\"none\" stroke=\"black\" points=\"1353.75,-54.5 1353.75,-90.5 1537.5,-90.5 1537.5,-54.5 1353.75,-54.5\"/>\n<text text-anchor=\"middle\" x=\"1365.12\" y=\"-67.7\" font-family=\"Times,serif\" font-size=\"14.00\">o</text>\n<polyline fill=\"none\" stroke=\"black\" points=\"1376.5,-55 1376.5,-90.5\"/>\n<text text-anchor=\"middle\" x=\"1416.38\" y=\"-67.7\" font-family=\"Times,serif\" font-size=\"14.00\">data 0.7071</text>\n<polyline fill=\"none\" stroke=\"black\" points=\"1456.25,-55 1456.25,-90.5\"/>\n<text text-anchor=\"middle\" x=\"1496.88\" y=\"-67.7\" font-family=\"Times,serif\" font-size=\"14.00\">grad 1.0000</text>\n</g>\n<!-- 5101767216tanh -->\n<g id=\"node3\" class=\"node\">\n<title>5101767216tanh</title>\n<ellipse fill=\"none\" stroke=\"black\" cx=\"1290.75\" cy=\"-72.5\" rx=\"27\" ry=\"18\"/>\n<text text-anchor=\"middle\" x=\"1290.75\" y=\"-67.45\" font-family=\"Times,serif\" font-size=\"14.00\">tanh</text>\n</g>\n<!-- 5101767216tanh&#45;&gt;5101767216 -->\n<g id=\"edge1\" class=\"edge\">\n<title>5101767216tanh&#45;&gt;5101767216</title>\n<path fill=\"none\" stroke=\"black\" d=\"M1318.03,-72.5C1325.17,-72.5 1333.36,-72.5 1342.07,-72.5\"/>\n<polygon fill=\"black\" stroke=\"black\" points=\"1341.81,-76 1351.81,-72.5 1341.81,-69 1341.81,-76\"/>\n</g>\n<!-- 5101320800 -->\n<g id=\"node4\" class=\"node\">\n<title>5101320800</title>\n<polygon fill=\"none\" stroke=\"black\" points=\"668.25,-82.5 668.25,-118.5 918,-118.5 918,-82.5 668.25,-82.5\"/>\n<text text-anchor=\"middle\" x=\"710.38\" y=\"-95.7\" font-family=\"Times,serif\" font-size=\"14.00\">x1w1+x2w2</text>\n<polyline fill=\"none\" stroke=\"black\" points=\"752.5,-83 752.5,-118.5\"/>\n<text text-anchor=\"middle\" x=\"794.62\" y=\"-95.7\" font-family=\"Times,serif\" font-size=\"14.00\">data &#45;6.0000</text>\n<polyline fill=\"none\" stroke=\"black\" points=\"836.75,-83 836.75,-118.5\"/>\n<text text-anchor=\"middle\" x=\"877.38\" y=\"-95.7\" font-family=\"Times,serif\" font-size=\"14.00\">grad 0.0000</text>\n</g>\n<!-- 5101766640+ -->\n<g id=\"node15\" class=\"node\">\n<title>5101766640+</title>\n<ellipse fill=\"none\" stroke=\"black\" cx=\"981\" cy=\"-72.5\" rx=\"27\" ry=\"18\"/>\n<text text-anchor=\"middle\" x=\"981\" y=\"-67.45\" font-family=\"Times,serif\" font-size=\"14.00\">+</text>\n</g>\n<!-- 5101320800&#45;&gt;5101766640+ -->\n<g id=\"edge6\" class=\"edge\">\n<title>5101320800&#45;&gt;5101766640+</title>\n<path fill=\"none\" stroke=\"black\" d=\"M916.81,-82.02C926.08,-80.62 934.9,-79.29 942.86,-78.09\"/>\n<polygon fill=\"black\" stroke=\"black\" points=\"943.36,-81.56 952.72,-76.61 942.31,-74.64 943.36,-81.56\"/>\n</g>\n<!-- 5101320800+ -->\n<g id=\"node5\" class=\"node\">\n<title>5101320800+</title>\n<ellipse fill=\"none\" stroke=\"black\" cx=\"605.25\" cy=\"-100.5\" rx=\"27\" ry=\"18\"/>\n<text text-anchor=\"middle\" x=\"605.25\" y=\"-95.45\" font-family=\"Times,serif\" font-size=\"14.00\">+</text>\n</g>\n<!-- 5101320800+&#45;&gt;5101320800 -->\n<g id=\"edge2\" class=\"edge\">\n<title>5101320800+&#45;&gt;5101320800</title>\n<path fill=\"none\" stroke=\"black\" d=\"M632.49,-100.5C639.52,-100.5 647.64,-100.5 656.4,-100.5\"/>\n<polygon fill=\"black\" stroke=\"black\" points=\"656.3,-104 666.3,-100.5 656.3,-97 656.3,-104\"/>\n</g>\n<!-- 5101306976 -->\n<g id=\"node6\" class=\"node\">\n<title>5101306976</title>\n<polygon fill=\"none\" stroke=\"black\" points=\"326.25,-110.5 326.25,-146.5 540,-146.5 540,-110.5 326.25,-110.5\"/>\n<text text-anchor=\"middle\" x=\"352.62\" y=\"-123.7\" font-family=\"Times,serif\" font-size=\"14.00\">x2*w2</text>\n<polyline fill=\"none\" stroke=\"black\" points=\"379,-111 379,-146.5\"/>\n<text text-anchor=\"middle\" x=\"418.88\" y=\"-123.7\" font-family=\"Times,serif\" font-size=\"14.00\">data 0.0000</text>\n<polyline fill=\"none\" stroke=\"black\" points=\"458.75,-111 458.75,-146.5\"/>\n<text text-anchor=\"middle\" x=\"499.38\" y=\"-123.7\" font-family=\"Times,serif\" font-size=\"14.00\">grad 0.0000</text>\n</g>\n<!-- 5101306976&#45;&gt;5101320800+ -->\n<g id=\"edge10\" class=\"edge\">\n<title>5101306976&#45;&gt;5101320800+</title>\n<path fill=\"none\" stroke=\"black\" d=\"M540.42,-111.01C549.89,-109.45 559,-107.95 567.21,-106.6\"/>\n<polygon fill=\"black\" stroke=\"black\" points=\"567.75,-110.05 577.05,-104.98 566.62,-103.15 567.75,-110.05\"/>\n</g>\n<!-- 5101306976*&#45;&gt;5101306976 -->\n<g id=\"edge3\" class=\"edge\">\n<title>5101306976*&#45;&gt;5101306976</title>\n<path fill=\"none\" stroke=\"black\" d=\"M288.21,-128.5C296,-128.5 305.08,-128.5 314.82,-128.5\"/>\n<polygon fill=\"black\" stroke=\"black\" points=\"314.55,-132 324.55,-128.5 314.55,-125 314.55,-132\"/>\n</g>\n<!-- 5101310288 -->\n<g id=\"node8\" class=\"node\">\n<title>5101310288</title>\n<polygon fill=\"none\" stroke=\"black\" points=\"3.75,-55.5 3.75,-91.5 194.25,-91.5 194.25,-55.5 3.75,-55.5\"/>\n<text text-anchor=\"middle\" x=\"18.5\" y=\"-68.7\" font-family=\"Times,serif\" font-size=\"14.00\">x1</text>\n<polyline fill=\"none\" stroke=\"black\" points=\"33.25,-56 33.25,-91.5\"/>\n<text text-anchor=\"middle\" x=\"73.12\" y=\"-68.7\" font-family=\"Times,serif\" font-size=\"14.00\">data 2.0000</text>\n<polyline fill=\"none\" stroke=\"black\" points=\"113,-56 113,-91.5\"/>\n<text text-anchor=\"middle\" x=\"153.62\" y=\"-68.7\" font-family=\"Times,serif\" font-size=\"14.00\">grad 0.0000</text>\n</g>\n<!-- 5101321088* -->\n<g id=\"node10\" class=\"node\">\n<title>5101321088*</title>\n<ellipse fill=\"none\" stroke=\"black\" cx=\"261\" cy=\"-73.5\" rx=\"27\" ry=\"18\"/>\n<text text-anchor=\"middle\" x=\"261\" y=\"-68.45\" font-family=\"Times,serif\" font-size=\"14.00\">*</text>\n</g>\n<!-- 5101310288&#45;&gt;5101321088* -->\n<g id=\"edge9\" class=\"edge\">\n<title>5101310288&#45;&gt;5101321088*</title>\n<path fill=\"none\" stroke=\"black\" d=\"M194.46,-73.5C204.21,-73.5 213.66,-73.5 222.21,-73.5\"/>\n<polygon fill=\"black\" stroke=\"black\" points=\"222.12,-77 232.12,-73.5 222.12,-70 222.12,-77\"/>\n</g>\n<!-- 5101321088 -->\n<g id=\"node9\" class=\"node\">\n<title>5101321088</title>\n<polygon fill=\"none\" stroke=\"black\" points=\"324,-55.5 324,-91.5 542.25,-91.5 542.25,-55.5 324,-55.5\"/>\n<text text-anchor=\"middle\" x=\"350.38\" y=\"-68.7\" font-family=\"Times,serif\" font-size=\"14.00\">x1*w1</text>\n<polyline fill=\"none\" stroke=\"black\" points=\"376.75,-56 376.75,-91.5\"/>\n<text text-anchor=\"middle\" x=\"418.88\" y=\"-68.7\" font-family=\"Times,serif\" font-size=\"14.00\">data &#45;6.0000</text>\n<polyline fill=\"none\" stroke=\"black\" points=\"461,-56 461,-91.5\"/>\n<text text-anchor=\"middle\" x=\"501.62\" y=\"-68.7\" font-family=\"Times,serif\" font-size=\"14.00\">grad 0.0000</text>\n</g>\n<!-- 5101321088&#45;&gt;5101320800+ -->\n<g id=\"edge12\" class=\"edge\">\n<title>5101321088&#45;&gt;5101320800+</title>\n<path fill=\"none\" stroke=\"black\" d=\"M542.35,-90.68C551.12,-92.07 559.54,-93.4 567.19,-94.62\"/>\n<polygon fill=\"black\" stroke=\"black\" points=\"566.59,-98.07 577.02,-96.18 567.69,-91.15 566.59,-98.07\"/>\n</g>\n<!-- 5101321088*&#45;&gt;5101321088 -->\n<g id=\"edge4\" class=\"edge\">\n<title>5101321088*&#45;&gt;5101321088</title>\n<path fill=\"none\" stroke=\"black\" d=\"M288.21,-73.5C295.29,-73.5 303.43,-73.5 312.17,-73.5\"/>\n<polygon fill=\"black\" stroke=\"black\" points=\"312.01,-77 322.01,-73.5 312.01,-70 312.01,-77\"/>\n</g>\n<!-- 5101307312 -->\n<g id=\"node11\" class=\"node\">\n<title>5101307312</title>\n<polygon fill=\"none\" stroke=\"black\" points=\"701.25,-27.5 701.25,-63.5 885,-63.5 885,-27.5 701.25,-27.5\"/>\n<text text-anchor=\"middle\" x=\"712.62\" y=\"-40.7\" font-family=\"Times,serif\" font-size=\"14.00\">b</text>\n<polyline fill=\"none\" stroke=\"black\" points=\"724,-28 724,-63.5\"/>\n<text text-anchor=\"middle\" x=\"763.88\" y=\"-40.7\" font-family=\"Times,serif\" font-size=\"14.00\">data 6.8814</text>\n<polyline fill=\"none\" stroke=\"black\" points=\"803.75,-28 803.75,-63.5\"/>\n<text text-anchor=\"middle\" x=\"844.38\" y=\"-40.7\" font-family=\"Times,serif\" font-size=\"14.00\">grad 0.0000</text>\n</g>\n<!-- 5101307312&#45;&gt;5101766640+ -->\n<g id=\"edge8\" class=\"edge\">\n<title>5101307312&#45;&gt;5101766640+</title>\n<path fill=\"none\" stroke=\"black\" d=\"M885.43,-58.76C906.02,-61.75 926.71,-64.76 943.47,-67.19\"/>\n<polygon fill=\"black\" stroke=\"black\" points=\"942.5,-70.59 952.9,-68.56 943.5,-63.66 942.5,-70.59\"/>\n</g>\n<!-- 5101306304 -->\n<g id=\"node12\" class=\"node\">\n<title>5101306304</title>\n<polygon fill=\"none\" stroke=\"black\" points=\"2.25,-110.5 2.25,-146.5 195.75,-146.5 195.75,-110.5 2.25,-110.5\"/>\n<text text-anchor=\"middle\" x=\"18.5\" y=\"-123.7\" font-family=\"Times,serif\" font-size=\"14.00\">w2</text>\n<polyline fill=\"none\" stroke=\"black\" points=\"34.75,-111 34.75,-146.5\"/>\n<text text-anchor=\"middle\" x=\"74.62\" y=\"-123.7\" font-family=\"Times,serif\" font-size=\"14.00\">data 1.0000</text>\n<polyline fill=\"none\" stroke=\"black\" points=\"114.5,-111 114.5,-146.5\"/>\n<text text-anchor=\"middle\" x=\"155.12\" y=\"-123.7\" font-family=\"Times,serif\" font-size=\"14.00\">grad 0.0000</text>\n</g>\n<!-- 5101306304&#45;&gt;5101306976* -->\n<g id=\"edge11\" class=\"edge\">\n<title>5101306304&#45;&gt;5101306976*</title>\n<path fill=\"none\" stroke=\"black\" d=\"M195.84,-128.5C205.14,-128.5 214.15,-128.5 222.32,-128.5\"/>\n<polygon fill=\"black\" stroke=\"black\" points=\"222.13,-132 232.13,-128.5 222.13,-125 222.13,-132\"/>\n</g>\n<!-- 5101320656 -->\n<g id=\"node13\" class=\"node\">\n<title>5101320656</title>\n<polygon fill=\"none\" stroke=\"black\" points=\"0,-0.5 0,-36.5 198,-36.5 198,-0.5 0,-0.5\"/>\n<text text-anchor=\"middle\" x=\"16.25\" y=\"-13.7\" font-family=\"Times,serif\" font-size=\"14.00\">w1</text>\n<polyline fill=\"none\" stroke=\"black\" points=\"32.5,-1 32.5,-36.5\"/>\n<text text-anchor=\"middle\" x=\"74.62\" y=\"-13.7\" font-family=\"Times,serif\" font-size=\"14.00\">data &#45;3.0000</text>\n<polyline fill=\"none\" stroke=\"black\" points=\"116.75,-1 116.75,-36.5\"/>\n<text text-anchor=\"middle\" x=\"157.38\" y=\"-13.7\" font-family=\"Times,serif\" font-size=\"14.00\">grad 0.0000</text>\n</g>\n<!-- 5101320656&#45;&gt;5101321088* -->\n<g id=\"edge7\" class=\"edge\">\n<title>5101320656&#45;&gt;5101321088*</title>\n<path fill=\"none\" stroke=\"black\" d=\"M172.12,-36.99C180.9,-39.65 189.7,-42.5 198,-45.5 208.09,-49.14 218.82,-53.73 228.47,-58.12\"/>\n<polygon fill=\"black\" stroke=\"black\" points=\"226.9,-61.25 237.45,-62.31 229.86,-54.91 226.9,-61.25\"/>\n</g>\n<!-- 5101766640 -->\n<g id=\"node14\" class=\"node\">\n<title>5101766640</title>\n<polygon fill=\"none\" stroke=\"black\" points=\"1044,-54.5 1044,-90.5 1227.75,-90.5 1227.75,-54.5 1044,-54.5\"/>\n<text text-anchor=\"middle\" x=\"1055.38\" y=\"-67.7\" font-family=\"Times,serif\" font-size=\"14.00\">n</text>\n<polyline fill=\"none\" stroke=\"black\" points=\"1066.75,-55 1066.75,-90.5\"/>\n<text text-anchor=\"middle\" x=\"1106.62\" y=\"-67.7\" font-family=\"Times,serif\" font-size=\"14.00\">data 0.8814</text>\n<polyline fill=\"none\" stroke=\"black\" points=\"1146.5,-55 1146.5,-90.5\"/>\n<text text-anchor=\"middle\" x=\"1187.12\" y=\"-67.7\" font-family=\"Times,serif\" font-size=\"14.00\">grad 0.5000</text>\n</g>\n<!-- 5101766640&#45;&gt;5101767216tanh -->\n<g id=\"edge14\" class=\"edge\">\n<title>5101766640&#45;&gt;5101767216tanh</title>\n<path fill=\"none\" stroke=\"black\" d=\"M1228.01,-72.5C1236.39,-72.5 1244.52,-72.5 1251.98,-72.5\"/>\n<polygon fill=\"black\" stroke=\"black\" points=\"1251.95,-76 1261.95,-72.5 1251.95,-69 1251.95,-76\"/>\n</g>\n<!-- 5101766640+&#45;&gt;5101766640 -->\n<g id=\"edge5\" class=\"edge\">\n<title>5101766640+&#45;&gt;5101766640</title>\n<path fill=\"none\" stroke=\"black\" d=\"M1008.28,-72.5C1015.42,-72.5 1023.61,-72.5 1032.32,-72.5\"/>\n<polygon fill=\"black\" stroke=\"black\" points=\"1032.06,-76 1042.06,-72.5 1032.06,-69 1032.06,-76\"/>\n</g>\n</g>\n</svg>\n",
      "text/plain": [
       "<graphviz.graphs.Digraph at 0x1300ff8e0>"
      ]
     },
     "execution_count": 71,
     "metadata": {},
     "output_type": "execute_result"
    }
   ],
   "execution_count": 71
  },
  {
   "metadata": {},
   "cell_type": "markdown",
   "source": [
    "## Backpropagation Step 3: b & x2w1+x2w2\n",
    "\n",
    "Since we have discovered that a plus operation simply distributes the gradient of the function it is embedded in, we can simply say:\n",
    "$$\\frac{\\partial o}{\\partial b} = \\frac{\\partial o}{\\partial n} = 0.5$$\n",
    "$$\\frac{\\partial o}{\\partial x1w1+x2w2} = \\frac{\\partial o}{\\partial n} = 0.5$$"
   ]
  },
  {
   "metadata": {
    "ExecuteTime": {
     "end_time": "2024-12-08T16:08:19.288941Z",
     "start_time": "2024-12-08T16:08:19.285315Z"
    }
   },
   "cell_type": "code",
   "source": [
    "dot, derivative = partial_using_lim(o, b)\n",
    "print(derivative)"
   ],
   "outputs": [
    {
     "name": "stdout",
     "output_type": "stream",
     "text": [
      "0.49996464549284525\n"
     ]
    }
   ],
   "execution_count": 72
  },
  {
   "metadata": {
    "ExecuteTime": {
     "end_time": "2024-12-08T16:08:19.314202Z",
     "start_time": "2024-12-08T16:08:19.311922Z"
    }
   },
   "cell_type": "code",
   "source": [
    "dot, derivative = partial_using_lim(o, x1w1x2w2)\n",
    "print(derivative)"
   ],
   "outputs": [
    {
     "name": "stdout",
     "output_type": "stream",
     "text": [
      "0.49996464549284525\n"
     ]
    }
   ],
   "execution_count": 73
  },
  {
   "metadata": {
    "ExecuteTime": {
     "end_time": "2024-12-08T16:08:19.412681Z",
     "start_time": "2024-12-08T16:08:19.338883Z"
    }
   },
   "cell_type": "code",
   "source": [
    "# Applying the gradients\n",
    "b.grad = x1w1x2w2.grad = 0.5\n",
    "draw_dot(o)"
   ],
   "outputs": [
    {
     "data": {
      "image/svg+xml": "<?xml version=\"1.0\" encoding=\"UTF-8\" standalone=\"no\"?>\n<!DOCTYPE svg PUBLIC \"-//W3C//DTD SVG 1.1//EN\"\n \"http://www.w3.org/Graphics/SVG/1.1/DTD/svg11.dtd\">\n<!-- Generated by graphviz version 12.2.0 (20241103.1931)\n -->\n<!-- Pages: 1 -->\n<svg width=\"1546pt\" height=\"210pt\"\n viewBox=\"0.00 0.00 1545.50 210.00\" xmlns=\"http://www.w3.org/2000/svg\" xmlns:xlink=\"http://www.w3.org/1999/xlink\">\n<g id=\"graph0\" class=\"graph\" transform=\"scale(1 1) rotate(0) translate(4 206)\">\n<polygon fill=\"white\" stroke=\"none\" points=\"-4,4 -4,-206 1541.5,-206 1541.5,4 -4,4\"/>\n<!-- 5101311488 -->\n<g id=\"node1\" class=\"node\">\n<title>5101311488</title>\n<polygon fill=\"none\" stroke=\"black\" points=\"3.75,-165.5 3.75,-201.5 194.25,-201.5 194.25,-165.5 3.75,-165.5\"/>\n<text text-anchor=\"middle\" x=\"18.5\" y=\"-178.7\" font-family=\"Times,serif\" font-size=\"14.00\">x2</text>\n<polyline fill=\"none\" stroke=\"black\" points=\"33.25,-166 33.25,-201.5\"/>\n<text text-anchor=\"middle\" x=\"73.12\" y=\"-178.7\" font-family=\"Times,serif\" font-size=\"14.00\">data 0.0000</text>\n<polyline fill=\"none\" stroke=\"black\" points=\"113,-166 113,-201.5\"/>\n<text text-anchor=\"middle\" x=\"153.62\" y=\"-178.7\" font-family=\"Times,serif\" font-size=\"14.00\">grad 0.0000</text>\n</g>\n<!-- 5101306976* -->\n<g id=\"node7\" class=\"node\">\n<title>5101306976*</title>\n<ellipse fill=\"none\" stroke=\"black\" cx=\"261\" cy=\"-128.5\" rx=\"27\" ry=\"18\"/>\n<text text-anchor=\"middle\" x=\"261\" y=\"-123.45\" font-family=\"Times,serif\" font-size=\"14.00\">*</text>\n</g>\n<!-- 5101311488&#45;&gt;5101306976* -->\n<g id=\"edge13\" class=\"edge\">\n<title>5101311488&#45;&gt;5101306976*</title>\n<path fill=\"none\" stroke=\"black\" d=\"M172.12,-165.01C180.9,-162.35 189.7,-159.5 198,-156.5 208.09,-152.86 218.82,-148.27 228.47,-143.88\"/>\n<polygon fill=\"black\" stroke=\"black\" points=\"229.86,-147.09 237.45,-139.69 226.9,-140.75 229.86,-147.09\"/>\n</g>\n<!-- 5101767216 -->\n<g id=\"node2\" class=\"node\">\n<title>5101767216</title>\n<polygon fill=\"none\" stroke=\"black\" points=\"1353.75,-54.5 1353.75,-90.5 1537.5,-90.5 1537.5,-54.5 1353.75,-54.5\"/>\n<text text-anchor=\"middle\" x=\"1365.12\" y=\"-67.7\" font-family=\"Times,serif\" font-size=\"14.00\">o</text>\n<polyline fill=\"none\" stroke=\"black\" points=\"1376.5,-55 1376.5,-90.5\"/>\n<text text-anchor=\"middle\" x=\"1416.38\" y=\"-67.7\" font-family=\"Times,serif\" font-size=\"14.00\">data 0.7071</text>\n<polyline fill=\"none\" stroke=\"black\" points=\"1456.25,-55 1456.25,-90.5\"/>\n<text text-anchor=\"middle\" x=\"1496.88\" y=\"-67.7\" font-family=\"Times,serif\" font-size=\"14.00\">grad 1.0000</text>\n</g>\n<!-- 5101767216tanh -->\n<g id=\"node3\" class=\"node\">\n<title>5101767216tanh</title>\n<ellipse fill=\"none\" stroke=\"black\" cx=\"1290.75\" cy=\"-72.5\" rx=\"27\" ry=\"18\"/>\n<text text-anchor=\"middle\" x=\"1290.75\" y=\"-67.45\" font-family=\"Times,serif\" font-size=\"14.00\">tanh</text>\n</g>\n<!-- 5101767216tanh&#45;&gt;5101767216 -->\n<g id=\"edge1\" class=\"edge\">\n<title>5101767216tanh&#45;&gt;5101767216</title>\n<path fill=\"none\" stroke=\"black\" d=\"M1318.03,-72.5C1325.17,-72.5 1333.36,-72.5 1342.07,-72.5\"/>\n<polygon fill=\"black\" stroke=\"black\" points=\"1341.81,-76 1351.81,-72.5 1341.81,-69 1341.81,-76\"/>\n</g>\n<!-- 5101320800 -->\n<g id=\"node4\" class=\"node\">\n<title>5101320800</title>\n<polygon fill=\"none\" stroke=\"black\" points=\"668.25,-82.5 668.25,-118.5 918,-118.5 918,-82.5 668.25,-82.5\"/>\n<text text-anchor=\"middle\" x=\"710.38\" y=\"-95.7\" font-family=\"Times,serif\" font-size=\"14.00\">x1w1+x2w2</text>\n<polyline fill=\"none\" stroke=\"black\" points=\"752.5,-83 752.5,-118.5\"/>\n<text text-anchor=\"middle\" x=\"794.62\" y=\"-95.7\" font-family=\"Times,serif\" font-size=\"14.00\">data &#45;6.0000</text>\n<polyline fill=\"none\" stroke=\"black\" points=\"836.75,-83 836.75,-118.5\"/>\n<text text-anchor=\"middle\" x=\"877.38\" y=\"-95.7\" font-family=\"Times,serif\" font-size=\"14.00\">grad 0.5000</text>\n</g>\n<!-- 5101766640+ -->\n<g id=\"node15\" class=\"node\">\n<title>5101766640+</title>\n<ellipse fill=\"none\" stroke=\"black\" cx=\"981\" cy=\"-72.5\" rx=\"27\" ry=\"18\"/>\n<text text-anchor=\"middle\" x=\"981\" y=\"-67.45\" font-family=\"Times,serif\" font-size=\"14.00\">+</text>\n</g>\n<!-- 5101320800&#45;&gt;5101766640+ -->\n<g id=\"edge6\" class=\"edge\">\n<title>5101320800&#45;&gt;5101766640+</title>\n<path fill=\"none\" stroke=\"black\" d=\"M916.81,-82.02C926.08,-80.62 934.9,-79.29 942.86,-78.09\"/>\n<polygon fill=\"black\" stroke=\"black\" points=\"943.36,-81.56 952.72,-76.61 942.31,-74.64 943.36,-81.56\"/>\n</g>\n<!-- 5101320800+ -->\n<g id=\"node5\" class=\"node\">\n<title>5101320800+</title>\n<ellipse fill=\"none\" stroke=\"black\" cx=\"605.25\" cy=\"-100.5\" rx=\"27\" ry=\"18\"/>\n<text text-anchor=\"middle\" x=\"605.25\" y=\"-95.45\" font-family=\"Times,serif\" font-size=\"14.00\">+</text>\n</g>\n<!-- 5101320800+&#45;&gt;5101320800 -->\n<g id=\"edge2\" class=\"edge\">\n<title>5101320800+&#45;&gt;5101320800</title>\n<path fill=\"none\" stroke=\"black\" d=\"M632.49,-100.5C639.52,-100.5 647.64,-100.5 656.4,-100.5\"/>\n<polygon fill=\"black\" stroke=\"black\" points=\"656.3,-104 666.3,-100.5 656.3,-97 656.3,-104\"/>\n</g>\n<!-- 5101306976 -->\n<g id=\"node6\" class=\"node\">\n<title>5101306976</title>\n<polygon fill=\"none\" stroke=\"black\" points=\"326.25,-110.5 326.25,-146.5 540,-146.5 540,-110.5 326.25,-110.5\"/>\n<text text-anchor=\"middle\" x=\"352.62\" y=\"-123.7\" font-family=\"Times,serif\" font-size=\"14.00\">x2*w2</text>\n<polyline fill=\"none\" stroke=\"black\" points=\"379,-111 379,-146.5\"/>\n<text text-anchor=\"middle\" x=\"418.88\" y=\"-123.7\" font-family=\"Times,serif\" font-size=\"14.00\">data 0.0000</text>\n<polyline fill=\"none\" stroke=\"black\" points=\"458.75,-111 458.75,-146.5\"/>\n<text text-anchor=\"middle\" x=\"499.38\" y=\"-123.7\" font-family=\"Times,serif\" font-size=\"14.00\">grad 0.0000</text>\n</g>\n<!-- 5101306976&#45;&gt;5101320800+ -->\n<g id=\"edge10\" class=\"edge\">\n<title>5101306976&#45;&gt;5101320800+</title>\n<path fill=\"none\" stroke=\"black\" d=\"M540.42,-111.01C549.89,-109.45 559,-107.95 567.21,-106.6\"/>\n<polygon fill=\"black\" stroke=\"black\" points=\"567.75,-110.05 577.05,-104.98 566.62,-103.15 567.75,-110.05\"/>\n</g>\n<!-- 5101306976*&#45;&gt;5101306976 -->\n<g id=\"edge3\" class=\"edge\">\n<title>5101306976*&#45;&gt;5101306976</title>\n<path fill=\"none\" stroke=\"black\" d=\"M288.21,-128.5C296,-128.5 305.08,-128.5 314.82,-128.5\"/>\n<polygon fill=\"black\" stroke=\"black\" points=\"314.55,-132 324.55,-128.5 314.55,-125 314.55,-132\"/>\n</g>\n<!-- 5101310288 -->\n<g id=\"node8\" class=\"node\">\n<title>5101310288</title>\n<polygon fill=\"none\" stroke=\"black\" points=\"3.75,-55.5 3.75,-91.5 194.25,-91.5 194.25,-55.5 3.75,-55.5\"/>\n<text text-anchor=\"middle\" x=\"18.5\" y=\"-68.7\" font-family=\"Times,serif\" font-size=\"14.00\">x1</text>\n<polyline fill=\"none\" stroke=\"black\" points=\"33.25,-56 33.25,-91.5\"/>\n<text text-anchor=\"middle\" x=\"73.12\" y=\"-68.7\" font-family=\"Times,serif\" font-size=\"14.00\">data 2.0000</text>\n<polyline fill=\"none\" stroke=\"black\" points=\"113,-56 113,-91.5\"/>\n<text text-anchor=\"middle\" x=\"153.62\" y=\"-68.7\" font-family=\"Times,serif\" font-size=\"14.00\">grad 0.0000</text>\n</g>\n<!-- 5101321088* -->\n<g id=\"node10\" class=\"node\">\n<title>5101321088*</title>\n<ellipse fill=\"none\" stroke=\"black\" cx=\"261\" cy=\"-73.5\" rx=\"27\" ry=\"18\"/>\n<text text-anchor=\"middle\" x=\"261\" y=\"-68.45\" font-family=\"Times,serif\" font-size=\"14.00\">*</text>\n</g>\n<!-- 5101310288&#45;&gt;5101321088* -->\n<g id=\"edge9\" class=\"edge\">\n<title>5101310288&#45;&gt;5101321088*</title>\n<path fill=\"none\" stroke=\"black\" d=\"M194.46,-73.5C204.21,-73.5 213.66,-73.5 222.21,-73.5\"/>\n<polygon fill=\"black\" stroke=\"black\" points=\"222.12,-77 232.12,-73.5 222.12,-70 222.12,-77\"/>\n</g>\n<!-- 5101321088 -->\n<g id=\"node9\" class=\"node\">\n<title>5101321088</title>\n<polygon fill=\"none\" stroke=\"black\" points=\"324,-55.5 324,-91.5 542.25,-91.5 542.25,-55.5 324,-55.5\"/>\n<text text-anchor=\"middle\" x=\"350.38\" y=\"-68.7\" font-family=\"Times,serif\" font-size=\"14.00\">x1*w1</text>\n<polyline fill=\"none\" stroke=\"black\" points=\"376.75,-56 376.75,-91.5\"/>\n<text text-anchor=\"middle\" x=\"418.88\" y=\"-68.7\" font-family=\"Times,serif\" font-size=\"14.00\">data &#45;6.0000</text>\n<polyline fill=\"none\" stroke=\"black\" points=\"461,-56 461,-91.5\"/>\n<text text-anchor=\"middle\" x=\"501.62\" y=\"-68.7\" font-family=\"Times,serif\" font-size=\"14.00\">grad 0.0000</text>\n</g>\n<!-- 5101321088&#45;&gt;5101320800+ -->\n<g id=\"edge12\" class=\"edge\">\n<title>5101321088&#45;&gt;5101320800+</title>\n<path fill=\"none\" stroke=\"black\" d=\"M542.35,-90.68C551.12,-92.07 559.54,-93.4 567.19,-94.62\"/>\n<polygon fill=\"black\" stroke=\"black\" points=\"566.59,-98.07 577.02,-96.18 567.69,-91.15 566.59,-98.07\"/>\n</g>\n<!-- 5101321088*&#45;&gt;5101321088 -->\n<g id=\"edge4\" class=\"edge\">\n<title>5101321088*&#45;&gt;5101321088</title>\n<path fill=\"none\" stroke=\"black\" d=\"M288.21,-73.5C295.29,-73.5 303.43,-73.5 312.17,-73.5\"/>\n<polygon fill=\"black\" stroke=\"black\" points=\"312.01,-77 322.01,-73.5 312.01,-70 312.01,-77\"/>\n</g>\n<!-- 5101307312 -->\n<g id=\"node11\" class=\"node\">\n<title>5101307312</title>\n<polygon fill=\"none\" stroke=\"black\" points=\"701.25,-27.5 701.25,-63.5 885,-63.5 885,-27.5 701.25,-27.5\"/>\n<text text-anchor=\"middle\" x=\"712.62\" y=\"-40.7\" font-family=\"Times,serif\" font-size=\"14.00\">b</text>\n<polyline fill=\"none\" stroke=\"black\" points=\"724,-28 724,-63.5\"/>\n<text text-anchor=\"middle\" x=\"763.88\" y=\"-40.7\" font-family=\"Times,serif\" font-size=\"14.00\">data 6.8814</text>\n<polyline fill=\"none\" stroke=\"black\" points=\"803.75,-28 803.75,-63.5\"/>\n<text text-anchor=\"middle\" x=\"844.38\" y=\"-40.7\" font-family=\"Times,serif\" font-size=\"14.00\">grad 0.5000</text>\n</g>\n<!-- 5101307312&#45;&gt;5101766640+ -->\n<g id=\"edge8\" class=\"edge\">\n<title>5101307312&#45;&gt;5101766640+</title>\n<path fill=\"none\" stroke=\"black\" d=\"M885.43,-58.76C906.02,-61.75 926.71,-64.76 943.47,-67.19\"/>\n<polygon fill=\"black\" stroke=\"black\" points=\"942.5,-70.59 952.9,-68.56 943.5,-63.66 942.5,-70.59\"/>\n</g>\n<!-- 5101306304 -->\n<g id=\"node12\" class=\"node\">\n<title>5101306304</title>\n<polygon fill=\"none\" stroke=\"black\" points=\"2.25,-110.5 2.25,-146.5 195.75,-146.5 195.75,-110.5 2.25,-110.5\"/>\n<text text-anchor=\"middle\" x=\"18.5\" y=\"-123.7\" font-family=\"Times,serif\" font-size=\"14.00\">w2</text>\n<polyline fill=\"none\" stroke=\"black\" points=\"34.75,-111 34.75,-146.5\"/>\n<text text-anchor=\"middle\" x=\"74.62\" y=\"-123.7\" font-family=\"Times,serif\" font-size=\"14.00\">data 1.0000</text>\n<polyline fill=\"none\" stroke=\"black\" points=\"114.5,-111 114.5,-146.5\"/>\n<text text-anchor=\"middle\" x=\"155.12\" y=\"-123.7\" font-family=\"Times,serif\" font-size=\"14.00\">grad 0.0000</text>\n</g>\n<!-- 5101306304&#45;&gt;5101306976* -->\n<g id=\"edge11\" class=\"edge\">\n<title>5101306304&#45;&gt;5101306976*</title>\n<path fill=\"none\" stroke=\"black\" d=\"M195.84,-128.5C205.14,-128.5 214.15,-128.5 222.32,-128.5\"/>\n<polygon fill=\"black\" stroke=\"black\" points=\"222.13,-132 232.13,-128.5 222.13,-125 222.13,-132\"/>\n</g>\n<!-- 5101320656 -->\n<g id=\"node13\" class=\"node\">\n<title>5101320656</title>\n<polygon fill=\"none\" stroke=\"black\" points=\"0,-0.5 0,-36.5 198,-36.5 198,-0.5 0,-0.5\"/>\n<text text-anchor=\"middle\" x=\"16.25\" y=\"-13.7\" font-family=\"Times,serif\" font-size=\"14.00\">w1</text>\n<polyline fill=\"none\" stroke=\"black\" points=\"32.5,-1 32.5,-36.5\"/>\n<text text-anchor=\"middle\" x=\"74.62\" y=\"-13.7\" font-family=\"Times,serif\" font-size=\"14.00\">data &#45;3.0000</text>\n<polyline fill=\"none\" stroke=\"black\" points=\"116.75,-1 116.75,-36.5\"/>\n<text text-anchor=\"middle\" x=\"157.38\" y=\"-13.7\" font-family=\"Times,serif\" font-size=\"14.00\">grad 0.0000</text>\n</g>\n<!-- 5101320656&#45;&gt;5101321088* -->\n<g id=\"edge7\" class=\"edge\">\n<title>5101320656&#45;&gt;5101321088*</title>\n<path fill=\"none\" stroke=\"black\" d=\"M172.12,-36.99C180.9,-39.65 189.7,-42.5 198,-45.5 208.09,-49.14 218.82,-53.73 228.47,-58.12\"/>\n<polygon fill=\"black\" stroke=\"black\" points=\"226.9,-61.25 237.45,-62.31 229.86,-54.91 226.9,-61.25\"/>\n</g>\n<!-- 5101766640 -->\n<g id=\"node14\" class=\"node\">\n<title>5101766640</title>\n<polygon fill=\"none\" stroke=\"black\" points=\"1044,-54.5 1044,-90.5 1227.75,-90.5 1227.75,-54.5 1044,-54.5\"/>\n<text text-anchor=\"middle\" x=\"1055.38\" y=\"-67.7\" font-family=\"Times,serif\" font-size=\"14.00\">n</text>\n<polyline fill=\"none\" stroke=\"black\" points=\"1066.75,-55 1066.75,-90.5\"/>\n<text text-anchor=\"middle\" x=\"1106.62\" y=\"-67.7\" font-family=\"Times,serif\" font-size=\"14.00\">data 0.8814</text>\n<polyline fill=\"none\" stroke=\"black\" points=\"1146.5,-55 1146.5,-90.5\"/>\n<text text-anchor=\"middle\" x=\"1187.12\" y=\"-67.7\" font-family=\"Times,serif\" font-size=\"14.00\">grad 0.5000</text>\n</g>\n<!-- 5101766640&#45;&gt;5101767216tanh -->\n<g id=\"edge14\" class=\"edge\">\n<title>5101766640&#45;&gt;5101767216tanh</title>\n<path fill=\"none\" stroke=\"black\" d=\"M1228.01,-72.5C1236.39,-72.5 1244.52,-72.5 1251.98,-72.5\"/>\n<polygon fill=\"black\" stroke=\"black\" points=\"1251.95,-76 1261.95,-72.5 1251.95,-69 1251.95,-76\"/>\n</g>\n<!-- 5101766640+&#45;&gt;5101766640 -->\n<g id=\"edge5\" class=\"edge\">\n<title>5101766640+&#45;&gt;5101766640</title>\n<path fill=\"none\" stroke=\"black\" d=\"M1008.28,-72.5C1015.42,-72.5 1023.61,-72.5 1032.32,-72.5\"/>\n<polygon fill=\"black\" stroke=\"black\" points=\"1032.06,-76 1042.06,-72.5 1032.06,-69 1032.06,-76\"/>\n</g>\n</g>\n</svg>\n",
      "text/plain": [
       "<graphviz.graphs.Digraph at 0x13019e3b0>"
      ]
     },
     "execution_count": 74,
     "metadata": {},
     "output_type": "execute_result"
    }
   ],
   "execution_count": 74
  },
  {
   "metadata": {},
   "cell_type": "markdown",
   "source": [
    "## Backpropagation Step 4: x1*w1 & x2*w2\n",
    "\n",
    "The same goes for this operation:\n",
    "$$\\frac{\\partial o}{\\partial \\text{x1*w1}} = \\frac{\\partial o}{\\partial b} = \\frac{\\partial o}{\\partial n} = 0.5$$\n",
    "$$\\frac{\\partial o}{\\partial \\text{x2*w2}} = \\frac{\\partial o}{\\partial \\text{x1w1+x2w2}} = \\frac{\\partial o}{\\partial n} = 0.5$$"
   ]
  },
  {
   "metadata": {
    "ExecuteTime": {
     "end_time": "2024-12-08T16:08:19.428129Z",
     "start_time": "2024-12-08T16:08:19.425557Z"
    }
   },
   "cell_type": "code",
   "source": [
    "dot, derivative = partial_using_lim(o, x1w1)\n",
    "print(derivative)"
   ],
   "outputs": [
    {
     "name": "stdout",
     "output_type": "stream",
     "text": [
      "0.49996464549284525\n"
     ]
    }
   ],
   "execution_count": 75
  },
  {
   "metadata": {
    "ExecuteTime": {
     "end_time": "2024-12-08T16:08:19.442242Z",
     "start_time": "2024-12-08T16:08:19.439828Z"
    }
   },
   "cell_type": "code",
   "source": [
    "dot, derivative = partial_using_lim(o, x2w2)\n",
    "print(derivative)"
   ],
   "outputs": [
    {
     "name": "stdout",
     "output_type": "stream",
     "text": [
      "0.49996464549284525\n"
     ]
    }
   ],
   "execution_count": 76
  },
  {
   "metadata": {
    "ExecuteTime": {
     "end_time": "2024-12-08T16:08:19.539028Z",
     "start_time": "2024-12-08T16:08:19.465956Z"
    }
   },
   "cell_type": "code",
   "source": [
    "# Applying the gradients\n",
    "x1w1.grad = x2w2.grad = 0.5\n",
    "draw_dot(o)"
   ],
   "outputs": [
    {
     "data": {
      "image/svg+xml": "<?xml version=\"1.0\" encoding=\"UTF-8\" standalone=\"no\"?>\n<!DOCTYPE svg PUBLIC \"-//W3C//DTD SVG 1.1//EN\"\n \"http://www.w3.org/Graphics/SVG/1.1/DTD/svg11.dtd\">\n<!-- Generated by graphviz version 12.2.0 (20241103.1931)\n -->\n<!-- Pages: 1 -->\n<svg width=\"1546pt\" height=\"210pt\"\n viewBox=\"0.00 0.00 1545.50 210.00\" xmlns=\"http://www.w3.org/2000/svg\" xmlns:xlink=\"http://www.w3.org/1999/xlink\">\n<g id=\"graph0\" class=\"graph\" transform=\"scale(1 1) rotate(0) translate(4 206)\">\n<polygon fill=\"white\" stroke=\"none\" points=\"-4,4 -4,-206 1541.5,-206 1541.5,4 -4,4\"/>\n<!-- 5101311488 -->\n<g id=\"node1\" class=\"node\">\n<title>5101311488</title>\n<polygon fill=\"none\" stroke=\"black\" points=\"3.75,-165.5 3.75,-201.5 194.25,-201.5 194.25,-165.5 3.75,-165.5\"/>\n<text text-anchor=\"middle\" x=\"18.5\" y=\"-178.7\" font-family=\"Times,serif\" font-size=\"14.00\">x2</text>\n<polyline fill=\"none\" stroke=\"black\" points=\"33.25,-166 33.25,-201.5\"/>\n<text text-anchor=\"middle\" x=\"73.12\" y=\"-178.7\" font-family=\"Times,serif\" font-size=\"14.00\">data 0.0000</text>\n<polyline fill=\"none\" stroke=\"black\" points=\"113,-166 113,-201.5\"/>\n<text text-anchor=\"middle\" x=\"153.62\" y=\"-178.7\" font-family=\"Times,serif\" font-size=\"14.00\">grad 0.0000</text>\n</g>\n<!-- 5101306976* -->\n<g id=\"node7\" class=\"node\">\n<title>5101306976*</title>\n<ellipse fill=\"none\" stroke=\"black\" cx=\"261\" cy=\"-128.5\" rx=\"27\" ry=\"18\"/>\n<text text-anchor=\"middle\" x=\"261\" y=\"-123.45\" font-family=\"Times,serif\" font-size=\"14.00\">*</text>\n</g>\n<!-- 5101311488&#45;&gt;5101306976* -->\n<g id=\"edge13\" class=\"edge\">\n<title>5101311488&#45;&gt;5101306976*</title>\n<path fill=\"none\" stroke=\"black\" d=\"M172.12,-165.01C180.9,-162.35 189.7,-159.5 198,-156.5 208.09,-152.86 218.82,-148.27 228.47,-143.88\"/>\n<polygon fill=\"black\" stroke=\"black\" points=\"229.86,-147.09 237.45,-139.69 226.9,-140.75 229.86,-147.09\"/>\n</g>\n<!-- 5101767216 -->\n<g id=\"node2\" class=\"node\">\n<title>5101767216</title>\n<polygon fill=\"none\" stroke=\"black\" points=\"1353.75,-54.5 1353.75,-90.5 1537.5,-90.5 1537.5,-54.5 1353.75,-54.5\"/>\n<text text-anchor=\"middle\" x=\"1365.12\" y=\"-67.7\" font-family=\"Times,serif\" font-size=\"14.00\">o</text>\n<polyline fill=\"none\" stroke=\"black\" points=\"1376.5,-55 1376.5,-90.5\"/>\n<text text-anchor=\"middle\" x=\"1416.38\" y=\"-67.7\" font-family=\"Times,serif\" font-size=\"14.00\">data 0.7071</text>\n<polyline fill=\"none\" stroke=\"black\" points=\"1456.25,-55 1456.25,-90.5\"/>\n<text text-anchor=\"middle\" x=\"1496.88\" y=\"-67.7\" font-family=\"Times,serif\" font-size=\"14.00\">grad 1.0000</text>\n</g>\n<!-- 5101767216tanh -->\n<g id=\"node3\" class=\"node\">\n<title>5101767216tanh</title>\n<ellipse fill=\"none\" stroke=\"black\" cx=\"1290.75\" cy=\"-72.5\" rx=\"27\" ry=\"18\"/>\n<text text-anchor=\"middle\" x=\"1290.75\" y=\"-67.45\" font-family=\"Times,serif\" font-size=\"14.00\">tanh</text>\n</g>\n<!-- 5101767216tanh&#45;&gt;5101767216 -->\n<g id=\"edge1\" class=\"edge\">\n<title>5101767216tanh&#45;&gt;5101767216</title>\n<path fill=\"none\" stroke=\"black\" d=\"M1318.03,-72.5C1325.17,-72.5 1333.36,-72.5 1342.07,-72.5\"/>\n<polygon fill=\"black\" stroke=\"black\" points=\"1341.81,-76 1351.81,-72.5 1341.81,-69 1341.81,-76\"/>\n</g>\n<!-- 5101320800 -->\n<g id=\"node4\" class=\"node\">\n<title>5101320800</title>\n<polygon fill=\"none\" stroke=\"black\" points=\"668.25,-82.5 668.25,-118.5 918,-118.5 918,-82.5 668.25,-82.5\"/>\n<text text-anchor=\"middle\" x=\"710.38\" y=\"-95.7\" font-family=\"Times,serif\" font-size=\"14.00\">x1w1+x2w2</text>\n<polyline fill=\"none\" stroke=\"black\" points=\"752.5,-83 752.5,-118.5\"/>\n<text text-anchor=\"middle\" x=\"794.62\" y=\"-95.7\" font-family=\"Times,serif\" font-size=\"14.00\">data &#45;6.0000</text>\n<polyline fill=\"none\" stroke=\"black\" points=\"836.75,-83 836.75,-118.5\"/>\n<text text-anchor=\"middle\" x=\"877.38\" y=\"-95.7\" font-family=\"Times,serif\" font-size=\"14.00\">grad 0.5000</text>\n</g>\n<!-- 5101766640+ -->\n<g id=\"node15\" class=\"node\">\n<title>5101766640+</title>\n<ellipse fill=\"none\" stroke=\"black\" cx=\"981\" cy=\"-72.5\" rx=\"27\" ry=\"18\"/>\n<text text-anchor=\"middle\" x=\"981\" y=\"-67.45\" font-family=\"Times,serif\" font-size=\"14.00\">+</text>\n</g>\n<!-- 5101320800&#45;&gt;5101766640+ -->\n<g id=\"edge6\" class=\"edge\">\n<title>5101320800&#45;&gt;5101766640+</title>\n<path fill=\"none\" stroke=\"black\" d=\"M916.81,-82.02C926.08,-80.62 934.9,-79.29 942.86,-78.09\"/>\n<polygon fill=\"black\" stroke=\"black\" points=\"943.36,-81.56 952.72,-76.61 942.31,-74.64 943.36,-81.56\"/>\n</g>\n<!-- 5101320800+ -->\n<g id=\"node5\" class=\"node\">\n<title>5101320800+</title>\n<ellipse fill=\"none\" stroke=\"black\" cx=\"605.25\" cy=\"-100.5\" rx=\"27\" ry=\"18\"/>\n<text text-anchor=\"middle\" x=\"605.25\" y=\"-95.45\" font-family=\"Times,serif\" font-size=\"14.00\">+</text>\n</g>\n<!-- 5101320800+&#45;&gt;5101320800 -->\n<g id=\"edge2\" class=\"edge\">\n<title>5101320800+&#45;&gt;5101320800</title>\n<path fill=\"none\" stroke=\"black\" d=\"M632.49,-100.5C639.52,-100.5 647.64,-100.5 656.4,-100.5\"/>\n<polygon fill=\"black\" stroke=\"black\" points=\"656.3,-104 666.3,-100.5 656.3,-97 656.3,-104\"/>\n</g>\n<!-- 5101306976 -->\n<g id=\"node6\" class=\"node\">\n<title>5101306976</title>\n<polygon fill=\"none\" stroke=\"black\" points=\"326.25,-110.5 326.25,-146.5 540,-146.5 540,-110.5 326.25,-110.5\"/>\n<text text-anchor=\"middle\" x=\"352.62\" y=\"-123.7\" font-family=\"Times,serif\" font-size=\"14.00\">x2*w2</text>\n<polyline fill=\"none\" stroke=\"black\" points=\"379,-111 379,-146.5\"/>\n<text text-anchor=\"middle\" x=\"418.88\" y=\"-123.7\" font-family=\"Times,serif\" font-size=\"14.00\">data 0.0000</text>\n<polyline fill=\"none\" stroke=\"black\" points=\"458.75,-111 458.75,-146.5\"/>\n<text text-anchor=\"middle\" x=\"499.38\" y=\"-123.7\" font-family=\"Times,serif\" font-size=\"14.00\">grad 0.5000</text>\n</g>\n<!-- 5101306976&#45;&gt;5101320800+ -->\n<g id=\"edge10\" class=\"edge\">\n<title>5101306976&#45;&gt;5101320800+</title>\n<path fill=\"none\" stroke=\"black\" d=\"M540.42,-111.01C549.89,-109.45 559,-107.95 567.21,-106.6\"/>\n<polygon fill=\"black\" stroke=\"black\" points=\"567.75,-110.05 577.05,-104.98 566.62,-103.15 567.75,-110.05\"/>\n</g>\n<!-- 5101306976*&#45;&gt;5101306976 -->\n<g id=\"edge3\" class=\"edge\">\n<title>5101306976*&#45;&gt;5101306976</title>\n<path fill=\"none\" stroke=\"black\" d=\"M288.21,-128.5C296,-128.5 305.08,-128.5 314.82,-128.5\"/>\n<polygon fill=\"black\" stroke=\"black\" points=\"314.55,-132 324.55,-128.5 314.55,-125 314.55,-132\"/>\n</g>\n<!-- 5101310288 -->\n<g id=\"node8\" class=\"node\">\n<title>5101310288</title>\n<polygon fill=\"none\" stroke=\"black\" points=\"3.75,-55.5 3.75,-91.5 194.25,-91.5 194.25,-55.5 3.75,-55.5\"/>\n<text text-anchor=\"middle\" x=\"18.5\" y=\"-68.7\" font-family=\"Times,serif\" font-size=\"14.00\">x1</text>\n<polyline fill=\"none\" stroke=\"black\" points=\"33.25,-56 33.25,-91.5\"/>\n<text text-anchor=\"middle\" x=\"73.12\" y=\"-68.7\" font-family=\"Times,serif\" font-size=\"14.00\">data 2.0000</text>\n<polyline fill=\"none\" stroke=\"black\" points=\"113,-56 113,-91.5\"/>\n<text text-anchor=\"middle\" x=\"153.62\" y=\"-68.7\" font-family=\"Times,serif\" font-size=\"14.00\">grad 0.0000</text>\n</g>\n<!-- 5101321088* -->\n<g id=\"node10\" class=\"node\">\n<title>5101321088*</title>\n<ellipse fill=\"none\" stroke=\"black\" cx=\"261\" cy=\"-73.5\" rx=\"27\" ry=\"18\"/>\n<text text-anchor=\"middle\" x=\"261\" y=\"-68.45\" font-family=\"Times,serif\" font-size=\"14.00\">*</text>\n</g>\n<!-- 5101310288&#45;&gt;5101321088* -->\n<g id=\"edge9\" class=\"edge\">\n<title>5101310288&#45;&gt;5101321088*</title>\n<path fill=\"none\" stroke=\"black\" d=\"M194.46,-73.5C204.21,-73.5 213.66,-73.5 222.21,-73.5\"/>\n<polygon fill=\"black\" stroke=\"black\" points=\"222.12,-77 232.12,-73.5 222.12,-70 222.12,-77\"/>\n</g>\n<!-- 5101321088 -->\n<g id=\"node9\" class=\"node\">\n<title>5101321088</title>\n<polygon fill=\"none\" stroke=\"black\" points=\"324,-55.5 324,-91.5 542.25,-91.5 542.25,-55.5 324,-55.5\"/>\n<text text-anchor=\"middle\" x=\"350.38\" y=\"-68.7\" font-family=\"Times,serif\" font-size=\"14.00\">x1*w1</text>\n<polyline fill=\"none\" stroke=\"black\" points=\"376.75,-56 376.75,-91.5\"/>\n<text text-anchor=\"middle\" x=\"418.88\" y=\"-68.7\" font-family=\"Times,serif\" font-size=\"14.00\">data &#45;6.0000</text>\n<polyline fill=\"none\" stroke=\"black\" points=\"461,-56 461,-91.5\"/>\n<text text-anchor=\"middle\" x=\"501.62\" y=\"-68.7\" font-family=\"Times,serif\" font-size=\"14.00\">grad 0.5000</text>\n</g>\n<!-- 5101321088&#45;&gt;5101320800+ -->\n<g id=\"edge12\" class=\"edge\">\n<title>5101321088&#45;&gt;5101320800+</title>\n<path fill=\"none\" stroke=\"black\" d=\"M542.35,-90.68C551.12,-92.07 559.54,-93.4 567.19,-94.62\"/>\n<polygon fill=\"black\" stroke=\"black\" points=\"566.59,-98.07 577.02,-96.18 567.69,-91.15 566.59,-98.07\"/>\n</g>\n<!-- 5101321088*&#45;&gt;5101321088 -->\n<g id=\"edge4\" class=\"edge\">\n<title>5101321088*&#45;&gt;5101321088</title>\n<path fill=\"none\" stroke=\"black\" d=\"M288.21,-73.5C295.29,-73.5 303.43,-73.5 312.17,-73.5\"/>\n<polygon fill=\"black\" stroke=\"black\" points=\"312.01,-77 322.01,-73.5 312.01,-70 312.01,-77\"/>\n</g>\n<!-- 5101307312 -->\n<g id=\"node11\" class=\"node\">\n<title>5101307312</title>\n<polygon fill=\"none\" stroke=\"black\" points=\"701.25,-27.5 701.25,-63.5 885,-63.5 885,-27.5 701.25,-27.5\"/>\n<text text-anchor=\"middle\" x=\"712.62\" y=\"-40.7\" font-family=\"Times,serif\" font-size=\"14.00\">b</text>\n<polyline fill=\"none\" stroke=\"black\" points=\"724,-28 724,-63.5\"/>\n<text text-anchor=\"middle\" x=\"763.88\" y=\"-40.7\" font-family=\"Times,serif\" font-size=\"14.00\">data 6.8814</text>\n<polyline fill=\"none\" stroke=\"black\" points=\"803.75,-28 803.75,-63.5\"/>\n<text text-anchor=\"middle\" x=\"844.38\" y=\"-40.7\" font-family=\"Times,serif\" font-size=\"14.00\">grad 0.5000</text>\n</g>\n<!-- 5101307312&#45;&gt;5101766640+ -->\n<g id=\"edge8\" class=\"edge\">\n<title>5101307312&#45;&gt;5101766640+</title>\n<path fill=\"none\" stroke=\"black\" d=\"M885.43,-58.76C906.02,-61.75 926.71,-64.76 943.47,-67.19\"/>\n<polygon fill=\"black\" stroke=\"black\" points=\"942.5,-70.59 952.9,-68.56 943.5,-63.66 942.5,-70.59\"/>\n</g>\n<!-- 5101306304 -->\n<g id=\"node12\" class=\"node\">\n<title>5101306304</title>\n<polygon fill=\"none\" stroke=\"black\" points=\"2.25,-110.5 2.25,-146.5 195.75,-146.5 195.75,-110.5 2.25,-110.5\"/>\n<text text-anchor=\"middle\" x=\"18.5\" y=\"-123.7\" font-family=\"Times,serif\" font-size=\"14.00\">w2</text>\n<polyline fill=\"none\" stroke=\"black\" points=\"34.75,-111 34.75,-146.5\"/>\n<text text-anchor=\"middle\" x=\"74.62\" y=\"-123.7\" font-family=\"Times,serif\" font-size=\"14.00\">data 1.0000</text>\n<polyline fill=\"none\" stroke=\"black\" points=\"114.5,-111 114.5,-146.5\"/>\n<text text-anchor=\"middle\" x=\"155.12\" y=\"-123.7\" font-family=\"Times,serif\" font-size=\"14.00\">grad 0.0000</text>\n</g>\n<!-- 5101306304&#45;&gt;5101306976* -->\n<g id=\"edge11\" class=\"edge\">\n<title>5101306304&#45;&gt;5101306976*</title>\n<path fill=\"none\" stroke=\"black\" d=\"M195.84,-128.5C205.14,-128.5 214.15,-128.5 222.32,-128.5\"/>\n<polygon fill=\"black\" stroke=\"black\" points=\"222.13,-132 232.13,-128.5 222.13,-125 222.13,-132\"/>\n</g>\n<!-- 5101320656 -->\n<g id=\"node13\" class=\"node\">\n<title>5101320656</title>\n<polygon fill=\"none\" stroke=\"black\" points=\"0,-0.5 0,-36.5 198,-36.5 198,-0.5 0,-0.5\"/>\n<text text-anchor=\"middle\" x=\"16.25\" y=\"-13.7\" font-family=\"Times,serif\" font-size=\"14.00\">w1</text>\n<polyline fill=\"none\" stroke=\"black\" points=\"32.5,-1 32.5,-36.5\"/>\n<text text-anchor=\"middle\" x=\"74.62\" y=\"-13.7\" font-family=\"Times,serif\" font-size=\"14.00\">data &#45;3.0000</text>\n<polyline fill=\"none\" stroke=\"black\" points=\"116.75,-1 116.75,-36.5\"/>\n<text text-anchor=\"middle\" x=\"157.38\" y=\"-13.7\" font-family=\"Times,serif\" font-size=\"14.00\">grad 0.0000</text>\n</g>\n<!-- 5101320656&#45;&gt;5101321088* -->\n<g id=\"edge7\" class=\"edge\">\n<title>5101320656&#45;&gt;5101321088*</title>\n<path fill=\"none\" stroke=\"black\" d=\"M172.12,-36.99C180.9,-39.65 189.7,-42.5 198,-45.5 208.09,-49.14 218.82,-53.73 228.47,-58.12\"/>\n<polygon fill=\"black\" stroke=\"black\" points=\"226.9,-61.25 237.45,-62.31 229.86,-54.91 226.9,-61.25\"/>\n</g>\n<!-- 5101766640 -->\n<g id=\"node14\" class=\"node\">\n<title>5101766640</title>\n<polygon fill=\"none\" stroke=\"black\" points=\"1044,-54.5 1044,-90.5 1227.75,-90.5 1227.75,-54.5 1044,-54.5\"/>\n<text text-anchor=\"middle\" x=\"1055.38\" y=\"-67.7\" font-family=\"Times,serif\" font-size=\"14.00\">n</text>\n<polyline fill=\"none\" stroke=\"black\" points=\"1066.75,-55 1066.75,-90.5\"/>\n<text text-anchor=\"middle\" x=\"1106.62\" y=\"-67.7\" font-family=\"Times,serif\" font-size=\"14.00\">data 0.8814</text>\n<polyline fill=\"none\" stroke=\"black\" points=\"1146.5,-55 1146.5,-90.5\"/>\n<text text-anchor=\"middle\" x=\"1187.12\" y=\"-67.7\" font-family=\"Times,serif\" font-size=\"14.00\">grad 0.5000</text>\n</g>\n<!-- 5101766640&#45;&gt;5101767216tanh -->\n<g id=\"edge14\" class=\"edge\">\n<title>5101766640&#45;&gt;5101767216tanh</title>\n<path fill=\"none\" stroke=\"black\" d=\"M1228.01,-72.5C1236.39,-72.5 1244.52,-72.5 1251.98,-72.5\"/>\n<polygon fill=\"black\" stroke=\"black\" points=\"1251.95,-76 1261.95,-72.5 1251.95,-69 1251.95,-76\"/>\n</g>\n<!-- 5101766640+&#45;&gt;5101766640 -->\n<g id=\"edge5\" class=\"edge\">\n<title>5101766640+&#45;&gt;5101766640</title>\n<path fill=\"none\" stroke=\"black\" d=\"M1008.28,-72.5C1015.42,-72.5 1023.61,-72.5 1032.32,-72.5\"/>\n<polygon fill=\"black\" stroke=\"black\" points=\"1032.06,-76 1042.06,-72.5 1032.06,-69 1032.06,-76\"/>\n</g>\n</g>\n</svg>\n",
      "text/plain": [
       "<graphviz.graphs.Digraph at 0x13019da50>"
      ]
     },
     "execution_count": 77,
     "metadata": {},
     "output_type": "execute_result"
    }
   ],
   "execution_count": 77
  },
  {
   "metadata": {},
   "cell_type": "markdown",
   "source": [
    "## Backpropagation Step 5: x1 & w1\n",
    "\n",
    "To find the derivative $\\frac{\\partial o}{\\partial x1}$ and $\\frac{\\partial o}{\\partial x2}$, we first need to find the partial derivatives of $\\frac{\\partial \\text{x1*w1}}{\\partial x1}$ and $\\frac{\\partial \\text{x1*w1}}{\\partial w1}$. //\n",
    "We know that the derivative of a multiplication like $f(a, b) = a \\times b$ with respect to $a$ is $b$. Therefor we can simply calculate the derivatives using the chain rule:\n",
    "$$\\frac{\\partial o}{\\partial x1} = \\frac{\\partial o}{\\partial \\text{x1*w1}} \\frac{\\partial \\text{x1*w1}}{\\partial x1} = 0.5 \\times -3.0 = -1.5$$\n",
    "$$\\frac{\\partial o}{\\partial w1} = \\frac{\\partial o}{\\partial \\text{x1*w1}} \\frac{\\partial \\text{x1*w1}}{\\partial w1} = 0.5 \\times 2.0 = 1.0$$\n"
   ]
  },
  {
   "metadata": {
    "ExecuteTime": {
     "end_time": "2024-12-08T16:08:19.548560Z",
     "start_time": "2024-12-08T16:08:19.545845Z"
    }
   },
   "cell_type": "code",
   "source": [
    "dot, derivative = partial_using_lim(o, x1)\n",
    "print(derivative)"
   ],
   "outputs": [
    {
     "name": "stdout",
     "output_type": "stream",
     "text": [
      "-1.500318220551966\n"
     ]
    }
   ],
   "execution_count": 78
  },
  {
   "metadata": {
    "ExecuteTime": {
     "end_time": "2024-12-08T16:08:19.569225Z",
     "start_time": "2024-12-08T16:08:19.565942Z"
    }
   },
   "cell_type": "code",
   "source": [
    "dot, derivative = partial_using_lim(o, w1)\n",
    "print(derivative)"
   ],
   "outputs": [
    {
     "name": "stdout",
     "output_type": "stream",
     "text": [
      "0.9998585853132624\n"
     ]
    }
   ],
   "execution_count": 79
  },
  {
   "metadata": {
    "ExecuteTime": {
     "end_time": "2024-12-08T16:08:19.653710Z",
     "start_time": "2024-12-08T16:08:19.582538Z"
    }
   },
   "cell_type": "code",
   "source": [
    "# Applying the gradients\n",
    "x1.grad = -1.5\n",
    "w1.grad = 1.0\n",
    "draw_dot(o)"
   ],
   "outputs": [
    {
     "data": {
      "image/svg+xml": "<?xml version=\"1.0\" encoding=\"UTF-8\" standalone=\"no\"?>\n<!DOCTYPE svg PUBLIC \"-//W3C//DTD SVG 1.1//EN\"\n \"http://www.w3.org/Graphics/SVG/1.1/DTD/svg11.dtd\">\n<!-- Generated by graphviz version 12.2.0 (20241103.1931)\n -->\n<!-- Pages: 1 -->\n<svg width=\"1546pt\" height=\"210pt\"\n viewBox=\"0.00 0.00 1545.50 210.00\" xmlns=\"http://www.w3.org/2000/svg\" xmlns:xlink=\"http://www.w3.org/1999/xlink\">\n<g id=\"graph0\" class=\"graph\" transform=\"scale(1 1) rotate(0) translate(4 206)\">\n<polygon fill=\"white\" stroke=\"none\" points=\"-4,4 -4,-206 1541.5,-206 1541.5,4 -4,4\"/>\n<!-- 5101311488 -->\n<g id=\"node1\" class=\"node\">\n<title>5101311488</title>\n<polygon fill=\"none\" stroke=\"black\" points=\"3.75,-165.5 3.75,-201.5 194.25,-201.5 194.25,-165.5 3.75,-165.5\"/>\n<text text-anchor=\"middle\" x=\"18.5\" y=\"-178.7\" font-family=\"Times,serif\" font-size=\"14.00\">x2</text>\n<polyline fill=\"none\" stroke=\"black\" points=\"33.25,-166 33.25,-201.5\"/>\n<text text-anchor=\"middle\" x=\"73.12\" y=\"-178.7\" font-family=\"Times,serif\" font-size=\"14.00\">data 0.0000</text>\n<polyline fill=\"none\" stroke=\"black\" points=\"113,-166 113,-201.5\"/>\n<text text-anchor=\"middle\" x=\"153.62\" y=\"-178.7\" font-family=\"Times,serif\" font-size=\"14.00\">grad 0.0000</text>\n</g>\n<!-- 5101306976* -->\n<g id=\"node7\" class=\"node\">\n<title>5101306976*</title>\n<ellipse fill=\"none\" stroke=\"black\" cx=\"261\" cy=\"-128.5\" rx=\"27\" ry=\"18\"/>\n<text text-anchor=\"middle\" x=\"261\" y=\"-123.45\" font-family=\"Times,serif\" font-size=\"14.00\">*</text>\n</g>\n<!-- 5101311488&#45;&gt;5101306976* -->\n<g id=\"edge13\" class=\"edge\">\n<title>5101311488&#45;&gt;5101306976*</title>\n<path fill=\"none\" stroke=\"black\" d=\"M172.12,-165.01C180.9,-162.35 189.7,-159.5 198,-156.5 208.09,-152.86 218.82,-148.27 228.47,-143.88\"/>\n<polygon fill=\"black\" stroke=\"black\" points=\"229.86,-147.09 237.45,-139.69 226.9,-140.75 229.86,-147.09\"/>\n</g>\n<!-- 5101767216 -->\n<g id=\"node2\" class=\"node\">\n<title>5101767216</title>\n<polygon fill=\"none\" stroke=\"black\" points=\"1353.75,-54.5 1353.75,-90.5 1537.5,-90.5 1537.5,-54.5 1353.75,-54.5\"/>\n<text text-anchor=\"middle\" x=\"1365.12\" y=\"-67.7\" font-family=\"Times,serif\" font-size=\"14.00\">o</text>\n<polyline fill=\"none\" stroke=\"black\" points=\"1376.5,-55 1376.5,-90.5\"/>\n<text text-anchor=\"middle\" x=\"1416.38\" y=\"-67.7\" font-family=\"Times,serif\" font-size=\"14.00\">data 0.7071</text>\n<polyline fill=\"none\" stroke=\"black\" points=\"1456.25,-55 1456.25,-90.5\"/>\n<text text-anchor=\"middle\" x=\"1496.88\" y=\"-67.7\" font-family=\"Times,serif\" font-size=\"14.00\">grad 1.0000</text>\n</g>\n<!-- 5101767216tanh -->\n<g id=\"node3\" class=\"node\">\n<title>5101767216tanh</title>\n<ellipse fill=\"none\" stroke=\"black\" cx=\"1290.75\" cy=\"-72.5\" rx=\"27\" ry=\"18\"/>\n<text text-anchor=\"middle\" x=\"1290.75\" y=\"-67.45\" font-family=\"Times,serif\" font-size=\"14.00\">tanh</text>\n</g>\n<!-- 5101767216tanh&#45;&gt;5101767216 -->\n<g id=\"edge1\" class=\"edge\">\n<title>5101767216tanh&#45;&gt;5101767216</title>\n<path fill=\"none\" stroke=\"black\" d=\"M1318.03,-72.5C1325.17,-72.5 1333.36,-72.5 1342.07,-72.5\"/>\n<polygon fill=\"black\" stroke=\"black\" points=\"1341.81,-76 1351.81,-72.5 1341.81,-69 1341.81,-76\"/>\n</g>\n<!-- 5101320800 -->\n<g id=\"node4\" class=\"node\">\n<title>5101320800</title>\n<polygon fill=\"none\" stroke=\"black\" points=\"668.25,-82.5 668.25,-118.5 918,-118.5 918,-82.5 668.25,-82.5\"/>\n<text text-anchor=\"middle\" x=\"710.38\" y=\"-95.7\" font-family=\"Times,serif\" font-size=\"14.00\">x1w1+x2w2</text>\n<polyline fill=\"none\" stroke=\"black\" points=\"752.5,-83 752.5,-118.5\"/>\n<text text-anchor=\"middle\" x=\"794.62\" y=\"-95.7\" font-family=\"Times,serif\" font-size=\"14.00\">data &#45;6.0000</text>\n<polyline fill=\"none\" stroke=\"black\" points=\"836.75,-83 836.75,-118.5\"/>\n<text text-anchor=\"middle\" x=\"877.38\" y=\"-95.7\" font-family=\"Times,serif\" font-size=\"14.00\">grad 0.5000</text>\n</g>\n<!-- 5101766640+ -->\n<g id=\"node15\" class=\"node\">\n<title>5101766640+</title>\n<ellipse fill=\"none\" stroke=\"black\" cx=\"981\" cy=\"-72.5\" rx=\"27\" ry=\"18\"/>\n<text text-anchor=\"middle\" x=\"981\" y=\"-67.45\" font-family=\"Times,serif\" font-size=\"14.00\">+</text>\n</g>\n<!-- 5101320800&#45;&gt;5101766640+ -->\n<g id=\"edge6\" class=\"edge\">\n<title>5101320800&#45;&gt;5101766640+</title>\n<path fill=\"none\" stroke=\"black\" d=\"M916.81,-82.02C926.08,-80.62 934.9,-79.29 942.86,-78.09\"/>\n<polygon fill=\"black\" stroke=\"black\" points=\"943.36,-81.56 952.72,-76.61 942.31,-74.64 943.36,-81.56\"/>\n</g>\n<!-- 5101320800+ -->\n<g id=\"node5\" class=\"node\">\n<title>5101320800+</title>\n<ellipse fill=\"none\" stroke=\"black\" cx=\"605.25\" cy=\"-100.5\" rx=\"27\" ry=\"18\"/>\n<text text-anchor=\"middle\" x=\"605.25\" y=\"-95.45\" font-family=\"Times,serif\" font-size=\"14.00\">+</text>\n</g>\n<!-- 5101320800+&#45;&gt;5101320800 -->\n<g id=\"edge2\" class=\"edge\">\n<title>5101320800+&#45;&gt;5101320800</title>\n<path fill=\"none\" stroke=\"black\" d=\"M632.49,-100.5C639.52,-100.5 647.64,-100.5 656.4,-100.5\"/>\n<polygon fill=\"black\" stroke=\"black\" points=\"656.3,-104 666.3,-100.5 656.3,-97 656.3,-104\"/>\n</g>\n<!-- 5101306976 -->\n<g id=\"node6\" class=\"node\">\n<title>5101306976</title>\n<polygon fill=\"none\" stroke=\"black\" points=\"326.25,-110.5 326.25,-146.5 540,-146.5 540,-110.5 326.25,-110.5\"/>\n<text text-anchor=\"middle\" x=\"352.62\" y=\"-123.7\" font-family=\"Times,serif\" font-size=\"14.00\">x2*w2</text>\n<polyline fill=\"none\" stroke=\"black\" points=\"379,-111 379,-146.5\"/>\n<text text-anchor=\"middle\" x=\"418.88\" y=\"-123.7\" font-family=\"Times,serif\" font-size=\"14.00\">data 0.0000</text>\n<polyline fill=\"none\" stroke=\"black\" points=\"458.75,-111 458.75,-146.5\"/>\n<text text-anchor=\"middle\" x=\"499.38\" y=\"-123.7\" font-family=\"Times,serif\" font-size=\"14.00\">grad 0.5000</text>\n</g>\n<!-- 5101306976&#45;&gt;5101320800+ -->\n<g id=\"edge10\" class=\"edge\">\n<title>5101306976&#45;&gt;5101320800+</title>\n<path fill=\"none\" stroke=\"black\" d=\"M540.42,-111.01C549.89,-109.45 559,-107.95 567.21,-106.6\"/>\n<polygon fill=\"black\" stroke=\"black\" points=\"567.75,-110.05 577.05,-104.98 566.62,-103.15 567.75,-110.05\"/>\n</g>\n<!-- 5101306976*&#45;&gt;5101306976 -->\n<g id=\"edge3\" class=\"edge\">\n<title>5101306976*&#45;&gt;5101306976</title>\n<path fill=\"none\" stroke=\"black\" d=\"M288.21,-128.5C296,-128.5 305.08,-128.5 314.82,-128.5\"/>\n<polygon fill=\"black\" stroke=\"black\" points=\"314.55,-132 324.55,-128.5 314.55,-125 314.55,-132\"/>\n</g>\n<!-- 5101310288 -->\n<g id=\"node8\" class=\"node\">\n<title>5101310288</title>\n<polygon fill=\"none\" stroke=\"black\" points=\"1.5,-55.5 1.5,-91.5 196.5,-91.5 196.5,-55.5 1.5,-55.5\"/>\n<text text-anchor=\"middle\" x=\"16.25\" y=\"-68.7\" font-family=\"Times,serif\" font-size=\"14.00\">x1</text>\n<polyline fill=\"none\" stroke=\"black\" points=\"31,-56 31,-91.5\"/>\n<text text-anchor=\"middle\" x=\"70.88\" y=\"-68.7\" font-family=\"Times,serif\" font-size=\"14.00\">data 2.0000</text>\n<polyline fill=\"none\" stroke=\"black\" points=\"110.75,-56 110.75,-91.5\"/>\n<text text-anchor=\"middle\" x=\"153.62\" y=\"-68.7\" font-family=\"Times,serif\" font-size=\"14.00\">grad &#45;1.5000</text>\n</g>\n<!-- 5101321088* -->\n<g id=\"node10\" class=\"node\">\n<title>5101321088*</title>\n<ellipse fill=\"none\" stroke=\"black\" cx=\"261\" cy=\"-73.5\" rx=\"27\" ry=\"18\"/>\n<text text-anchor=\"middle\" x=\"261\" y=\"-68.45\" font-family=\"Times,serif\" font-size=\"14.00\">*</text>\n</g>\n<!-- 5101310288&#45;&gt;5101321088* -->\n<g id=\"edge9\" class=\"edge\">\n<title>5101310288&#45;&gt;5101321088*</title>\n<path fill=\"none\" stroke=\"black\" d=\"M196.76,-73.5C205.77,-73.5 214.47,-73.5 222.4,-73.5\"/>\n<polygon fill=\"black\" stroke=\"black\" points=\"222.25,-77 232.25,-73.5 222.25,-70 222.25,-77\"/>\n</g>\n<!-- 5101321088 -->\n<g id=\"node9\" class=\"node\">\n<title>5101321088</title>\n<polygon fill=\"none\" stroke=\"black\" points=\"324,-55.5 324,-91.5 542.25,-91.5 542.25,-55.5 324,-55.5\"/>\n<text text-anchor=\"middle\" x=\"350.38\" y=\"-68.7\" font-family=\"Times,serif\" font-size=\"14.00\">x1*w1</text>\n<polyline fill=\"none\" stroke=\"black\" points=\"376.75,-56 376.75,-91.5\"/>\n<text text-anchor=\"middle\" x=\"418.88\" y=\"-68.7\" font-family=\"Times,serif\" font-size=\"14.00\">data &#45;6.0000</text>\n<polyline fill=\"none\" stroke=\"black\" points=\"461,-56 461,-91.5\"/>\n<text text-anchor=\"middle\" x=\"501.62\" y=\"-68.7\" font-family=\"Times,serif\" font-size=\"14.00\">grad 0.5000</text>\n</g>\n<!-- 5101321088&#45;&gt;5101320800+ -->\n<g id=\"edge12\" class=\"edge\">\n<title>5101321088&#45;&gt;5101320800+</title>\n<path fill=\"none\" stroke=\"black\" d=\"M542.35,-90.68C551.12,-92.07 559.54,-93.4 567.19,-94.62\"/>\n<polygon fill=\"black\" stroke=\"black\" points=\"566.59,-98.07 577.02,-96.18 567.69,-91.15 566.59,-98.07\"/>\n</g>\n<!-- 5101321088*&#45;&gt;5101321088 -->\n<g id=\"edge4\" class=\"edge\">\n<title>5101321088*&#45;&gt;5101321088</title>\n<path fill=\"none\" stroke=\"black\" d=\"M288.21,-73.5C295.29,-73.5 303.43,-73.5 312.17,-73.5\"/>\n<polygon fill=\"black\" stroke=\"black\" points=\"312.01,-77 322.01,-73.5 312.01,-70 312.01,-77\"/>\n</g>\n<!-- 5101307312 -->\n<g id=\"node11\" class=\"node\">\n<title>5101307312</title>\n<polygon fill=\"none\" stroke=\"black\" points=\"701.25,-27.5 701.25,-63.5 885,-63.5 885,-27.5 701.25,-27.5\"/>\n<text text-anchor=\"middle\" x=\"712.62\" y=\"-40.7\" font-family=\"Times,serif\" font-size=\"14.00\">b</text>\n<polyline fill=\"none\" stroke=\"black\" points=\"724,-28 724,-63.5\"/>\n<text text-anchor=\"middle\" x=\"763.88\" y=\"-40.7\" font-family=\"Times,serif\" font-size=\"14.00\">data 6.8814</text>\n<polyline fill=\"none\" stroke=\"black\" points=\"803.75,-28 803.75,-63.5\"/>\n<text text-anchor=\"middle\" x=\"844.38\" y=\"-40.7\" font-family=\"Times,serif\" font-size=\"14.00\">grad 0.5000</text>\n</g>\n<!-- 5101307312&#45;&gt;5101766640+ -->\n<g id=\"edge8\" class=\"edge\">\n<title>5101307312&#45;&gt;5101766640+</title>\n<path fill=\"none\" stroke=\"black\" d=\"M885.43,-58.76C906.02,-61.75 926.71,-64.76 943.47,-67.19\"/>\n<polygon fill=\"black\" stroke=\"black\" points=\"942.5,-70.59 952.9,-68.56 943.5,-63.66 942.5,-70.59\"/>\n</g>\n<!-- 5101306304 -->\n<g id=\"node12\" class=\"node\">\n<title>5101306304</title>\n<polygon fill=\"none\" stroke=\"black\" points=\"2.25,-110.5 2.25,-146.5 195.75,-146.5 195.75,-110.5 2.25,-110.5\"/>\n<text text-anchor=\"middle\" x=\"18.5\" y=\"-123.7\" font-family=\"Times,serif\" font-size=\"14.00\">w2</text>\n<polyline fill=\"none\" stroke=\"black\" points=\"34.75,-111 34.75,-146.5\"/>\n<text text-anchor=\"middle\" x=\"74.62\" y=\"-123.7\" font-family=\"Times,serif\" font-size=\"14.00\">data 1.0000</text>\n<polyline fill=\"none\" stroke=\"black\" points=\"114.5,-111 114.5,-146.5\"/>\n<text text-anchor=\"middle\" x=\"155.12\" y=\"-123.7\" font-family=\"Times,serif\" font-size=\"14.00\">grad 0.0000</text>\n</g>\n<!-- 5101306304&#45;&gt;5101306976* -->\n<g id=\"edge11\" class=\"edge\">\n<title>5101306304&#45;&gt;5101306976*</title>\n<path fill=\"none\" stroke=\"black\" d=\"M195.84,-128.5C205.14,-128.5 214.15,-128.5 222.32,-128.5\"/>\n<polygon fill=\"black\" stroke=\"black\" points=\"222.13,-132 232.13,-128.5 222.13,-125 222.13,-132\"/>\n</g>\n<!-- 5101320656 -->\n<g id=\"node13\" class=\"node\">\n<title>5101320656</title>\n<polygon fill=\"none\" stroke=\"black\" points=\"0,-0.5 0,-36.5 198,-36.5 198,-0.5 0,-0.5\"/>\n<text text-anchor=\"middle\" x=\"16.25\" y=\"-13.7\" font-family=\"Times,serif\" font-size=\"14.00\">w1</text>\n<polyline fill=\"none\" stroke=\"black\" points=\"32.5,-1 32.5,-36.5\"/>\n<text text-anchor=\"middle\" x=\"74.62\" y=\"-13.7\" font-family=\"Times,serif\" font-size=\"14.00\">data &#45;3.0000</text>\n<polyline fill=\"none\" stroke=\"black\" points=\"116.75,-1 116.75,-36.5\"/>\n<text text-anchor=\"middle\" x=\"157.38\" y=\"-13.7\" font-family=\"Times,serif\" font-size=\"14.00\">grad 1.0000</text>\n</g>\n<!-- 5101320656&#45;&gt;5101321088* -->\n<g id=\"edge7\" class=\"edge\">\n<title>5101320656&#45;&gt;5101321088*</title>\n<path fill=\"none\" stroke=\"black\" d=\"M172.12,-36.99C180.9,-39.65 189.7,-42.5 198,-45.5 208.09,-49.14 218.82,-53.73 228.47,-58.12\"/>\n<polygon fill=\"black\" stroke=\"black\" points=\"226.9,-61.25 237.45,-62.31 229.86,-54.91 226.9,-61.25\"/>\n</g>\n<!-- 5101766640 -->\n<g id=\"node14\" class=\"node\">\n<title>5101766640</title>\n<polygon fill=\"none\" stroke=\"black\" points=\"1044,-54.5 1044,-90.5 1227.75,-90.5 1227.75,-54.5 1044,-54.5\"/>\n<text text-anchor=\"middle\" x=\"1055.38\" y=\"-67.7\" font-family=\"Times,serif\" font-size=\"14.00\">n</text>\n<polyline fill=\"none\" stroke=\"black\" points=\"1066.75,-55 1066.75,-90.5\"/>\n<text text-anchor=\"middle\" x=\"1106.62\" y=\"-67.7\" font-family=\"Times,serif\" font-size=\"14.00\">data 0.8814</text>\n<polyline fill=\"none\" stroke=\"black\" points=\"1146.5,-55 1146.5,-90.5\"/>\n<text text-anchor=\"middle\" x=\"1187.12\" y=\"-67.7\" font-family=\"Times,serif\" font-size=\"14.00\">grad 0.5000</text>\n</g>\n<!-- 5101766640&#45;&gt;5101767216tanh -->\n<g id=\"edge14\" class=\"edge\">\n<title>5101766640&#45;&gt;5101767216tanh</title>\n<path fill=\"none\" stroke=\"black\" d=\"M1228.01,-72.5C1236.39,-72.5 1244.52,-72.5 1251.98,-72.5\"/>\n<polygon fill=\"black\" stroke=\"black\" points=\"1251.95,-76 1261.95,-72.5 1251.95,-69 1251.95,-76\"/>\n</g>\n<!-- 5101766640+&#45;&gt;5101766640 -->\n<g id=\"edge5\" class=\"edge\">\n<title>5101766640+&#45;&gt;5101766640</title>\n<path fill=\"none\" stroke=\"black\" d=\"M1008.28,-72.5C1015.42,-72.5 1023.61,-72.5 1032.32,-72.5\"/>\n<polygon fill=\"black\" stroke=\"black\" points=\"1032.06,-76 1042.06,-72.5 1032.06,-69 1032.06,-76\"/>\n</g>\n</g>\n</svg>\n",
      "text/plain": [
       "<graphviz.graphs.Digraph at 0x13019d4b0>"
      ]
     },
     "execution_count": 80,
     "metadata": {},
     "output_type": "execute_result"
    }
   ],
   "execution_count": 80
  },
  {
   "metadata": {},
   "cell_type": "markdown",
   "source": [
    "## Backpropagation Step 6: x2 and w2\n",
    "Equivalent to *Step 5*.\n",
    "$$\\frac{\\partial o}{\\partial x2} = 0.5 \\times 1.0 = 0.5$$\n",
    "$$\\frac{\\partial o}{\\partial w2} = 0.5 \\times 0.0 = 0.0$$\n"
   ]
  },
  {
   "metadata": {
    "ExecuteTime": {
     "end_time": "2024-12-08T16:08:19.664944Z",
     "start_time": "2024-12-08T16:08:19.662473Z"
    }
   },
   "cell_type": "code",
   "source": [
    "dot, derivative = partial_using_lim(o, x2)\n",
    "print(derivative)"
   ],
   "outputs": [
    {
     "name": "stdout",
     "output_type": "stream",
     "text": [
      "0.49996464549284525\n"
     ]
    }
   ],
   "execution_count": 81
  },
  {
   "metadata": {
    "ExecuteTime": {
     "end_time": "2024-12-08T16:08:19.688421Z",
     "start_time": "2024-12-08T16:08:19.685748Z"
    }
   },
   "cell_type": "code",
   "source": [
    "dot, derivative = partial_using_lim(o, w2)\n",
    "print(derivative)"
   ],
   "outputs": [
    {
     "name": "stdout",
     "output_type": "stream",
     "text": [
      "0.0\n"
     ]
    }
   ],
   "execution_count": 82
  },
  {
   "metadata": {
    "ExecuteTime": {
     "end_time": "2024-12-08T16:08:19.796440Z",
     "start_time": "2024-12-08T16:08:19.711762Z"
    }
   },
   "cell_type": "code",
   "source": [
    "# Applying the gradients\n",
    "x2.grad = 0.5\n",
    "w2.grad = 0.0\n",
    "draw_dot(o)"
   ],
   "outputs": [
    {
     "data": {
      "image/svg+xml": "<?xml version=\"1.0\" encoding=\"UTF-8\" standalone=\"no\"?>\n<!DOCTYPE svg PUBLIC \"-//W3C//DTD SVG 1.1//EN\"\n \"http://www.w3.org/Graphics/SVG/1.1/DTD/svg11.dtd\">\n<!-- Generated by graphviz version 12.2.0 (20241103.1931)\n -->\n<!-- Pages: 1 -->\n<svg width=\"1546pt\" height=\"210pt\"\n viewBox=\"0.00 0.00 1545.50 210.00\" xmlns=\"http://www.w3.org/2000/svg\" xmlns:xlink=\"http://www.w3.org/1999/xlink\">\n<g id=\"graph0\" class=\"graph\" transform=\"scale(1 1) rotate(0) translate(4 206)\">\n<polygon fill=\"white\" stroke=\"none\" points=\"-4,4 -4,-206 1541.5,-206 1541.5,4 -4,4\"/>\n<!-- 5101311488 -->\n<g id=\"node1\" class=\"node\">\n<title>5101311488</title>\n<polygon fill=\"none\" stroke=\"black\" points=\"3.75,-165.5 3.75,-201.5 194.25,-201.5 194.25,-165.5 3.75,-165.5\"/>\n<text text-anchor=\"middle\" x=\"18.5\" y=\"-178.7\" font-family=\"Times,serif\" font-size=\"14.00\">x2</text>\n<polyline fill=\"none\" stroke=\"black\" points=\"33.25,-166 33.25,-201.5\"/>\n<text text-anchor=\"middle\" x=\"73.12\" y=\"-178.7\" font-family=\"Times,serif\" font-size=\"14.00\">data 0.0000</text>\n<polyline fill=\"none\" stroke=\"black\" points=\"113,-166 113,-201.5\"/>\n<text text-anchor=\"middle\" x=\"153.62\" y=\"-178.7\" font-family=\"Times,serif\" font-size=\"14.00\">grad 0.5000</text>\n</g>\n<!-- 5101306976* -->\n<g id=\"node7\" class=\"node\">\n<title>5101306976*</title>\n<ellipse fill=\"none\" stroke=\"black\" cx=\"261\" cy=\"-128.5\" rx=\"27\" ry=\"18\"/>\n<text text-anchor=\"middle\" x=\"261\" y=\"-123.45\" font-family=\"Times,serif\" font-size=\"14.00\">*</text>\n</g>\n<!-- 5101311488&#45;&gt;5101306976* -->\n<g id=\"edge13\" class=\"edge\">\n<title>5101311488&#45;&gt;5101306976*</title>\n<path fill=\"none\" stroke=\"black\" d=\"M172.12,-165.01C180.9,-162.35 189.7,-159.5 198,-156.5 208.09,-152.86 218.82,-148.27 228.47,-143.88\"/>\n<polygon fill=\"black\" stroke=\"black\" points=\"229.86,-147.09 237.45,-139.69 226.9,-140.75 229.86,-147.09\"/>\n</g>\n<!-- 5101767216 -->\n<g id=\"node2\" class=\"node\">\n<title>5101767216</title>\n<polygon fill=\"none\" stroke=\"black\" points=\"1353.75,-54.5 1353.75,-90.5 1537.5,-90.5 1537.5,-54.5 1353.75,-54.5\"/>\n<text text-anchor=\"middle\" x=\"1365.12\" y=\"-67.7\" font-family=\"Times,serif\" font-size=\"14.00\">o</text>\n<polyline fill=\"none\" stroke=\"black\" points=\"1376.5,-55 1376.5,-90.5\"/>\n<text text-anchor=\"middle\" x=\"1416.38\" y=\"-67.7\" font-family=\"Times,serif\" font-size=\"14.00\">data 0.7071</text>\n<polyline fill=\"none\" stroke=\"black\" points=\"1456.25,-55 1456.25,-90.5\"/>\n<text text-anchor=\"middle\" x=\"1496.88\" y=\"-67.7\" font-family=\"Times,serif\" font-size=\"14.00\">grad 1.0000</text>\n</g>\n<!-- 5101767216tanh -->\n<g id=\"node3\" class=\"node\">\n<title>5101767216tanh</title>\n<ellipse fill=\"none\" stroke=\"black\" cx=\"1290.75\" cy=\"-72.5\" rx=\"27\" ry=\"18\"/>\n<text text-anchor=\"middle\" x=\"1290.75\" y=\"-67.45\" font-family=\"Times,serif\" font-size=\"14.00\">tanh</text>\n</g>\n<!-- 5101767216tanh&#45;&gt;5101767216 -->\n<g id=\"edge1\" class=\"edge\">\n<title>5101767216tanh&#45;&gt;5101767216</title>\n<path fill=\"none\" stroke=\"black\" d=\"M1318.03,-72.5C1325.17,-72.5 1333.36,-72.5 1342.07,-72.5\"/>\n<polygon fill=\"black\" stroke=\"black\" points=\"1341.81,-76 1351.81,-72.5 1341.81,-69 1341.81,-76\"/>\n</g>\n<!-- 5101320800 -->\n<g id=\"node4\" class=\"node\">\n<title>5101320800</title>\n<polygon fill=\"none\" stroke=\"black\" points=\"668.25,-82.5 668.25,-118.5 918,-118.5 918,-82.5 668.25,-82.5\"/>\n<text text-anchor=\"middle\" x=\"710.38\" y=\"-95.7\" font-family=\"Times,serif\" font-size=\"14.00\">x1w1+x2w2</text>\n<polyline fill=\"none\" stroke=\"black\" points=\"752.5,-83 752.5,-118.5\"/>\n<text text-anchor=\"middle\" x=\"794.62\" y=\"-95.7\" font-family=\"Times,serif\" font-size=\"14.00\">data &#45;6.0000</text>\n<polyline fill=\"none\" stroke=\"black\" points=\"836.75,-83 836.75,-118.5\"/>\n<text text-anchor=\"middle\" x=\"877.38\" y=\"-95.7\" font-family=\"Times,serif\" font-size=\"14.00\">grad 0.5000</text>\n</g>\n<!-- 5101766640+ -->\n<g id=\"node15\" class=\"node\">\n<title>5101766640+</title>\n<ellipse fill=\"none\" stroke=\"black\" cx=\"981\" cy=\"-72.5\" rx=\"27\" ry=\"18\"/>\n<text text-anchor=\"middle\" x=\"981\" y=\"-67.45\" font-family=\"Times,serif\" font-size=\"14.00\">+</text>\n</g>\n<!-- 5101320800&#45;&gt;5101766640+ -->\n<g id=\"edge6\" class=\"edge\">\n<title>5101320800&#45;&gt;5101766640+</title>\n<path fill=\"none\" stroke=\"black\" d=\"M916.81,-82.02C926.08,-80.62 934.9,-79.29 942.86,-78.09\"/>\n<polygon fill=\"black\" stroke=\"black\" points=\"943.36,-81.56 952.72,-76.61 942.31,-74.64 943.36,-81.56\"/>\n</g>\n<!-- 5101320800+ -->\n<g id=\"node5\" class=\"node\">\n<title>5101320800+</title>\n<ellipse fill=\"none\" stroke=\"black\" cx=\"605.25\" cy=\"-100.5\" rx=\"27\" ry=\"18\"/>\n<text text-anchor=\"middle\" x=\"605.25\" y=\"-95.45\" font-family=\"Times,serif\" font-size=\"14.00\">+</text>\n</g>\n<!-- 5101320800+&#45;&gt;5101320800 -->\n<g id=\"edge2\" class=\"edge\">\n<title>5101320800+&#45;&gt;5101320800</title>\n<path fill=\"none\" stroke=\"black\" d=\"M632.49,-100.5C639.52,-100.5 647.64,-100.5 656.4,-100.5\"/>\n<polygon fill=\"black\" stroke=\"black\" points=\"656.3,-104 666.3,-100.5 656.3,-97 656.3,-104\"/>\n</g>\n<!-- 5101306976 -->\n<g id=\"node6\" class=\"node\">\n<title>5101306976</title>\n<polygon fill=\"none\" stroke=\"black\" points=\"326.25,-110.5 326.25,-146.5 540,-146.5 540,-110.5 326.25,-110.5\"/>\n<text text-anchor=\"middle\" x=\"352.62\" y=\"-123.7\" font-family=\"Times,serif\" font-size=\"14.00\">x2*w2</text>\n<polyline fill=\"none\" stroke=\"black\" points=\"379,-111 379,-146.5\"/>\n<text text-anchor=\"middle\" x=\"418.88\" y=\"-123.7\" font-family=\"Times,serif\" font-size=\"14.00\">data 0.0000</text>\n<polyline fill=\"none\" stroke=\"black\" points=\"458.75,-111 458.75,-146.5\"/>\n<text text-anchor=\"middle\" x=\"499.38\" y=\"-123.7\" font-family=\"Times,serif\" font-size=\"14.00\">grad 0.5000</text>\n</g>\n<!-- 5101306976&#45;&gt;5101320800+ -->\n<g id=\"edge10\" class=\"edge\">\n<title>5101306976&#45;&gt;5101320800+</title>\n<path fill=\"none\" stroke=\"black\" d=\"M540.42,-111.01C549.89,-109.45 559,-107.95 567.21,-106.6\"/>\n<polygon fill=\"black\" stroke=\"black\" points=\"567.75,-110.05 577.05,-104.98 566.62,-103.15 567.75,-110.05\"/>\n</g>\n<!-- 5101306976*&#45;&gt;5101306976 -->\n<g id=\"edge3\" class=\"edge\">\n<title>5101306976*&#45;&gt;5101306976</title>\n<path fill=\"none\" stroke=\"black\" d=\"M288.21,-128.5C296,-128.5 305.08,-128.5 314.82,-128.5\"/>\n<polygon fill=\"black\" stroke=\"black\" points=\"314.55,-132 324.55,-128.5 314.55,-125 314.55,-132\"/>\n</g>\n<!-- 5101310288 -->\n<g id=\"node8\" class=\"node\">\n<title>5101310288</title>\n<polygon fill=\"none\" stroke=\"black\" points=\"1.5,-55.5 1.5,-91.5 196.5,-91.5 196.5,-55.5 1.5,-55.5\"/>\n<text text-anchor=\"middle\" x=\"16.25\" y=\"-68.7\" font-family=\"Times,serif\" font-size=\"14.00\">x1</text>\n<polyline fill=\"none\" stroke=\"black\" points=\"31,-56 31,-91.5\"/>\n<text text-anchor=\"middle\" x=\"70.88\" y=\"-68.7\" font-family=\"Times,serif\" font-size=\"14.00\">data 2.0000</text>\n<polyline fill=\"none\" stroke=\"black\" points=\"110.75,-56 110.75,-91.5\"/>\n<text text-anchor=\"middle\" x=\"153.62\" y=\"-68.7\" font-family=\"Times,serif\" font-size=\"14.00\">grad &#45;1.5000</text>\n</g>\n<!-- 5101321088* -->\n<g id=\"node10\" class=\"node\">\n<title>5101321088*</title>\n<ellipse fill=\"none\" stroke=\"black\" cx=\"261\" cy=\"-73.5\" rx=\"27\" ry=\"18\"/>\n<text text-anchor=\"middle\" x=\"261\" y=\"-68.45\" font-family=\"Times,serif\" font-size=\"14.00\">*</text>\n</g>\n<!-- 5101310288&#45;&gt;5101321088* -->\n<g id=\"edge9\" class=\"edge\">\n<title>5101310288&#45;&gt;5101321088*</title>\n<path fill=\"none\" stroke=\"black\" d=\"M196.76,-73.5C205.77,-73.5 214.47,-73.5 222.4,-73.5\"/>\n<polygon fill=\"black\" stroke=\"black\" points=\"222.25,-77 232.25,-73.5 222.25,-70 222.25,-77\"/>\n</g>\n<!-- 5101321088 -->\n<g id=\"node9\" class=\"node\">\n<title>5101321088</title>\n<polygon fill=\"none\" stroke=\"black\" points=\"324,-55.5 324,-91.5 542.25,-91.5 542.25,-55.5 324,-55.5\"/>\n<text text-anchor=\"middle\" x=\"350.38\" y=\"-68.7\" font-family=\"Times,serif\" font-size=\"14.00\">x1*w1</text>\n<polyline fill=\"none\" stroke=\"black\" points=\"376.75,-56 376.75,-91.5\"/>\n<text text-anchor=\"middle\" x=\"418.88\" y=\"-68.7\" font-family=\"Times,serif\" font-size=\"14.00\">data &#45;6.0000</text>\n<polyline fill=\"none\" stroke=\"black\" points=\"461,-56 461,-91.5\"/>\n<text text-anchor=\"middle\" x=\"501.62\" y=\"-68.7\" font-family=\"Times,serif\" font-size=\"14.00\">grad 0.5000</text>\n</g>\n<!-- 5101321088&#45;&gt;5101320800+ -->\n<g id=\"edge12\" class=\"edge\">\n<title>5101321088&#45;&gt;5101320800+</title>\n<path fill=\"none\" stroke=\"black\" d=\"M542.35,-90.68C551.12,-92.07 559.54,-93.4 567.19,-94.62\"/>\n<polygon fill=\"black\" stroke=\"black\" points=\"566.59,-98.07 577.02,-96.18 567.69,-91.15 566.59,-98.07\"/>\n</g>\n<!-- 5101321088*&#45;&gt;5101321088 -->\n<g id=\"edge4\" class=\"edge\">\n<title>5101321088*&#45;&gt;5101321088</title>\n<path fill=\"none\" stroke=\"black\" d=\"M288.21,-73.5C295.29,-73.5 303.43,-73.5 312.17,-73.5\"/>\n<polygon fill=\"black\" stroke=\"black\" points=\"312.01,-77 322.01,-73.5 312.01,-70 312.01,-77\"/>\n</g>\n<!-- 5101307312 -->\n<g id=\"node11\" class=\"node\">\n<title>5101307312</title>\n<polygon fill=\"none\" stroke=\"black\" points=\"701.25,-27.5 701.25,-63.5 885,-63.5 885,-27.5 701.25,-27.5\"/>\n<text text-anchor=\"middle\" x=\"712.62\" y=\"-40.7\" font-family=\"Times,serif\" font-size=\"14.00\">b</text>\n<polyline fill=\"none\" stroke=\"black\" points=\"724,-28 724,-63.5\"/>\n<text text-anchor=\"middle\" x=\"763.88\" y=\"-40.7\" font-family=\"Times,serif\" font-size=\"14.00\">data 6.8814</text>\n<polyline fill=\"none\" stroke=\"black\" points=\"803.75,-28 803.75,-63.5\"/>\n<text text-anchor=\"middle\" x=\"844.38\" y=\"-40.7\" font-family=\"Times,serif\" font-size=\"14.00\">grad 0.5000</text>\n</g>\n<!-- 5101307312&#45;&gt;5101766640+ -->\n<g id=\"edge8\" class=\"edge\">\n<title>5101307312&#45;&gt;5101766640+</title>\n<path fill=\"none\" stroke=\"black\" d=\"M885.43,-58.76C906.02,-61.75 926.71,-64.76 943.47,-67.19\"/>\n<polygon fill=\"black\" stroke=\"black\" points=\"942.5,-70.59 952.9,-68.56 943.5,-63.66 942.5,-70.59\"/>\n</g>\n<!-- 5101306304 -->\n<g id=\"node12\" class=\"node\">\n<title>5101306304</title>\n<polygon fill=\"none\" stroke=\"black\" points=\"2.25,-110.5 2.25,-146.5 195.75,-146.5 195.75,-110.5 2.25,-110.5\"/>\n<text text-anchor=\"middle\" x=\"18.5\" y=\"-123.7\" font-family=\"Times,serif\" font-size=\"14.00\">w2</text>\n<polyline fill=\"none\" stroke=\"black\" points=\"34.75,-111 34.75,-146.5\"/>\n<text text-anchor=\"middle\" x=\"74.62\" y=\"-123.7\" font-family=\"Times,serif\" font-size=\"14.00\">data 1.0000</text>\n<polyline fill=\"none\" stroke=\"black\" points=\"114.5,-111 114.5,-146.5\"/>\n<text text-anchor=\"middle\" x=\"155.12\" y=\"-123.7\" font-family=\"Times,serif\" font-size=\"14.00\">grad 0.0000</text>\n</g>\n<!-- 5101306304&#45;&gt;5101306976* -->\n<g id=\"edge11\" class=\"edge\">\n<title>5101306304&#45;&gt;5101306976*</title>\n<path fill=\"none\" stroke=\"black\" d=\"M195.84,-128.5C205.14,-128.5 214.15,-128.5 222.32,-128.5\"/>\n<polygon fill=\"black\" stroke=\"black\" points=\"222.13,-132 232.13,-128.5 222.13,-125 222.13,-132\"/>\n</g>\n<!-- 5101320656 -->\n<g id=\"node13\" class=\"node\">\n<title>5101320656</title>\n<polygon fill=\"none\" stroke=\"black\" points=\"0,-0.5 0,-36.5 198,-36.5 198,-0.5 0,-0.5\"/>\n<text text-anchor=\"middle\" x=\"16.25\" y=\"-13.7\" font-family=\"Times,serif\" font-size=\"14.00\">w1</text>\n<polyline fill=\"none\" stroke=\"black\" points=\"32.5,-1 32.5,-36.5\"/>\n<text text-anchor=\"middle\" x=\"74.62\" y=\"-13.7\" font-family=\"Times,serif\" font-size=\"14.00\">data &#45;3.0000</text>\n<polyline fill=\"none\" stroke=\"black\" points=\"116.75,-1 116.75,-36.5\"/>\n<text text-anchor=\"middle\" x=\"157.38\" y=\"-13.7\" font-family=\"Times,serif\" font-size=\"14.00\">grad 1.0000</text>\n</g>\n<!-- 5101320656&#45;&gt;5101321088* -->\n<g id=\"edge7\" class=\"edge\">\n<title>5101320656&#45;&gt;5101321088*</title>\n<path fill=\"none\" stroke=\"black\" d=\"M172.12,-36.99C180.9,-39.65 189.7,-42.5 198,-45.5 208.09,-49.14 218.82,-53.73 228.47,-58.12\"/>\n<polygon fill=\"black\" stroke=\"black\" points=\"226.9,-61.25 237.45,-62.31 229.86,-54.91 226.9,-61.25\"/>\n</g>\n<!-- 5101766640 -->\n<g id=\"node14\" class=\"node\">\n<title>5101766640</title>\n<polygon fill=\"none\" stroke=\"black\" points=\"1044,-54.5 1044,-90.5 1227.75,-90.5 1227.75,-54.5 1044,-54.5\"/>\n<text text-anchor=\"middle\" x=\"1055.38\" y=\"-67.7\" font-family=\"Times,serif\" font-size=\"14.00\">n</text>\n<polyline fill=\"none\" stroke=\"black\" points=\"1066.75,-55 1066.75,-90.5\"/>\n<text text-anchor=\"middle\" x=\"1106.62\" y=\"-67.7\" font-family=\"Times,serif\" font-size=\"14.00\">data 0.8814</text>\n<polyline fill=\"none\" stroke=\"black\" points=\"1146.5,-55 1146.5,-90.5\"/>\n<text text-anchor=\"middle\" x=\"1187.12\" y=\"-67.7\" font-family=\"Times,serif\" font-size=\"14.00\">grad 0.5000</text>\n</g>\n<!-- 5101766640&#45;&gt;5101767216tanh -->\n<g id=\"edge14\" class=\"edge\">\n<title>5101766640&#45;&gt;5101767216tanh</title>\n<path fill=\"none\" stroke=\"black\" d=\"M1228.01,-72.5C1236.39,-72.5 1244.52,-72.5 1251.98,-72.5\"/>\n<polygon fill=\"black\" stroke=\"black\" points=\"1251.95,-76 1261.95,-72.5 1251.95,-69 1251.95,-76\"/>\n</g>\n<!-- 5101766640+&#45;&gt;5101766640 -->\n<g id=\"edge5\" class=\"edge\">\n<title>5101766640+&#45;&gt;5101766640</title>\n<path fill=\"none\" stroke=\"black\" d=\"M1008.28,-72.5C1015.42,-72.5 1023.61,-72.5 1032.32,-72.5\"/>\n<polygon fill=\"black\" stroke=\"black\" points=\"1032.06,-76 1042.06,-72.5 1032.06,-69 1032.06,-76\"/>\n</g>\n</g>\n</svg>\n",
      "text/plain": [
       "<graphviz.graphs.Digraph at 0x1300fc610>"
      ]
     },
     "execution_count": 83,
     "metadata": {},
     "output_type": "execute_result"
    }
   ],
   "execution_count": 83
  },
  {
   "metadata": {},
   "cell_type": "markdown",
   "source": "## Backprop with Autodifferentiation"
  },
  {
   "metadata": {
    "ExecuteTime": {
     "end_time": "2024-12-08T16:08:19.886510Z",
     "start_time": "2024-12-08T16:08:19.804366Z"
    }
   },
   "cell_type": "code",
   "source": [
    "# Perceptron inputs x1, x2\n",
    "x1 = Value(2.0, label=\"x1\")\n",
    "x2 = Value(0.0, label=\"x2\")\n",
    "# Weights w1, w2, and bias b\n",
    "w1 = Value(-3.0, label=\"w1\")\n",
    "w2 = Value(1.0, label=\"w2\")\n",
    "b = Value(6.8813735870195432, label=\"b\")\n",
    "# n = x1*w1 + x2*w2 + b\n",
    "x1w1 = x1*w1; x1w1.label = \"x1*w1\"\n",
    "x2w2 = x2*w2; x2w2.label = \"x2*w2\"\n",
    "x1w1x2w2 = x1w1 + x2w2; x1w1x2w2.label = \"x1w1+x2w2\"\n",
    "n = x1w1x2w2 + b; n.label = \"n\"#\n",
    "o = n.tanh(); o.label = \"o\"\n",
    "draw_dot(o)"
   ],
   "outputs": [
    {
     "data": {
      "image/svg+xml": "<?xml version=\"1.0\" encoding=\"UTF-8\" standalone=\"no\"?>\n<!DOCTYPE svg PUBLIC \"-//W3C//DTD SVG 1.1//EN\"\n \"http://www.w3.org/Graphics/SVG/1.1/DTD/svg11.dtd\">\n<!-- Generated by graphviz version 12.2.0 (20241103.1931)\n -->\n<!-- Pages: 1 -->\n<svg width=\"1546pt\" height=\"210pt\"\n viewBox=\"0.00 0.00 1545.50 210.00\" xmlns=\"http://www.w3.org/2000/svg\" xmlns:xlink=\"http://www.w3.org/1999/xlink\">\n<g id=\"graph0\" class=\"graph\" transform=\"scale(1 1) rotate(0) translate(4 206)\">\n<polygon fill=\"white\" stroke=\"none\" points=\"-4,4 -4,-206 1541.5,-206 1541.5,4 -4,4\"/>\n<!-- 5101320752 -->\n<g id=\"node1\" class=\"node\">\n<title>5101320752</title>\n<polygon fill=\"none\" stroke=\"black\" points=\"326.25,-55.5 326.25,-91.5 540,-91.5 540,-55.5 326.25,-55.5\"/>\n<text text-anchor=\"middle\" x=\"352.62\" y=\"-68.7\" font-family=\"Times,serif\" font-size=\"14.00\">x2*w2</text>\n<polyline fill=\"none\" stroke=\"black\" points=\"379,-56 379,-91.5\"/>\n<text text-anchor=\"middle\" x=\"418.88\" y=\"-68.7\" font-family=\"Times,serif\" font-size=\"14.00\">data 0.0000</text>\n<polyline fill=\"none\" stroke=\"black\" points=\"458.75,-56 458.75,-91.5\"/>\n<text text-anchor=\"middle\" x=\"499.38\" y=\"-68.7\" font-family=\"Times,serif\" font-size=\"14.00\">grad 0.0000</text>\n</g>\n<!-- 5101311536+ -->\n<g id=\"node4\" class=\"node\">\n<title>5101311536+</title>\n<ellipse fill=\"none\" stroke=\"black\" cx=\"605.25\" cy=\"-100.5\" rx=\"27\" ry=\"18\"/>\n<text text-anchor=\"middle\" x=\"605.25\" y=\"-95.45\" font-family=\"Times,serif\" font-size=\"14.00\">+</text>\n</g>\n<!-- 5101320752&#45;&gt;5101311536+ -->\n<g id=\"edge13\" class=\"edge\">\n<title>5101320752&#45;&gt;5101311536+</title>\n<path fill=\"none\" stroke=\"black\" d=\"M540.42,-90.37C549.89,-91.87 559,-93.32 567.21,-94.62\"/>\n<polygon fill=\"black\" stroke=\"black\" points=\"566.63,-98.07 577.05,-96.18 567.72,-91.16 566.63,-98.07\"/>\n</g>\n<!-- 5101320752* -->\n<g id=\"node2\" class=\"node\">\n<title>5101320752*</title>\n<ellipse fill=\"none\" stroke=\"black\" cx=\"261\" cy=\"-73.5\" rx=\"27\" ry=\"18\"/>\n<text text-anchor=\"middle\" x=\"261\" y=\"-68.45\" font-family=\"Times,serif\" font-size=\"14.00\">*</text>\n</g>\n<!-- 5101320752*&#45;&gt;5101320752 -->\n<g id=\"edge1\" class=\"edge\">\n<title>5101320752*&#45;&gt;5101320752</title>\n<path fill=\"none\" stroke=\"black\" d=\"M288.21,-73.5C296,-73.5 305.08,-73.5 314.82,-73.5\"/>\n<polygon fill=\"black\" stroke=\"black\" points=\"314.55,-77 324.55,-73.5 314.55,-70 314.55,-77\"/>\n</g>\n<!-- 5101311536 -->\n<g id=\"node3\" class=\"node\">\n<title>5101311536</title>\n<polygon fill=\"none\" stroke=\"black\" points=\"668.25,-82.5 668.25,-118.5 918,-118.5 918,-82.5 668.25,-82.5\"/>\n<text text-anchor=\"middle\" x=\"710.38\" y=\"-95.7\" font-family=\"Times,serif\" font-size=\"14.00\">x1w1+x2w2</text>\n<polyline fill=\"none\" stroke=\"black\" points=\"752.5,-83 752.5,-118.5\"/>\n<text text-anchor=\"middle\" x=\"794.62\" y=\"-95.7\" font-family=\"Times,serif\" font-size=\"14.00\">data &#45;6.0000</text>\n<polyline fill=\"none\" stroke=\"black\" points=\"836.75,-83 836.75,-118.5\"/>\n<text text-anchor=\"middle\" x=\"877.38\" y=\"-95.7\" font-family=\"Times,serif\" font-size=\"14.00\">grad 0.0000</text>\n</g>\n<!-- 5101317200+ -->\n<g id=\"node6\" class=\"node\">\n<title>5101317200+</title>\n<ellipse fill=\"none\" stroke=\"black\" cx=\"981\" cy=\"-127.5\" rx=\"27\" ry=\"18\"/>\n<text text-anchor=\"middle\" x=\"981\" y=\"-122.45\" font-family=\"Times,serif\" font-size=\"14.00\">+</text>\n</g>\n<!-- 5101311536&#45;&gt;5101317200+ -->\n<g id=\"edge12\" class=\"edge\">\n<title>5101311536&#45;&gt;5101317200+</title>\n<path fill=\"none\" stroke=\"black\" d=\"M918.36,-118.55C927.16,-119.82 935.54,-121.04 943.11,-122.14\"/>\n<polygon fill=\"black\" stroke=\"black\" points=\"942.42,-125.58 952.82,-123.55 943.43,-118.65 942.42,-125.58\"/>\n</g>\n<!-- 5101311536+&#45;&gt;5101311536 -->\n<g id=\"edge2\" class=\"edge\">\n<title>5101311536+&#45;&gt;5101311536</title>\n<path fill=\"none\" stroke=\"black\" d=\"M632.49,-100.5C639.52,-100.5 647.64,-100.5 656.4,-100.5\"/>\n<polygon fill=\"black\" stroke=\"black\" points=\"656.3,-104 666.3,-100.5 656.3,-97 656.3,-104\"/>\n</g>\n<!-- 5101317200 -->\n<g id=\"node5\" class=\"node\">\n<title>5101317200</title>\n<polygon fill=\"none\" stroke=\"black\" points=\"1044,-109.5 1044,-145.5 1227.75,-145.5 1227.75,-109.5 1044,-109.5\"/>\n<text text-anchor=\"middle\" x=\"1055.38\" y=\"-122.7\" font-family=\"Times,serif\" font-size=\"14.00\">n</text>\n<polyline fill=\"none\" stroke=\"black\" points=\"1066.75,-110 1066.75,-145.5\"/>\n<text text-anchor=\"middle\" x=\"1106.62\" y=\"-122.7\" font-family=\"Times,serif\" font-size=\"14.00\">data 0.8814</text>\n<polyline fill=\"none\" stroke=\"black\" points=\"1146.5,-110 1146.5,-145.5\"/>\n<text text-anchor=\"middle\" x=\"1187.12\" y=\"-122.7\" font-family=\"Times,serif\" font-size=\"14.00\">grad 0.0000</text>\n</g>\n<!-- 5101319936tanh -->\n<g id=\"node11\" class=\"node\">\n<title>5101319936tanh</title>\n<ellipse fill=\"none\" stroke=\"black\" cx=\"1290.75\" cy=\"-127.5\" rx=\"27\" ry=\"18\"/>\n<text text-anchor=\"middle\" x=\"1290.75\" y=\"-122.45\" font-family=\"Times,serif\" font-size=\"14.00\">tanh</text>\n</g>\n<!-- 5101317200&#45;&gt;5101319936tanh -->\n<g id=\"edge11\" class=\"edge\">\n<title>5101317200&#45;&gt;5101319936tanh</title>\n<path fill=\"none\" stroke=\"black\" d=\"M1228.01,-127.5C1236.39,-127.5 1244.52,-127.5 1251.98,-127.5\"/>\n<polygon fill=\"black\" stroke=\"black\" points=\"1251.95,-131 1261.95,-127.5 1251.95,-124 1251.95,-131\"/>\n</g>\n<!-- 5101317200+&#45;&gt;5101317200 -->\n<g id=\"edge3\" class=\"edge\">\n<title>5101317200+&#45;&gt;5101317200</title>\n<path fill=\"none\" stroke=\"black\" d=\"M1008.28,-127.5C1015.42,-127.5 1023.61,-127.5 1032.32,-127.5\"/>\n<polygon fill=\"black\" stroke=\"black\" points=\"1032.06,-131 1042.06,-127.5 1032.06,-124 1032.06,-131\"/>\n</g>\n<!-- 5101305968 -->\n<g id=\"node7\" class=\"node\">\n<title>5101305968</title>\n<polygon fill=\"none\" stroke=\"black\" points=\"324,-110.5 324,-146.5 542.25,-146.5 542.25,-110.5 324,-110.5\"/>\n<text text-anchor=\"middle\" x=\"350.38\" y=\"-123.7\" font-family=\"Times,serif\" font-size=\"14.00\">x1*w1</text>\n<polyline fill=\"none\" stroke=\"black\" points=\"376.75,-111 376.75,-146.5\"/>\n<text text-anchor=\"middle\" x=\"418.88\" y=\"-123.7\" font-family=\"Times,serif\" font-size=\"14.00\">data &#45;6.0000</text>\n<polyline fill=\"none\" stroke=\"black\" points=\"461,-111 461,-146.5\"/>\n<text text-anchor=\"middle\" x=\"501.62\" y=\"-123.7\" font-family=\"Times,serif\" font-size=\"14.00\">grad 0.0000</text>\n</g>\n<!-- 5101305968&#45;&gt;5101311536+ -->\n<g id=\"edge7\" class=\"edge\">\n<title>5101305968&#45;&gt;5101311536+</title>\n<path fill=\"none\" stroke=\"black\" d=\"M542.35,-110.69C551.12,-109.24 559.54,-107.86 567.19,-106.6\"/>\n<polygon fill=\"black\" stroke=\"black\" points=\"567.72,-110.06 577.02,-104.98 566.58,-103.15 567.72,-110.06\"/>\n</g>\n<!-- 5101305968* -->\n<g id=\"node8\" class=\"node\">\n<title>5101305968*</title>\n<ellipse fill=\"none\" stroke=\"black\" cx=\"261\" cy=\"-128.5\" rx=\"27\" ry=\"18\"/>\n<text text-anchor=\"middle\" x=\"261\" y=\"-123.45\" font-family=\"Times,serif\" font-size=\"14.00\">*</text>\n</g>\n<!-- 5101305968*&#45;&gt;5101305968 -->\n<g id=\"edge4\" class=\"edge\">\n<title>5101305968*&#45;&gt;5101305968</title>\n<path fill=\"none\" stroke=\"black\" d=\"M288.21,-128.5C295.29,-128.5 303.43,-128.5 312.17,-128.5\"/>\n<polygon fill=\"black\" stroke=\"black\" points=\"312.01,-132 322.01,-128.5 312.01,-125 312.01,-132\"/>\n</g>\n<!-- 5101317344 -->\n<g id=\"node9\" class=\"node\">\n<title>5101317344</title>\n<polygon fill=\"none\" stroke=\"black\" points=\"3.75,-165.5 3.75,-201.5 194.25,-201.5 194.25,-165.5 3.75,-165.5\"/>\n<text text-anchor=\"middle\" x=\"18.5\" y=\"-178.7\" font-family=\"Times,serif\" font-size=\"14.00\">x1</text>\n<polyline fill=\"none\" stroke=\"black\" points=\"33.25,-166 33.25,-201.5\"/>\n<text text-anchor=\"middle\" x=\"73.12\" y=\"-178.7\" font-family=\"Times,serif\" font-size=\"14.00\">data 2.0000</text>\n<polyline fill=\"none\" stroke=\"black\" points=\"113,-166 113,-201.5\"/>\n<text text-anchor=\"middle\" x=\"153.62\" y=\"-178.7\" font-family=\"Times,serif\" font-size=\"14.00\">grad 0.0000</text>\n</g>\n<!-- 5101317344&#45;&gt;5101305968* -->\n<g id=\"edge9\" class=\"edge\">\n<title>5101317344&#45;&gt;5101305968*</title>\n<path fill=\"none\" stroke=\"black\" d=\"M172.12,-165.01C180.9,-162.35 189.7,-159.5 198,-156.5 208.09,-152.86 218.82,-148.27 228.47,-143.88\"/>\n<polygon fill=\"black\" stroke=\"black\" points=\"229.86,-147.09 237.45,-139.69 226.9,-140.75 229.86,-147.09\"/>\n</g>\n<!-- 5101319936 -->\n<g id=\"node10\" class=\"node\">\n<title>5101319936</title>\n<polygon fill=\"none\" stroke=\"black\" points=\"1353.75,-109.5 1353.75,-145.5 1537.5,-145.5 1537.5,-109.5 1353.75,-109.5\"/>\n<text text-anchor=\"middle\" x=\"1365.12\" y=\"-122.7\" font-family=\"Times,serif\" font-size=\"14.00\">o</text>\n<polyline fill=\"none\" stroke=\"black\" points=\"1376.5,-110 1376.5,-145.5\"/>\n<text text-anchor=\"middle\" x=\"1416.38\" y=\"-122.7\" font-family=\"Times,serif\" font-size=\"14.00\">data 0.7071</text>\n<polyline fill=\"none\" stroke=\"black\" points=\"1456.25,-110 1456.25,-145.5\"/>\n<text text-anchor=\"middle\" x=\"1496.88\" y=\"-122.7\" font-family=\"Times,serif\" font-size=\"14.00\">grad 0.0000</text>\n</g>\n<!-- 5101319936tanh&#45;&gt;5101319936 -->\n<g id=\"edge5\" class=\"edge\">\n<title>5101319936tanh&#45;&gt;5101319936</title>\n<path fill=\"none\" stroke=\"black\" d=\"M1318.03,-127.5C1325.17,-127.5 1333.36,-127.5 1342.07,-127.5\"/>\n<polygon fill=\"black\" stroke=\"black\" points=\"1341.81,-131 1351.81,-127.5 1341.81,-124 1341.81,-131\"/>\n</g>\n<!-- 5101317968 -->\n<g id=\"node12\" class=\"node\">\n<title>5101317968</title>\n<polygon fill=\"none\" stroke=\"black\" points=\"2.25,-55.5 2.25,-91.5 195.75,-91.5 195.75,-55.5 2.25,-55.5\"/>\n<text text-anchor=\"middle\" x=\"18.5\" y=\"-68.7\" font-family=\"Times,serif\" font-size=\"14.00\">w2</text>\n<polyline fill=\"none\" stroke=\"black\" points=\"34.75,-56 34.75,-91.5\"/>\n<text text-anchor=\"middle\" x=\"74.62\" y=\"-68.7\" font-family=\"Times,serif\" font-size=\"14.00\">data 1.0000</text>\n<polyline fill=\"none\" stroke=\"black\" points=\"114.5,-56 114.5,-91.5\"/>\n<text text-anchor=\"middle\" x=\"155.12\" y=\"-68.7\" font-family=\"Times,serif\" font-size=\"14.00\">grad 0.0000</text>\n</g>\n<!-- 5101317968&#45;&gt;5101320752* -->\n<g id=\"edge14\" class=\"edge\">\n<title>5101317968&#45;&gt;5101320752*</title>\n<path fill=\"none\" stroke=\"black\" d=\"M195.84,-73.5C205.14,-73.5 214.15,-73.5 222.32,-73.5\"/>\n<polygon fill=\"black\" stroke=\"black\" points=\"222.13,-77 232.13,-73.5 222.13,-70 222.13,-77\"/>\n</g>\n<!-- 5101321040 -->\n<g id=\"node13\" class=\"node\">\n<title>5101321040</title>\n<polygon fill=\"none\" stroke=\"black\" points=\"701.25,-137.5 701.25,-173.5 885,-173.5 885,-137.5 701.25,-137.5\"/>\n<text text-anchor=\"middle\" x=\"712.62\" y=\"-150.7\" font-family=\"Times,serif\" font-size=\"14.00\">b</text>\n<polyline fill=\"none\" stroke=\"black\" points=\"724,-138 724,-173.5\"/>\n<text text-anchor=\"middle\" x=\"763.88\" y=\"-150.7\" font-family=\"Times,serif\" font-size=\"14.00\">data 6.8814</text>\n<polyline fill=\"none\" stroke=\"black\" points=\"803.75,-138 803.75,-173.5\"/>\n<text text-anchor=\"middle\" x=\"844.38\" y=\"-150.7\" font-family=\"Times,serif\" font-size=\"14.00\">grad 0.0000</text>\n</g>\n<!-- 5101321040&#45;&gt;5101317200+ -->\n<g id=\"edge6\" class=\"edge\">\n<title>5101321040&#45;&gt;5101317200+</title>\n<path fill=\"none\" stroke=\"black\" d=\"M885.43,-141.75C906.02,-138.64 926.71,-135.53 943.47,-133\"/>\n<polygon fill=\"black\" stroke=\"black\" points=\"943.53,-136.53 952.9,-131.58 942.49,-129.61 943.53,-136.53\"/>\n</g>\n<!-- 5101317488 -->\n<g id=\"node14\" class=\"node\">\n<title>5101317488</title>\n<polygon fill=\"none\" stroke=\"black\" points=\"0,-110.5 0,-146.5 198,-146.5 198,-110.5 0,-110.5\"/>\n<text text-anchor=\"middle\" x=\"16.25\" y=\"-123.7\" font-family=\"Times,serif\" font-size=\"14.00\">w1</text>\n<polyline fill=\"none\" stroke=\"black\" points=\"32.5,-111 32.5,-146.5\"/>\n<text text-anchor=\"middle\" x=\"74.62\" y=\"-123.7\" font-family=\"Times,serif\" font-size=\"14.00\">data &#45;3.0000</text>\n<polyline fill=\"none\" stroke=\"black\" points=\"116.75,-111 116.75,-146.5\"/>\n<text text-anchor=\"middle\" x=\"157.38\" y=\"-123.7\" font-family=\"Times,serif\" font-size=\"14.00\">grad 0.0000</text>\n</g>\n<!-- 5101317488&#45;&gt;5101305968* -->\n<g id=\"edge8\" class=\"edge\">\n<title>5101317488&#45;&gt;5101305968*</title>\n<path fill=\"none\" stroke=\"black\" d=\"M198.14,-128.5C206.61,-128.5 214.8,-128.5 222.29,-128.5\"/>\n<polygon fill=\"black\" stroke=\"black\" points=\"222.29,-132 232.29,-128.5 222.29,-125 222.29,-132\"/>\n</g>\n<!-- 5101320608 -->\n<g id=\"node15\" class=\"node\">\n<title>5101320608</title>\n<polygon fill=\"none\" stroke=\"black\" points=\"3.75,-0.5 3.75,-36.5 194.25,-36.5 194.25,-0.5 3.75,-0.5\"/>\n<text text-anchor=\"middle\" x=\"18.5\" y=\"-13.7\" font-family=\"Times,serif\" font-size=\"14.00\">x2</text>\n<polyline fill=\"none\" stroke=\"black\" points=\"33.25,-1 33.25,-36.5\"/>\n<text text-anchor=\"middle\" x=\"73.12\" y=\"-13.7\" font-family=\"Times,serif\" font-size=\"14.00\">data 0.0000</text>\n<polyline fill=\"none\" stroke=\"black\" points=\"113,-1 113,-36.5\"/>\n<text text-anchor=\"middle\" x=\"153.62\" y=\"-13.7\" font-family=\"Times,serif\" font-size=\"14.00\">grad 0.0000</text>\n</g>\n<!-- 5101320608&#45;&gt;5101320752* -->\n<g id=\"edge10\" class=\"edge\">\n<title>5101320608&#45;&gt;5101320752*</title>\n<path fill=\"none\" stroke=\"black\" d=\"M168.91,-36.94C178.74,-39.93 188.67,-43.15 198,-46.5 207.96,-50.07 218.58,-54.47 228.18,-58.68\"/>\n<polygon fill=\"black\" stroke=\"black\" points=\"226.54,-61.78 237.1,-62.67 229.4,-55.39 226.54,-61.78\"/>\n</g>\n</g>\n</svg>\n",
      "text/plain": [
       "<graphviz.graphs.Digraph at 0x1300febf0>"
      ]
     },
     "execution_count": 84,
     "metadata": {},
     "output_type": "execute_result"
    }
   ],
   "execution_count": 84
  },
  {
   "metadata": {
    "ExecuteTime": {
     "end_time": "2024-12-08T16:08:19.977373Z",
     "start_time": "2024-12-08T16:08:19.902547Z"
    }
   },
   "cell_type": "code",
   "source": [
    "o.grad = 1.0\n",
    "o._backward()\n",
    "draw_dot(o)"
   ],
   "outputs": [
    {
     "data": {
      "image/svg+xml": "<?xml version=\"1.0\" encoding=\"UTF-8\" standalone=\"no\"?>\n<!DOCTYPE svg PUBLIC \"-//W3C//DTD SVG 1.1//EN\"\n \"http://www.w3.org/Graphics/SVG/1.1/DTD/svg11.dtd\">\n<!-- Generated by graphviz version 12.2.0 (20241103.1931)\n -->\n<!-- Pages: 1 -->\n<svg width=\"1546pt\" height=\"210pt\"\n viewBox=\"0.00 0.00 1545.50 210.00\" xmlns=\"http://www.w3.org/2000/svg\" xmlns:xlink=\"http://www.w3.org/1999/xlink\">\n<g id=\"graph0\" class=\"graph\" transform=\"scale(1 1) rotate(0) translate(4 206)\">\n<polygon fill=\"white\" stroke=\"none\" points=\"-4,4 -4,-206 1541.5,-206 1541.5,4 -4,4\"/>\n<!-- 5101320752 -->\n<g id=\"node1\" class=\"node\">\n<title>5101320752</title>\n<polygon fill=\"none\" stroke=\"black\" points=\"326.25,-55.5 326.25,-91.5 540,-91.5 540,-55.5 326.25,-55.5\"/>\n<text text-anchor=\"middle\" x=\"352.62\" y=\"-68.7\" font-family=\"Times,serif\" font-size=\"14.00\">x2*w2</text>\n<polyline fill=\"none\" stroke=\"black\" points=\"379,-56 379,-91.5\"/>\n<text text-anchor=\"middle\" x=\"418.88\" y=\"-68.7\" font-family=\"Times,serif\" font-size=\"14.00\">data 0.0000</text>\n<polyline fill=\"none\" stroke=\"black\" points=\"458.75,-56 458.75,-91.5\"/>\n<text text-anchor=\"middle\" x=\"499.38\" y=\"-68.7\" font-family=\"Times,serif\" font-size=\"14.00\">grad 0.0000</text>\n</g>\n<!-- 5101311536+ -->\n<g id=\"node4\" class=\"node\">\n<title>5101311536+</title>\n<ellipse fill=\"none\" stroke=\"black\" cx=\"605.25\" cy=\"-100.5\" rx=\"27\" ry=\"18\"/>\n<text text-anchor=\"middle\" x=\"605.25\" y=\"-95.45\" font-family=\"Times,serif\" font-size=\"14.00\">+</text>\n</g>\n<!-- 5101320752&#45;&gt;5101311536+ -->\n<g id=\"edge13\" class=\"edge\">\n<title>5101320752&#45;&gt;5101311536+</title>\n<path fill=\"none\" stroke=\"black\" d=\"M540.42,-90.37C549.89,-91.87 559,-93.32 567.21,-94.62\"/>\n<polygon fill=\"black\" stroke=\"black\" points=\"566.63,-98.07 577.05,-96.18 567.72,-91.16 566.63,-98.07\"/>\n</g>\n<!-- 5101320752* -->\n<g id=\"node2\" class=\"node\">\n<title>5101320752*</title>\n<ellipse fill=\"none\" stroke=\"black\" cx=\"261\" cy=\"-73.5\" rx=\"27\" ry=\"18\"/>\n<text text-anchor=\"middle\" x=\"261\" y=\"-68.45\" font-family=\"Times,serif\" font-size=\"14.00\">*</text>\n</g>\n<!-- 5101320752*&#45;&gt;5101320752 -->\n<g id=\"edge1\" class=\"edge\">\n<title>5101320752*&#45;&gt;5101320752</title>\n<path fill=\"none\" stroke=\"black\" d=\"M288.21,-73.5C296,-73.5 305.08,-73.5 314.82,-73.5\"/>\n<polygon fill=\"black\" stroke=\"black\" points=\"314.55,-77 324.55,-73.5 314.55,-70 314.55,-77\"/>\n</g>\n<!-- 5101311536 -->\n<g id=\"node3\" class=\"node\">\n<title>5101311536</title>\n<polygon fill=\"none\" stroke=\"black\" points=\"668.25,-82.5 668.25,-118.5 918,-118.5 918,-82.5 668.25,-82.5\"/>\n<text text-anchor=\"middle\" x=\"710.38\" y=\"-95.7\" font-family=\"Times,serif\" font-size=\"14.00\">x1w1+x2w2</text>\n<polyline fill=\"none\" stroke=\"black\" points=\"752.5,-83 752.5,-118.5\"/>\n<text text-anchor=\"middle\" x=\"794.62\" y=\"-95.7\" font-family=\"Times,serif\" font-size=\"14.00\">data &#45;6.0000</text>\n<polyline fill=\"none\" stroke=\"black\" points=\"836.75,-83 836.75,-118.5\"/>\n<text text-anchor=\"middle\" x=\"877.38\" y=\"-95.7\" font-family=\"Times,serif\" font-size=\"14.00\">grad 0.0000</text>\n</g>\n<!-- 5101317200+ -->\n<g id=\"node6\" class=\"node\">\n<title>5101317200+</title>\n<ellipse fill=\"none\" stroke=\"black\" cx=\"981\" cy=\"-127.5\" rx=\"27\" ry=\"18\"/>\n<text text-anchor=\"middle\" x=\"981\" y=\"-122.45\" font-family=\"Times,serif\" font-size=\"14.00\">+</text>\n</g>\n<!-- 5101311536&#45;&gt;5101317200+ -->\n<g id=\"edge12\" class=\"edge\">\n<title>5101311536&#45;&gt;5101317200+</title>\n<path fill=\"none\" stroke=\"black\" d=\"M918.36,-118.55C927.16,-119.82 935.54,-121.04 943.11,-122.14\"/>\n<polygon fill=\"black\" stroke=\"black\" points=\"942.42,-125.58 952.82,-123.55 943.43,-118.65 942.42,-125.58\"/>\n</g>\n<!-- 5101311536+&#45;&gt;5101311536 -->\n<g id=\"edge2\" class=\"edge\">\n<title>5101311536+&#45;&gt;5101311536</title>\n<path fill=\"none\" stroke=\"black\" d=\"M632.49,-100.5C639.52,-100.5 647.64,-100.5 656.4,-100.5\"/>\n<polygon fill=\"black\" stroke=\"black\" points=\"656.3,-104 666.3,-100.5 656.3,-97 656.3,-104\"/>\n</g>\n<!-- 5101317200 -->\n<g id=\"node5\" class=\"node\">\n<title>5101317200</title>\n<polygon fill=\"none\" stroke=\"black\" points=\"1044,-109.5 1044,-145.5 1227.75,-145.5 1227.75,-109.5 1044,-109.5\"/>\n<text text-anchor=\"middle\" x=\"1055.38\" y=\"-122.7\" font-family=\"Times,serif\" font-size=\"14.00\">n</text>\n<polyline fill=\"none\" stroke=\"black\" points=\"1066.75,-110 1066.75,-145.5\"/>\n<text text-anchor=\"middle\" x=\"1106.62\" y=\"-122.7\" font-family=\"Times,serif\" font-size=\"14.00\">data 0.8814</text>\n<polyline fill=\"none\" stroke=\"black\" points=\"1146.5,-110 1146.5,-145.5\"/>\n<text text-anchor=\"middle\" x=\"1187.12\" y=\"-122.7\" font-family=\"Times,serif\" font-size=\"14.00\">grad 0.5000</text>\n</g>\n<!-- 5101319936tanh -->\n<g id=\"node11\" class=\"node\">\n<title>5101319936tanh</title>\n<ellipse fill=\"none\" stroke=\"black\" cx=\"1290.75\" cy=\"-127.5\" rx=\"27\" ry=\"18\"/>\n<text text-anchor=\"middle\" x=\"1290.75\" y=\"-122.45\" font-family=\"Times,serif\" font-size=\"14.00\">tanh</text>\n</g>\n<!-- 5101317200&#45;&gt;5101319936tanh -->\n<g id=\"edge11\" class=\"edge\">\n<title>5101317200&#45;&gt;5101319936tanh</title>\n<path fill=\"none\" stroke=\"black\" d=\"M1228.01,-127.5C1236.39,-127.5 1244.52,-127.5 1251.98,-127.5\"/>\n<polygon fill=\"black\" stroke=\"black\" points=\"1251.95,-131 1261.95,-127.5 1251.95,-124 1251.95,-131\"/>\n</g>\n<!-- 5101317200+&#45;&gt;5101317200 -->\n<g id=\"edge3\" class=\"edge\">\n<title>5101317200+&#45;&gt;5101317200</title>\n<path fill=\"none\" stroke=\"black\" d=\"M1008.28,-127.5C1015.42,-127.5 1023.61,-127.5 1032.32,-127.5\"/>\n<polygon fill=\"black\" stroke=\"black\" points=\"1032.06,-131 1042.06,-127.5 1032.06,-124 1032.06,-131\"/>\n</g>\n<!-- 5101305968 -->\n<g id=\"node7\" class=\"node\">\n<title>5101305968</title>\n<polygon fill=\"none\" stroke=\"black\" points=\"324,-110.5 324,-146.5 542.25,-146.5 542.25,-110.5 324,-110.5\"/>\n<text text-anchor=\"middle\" x=\"350.38\" y=\"-123.7\" font-family=\"Times,serif\" font-size=\"14.00\">x1*w1</text>\n<polyline fill=\"none\" stroke=\"black\" points=\"376.75,-111 376.75,-146.5\"/>\n<text text-anchor=\"middle\" x=\"418.88\" y=\"-123.7\" font-family=\"Times,serif\" font-size=\"14.00\">data &#45;6.0000</text>\n<polyline fill=\"none\" stroke=\"black\" points=\"461,-111 461,-146.5\"/>\n<text text-anchor=\"middle\" x=\"501.62\" y=\"-123.7\" font-family=\"Times,serif\" font-size=\"14.00\">grad 0.0000</text>\n</g>\n<!-- 5101305968&#45;&gt;5101311536+ -->\n<g id=\"edge7\" class=\"edge\">\n<title>5101305968&#45;&gt;5101311536+</title>\n<path fill=\"none\" stroke=\"black\" d=\"M542.35,-110.69C551.12,-109.24 559.54,-107.86 567.19,-106.6\"/>\n<polygon fill=\"black\" stroke=\"black\" points=\"567.72,-110.06 577.02,-104.98 566.58,-103.15 567.72,-110.06\"/>\n</g>\n<!-- 5101305968* -->\n<g id=\"node8\" class=\"node\">\n<title>5101305968*</title>\n<ellipse fill=\"none\" stroke=\"black\" cx=\"261\" cy=\"-128.5\" rx=\"27\" ry=\"18\"/>\n<text text-anchor=\"middle\" x=\"261\" y=\"-123.45\" font-family=\"Times,serif\" font-size=\"14.00\">*</text>\n</g>\n<!-- 5101305968*&#45;&gt;5101305968 -->\n<g id=\"edge4\" class=\"edge\">\n<title>5101305968*&#45;&gt;5101305968</title>\n<path fill=\"none\" stroke=\"black\" d=\"M288.21,-128.5C295.29,-128.5 303.43,-128.5 312.17,-128.5\"/>\n<polygon fill=\"black\" stroke=\"black\" points=\"312.01,-132 322.01,-128.5 312.01,-125 312.01,-132\"/>\n</g>\n<!-- 5101317344 -->\n<g id=\"node9\" class=\"node\">\n<title>5101317344</title>\n<polygon fill=\"none\" stroke=\"black\" points=\"3.75,-165.5 3.75,-201.5 194.25,-201.5 194.25,-165.5 3.75,-165.5\"/>\n<text text-anchor=\"middle\" x=\"18.5\" y=\"-178.7\" font-family=\"Times,serif\" font-size=\"14.00\">x1</text>\n<polyline fill=\"none\" stroke=\"black\" points=\"33.25,-166 33.25,-201.5\"/>\n<text text-anchor=\"middle\" x=\"73.12\" y=\"-178.7\" font-family=\"Times,serif\" font-size=\"14.00\">data 2.0000</text>\n<polyline fill=\"none\" stroke=\"black\" points=\"113,-166 113,-201.5\"/>\n<text text-anchor=\"middle\" x=\"153.62\" y=\"-178.7\" font-family=\"Times,serif\" font-size=\"14.00\">grad 0.0000</text>\n</g>\n<!-- 5101317344&#45;&gt;5101305968* -->\n<g id=\"edge9\" class=\"edge\">\n<title>5101317344&#45;&gt;5101305968*</title>\n<path fill=\"none\" stroke=\"black\" d=\"M172.12,-165.01C180.9,-162.35 189.7,-159.5 198,-156.5 208.09,-152.86 218.82,-148.27 228.47,-143.88\"/>\n<polygon fill=\"black\" stroke=\"black\" points=\"229.86,-147.09 237.45,-139.69 226.9,-140.75 229.86,-147.09\"/>\n</g>\n<!-- 5101319936 -->\n<g id=\"node10\" class=\"node\">\n<title>5101319936</title>\n<polygon fill=\"none\" stroke=\"black\" points=\"1353.75,-109.5 1353.75,-145.5 1537.5,-145.5 1537.5,-109.5 1353.75,-109.5\"/>\n<text text-anchor=\"middle\" x=\"1365.12\" y=\"-122.7\" font-family=\"Times,serif\" font-size=\"14.00\">o</text>\n<polyline fill=\"none\" stroke=\"black\" points=\"1376.5,-110 1376.5,-145.5\"/>\n<text text-anchor=\"middle\" x=\"1416.38\" y=\"-122.7\" font-family=\"Times,serif\" font-size=\"14.00\">data 0.7071</text>\n<polyline fill=\"none\" stroke=\"black\" points=\"1456.25,-110 1456.25,-145.5\"/>\n<text text-anchor=\"middle\" x=\"1496.88\" y=\"-122.7\" font-family=\"Times,serif\" font-size=\"14.00\">grad 1.0000</text>\n</g>\n<!-- 5101319936tanh&#45;&gt;5101319936 -->\n<g id=\"edge5\" class=\"edge\">\n<title>5101319936tanh&#45;&gt;5101319936</title>\n<path fill=\"none\" stroke=\"black\" d=\"M1318.03,-127.5C1325.17,-127.5 1333.36,-127.5 1342.07,-127.5\"/>\n<polygon fill=\"black\" stroke=\"black\" points=\"1341.81,-131 1351.81,-127.5 1341.81,-124 1341.81,-131\"/>\n</g>\n<!-- 5101317968 -->\n<g id=\"node12\" class=\"node\">\n<title>5101317968</title>\n<polygon fill=\"none\" stroke=\"black\" points=\"2.25,-55.5 2.25,-91.5 195.75,-91.5 195.75,-55.5 2.25,-55.5\"/>\n<text text-anchor=\"middle\" x=\"18.5\" y=\"-68.7\" font-family=\"Times,serif\" font-size=\"14.00\">w2</text>\n<polyline fill=\"none\" stroke=\"black\" points=\"34.75,-56 34.75,-91.5\"/>\n<text text-anchor=\"middle\" x=\"74.62\" y=\"-68.7\" font-family=\"Times,serif\" font-size=\"14.00\">data 1.0000</text>\n<polyline fill=\"none\" stroke=\"black\" points=\"114.5,-56 114.5,-91.5\"/>\n<text text-anchor=\"middle\" x=\"155.12\" y=\"-68.7\" font-family=\"Times,serif\" font-size=\"14.00\">grad 0.0000</text>\n</g>\n<!-- 5101317968&#45;&gt;5101320752* -->\n<g id=\"edge14\" class=\"edge\">\n<title>5101317968&#45;&gt;5101320752*</title>\n<path fill=\"none\" stroke=\"black\" d=\"M195.84,-73.5C205.14,-73.5 214.15,-73.5 222.32,-73.5\"/>\n<polygon fill=\"black\" stroke=\"black\" points=\"222.13,-77 232.13,-73.5 222.13,-70 222.13,-77\"/>\n</g>\n<!-- 5101321040 -->\n<g id=\"node13\" class=\"node\">\n<title>5101321040</title>\n<polygon fill=\"none\" stroke=\"black\" points=\"701.25,-137.5 701.25,-173.5 885,-173.5 885,-137.5 701.25,-137.5\"/>\n<text text-anchor=\"middle\" x=\"712.62\" y=\"-150.7\" font-family=\"Times,serif\" font-size=\"14.00\">b</text>\n<polyline fill=\"none\" stroke=\"black\" points=\"724,-138 724,-173.5\"/>\n<text text-anchor=\"middle\" x=\"763.88\" y=\"-150.7\" font-family=\"Times,serif\" font-size=\"14.00\">data 6.8814</text>\n<polyline fill=\"none\" stroke=\"black\" points=\"803.75,-138 803.75,-173.5\"/>\n<text text-anchor=\"middle\" x=\"844.38\" y=\"-150.7\" font-family=\"Times,serif\" font-size=\"14.00\">grad 0.0000</text>\n</g>\n<!-- 5101321040&#45;&gt;5101317200+ -->\n<g id=\"edge6\" class=\"edge\">\n<title>5101321040&#45;&gt;5101317200+</title>\n<path fill=\"none\" stroke=\"black\" d=\"M885.43,-141.75C906.02,-138.64 926.71,-135.53 943.47,-133\"/>\n<polygon fill=\"black\" stroke=\"black\" points=\"943.53,-136.53 952.9,-131.58 942.49,-129.61 943.53,-136.53\"/>\n</g>\n<!-- 5101317488 -->\n<g id=\"node14\" class=\"node\">\n<title>5101317488</title>\n<polygon fill=\"none\" stroke=\"black\" points=\"0,-110.5 0,-146.5 198,-146.5 198,-110.5 0,-110.5\"/>\n<text text-anchor=\"middle\" x=\"16.25\" y=\"-123.7\" font-family=\"Times,serif\" font-size=\"14.00\">w1</text>\n<polyline fill=\"none\" stroke=\"black\" points=\"32.5,-111 32.5,-146.5\"/>\n<text text-anchor=\"middle\" x=\"74.62\" y=\"-123.7\" font-family=\"Times,serif\" font-size=\"14.00\">data &#45;3.0000</text>\n<polyline fill=\"none\" stroke=\"black\" points=\"116.75,-111 116.75,-146.5\"/>\n<text text-anchor=\"middle\" x=\"157.38\" y=\"-123.7\" font-family=\"Times,serif\" font-size=\"14.00\">grad 0.0000</text>\n</g>\n<!-- 5101317488&#45;&gt;5101305968* -->\n<g id=\"edge8\" class=\"edge\">\n<title>5101317488&#45;&gt;5101305968*</title>\n<path fill=\"none\" stroke=\"black\" d=\"M198.14,-128.5C206.61,-128.5 214.8,-128.5 222.29,-128.5\"/>\n<polygon fill=\"black\" stroke=\"black\" points=\"222.29,-132 232.29,-128.5 222.29,-125 222.29,-132\"/>\n</g>\n<!-- 5101320608 -->\n<g id=\"node15\" class=\"node\">\n<title>5101320608</title>\n<polygon fill=\"none\" stroke=\"black\" points=\"3.75,-0.5 3.75,-36.5 194.25,-36.5 194.25,-0.5 3.75,-0.5\"/>\n<text text-anchor=\"middle\" x=\"18.5\" y=\"-13.7\" font-family=\"Times,serif\" font-size=\"14.00\">x2</text>\n<polyline fill=\"none\" stroke=\"black\" points=\"33.25,-1 33.25,-36.5\"/>\n<text text-anchor=\"middle\" x=\"73.12\" y=\"-13.7\" font-family=\"Times,serif\" font-size=\"14.00\">data 0.0000</text>\n<polyline fill=\"none\" stroke=\"black\" points=\"113,-1 113,-36.5\"/>\n<text text-anchor=\"middle\" x=\"153.62\" y=\"-13.7\" font-family=\"Times,serif\" font-size=\"14.00\">grad 0.0000</text>\n</g>\n<!-- 5101320608&#45;&gt;5101320752* -->\n<g id=\"edge10\" class=\"edge\">\n<title>5101320608&#45;&gt;5101320752*</title>\n<path fill=\"none\" stroke=\"black\" d=\"M168.91,-36.94C178.74,-39.93 188.67,-43.15 198,-46.5 207.96,-50.07 218.58,-54.47 228.18,-58.68\"/>\n<polygon fill=\"black\" stroke=\"black\" points=\"226.54,-61.78 237.1,-62.67 229.4,-55.39 226.54,-61.78\"/>\n</g>\n</g>\n</svg>\n",
      "text/plain": [
       "<graphviz.graphs.Digraph at 0x1301014b0>"
      ]
     },
     "execution_count": 85,
     "metadata": {},
     "output_type": "execute_result"
    }
   ],
   "execution_count": 85
  },
  {
   "metadata": {
    "ExecuteTime": {
     "end_time": "2024-12-08T16:49:25.813713Z",
     "start_time": "2024-12-08T16:49:25.675323Z"
    }
   },
   "cell_type": "code",
   "source": [
    "n._backward()\n",
    "b._backward()\n",
    "x1w1x2w2._backward()\n",
    "x1w1._backward()\n",
    "x2w2._backward()\n",
    "x1._backward()\n",
    "w1._backward()\n",
    "x2._backward()\n",
    "w2._backward()\n",
    "draw_dot(o)"
   ],
   "outputs": [
    {
     "data": {
      "image/svg+xml": "<?xml version=\"1.0\" encoding=\"UTF-8\" standalone=\"no\"?>\n<!DOCTYPE svg PUBLIC \"-//W3C//DTD SVG 1.1//EN\"\n \"http://www.w3.org/Graphics/SVG/1.1/DTD/svg11.dtd\">\n<!-- Generated by graphviz version 12.2.0 (20241103.1931)\n -->\n<!-- Pages: 1 -->\n<svg width=\"1546pt\" height=\"210pt\"\n viewBox=\"0.00 0.00 1545.50 210.00\" xmlns=\"http://www.w3.org/2000/svg\" xmlns:xlink=\"http://www.w3.org/1999/xlink\">\n<g id=\"graph0\" class=\"graph\" transform=\"scale(1 1) rotate(0) translate(4 206)\">\n<polygon fill=\"white\" stroke=\"none\" points=\"-4,4 -4,-206 1541.5,-206 1541.5,4 -4,4\"/>\n<!-- 5101320752 -->\n<g id=\"node1\" class=\"node\">\n<title>5101320752</title>\n<polygon fill=\"none\" stroke=\"black\" points=\"326.25,-55.5 326.25,-91.5 540,-91.5 540,-55.5 326.25,-55.5\"/>\n<text text-anchor=\"middle\" x=\"352.62\" y=\"-68.7\" font-family=\"Times,serif\" font-size=\"14.00\">x2*w2</text>\n<polyline fill=\"none\" stroke=\"black\" points=\"379,-56 379,-91.5\"/>\n<text text-anchor=\"middle\" x=\"418.88\" y=\"-68.7\" font-family=\"Times,serif\" font-size=\"14.00\">data 0.0000</text>\n<polyline fill=\"none\" stroke=\"black\" points=\"458.75,-56 458.75,-91.5\"/>\n<text text-anchor=\"middle\" x=\"499.38\" y=\"-68.7\" font-family=\"Times,serif\" font-size=\"14.00\">grad 0.5000</text>\n</g>\n<!-- 5101311536+ -->\n<g id=\"node4\" class=\"node\">\n<title>5101311536+</title>\n<ellipse fill=\"none\" stroke=\"black\" cx=\"605.25\" cy=\"-100.5\" rx=\"27\" ry=\"18\"/>\n<text text-anchor=\"middle\" x=\"605.25\" y=\"-95.45\" font-family=\"Times,serif\" font-size=\"14.00\">+</text>\n</g>\n<!-- 5101320752&#45;&gt;5101311536+ -->\n<g id=\"edge13\" class=\"edge\">\n<title>5101320752&#45;&gt;5101311536+</title>\n<path fill=\"none\" stroke=\"black\" d=\"M540.42,-90.37C549.89,-91.87 559,-93.32 567.21,-94.62\"/>\n<polygon fill=\"black\" stroke=\"black\" points=\"566.63,-98.07 577.05,-96.18 567.72,-91.16 566.63,-98.07\"/>\n</g>\n<!-- 5101320752* -->\n<g id=\"node2\" class=\"node\">\n<title>5101320752*</title>\n<ellipse fill=\"none\" stroke=\"black\" cx=\"261\" cy=\"-73.5\" rx=\"27\" ry=\"18\"/>\n<text text-anchor=\"middle\" x=\"261\" y=\"-68.45\" font-family=\"Times,serif\" font-size=\"14.00\">*</text>\n</g>\n<!-- 5101320752*&#45;&gt;5101320752 -->\n<g id=\"edge1\" class=\"edge\">\n<title>5101320752*&#45;&gt;5101320752</title>\n<path fill=\"none\" stroke=\"black\" d=\"M288.21,-73.5C296,-73.5 305.08,-73.5 314.82,-73.5\"/>\n<polygon fill=\"black\" stroke=\"black\" points=\"314.55,-77 324.55,-73.5 314.55,-70 314.55,-77\"/>\n</g>\n<!-- 5101311536 -->\n<g id=\"node3\" class=\"node\">\n<title>5101311536</title>\n<polygon fill=\"none\" stroke=\"black\" points=\"668.25,-82.5 668.25,-118.5 918,-118.5 918,-82.5 668.25,-82.5\"/>\n<text text-anchor=\"middle\" x=\"710.38\" y=\"-95.7\" font-family=\"Times,serif\" font-size=\"14.00\">x1w1+x2w2</text>\n<polyline fill=\"none\" stroke=\"black\" points=\"752.5,-83 752.5,-118.5\"/>\n<text text-anchor=\"middle\" x=\"794.62\" y=\"-95.7\" font-family=\"Times,serif\" font-size=\"14.00\">data &#45;6.0000</text>\n<polyline fill=\"none\" stroke=\"black\" points=\"836.75,-83 836.75,-118.5\"/>\n<text text-anchor=\"middle\" x=\"877.38\" y=\"-95.7\" font-family=\"Times,serif\" font-size=\"14.00\">grad 0.5000</text>\n</g>\n<!-- 5101317200+ -->\n<g id=\"node6\" class=\"node\">\n<title>5101317200+</title>\n<ellipse fill=\"none\" stroke=\"black\" cx=\"981\" cy=\"-127.5\" rx=\"27\" ry=\"18\"/>\n<text text-anchor=\"middle\" x=\"981\" y=\"-122.45\" font-family=\"Times,serif\" font-size=\"14.00\">+</text>\n</g>\n<!-- 5101311536&#45;&gt;5101317200+ -->\n<g id=\"edge12\" class=\"edge\">\n<title>5101311536&#45;&gt;5101317200+</title>\n<path fill=\"none\" stroke=\"black\" d=\"M918.36,-118.55C927.16,-119.82 935.54,-121.04 943.11,-122.14\"/>\n<polygon fill=\"black\" stroke=\"black\" points=\"942.42,-125.58 952.82,-123.55 943.43,-118.65 942.42,-125.58\"/>\n</g>\n<!-- 5101311536+&#45;&gt;5101311536 -->\n<g id=\"edge2\" class=\"edge\">\n<title>5101311536+&#45;&gt;5101311536</title>\n<path fill=\"none\" stroke=\"black\" d=\"M632.49,-100.5C639.52,-100.5 647.64,-100.5 656.4,-100.5\"/>\n<polygon fill=\"black\" stroke=\"black\" points=\"656.3,-104 666.3,-100.5 656.3,-97 656.3,-104\"/>\n</g>\n<!-- 5101317200 -->\n<g id=\"node5\" class=\"node\">\n<title>5101317200</title>\n<polygon fill=\"none\" stroke=\"black\" points=\"1044,-109.5 1044,-145.5 1227.75,-145.5 1227.75,-109.5 1044,-109.5\"/>\n<text text-anchor=\"middle\" x=\"1055.38\" y=\"-122.7\" font-family=\"Times,serif\" font-size=\"14.00\">n</text>\n<polyline fill=\"none\" stroke=\"black\" points=\"1066.75,-110 1066.75,-145.5\"/>\n<text text-anchor=\"middle\" x=\"1106.62\" y=\"-122.7\" font-family=\"Times,serif\" font-size=\"14.00\">data 0.8814</text>\n<polyline fill=\"none\" stroke=\"black\" points=\"1146.5,-110 1146.5,-145.5\"/>\n<text text-anchor=\"middle\" x=\"1187.12\" y=\"-122.7\" font-family=\"Times,serif\" font-size=\"14.00\">grad 0.5000</text>\n</g>\n<!-- 5101319936tanh -->\n<g id=\"node11\" class=\"node\">\n<title>5101319936tanh</title>\n<ellipse fill=\"none\" stroke=\"black\" cx=\"1290.75\" cy=\"-127.5\" rx=\"27\" ry=\"18\"/>\n<text text-anchor=\"middle\" x=\"1290.75\" y=\"-122.45\" font-family=\"Times,serif\" font-size=\"14.00\">tanh</text>\n</g>\n<!-- 5101317200&#45;&gt;5101319936tanh -->\n<g id=\"edge11\" class=\"edge\">\n<title>5101317200&#45;&gt;5101319936tanh</title>\n<path fill=\"none\" stroke=\"black\" d=\"M1228.01,-127.5C1236.39,-127.5 1244.52,-127.5 1251.98,-127.5\"/>\n<polygon fill=\"black\" stroke=\"black\" points=\"1251.95,-131 1261.95,-127.5 1251.95,-124 1251.95,-131\"/>\n</g>\n<!-- 5101317200+&#45;&gt;5101317200 -->\n<g id=\"edge3\" class=\"edge\">\n<title>5101317200+&#45;&gt;5101317200</title>\n<path fill=\"none\" stroke=\"black\" d=\"M1008.28,-127.5C1015.42,-127.5 1023.61,-127.5 1032.32,-127.5\"/>\n<polygon fill=\"black\" stroke=\"black\" points=\"1032.06,-131 1042.06,-127.5 1032.06,-124 1032.06,-131\"/>\n</g>\n<!-- 5101305968 -->\n<g id=\"node7\" class=\"node\">\n<title>5101305968</title>\n<polygon fill=\"none\" stroke=\"black\" points=\"324,-110.5 324,-146.5 542.25,-146.5 542.25,-110.5 324,-110.5\"/>\n<text text-anchor=\"middle\" x=\"350.38\" y=\"-123.7\" font-family=\"Times,serif\" font-size=\"14.00\">x1*w1</text>\n<polyline fill=\"none\" stroke=\"black\" points=\"376.75,-111 376.75,-146.5\"/>\n<text text-anchor=\"middle\" x=\"418.88\" y=\"-123.7\" font-family=\"Times,serif\" font-size=\"14.00\">data &#45;6.0000</text>\n<polyline fill=\"none\" stroke=\"black\" points=\"461,-111 461,-146.5\"/>\n<text text-anchor=\"middle\" x=\"501.62\" y=\"-123.7\" font-family=\"Times,serif\" font-size=\"14.00\">grad 0.5000</text>\n</g>\n<!-- 5101305968&#45;&gt;5101311536+ -->\n<g id=\"edge7\" class=\"edge\">\n<title>5101305968&#45;&gt;5101311536+</title>\n<path fill=\"none\" stroke=\"black\" d=\"M542.35,-110.69C551.12,-109.24 559.54,-107.86 567.19,-106.6\"/>\n<polygon fill=\"black\" stroke=\"black\" points=\"567.72,-110.06 577.02,-104.98 566.58,-103.15 567.72,-110.06\"/>\n</g>\n<!-- 5101305968* -->\n<g id=\"node8\" class=\"node\">\n<title>5101305968*</title>\n<ellipse fill=\"none\" stroke=\"black\" cx=\"261\" cy=\"-128.5\" rx=\"27\" ry=\"18\"/>\n<text text-anchor=\"middle\" x=\"261\" y=\"-123.45\" font-family=\"Times,serif\" font-size=\"14.00\">*</text>\n</g>\n<!-- 5101305968*&#45;&gt;5101305968 -->\n<g id=\"edge4\" class=\"edge\">\n<title>5101305968*&#45;&gt;5101305968</title>\n<path fill=\"none\" stroke=\"black\" d=\"M288.21,-128.5C295.29,-128.5 303.43,-128.5 312.17,-128.5\"/>\n<polygon fill=\"black\" stroke=\"black\" points=\"312.01,-132 322.01,-128.5 312.01,-125 312.01,-132\"/>\n</g>\n<!-- 5101317344 -->\n<g id=\"node9\" class=\"node\">\n<title>5101317344</title>\n<polygon fill=\"none\" stroke=\"black\" points=\"1.5,-165.5 1.5,-201.5 196.5,-201.5 196.5,-165.5 1.5,-165.5\"/>\n<text text-anchor=\"middle\" x=\"16.25\" y=\"-178.7\" font-family=\"Times,serif\" font-size=\"14.00\">x1</text>\n<polyline fill=\"none\" stroke=\"black\" points=\"31,-166 31,-201.5\"/>\n<text text-anchor=\"middle\" x=\"70.88\" y=\"-178.7\" font-family=\"Times,serif\" font-size=\"14.00\">data 2.0000</text>\n<polyline fill=\"none\" stroke=\"black\" points=\"110.75,-166 110.75,-201.5\"/>\n<text text-anchor=\"middle\" x=\"153.62\" y=\"-178.7\" font-family=\"Times,serif\" font-size=\"14.00\">grad &#45;1.5000</text>\n</g>\n<!-- 5101317344&#45;&gt;5101305968* -->\n<g id=\"edge9\" class=\"edge\">\n<title>5101317344&#45;&gt;5101305968*</title>\n<path fill=\"none\" stroke=\"black\" d=\"M172.12,-165.01C180.9,-162.35 189.7,-159.5 198,-156.5 208.09,-152.86 218.82,-148.27 228.47,-143.88\"/>\n<polygon fill=\"black\" stroke=\"black\" points=\"229.86,-147.09 237.45,-139.69 226.9,-140.75 229.86,-147.09\"/>\n</g>\n<!-- 5101319936 -->\n<g id=\"node10\" class=\"node\">\n<title>5101319936</title>\n<polygon fill=\"none\" stroke=\"black\" points=\"1353.75,-109.5 1353.75,-145.5 1537.5,-145.5 1537.5,-109.5 1353.75,-109.5\"/>\n<text text-anchor=\"middle\" x=\"1365.12\" y=\"-122.7\" font-family=\"Times,serif\" font-size=\"14.00\">o</text>\n<polyline fill=\"none\" stroke=\"black\" points=\"1376.5,-110 1376.5,-145.5\"/>\n<text text-anchor=\"middle\" x=\"1416.38\" y=\"-122.7\" font-family=\"Times,serif\" font-size=\"14.00\">data 0.7071</text>\n<polyline fill=\"none\" stroke=\"black\" points=\"1456.25,-110 1456.25,-145.5\"/>\n<text text-anchor=\"middle\" x=\"1496.88\" y=\"-122.7\" font-family=\"Times,serif\" font-size=\"14.00\">grad 1.0000</text>\n</g>\n<!-- 5101319936tanh&#45;&gt;5101319936 -->\n<g id=\"edge5\" class=\"edge\">\n<title>5101319936tanh&#45;&gt;5101319936</title>\n<path fill=\"none\" stroke=\"black\" d=\"M1318.03,-127.5C1325.17,-127.5 1333.36,-127.5 1342.07,-127.5\"/>\n<polygon fill=\"black\" stroke=\"black\" points=\"1341.81,-131 1351.81,-127.5 1341.81,-124 1341.81,-131\"/>\n</g>\n<!-- 5101317968 -->\n<g id=\"node12\" class=\"node\">\n<title>5101317968</title>\n<polygon fill=\"none\" stroke=\"black\" points=\"2.25,-55.5 2.25,-91.5 195.75,-91.5 195.75,-55.5 2.25,-55.5\"/>\n<text text-anchor=\"middle\" x=\"18.5\" y=\"-68.7\" font-family=\"Times,serif\" font-size=\"14.00\">w2</text>\n<polyline fill=\"none\" stroke=\"black\" points=\"34.75,-56 34.75,-91.5\"/>\n<text text-anchor=\"middle\" x=\"74.62\" y=\"-68.7\" font-family=\"Times,serif\" font-size=\"14.00\">data 1.0000</text>\n<polyline fill=\"none\" stroke=\"black\" points=\"114.5,-56 114.5,-91.5\"/>\n<text text-anchor=\"middle\" x=\"155.12\" y=\"-68.7\" font-family=\"Times,serif\" font-size=\"14.00\">grad 0.0000</text>\n</g>\n<!-- 5101317968&#45;&gt;5101320752* -->\n<g id=\"edge14\" class=\"edge\">\n<title>5101317968&#45;&gt;5101320752*</title>\n<path fill=\"none\" stroke=\"black\" d=\"M195.84,-73.5C205.14,-73.5 214.15,-73.5 222.32,-73.5\"/>\n<polygon fill=\"black\" stroke=\"black\" points=\"222.13,-77 232.13,-73.5 222.13,-70 222.13,-77\"/>\n</g>\n<!-- 5101321040 -->\n<g id=\"node13\" class=\"node\">\n<title>5101321040</title>\n<polygon fill=\"none\" stroke=\"black\" points=\"701.25,-137.5 701.25,-173.5 885,-173.5 885,-137.5 701.25,-137.5\"/>\n<text text-anchor=\"middle\" x=\"712.62\" y=\"-150.7\" font-family=\"Times,serif\" font-size=\"14.00\">b</text>\n<polyline fill=\"none\" stroke=\"black\" points=\"724,-138 724,-173.5\"/>\n<text text-anchor=\"middle\" x=\"763.88\" y=\"-150.7\" font-family=\"Times,serif\" font-size=\"14.00\">data 6.8814</text>\n<polyline fill=\"none\" stroke=\"black\" points=\"803.75,-138 803.75,-173.5\"/>\n<text text-anchor=\"middle\" x=\"844.38\" y=\"-150.7\" font-family=\"Times,serif\" font-size=\"14.00\">grad 0.5000</text>\n</g>\n<!-- 5101321040&#45;&gt;5101317200+ -->\n<g id=\"edge6\" class=\"edge\">\n<title>5101321040&#45;&gt;5101317200+</title>\n<path fill=\"none\" stroke=\"black\" d=\"M885.43,-141.75C906.02,-138.64 926.71,-135.53 943.47,-133\"/>\n<polygon fill=\"black\" stroke=\"black\" points=\"943.53,-136.53 952.9,-131.58 942.49,-129.61 943.53,-136.53\"/>\n</g>\n<!-- 5101317488 -->\n<g id=\"node14\" class=\"node\">\n<title>5101317488</title>\n<polygon fill=\"none\" stroke=\"black\" points=\"0,-110.5 0,-146.5 198,-146.5 198,-110.5 0,-110.5\"/>\n<text text-anchor=\"middle\" x=\"16.25\" y=\"-123.7\" font-family=\"Times,serif\" font-size=\"14.00\">w1</text>\n<polyline fill=\"none\" stroke=\"black\" points=\"32.5,-111 32.5,-146.5\"/>\n<text text-anchor=\"middle\" x=\"74.62\" y=\"-123.7\" font-family=\"Times,serif\" font-size=\"14.00\">data &#45;3.0000</text>\n<polyline fill=\"none\" stroke=\"black\" points=\"116.75,-111 116.75,-146.5\"/>\n<text text-anchor=\"middle\" x=\"157.38\" y=\"-123.7\" font-family=\"Times,serif\" font-size=\"14.00\">grad 1.0000</text>\n</g>\n<!-- 5101317488&#45;&gt;5101305968* -->\n<g id=\"edge8\" class=\"edge\">\n<title>5101317488&#45;&gt;5101305968*</title>\n<path fill=\"none\" stroke=\"black\" d=\"M198.14,-128.5C206.61,-128.5 214.8,-128.5 222.29,-128.5\"/>\n<polygon fill=\"black\" stroke=\"black\" points=\"222.29,-132 232.29,-128.5 222.29,-125 222.29,-132\"/>\n</g>\n<!-- 5101320608 -->\n<g id=\"node15\" class=\"node\">\n<title>5101320608</title>\n<polygon fill=\"none\" stroke=\"black\" points=\"3.75,-0.5 3.75,-36.5 194.25,-36.5 194.25,-0.5 3.75,-0.5\"/>\n<text text-anchor=\"middle\" x=\"18.5\" y=\"-13.7\" font-family=\"Times,serif\" font-size=\"14.00\">x2</text>\n<polyline fill=\"none\" stroke=\"black\" points=\"33.25,-1 33.25,-36.5\"/>\n<text text-anchor=\"middle\" x=\"73.12\" y=\"-13.7\" font-family=\"Times,serif\" font-size=\"14.00\">data 0.0000</text>\n<polyline fill=\"none\" stroke=\"black\" points=\"113,-1 113,-36.5\"/>\n<text text-anchor=\"middle\" x=\"153.62\" y=\"-13.7\" font-family=\"Times,serif\" font-size=\"14.00\">grad 0.5000</text>\n</g>\n<!-- 5101320608&#45;&gt;5101320752* -->\n<g id=\"edge10\" class=\"edge\">\n<title>5101320608&#45;&gt;5101320752*</title>\n<path fill=\"none\" stroke=\"black\" d=\"M168.91,-36.94C178.74,-39.93 188.67,-43.15 198,-46.5 207.96,-50.07 218.58,-54.47 228.18,-58.68\"/>\n<polygon fill=\"black\" stroke=\"black\" points=\"226.54,-61.78 237.1,-62.67 229.4,-55.39 226.54,-61.78\"/>\n</g>\n</g>\n</svg>\n",
      "text/plain": [
       "<graphviz.graphs.Digraph at 0x1300ffd90>"
      ]
     },
     "execution_count": 86,
     "metadata": {},
     "output_type": "execute_result"
    }
   ],
   "execution_count": 86
  },
  {
   "metadata": {},
   "cell_type": "code",
   "outputs": [],
   "execution_count": null,
   "source": ""
  }
 ],
 "metadata": {
  "kernelspec": {
   "display_name": "Python 3.10 (tensorflow)",
   "language": "python",
   "name": "tf"
  }
 },
 "nbformat": 4,
 "nbformat_minor": 2
}
