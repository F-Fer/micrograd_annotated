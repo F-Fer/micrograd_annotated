{
 "cells": [
  {
   "cell_type": "code",
   "metadata": {
    "ExecuteTime": {
     "end_time": "2024-12-11T12:09:26.165946Z",
     "start_time": "2024-12-11T12:09:26.158308Z"
    }
   },
   "source": [
    "import math\n",
    "import numpy as np\n",
    "import matplotlib.pyplot as plt\n",
    "%matplotlib inline"
   ],
   "outputs": [],
   "execution_count": 398
  },
  {
   "cell_type": "markdown",
   "metadata": {},
   "source": [
    "# Intuition behind Derivatives"
   ]
  },
  {
   "cell_type": "code",
   "metadata": {
    "ExecuteTime": {
     "end_time": "2024-12-11T12:09:26.214320Z",
     "start_time": "2024-12-11T12:09:26.211938Z"
    }
   },
   "source": [
    "def f(x):\n",
    "    return 3*x**2 - 4*x + 5"
   ],
   "outputs": [],
   "execution_count": 399
  },
  {
   "cell_type": "code",
   "metadata": {
    "ExecuteTime": {
     "end_time": "2024-12-11T12:09:26.220570Z",
     "start_time": "2024-12-11T12:09:26.217809Z"
    }
   },
   "source": [
    "f(3.0)\n"
   ],
   "outputs": [
    {
     "data": {
      "text/plain": [
       "20.0"
      ]
     },
     "execution_count": 400,
     "metadata": {},
     "output_type": "execute_result"
    }
   ],
   "execution_count": 400
  },
  {
   "cell_type": "code",
   "metadata": {
    "ExecuteTime": {
     "end_time": "2024-12-11T12:09:26.287758Z",
     "start_time": "2024-12-11T12:09:26.235350Z"
    }
   },
   "source": [
    "xs = np.arange(-5, 5, 0.25)\n",
    "ys = f(xs)\n",
    "plt.plot(xs, ys)\n",
    "plt.show()"
   ],
   "outputs": [
    {
     "data": {
      "text/plain": [
       "<Figure size 640x480 with 1 Axes>"
      ],
      "image/png": "[encoded data removed]"
     },
     "metadata": {},
     "output_type": "display_data"
    }
   ],
   "execution_count": 401
  },
  {
   "cell_type": "markdown",
   "metadata": {},
   "source": [
    "## Differentiation for Univariate Functions\n",
    "\n",
    "### Definition: *Derivative*\n",
    "\n",
    "For $h \\gt 0$ the *derivative* of $f$ at $x$ is defined as the limit\n",
    "\n",
    "$$\n",
    "\\frac{df}{dx} := \\lim_{h \\to 0} \\frac{ f(x + h) - f(x) }{ h }\n",
    "$$\n"
   ]
  },
  {
   "cell_type": "code",
   "metadata": {
    "ExecuteTime": {
     "end_time": "2024-12-11T12:09:26.297209Z",
     "start_time": "2024-12-11T12:09:26.294864Z"
    }
   },
   "source": [
    "# For f(x) at x = 2/3:\n",
    "h = 0.000001\n",
    "x = 2/3\n",
    "print((f(x + h) - f(x)) / h)"
   ],
   "outputs": [
    {
     "name": "stdout",
     "output_type": "stream",
     "text": [
      "2.999378523327323e-06\n"
     ]
    }
   ],
   "execution_count": 402
  },
  {
   "cell_type": "markdown",
   "metadata": {},
   "source": [
    "## Partial Differentiation and Gradients\n",
    "\n",
    "### Definition: *Partial Derivative*\n",
    "\n",
    "For a function $f : \\mathbb{R}^2 \\to \\mathbb{R}, \\, \\mathbf{x} \\mapsto f(\\mathbf{x}), \\mathbf{x} \\in \\mathbb{R}^n$ of $n$ variables $x_1, \\dots, x_n$ we define the *partial derivative* as \n",
    "\n",
    "$$\n",
    "\\frac{\\partial f}{\\partial x_1} = \\lim_{h \\to 0} \\frac{ f(x_1 + h, x_2, \\dots, x_n ) - f( \\mathbf{x} ) }{ h }\n",
    "$$\n",
    "$$\n",
    "\\vdots\n",
    "$$\n",
    "$$\n",
    "\\frac{\\partial f}{\\partial x_n} = \\lim_{h \\to 0} \\frac{ f(x_1, x_2, \\dots, x_n + h ) - f( \\mathbf{x} ) }{ h }\n",
    "$$\n",
    "\n",
    "and collect them in the new row vector\n",
    "\n",
    "$$\n",
    "\\nabla_x f = \\text{grad} f = \\frac{\\partial f}{\\partial \\mathbf{x}} =  \\begin{bmatrix}\n",
    "\\frac{\\partial f}{\\partial x_1} & \\frac{\\partial f}{\\partial x_2} & \\dots & \\frac{\\partial f}{\\partial x_n}\n",
    "\\end{bmatrix} \\in \\mathbb{R}^{1 \\times n}\n",
    "$$\n"
   ]
  },
  {
   "cell_type": "code",
   "metadata": {
    "ExecuteTime": {
     "end_time": "2024-12-11T12:09:26.321447Z",
     "start_time": "2024-12-11T12:09:26.319050Z"
    }
   },
   "source": [
    "# Multivariate function f(a, b, x) = a * b + c  \n",
    "\n",
    "def f(a, b, c):\n",
    "    return a*b + c\n",
    "\n",
    "a = 2.0\n",
    "b = -3.0\n",
    "c = 10.0\n",
    "d = f(a, b, c)\n",
    "print(d)"
   ],
   "outputs": [
    {
     "name": "stdout",
     "output_type": "stream",
     "text": [
      "4.0\n"
     ]
    }
   ],
   "execution_count": 403
  },
  {
   "cell_type": "code",
   "metadata": {
    "ExecuteTime": {
     "end_time": "2024-12-11T12:09:26.342053Z",
     "start_time": "2024-12-11T12:09:26.339491Z"
    }
   },
   "source": [
    "# Partial derivatives for f with respect to a\n",
    "\n",
    "h = 0.00001\n",
    "\n",
    "# Inputs\n",
    "a = 2.0\n",
    "b = -3.0\n",
    "c = 10.0\n",
    "\n",
    "d1 = f(a, b, c)\n",
    "d2 = f(a+h, b, c)\n",
    "\n",
    "print(\"d1\", d1)\n",
    "print(\"d2\", d2)\n",
    "print(\"Derivative w. r. to a =\", ((d2 - d1) / h))"
   ],
   "outputs": [
    {
     "name": "stdout",
     "output_type": "stream",
     "text": [
      "d1 4.0\n",
      "d2 3.9999699999999994\n",
      "Derivative w. r. to a = -3.000000000064062\n"
     ]
    }
   ],
   "execution_count": 404
  },
  {
   "cell_type": "markdown",
   "metadata": {},
   "source": [
    "*The partial derivative with respect to $a$ of $f$ at $a=2, b=-3, c=10$ is -3.*\n",
    "\n",
    "*Proving this with the analytical approach gives us $\\frac{\\partial f}{\\partial a} = b$.*"
   ]
  },
  {
   "cell_type": "code",
   "metadata": {
    "ExecuteTime": {
     "end_time": "2024-12-11T12:09:26.387077Z",
     "start_time": "2024-12-11T12:09:26.383956Z"
    }
   },
   "source": [
    "# Partial derivatis for f with respect to b & c\n",
    "\n",
    "h = 0.00001\n",
    "\n",
    "# Inputs\n",
    "a = 2.0\n",
    "b = -3.0\n",
    "c = 10.0\n",
    "\n",
    "d3 = f(a, b+h, c)\n",
    "d4 = f(a, b, c+h)\n",
    "\n",
    "print(\"d3\", d3)\n",
    "print(\"Derivative w. r. to b =\", ((d3 - d1) / h))\n",
    "print(\"d3\", d4)\n",
    "print(\"Derivative w. r. to c =\", ((d4 - d1) / h))"
   ],
   "outputs": [
    {
     "name": "stdout",
     "output_type": "stream",
     "text": [
      "d3 4.00002\n",
      "Derivative w. r. to b = 2.0000000000131024\n",
      "d3 4.00001\n",
      "Derivative w. r. to c = 0.9999999999621422\n"
     ]
    }
   ],
   "execution_count": 405
  },
  {
   "cell_type": "markdown",
   "metadata": {},
   "source": [
    "$$\\frac{\\partial f}{\\partial b} = a$$\n",
    "\n",
    "$$\\frac{\\partial f}{\\partial c} = 1$$"
   ]
  },
  {
   "cell_type": "markdown",
   "metadata": {},
   "source": [
    "# Neural Networks"
   ]
  },
  {
   "cell_type": "code",
   "metadata": {
    "ExecuteTime": {
     "end_time": "2024-12-11T12:09:26.415879Z",
     "start_time": "2024-12-11T12:09:26.408628Z"
    }
   },
   "source": [
    "class Value:\n",
    "\n",
    "    def __init__(self, data, _children=(), _op=\"\", label=\"\"):\n",
    "        self.data = data\n",
    "        self.grad = 0.0\n",
    "        self._backward = lambda: None\n",
    "        self._prev = set(_children)\n",
    "        self._op = _op\n",
    "        self.label = label\n",
    "\n",
    "    def __repr__(self):\n",
    "        return f\"{self.label if self.label is not None else 'NoName'}: {self.data}\"\n",
    "    \n",
    "    def __add__(self, other):\n",
    "        other = other if isinstance(other, Value) else Value(other)\n",
    "        out = Value(self.data + other.data, (self, other), \"+\")\n",
    "        def _backward():\n",
    "            self.grad += out.grad\n",
    "            other.grad += out.grad\n",
    "        out._backward = _backward\n",
    "        return out\n",
    "\n",
    "    def __rmul__(self, other):\n",
    "        return self * other\n",
    "\n",
    "    def __radd__(self, other):\n",
    "        return self + other\n",
    "\n",
    "    def __truediv__(self, other):\n",
    "        return self * other**(-1)\n",
    "\n",
    "    def __neg__(self):\n",
    "        return self*(-1)\n",
    "\n",
    "    def __sub__(self, other):\n",
    "        return self + (-other)\n",
    "\n",
    "    def __mul__(self, other):\n",
    "        other = other if isinstance(other, Value) else Value(other)\n",
    "        out = Value(self.data * other.data, (self, other), \"*\")\n",
    "        def _backward():\n",
    "            self.grad += out.grad * other.data\n",
    "            other.grad += out.grad * self.data\n",
    "        out._backward = _backward\n",
    "        return out\n",
    "\n",
    "    def __pow__(self, other):\n",
    "        assert isinstance(other, (int, float))\n",
    "        out = Value(self.data**other, (self,), f\"**{other}\")\n",
    "        def _backward(): # f'(x^k) = k * x^(k-1)\n",
    "            self.grad += out.grad * other * self.data**(other-1)\n",
    "            pass\n",
    "        out._backward = _backward\n",
    "        return out\n",
    "\n",
    "    def exp(self):\n",
    "        x = self.data\n",
    "        out = Value(math.exp(x), (self,), \"exp\")\n",
    "        def _backward():\n",
    "            self.grad += out.grad * out.data # f'(e(x)) = e(x)\n",
    "        out._backward = _backward\n",
    "        return out\n",
    "\n",
    "    def tanh(self):\n",
    "        t = (math.exp(2*self.data) - 1) / (math.exp(2*self.data) + 1)\n",
    "        out = Value(t, (self, ), \"tanh\")\n",
    "        def _backward():\n",
    "            self.grad += (1 - t**2) * out.grad\n",
    "        out._backward = _backward\n",
    "        return out\n",
    "\n",
    "    def backward(self):\n",
    "        topo = []\n",
    "        visited = set()\n",
    "        def build_topo(v):\n",
    "            if v not in visited:\n",
    "                visited.add(v)\n",
    "                for child in v._prev:\n",
    "                    build_topo(child)\n",
    "                topo.append(v)\n",
    "        build_topo(self)\n",
    "        self.grad = 1.0\n",
    "        for val in reversed(topo):\n",
    "            val._backward()\n",
    "\n",
    "    def copy(self):\n",
    "        return Value(self.data, self._prev, self._op, self.label)\n"
   ],
   "outputs": [],
   "execution_count": 406
  },
  {
   "cell_type": "code",
   "metadata": {
    "ExecuteTime": {
     "end_time": "2024-12-11T12:09:26.425909Z",
     "start_time": "2024-12-11T12:09:26.422775Z"
    }
   },
   "source": [
    "from graphviz import Digraph\n",
    "\n",
    "def trace(root):\n",
    "    nodes , edges = set(), set()\n",
    "    def build(v):\n",
    "        if v not in nodes:\n",
    "            nodes.add(v)\n",
    "            for child in v._prev:\n",
    "                edges.add((child, v))\n",
    "                build(child)\n",
    "    build(root)\n",
    "    return nodes, edges\n",
    "\n",
    "def draw_dot(root):\n",
    "    dot = Digraph(format=\"svg\", graph_attr={\"rankdir\": \"LR\"})\n",
    "\n",
    "    nodes, edges = trace(root)\n",
    "    for n in nodes:\n",
    "        uid = str(id(n))\n",
    "        dot.node(name = uid, label = \"{ %s | data %.4f | grad %.4f }}\" % (n.label, n.data, n.grad), shape=\"record\")\n",
    "        if n._op:\n",
    "            dot.node(name = uid + n._op, label=n._op)\n",
    "            dot.edge(uid + n._op, uid)\n",
    "\n",
    "    for n1, n2 in edges:\n",
    "        dot.edge(str(id(n1)), str(id(n2)) + n2._op)\n",
    "\n",
    "    return dot"
   ],
   "outputs": [],
   "execution_count": 407
  },
  {
   "cell_type": "markdown",
   "metadata": {},
   "source": [
    "## Manual Backpropagation for the Function\n",
    "\n",
    "$$\n",
    "L(a, b, c, d) = ((a \\times b) + c) \\times d\n",
    "$$"
   ]
  },
  {
   "cell_type": "markdown",
   "metadata": {},
   "source": [
    "Or\n",
    "\n",
    "$$\n",
    "L(a, b, c, d) = L(f(e(a, b), c), d), \n",
    "$$\n",
    "\n",
    "with\n",
    "\n",
    "$$\n",
    "e(a, b) = a \\times b, \n",
    "$$\n",
    "$$\n",
    "f(e, c) = e + c, \n",
    "$$\n",
    "$$\n",
    "L(f, d) = f \\times d\n",
    "$$"
   ]
  },
  {
   "cell_type": "markdown",
   "metadata": {},
   "source": [
    "### Building the Computation Graph"
   ]
  },
  {
   "cell_type": "code",
   "metadata": {
    "ExecuteTime": {
     "end_time": "2024-12-11T12:09:26.434457Z",
     "start_time": "2024-12-11T12:09:26.432339Z"
    }
   },
   "source": [
    "# Input\n",
    "a = Value(2.0, label=\"a\")\n",
    "b = Value(-3.0, label=\"b\")\n",
    "c = Value(10, label=\"c\")\n",
    "d = Value(-2.0, label=\"d\")\n",
    "\n",
    "# Itermetiate nodes\n",
    "e = a * b; e.label = \"e\"\n",
    "f = e + c; f.label = \"f\"\n",
    "L = f * d; L.label = \"L\""
   ],
   "outputs": [],
   "execution_count": 408
  },
  {
   "cell_type": "code",
   "metadata": {
    "ExecuteTime": {
     "end_time": "2024-12-11T12:09:26.600642Z",
     "start_time": "2024-12-11T12:09:26.441174Z"
    }
   },
   "source": [
    "draw_dot(L)"
   ],
   "outputs": [
    {
     "data": {
      "image/svg+xml": "<?xml version=\"1.0\" encoding=\"UTF-8\" standalone=\"no\"?>\n<!DOCTYPE svg PUBLIC \"-//W3C//DTD SVG 1.1//EN\"\n \"http://www.w3.org/Graphics/SVG/1.1/DTD/svg11.dtd\">\n<!-- Generated by graphviz version 12.2.0 (20241103.1931)\n -->\n<!-- Pages: 1 -->\n<svg width=\"1142pt\" height=\"156pt\"\n viewBox=\"0.00 0.00 1142.00 156.00\" xmlns=\"http://www.w3.org/2000/svg\" xmlns:xlink=\"http://www.w3.org/1999/xlink\">\n<g id=\"graph0\" class=\"graph\" transform=\"scale(1 1) rotate(0) translate(4 152)\">\n<polygon fill=\"white\" stroke=\"none\" points=\"-4,4 -4,-152 1138,-152 1138,4 -4,4\"/>\n<!-- 13463449328 -->\n<g id=\"node1\" class=\"node\">\n<title>13463449328</title>\n<polygon fill=\"none\" stroke=\"black\" points=\"2.62,-111.5 2.62,-147.5 185.62,-147.5 185.62,-111.5 2.62,-111.5\"/>\n<text text-anchor=\"middle\" x=\"13.62\" y=\"-124.7\" font-family=\"Times,serif\" font-size=\"14.00\">a</text>\n<polyline fill=\"none\" stroke=\"black\" points=\"24.62,-112 24.62,-147.5\"/>\n<text text-anchor=\"middle\" x=\"64.5\" y=\"-124.7\" font-family=\"Times,serif\" font-size=\"14.00\">data 2.0000</text>\n<polyline fill=\"none\" stroke=\"black\" points=\"104.38,-112 104.38,-147.5\"/>\n<text text-anchor=\"middle\" x=\"145\" y=\"-124.7\" font-family=\"Times,serif\" font-size=\"14.00\">grad 0.0000</text>\n</g>\n<!-- 13463443808* -->\n<g id=\"node8\" class=\"node\">\n<title>13463443808*</title>\n<ellipse fill=\"none\" stroke=\"black\" cx=\"251.25\" cy=\"-101.5\" rx=\"27\" ry=\"18\"/>\n<text text-anchor=\"middle\" x=\"251.25\" y=\"-96.45\" font-family=\"Times,serif\" font-size=\"14.00\">*</text>\n</g>\n<!-- 13463449328&#45;&gt;13463443808* -->\n<g id=\"edge5\" class=\"edge\">\n<title>13463449328&#45;&gt;13463443808*</title>\n<path fill=\"none\" stroke=\"black\" d=\"M185.81,-113.13C195.66,-111.35 205.21,-109.63 213.82,-108.08\"/>\n<polygon fill=\"black\" stroke=\"black\" points=\"214.19,-111.57 223.41,-106.34 212.95,-104.68 214.19,-111.57\"/>\n</g>\n<!-- 13463443712 -->\n<g id=\"node2\" class=\"node\">\n<title>13463443712</title>\n<polygon fill=\"none\" stroke=\"black\" points=\"944.25,-27.5 944.25,-63.5 1134,-63.5 1134,-27.5 944.25,-27.5\"/>\n<text text-anchor=\"middle\" x=\"956.38\" y=\"-40.7\" font-family=\"Times,serif\" font-size=\"14.00\">L</text>\n<polyline fill=\"none\" stroke=\"black\" points=\"968.5,-28 968.5,-63.5\"/>\n<text text-anchor=\"middle\" x=\"1010.62\" y=\"-40.7\" font-family=\"Times,serif\" font-size=\"14.00\">data &#45;8.0000</text>\n<polyline fill=\"none\" stroke=\"black\" points=\"1052.75,-28 1052.75,-63.5\"/>\n<text text-anchor=\"middle\" x=\"1093.38\" y=\"-40.7\" font-family=\"Times,serif\" font-size=\"14.00\">grad 0.0000</text>\n</g>\n<!-- 13463443712* -->\n<g id=\"node3\" class=\"node\">\n<title>13463443712*</title>\n<ellipse fill=\"none\" stroke=\"black\" cx=\"881.25\" cy=\"-45.5\" rx=\"27\" ry=\"18\"/>\n<text text-anchor=\"middle\" x=\"881.25\" y=\"-40.45\" font-family=\"Times,serif\" font-size=\"14.00\">*</text>\n</g>\n<!-- 13463443712*&#45;&gt;13463443712 -->\n<g id=\"edge1\" class=\"edge\">\n<title>13463443712*&#45;&gt;13463443712</title>\n<path fill=\"none\" stroke=\"black\" d=\"M908.69,-45.5C915.84,-45.5 924.03,-45.5 932.74,-45.5\"/>\n<polygon fill=\"black\" stroke=\"black\" points=\"932.51,-49 942.51,-45.5 932.51,-42 932.51,-49\"/>\n</g>\n<!-- 13463452976 -->\n<g id=\"node4\" class=\"node\">\n<title>13463452976</title>\n<polygon fill=\"none\" stroke=\"black\" points=\"633.38,-55.5 633.38,-91.5 814.88,-91.5 814.88,-55.5 633.38,-55.5\"/>\n<text text-anchor=\"middle\" x=\"643.62\" y=\"-68.7\" font-family=\"Times,serif\" font-size=\"14.00\">f</text>\n<polyline fill=\"none\" stroke=\"black\" points=\"653.88,-56 653.88,-91.5\"/>\n<text text-anchor=\"middle\" x=\"693.75\" y=\"-68.7\" font-family=\"Times,serif\" font-size=\"14.00\">data 4.0000</text>\n<polyline fill=\"none\" stroke=\"black\" points=\"733.62,-56 733.62,-91.5\"/>\n<text text-anchor=\"middle\" x=\"774.25\" y=\"-68.7\" font-family=\"Times,serif\" font-size=\"14.00\">grad 0.0000</text>\n</g>\n<!-- 13463452976&#45;&gt;13463443712* -->\n<g id=\"edge7\" class=\"edge\">\n<title>13463452976&#45;&gt;13463443712*</title>\n<path fill=\"none\" stroke=\"black\" d=\"M815.36,-57.21C825.26,-55.43 834.87,-53.69 843.54,-52.13\"/>\n<polygon fill=\"black\" stroke=\"black\" points=\"843.99,-55.6 853.21,-50.38 842.75,-48.71 843.99,-55.6\"/>\n</g>\n<!-- 13463452976+ -->\n<g id=\"node5\" class=\"node\">\n<title>13463452976+</title>\n<ellipse fill=\"none\" stroke=\"black\" cx=\"567\" cy=\"-73.5\" rx=\"27\" ry=\"18\"/>\n<text text-anchor=\"middle\" x=\"567\" y=\"-68.45\" font-family=\"Times,serif\" font-size=\"14.00\">+</text>\n</g>\n<!-- 13463452976+&#45;&gt;13463452976 -->\n<g id=\"edge2\" class=\"edge\">\n<title>13463452976+&#45;&gt;13463452976</title>\n<path fill=\"none\" stroke=\"black\" d=\"M594.31,-73.5C602.35,-73.5 611.72,-73.5 621.67,-73.5\"/>\n<polygon fill=\"black\" stroke=\"black\" points=\"621.6,-77 631.6,-73.5 621.6,-70 621.6,-77\"/>\n</g>\n<!-- 13463446352 -->\n<g id=\"node6\" class=\"node\">\n<title>13463446352</title>\n<polygon fill=\"none\" stroke=\"black\" points=\"0,-56.5 0,-92.5 188.25,-92.5 188.25,-56.5 0,-56.5\"/>\n<text text-anchor=\"middle\" x=\"11.38\" y=\"-69.7\" font-family=\"Times,serif\" font-size=\"14.00\">b</text>\n<polyline fill=\"none\" stroke=\"black\" points=\"22.75,-57 22.75,-92.5\"/>\n<text text-anchor=\"middle\" x=\"64.88\" y=\"-69.7\" font-family=\"Times,serif\" font-size=\"14.00\">data &#45;3.0000</text>\n<polyline fill=\"none\" stroke=\"black\" points=\"107,-57 107,-92.5\"/>\n<text text-anchor=\"middle\" x=\"147.62\" y=\"-69.7\" font-family=\"Times,serif\" font-size=\"14.00\">grad 0.0000</text>\n</g>\n<!-- 13463446352&#45;&gt;13463443808* -->\n<g id=\"edge6\" class=\"edge\">\n<title>13463446352&#45;&gt;13463443808*</title>\n<path fill=\"none\" stroke=\"black\" d=\"M188.49,-90.75C197.27,-92.28 205.77,-93.76 213.51,-95.1\"/>\n<polygon fill=\"black\" stroke=\"black\" points=\"212.66,-98.51 223.11,-96.78 213.86,-91.61 212.66,-98.51\"/>\n</g>\n<!-- 13463443808 -->\n<g id=\"node7\" class=\"node\">\n<title>13463443808</title>\n<polygon fill=\"none\" stroke=\"black\" points=\"315.38,-83.5 315.38,-119.5 502.88,-119.5 502.88,-83.5 315.38,-83.5\"/>\n<text text-anchor=\"middle\" x=\"326.38\" y=\"-96.7\" font-family=\"Times,serif\" font-size=\"14.00\">e</text>\n<polyline fill=\"none\" stroke=\"black\" points=\"337.38,-84 337.38,-119.5\"/>\n<text text-anchor=\"middle\" x=\"379.5\" y=\"-96.7\" font-family=\"Times,serif\" font-size=\"14.00\">data &#45;6.0000</text>\n<polyline fill=\"none\" stroke=\"black\" points=\"421.62,-84 421.62,-119.5\"/>\n<text text-anchor=\"middle\" x=\"462.25\" y=\"-96.7\" font-family=\"Times,serif\" font-size=\"14.00\">grad 0.0000</text>\n</g>\n<!-- 13463443808&#45;&gt;13463452976+ -->\n<g id=\"edge4\" class=\"edge\">\n<title>13463443808&#45;&gt;13463452976+</title>\n<path fill=\"none\" stroke=\"black\" d=\"M503.05,-84.81C512.25,-83.16 521.16,-81.56 529.24,-80.1\"/>\n<polygon fill=\"black\" stroke=\"black\" points=\"529.71,-83.58 538.93,-78.36 528.47,-76.69 529.71,-83.58\"/>\n</g>\n<!-- 13463443808*&#45;&gt;13463443808 -->\n<g id=\"edge3\" class=\"edge\">\n<title>13463443808*&#45;&gt;13463443808</title>\n<path fill=\"none\" stroke=\"black\" d=\"M278.69,-101.5C286.1,-101.5 294.64,-101.5 303.71,-101.5\"/>\n<polygon fill=\"black\" stroke=\"black\" points=\"303.51,-105 313.51,-101.5 303.51,-98 303.51,-105\"/>\n</g>\n<!-- 13463440352 -->\n<g id=\"node9\" class=\"node\">\n<title>13463440352</title>\n<polygon fill=\"none\" stroke=\"black\" points=\"630,-0.5 630,-36.5 818.25,-36.5 818.25,-0.5 630,-0.5\"/>\n<text text-anchor=\"middle\" x=\"641.38\" y=\"-13.7\" font-family=\"Times,serif\" font-size=\"14.00\">d</text>\n<polyline fill=\"none\" stroke=\"black\" points=\"652.75,-1 652.75,-36.5\"/>\n<text text-anchor=\"middle\" x=\"694.88\" y=\"-13.7\" font-family=\"Times,serif\" font-size=\"14.00\">data &#45;2.0000</text>\n<polyline fill=\"none\" stroke=\"black\" points=\"737,-1 737,-36.5\"/>\n<text text-anchor=\"middle\" x=\"777.62\" y=\"-13.7\" font-family=\"Times,serif\" font-size=\"14.00\">grad 0.0000</text>\n</g>\n<!-- 13463440352&#45;&gt;13463443712* -->\n<g id=\"edge8\" class=\"edge\">\n<title>13463440352&#45;&gt;13463443712*</title>\n<path fill=\"none\" stroke=\"black\" d=\"M818.49,-34.75C827.27,-36.28 835.77,-37.76 843.51,-39.1\"/>\n<polygon fill=\"black\" stroke=\"black\" points=\"842.66,-42.51 853.11,-40.78 843.86,-35.61 842.66,-42.51\"/>\n</g>\n<!-- 13463453168 -->\n<g id=\"node10\" class=\"node\">\n<title>13463453168</title>\n<polygon fill=\"none\" stroke=\"black\" points=\"314.25,-28.5 314.25,-64.5 504,-64.5 504,-28.5 314.25,-28.5\"/>\n<text text-anchor=\"middle\" x=\"325.25\" y=\"-41.7\" font-family=\"Times,serif\" font-size=\"14.00\">c</text>\n<polyline fill=\"none\" stroke=\"black\" points=\"336.25,-29 336.25,-64.5\"/>\n<text text-anchor=\"middle\" x=\"379.5\" y=\"-41.7\" font-family=\"Times,serif\" font-size=\"14.00\">data 10.0000</text>\n<polyline fill=\"none\" stroke=\"black\" points=\"422.75,-29 422.75,-64.5\"/>\n<text text-anchor=\"middle\" x=\"463.38\" y=\"-41.7\" font-family=\"Times,serif\" font-size=\"14.00\">grad 0.0000</text>\n</g>\n<!-- 13463453168&#45;&gt;13463452976+ -->\n<g id=\"edge9\" class=\"edge\">\n<title>13463453168&#45;&gt;13463452976+</title>\n<path fill=\"none\" stroke=\"black\" d=\"M504.39,-62.83C513.16,-64.35 521.65,-65.82 529.37,-67.15\"/>\n<polygon fill=\"black\" stroke=\"black\" points=\"528.5,-70.56 538.95,-68.81 529.69,-63.66 528.5,-70.56\"/>\n</g>\n</g>\n</svg>\n",
      "text/plain": [
       "<graphviz.graphs.Digraph at 0x3227bc4f0>"
      ]
     },
     "execution_count": 409,
     "metadata": {},
     "output_type": "execute_result"
    }
   ],
   "execution_count": 409
  },
  {
   "cell_type": "markdown",
   "metadata": {},
   "source": [
    "### Backpropagation Step 1: **L**"
   ]
  },
  {
   "cell_type": "markdown",
   "metadata": {},
   "source": [
    "The derivative of L with respect to L is 1.\n",
    "$$ \\frac{\\partial L}{\\partial L} = 1.0 $$\n",
    "$$ \\frac{\\partial \\text{ dependant var}\\ }{\\partial \\text{ independant var}\\ } = derivative $$"
   ]
  },
  {
   "cell_type": "code",
   "metadata": {
    "ExecuteTime": {
     "end_time": "2024-12-11T12:09:26.685851Z",
     "start_time": "2024-12-11T12:09:26.610014Z"
    }
   },
   "source": [
    "def partial_using_lim(dependent_var, independent_var, h=1e-4):\n",
    "    list_of_values = [dependent_var.copy()]\n",
    "    val1 = list_of_values[0].data\n",
    "\n",
    "    def _copy_graph(current_value, independent_var, list_of_values):\n",
    "        children = list(current_value._prev)\n",
    "        if current_value.label == independent_var.label:\n",
    "            current_value.data += h\n",
    "            current_value._prev = set()\n",
    "        elif len(children) == 1:\n",
    "            new_children = [children[0].copy()]\n",
    "            list_of_values.append(new_children[0])\n",
    "            current_value._prev = set(new_children)\n",
    "            list_of_values = _copy_graph(new_children[0], independent_var, list_of_values)\n",
    "        elif len(children) > 1:\n",
    "            order = [1, 0]\n",
    "            if children[0]._prev == set():\n",
    "                order = [0, 1]\n",
    "            new_children = [children[order[i]].copy() for i in range(2)]\n",
    "            list_of_values.append(new_children[0])\n",
    "            list_of_values.append(new_children[1])\n",
    "            current_value._prev = set(new_children)\n",
    "            list_of_values = _copy_graph(new_children[0], independent_var, list_of_values)\n",
    "            list_of_values = _copy_graph(new_children[1], independent_var, list_of_values)\n",
    "        return list_of_values\n",
    "    \n",
    "    def _update_graph(value):\n",
    "        if value._prev != set():\n",
    "            children = list(value._prev)\n",
    "            for child in children:\n",
    "                _update_graph(child)\n",
    "            if value._op == \"*\":\n",
    "                value.data = children[0].data * children[1].data\n",
    "            elif value._op == \"+\":\n",
    "                value.data = children[0].data + children[1].data\n",
    "            elif value._op == \"tanh\":\n",
    "                value.data = (math.exp(2*children[0].data) - 1) / (math.exp(2*children[0].data) + 1)\n",
    "    \n",
    "    list_of_values = _copy_graph(list_of_values[0], independent_var, list_of_values)\n",
    "    _update_graph(list_of_values[0])\n",
    "    val2 = list_of_values[0].data\n",
    "\n",
    "    return draw_dot(list_of_values[0]), ((val2 - val1) / h)\n",
    "\n",
    "dot, derivative = partial_using_lim(L, L)\n",
    "print(derivative)\n",
    "dot\n"
   ],
   "outputs": [
    {
     "name": "stdout",
     "output_type": "stream",
     "text": [
      "0.9999999999976694\n"
     ]
    },
    {
     "data": {
      "image/svg+xml": "<?xml version=\"1.0\" encoding=\"UTF-8\" standalone=\"no\"?>\n<!DOCTYPE svg PUBLIC \"-//W3C//DTD SVG 1.1//EN\"\n \"http://www.w3.org/Graphics/SVG/1.1/DTD/svg11.dtd\">\n<!-- Generated by graphviz version 12.2.0 (20241103.1931)\n -->\n<!-- Pages: 1 -->\n<svg width=\"288pt\" height=\"45pt\"\n viewBox=\"0.00 0.00 287.75 45.00\" xmlns=\"http://www.w3.org/2000/svg\" xmlns:xlink=\"http://www.w3.org/1999/xlink\">\n<g id=\"graph0\" class=\"graph\" transform=\"scale(1 1) rotate(0) translate(4 41)\">\n<polygon fill=\"white\" stroke=\"none\" points=\"-4,4 -4,-41 283.75,-41 283.75,4 -4,4\"/>\n<!-- 13463311920 -->\n<g id=\"node1\" class=\"node\">\n<title>13463311920</title>\n<polygon fill=\"none\" stroke=\"black\" points=\"90,-0.5 90,-36.5 279.75,-36.5 279.75,-0.5 90,-0.5\"/>\n<text text-anchor=\"middle\" x=\"102.12\" y=\"-13.7\" font-family=\"Times,serif\" font-size=\"14.00\">L</text>\n<polyline fill=\"none\" stroke=\"black\" points=\"114.25,-1 114.25,-36.5\"/>\n<text text-anchor=\"middle\" x=\"156.38\" y=\"-13.7\" font-family=\"Times,serif\" font-size=\"14.00\">data &#45;7.9999</text>\n<polyline fill=\"none\" stroke=\"black\" points=\"198.5,-1 198.5,-36.5\"/>\n<text text-anchor=\"middle\" x=\"239.12\" y=\"-13.7\" font-family=\"Times,serif\" font-size=\"14.00\">grad 0.0000</text>\n</g>\n<!-- 13463311920* -->\n<g id=\"node2\" class=\"node\">\n<title>13463311920*</title>\n<ellipse fill=\"none\" stroke=\"black\" cx=\"27\" cy=\"-18.5\" rx=\"27\" ry=\"18\"/>\n<text text-anchor=\"middle\" x=\"27\" y=\"-13.45\" font-family=\"Times,serif\" font-size=\"14.00\">*</text>\n</g>\n<!-- 13463311920*&#45;&gt;13463311920 -->\n<g id=\"edge1\" class=\"edge\">\n<title>13463311920*&#45;&gt;13463311920</title>\n<path fill=\"none\" stroke=\"black\" d=\"M54.44,-18.5C61.59,-18.5 69.78,-18.5 78.49,-18.5\"/>\n<polygon fill=\"black\" stroke=\"black\" points=\"78.26,-22 88.26,-18.5 78.26,-15 78.26,-22\"/>\n</g>\n</g>\n</svg>\n",
      "text/plain": [
       "<graphviz.graphs.Digraph at 0x32279ed40>"
      ]
     },
     "execution_count": 410,
     "metadata": {},
     "output_type": "execute_result"
    }
   ],
   "execution_count": 410
  },
  {
   "cell_type": "code",
   "metadata": {
    "ExecuteTime": {
     "end_time": "2024-12-11T12:09:26.769495Z",
     "start_time": "2024-12-11T12:09:26.694569Z"
    }
   },
   "source": [
    "L.grad = 1.0\n",
    "draw_dot(L)"
   ],
   "outputs": [
    {
     "data": {
      "image/svg+xml": "<?xml version=\"1.0\" encoding=\"UTF-8\" standalone=\"no\"?>\n<!DOCTYPE svg PUBLIC \"-//W3C//DTD SVG 1.1//EN\"\n \"http://www.w3.org/Graphics/SVG/1.1/DTD/svg11.dtd\">\n<!-- Generated by graphviz version 12.2.0 (20241103.1931)\n -->\n<!-- Pages: 1 -->\n<svg width=\"1142pt\" height=\"156pt\"\n viewBox=\"0.00 0.00 1142.00 156.00\" xmlns=\"http://www.w3.org/2000/svg\" xmlns:xlink=\"http://www.w3.org/1999/xlink\">\n<g id=\"graph0\" class=\"graph\" transform=\"scale(1 1) rotate(0) translate(4 152)\">\n<polygon fill=\"white\" stroke=\"none\" points=\"-4,4 -4,-152 1138,-152 1138,4 -4,4\"/>\n<!-- 13463449328 -->\n<g id=\"node1\" class=\"node\">\n<title>13463449328</title>\n<polygon fill=\"none\" stroke=\"black\" points=\"2.62,-111.5 2.62,-147.5 185.62,-147.5 185.62,-111.5 2.62,-111.5\"/>\n<text text-anchor=\"middle\" x=\"13.62\" y=\"-124.7\" font-family=\"Times,serif\" font-size=\"14.00\">a</text>\n<polyline fill=\"none\" stroke=\"black\" points=\"24.62,-112 24.62,-147.5\"/>\n<text text-anchor=\"middle\" x=\"64.5\" y=\"-124.7\" font-family=\"Times,serif\" font-size=\"14.00\">data 2.0000</text>\n<polyline fill=\"none\" stroke=\"black\" points=\"104.38,-112 104.38,-147.5\"/>\n<text text-anchor=\"middle\" x=\"145\" y=\"-124.7\" font-family=\"Times,serif\" font-size=\"14.00\">grad 0.0000</text>\n</g>\n<!-- 13463443808* -->\n<g id=\"node8\" class=\"node\">\n<title>13463443808*</title>\n<ellipse fill=\"none\" stroke=\"black\" cx=\"251.25\" cy=\"-101.5\" rx=\"27\" ry=\"18\"/>\n<text text-anchor=\"middle\" x=\"251.25\" y=\"-96.45\" font-family=\"Times,serif\" font-size=\"14.00\">*</text>\n</g>\n<!-- 13463449328&#45;&gt;13463443808* -->\n<g id=\"edge5\" class=\"edge\">\n<title>13463449328&#45;&gt;13463443808*</title>\n<path fill=\"none\" stroke=\"black\" d=\"M185.81,-113.13C195.66,-111.35 205.21,-109.63 213.82,-108.08\"/>\n<polygon fill=\"black\" stroke=\"black\" points=\"214.19,-111.57 223.41,-106.34 212.95,-104.68 214.19,-111.57\"/>\n</g>\n<!-- 13463443712 -->\n<g id=\"node2\" class=\"node\">\n<title>13463443712</title>\n<polygon fill=\"none\" stroke=\"black\" points=\"944.25,-27.5 944.25,-63.5 1134,-63.5 1134,-27.5 944.25,-27.5\"/>\n<text text-anchor=\"middle\" x=\"956.38\" y=\"-40.7\" font-family=\"Times,serif\" font-size=\"14.00\">L</text>\n<polyline fill=\"none\" stroke=\"black\" points=\"968.5,-28 968.5,-63.5\"/>\n<text text-anchor=\"middle\" x=\"1010.62\" y=\"-40.7\" font-family=\"Times,serif\" font-size=\"14.00\">data &#45;8.0000</text>\n<polyline fill=\"none\" stroke=\"black\" points=\"1052.75,-28 1052.75,-63.5\"/>\n<text text-anchor=\"middle\" x=\"1093.38\" y=\"-40.7\" font-family=\"Times,serif\" font-size=\"14.00\">grad 1.0000</text>\n</g>\n<!-- 13463443712* -->\n<g id=\"node3\" class=\"node\">\n<title>13463443712*</title>\n<ellipse fill=\"none\" stroke=\"black\" cx=\"881.25\" cy=\"-45.5\" rx=\"27\" ry=\"18\"/>\n<text text-anchor=\"middle\" x=\"881.25\" y=\"-40.45\" font-family=\"Times,serif\" font-size=\"14.00\">*</text>\n</g>\n<!-- 13463443712*&#45;&gt;13463443712 -->\n<g id=\"edge1\" class=\"edge\">\n<title>13463443712*&#45;&gt;13463443712</title>\n<path fill=\"none\" stroke=\"black\" d=\"M908.69,-45.5C915.84,-45.5 924.03,-45.5 932.74,-45.5\"/>\n<polygon fill=\"black\" stroke=\"black\" points=\"932.51,-49 942.51,-45.5 932.51,-42 932.51,-49\"/>\n</g>\n<!-- 13463452976 -->\n<g id=\"node4\" class=\"node\">\n<title>13463452976</title>\n<polygon fill=\"none\" stroke=\"black\" points=\"633.38,-55.5 633.38,-91.5 814.88,-91.5 814.88,-55.5 633.38,-55.5\"/>\n<text text-anchor=\"middle\" x=\"643.62\" y=\"-68.7\" font-family=\"Times,serif\" font-size=\"14.00\">f</text>\n<polyline fill=\"none\" stroke=\"black\" points=\"653.88,-56 653.88,-91.5\"/>\n<text text-anchor=\"middle\" x=\"693.75\" y=\"-68.7\" font-family=\"Times,serif\" font-size=\"14.00\">data 4.0000</text>\n<polyline fill=\"none\" stroke=\"black\" points=\"733.62,-56 733.62,-91.5\"/>\n<text text-anchor=\"middle\" x=\"774.25\" y=\"-68.7\" font-family=\"Times,serif\" font-size=\"14.00\">grad 0.0000</text>\n</g>\n<!-- 13463452976&#45;&gt;13463443712* -->\n<g id=\"edge7\" class=\"edge\">\n<title>13463452976&#45;&gt;13463443712*</title>\n<path fill=\"none\" stroke=\"black\" d=\"M815.36,-57.21C825.26,-55.43 834.87,-53.69 843.54,-52.13\"/>\n<polygon fill=\"black\" stroke=\"black\" points=\"843.99,-55.6 853.21,-50.38 842.75,-48.71 843.99,-55.6\"/>\n</g>\n<!-- 13463452976+ -->\n<g id=\"node5\" class=\"node\">\n<title>13463452976+</title>\n<ellipse fill=\"none\" stroke=\"black\" cx=\"567\" cy=\"-73.5\" rx=\"27\" ry=\"18\"/>\n<text text-anchor=\"middle\" x=\"567\" y=\"-68.45\" font-family=\"Times,serif\" font-size=\"14.00\">+</text>\n</g>\n<!-- 13463452976+&#45;&gt;13463452976 -->\n<g id=\"edge2\" class=\"edge\">\n<title>13463452976+&#45;&gt;13463452976</title>\n<path fill=\"none\" stroke=\"black\" d=\"M594.31,-73.5C602.35,-73.5 611.72,-73.5 621.67,-73.5\"/>\n<polygon fill=\"black\" stroke=\"black\" points=\"621.6,-77 631.6,-73.5 621.6,-70 621.6,-77\"/>\n</g>\n<!-- 13463446352 -->\n<g id=\"node6\" class=\"node\">\n<title>13463446352</title>\n<polygon fill=\"none\" stroke=\"black\" points=\"0,-56.5 0,-92.5 188.25,-92.5 188.25,-56.5 0,-56.5\"/>\n<text text-anchor=\"middle\" x=\"11.38\" y=\"-69.7\" font-family=\"Times,serif\" font-size=\"14.00\">b</text>\n<polyline fill=\"none\" stroke=\"black\" points=\"22.75,-57 22.75,-92.5\"/>\n<text text-anchor=\"middle\" x=\"64.88\" y=\"-69.7\" font-family=\"Times,serif\" font-size=\"14.00\">data &#45;3.0000</text>\n<polyline fill=\"none\" stroke=\"black\" points=\"107,-57 107,-92.5\"/>\n<text text-anchor=\"middle\" x=\"147.62\" y=\"-69.7\" font-family=\"Times,serif\" font-size=\"14.00\">grad 0.0000</text>\n</g>\n<!-- 13463446352&#45;&gt;13463443808* -->\n<g id=\"edge6\" class=\"edge\">\n<title>13463446352&#45;&gt;13463443808*</title>\n<path fill=\"none\" stroke=\"black\" d=\"M188.49,-90.75C197.27,-92.28 205.77,-93.76 213.51,-95.1\"/>\n<polygon fill=\"black\" stroke=\"black\" points=\"212.66,-98.51 223.11,-96.78 213.86,-91.61 212.66,-98.51\"/>\n</g>\n<!-- 13463443808 -->\n<g id=\"node7\" class=\"node\">\n<title>13463443808</title>\n<polygon fill=\"none\" stroke=\"black\" points=\"315.38,-83.5 315.38,-119.5 502.88,-119.5 502.88,-83.5 315.38,-83.5\"/>\n<text text-anchor=\"middle\" x=\"326.38\" y=\"-96.7\" font-family=\"Times,serif\" font-size=\"14.00\">e</text>\n<polyline fill=\"none\" stroke=\"black\" points=\"337.38,-84 337.38,-119.5\"/>\n<text text-anchor=\"middle\" x=\"379.5\" y=\"-96.7\" font-family=\"Times,serif\" font-size=\"14.00\">data &#45;6.0000</text>\n<polyline fill=\"none\" stroke=\"black\" points=\"421.62,-84 421.62,-119.5\"/>\n<text text-anchor=\"middle\" x=\"462.25\" y=\"-96.7\" font-family=\"Times,serif\" font-size=\"14.00\">grad 0.0000</text>\n</g>\n<!-- 13463443808&#45;&gt;13463452976+ -->\n<g id=\"edge4\" class=\"edge\">\n<title>13463443808&#45;&gt;13463452976+</title>\n<path fill=\"none\" stroke=\"black\" d=\"M503.05,-84.81C512.25,-83.16 521.16,-81.56 529.24,-80.1\"/>\n<polygon fill=\"black\" stroke=\"black\" points=\"529.71,-83.58 538.93,-78.36 528.47,-76.69 529.71,-83.58\"/>\n</g>\n<!-- 13463443808*&#45;&gt;13463443808 -->\n<g id=\"edge3\" class=\"edge\">\n<title>13463443808*&#45;&gt;13463443808</title>\n<path fill=\"none\" stroke=\"black\" d=\"M278.69,-101.5C286.1,-101.5 294.64,-101.5 303.71,-101.5\"/>\n<polygon fill=\"black\" stroke=\"black\" points=\"303.51,-105 313.51,-101.5 303.51,-98 303.51,-105\"/>\n</g>\n<!-- 13463440352 -->\n<g id=\"node9\" class=\"node\">\n<title>13463440352</title>\n<polygon fill=\"none\" stroke=\"black\" points=\"630,-0.5 630,-36.5 818.25,-36.5 818.25,-0.5 630,-0.5\"/>\n<text text-anchor=\"middle\" x=\"641.38\" y=\"-13.7\" font-family=\"Times,serif\" font-size=\"14.00\">d</text>\n<polyline fill=\"none\" stroke=\"black\" points=\"652.75,-1 652.75,-36.5\"/>\n<text text-anchor=\"middle\" x=\"694.88\" y=\"-13.7\" font-family=\"Times,serif\" font-size=\"14.00\">data &#45;2.0000</text>\n<polyline fill=\"none\" stroke=\"black\" points=\"737,-1 737,-36.5\"/>\n<text text-anchor=\"middle\" x=\"777.62\" y=\"-13.7\" font-family=\"Times,serif\" font-size=\"14.00\">grad 0.0000</text>\n</g>\n<!-- 13463440352&#45;&gt;13463443712* -->\n<g id=\"edge8\" class=\"edge\">\n<title>13463440352&#45;&gt;13463443712*</title>\n<path fill=\"none\" stroke=\"black\" d=\"M818.49,-34.75C827.27,-36.28 835.77,-37.76 843.51,-39.1\"/>\n<polygon fill=\"black\" stroke=\"black\" points=\"842.66,-42.51 853.11,-40.78 843.86,-35.61 842.66,-42.51\"/>\n</g>\n<!-- 13463453168 -->\n<g id=\"node10\" class=\"node\">\n<title>13463453168</title>\n<polygon fill=\"none\" stroke=\"black\" points=\"314.25,-28.5 314.25,-64.5 504,-64.5 504,-28.5 314.25,-28.5\"/>\n<text text-anchor=\"middle\" x=\"325.25\" y=\"-41.7\" font-family=\"Times,serif\" font-size=\"14.00\">c</text>\n<polyline fill=\"none\" stroke=\"black\" points=\"336.25,-29 336.25,-64.5\"/>\n<text text-anchor=\"middle\" x=\"379.5\" y=\"-41.7\" font-family=\"Times,serif\" font-size=\"14.00\">data 10.0000</text>\n<polyline fill=\"none\" stroke=\"black\" points=\"422.75,-29 422.75,-64.5\"/>\n<text text-anchor=\"middle\" x=\"463.38\" y=\"-41.7\" font-family=\"Times,serif\" font-size=\"14.00\">grad 0.0000</text>\n</g>\n<!-- 13463453168&#45;&gt;13463452976+ -->\n<g id=\"edge9\" class=\"edge\">\n<title>13463453168&#45;&gt;13463452976+</title>\n<path fill=\"none\" stroke=\"black\" d=\"M504.39,-62.83C513.16,-64.35 521.65,-65.82 529.37,-67.15\"/>\n<polygon fill=\"black\" stroke=\"black\" points=\"528.5,-70.56 538.95,-68.81 529.69,-63.66 528.5,-70.56\"/>\n</g>\n</g>\n</svg>\n",
      "text/plain": [
       "<graphviz.graphs.Digraph at 0x3226ffd60>"
      ]
     },
     "execution_count": 411,
     "metadata": {},
     "output_type": "execute_result"
    }
   ],
   "execution_count": 411
  },
  {
   "cell_type": "markdown",
   "metadata": {},
   "source": [
    "### Backpropagation Step 2: **d** & **f**"
   ]
  },
  {
   "cell_type": "markdown",
   "metadata": {},
   "source": [
    "Knowing that $L(f, d) = f \\times d$, we can calculate the derivatives simply as\n",
    "\n",
    "$$\n",
    "\\frac{ \\partial L }{ \\partial d} = f\n",
    "$$\n",
    "\n",
    "and \n",
    "\n",
    "$$\n",
    "\\frac{\\partial L}{\\partial f} = d\n",
    "$$"
   ]
  },
  {
   "cell_type": "code",
   "metadata": {
    "ExecuteTime": {
     "end_time": "2024-12-11T12:09:26.850407Z",
     "start_time": "2024-12-11T12:09:26.778555Z"
    }
   },
   "source": [
    "# For d:\n",
    "\n",
    "dot, derivative = partial_using_lim(L, d)\n",
    "print(derivative)\n",
    "dot"
   ],
   "outputs": [
    {
     "name": "stdout",
     "output_type": "stream",
     "text": [
      "3.9999999999995595\n"
     ]
    },
    {
     "data": {
      "image/svg+xml": "<?xml version=\"1.0\" encoding=\"UTF-8\" standalone=\"no\"?>\n<!DOCTYPE svg PUBLIC \"-//W3C//DTD SVG 1.1//EN\"\n \"http://www.w3.org/Graphics/SVG/1.1/DTD/svg11.dtd\">\n<!-- Generated by graphviz version 12.2.0 (20241103.1931)\n -->\n<!-- Pages: 1 -->\n<svg width=\"1142pt\" height=\"156pt\"\n viewBox=\"0.00 0.00 1142.00 156.00\" xmlns=\"http://www.w3.org/2000/svg\" xmlns:xlink=\"http://www.w3.org/1999/xlink\">\n<g id=\"graph0\" class=\"graph\" transform=\"scale(1 1) rotate(0) translate(4 152)\">\n<polygon fill=\"white\" stroke=\"none\" points=\"-4,4 -4,-152 1138,-152 1138,4 -4,4\"/>\n<!-- 13463058512 -->\n<g id=\"node1\" class=\"node\">\n<title>13463058512</title>\n<polygon fill=\"none\" stroke=\"black\" points=\"0,-111.5 0,-147.5 188.25,-147.5 188.25,-111.5 0,-111.5\"/>\n<text text-anchor=\"middle\" x=\"11.38\" y=\"-124.7\" font-family=\"Times,serif\" font-size=\"14.00\">b</text>\n<polyline fill=\"none\" stroke=\"black\" points=\"22.75,-112 22.75,-147.5\"/>\n<text text-anchor=\"middle\" x=\"64.88\" y=\"-124.7\" font-family=\"Times,serif\" font-size=\"14.00\">data &#45;3.0000</text>\n<polyline fill=\"none\" stroke=\"black\" points=\"107,-112 107,-147.5\"/>\n<text text-anchor=\"middle\" x=\"147.62\" y=\"-124.7\" font-family=\"Times,serif\" font-size=\"14.00\">grad 0.0000</text>\n</g>\n<!-- 13463058080* -->\n<g id=\"node5\" class=\"node\">\n<title>13463058080*</title>\n<ellipse fill=\"none\" stroke=\"black\" cx=\"251.25\" cy=\"-101.5\" rx=\"27\" ry=\"18\"/>\n<text text-anchor=\"middle\" x=\"251.25\" y=\"-96.45\" font-family=\"Times,serif\" font-size=\"14.00\">*</text>\n</g>\n<!-- 13463058512&#45;&gt;13463058080* -->\n<g id=\"edge5\" class=\"edge\">\n<title>13463058512&#45;&gt;13463058080*</title>\n<path fill=\"none\" stroke=\"black\" d=\"M188.49,-112.65C197.36,-111.05 205.93,-109.5 213.73,-108.09\"/>\n<polygon fill=\"black\" stroke=\"black\" points=\"214.2,-111.56 223.42,-106.34 212.95,-104.68 214.2,-111.56\"/>\n</g>\n<!-- 13204444816 -->\n<g id=\"node2\" class=\"node\">\n<title>13204444816</title>\n<polygon fill=\"none\" stroke=\"black\" points=\"944.25,-27.5 944.25,-63.5 1134,-63.5 1134,-27.5 944.25,-27.5\"/>\n<text text-anchor=\"middle\" x=\"956.38\" y=\"-40.7\" font-family=\"Times,serif\" font-size=\"14.00\">L</text>\n<polyline fill=\"none\" stroke=\"black\" points=\"968.5,-28 968.5,-63.5\"/>\n<text text-anchor=\"middle\" x=\"1010.62\" y=\"-40.7\" font-family=\"Times,serif\" font-size=\"14.00\">data &#45;7.9996</text>\n<polyline fill=\"none\" stroke=\"black\" points=\"1052.75,-28 1052.75,-63.5\"/>\n<text text-anchor=\"middle\" x=\"1093.38\" y=\"-40.7\" font-family=\"Times,serif\" font-size=\"14.00\">grad 0.0000</text>\n</g>\n<!-- 13204444816* -->\n<g id=\"node3\" class=\"node\">\n<title>13204444816*</title>\n<ellipse fill=\"none\" stroke=\"black\" cx=\"881.25\" cy=\"-45.5\" rx=\"27\" ry=\"18\"/>\n<text text-anchor=\"middle\" x=\"881.25\" y=\"-40.45\" font-family=\"Times,serif\" font-size=\"14.00\">*</text>\n</g>\n<!-- 13204444816*&#45;&gt;13204444816 -->\n<g id=\"edge1\" class=\"edge\">\n<title>13204444816*&#45;&gt;13204444816</title>\n<path fill=\"none\" stroke=\"black\" d=\"M908.69,-45.5C915.84,-45.5 924.03,-45.5 932.74,-45.5\"/>\n<polygon fill=\"black\" stroke=\"black\" points=\"932.51,-49 942.51,-45.5 932.51,-42 932.51,-49\"/>\n</g>\n<!-- 13463058080 -->\n<g id=\"node4\" class=\"node\">\n<title>13463058080</title>\n<polygon fill=\"none\" stroke=\"black\" points=\"315.38,-83.5 315.38,-119.5 502.88,-119.5 502.88,-83.5 315.38,-83.5\"/>\n<text text-anchor=\"middle\" x=\"326.38\" y=\"-96.7\" font-family=\"Times,serif\" font-size=\"14.00\">e</text>\n<polyline fill=\"none\" stroke=\"black\" points=\"337.38,-84 337.38,-119.5\"/>\n<text text-anchor=\"middle\" x=\"379.5\" y=\"-96.7\" font-family=\"Times,serif\" font-size=\"14.00\">data &#45;6.0000</text>\n<polyline fill=\"none\" stroke=\"black\" points=\"421.62,-84 421.62,-119.5\"/>\n<text text-anchor=\"middle\" x=\"462.25\" y=\"-96.7\" font-family=\"Times,serif\" font-size=\"14.00\">grad 0.0000</text>\n</g>\n<!-- 13204444864+ -->\n<g id=\"node7\" class=\"node\">\n<title>13204444864+</title>\n<ellipse fill=\"none\" stroke=\"black\" cx=\"567\" cy=\"-73.5\" rx=\"27\" ry=\"18\"/>\n<text text-anchor=\"middle\" x=\"567\" y=\"-68.45\" font-family=\"Times,serif\" font-size=\"14.00\">+</text>\n</g>\n<!-- 13463058080&#45;&gt;13204444864+ -->\n<g id=\"edge4\" class=\"edge\">\n<title>13463058080&#45;&gt;13204444864+</title>\n<path fill=\"none\" stroke=\"black\" d=\"M503.05,-84.81C512.25,-83.16 521.16,-81.56 529.24,-80.1\"/>\n<polygon fill=\"black\" stroke=\"black\" points=\"529.71,-83.58 538.93,-78.36 528.47,-76.69 529.71,-83.58\"/>\n</g>\n<!-- 13463058080*&#45;&gt;13463058080 -->\n<g id=\"edge2\" class=\"edge\">\n<title>13463058080*&#45;&gt;13463058080</title>\n<path fill=\"none\" stroke=\"black\" d=\"M278.69,-101.5C286.1,-101.5 294.64,-101.5 303.71,-101.5\"/>\n<polygon fill=\"black\" stroke=\"black\" points=\"303.51,-105 313.51,-101.5 303.51,-98 303.51,-105\"/>\n</g>\n<!-- 13204444864 -->\n<g id=\"node6\" class=\"node\">\n<title>13204444864</title>\n<polygon fill=\"none\" stroke=\"black\" points=\"633.38,-55.5 633.38,-91.5 814.88,-91.5 814.88,-55.5 633.38,-55.5\"/>\n<text text-anchor=\"middle\" x=\"643.62\" y=\"-68.7\" font-family=\"Times,serif\" font-size=\"14.00\">f</text>\n<polyline fill=\"none\" stroke=\"black\" points=\"653.88,-56 653.88,-91.5\"/>\n<text text-anchor=\"middle\" x=\"693.75\" y=\"-68.7\" font-family=\"Times,serif\" font-size=\"14.00\">data 4.0000</text>\n<polyline fill=\"none\" stroke=\"black\" points=\"733.62,-56 733.62,-91.5\"/>\n<text text-anchor=\"middle\" x=\"774.25\" y=\"-68.7\" font-family=\"Times,serif\" font-size=\"14.00\">grad 0.0000</text>\n</g>\n<!-- 13204444864&#45;&gt;13204444816* -->\n<g id=\"edge8\" class=\"edge\">\n<title>13204444864&#45;&gt;13204444816*</title>\n<path fill=\"none\" stroke=\"black\" d=\"M815.36,-57.21C825.26,-55.43 834.87,-53.69 843.54,-52.13\"/>\n<polygon fill=\"black\" stroke=\"black\" points=\"843.99,-55.6 853.21,-50.38 842.75,-48.71 843.99,-55.6\"/>\n</g>\n<!-- 13204444864+&#45;&gt;13204444864 -->\n<g id=\"edge3\" class=\"edge\">\n<title>13204444864+&#45;&gt;13204444864</title>\n<path fill=\"none\" stroke=\"black\" d=\"M594.31,-73.5C602.35,-73.5 611.72,-73.5 621.67,-73.5\"/>\n<polygon fill=\"black\" stroke=\"black\" points=\"621.6,-77 631.6,-73.5 621.6,-70 621.6,-77\"/>\n</g>\n<!-- 13463057744 -->\n<g id=\"node8\" class=\"node\">\n<title>13463057744</title>\n<polygon fill=\"none\" stroke=\"black\" points=\"2.62,-56.5 2.62,-92.5 185.62,-92.5 185.62,-56.5 2.62,-56.5\"/>\n<text text-anchor=\"middle\" x=\"13.62\" y=\"-69.7\" font-family=\"Times,serif\" font-size=\"14.00\">a</text>\n<polyline fill=\"none\" stroke=\"black\" points=\"24.62,-57 24.62,-92.5\"/>\n<text text-anchor=\"middle\" x=\"64.5\" y=\"-69.7\" font-family=\"Times,serif\" font-size=\"14.00\">data 2.0000</text>\n<polyline fill=\"none\" stroke=\"black\" points=\"104.38,-57 104.38,-92.5\"/>\n<text text-anchor=\"middle\" x=\"145\" y=\"-69.7\" font-family=\"Times,serif\" font-size=\"14.00\">grad 0.0000</text>\n</g>\n<!-- 13463057744&#45;&gt;13463058080* -->\n<g id=\"edge6\" class=\"edge\">\n<title>13463057744&#45;&gt;13463058080*</title>\n<path fill=\"none\" stroke=\"black\" d=\"M185.81,-90.28C195.45,-91.96 204.82,-93.59 213.29,-95.07\"/>\n<polygon fill=\"black\" stroke=\"black\" points=\"212.65,-98.51 223.1,-96.77 213.85,-91.61 212.65,-98.51\"/>\n</g>\n<!-- 13204454752 -->\n<g id=\"node9\" class=\"node\">\n<title>13204454752</title>\n<polygon fill=\"none\" stroke=\"black\" points=\"314.25,-28.5 314.25,-64.5 504,-64.5 504,-28.5 314.25,-28.5\"/>\n<text text-anchor=\"middle\" x=\"325.25\" y=\"-41.7\" font-family=\"Times,serif\" font-size=\"14.00\">c</text>\n<polyline fill=\"none\" stroke=\"black\" points=\"336.25,-29 336.25,-64.5\"/>\n<text text-anchor=\"middle\" x=\"379.5\" y=\"-41.7\" font-family=\"Times,serif\" font-size=\"14.00\">data 10.0000</text>\n<polyline fill=\"none\" stroke=\"black\" points=\"422.75,-29 422.75,-64.5\"/>\n<text text-anchor=\"middle\" x=\"463.38\" y=\"-41.7\" font-family=\"Times,serif\" font-size=\"14.00\">grad 0.0000</text>\n</g>\n<!-- 13204454752&#45;&gt;13204444864+ -->\n<g id=\"edge9\" class=\"edge\">\n<title>13204454752&#45;&gt;13204444864+</title>\n<path fill=\"none\" stroke=\"black\" d=\"M504.39,-62.83C513.16,-64.35 521.65,-65.82 529.37,-67.15\"/>\n<polygon fill=\"black\" stroke=\"black\" points=\"528.5,-70.56 538.95,-68.81 529.69,-63.66 528.5,-70.56\"/>\n</g>\n<!-- 13204445008 -->\n<g id=\"node10\" class=\"node\">\n<title>13204445008</title>\n<polygon fill=\"none\" stroke=\"black\" points=\"630,-0.5 630,-36.5 818.25,-36.5 818.25,-0.5 630,-0.5\"/>\n<text text-anchor=\"middle\" x=\"641.38\" y=\"-13.7\" font-family=\"Times,serif\" font-size=\"14.00\">d</text>\n<polyline fill=\"none\" stroke=\"black\" points=\"652.75,-1 652.75,-36.5\"/>\n<text text-anchor=\"middle\" x=\"694.88\" y=\"-13.7\" font-family=\"Times,serif\" font-size=\"14.00\">data &#45;1.9999</text>\n<polyline fill=\"none\" stroke=\"black\" points=\"737,-1 737,-36.5\"/>\n<text text-anchor=\"middle\" x=\"777.62\" y=\"-13.7\" font-family=\"Times,serif\" font-size=\"14.00\">grad 0.0000</text>\n</g>\n<!-- 13204445008&#45;&gt;13204444816* -->\n<g id=\"edge7\" class=\"edge\">\n<title>13204445008&#45;&gt;13204444816*</title>\n<path fill=\"none\" stroke=\"black\" d=\"M818.49,-34.75C827.27,-36.28 835.77,-37.76 843.51,-39.1\"/>\n<polygon fill=\"black\" stroke=\"black\" points=\"842.66,-42.51 853.11,-40.78 843.86,-35.61 842.66,-42.51\"/>\n</g>\n</g>\n</svg>\n",
      "text/plain": [
       "<graphviz.graphs.Digraph at 0x3130bdf00>"
      ]
     },
     "execution_count": 412,
     "metadata": {},
     "output_type": "execute_result"
    }
   ],
   "execution_count": 412
  },
  {
   "cell_type": "code",
   "metadata": {
    "ExecuteTime": {
     "end_time": "2024-12-11T12:09:26.944104Z",
     "start_time": "2024-12-11T12:09:26.866776Z"
    }
   },
   "source": [
    "# For f:\n",
    "\n",
    "dot, derivative = partial_using_lim(L, f)\n",
    "print(derivative)\n",
    "dot"
   ],
   "outputs": [
    {
     "name": "stdout",
     "output_type": "stream",
     "text": [
      "-1.9999999999953388\n"
     ]
    },
    {
     "data": {
      "image/svg+xml": "<?xml version=\"1.0\" encoding=\"UTF-8\" standalone=\"no\"?>\n<!DOCTYPE svg PUBLIC \"-//W3C//DTD SVG 1.1//EN\"\n \"http://www.w3.org/Graphics/SVG/1.1/DTD/svg11.dtd\">\n<!-- Generated by graphviz version 12.2.0 (20241103.1931)\n -->\n<!-- Pages: 1 -->\n<svg width=\"602pt\" height=\"100pt\"\n viewBox=\"0.00 0.00 602.00 100.00\" xmlns=\"http://www.w3.org/2000/svg\" xmlns:xlink=\"http://www.w3.org/1999/xlink\">\n<g id=\"graph0\" class=\"graph\" transform=\"scale(1 1) rotate(0) translate(4 96)\">\n<polygon fill=\"white\" stroke=\"none\" points=\"-4,4 -4,-96 598,-96 598,4 -4,4\"/>\n<!-- 13462554896 -->\n<g id=\"node1\" class=\"node\">\n<title>13462554896</title>\n<polygon fill=\"none\" stroke=\"black\" points=\"404.25,-27.5 404.25,-63.5 594,-63.5 594,-27.5 404.25,-27.5\"/>\n<text text-anchor=\"middle\" x=\"416.38\" y=\"-40.7\" font-family=\"Times,serif\" font-size=\"14.00\">L</text>\n<polyline fill=\"none\" stroke=\"black\" points=\"428.5,-28 428.5,-63.5\"/>\n<text text-anchor=\"middle\" x=\"470.62\" y=\"-40.7\" font-family=\"Times,serif\" font-size=\"14.00\">data &#45;8.0002</text>\n<polyline fill=\"none\" stroke=\"black\" points=\"512.75,-28 512.75,-63.5\"/>\n<text text-anchor=\"middle\" x=\"553.38\" y=\"-40.7\" font-family=\"Times,serif\" font-size=\"14.00\">grad 0.0000</text>\n</g>\n<!-- 13462554896* -->\n<g id=\"node2\" class=\"node\">\n<title>13462554896*</title>\n<ellipse fill=\"none\" stroke=\"black\" cx=\"341.25\" cy=\"-45.5\" rx=\"27\" ry=\"18\"/>\n<text text-anchor=\"middle\" x=\"341.25\" y=\"-40.45\" font-family=\"Times,serif\" font-size=\"14.00\">*</text>\n</g>\n<!-- 13462554896*&#45;&gt;13462554896 -->\n<g id=\"edge1\" class=\"edge\">\n<title>13462554896*&#45;&gt;13462554896</title>\n<path fill=\"none\" stroke=\"black\" d=\"M368.69,-45.5C375.84,-45.5 384.03,-45.5 392.74,-45.5\"/>\n<polygon fill=\"black\" stroke=\"black\" points=\"392.51,-49 402.51,-45.5 392.51,-42 392.51,-49\"/>\n</g>\n<!-- 13463058224 -->\n<g id=\"node3\" class=\"node\">\n<title>13463058224</title>\n<polygon fill=\"none\" stroke=\"black\" points=\"90,-55.5 90,-91.5 278.25,-91.5 278.25,-55.5 90,-55.5\"/>\n<text text-anchor=\"middle\" x=\"101.38\" y=\"-68.7\" font-family=\"Times,serif\" font-size=\"14.00\">d</text>\n<polyline fill=\"none\" stroke=\"black\" points=\"112.75,-56 112.75,-91.5\"/>\n<text text-anchor=\"middle\" x=\"154.88\" y=\"-68.7\" font-family=\"Times,serif\" font-size=\"14.00\">data &#45;2.0000</text>\n<polyline fill=\"none\" stroke=\"black\" points=\"197,-56 197,-91.5\"/>\n<text text-anchor=\"middle\" x=\"237.62\" y=\"-68.7\" font-family=\"Times,serif\" font-size=\"14.00\">grad 0.0000</text>\n</g>\n<!-- 13463058224&#45;&gt;13462554896* -->\n<g id=\"edge3\" class=\"edge\">\n<title>13463058224&#45;&gt;13462554896*</title>\n<path fill=\"none\" stroke=\"black\" d=\"M278.49,-56.65C287.36,-55.05 295.93,-53.5 303.73,-52.09\"/>\n<polygon fill=\"black\" stroke=\"black\" points=\"304.2,-55.56 313.42,-50.34 302.95,-48.68 304.2,-55.56\"/>\n</g>\n<!-- 13463058992 -->\n<g id=\"node4\" class=\"node\">\n<title>13463058992</title>\n<polygon fill=\"none\" stroke=\"black\" points=\"93.38,-0.5 93.38,-36.5 274.88,-36.5 274.88,-0.5 93.38,-0.5\"/>\n<text text-anchor=\"middle\" x=\"103.62\" y=\"-13.7\" font-family=\"Times,serif\" font-size=\"14.00\">f</text>\n<polyline fill=\"none\" stroke=\"black\" points=\"113.88,-1 113.88,-36.5\"/>\n<text text-anchor=\"middle\" x=\"153.75\" y=\"-13.7\" font-family=\"Times,serif\" font-size=\"14.00\">data 4.0001</text>\n<polyline fill=\"none\" stroke=\"black\" points=\"193.62,-1 193.62,-36.5\"/>\n<text text-anchor=\"middle\" x=\"234.25\" y=\"-13.7\" font-family=\"Times,serif\" font-size=\"14.00\">grad 0.0000</text>\n</g>\n<!-- 13463058992&#45;&gt;13462554896* -->\n<g id=\"edge4\" class=\"edge\">\n<title>13463058992&#45;&gt;13462554896*</title>\n<path fill=\"none\" stroke=\"black\" d=\"M275.36,-34.21C285.26,-35.93 294.87,-37.6 303.54,-39.11\"/>\n<polygon fill=\"black\" stroke=\"black\" points=\"302.76,-42.53 313.21,-40.79 303.96,-35.63 302.76,-42.53\"/>\n</g>\n<!-- 13463058992+ -->\n<g id=\"node5\" class=\"node\">\n<title>13463058992+</title>\n<ellipse fill=\"none\" stroke=\"black\" cx=\"27\" cy=\"-18.5\" rx=\"27\" ry=\"18\"/>\n<text text-anchor=\"middle\" x=\"27\" y=\"-13.45\" font-family=\"Times,serif\" font-size=\"14.00\">+</text>\n</g>\n<!-- 13463058992+&#45;&gt;13463058992 -->\n<g id=\"edge2\" class=\"edge\">\n<title>13463058992+&#45;&gt;13463058992</title>\n<path fill=\"none\" stroke=\"black\" d=\"M54.31,-18.5C62.35,-18.5 71.72,-18.5 81.67,-18.5\"/>\n<polygon fill=\"black\" stroke=\"black\" points=\"81.6,-22 91.6,-18.5 81.6,-15 81.6,-22\"/>\n</g>\n</g>\n</svg>\n",
      "text/plain": [
       "<graphviz.graphs.Digraph at 0x32275f0d0>"
      ]
     },
     "execution_count": 413,
     "metadata": {},
     "output_type": "execute_result"
    }
   ],
   "execution_count": 413
  },
  {
   "cell_type": "code",
   "metadata": {
    "ExecuteTime": {
     "end_time": "2024-12-11T12:09:27.026759Z",
     "start_time": "2024-12-11T12:09:26.952163Z"
    }
   },
   "source": [
    "d.grad = f.data # = -2\n",
    "f.grad = d.data # = 4\n",
    "draw_dot(L)"
   ],
   "outputs": [
    {
     "data": {
      "image/svg+xml": "<?xml version=\"1.0\" encoding=\"UTF-8\" standalone=\"no\"?>\n<!DOCTYPE svg PUBLIC \"-//W3C//DTD SVG 1.1//EN\"\n \"http://www.w3.org/Graphics/SVG/1.1/DTD/svg11.dtd\">\n<!-- Generated by graphviz version 12.2.0 (20241103.1931)\n -->\n<!-- Pages: 1 -->\n<svg width=\"1142pt\" height=\"156pt\"\n viewBox=\"0.00 0.00 1142.00 156.00\" xmlns=\"http://www.w3.org/2000/svg\" xmlns:xlink=\"http://www.w3.org/1999/xlink\">\n<g id=\"graph0\" class=\"graph\" transform=\"scale(1 1) rotate(0) translate(4 152)\">\n<polygon fill=\"white\" stroke=\"none\" points=\"-4,4 -4,-152 1138,-152 1138,4 -4,4\"/>\n<!-- 13463449328 -->\n<g id=\"node1\" class=\"node\">\n<title>13463449328</title>\n<polygon fill=\"none\" stroke=\"black\" points=\"2.62,-111.5 2.62,-147.5 185.62,-147.5 185.62,-111.5 2.62,-111.5\"/>\n<text text-anchor=\"middle\" x=\"13.62\" y=\"-124.7\" font-family=\"Times,serif\" font-size=\"14.00\">a</text>\n<polyline fill=\"none\" stroke=\"black\" points=\"24.62,-112 24.62,-147.5\"/>\n<text text-anchor=\"middle\" x=\"64.5\" y=\"-124.7\" font-family=\"Times,serif\" font-size=\"14.00\">data 2.0000</text>\n<polyline fill=\"none\" stroke=\"black\" points=\"104.38,-112 104.38,-147.5\"/>\n<text text-anchor=\"middle\" x=\"145\" y=\"-124.7\" font-family=\"Times,serif\" font-size=\"14.00\">grad 0.0000</text>\n</g>\n<!-- 13463443808* -->\n<g id=\"node8\" class=\"node\">\n<title>13463443808*</title>\n<ellipse fill=\"none\" stroke=\"black\" cx=\"251.25\" cy=\"-101.5\" rx=\"27\" ry=\"18\"/>\n<text text-anchor=\"middle\" x=\"251.25\" y=\"-96.45\" font-family=\"Times,serif\" font-size=\"14.00\">*</text>\n</g>\n<!-- 13463449328&#45;&gt;13463443808* -->\n<g id=\"edge5\" class=\"edge\">\n<title>13463449328&#45;&gt;13463443808*</title>\n<path fill=\"none\" stroke=\"black\" d=\"M185.81,-113.13C195.66,-111.35 205.21,-109.63 213.82,-108.08\"/>\n<polygon fill=\"black\" stroke=\"black\" points=\"214.19,-111.57 223.41,-106.34 212.95,-104.68 214.19,-111.57\"/>\n</g>\n<!-- 13463443712 -->\n<g id=\"node2\" class=\"node\">\n<title>13463443712</title>\n<polygon fill=\"none\" stroke=\"black\" points=\"944.25,-27.5 944.25,-63.5 1134,-63.5 1134,-27.5 944.25,-27.5\"/>\n<text text-anchor=\"middle\" x=\"956.38\" y=\"-40.7\" font-family=\"Times,serif\" font-size=\"14.00\">L</text>\n<polyline fill=\"none\" stroke=\"black\" points=\"968.5,-28 968.5,-63.5\"/>\n<text text-anchor=\"middle\" x=\"1010.62\" y=\"-40.7\" font-family=\"Times,serif\" font-size=\"14.00\">data &#45;8.0000</text>\n<polyline fill=\"none\" stroke=\"black\" points=\"1052.75,-28 1052.75,-63.5\"/>\n<text text-anchor=\"middle\" x=\"1093.38\" y=\"-40.7\" font-family=\"Times,serif\" font-size=\"14.00\">grad 1.0000</text>\n</g>\n<!-- 13463443712* -->\n<g id=\"node3\" class=\"node\">\n<title>13463443712*</title>\n<ellipse fill=\"none\" stroke=\"black\" cx=\"881.25\" cy=\"-45.5\" rx=\"27\" ry=\"18\"/>\n<text text-anchor=\"middle\" x=\"881.25\" y=\"-40.45\" font-family=\"Times,serif\" font-size=\"14.00\">*</text>\n</g>\n<!-- 13463443712*&#45;&gt;13463443712 -->\n<g id=\"edge1\" class=\"edge\">\n<title>13463443712*&#45;&gt;13463443712</title>\n<path fill=\"none\" stroke=\"black\" d=\"M908.69,-45.5C915.84,-45.5 924.03,-45.5 932.74,-45.5\"/>\n<polygon fill=\"black\" stroke=\"black\" points=\"932.51,-49 942.51,-45.5 932.51,-42 932.51,-49\"/>\n</g>\n<!-- 13463452976 -->\n<g id=\"node4\" class=\"node\">\n<title>13463452976</title>\n<polygon fill=\"none\" stroke=\"black\" points=\"631.12,-55.5 631.12,-91.5 817.12,-91.5 817.12,-55.5 631.12,-55.5\"/>\n<text text-anchor=\"middle\" x=\"641.38\" y=\"-68.7\" font-family=\"Times,serif\" font-size=\"14.00\">f</text>\n<polyline fill=\"none\" stroke=\"black\" points=\"651.62,-56 651.62,-91.5\"/>\n<text text-anchor=\"middle\" x=\"691.5\" y=\"-68.7\" font-family=\"Times,serif\" font-size=\"14.00\">data 4.0000</text>\n<polyline fill=\"none\" stroke=\"black\" points=\"731.38,-56 731.38,-91.5\"/>\n<text text-anchor=\"middle\" x=\"774.25\" y=\"-68.7\" font-family=\"Times,serif\" font-size=\"14.00\">grad &#45;2.0000</text>\n</g>\n<!-- 13463452976&#45;&gt;13463443712* -->\n<g id=\"edge7\" class=\"edge\">\n<title>13463452976&#45;&gt;13463443712*</title>\n<path fill=\"none\" stroke=\"black\" d=\"M817.6,-56.81C826.76,-55.16 835.62,-53.56 843.67,-52.1\"/>\n<polygon fill=\"black\" stroke=\"black\" points=\"844.09,-55.58 853.31,-50.36 842.84,-48.7 844.09,-55.58\"/>\n</g>\n<!-- 13463452976+ -->\n<g id=\"node5\" class=\"node\">\n<title>13463452976+</title>\n<ellipse fill=\"none\" stroke=\"black\" cx=\"567\" cy=\"-73.5\" rx=\"27\" ry=\"18\"/>\n<text text-anchor=\"middle\" x=\"567\" y=\"-68.45\" font-family=\"Times,serif\" font-size=\"14.00\">+</text>\n</g>\n<!-- 13463452976+&#45;&gt;13463452976 -->\n<g id=\"edge2\" class=\"edge\">\n<title>13463452976+&#45;&gt;13463452976</title>\n<path fill=\"none\" stroke=\"black\" d=\"M594.31,-73.5C601.75,-73.5 610.32,-73.5 619.44,-73.5\"/>\n<polygon fill=\"black\" stroke=\"black\" points=\"619.28,-77 629.28,-73.5 619.28,-70 619.28,-77\"/>\n</g>\n<!-- 13463446352 -->\n<g id=\"node6\" class=\"node\">\n<title>13463446352</title>\n<polygon fill=\"none\" stroke=\"black\" points=\"0,-56.5 0,-92.5 188.25,-92.5 188.25,-56.5 0,-56.5\"/>\n<text text-anchor=\"middle\" x=\"11.38\" y=\"-69.7\" font-family=\"Times,serif\" font-size=\"14.00\">b</text>\n<polyline fill=\"none\" stroke=\"black\" points=\"22.75,-57 22.75,-92.5\"/>\n<text text-anchor=\"middle\" x=\"64.88\" y=\"-69.7\" font-family=\"Times,serif\" font-size=\"14.00\">data &#45;3.0000</text>\n<polyline fill=\"none\" stroke=\"black\" points=\"107,-57 107,-92.5\"/>\n<text text-anchor=\"middle\" x=\"147.62\" y=\"-69.7\" font-family=\"Times,serif\" font-size=\"14.00\">grad 0.0000</text>\n</g>\n<!-- 13463446352&#45;&gt;13463443808* -->\n<g id=\"edge6\" class=\"edge\">\n<title>13463446352&#45;&gt;13463443808*</title>\n<path fill=\"none\" stroke=\"black\" d=\"M188.49,-90.75C197.27,-92.28 205.77,-93.76 213.51,-95.1\"/>\n<polygon fill=\"black\" stroke=\"black\" points=\"212.66,-98.51 223.11,-96.78 213.86,-91.61 212.66,-98.51\"/>\n</g>\n<!-- 13463443808 -->\n<g id=\"node7\" class=\"node\">\n<title>13463443808</title>\n<polygon fill=\"none\" stroke=\"black\" points=\"315.38,-83.5 315.38,-119.5 502.88,-119.5 502.88,-83.5 315.38,-83.5\"/>\n<text text-anchor=\"middle\" x=\"326.38\" y=\"-96.7\" font-family=\"Times,serif\" font-size=\"14.00\">e</text>\n<polyline fill=\"none\" stroke=\"black\" points=\"337.38,-84 337.38,-119.5\"/>\n<text text-anchor=\"middle\" x=\"379.5\" y=\"-96.7\" font-family=\"Times,serif\" font-size=\"14.00\">data &#45;6.0000</text>\n<polyline fill=\"none\" stroke=\"black\" points=\"421.62,-84 421.62,-119.5\"/>\n<text text-anchor=\"middle\" x=\"462.25\" y=\"-96.7\" font-family=\"Times,serif\" font-size=\"14.00\">grad 0.0000</text>\n</g>\n<!-- 13463443808&#45;&gt;13463452976+ -->\n<g id=\"edge4\" class=\"edge\">\n<title>13463443808&#45;&gt;13463452976+</title>\n<path fill=\"none\" stroke=\"black\" d=\"M503.05,-84.81C512.25,-83.16 521.16,-81.56 529.24,-80.1\"/>\n<polygon fill=\"black\" stroke=\"black\" points=\"529.71,-83.58 538.93,-78.36 528.47,-76.69 529.71,-83.58\"/>\n</g>\n<!-- 13463443808*&#45;&gt;13463443808 -->\n<g id=\"edge3\" class=\"edge\">\n<title>13463443808*&#45;&gt;13463443808</title>\n<path fill=\"none\" stroke=\"black\" d=\"M278.69,-101.5C286.1,-101.5 294.64,-101.5 303.71,-101.5\"/>\n<polygon fill=\"black\" stroke=\"black\" points=\"303.51,-105 313.51,-101.5 303.51,-98 303.51,-105\"/>\n</g>\n<!-- 13463440352 -->\n<g id=\"node9\" class=\"node\">\n<title>13463440352</title>\n<polygon fill=\"none\" stroke=\"black\" points=\"630,-0.5 630,-36.5 818.25,-36.5 818.25,-0.5 630,-0.5\"/>\n<text text-anchor=\"middle\" x=\"641.38\" y=\"-13.7\" font-family=\"Times,serif\" font-size=\"14.00\">d</text>\n<polyline fill=\"none\" stroke=\"black\" points=\"652.75,-1 652.75,-36.5\"/>\n<text text-anchor=\"middle\" x=\"694.88\" y=\"-13.7\" font-family=\"Times,serif\" font-size=\"14.00\">data &#45;2.0000</text>\n<polyline fill=\"none\" stroke=\"black\" points=\"737,-1 737,-36.5\"/>\n<text text-anchor=\"middle\" x=\"777.62\" y=\"-13.7\" font-family=\"Times,serif\" font-size=\"14.00\">grad 4.0000</text>\n</g>\n<!-- 13463440352&#45;&gt;13463443712* -->\n<g id=\"edge8\" class=\"edge\">\n<title>13463440352&#45;&gt;13463443712*</title>\n<path fill=\"none\" stroke=\"black\" d=\"M818.49,-34.75C827.27,-36.28 835.77,-37.76 843.51,-39.1\"/>\n<polygon fill=\"black\" stroke=\"black\" points=\"842.66,-42.51 853.11,-40.78 843.86,-35.61 842.66,-42.51\"/>\n</g>\n<!-- 13463453168 -->\n<g id=\"node10\" class=\"node\">\n<title>13463453168</title>\n<polygon fill=\"none\" stroke=\"black\" points=\"314.25,-28.5 314.25,-64.5 504,-64.5 504,-28.5 314.25,-28.5\"/>\n<text text-anchor=\"middle\" x=\"325.25\" y=\"-41.7\" font-family=\"Times,serif\" font-size=\"14.00\">c</text>\n<polyline fill=\"none\" stroke=\"black\" points=\"336.25,-29 336.25,-64.5\"/>\n<text text-anchor=\"middle\" x=\"379.5\" y=\"-41.7\" font-family=\"Times,serif\" font-size=\"14.00\">data 10.0000</text>\n<polyline fill=\"none\" stroke=\"black\" points=\"422.75,-29 422.75,-64.5\"/>\n<text text-anchor=\"middle\" x=\"463.38\" y=\"-41.7\" font-family=\"Times,serif\" font-size=\"14.00\">grad 0.0000</text>\n</g>\n<!-- 13463453168&#45;&gt;13463452976+ -->\n<g id=\"edge9\" class=\"edge\">\n<title>13463453168&#45;&gt;13463452976+</title>\n<path fill=\"none\" stroke=\"black\" d=\"M504.39,-62.83C513.16,-64.35 521.65,-65.82 529.37,-67.15\"/>\n<polygon fill=\"black\" stroke=\"black\" points=\"528.5,-70.56 538.95,-68.81 529.69,-63.66 528.5,-70.56\"/>\n</g>\n</g>\n</svg>\n",
      "text/plain": [
       "<graphviz.graphs.Digraph at 0x3226fff70>"
      ]
     },
     "execution_count": 414,
     "metadata": {},
     "output_type": "execute_result"
    }
   ],
   "execution_count": 414
  },
  {
   "cell_type": "markdown",
   "metadata": {},
   "source": [
    "### Backpropagation Step 3: **c** & **e**"
   ]
  },
  {
   "metadata": {},
   "cell_type": "markdown",
   "source": ""
  },
  {
   "cell_type": "markdown",
   "metadata": {},
   "source": [
    "In order to find the derivative $\\frac{\\partial L}{\\partial e}$, we will first calculate the partial derivative $\\frac{\\partial f}{\\partial e}$.\n",
    "\n",
    "Since we know that $f(e, c) = e + c$, we can simply derive f as\n",
    "\n",
    "$$\\frac{\\partial f}{\\partial e} = 1$$"
   ]
  },
  {
   "cell_type": "code",
   "metadata": {
    "ExecuteTime": {
     "end_time": "2024-12-11T12:09:27.110087Z",
     "start_time": "2024-12-11T12:09:27.035589Z"
    }
   },
   "source": [
    "dot, derivative = partial_using_lim(f, e)\n",
    "print(derivative)\n",
    "dot"
   ],
   "outputs": [
    {
     "name": "stdout",
     "output_type": "stream",
     "text": [
      "0.9999999999976694\n"
     ]
    },
    {
     "data": {
      "image/svg+xml": "<?xml version=\"1.0\" encoding=\"UTF-8\" standalone=\"no\"?>\n<!DOCTYPE svg PUBLIC \"-//W3C//DTD SVG 1.1//EN\"\n \"http://www.w3.org/Graphics/SVG/1.1/DTD/svg11.dtd\">\n<!-- Generated by graphviz version 12.2.0 (20241103.1931)\n -->\n<!-- Pages: 1 -->\n<svg width=\"595pt\" height=\"100pt\"\n viewBox=\"0.00 0.00 595.25 100.00\" xmlns=\"http://www.w3.org/2000/svg\" xmlns:xlink=\"http://www.w3.org/1999/xlink\">\n<g id=\"graph0\" class=\"graph\" transform=\"scale(1 1) rotate(0) translate(4 96)\">\n<polygon fill=\"white\" stroke=\"none\" points=\"-4,4 -4,-96 591.25,-96 591.25,4 -4,4\"/>\n<!-- 13462667168 -->\n<g id=\"node1\" class=\"node\">\n<title>13462667168</title>\n<polygon fill=\"none\" stroke=\"black\" points=\"405.75,-27.5 405.75,-63.5 587.25,-63.5 587.25,-27.5 405.75,-27.5\"/>\n<text text-anchor=\"middle\" x=\"416\" y=\"-40.7\" font-family=\"Times,serif\" font-size=\"14.00\">f</text>\n<polyline fill=\"none\" stroke=\"black\" points=\"426.25,-28 426.25,-63.5\"/>\n<text text-anchor=\"middle\" x=\"466.12\" y=\"-40.7\" font-family=\"Times,serif\" font-size=\"14.00\">data 4.0001</text>\n<polyline fill=\"none\" stroke=\"black\" points=\"506,-28 506,-63.5\"/>\n<text text-anchor=\"middle\" x=\"546.62\" y=\"-40.7\" font-family=\"Times,serif\" font-size=\"14.00\">grad 0.0000</text>\n</g>\n<!-- 13462667168+ -->\n<g id=\"node2\" class=\"node\">\n<title>13462667168+</title>\n<ellipse fill=\"none\" stroke=\"black\" cx=\"342.75\" cy=\"-45.5\" rx=\"27\" ry=\"18\"/>\n<text text-anchor=\"middle\" x=\"342.75\" y=\"-40.45\" font-family=\"Times,serif\" font-size=\"14.00\">+</text>\n</g>\n<!-- 13462667168+&#45;&gt;13462667168 -->\n<g id=\"edge1\" class=\"edge\">\n<title>13462667168+&#45;&gt;13462667168</title>\n<path fill=\"none\" stroke=\"black\" d=\"M370.18,-45.5C377.35,-45.5 385.55,-45.5 394.26,-45.5\"/>\n<polygon fill=\"black\" stroke=\"black\" points=\"394.01,-49 404.01,-45.5 394.01,-42 394.01,-49\"/>\n</g>\n<!-- 13462667072 -->\n<g id=\"node3\" class=\"node\">\n<title>13462667072</title>\n<polygon fill=\"none\" stroke=\"black\" points=\"90,-55.5 90,-91.5 279.75,-91.5 279.75,-55.5 90,-55.5\"/>\n<text text-anchor=\"middle\" x=\"101\" y=\"-68.7\" font-family=\"Times,serif\" font-size=\"14.00\">c</text>\n<polyline fill=\"none\" stroke=\"black\" points=\"112,-56 112,-91.5\"/>\n<text text-anchor=\"middle\" x=\"155.25\" y=\"-68.7\" font-family=\"Times,serif\" font-size=\"14.00\">data 10.0000</text>\n<polyline fill=\"none\" stroke=\"black\" points=\"198.5,-56 198.5,-91.5\"/>\n<text text-anchor=\"middle\" x=\"239.12\" y=\"-68.7\" font-family=\"Times,serif\" font-size=\"14.00\">grad 0.0000</text>\n</g>\n<!-- 13462667072&#45;&gt;13462667168+ -->\n<g id=\"edge4\" class=\"edge\">\n<title>13462667072&#45;&gt;13462667168+</title>\n<path fill=\"none\" stroke=\"black\" d=\"M280.14,-56.57C288.91,-54.99 297.4,-53.47 305.12,-52.08\"/>\n<polygon fill=\"black\" stroke=\"black\" points=\"305.48,-55.57 314.7,-50.36 304.24,-48.68 305.48,-55.57\"/>\n</g>\n<!-- 13462664672 -->\n<g id=\"node4\" class=\"node\">\n<title>13462664672</title>\n<polygon fill=\"none\" stroke=\"black\" points=\"91.12,-0.5 91.12,-36.5 278.62,-36.5 278.62,-0.5 91.12,-0.5\"/>\n<text text-anchor=\"middle\" x=\"102.12\" y=\"-13.7\" font-family=\"Times,serif\" font-size=\"14.00\">e</text>\n<polyline fill=\"none\" stroke=\"black\" points=\"113.12,-1 113.12,-36.5\"/>\n<text text-anchor=\"middle\" x=\"155.25\" y=\"-13.7\" font-family=\"Times,serif\" font-size=\"14.00\">data &#45;5.9999</text>\n<polyline fill=\"none\" stroke=\"black\" points=\"197.38,-1 197.38,-36.5\"/>\n<text text-anchor=\"middle\" x=\"238\" y=\"-13.7\" font-family=\"Times,serif\" font-size=\"14.00\">grad 0.0000</text>\n</g>\n<!-- 13462664672&#45;&gt;13462667168+ -->\n<g id=\"edge3\" class=\"edge\">\n<title>13462664672&#45;&gt;13462667168+</title>\n<path fill=\"none\" stroke=\"black\" d=\"M278.8,-34.6C288,-36.19 296.91,-37.73 304.99,-39.13\"/>\n<polygon fill=\"black\" stroke=\"black\" points=\"304.23,-42.55 314.68,-40.81 305.43,-35.66 304.23,-42.55\"/>\n</g>\n<!-- 13462664672* -->\n<g id=\"node5\" class=\"node\">\n<title>13462664672*</title>\n<ellipse fill=\"none\" stroke=\"black\" cx=\"27\" cy=\"-18.5\" rx=\"27\" ry=\"18\"/>\n<text text-anchor=\"middle\" x=\"27\" y=\"-13.45\" font-family=\"Times,serif\" font-size=\"14.00\">*</text>\n</g>\n<!-- 13462664672*&#45;&gt;13462664672 -->\n<g id=\"edge2\" class=\"edge\">\n<title>13462664672*&#45;&gt;13462664672</title>\n<path fill=\"none\" stroke=\"black\" d=\"M54.44,-18.5C61.85,-18.5 70.39,-18.5 79.46,-18.5\"/>\n<polygon fill=\"black\" stroke=\"black\" points=\"79.26,-22 89.26,-18.5 79.26,-15 79.26,-22\"/>\n</g>\n</g>\n</svg>\n",
      "text/plain": [
       "<graphviz.graphs.Digraph at 0x3226ff820>"
      ]
     },
     "execution_count": 415,
     "metadata": {},
     "output_type": "execute_result"
    }
   ],
   "execution_count": 415
  },
  {
   "metadata": {},
   "cell_type": "markdown",
   "source": [
    "The same goes for $c$:\n",
    "$$\\frac{ \\partial f }{ c } = 1$$"
   ]
  },
  {
   "metadata": {
    "ExecuteTime": {
     "end_time": "2024-12-11T12:09:27.190203Z",
     "start_time": "2024-12-11T12:09:27.119331Z"
    }
   },
   "cell_type": "code",
   "source": [
    "dot, derivative = partial_using_lim(f, c)\n",
    "print(derivative)\n",
    "dot"
   ],
   "outputs": [
    {
     "name": "stdout",
     "output_type": "stream",
     "text": [
      "0.9999999999976694\n"
     ]
    },
    {
     "data": {
      "image/svg+xml": "<?xml version=\"1.0\" encoding=\"UTF-8\" standalone=\"no\"?>\n<!DOCTYPE svg PUBLIC \"-//W3C//DTD SVG 1.1//EN\"\n \"http://www.w3.org/Graphics/SVG/1.1/DTD/svg11.dtd\">\n<!-- Generated by graphviz version 12.2.0 (20241103.1931)\n -->\n<!-- Pages: 1 -->\n<svg width=\"820pt\" height=\"128pt\"\n viewBox=\"0.00 0.00 819.50 128.00\" xmlns=\"http://www.w3.org/2000/svg\" xmlns:xlink=\"http://www.w3.org/1999/xlink\">\n<g id=\"graph0\" class=\"graph\" transform=\"scale(1 1) rotate(0) translate(4 124)\">\n<polygon fill=\"white\" stroke=\"none\" points=\"-4,4 -4,-124 815.5,-124 815.5,4 -4,4\"/>\n<!-- 13463059616 -->\n<g id=\"node1\" class=\"node\">\n<title>13463059616</title>\n<polygon fill=\"none\" stroke=\"black\" points=\"630,-27.5 630,-63.5 811.5,-63.5 811.5,-27.5 630,-27.5\"/>\n<text text-anchor=\"middle\" x=\"640.25\" y=\"-40.7\" font-family=\"Times,serif\" font-size=\"14.00\">f</text>\n<polyline fill=\"none\" stroke=\"black\" points=\"650.5,-28 650.5,-63.5\"/>\n<text text-anchor=\"middle\" x=\"690.38\" y=\"-40.7\" font-family=\"Times,serif\" font-size=\"14.00\">data 4.0001</text>\n<polyline fill=\"none\" stroke=\"black\" points=\"730.25,-28 730.25,-63.5\"/>\n<text text-anchor=\"middle\" x=\"770.88\" y=\"-40.7\" font-family=\"Times,serif\" font-size=\"14.00\">grad 0.0000</text>\n</g>\n<!-- 13463059616+ -->\n<g id=\"node2\" class=\"node\">\n<title>13463059616+</title>\n<ellipse fill=\"none\" stroke=\"black\" cx=\"567\" cy=\"-45.5\" rx=\"27\" ry=\"18\"/>\n<text text-anchor=\"middle\" x=\"567\" y=\"-40.45\" font-family=\"Times,serif\" font-size=\"14.00\">+</text>\n</g>\n<!-- 13463059616+&#45;&gt;13463059616 -->\n<g id=\"edge1\" class=\"edge\">\n<title>13463059616+&#45;&gt;13463059616</title>\n<path fill=\"none\" stroke=\"black\" d=\"M594.43,-45.5C601.6,-45.5 609.8,-45.5 618.51,-45.5\"/>\n<polygon fill=\"black\" stroke=\"black\" points=\"618.26,-49 628.26,-45.5 618.26,-42 618.26,-49\"/>\n</g>\n<!-- 13463059136 -->\n<g id=\"node3\" class=\"node\">\n<title>13463059136</title>\n<polygon fill=\"none\" stroke=\"black\" points=\"315.38,-55.5 315.38,-91.5 502.88,-91.5 502.88,-55.5 315.38,-55.5\"/>\n<text text-anchor=\"middle\" x=\"326.38\" y=\"-68.7\" font-family=\"Times,serif\" font-size=\"14.00\">e</text>\n<polyline fill=\"none\" stroke=\"black\" points=\"337.38,-56 337.38,-91.5\"/>\n<text text-anchor=\"middle\" x=\"379.5\" y=\"-68.7\" font-family=\"Times,serif\" font-size=\"14.00\">data &#45;6.0000</text>\n<polyline fill=\"none\" stroke=\"black\" points=\"421.62,-56 421.62,-91.5\"/>\n<text text-anchor=\"middle\" x=\"462.25\" y=\"-68.7\" font-family=\"Times,serif\" font-size=\"14.00\">grad 0.0000</text>\n</g>\n<!-- 13463059136&#45;&gt;13463059616+ -->\n<g id=\"edge6\" class=\"edge\">\n<title>13463059136&#45;&gt;13463059616+</title>\n<path fill=\"none\" stroke=\"black\" d=\"M503.05,-56.81C512.25,-55.16 521.16,-53.56 529.24,-52.1\"/>\n<polygon fill=\"black\" stroke=\"black\" points=\"529.71,-55.58 538.93,-50.36 528.47,-48.69 529.71,-55.58\"/>\n</g>\n<!-- 13463059136* -->\n<g id=\"node4\" class=\"node\">\n<title>13463059136*</title>\n<ellipse fill=\"none\" stroke=\"black\" cx=\"251.25\" cy=\"-73.5\" rx=\"27\" ry=\"18\"/>\n<text text-anchor=\"middle\" x=\"251.25\" y=\"-68.45\" font-family=\"Times,serif\" font-size=\"14.00\">*</text>\n</g>\n<!-- 13463059136*&#45;&gt;13463059136 -->\n<g id=\"edge2\" class=\"edge\">\n<title>13463059136*&#45;&gt;13463059136</title>\n<path fill=\"none\" stroke=\"black\" d=\"M278.69,-73.5C286.1,-73.5 294.64,-73.5 303.71,-73.5\"/>\n<polygon fill=\"black\" stroke=\"black\" points=\"303.51,-77 313.51,-73.5 303.51,-70 303.51,-77\"/>\n</g>\n<!-- 13463058704 -->\n<g id=\"node5\" class=\"node\">\n<title>13463058704</title>\n<polygon fill=\"none\" stroke=\"black\" points=\"2.62,-83.5 2.62,-119.5 185.62,-119.5 185.62,-83.5 2.62,-83.5\"/>\n<text text-anchor=\"middle\" x=\"13.62\" y=\"-96.7\" font-family=\"Times,serif\" font-size=\"14.00\">a</text>\n<polyline fill=\"none\" stroke=\"black\" points=\"24.62,-84 24.62,-119.5\"/>\n<text text-anchor=\"middle\" x=\"64.5\" y=\"-96.7\" font-family=\"Times,serif\" font-size=\"14.00\">data 2.0000</text>\n<polyline fill=\"none\" stroke=\"black\" points=\"104.38,-84 104.38,-119.5\"/>\n<text text-anchor=\"middle\" x=\"145\" y=\"-96.7\" font-family=\"Times,serif\" font-size=\"14.00\">grad 0.0000</text>\n</g>\n<!-- 13463058704&#45;&gt;13463059136* -->\n<g id=\"edge5\" class=\"edge\">\n<title>13463058704&#45;&gt;13463059136*</title>\n<path fill=\"none\" stroke=\"black\" d=\"M185.81,-85.13C195.66,-83.35 205.21,-81.63 213.82,-80.08\"/>\n<polygon fill=\"black\" stroke=\"black\" points=\"214.19,-83.57 223.41,-78.34 212.95,-76.68 214.19,-83.57\"/>\n</g>\n<!-- 13463058896 -->\n<g id=\"node6\" class=\"node\">\n<title>13463058896</title>\n<polygon fill=\"none\" stroke=\"black\" points=\"0,-28.5 0,-64.5 188.25,-64.5 188.25,-28.5 0,-28.5\"/>\n<text text-anchor=\"middle\" x=\"11.38\" y=\"-41.7\" font-family=\"Times,serif\" font-size=\"14.00\">b</text>\n<polyline fill=\"none\" stroke=\"black\" points=\"22.75,-29 22.75,-64.5\"/>\n<text text-anchor=\"middle\" x=\"64.88\" y=\"-41.7\" font-family=\"Times,serif\" font-size=\"14.00\">data &#45;3.0000</text>\n<polyline fill=\"none\" stroke=\"black\" points=\"107,-29 107,-64.5\"/>\n<text text-anchor=\"middle\" x=\"147.62\" y=\"-41.7\" font-family=\"Times,serif\" font-size=\"14.00\">grad 0.0000</text>\n</g>\n<!-- 13463058896&#45;&gt;13463059136* -->\n<g id=\"edge3\" class=\"edge\">\n<title>13463058896&#45;&gt;13463059136*</title>\n<path fill=\"none\" stroke=\"black\" d=\"M188.49,-62.75C197.27,-64.28 205.77,-65.76 213.51,-67.1\"/>\n<polygon fill=\"black\" stroke=\"black\" points=\"212.66,-70.51 223.11,-68.78 213.86,-63.61 212.66,-70.51\"/>\n</g>\n<!-- 13463059424 -->\n<g id=\"node7\" class=\"node\">\n<title>13463059424</title>\n<polygon fill=\"none\" stroke=\"black\" points=\"314.25,-0.5 314.25,-36.5 504,-36.5 504,-0.5 314.25,-0.5\"/>\n<text text-anchor=\"middle\" x=\"325.25\" y=\"-13.7\" font-family=\"Times,serif\" font-size=\"14.00\">c</text>\n<polyline fill=\"none\" stroke=\"black\" points=\"336.25,-1 336.25,-36.5\"/>\n<text text-anchor=\"middle\" x=\"379.5\" y=\"-13.7\" font-family=\"Times,serif\" font-size=\"14.00\">data 10.0001</text>\n<polyline fill=\"none\" stroke=\"black\" points=\"422.75,-1 422.75,-36.5\"/>\n<text text-anchor=\"middle\" x=\"463.38\" y=\"-13.7\" font-family=\"Times,serif\" font-size=\"14.00\">grad 0.0000</text>\n</g>\n<!-- 13463059424&#45;&gt;13463059616+ -->\n<g id=\"edge4\" class=\"edge\">\n<title>13463059424&#45;&gt;13463059616+</title>\n<path fill=\"none\" stroke=\"black\" d=\"M504.39,-34.83C513.16,-36.35 521.65,-37.82 529.37,-39.15\"/>\n<polygon fill=\"black\" stroke=\"black\" points=\"528.5,-42.56 538.95,-40.81 529.69,-35.66 528.5,-42.56\"/>\n</g>\n</g>\n</svg>\n",
      "text/plain": [
       "<graphviz.graphs.Digraph at 0x32275fa60>"
      ]
     },
     "execution_count": 416,
     "metadata": {},
     "output_type": "execute_result"
    }
   ],
   "execution_count": 416
  },
  {
   "metadata": {},
   "cell_type": "markdown",
   "source": [
    "#### Chain Rule\n",
    "\n",
    "$$\\frac{\\partial y}{\\partial x} = \\frac{\\partial y}{\\partial u} \\frac{\\partial u}{\\partial x}$$\n"
   ]
  },
  {
   "metadata": {},
   "cell_type": "markdown",
   "source": [
    "Therefore we can simply calculate $\\frac{\\partial L}{\\partial c}$ and $\\frac{\\partial L}{\\partial e}$ with the chain rule:\n",
    "\n",
    "$$\\frac{\\partial L}{\\partial c} = \\frac{\\partial L}{\\partial f} \\frac{\\partial f}{\\partial c} = -2 \\times 1 = -2$$\n",
    "$$\\frac{\\partial L}{\\partial e} = \\frac{\\partial L}{\\partial f} \\frac{\\partial f}{\\partial e} = -2 \\times 1 = -2$$\n",
    "\n",
    "\n"
   ]
  },
  {
   "metadata": {
    "ExecuteTime": {
     "end_time": "2024-12-11T12:09:27.271846Z",
     "start_time": "2024-12-11T12:09:27.198482Z"
    }
   },
   "cell_type": "code",
   "source": [
    "# Applying the gradients:\n",
    "c.grad = e.grad = -2.0\n",
    "draw_dot(L)"
   ],
   "outputs": [
    {
     "data": {
      "image/svg+xml": "<?xml version=\"1.0\" encoding=\"UTF-8\" standalone=\"no\"?>\n<!DOCTYPE svg PUBLIC \"-//W3C//DTD SVG 1.1//EN\"\n \"http://www.w3.org/Graphics/SVG/1.1/DTD/svg11.dtd\">\n<!-- Generated by graphviz version 12.2.0 (20241103.1931)\n -->\n<!-- Pages: 1 -->\n<svg width=\"1147pt\" height=\"156pt\"\n viewBox=\"0.00 0.00 1146.50 156.00\" xmlns=\"http://www.w3.org/2000/svg\" xmlns:xlink=\"http://www.w3.org/1999/xlink\">\n<g id=\"graph0\" class=\"graph\" transform=\"scale(1 1) rotate(0) translate(4 152)\">\n<polygon fill=\"white\" stroke=\"none\" points=\"-4,4 -4,-152 1142.5,-152 1142.5,4 -4,4\"/>\n<!-- 13463449328 -->\n<g id=\"node1\" class=\"node\">\n<title>13463449328</title>\n<polygon fill=\"none\" stroke=\"black\" points=\"2.62,-111.5 2.62,-147.5 185.62,-147.5 185.62,-111.5 2.62,-111.5\"/>\n<text text-anchor=\"middle\" x=\"13.62\" y=\"-124.7\" font-family=\"Times,serif\" font-size=\"14.00\">a</text>\n<polyline fill=\"none\" stroke=\"black\" points=\"24.62,-112 24.62,-147.5\"/>\n<text text-anchor=\"middle\" x=\"64.5\" y=\"-124.7\" font-family=\"Times,serif\" font-size=\"14.00\">data 2.0000</text>\n<polyline fill=\"none\" stroke=\"black\" points=\"104.38,-112 104.38,-147.5\"/>\n<text text-anchor=\"middle\" x=\"145\" y=\"-124.7\" font-family=\"Times,serif\" font-size=\"14.00\">grad 0.0000</text>\n</g>\n<!-- 13463443808* -->\n<g id=\"node8\" class=\"node\">\n<title>13463443808*</title>\n<ellipse fill=\"none\" stroke=\"black\" cx=\"251.25\" cy=\"-101.5\" rx=\"27\" ry=\"18\"/>\n<text text-anchor=\"middle\" x=\"251.25\" y=\"-96.45\" font-family=\"Times,serif\" font-size=\"14.00\">*</text>\n</g>\n<!-- 13463449328&#45;&gt;13463443808* -->\n<g id=\"edge5\" class=\"edge\">\n<title>13463449328&#45;&gt;13463443808*</title>\n<path fill=\"none\" stroke=\"black\" d=\"M185.81,-113.13C195.66,-111.35 205.21,-109.63 213.82,-108.08\"/>\n<polygon fill=\"black\" stroke=\"black\" points=\"214.19,-111.57 223.41,-106.34 212.95,-104.68 214.19,-111.57\"/>\n</g>\n<!-- 13463443712 -->\n<g id=\"node2\" class=\"node\">\n<title>13463443712</title>\n<polygon fill=\"none\" stroke=\"black\" points=\"948.75,-27.5 948.75,-63.5 1138.5,-63.5 1138.5,-27.5 948.75,-27.5\"/>\n<text text-anchor=\"middle\" x=\"960.88\" y=\"-40.7\" font-family=\"Times,serif\" font-size=\"14.00\">L</text>\n<polyline fill=\"none\" stroke=\"black\" points=\"973,-28 973,-63.5\"/>\n<text text-anchor=\"middle\" x=\"1015.12\" y=\"-40.7\" font-family=\"Times,serif\" font-size=\"14.00\">data &#45;8.0000</text>\n<polyline fill=\"none\" stroke=\"black\" points=\"1057.25,-28 1057.25,-63.5\"/>\n<text text-anchor=\"middle\" x=\"1097.88\" y=\"-40.7\" font-family=\"Times,serif\" font-size=\"14.00\">grad 1.0000</text>\n</g>\n<!-- 13463443712* -->\n<g id=\"node3\" class=\"node\">\n<title>13463443712*</title>\n<ellipse fill=\"none\" stroke=\"black\" cx=\"885.75\" cy=\"-45.5\" rx=\"27\" ry=\"18\"/>\n<text text-anchor=\"middle\" x=\"885.75\" y=\"-40.45\" font-family=\"Times,serif\" font-size=\"14.00\">*</text>\n</g>\n<!-- 13463443712*&#45;&gt;13463443712 -->\n<g id=\"edge1\" class=\"edge\">\n<title>13463443712*&#45;&gt;13463443712</title>\n<path fill=\"none\" stroke=\"black\" d=\"M913.19,-45.5C920.34,-45.5 928.53,-45.5 937.24,-45.5\"/>\n<polygon fill=\"black\" stroke=\"black\" points=\"937.01,-49 947.01,-45.5 937.01,-42 937.01,-49\"/>\n</g>\n<!-- 13463452976 -->\n<g id=\"node4\" class=\"node\">\n<title>13463452976</title>\n<polygon fill=\"none\" stroke=\"black\" points=\"635.62,-55.5 635.62,-91.5 821.62,-91.5 821.62,-55.5 635.62,-55.5\"/>\n<text text-anchor=\"middle\" x=\"645.88\" y=\"-68.7\" font-family=\"Times,serif\" font-size=\"14.00\">f</text>\n<polyline fill=\"none\" stroke=\"black\" points=\"656.12,-56 656.12,-91.5\"/>\n<text text-anchor=\"middle\" x=\"696\" y=\"-68.7\" font-family=\"Times,serif\" font-size=\"14.00\">data 4.0000</text>\n<polyline fill=\"none\" stroke=\"black\" points=\"735.88,-56 735.88,-91.5\"/>\n<text text-anchor=\"middle\" x=\"778.75\" y=\"-68.7\" font-family=\"Times,serif\" font-size=\"14.00\">grad &#45;2.0000</text>\n</g>\n<!-- 13463452976&#45;&gt;13463443712* -->\n<g id=\"edge7\" class=\"edge\">\n<title>13463452976&#45;&gt;13463443712*</title>\n<path fill=\"none\" stroke=\"black\" d=\"M822.1,-56.81C831.26,-55.16 840.12,-53.56 848.17,-52.1\"/>\n<polygon fill=\"black\" stroke=\"black\" points=\"848.59,-55.58 857.81,-50.36 847.34,-48.7 848.59,-55.58\"/>\n</g>\n<!-- 13463452976+ -->\n<g id=\"node5\" class=\"node\">\n<title>13463452976+</title>\n<ellipse fill=\"none\" stroke=\"black\" cx=\"571.5\" cy=\"-73.5\" rx=\"27\" ry=\"18\"/>\n<text text-anchor=\"middle\" x=\"571.5\" y=\"-68.45\" font-family=\"Times,serif\" font-size=\"14.00\">+</text>\n</g>\n<!-- 13463452976+&#45;&gt;13463452976 -->\n<g id=\"edge2\" class=\"edge\">\n<title>13463452976+&#45;&gt;13463452976</title>\n<path fill=\"none\" stroke=\"black\" d=\"M598.81,-73.5C606.25,-73.5 614.82,-73.5 623.94,-73.5\"/>\n<polygon fill=\"black\" stroke=\"black\" points=\"623.78,-77 633.78,-73.5 623.78,-70 623.78,-77\"/>\n</g>\n<!-- 13463446352 -->\n<g id=\"node6\" class=\"node\">\n<title>13463446352</title>\n<polygon fill=\"none\" stroke=\"black\" points=\"0,-56.5 0,-92.5 188.25,-92.5 188.25,-56.5 0,-56.5\"/>\n<text text-anchor=\"middle\" x=\"11.38\" y=\"-69.7\" font-family=\"Times,serif\" font-size=\"14.00\">b</text>\n<polyline fill=\"none\" stroke=\"black\" points=\"22.75,-57 22.75,-92.5\"/>\n<text text-anchor=\"middle\" x=\"64.88\" y=\"-69.7\" font-family=\"Times,serif\" font-size=\"14.00\">data &#45;3.0000</text>\n<polyline fill=\"none\" stroke=\"black\" points=\"107,-57 107,-92.5\"/>\n<text text-anchor=\"middle\" x=\"147.62\" y=\"-69.7\" font-family=\"Times,serif\" font-size=\"14.00\">grad 0.0000</text>\n</g>\n<!-- 13463446352&#45;&gt;13463443808* -->\n<g id=\"edge6\" class=\"edge\">\n<title>13463446352&#45;&gt;13463443808*</title>\n<path fill=\"none\" stroke=\"black\" d=\"M188.49,-90.75C197.27,-92.28 205.77,-93.76 213.51,-95.1\"/>\n<polygon fill=\"black\" stroke=\"black\" points=\"212.66,-98.51 223.11,-96.78 213.86,-91.61 212.66,-98.51\"/>\n</g>\n<!-- 13463443808 -->\n<g id=\"node7\" class=\"node\">\n<title>13463443808</title>\n<polygon fill=\"none\" stroke=\"black\" points=\"315.38,-83.5 315.38,-119.5 507.38,-119.5 507.38,-83.5 315.38,-83.5\"/>\n<text text-anchor=\"middle\" x=\"326.38\" y=\"-96.7\" font-family=\"Times,serif\" font-size=\"14.00\">e</text>\n<polyline fill=\"none\" stroke=\"black\" points=\"337.38,-84 337.38,-119.5\"/>\n<text text-anchor=\"middle\" x=\"379.5\" y=\"-96.7\" font-family=\"Times,serif\" font-size=\"14.00\">data &#45;6.0000</text>\n<polyline fill=\"none\" stroke=\"black\" points=\"421.62,-84 421.62,-119.5\"/>\n<text text-anchor=\"middle\" x=\"464.5\" y=\"-96.7\" font-family=\"Times,serif\" font-size=\"14.00\">grad &#45;2.0000</text>\n</g>\n<!-- 13463443808&#45;&gt;13463452976+ -->\n<g id=\"edge4\" class=\"edge\">\n<title>13463443808&#45;&gt;13463452976+</title>\n<path fill=\"none\" stroke=\"black\" d=\"M507.55,-84.65C516.78,-83.01 525.7,-81.43 533.79,-80\"/>\n<polygon fill=\"black\" stroke=\"black\" points=\"534.24,-83.47 543.48,-78.28 533.02,-76.58 534.24,-83.47\"/>\n</g>\n<!-- 13463443808*&#45;&gt;13463443808 -->\n<g id=\"edge3\" class=\"edge\">\n<title>13463443808*&#45;&gt;13463443808</title>\n<path fill=\"none\" stroke=\"black\" d=\"M278.72,-101.5C286.09,-101.5 294.59,-101.5 303.63,-101.5\"/>\n<polygon fill=\"black\" stroke=\"black\" points=\"303.39,-105 313.39,-101.5 303.39,-98 303.39,-105\"/>\n</g>\n<!-- 13463440352 -->\n<g id=\"node9\" class=\"node\">\n<title>13463440352</title>\n<polygon fill=\"none\" stroke=\"black\" points=\"634.5,-0.5 634.5,-36.5 822.75,-36.5 822.75,-0.5 634.5,-0.5\"/>\n<text text-anchor=\"middle\" x=\"645.88\" y=\"-13.7\" font-family=\"Times,serif\" font-size=\"14.00\">d</text>\n<polyline fill=\"none\" stroke=\"black\" points=\"657.25,-1 657.25,-36.5\"/>\n<text text-anchor=\"middle\" x=\"699.38\" y=\"-13.7\" font-family=\"Times,serif\" font-size=\"14.00\">data &#45;2.0000</text>\n<polyline fill=\"none\" stroke=\"black\" points=\"741.5,-1 741.5,-36.5\"/>\n<text text-anchor=\"middle\" x=\"782.12\" y=\"-13.7\" font-family=\"Times,serif\" font-size=\"14.00\">grad 4.0000</text>\n</g>\n<!-- 13463440352&#45;&gt;13463443712* -->\n<g id=\"edge8\" class=\"edge\">\n<title>13463440352&#45;&gt;13463443712*</title>\n<path fill=\"none\" stroke=\"black\" d=\"M822.99,-34.75C831.77,-36.28 840.27,-37.76 848.01,-39.1\"/>\n<polygon fill=\"black\" stroke=\"black\" points=\"847.16,-42.51 857.61,-40.78 848.36,-35.61 847.16,-42.51\"/>\n</g>\n<!-- 13463453168 -->\n<g id=\"node10\" class=\"node\">\n<title>13463453168</title>\n<polygon fill=\"none\" stroke=\"black\" points=\"314.25,-28.5 314.25,-64.5 508.5,-64.5 508.5,-28.5 314.25,-28.5\"/>\n<text text-anchor=\"middle\" x=\"325.25\" y=\"-41.7\" font-family=\"Times,serif\" font-size=\"14.00\">c</text>\n<polyline fill=\"none\" stroke=\"black\" points=\"336.25,-29 336.25,-64.5\"/>\n<text text-anchor=\"middle\" x=\"379.5\" y=\"-41.7\" font-family=\"Times,serif\" font-size=\"14.00\">data 10.0000</text>\n<polyline fill=\"none\" stroke=\"black\" points=\"422.75,-29 422.75,-64.5\"/>\n<text text-anchor=\"middle\" x=\"465.62\" y=\"-41.7\" font-family=\"Times,serif\" font-size=\"14.00\">grad &#45;2.0000</text>\n</g>\n<!-- 13463453168&#45;&gt;13463452976+ -->\n<g id=\"edge9\" class=\"edge\">\n<title>13463453168&#45;&gt;13463452976+</title>\n<path fill=\"none\" stroke=\"black\" d=\"M508.91,-62.98C517.6,-64.47 526,-65.9 533.65,-67.21\"/>\n<polygon fill=\"black\" stroke=\"black\" points=\"533.05,-70.66 543.5,-68.89 534.23,-63.76 533.05,-70.66\"/>\n</g>\n</g>\n</svg>\n",
      "text/plain": [
       "<graphviz.graphs.Digraph at 0x32279edd0>"
      ]
     },
     "execution_count": 417,
     "metadata": {},
     "output_type": "execute_result"
    }
   ],
   "execution_count": 417
  },
  {
   "metadata": {},
   "cell_type": "markdown",
   "source": [
    "### Backpropagation Step 4: $a$ & $b$\n",
    "\n",
    "We will again first calculate the partial derivatives $\\frac{\\partial e}{\\partial a}$ and $\\frac{\\partial e}{\\partial b}$.\n",
    "Since we know that $e(a, b) = a \\times b$, we can derive them manually again:\n",
    "\n",
    "$$\\frac{\\partial e}{\\partial a} = b = -3$$\n",
    "$$\\frac{\\partial e}{\\partial b} = a = 2$$\n",
    "\n"
   ]
  },
  {
   "metadata": {
    "ExecuteTime": {
     "end_time": "2024-12-11T12:09:27.359944Z",
     "start_time": "2024-12-11T12:09:27.285869Z"
    }
   },
   "cell_type": "code",
   "source": [
    "# For a\n",
    "dot, derivative = partial_using_lim(e, a)\n",
    "print(derivative)\n",
    "dot"
   ],
   "outputs": [
    {
     "name": "stdout",
     "output_type": "stream",
     "text": [
      "-3.000000000010772\n"
     ]
    },
    {
     "data": {
      "image/svg+xml": "<?xml version=\"1.0\" encoding=\"UTF-8\" standalone=\"no\"?>\n<!DOCTYPE svg PUBLIC \"-//W3C//DTD SVG 1.1//EN\"\n \"http://www.w3.org/Graphics/SVG/1.1/DTD/svg11.dtd\">\n<!-- Generated by graphviz version 12.2.0 (20241103.1931)\n -->\n<!-- Pages: 1 -->\n<svg width=\"510pt\" height=\"100pt\"\n viewBox=\"0.00 0.00 509.75 100.00\" xmlns=\"http://www.w3.org/2000/svg\" xmlns:xlink=\"http://www.w3.org/1999/xlink\">\n<g id=\"graph0\" class=\"graph\" transform=\"scale(1 1) rotate(0) translate(4 96)\">\n<polygon fill=\"white\" stroke=\"none\" points=\"-4,4 -4,-96 505.75,-96 505.75,4 -4,4\"/>\n<!-- 13463320128 -->\n<g id=\"node1\" class=\"node\">\n<title>13463320128</title>\n<polygon fill=\"none\" stroke=\"black\" points=\"314.25,-27.5 314.25,-63.5 501.75,-63.5 501.75,-27.5 314.25,-27.5\"/>\n<text text-anchor=\"middle\" x=\"325.25\" y=\"-40.7\" font-family=\"Times,serif\" font-size=\"14.00\">e</text>\n<polyline fill=\"none\" stroke=\"black\" points=\"336.25,-28 336.25,-63.5\"/>\n<text text-anchor=\"middle\" x=\"378.38\" y=\"-40.7\" font-family=\"Times,serif\" font-size=\"14.00\">data &#45;6.0003</text>\n<polyline fill=\"none\" stroke=\"black\" points=\"420.5,-28 420.5,-63.5\"/>\n<text text-anchor=\"middle\" x=\"461.12\" y=\"-40.7\" font-family=\"Times,serif\" font-size=\"14.00\">grad 0.0000</text>\n</g>\n<!-- 13463320128* -->\n<g id=\"node2\" class=\"node\">\n<title>13463320128*</title>\n<ellipse fill=\"none\" stroke=\"black\" cx=\"251.25\" cy=\"-45.5\" rx=\"27\" ry=\"18\"/>\n<text text-anchor=\"middle\" x=\"251.25\" y=\"-40.45\" font-family=\"Times,serif\" font-size=\"14.00\">*</text>\n</g>\n<!-- 13463320128*&#45;&gt;13463320128 -->\n<g id=\"edge1\" class=\"edge\">\n<title>13463320128*&#45;&gt;13463320128</title>\n<path fill=\"none\" stroke=\"black\" d=\"M278.5,-45.5C285.66,-45.5 293.87,-45.5 302.6,-45.5\"/>\n<polygon fill=\"black\" stroke=\"black\" points=\"302.39,-49 312.39,-45.5 302.39,-42 302.39,-49\"/>\n</g>\n<!-- 13463315136 -->\n<g id=\"node3\" class=\"node\">\n<title>13463315136</title>\n<polygon fill=\"none\" stroke=\"black\" points=\"0,-55.5 0,-91.5 188.25,-91.5 188.25,-55.5 0,-55.5\"/>\n<text text-anchor=\"middle\" x=\"11.38\" y=\"-68.7\" font-family=\"Times,serif\" font-size=\"14.00\">b</text>\n<polyline fill=\"none\" stroke=\"black\" points=\"22.75,-56 22.75,-91.5\"/>\n<text text-anchor=\"middle\" x=\"64.88\" y=\"-68.7\" font-family=\"Times,serif\" font-size=\"14.00\">data &#45;3.0000</text>\n<polyline fill=\"none\" stroke=\"black\" points=\"107,-56 107,-91.5\"/>\n<text text-anchor=\"middle\" x=\"147.62\" y=\"-68.7\" font-family=\"Times,serif\" font-size=\"14.00\">grad 0.0000</text>\n</g>\n<!-- 13463315136&#45;&gt;13463320128* -->\n<g id=\"edge2\" class=\"edge\">\n<title>13463315136&#45;&gt;13463320128*</title>\n<path fill=\"none\" stroke=\"black\" d=\"M188.49,-56.65C197.36,-55.05 205.93,-53.5 213.73,-52.09\"/>\n<polygon fill=\"black\" stroke=\"black\" points=\"214.2,-55.56 223.42,-50.34 212.95,-48.68 214.2,-55.56\"/>\n</g>\n<!-- 13463320176 -->\n<g id=\"node4\" class=\"node\">\n<title>13463320176</title>\n<polygon fill=\"none\" stroke=\"black\" points=\"2.62,-0.5 2.62,-36.5 185.62,-36.5 185.62,-0.5 2.62,-0.5\"/>\n<text text-anchor=\"middle\" x=\"13.62\" y=\"-13.7\" font-family=\"Times,serif\" font-size=\"14.00\">a</text>\n<polyline fill=\"none\" stroke=\"black\" points=\"24.62,-1 24.62,-36.5\"/>\n<text text-anchor=\"middle\" x=\"64.5\" y=\"-13.7\" font-family=\"Times,serif\" font-size=\"14.00\">data 2.0001</text>\n<polyline fill=\"none\" stroke=\"black\" points=\"104.38,-1 104.38,-36.5\"/>\n<text text-anchor=\"middle\" x=\"145\" y=\"-13.7\" font-family=\"Times,serif\" font-size=\"14.00\">grad 0.0000</text>\n</g>\n<!-- 13463320176&#45;&gt;13463320128* -->\n<g id=\"edge3\" class=\"edge\">\n<title>13463320176&#45;&gt;13463320128*</title>\n<path fill=\"none\" stroke=\"black\" d=\"M185.81,-34.28C195.45,-35.96 204.82,-37.59 213.29,-39.07\"/>\n<polygon fill=\"black\" stroke=\"black\" points=\"212.65,-42.51 223.1,-40.77 213.85,-35.61 212.65,-42.51\"/>\n</g>\n</g>\n</svg>\n",
      "text/plain": [
       "<graphviz.graphs.Digraph at 0x32279f6d0>"
      ]
     },
     "execution_count": 418,
     "metadata": {},
     "output_type": "execute_result"
    }
   ],
   "execution_count": 418
  },
  {
   "metadata": {
    "ExecuteTime": {
     "end_time": "2024-12-11T12:09:27.439950Z",
     "start_time": "2024-12-11T12:09:27.368089Z"
    }
   },
   "cell_type": "code",
   "source": [
    "# for b\n",
    "dot, derivative = partial_using_lim(e, b)\n",
    "print(derivative)\n",
    "dot"
   ],
   "outputs": [
    {
     "name": "stdout",
     "output_type": "stream",
     "text": [
      "2.0000000000042206\n"
     ]
    },
    {
     "data": {
      "image/svg+xml": "<?xml version=\"1.0\" encoding=\"UTF-8\" standalone=\"no\"?>\n<!DOCTYPE svg PUBLIC \"-//W3C//DTD SVG 1.1//EN\"\n \"http://www.w3.org/Graphics/SVG/1.1/DTD/svg11.dtd\">\n<!-- Generated by graphviz version 12.2.0 (20241103.1931)\n -->\n<!-- Pages: 1 -->\n<svg width=\"510pt\" height=\"100pt\"\n viewBox=\"0.00 0.00 509.75 100.00\" xmlns=\"http://www.w3.org/2000/svg\" xmlns:xlink=\"http://www.w3.org/1999/xlink\">\n<g id=\"graph0\" class=\"graph\" transform=\"scale(1 1) rotate(0) translate(4 96)\">\n<polygon fill=\"white\" stroke=\"none\" points=\"-4,4 -4,-96 505.75,-96 505.75,4 -4,4\"/>\n<!-- 13463319312 -->\n<g id=\"node1\" class=\"node\">\n<title>13463319312</title>\n<polygon fill=\"none\" stroke=\"black\" points=\"314.25,-27.5 314.25,-63.5 501.75,-63.5 501.75,-27.5 314.25,-27.5\"/>\n<text text-anchor=\"middle\" x=\"325.25\" y=\"-40.7\" font-family=\"Times,serif\" font-size=\"14.00\">e</text>\n<polyline fill=\"none\" stroke=\"black\" points=\"336.25,-28 336.25,-63.5\"/>\n<text text-anchor=\"middle\" x=\"378.38\" y=\"-40.7\" font-family=\"Times,serif\" font-size=\"14.00\">data &#45;5.9998</text>\n<polyline fill=\"none\" stroke=\"black\" points=\"420.5,-28 420.5,-63.5\"/>\n<text text-anchor=\"middle\" x=\"461.12\" y=\"-40.7\" font-family=\"Times,serif\" font-size=\"14.00\">grad 0.0000</text>\n</g>\n<!-- 13463319312* -->\n<g id=\"node2\" class=\"node\">\n<title>13463319312*</title>\n<ellipse fill=\"none\" stroke=\"black\" cx=\"251.25\" cy=\"-45.5\" rx=\"27\" ry=\"18\"/>\n<text text-anchor=\"middle\" x=\"251.25\" y=\"-40.45\" font-family=\"Times,serif\" font-size=\"14.00\">*</text>\n</g>\n<!-- 13463319312*&#45;&gt;13463319312 -->\n<g id=\"edge1\" class=\"edge\">\n<title>13463319312*&#45;&gt;13463319312</title>\n<path fill=\"none\" stroke=\"black\" d=\"M278.5,-45.5C285.66,-45.5 293.87,-45.5 302.6,-45.5\"/>\n<polygon fill=\"black\" stroke=\"black\" points=\"302.39,-49 312.39,-45.5 302.39,-42 302.39,-49\"/>\n</g>\n<!-- 13463317680 -->\n<g id=\"node3\" class=\"node\">\n<title>13463317680</title>\n<polygon fill=\"none\" stroke=\"black\" points=\"0,-55.5 0,-91.5 188.25,-91.5 188.25,-55.5 0,-55.5\"/>\n<text text-anchor=\"middle\" x=\"11.38\" y=\"-68.7\" font-family=\"Times,serif\" font-size=\"14.00\">b</text>\n<polyline fill=\"none\" stroke=\"black\" points=\"22.75,-56 22.75,-91.5\"/>\n<text text-anchor=\"middle\" x=\"64.88\" y=\"-68.7\" font-family=\"Times,serif\" font-size=\"14.00\">data &#45;2.9999</text>\n<polyline fill=\"none\" stroke=\"black\" points=\"107,-56 107,-91.5\"/>\n<text text-anchor=\"middle\" x=\"147.62\" y=\"-68.7\" font-family=\"Times,serif\" font-size=\"14.00\">grad 0.0000</text>\n</g>\n<!-- 13463317680&#45;&gt;13463319312* -->\n<g id=\"edge2\" class=\"edge\">\n<title>13463317680&#45;&gt;13463319312*</title>\n<path fill=\"none\" stroke=\"black\" d=\"M188.49,-56.65C197.36,-55.05 205.93,-53.5 213.73,-52.09\"/>\n<polygon fill=\"black\" stroke=\"black\" points=\"214.2,-55.56 223.42,-50.34 212.95,-48.68 214.2,-55.56\"/>\n</g>\n<!-- 13463315040 -->\n<g id=\"node4\" class=\"node\">\n<title>13463315040</title>\n<polygon fill=\"none\" stroke=\"black\" points=\"2.62,-0.5 2.62,-36.5 185.62,-36.5 185.62,-0.5 2.62,-0.5\"/>\n<text text-anchor=\"middle\" x=\"13.62\" y=\"-13.7\" font-family=\"Times,serif\" font-size=\"14.00\">a</text>\n<polyline fill=\"none\" stroke=\"black\" points=\"24.62,-1 24.62,-36.5\"/>\n<text text-anchor=\"middle\" x=\"64.5\" y=\"-13.7\" font-family=\"Times,serif\" font-size=\"14.00\">data 2.0000</text>\n<polyline fill=\"none\" stroke=\"black\" points=\"104.38,-1 104.38,-36.5\"/>\n<text text-anchor=\"middle\" x=\"145\" y=\"-13.7\" font-family=\"Times,serif\" font-size=\"14.00\">grad 0.0000</text>\n</g>\n<!-- 13463315040&#45;&gt;13463319312* -->\n<g id=\"edge3\" class=\"edge\">\n<title>13463315040&#45;&gt;13463319312*</title>\n<path fill=\"none\" stroke=\"black\" d=\"M185.81,-34.28C195.45,-35.96 204.82,-37.59 213.29,-39.07\"/>\n<polygon fill=\"black\" stroke=\"black\" points=\"212.65,-42.51 223.1,-40.77 213.85,-35.61 212.65,-42.51\"/>\n</g>\n</g>\n</svg>\n",
      "text/plain": [
       "<graphviz.graphs.Digraph at 0x32279eef0>"
      ]
     },
     "execution_count": 419,
     "metadata": {},
     "output_type": "execute_result"
    }
   ],
   "execution_count": 419
  },
  {
   "metadata": {},
   "cell_type": "markdown",
   "source": [
    "Calculating the gradient using the chain rule gives us:\n",
    "\n",
    "$$\\frac{\\partial L}{\\partial a} = \\frac{\\partial L}{\\partial e} \\frac{\\partial e}{\\partial a} = -2 \\times -3 = 6$$\n",
    "$$\\frac{\\partial L}{\\partial b} = \\frac{\\partial L}{\\partial e} \\frac{\\partial e}{\\partial b} = -2 \\times 2 = -4$$\n",
    "\n"
   ]
  },
  {
   "metadata": {
    "ExecuteTime": {
     "end_time": "2024-12-11T12:09:27.522277Z",
     "start_time": "2024-12-11T12:09:27.448221Z"
    }
   },
   "cell_type": "code",
   "source": [
    "# Applying the gradients\n",
    "a.grad = 6.0\n",
    "b.grad = -4.0\n",
    "draw_dot(L)"
   ],
   "outputs": [
    {
     "data": {
      "image/svg+xml": "<?xml version=\"1.0\" encoding=\"UTF-8\" standalone=\"no\"?>\n<!DOCTYPE svg PUBLIC \"-//W3C//DTD SVG 1.1//EN\"\n \"http://www.w3.org/Graphics/SVG/1.1/DTD/svg11.dtd\">\n<!-- Generated by graphviz version 12.2.0 (20241103.1931)\n -->\n<!-- Pages: 1 -->\n<svg width=\"1151pt\" height=\"156pt\"\n viewBox=\"0.00 0.00 1151.00 156.00\" xmlns=\"http://www.w3.org/2000/svg\" xmlns:xlink=\"http://www.w3.org/1999/xlink\">\n<g id=\"graph0\" class=\"graph\" transform=\"scale(1 1) rotate(0) translate(4 152)\">\n<polygon fill=\"white\" stroke=\"none\" points=\"-4,4 -4,-152 1147,-152 1147,4 -4,4\"/>\n<!-- 13463449328 -->\n<g id=\"node1\" class=\"node\">\n<title>13463449328</title>\n<polygon fill=\"none\" stroke=\"black\" points=\"4.88,-111.5 4.88,-147.5 187.88,-147.5 187.88,-111.5 4.88,-111.5\"/>\n<text text-anchor=\"middle\" x=\"15.88\" y=\"-124.7\" font-family=\"Times,serif\" font-size=\"14.00\">a</text>\n<polyline fill=\"none\" stroke=\"black\" points=\"26.88,-112 26.88,-147.5\"/>\n<text text-anchor=\"middle\" x=\"66.75\" y=\"-124.7\" font-family=\"Times,serif\" font-size=\"14.00\">data 2.0000</text>\n<polyline fill=\"none\" stroke=\"black\" points=\"106.62,-112 106.62,-147.5\"/>\n<text text-anchor=\"middle\" x=\"147.25\" y=\"-124.7\" font-family=\"Times,serif\" font-size=\"14.00\">grad 6.0000</text>\n</g>\n<!-- 13463443808* -->\n<g id=\"node8\" class=\"node\">\n<title>13463443808*</title>\n<ellipse fill=\"none\" stroke=\"black\" cx=\"255.75\" cy=\"-101.5\" rx=\"27\" ry=\"18\"/>\n<text text-anchor=\"middle\" x=\"255.75\" y=\"-96.45\" font-family=\"Times,serif\" font-size=\"14.00\">*</text>\n</g>\n<!-- 13463449328&#45;&gt;13463443808* -->\n<g id=\"edge5\" class=\"edge\">\n<title>13463449328&#45;&gt;13463443808*</title>\n<path fill=\"none\" stroke=\"black\" d=\"M188.01,-113.37C198.67,-111.48 209.04,-109.63 218.3,-107.99\"/>\n<polygon fill=\"black\" stroke=\"black\" points=\"218.65,-111.48 227.88,-106.28 217.42,-104.59 218.65,-111.48\"/>\n</g>\n<!-- 13463443712 -->\n<g id=\"node2\" class=\"node\">\n<title>13463443712</title>\n<polygon fill=\"none\" stroke=\"black\" points=\"953.25,-27.5 953.25,-63.5 1143,-63.5 1143,-27.5 953.25,-27.5\"/>\n<text text-anchor=\"middle\" x=\"965.38\" y=\"-40.7\" font-family=\"Times,serif\" font-size=\"14.00\">L</text>\n<polyline fill=\"none\" stroke=\"black\" points=\"977.5,-28 977.5,-63.5\"/>\n<text text-anchor=\"middle\" x=\"1019.62\" y=\"-40.7\" font-family=\"Times,serif\" font-size=\"14.00\">data &#45;8.0000</text>\n<polyline fill=\"none\" stroke=\"black\" points=\"1061.75,-28 1061.75,-63.5\"/>\n<text text-anchor=\"middle\" x=\"1102.38\" y=\"-40.7\" font-family=\"Times,serif\" font-size=\"14.00\">grad 1.0000</text>\n</g>\n<!-- 13463443712* -->\n<g id=\"node3\" class=\"node\">\n<title>13463443712*</title>\n<ellipse fill=\"none\" stroke=\"black\" cx=\"890.25\" cy=\"-45.5\" rx=\"27\" ry=\"18\"/>\n<text text-anchor=\"middle\" x=\"890.25\" y=\"-40.45\" font-family=\"Times,serif\" font-size=\"14.00\">*</text>\n</g>\n<!-- 13463443712*&#45;&gt;13463443712 -->\n<g id=\"edge1\" class=\"edge\">\n<title>13463443712*&#45;&gt;13463443712</title>\n<path fill=\"none\" stroke=\"black\" d=\"M917.69,-45.5C924.84,-45.5 933.03,-45.5 941.74,-45.5\"/>\n<polygon fill=\"black\" stroke=\"black\" points=\"941.51,-49 951.51,-45.5 941.51,-42 941.51,-49\"/>\n</g>\n<!-- 13463452976 -->\n<g id=\"node4\" class=\"node\">\n<title>13463452976</title>\n<polygon fill=\"none\" stroke=\"black\" points=\"640.12,-55.5 640.12,-91.5 826.12,-91.5 826.12,-55.5 640.12,-55.5\"/>\n<text text-anchor=\"middle\" x=\"650.38\" y=\"-68.7\" font-family=\"Times,serif\" font-size=\"14.00\">f</text>\n<polyline fill=\"none\" stroke=\"black\" points=\"660.62,-56 660.62,-91.5\"/>\n<text text-anchor=\"middle\" x=\"700.5\" y=\"-68.7\" font-family=\"Times,serif\" font-size=\"14.00\">data 4.0000</text>\n<polyline fill=\"none\" stroke=\"black\" points=\"740.38,-56 740.38,-91.5\"/>\n<text text-anchor=\"middle\" x=\"783.25\" y=\"-68.7\" font-family=\"Times,serif\" font-size=\"14.00\">grad &#45;2.0000</text>\n</g>\n<!-- 13463452976&#45;&gt;13463443712* -->\n<g id=\"edge7\" class=\"edge\">\n<title>13463452976&#45;&gt;13463443712*</title>\n<path fill=\"none\" stroke=\"black\" d=\"M826.6,-56.81C835.76,-55.16 844.62,-53.56 852.67,-52.1\"/>\n<polygon fill=\"black\" stroke=\"black\" points=\"853.09,-55.58 862.31,-50.36 851.84,-48.7 853.09,-55.58\"/>\n</g>\n<!-- 13463452976+ -->\n<g id=\"node5\" class=\"node\">\n<title>13463452976+</title>\n<ellipse fill=\"none\" stroke=\"black\" cx=\"576\" cy=\"-73.5\" rx=\"27\" ry=\"18\"/>\n<text text-anchor=\"middle\" x=\"576\" y=\"-68.45\" font-family=\"Times,serif\" font-size=\"14.00\">+</text>\n</g>\n<!-- 13463452976+&#45;&gt;13463452976 -->\n<g id=\"edge2\" class=\"edge\">\n<title>13463452976+&#45;&gt;13463452976</title>\n<path fill=\"none\" stroke=\"black\" d=\"M603.31,-73.5C610.75,-73.5 619.32,-73.5 628.44,-73.5\"/>\n<polygon fill=\"black\" stroke=\"black\" points=\"628.28,-77 638.28,-73.5 628.28,-70 628.28,-77\"/>\n</g>\n<!-- 13463446352 -->\n<g id=\"node6\" class=\"node\">\n<title>13463446352</title>\n<polygon fill=\"none\" stroke=\"black\" points=\"0,-56.5 0,-92.5 192.75,-92.5 192.75,-56.5 0,-56.5\"/>\n<text text-anchor=\"middle\" x=\"11.38\" y=\"-69.7\" font-family=\"Times,serif\" font-size=\"14.00\">b</text>\n<polyline fill=\"none\" stroke=\"black\" points=\"22.75,-57 22.75,-92.5\"/>\n<text text-anchor=\"middle\" x=\"64.88\" y=\"-69.7\" font-family=\"Times,serif\" font-size=\"14.00\">data &#45;3.0000</text>\n<polyline fill=\"none\" stroke=\"black\" points=\"107,-57 107,-92.5\"/>\n<text text-anchor=\"middle\" x=\"149.88\" y=\"-69.7\" font-family=\"Times,serif\" font-size=\"14.00\">grad &#45;4.0000</text>\n</g>\n<!-- 13463446352&#45;&gt;13463443808* -->\n<g id=\"edge6\" class=\"edge\">\n<title>13463446352&#45;&gt;13463443808*</title>\n<path fill=\"none\" stroke=\"black\" d=\"M193,-90.91C201.81,-92.42 210.32,-93.88 218.06,-95.2\"/>\n<polygon fill=\"black\" stroke=\"black\" points=\"217.21,-98.61 227.66,-96.85 218.4,-91.71 217.21,-98.61\"/>\n</g>\n<!-- 13463443808 -->\n<g id=\"node7\" class=\"node\">\n<title>13463443808</title>\n<polygon fill=\"none\" stroke=\"black\" points=\"319.88,-83.5 319.88,-119.5 511.88,-119.5 511.88,-83.5 319.88,-83.5\"/>\n<text text-anchor=\"middle\" x=\"330.88\" y=\"-96.7\" font-family=\"Times,serif\" font-size=\"14.00\">e</text>\n<polyline fill=\"none\" stroke=\"black\" points=\"341.88,-84 341.88,-119.5\"/>\n<text text-anchor=\"middle\" x=\"384\" y=\"-96.7\" font-family=\"Times,serif\" font-size=\"14.00\">data &#45;6.0000</text>\n<polyline fill=\"none\" stroke=\"black\" points=\"426.12,-84 426.12,-119.5\"/>\n<text text-anchor=\"middle\" x=\"469\" y=\"-96.7\" font-family=\"Times,serif\" font-size=\"14.00\">grad &#45;2.0000</text>\n</g>\n<!-- 13463443808&#45;&gt;13463452976+ -->\n<g id=\"edge4\" class=\"edge\">\n<title>13463443808&#45;&gt;13463452976+</title>\n<path fill=\"none\" stroke=\"black\" d=\"M512.05,-84.65C521.28,-83.01 530.2,-81.43 538.29,-80\"/>\n<polygon fill=\"black\" stroke=\"black\" points=\"538.74,-83.47 547.98,-78.28 537.52,-76.58 538.74,-83.47\"/>\n</g>\n<!-- 13463443808*&#45;&gt;13463443808 -->\n<g id=\"edge3\" class=\"edge\">\n<title>13463443808*&#45;&gt;13463443808</title>\n<path fill=\"none\" stroke=\"black\" d=\"M283.22,-101.5C290.59,-101.5 299.09,-101.5 308.13,-101.5\"/>\n<polygon fill=\"black\" stroke=\"black\" points=\"307.89,-105 317.89,-101.5 307.89,-98 307.89,-105\"/>\n</g>\n<!-- 13463440352 -->\n<g id=\"node9\" class=\"node\">\n<title>13463440352</title>\n<polygon fill=\"none\" stroke=\"black\" points=\"639,-0.5 639,-36.5 827.25,-36.5 827.25,-0.5 639,-0.5\"/>\n<text text-anchor=\"middle\" x=\"650.38\" y=\"-13.7\" font-family=\"Times,serif\" font-size=\"14.00\">d</text>\n<polyline fill=\"none\" stroke=\"black\" points=\"661.75,-1 661.75,-36.5\"/>\n<text text-anchor=\"middle\" x=\"703.88\" y=\"-13.7\" font-family=\"Times,serif\" font-size=\"14.00\">data &#45;2.0000</text>\n<polyline fill=\"none\" stroke=\"black\" points=\"746,-1 746,-36.5\"/>\n<text text-anchor=\"middle\" x=\"786.62\" y=\"-13.7\" font-family=\"Times,serif\" font-size=\"14.00\">grad 4.0000</text>\n</g>\n<!-- 13463440352&#45;&gt;13463443712* -->\n<g id=\"edge8\" class=\"edge\">\n<title>13463440352&#45;&gt;13463443712*</title>\n<path fill=\"none\" stroke=\"black\" d=\"M827.49,-34.75C836.27,-36.28 844.77,-37.76 852.51,-39.1\"/>\n<polygon fill=\"black\" stroke=\"black\" points=\"851.66,-42.51 862.11,-40.78 852.86,-35.61 851.66,-42.51\"/>\n</g>\n<!-- 13463453168 -->\n<g id=\"node10\" class=\"node\">\n<title>13463453168</title>\n<polygon fill=\"none\" stroke=\"black\" points=\"318.75,-28.5 318.75,-64.5 513,-64.5 513,-28.5 318.75,-28.5\"/>\n<text text-anchor=\"middle\" x=\"329.75\" y=\"-41.7\" font-family=\"Times,serif\" font-size=\"14.00\">c</text>\n<polyline fill=\"none\" stroke=\"black\" points=\"340.75,-29 340.75,-64.5\"/>\n<text text-anchor=\"middle\" x=\"384\" y=\"-41.7\" font-family=\"Times,serif\" font-size=\"14.00\">data 10.0000</text>\n<polyline fill=\"none\" stroke=\"black\" points=\"427.25,-29 427.25,-64.5\"/>\n<text text-anchor=\"middle\" x=\"470.12\" y=\"-41.7\" font-family=\"Times,serif\" font-size=\"14.00\">grad &#45;2.0000</text>\n</g>\n<!-- 13463453168&#45;&gt;13463452976+ -->\n<g id=\"edge9\" class=\"edge\">\n<title>13463453168&#45;&gt;13463452976+</title>\n<path fill=\"none\" stroke=\"black\" d=\"M513.41,-62.98C522.1,-64.47 530.5,-65.9 538.15,-67.21\"/>\n<polygon fill=\"black\" stroke=\"black\" points=\"537.55,-70.66 548,-68.89 538.73,-63.76 537.55,-70.66\"/>\n</g>\n</g>\n</svg>\n",
      "text/plain": [
       "<graphviz.graphs.Digraph at 0x32279e080>"
      ]
     },
     "execution_count": 420,
     "metadata": {},
     "output_type": "execute_result"
    }
   ],
   "execution_count": 420
  },
  {
   "metadata": {},
   "cell_type": "markdown",
   "source": [
    "# Manual Backprop for a *Perceptron*\n",
    "\n",
    "A perceptron is a simplified mathematical model of a biological neuron. It is defined as such:\n",
    "$$perceptron(\\mathbf{x}) = f(\\mathbf{w}\\mathbf{x} + b),$$\n",
    "where\n",
    "- $\\mathbf{x}$ is the input vector\n",
    "- $\\mathbf{w}$ is the weight vector\n",
    "- $b$ is the bias scalar\n",
    "- $f(x)$ is the activation function"
   ]
  },
  {
   "metadata": {
    "ExecuteTime": {
     "end_time": "2024-12-11T12:09:27.604895Z",
     "start_time": "2024-12-11T12:09:27.531664Z"
    }
   },
   "cell_type": "code",
   "source": [
    "# Perceptron inputs x1, x2\n",
    "x1 = Value(2.0, label=\"x1\")\n",
    "x2 = Value(0.0, label=\"x2\")\n",
    "# Weights w1, w2, and bias b\n",
    "w1 = Value(-3.0, label=\"w1\")\n",
    "w2 = Value(1.0, label=\"w2\")\n",
    "b = Value(6.8813735870195432, label=\"b\")\n",
    "# n = x1*w1 + x2*w2 + b\n",
    "x1w1 = x1*w1; x1w1.label = \"x1*w1\"\n",
    "x2w2 = x2*w2; x2w2.label = \"x2*w2\"\n",
    "x1w1x2w2 = x1w1 + x2w2; x1w1x2w2.label = \"x1w1+x2w2\"\n",
    "n = x1w1x2w2 + b; n.label = \"n\"#\n",
    "o = n.tanh(); o.label = \"o\"\n",
    "draw_dot(o)"
   ],
   "outputs": [
    {
     "data": {
      "image/svg+xml": "<?xml version=\"1.0\" encoding=\"UTF-8\" standalone=\"no\"?>\n<!DOCTYPE svg PUBLIC \"-//W3C//DTD SVG 1.1//EN\"\n \"http://www.w3.org/Graphics/SVG/1.1/DTD/svg11.dtd\">\n<!-- Generated by graphviz version 12.2.0 (20241103.1931)\n -->\n<!-- Pages: 1 -->\n<svg width=\"1546pt\" height=\"210pt\"\n viewBox=\"0.00 0.00 1545.50 210.00\" xmlns=\"http://www.w3.org/2000/svg\" xmlns:xlink=\"http://www.w3.org/1999/xlink\">\n<g id=\"graph0\" class=\"graph\" transform=\"scale(1 1) rotate(0) translate(4 206)\">\n<polygon fill=\"white\" stroke=\"none\" points=\"-4,4 -4,-206 1541.5,-206 1541.5,4 -4,4\"/>\n<!-- 13463318016 -->\n<g id=\"node1\" class=\"node\">\n<title>13463318016</title>\n<polygon fill=\"none\" stroke=\"black\" points=\"2.25,-165.5 2.25,-201.5 195.75,-201.5 195.75,-165.5 2.25,-165.5\"/>\n<text text-anchor=\"middle\" x=\"18.5\" y=\"-178.7\" font-family=\"Times,serif\" font-size=\"14.00\">w2</text>\n<polyline fill=\"none\" stroke=\"black\" points=\"34.75,-166 34.75,-201.5\"/>\n<text text-anchor=\"middle\" x=\"74.62\" y=\"-178.7\" font-family=\"Times,serif\" font-size=\"14.00\">data 1.0000</text>\n<polyline fill=\"none\" stroke=\"black\" points=\"114.5,-166 114.5,-201.5\"/>\n<text text-anchor=\"middle\" x=\"155.12\" y=\"-178.7\" font-family=\"Times,serif\" font-size=\"14.00\">grad 0.0000</text>\n</g>\n<!-- 13463322528* -->\n<g id=\"node3\" class=\"node\">\n<title>13463322528*</title>\n<ellipse fill=\"none\" stroke=\"black\" cx=\"261\" cy=\"-128.5\" rx=\"27\" ry=\"18\"/>\n<text text-anchor=\"middle\" x=\"261\" y=\"-123.45\" font-family=\"Times,serif\" font-size=\"14.00\">*</text>\n</g>\n<!-- 13463318016&#45;&gt;13463322528* -->\n<g id=\"edge12\" class=\"edge\">\n<title>13463318016&#45;&gt;13463322528*</title>\n<path fill=\"none\" stroke=\"black\" d=\"M172.12,-165.01C180.9,-162.35 189.7,-159.5 198,-156.5 208.09,-152.86 218.82,-148.27 228.47,-143.88\"/>\n<polygon fill=\"black\" stroke=\"black\" points=\"229.86,-147.09 237.45,-139.69 226.9,-140.75 229.86,-147.09\"/>\n</g>\n<!-- 13463322528 -->\n<g id=\"node2\" class=\"node\">\n<title>13463322528</title>\n<polygon fill=\"none\" stroke=\"black\" points=\"326.25,-110.5 326.25,-146.5 540,-146.5 540,-110.5 326.25,-110.5\"/>\n<text text-anchor=\"middle\" x=\"352.62\" y=\"-123.7\" font-family=\"Times,serif\" font-size=\"14.00\">x2*w2</text>\n<polyline fill=\"none\" stroke=\"black\" points=\"379,-111 379,-146.5\"/>\n<text text-anchor=\"middle\" x=\"418.88\" y=\"-123.7\" font-family=\"Times,serif\" font-size=\"14.00\">data 0.0000</text>\n<polyline fill=\"none\" stroke=\"black\" points=\"458.75,-111 458.75,-146.5\"/>\n<text text-anchor=\"middle\" x=\"499.38\" y=\"-123.7\" font-family=\"Times,serif\" font-size=\"14.00\">grad 0.0000</text>\n</g>\n<!-- 13463319456+ -->\n<g id=\"node14\" class=\"node\">\n<title>13463319456+</title>\n<ellipse fill=\"none\" stroke=\"black\" cx=\"605.25\" cy=\"-100.5\" rx=\"27\" ry=\"18\"/>\n<text text-anchor=\"middle\" x=\"605.25\" y=\"-95.45\" font-family=\"Times,serif\" font-size=\"14.00\">+</text>\n</g>\n<!-- 13463322528&#45;&gt;13463319456+ -->\n<g id=\"edge11\" class=\"edge\">\n<title>13463322528&#45;&gt;13463319456+</title>\n<path fill=\"none\" stroke=\"black\" d=\"M540.42,-111.01C549.89,-109.45 559,-107.95 567.21,-106.6\"/>\n<polygon fill=\"black\" stroke=\"black\" points=\"567.75,-110.05 577.05,-104.98 566.62,-103.15 567.75,-110.05\"/>\n</g>\n<!-- 13463322528*&#45;&gt;13463322528 -->\n<g id=\"edge1\" class=\"edge\">\n<title>13463322528*&#45;&gt;13463322528</title>\n<path fill=\"none\" stroke=\"black\" d=\"M288.21,-128.5C296,-128.5 305.08,-128.5 314.82,-128.5\"/>\n<polygon fill=\"black\" stroke=\"black\" points=\"314.55,-132 324.55,-128.5 314.55,-125 314.55,-132\"/>\n</g>\n<!-- 13463318592 -->\n<g id=\"node4\" class=\"node\">\n<title>13463318592</title>\n<polygon fill=\"none\" stroke=\"black\" points=\"701.25,-27.5 701.25,-63.5 885,-63.5 885,-27.5 701.25,-27.5\"/>\n<text text-anchor=\"middle\" x=\"712.62\" y=\"-40.7\" font-family=\"Times,serif\" font-size=\"14.00\">b</text>\n<polyline fill=\"none\" stroke=\"black\" points=\"724,-28 724,-63.5\"/>\n<text text-anchor=\"middle\" x=\"763.88\" y=\"-40.7\" font-family=\"Times,serif\" font-size=\"14.00\">data 6.8814</text>\n<polyline fill=\"none\" stroke=\"black\" points=\"803.75,-28 803.75,-63.5\"/>\n<text text-anchor=\"middle\" x=\"844.38\" y=\"-40.7\" font-family=\"Times,serif\" font-size=\"14.00\">grad 0.0000</text>\n</g>\n<!-- 13463319792+ -->\n<g id=\"node10\" class=\"node\">\n<title>13463319792+</title>\n<ellipse fill=\"none\" stroke=\"black\" cx=\"981\" cy=\"-72.5\" rx=\"27\" ry=\"18\"/>\n<text text-anchor=\"middle\" x=\"981\" y=\"-67.45\" font-family=\"Times,serif\" font-size=\"14.00\">+</text>\n</g>\n<!-- 13463318592&#45;&gt;13463319792+ -->\n<g id=\"edge8\" class=\"edge\">\n<title>13463318592&#45;&gt;13463319792+</title>\n<path fill=\"none\" stroke=\"black\" d=\"M885.43,-58.76C906.02,-61.75 926.71,-64.76 943.47,-67.19\"/>\n<polygon fill=\"black\" stroke=\"black\" points=\"942.5,-70.59 952.9,-68.56 943.5,-63.66 942.5,-70.59\"/>\n</g>\n<!-- 13463318640 -->\n<g id=\"node5\" class=\"node\">\n<title>13463318640</title>\n<polygon fill=\"none\" stroke=\"black\" points=\"324,-55.5 324,-91.5 542.25,-91.5 542.25,-55.5 324,-55.5\"/>\n<text text-anchor=\"middle\" x=\"350.38\" y=\"-68.7\" font-family=\"Times,serif\" font-size=\"14.00\">x1*w1</text>\n<polyline fill=\"none\" stroke=\"black\" points=\"376.75,-56 376.75,-91.5\"/>\n<text text-anchor=\"middle\" x=\"418.88\" y=\"-68.7\" font-family=\"Times,serif\" font-size=\"14.00\">data &#45;6.0000</text>\n<polyline fill=\"none\" stroke=\"black\" points=\"461,-56 461,-91.5\"/>\n<text text-anchor=\"middle\" x=\"501.62\" y=\"-68.7\" font-family=\"Times,serif\" font-size=\"14.00\">grad 0.0000</text>\n</g>\n<!-- 13463318640&#45;&gt;13463319456+ -->\n<g id=\"edge10\" class=\"edge\">\n<title>13463318640&#45;&gt;13463319456+</title>\n<path fill=\"none\" stroke=\"black\" d=\"M542.35,-90.68C551.12,-92.07 559.54,-93.4 567.19,-94.62\"/>\n<polygon fill=\"black\" stroke=\"black\" points=\"566.59,-98.07 577.02,-96.18 567.69,-91.15 566.59,-98.07\"/>\n</g>\n<!-- 13463318640* -->\n<g id=\"node6\" class=\"node\">\n<title>13463318640*</title>\n<ellipse fill=\"none\" stroke=\"black\" cx=\"261\" cy=\"-73.5\" rx=\"27\" ry=\"18\"/>\n<text text-anchor=\"middle\" x=\"261\" y=\"-68.45\" font-family=\"Times,serif\" font-size=\"14.00\">*</text>\n</g>\n<!-- 13463318640*&#45;&gt;13463318640 -->\n<g id=\"edge2\" class=\"edge\">\n<title>13463318640*&#45;&gt;13463318640</title>\n<path fill=\"none\" stroke=\"black\" d=\"M288.21,-73.5C295.29,-73.5 303.43,-73.5 312.17,-73.5\"/>\n<polygon fill=\"black\" stroke=\"black\" points=\"312.01,-77 322.01,-73.5 312.01,-70 312.01,-77\"/>\n</g>\n<!-- 13463306352 -->\n<g id=\"node7\" class=\"node\">\n<title>13463306352</title>\n<polygon fill=\"none\" stroke=\"black\" points=\"0,-55.5 0,-91.5 198,-91.5 198,-55.5 0,-55.5\"/>\n<text text-anchor=\"middle\" x=\"16.25\" y=\"-68.7\" font-family=\"Times,serif\" font-size=\"14.00\">w1</text>\n<polyline fill=\"none\" stroke=\"black\" points=\"32.5,-56 32.5,-91.5\"/>\n<text text-anchor=\"middle\" x=\"74.62\" y=\"-68.7\" font-family=\"Times,serif\" font-size=\"14.00\">data &#45;3.0000</text>\n<polyline fill=\"none\" stroke=\"black\" points=\"116.75,-56 116.75,-91.5\"/>\n<text text-anchor=\"middle\" x=\"157.38\" y=\"-68.7\" font-family=\"Times,serif\" font-size=\"14.00\">grad 0.0000</text>\n</g>\n<!-- 13463306352&#45;&gt;13463318640* -->\n<g id=\"edge13\" class=\"edge\">\n<title>13463306352&#45;&gt;13463318640*</title>\n<path fill=\"none\" stroke=\"black\" d=\"M198.14,-73.5C206.61,-73.5 214.8,-73.5 222.29,-73.5\"/>\n<polygon fill=\"black\" stroke=\"black\" points=\"222.29,-77 232.29,-73.5 222.29,-70 222.29,-77\"/>\n</g>\n<!-- 13463319744 -->\n<g id=\"node8\" class=\"node\">\n<title>13463319744</title>\n<polygon fill=\"none\" stroke=\"black\" points=\"3.75,-0.5 3.75,-36.5 194.25,-36.5 194.25,-0.5 3.75,-0.5\"/>\n<text text-anchor=\"middle\" x=\"18.5\" y=\"-13.7\" font-family=\"Times,serif\" font-size=\"14.00\">x1</text>\n<polyline fill=\"none\" stroke=\"black\" points=\"33.25,-1 33.25,-36.5\"/>\n<text text-anchor=\"middle\" x=\"73.12\" y=\"-13.7\" font-family=\"Times,serif\" font-size=\"14.00\">data 2.0000</text>\n<polyline fill=\"none\" stroke=\"black\" points=\"113,-1 113,-36.5\"/>\n<text text-anchor=\"middle\" x=\"153.62\" y=\"-13.7\" font-family=\"Times,serif\" font-size=\"14.00\">grad 0.0000</text>\n</g>\n<!-- 13463319744&#45;&gt;13463318640* -->\n<g id=\"edge9\" class=\"edge\">\n<title>13463319744&#45;&gt;13463318640*</title>\n<path fill=\"none\" stroke=\"black\" d=\"M172.12,-36.99C180.9,-39.65 189.7,-42.5 198,-45.5 208.09,-49.14 218.82,-53.73 228.47,-58.12\"/>\n<polygon fill=\"black\" stroke=\"black\" points=\"226.9,-61.25 237.45,-62.31 229.86,-54.91 226.9,-61.25\"/>\n</g>\n<!-- 13463319792 -->\n<g id=\"node9\" class=\"node\">\n<title>13463319792</title>\n<polygon fill=\"none\" stroke=\"black\" points=\"1044,-54.5 1044,-90.5 1227.75,-90.5 1227.75,-54.5 1044,-54.5\"/>\n<text text-anchor=\"middle\" x=\"1055.38\" y=\"-67.7\" font-family=\"Times,serif\" font-size=\"14.00\">n</text>\n<polyline fill=\"none\" stroke=\"black\" points=\"1066.75,-55 1066.75,-90.5\"/>\n<text text-anchor=\"middle\" x=\"1106.62\" y=\"-67.7\" font-family=\"Times,serif\" font-size=\"14.00\">data 0.8814</text>\n<polyline fill=\"none\" stroke=\"black\" points=\"1146.5,-55 1146.5,-90.5\"/>\n<text text-anchor=\"middle\" x=\"1187.12\" y=\"-67.7\" font-family=\"Times,serif\" font-size=\"14.00\">grad 0.0000</text>\n</g>\n<!-- 13463311680tanh -->\n<g id=\"node12\" class=\"node\">\n<title>13463311680tanh</title>\n<ellipse fill=\"none\" stroke=\"black\" cx=\"1290.75\" cy=\"-72.5\" rx=\"27\" ry=\"18\"/>\n<text text-anchor=\"middle\" x=\"1290.75\" y=\"-67.45\" font-family=\"Times,serif\" font-size=\"14.00\">tanh</text>\n</g>\n<!-- 13463319792&#45;&gt;13463311680tanh -->\n<g id=\"edge14\" class=\"edge\">\n<title>13463319792&#45;&gt;13463311680tanh</title>\n<path fill=\"none\" stroke=\"black\" d=\"M1228.01,-72.5C1236.39,-72.5 1244.52,-72.5 1251.98,-72.5\"/>\n<polygon fill=\"black\" stroke=\"black\" points=\"1251.95,-76 1261.95,-72.5 1251.95,-69 1251.95,-76\"/>\n</g>\n<!-- 13463319792+&#45;&gt;13463319792 -->\n<g id=\"edge3\" class=\"edge\">\n<title>13463319792+&#45;&gt;13463319792</title>\n<path fill=\"none\" stroke=\"black\" d=\"M1008.28,-72.5C1015.42,-72.5 1023.61,-72.5 1032.32,-72.5\"/>\n<polygon fill=\"black\" stroke=\"black\" points=\"1032.06,-76 1042.06,-72.5 1032.06,-69 1032.06,-76\"/>\n</g>\n<!-- 13463311680 -->\n<g id=\"node11\" class=\"node\">\n<title>13463311680</title>\n<polygon fill=\"none\" stroke=\"black\" points=\"1353.75,-54.5 1353.75,-90.5 1537.5,-90.5 1537.5,-54.5 1353.75,-54.5\"/>\n<text text-anchor=\"middle\" x=\"1365.12\" y=\"-67.7\" font-family=\"Times,serif\" font-size=\"14.00\">o</text>\n<polyline fill=\"none\" stroke=\"black\" points=\"1376.5,-55 1376.5,-90.5\"/>\n<text text-anchor=\"middle\" x=\"1416.38\" y=\"-67.7\" font-family=\"Times,serif\" font-size=\"14.00\">data 0.7071</text>\n<polyline fill=\"none\" stroke=\"black\" points=\"1456.25,-55 1456.25,-90.5\"/>\n<text text-anchor=\"middle\" x=\"1496.88\" y=\"-67.7\" font-family=\"Times,serif\" font-size=\"14.00\">grad 0.0000</text>\n</g>\n<!-- 13463311680tanh&#45;&gt;13463311680 -->\n<g id=\"edge4\" class=\"edge\">\n<title>13463311680tanh&#45;&gt;13463311680</title>\n<path fill=\"none\" stroke=\"black\" d=\"M1318.03,-72.5C1325.17,-72.5 1333.36,-72.5 1342.07,-72.5\"/>\n<polygon fill=\"black\" stroke=\"black\" points=\"1341.81,-76 1351.81,-72.5 1341.81,-69 1341.81,-76\"/>\n</g>\n<!-- 13463319456 -->\n<g id=\"node13\" class=\"node\">\n<title>13463319456</title>\n<polygon fill=\"none\" stroke=\"black\" points=\"668.25,-82.5 668.25,-118.5 918,-118.5 918,-82.5 668.25,-82.5\"/>\n<text text-anchor=\"middle\" x=\"710.38\" y=\"-95.7\" font-family=\"Times,serif\" font-size=\"14.00\">x1w1+x2w2</text>\n<polyline fill=\"none\" stroke=\"black\" points=\"752.5,-83 752.5,-118.5\"/>\n<text text-anchor=\"middle\" x=\"794.62\" y=\"-95.7\" font-family=\"Times,serif\" font-size=\"14.00\">data &#45;6.0000</text>\n<polyline fill=\"none\" stroke=\"black\" points=\"836.75,-83 836.75,-118.5\"/>\n<text text-anchor=\"middle\" x=\"877.38\" y=\"-95.7\" font-family=\"Times,serif\" font-size=\"14.00\">grad 0.0000</text>\n</g>\n<!-- 13463319456&#45;&gt;13463319792+ -->\n<g id=\"edge7\" class=\"edge\">\n<title>13463319456&#45;&gt;13463319792+</title>\n<path fill=\"none\" stroke=\"black\" d=\"M916.81,-82.02C926.08,-80.62 934.9,-79.29 942.86,-78.09\"/>\n<polygon fill=\"black\" stroke=\"black\" points=\"943.36,-81.56 952.72,-76.61 942.31,-74.64 943.36,-81.56\"/>\n</g>\n<!-- 13463319456+&#45;&gt;13463319456 -->\n<g id=\"edge5\" class=\"edge\">\n<title>13463319456+&#45;&gt;13463319456</title>\n<path fill=\"none\" stroke=\"black\" d=\"M632.49,-100.5C639.52,-100.5 647.64,-100.5 656.4,-100.5\"/>\n<polygon fill=\"black\" stroke=\"black\" points=\"656.3,-104 666.3,-100.5 656.3,-97 656.3,-104\"/>\n</g>\n<!-- 13463314896 -->\n<g id=\"node15\" class=\"node\">\n<title>13463314896</title>\n<polygon fill=\"none\" stroke=\"black\" points=\"3.75,-110.5 3.75,-146.5 194.25,-146.5 194.25,-110.5 3.75,-110.5\"/>\n<text text-anchor=\"middle\" x=\"18.5\" y=\"-123.7\" font-family=\"Times,serif\" font-size=\"14.00\">x2</text>\n<polyline fill=\"none\" stroke=\"black\" points=\"33.25,-111 33.25,-146.5\"/>\n<text text-anchor=\"middle\" x=\"73.12\" y=\"-123.7\" font-family=\"Times,serif\" font-size=\"14.00\">data 0.0000</text>\n<polyline fill=\"none\" stroke=\"black\" points=\"113,-111 113,-146.5\"/>\n<text text-anchor=\"middle\" x=\"153.62\" y=\"-123.7\" font-family=\"Times,serif\" font-size=\"14.00\">grad 0.0000</text>\n</g>\n<!-- 13463314896&#45;&gt;13463322528* -->\n<g id=\"edge6\" class=\"edge\">\n<title>13463314896&#45;&gt;13463322528*</title>\n<path fill=\"none\" stroke=\"black\" d=\"M194.46,-128.5C204.21,-128.5 213.66,-128.5 222.21,-128.5\"/>\n<polygon fill=\"black\" stroke=\"black\" points=\"222.12,-132 232.12,-128.5 222.12,-125 222.12,-132\"/>\n</g>\n</g>\n</svg>\n",
      "text/plain": [
       "<graphviz.graphs.Digraph at 0x32279ef50>"
      ]
     },
     "execution_count": 421,
     "metadata": {},
     "output_type": "execute_result"
    }
   ],
   "execution_count": 421
  },
  {
   "metadata": {},
   "cell_type": "markdown",
   "source": "## Backpropagation Step 1: o"
  },
  {
   "metadata": {
    "ExecuteTime": {
     "end_time": "2024-12-11T12:09:27.689828Z",
     "start_time": "2024-12-11T12:09:27.613841Z"
    }
   },
   "cell_type": "code",
   "source": [
    "o.grad = 1\n",
    "draw_dot(o)"
   ],
   "outputs": [
    {
     "data": {
      "image/svg+xml": "<?xml version=\"1.0\" encoding=\"UTF-8\" standalone=\"no\"?>\n<!DOCTYPE svg PUBLIC \"-//W3C//DTD SVG 1.1//EN\"\n \"http://www.w3.org/Graphics/SVG/1.1/DTD/svg11.dtd\">\n<!-- Generated by graphviz version 12.2.0 (20241103.1931)\n -->\n<!-- Pages: 1 -->\n<svg width=\"1546pt\" height=\"210pt\"\n viewBox=\"0.00 0.00 1545.50 210.00\" xmlns=\"http://www.w3.org/2000/svg\" xmlns:xlink=\"http://www.w3.org/1999/xlink\">\n<g id=\"graph0\" class=\"graph\" transform=\"scale(1 1) rotate(0) translate(4 206)\">\n<polygon fill=\"white\" stroke=\"none\" points=\"-4,4 -4,-206 1541.5,-206 1541.5,4 -4,4\"/>\n<!-- 13463318016 -->\n<g id=\"node1\" class=\"node\">\n<title>13463318016</title>\n<polygon fill=\"none\" stroke=\"black\" points=\"2.25,-165.5 2.25,-201.5 195.75,-201.5 195.75,-165.5 2.25,-165.5\"/>\n<text text-anchor=\"middle\" x=\"18.5\" y=\"-178.7\" font-family=\"Times,serif\" font-size=\"14.00\">w2</text>\n<polyline fill=\"none\" stroke=\"black\" points=\"34.75,-166 34.75,-201.5\"/>\n<text text-anchor=\"middle\" x=\"74.62\" y=\"-178.7\" font-family=\"Times,serif\" font-size=\"14.00\">data 1.0000</text>\n<polyline fill=\"none\" stroke=\"black\" points=\"114.5,-166 114.5,-201.5\"/>\n<text text-anchor=\"middle\" x=\"155.12\" y=\"-178.7\" font-family=\"Times,serif\" font-size=\"14.00\">grad 0.0000</text>\n</g>\n<!-- 13463322528* -->\n<g id=\"node3\" class=\"node\">\n<title>13463322528*</title>\n<ellipse fill=\"none\" stroke=\"black\" cx=\"261\" cy=\"-128.5\" rx=\"27\" ry=\"18\"/>\n<text text-anchor=\"middle\" x=\"261\" y=\"-123.45\" font-family=\"Times,serif\" font-size=\"14.00\">*</text>\n</g>\n<!-- 13463318016&#45;&gt;13463322528* -->\n<g id=\"edge12\" class=\"edge\">\n<title>13463318016&#45;&gt;13463322528*</title>\n<path fill=\"none\" stroke=\"black\" d=\"M172.12,-165.01C180.9,-162.35 189.7,-159.5 198,-156.5 208.09,-152.86 218.82,-148.27 228.47,-143.88\"/>\n<polygon fill=\"black\" stroke=\"black\" points=\"229.86,-147.09 237.45,-139.69 226.9,-140.75 229.86,-147.09\"/>\n</g>\n<!-- 13463322528 -->\n<g id=\"node2\" class=\"node\">\n<title>13463322528</title>\n<polygon fill=\"none\" stroke=\"black\" points=\"326.25,-110.5 326.25,-146.5 540,-146.5 540,-110.5 326.25,-110.5\"/>\n<text text-anchor=\"middle\" x=\"352.62\" y=\"-123.7\" font-family=\"Times,serif\" font-size=\"14.00\">x2*w2</text>\n<polyline fill=\"none\" stroke=\"black\" points=\"379,-111 379,-146.5\"/>\n<text text-anchor=\"middle\" x=\"418.88\" y=\"-123.7\" font-family=\"Times,serif\" font-size=\"14.00\">data 0.0000</text>\n<polyline fill=\"none\" stroke=\"black\" points=\"458.75,-111 458.75,-146.5\"/>\n<text text-anchor=\"middle\" x=\"499.38\" y=\"-123.7\" font-family=\"Times,serif\" font-size=\"14.00\">grad 0.0000</text>\n</g>\n<!-- 13463319456+ -->\n<g id=\"node14\" class=\"node\">\n<title>13463319456+</title>\n<ellipse fill=\"none\" stroke=\"black\" cx=\"605.25\" cy=\"-100.5\" rx=\"27\" ry=\"18\"/>\n<text text-anchor=\"middle\" x=\"605.25\" y=\"-95.45\" font-family=\"Times,serif\" font-size=\"14.00\">+</text>\n</g>\n<!-- 13463322528&#45;&gt;13463319456+ -->\n<g id=\"edge11\" class=\"edge\">\n<title>13463322528&#45;&gt;13463319456+</title>\n<path fill=\"none\" stroke=\"black\" d=\"M540.42,-111.01C549.89,-109.45 559,-107.95 567.21,-106.6\"/>\n<polygon fill=\"black\" stroke=\"black\" points=\"567.75,-110.05 577.05,-104.98 566.62,-103.15 567.75,-110.05\"/>\n</g>\n<!-- 13463322528*&#45;&gt;13463322528 -->\n<g id=\"edge1\" class=\"edge\">\n<title>13463322528*&#45;&gt;13463322528</title>\n<path fill=\"none\" stroke=\"black\" d=\"M288.21,-128.5C296,-128.5 305.08,-128.5 314.82,-128.5\"/>\n<polygon fill=\"black\" stroke=\"black\" points=\"314.55,-132 324.55,-128.5 314.55,-125 314.55,-132\"/>\n</g>\n<!-- 13463318592 -->\n<g id=\"node4\" class=\"node\">\n<title>13463318592</title>\n<polygon fill=\"none\" stroke=\"black\" points=\"701.25,-27.5 701.25,-63.5 885,-63.5 885,-27.5 701.25,-27.5\"/>\n<text text-anchor=\"middle\" x=\"712.62\" y=\"-40.7\" font-family=\"Times,serif\" font-size=\"14.00\">b</text>\n<polyline fill=\"none\" stroke=\"black\" points=\"724,-28 724,-63.5\"/>\n<text text-anchor=\"middle\" x=\"763.88\" y=\"-40.7\" font-family=\"Times,serif\" font-size=\"14.00\">data 6.8814</text>\n<polyline fill=\"none\" stroke=\"black\" points=\"803.75,-28 803.75,-63.5\"/>\n<text text-anchor=\"middle\" x=\"844.38\" y=\"-40.7\" font-family=\"Times,serif\" font-size=\"14.00\">grad 0.0000</text>\n</g>\n<!-- 13463319792+ -->\n<g id=\"node10\" class=\"node\">\n<title>13463319792+</title>\n<ellipse fill=\"none\" stroke=\"black\" cx=\"981\" cy=\"-72.5\" rx=\"27\" ry=\"18\"/>\n<text text-anchor=\"middle\" x=\"981\" y=\"-67.45\" font-family=\"Times,serif\" font-size=\"14.00\">+</text>\n</g>\n<!-- 13463318592&#45;&gt;13463319792+ -->\n<g id=\"edge8\" class=\"edge\">\n<title>13463318592&#45;&gt;13463319792+</title>\n<path fill=\"none\" stroke=\"black\" d=\"M885.43,-58.76C906.02,-61.75 926.71,-64.76 943.47,-67.19\"/>\n<polygon fill=\"black\" stroke=\"black\" points=\"942.5,-70.59 952.9,-68.56 943.5,-63.66 942.5,-70.59\"/>\n</g>\n<!-- 13463318640 -->\n<g id=\"node5\" class=\"node\">\n<title>13463318640</title>\n<polygon fill=\"none\" stroke=\"black\" points=\"324,-55.5 324,-91.5 542.25,-91.5 542.25,-55.5 324,-55.5\"/>\n<text text-anchor=\"middle\" x=\"350.38\" y=\"-68.7\" font-family=\"Times,serif\" font-size=\"14.00\">x1*w1</text>\n<polyline fill=\"none\" stroke=\"black\" points=\"376.75,-56 376.75,-91.5\"/>\n<text text-anchor=\"middle\" x=\"418.88\" y=\"-68.7\" font-family=\"Times,serif\" font-size=\"14.00\">data &#45;6.0000</text>\n<polyline fill=\"none\" stroke=\"black\" points=\"461,-56 461,-91.5\"/>\n<text text-anchor=\"middle\" x=\"501.62\" y=\"-68.7\" font-family=\"Times,serif\" font-size=\"14.00\">grad 0.0000</text>\n</g>\n<!-- 13463318640&#45;&gt;13463319456+ -->\n<g id=\"edge10\" class=\"edge\">\n<title>13463318640&#45;&gt;13463319456+</title>\n<path fill=\"none\" stroke=\"black\" d=\"M542.35,-90.68C551.12,-92.07 559.54,-93.4 567.19,-94.62\"/>\n<polygon fill=\"black\" stroke=\"black\" points=\"566.59,-98.07 577.02,-96.18 567.69,-91.15 566.59,-98.07\"/>\n</g>\n<!-- 13463318640* -->\n<g id=\"node6\" class=\"node\">\n<title>13463318640*</title>\n<ellipse fill=\"none\" stroke=\"black\" cx=\"261\" cy=\"-73.5\" rx=\"27\" ry=\"18\"/>\n<text text-anchor=\"middle\" x=\"261\" y=\"-68.45\" font-family=\"Times,serif\" font-size=\"14.00\">*</text>\n</g>\n<!-- 13463318640*&#45;&gt;13463318640 -->\n<g id=\"edge2\" class=\"edge\">\n<title>13463318640*&#45;&gt;13463318640</title>\n<path fill=\"none\" stroke=\"black\" d=\"M288.21,-73.5C295.29,-73.5 303.43,-73.5 312.17,-73.5\"/>\n<polygon fill=\"black\" stroke=\"black\" points=\"312.01,-77 322.01,-73.5 312.01,-70 312.01,-77\"/>\n</g>\n<!-- 13463306352 -->\n<g id=\"node7\" class=\"node\">\n<title>13463306352</title>\n<polygon fill=\"none\" stroke=\"black\" points=\"0,-55.5 0,-91.5 198,-91.5 198,-55.5 0,-55.5\"/>\n<text text-anchor=\"middle\" x=\"16.25\" y=\"-68.7\" font-family=\"Times,serif\" font-size=\"14.00\">w1</text>\n<polyline fill=\"none\" stroke=\"black\" points=\"32.5,-56 32.5,-91.5\"/>\n<text text-anchor=\"middle\" x=\"74.62\" y=\"-68.7\" font-family=\"Times,serif\" font-size=\"14.00\">data &#45;3.0000</text>\n<polyline fill=\"none\" stroke=\"black\" points=\"116.75,-56 116.75,-91.5\"/>\n<text text-anchor=\"middle\" x=\"157.38\" y=\"-68.7\" font-family=\"Times,serif\" font-size=\"14.00\">grad 0.0000</text>\n</g>\n<!-- 13463306352&#45;&gt;13463318640* -->\n<g id=\"edge13\" class=\"edge\">\n<title>13463306352&#45;&gt;13463318640*</title>\n<path fill=\"none\" stroke=\"black\" d=\"M198.14,-73.5C206.61,-73.5 214.8,-73.5 222.29,-73.5\"/>\n<polygon fill=\"black\" stroke=\"black\" points=\"222.29,-77 232.29,-73.5 222.29,-70 222.29,-77\"/>\n</g>\n<!-- 13463319744 -->\n<g id=\"node8\" class=\"node\">\n<title>13463319744</title>\n<polygon fill=\"none\" stroke=\"black\" points=\"3.75,-0.5 3.75,-36.5 194.25,-36.5 194.25,-0.5 3.75,-0.5\"/>\n<text text-anchor=\"middle\" x=\"18.5\" y=\"-13.7\" font-family=\"Times,serif\" font-size=\"14.00\">x1</text>\n<polyline fill=\"none\" stroke=\"black\" points=\"33.25,-1 33.25,-36.5\"/>\n<text text-anchor=\"middle\" x=\"73.12\" y=\"-13.7\" font-family=\"Times,serif\" font-size=\"14.00\">data 2.0000</text>\n<polyline fill=\"none\" stroke=\"black\" points=\"113,-1 113,-36.5\"/>\n<text text-anchor=\"middle\" x=\"153.62\" y=\"-13.7\" font-family=\"Times,serif\" font-size=\"14.00\">grad 0.0000</text>\n</g>\n<!-- 13463319744&#45;&gt;13463318640* -->\n<g id=\"edge9\" class=\"edge\">\n<title>13463319744&#45;&gt;13463318640*</title>\n<path fill=\"none\" stroke=\"black\" d=\"M172.12,-36.99C180.9,-39.65 189.7,-42.5 198,-45.5 208.09,-49.14 218.82,-53.73 228.47,-58.12\"/>\n<polygon fill=\"black\" stroke=\"black\" points=\"226.9,-61.25 237.45,-62.31 229.86,-54.91 226.9,-61.25\"/>\n</g>\n<!-- 13463319792 -->\n<g id=\"node9\" class=\"node\">\n<title>13463319792</title>\n<polygon fill=\"none\" stroke=\"black\" points=\"1044,-54.5 1044,-90.5 1227.75,-90.5 1227.75,-54.5 1044,-54.5\"/>\n<text text-anchor=\"middle\" x=\"1055.38\" y=\"-67.7\" font-family=\"Times,serif\" font-size=\"14.00\">n</text>\n<polyline fill=\"none\" stroke=\"black\" points=\"1066.75,-55 1066.75,-90.5\"/>\n<text text-anchor=\"middle\" x=\"1106.62\" y=\"-67.7\" font-family=\"Times,serif\" font-size=\"14.00\">data 0.8814</text>\n<polyline fill=\"none\" stroke=\"black\" points=\"1146.5,-55 1146.5,-90.5\"/>\n<text text-anchor=\"middle\" x=\"1187.12\" y=\"-67.7\" font-family=\"Times,serif\" font-size=\"14.00\">grad 0.0000</text>\n</g>\n<!-- 13463311680tanh -->\n<g id=\"node12\" class=\"node\">\n<title>13463311680tanh</title>\n<ellipse fill=\"none\" stroke=\"black\" cx=\"1290.75\" cy=\"-72.5\" rx=\"27\" ry=\"18\"/>\n<text text-anchor=\"middle\" x=\"1290.75\" y=\"-67.45\" font-family=\"Times,serif\" font-size=\"14.00\">tanh</text>\n</g>\n<!-- 13463319792&#45;&gt;13463311680tanh -->\n<g id=\"edge14\" class=\"edge\">\n<title>13463319792&#45;&gt;13463311680tanh</title>\n<path fill=\"none\" stroke=\"black\" d=\"M1228.01,-72.5C1236.39,-72.5 1244.52,-72.5 1251.98,-72.5\"/>\n<polygon fill=\"black\" stroke=\"black\" points=\"1251.95,-76 1261.95,-72.5 1251.95,-69 1251.95,-76\"/>\n</g>\n<!-- 13463319792+&#45;&gt;13463319792 -->\n<g id=\"edge3\" class=\"edge\">\n<title>13463319792+&#45;&gt;13463319792</title>\n<path fill=\"none\" stroke=\"black\" d=\"M1008.28,-72.5C1015.42,-72.5 1023.61,-72.5 1032.32,-72.5\"/>\n<polygon fill=\"black\" stroke=\"black\" points=\"1032.06,-76 1042.06,-72.5 1032.06,-69 1032.06,-76\"/>\n</g>\n<!-- 13463311680 -->\n<g id=\"node11\" class=\"node\">\n<title>13463311680</title>\n<polygon fill=\"none\" stroke=\"black\" points=\"1353.75,-54.5 1353.75,-90.5 1537.5,-90.5 1537.5,-54.5 1353.75,-54.5\"/>\n<text text-anchor=\"middle\" x=\"1365.12\" y=\"-67.7\" font-family=\"Times,serif\" font-size=\"14.00\">o</text>\n<polyline fill=\"none\" stroke=\"black\" points=\"1376.5,-55 1376.5,-90.5\"/>\n<text text-anchor=\"middle\" x=\"1416.38\" y=\"-67.7\" font-family=\"Times,serif\" font-size=\"14.00\">data 0.7071</text>\n<polyline fill=\"none\" stroke=\"black\" points=\"1456.25,-55 1456.25,-90.5\"/>\n<text text-anchor=\"middle\" x=\"1496.88\" y=\"-67.7\" font-family=\"Times,serif\" font-size=\"14.00\">grad 1.0000</text>\n</g>\n<!-- 13463311680tanh&#45;&gt;13463311680 -->\n<g id=\"edge4\" class=\"edge\">\n<title>13463311680tanh&#45;&gt;13463311680</title>\n<path fill=\"none\" stroke=\"black\" d=\"M1318.03,-72.5C1325.17,-72.5 1333.36,-72.5 1342.07,-72.5\"/>\n<polygon fill=\"black\" stroke=\"black\" points=\"1341.81,-76 1351.81,-72.5 1341.81,-69 1341.81,-76\"/>\n</g>\n<!-- 13463319456 -->\n<g id=\"node13\" class=\"node\">\n<title>13463319456</title>\n<polygon fill=\"none\" stroke=\"black\" points=\"668.25,-82.5 668.25,-118.5 918,-118.5 918,-82.5 668.25,-82.5\"/>\n<text text-anchor=\"middle\" x=\"710.38\" y=\"-95.7\" font-family=\"Times,serif\" font-size=\"14.00\">x1w1+x2w2</text>\n<polyline fill=\"none\" stroke=\"black\" points=\"752.5,-83 752.5,-118.5\"/>\n<text text-anchor=\"middle\" x=\"794.62\" y=\"-95.7\" font-family=\"Times,serif\" font-size=\"14.00\">data &#45;6.0000</text>\n<polyline fill=\"none\" stroke=\"black\" points=\"836.75,-83 836.75,-118.5\"/>\n<text text-anchor=\"middle\" x=\"877.38\" y=\"-95.7\" font-family=\"Times,serif\" font-size=\"14.00\">grad 0.0000</text>\n</g>\n<!-- 13463319456&#45;&gt;13463319792+ -->\n<g id=\"edge7\" class=\"edge\">\n<title>13463319456&#45;&gt;13463319792+</title>\n<path fill=\"none\" stroke=\"black\" d=\"M916.81,-82.02C926.08,-80.62 934.9,-79.29 942.86,-78.09\"/>\n<polygon fill=\"black\" stroke=\"black\" points=\"943.36,-81.56 952.72,-76.61 942.31,-74.64 943.36,-81.56\"/>\n</g>\n<!-- 13463319456+&#45;&gt;13463319456 -->\n<g id=\"edge5\" class=\"edge\">\n<title>13463319456+&#45;&gt;13463319456</title>\n<path fill=\"none\" stroke=\"black\" d=\"M632.49,-100.5C639.52,-100.5 647.64,-100.5 656.4,-100.5\"/>\n<polygon fill=\"black\" stroke=\"black\" points=\"656.3,-104 666.3,-100.5 656.3,-97 656.3,-104\"/>\n</g>\n<!-- 13463314896 -->\n<g id=\"node15\" class=\"node\">\n<title>13463314896</title>\n<polygon fill=\"none\" stroke=\"black\" points=\"3.75,-110.5 3.75,-146.5 194.25,-146.5 194.25,-110.5 3.75,-110.5\"/>\n<text text-anchor=\"middle\" x=\"18.5\" y=\"-123.7\" font-family=\"Times,serif\" font-size=\"14.00\">x2</text>\n<polyline fill=\"none\" stroke=\"black\" points=\"33.25,-111 33.25,-146.5\"/>\n<text text-anchor=\"middle\" x=\"73.12\" y=\"-123.7\" font-family=\"Times,serif\" font-size=\"14.00\">data 0.0000</text>\n<polyline fill=\"none\" stroke=\"black\" points=\"113,-111 113,-146.5\"/>\n<text text-anchor=\"middle\" x=\"153.62\" y=\"-123.7\" font-family=\"Times,serif\" font-size=\"14.00\">grad 0.0000</text>\n</g>\n<!-- 13463314896&#45;&gt;13463322528* -->\n<g id=\"edge6\" class=\"edge\">\n<title>13463314896&#45;&gt;13463322528*</title>\n<path fill=\"none\" stroke=\"black\" d=\"M194.46,-128.5C204.21,-128.5 213.66,-128.5 222.21,-128.5\"/>\n<polygon fill=\"black\" stroke=\"black\" points=\"222.12,-132 232.12,-128.5 222.12,-125 222.12,-132\"/>\n</g>\n</g>\n</svg>\n",
      "text/plain": [
       "<graphviz.graphs.Digraph at 0x32279e020>"
      ]
     },
     "execution_count": 422,
     "metadata": {},
     "output_type": "execute_result"
    }
   ],
   "execution_count": 422
  },
  {
   "metadata": {},
   "cell_type": "markdown",
   "source": "## Backpropagation Step 2: n"
  },
  {
   "metadata": {},
   "cell_type": "markdown",
   "source": [
    "We know that the derivative of $tanh(x)$ is equal to $1 - tanh^2(x)$. Therefor we can calculate\n",
    "\n",
    "$$\\frac{\\partial o}{\\partial n} = 1 - o^2 = 1 - 0.7071^2 = 0.5$$"
   ]
  },
  {
   "metadata": {
    "ExecuteTime": {
     "end_time": "2024-12-11T12:09:27.772636Z",
     "start_time": "2024-12-11T12:09:27.699287Z"
    }
   },
   "cell_type": "code",
   "source": [
    "dot, derivative = partial_using_lim(o, n)\n",
    "print(derivative)\n",
    "dot"
   ],
   "outputs": [
    {
     "name": "stdout",
     "output_type": "stream",
     "text": [
      "0.4999646454939555\n"
     ]
    },
    {
     "data": {
      "image/svg+xml": "<?xml version=\"1.0\" encoding=\"UTF-8\" standalone=\"no\"?>\n<!DOCTYPE svg PUBLIC \"-//W3C//DTD SVG 1.1//EN\"\n \"http://www.w3.org/Graphics/SVG/1.1/DTD/svg11.dtd\">\n<!-- Generated by graphviz version 12.2.0 (20241103.1931)\n -->\n<!-- Pages: 1 -->\n<svg width=\"592pt\" height=\"45pt\"\n viewBox=\"0.00 0.00 591.50 45.00\" xmlns=\"http://www.w3.org/2000/svg\" xmlns:xlink=\"http://www.w3.org/1999/xlink\">\n<g id=\"graph0\" class=\"graph\" transform=\"scale(1 1) rotate(0) translate(4 41)\">\n<polygon fill=\"white\" stroke=\"none\" points=\"-4,4 -4,-41 587.5,-41 587.5,4 -4,4\"/>\n<!-- 13463321184 -->\n<g id=\"node1\" class=\"node\">\n<title>13463321184</title>\n<polygon fill=\"none\" stroke=\"black\" points=\"399.75,-0.5 399.75,-36.5 583.5,-36.5 583.5,-0.5 399.75,-0.5\"/>\n<text text-anchor=\"middle\" x=\"411.12\" y=\"-13.7\" font-family=\"Times,serif\" font-size=\"14.00\">o</text>\n<polyline fill=\"none\" stroke=\"black\" points=\"422.5,-1 422.5,-36.5\"/>\n<text text-anchor=\"middle\" x=\"462.38\" y=\"-13.7\" font-family=\"Times,serif\" font-size=\"14.00\">data 0.7072</text>\n<polyline fill=\"none\" stroke=\"black\" points=\"502.25,-1 502.25,-36.5\"/>\n<text text-anchor=\"middle\" x=\"542.88\" y=\"-13.7\" font-family=\"Times,serif\" font-size=\"14.00\">grad 0.0000</text>\n</g>\n<!-- 13463321184tanh -->\n<g id=\"node2\" class=\"node\">\n<title>13463321184tanh</title>\n<ellipse fill=\"none\" stroke=\"black\" cx=\"336.75\" cy=\"-18.5\" rx=\"27\" ry=\"18\"/>\n<text text-anchor=\"middle\" x=\"336.75\" y=\"-13.45\" font-family=\"Times,serif\" font-size=\"14.00\">tanh</text>\n</g>\n<!-- 13463321184tanh&#45;&gt;13463321184 -->\n<g id=\"edge1\" class=\"edge\">\n<title>13463321184tanh&#45;&gt;13463321184</title>\n<path fill=\"none\" stroke=\"black\" d=\"M364.03,-18.5C371.17,-18.5 379.36,-18.5 388.07,-18.5\"/>\n<polygon fill=\"black\" stroke=\"black\" points=\"387.81,-22 397.81,-18.5 387.81,-15 387.81,-22\"/>\n</g>\n<!-- 13463322480 -->\n<g id=\"node3\" class=\"node\">\n<title>13463322480</title>\n<polygon fill=\"none\" stroke=\"black\" points=\"90,-0.5 90,-36.5 273.75,-36.5 273.75,-0.5 90,-0.5\"/>\n<text text-anchor=\"middle\" x=\"101.38\" y=\"-13.7\" font-family=\"Times,serif\" font-size=\"14.00\">n</text>\n<polyline fill=\"none\" stroke=\"black\" points=\"112.75,-1 112.75,-36.5\"/>\n<text text-anchor=\"middle\" x=\"152.62\" y=\"-13.7\" font-family=\"Times,serif\" font-size=\"14.00\">data 0.8815</text>\n<polyline fill=\"none\" stroke=\"black\" points=\"192.5,-1 192.5,-36.5\"/>\n<text text-anchor=\"middle\" x=\"233.12\" y=\"-13.7\" font-family=\"Times,serif\" font-size=\"14.00\">grad 0.0000</text>\n</g>\n<!-- 13463322480&#45;&gt;13463321184tanh -->\n<g id=\"edge3\" class=\"edge\">\n<title>13463322480&#45;&gt;13463321184tanh</title>\n<path fill=\"none\" stroke=\"black\" d=\"M274.01,-18.5C282.39,-18.5 290.52,-18.5 297.98,-18.5\"/>\n<polygon fill=\"black\" stroke=\"black\" points=\"297.95,-22 307.95,-18.5 297.95,-15 297.95,-22\"/>\n</g>\n<!-- 13463322480+ -->\n<g id=\"node4\" class=\"node\">\n<title>13463322480+</title>\n<ellipse fill=\"none\" stroke=\"black\" cx=\"27\" cy=\"-18.5\" rx=\"27\" ry=\"18\"/>\n<text text-anchor=\"middle\" x=\"27\" y=\"-13.45\" font-family=\"Times,serif\" font-size=\"14.00\">+</text>\n</g>\n<!-- 13463322480+&#45;&gt;13463322480 -->\n<g id=\"edge2\" class=\"edge\">\n<title>13463322480+&#45;&gt;13463322480</title>\n<path fill=\"none\" stroke=\"black\" d=\"M54.28,-18.5C61.42,-18.5 69.61,-18.5 78.32,-18.5\"/>\n<polygon fill=\"black\" stroke=\"black\" points=\"78.06,-22 88.06,-18.5 78.06,-15 78.06,-22\"/>\n</g>\n</g>\n</svg>\n",
      "text/plain": [
       "<graphviz.graphs.Digraph at 0x32279f820>"
      ]
     },
     "execution_count": 423,
     "metadata": {},
     "output_type": "execute_result"
    }
   ],
   "execution_count": 423
  },
  {
   "metadata": {
    "ExecuteTime": {
     "end_time": "2024-12-11T12:09:27.854016Z",
     "start_time": "2024-12-11T12:09:27.780935Z"
    }
   },
   "cell_type": "code",
   "source": [
    "# Applying the gradient\n",
    "n.grad = 0.5\n",
    "draw_dot(o)"
   ],
   "outputs": [
    {
     "data": {
      "image/svg+xml": "<?xml version=\"1.0\" encoding=\"UTF-8\" standalone=\"no\"?>\n<!DOCTYPE svg PUBLIC \"-//W3C//DTD SVG 1.1//EN\"\n \"http://www.w3.org/Graphics/SVG/1.1/DTD/svg11.dtd\">\n<!-- Generated by graphviz version 12.2.0 (20241103.1931)\n -->\n<!-- Pages: 1 -->\n<svg width=\"1546pt\" height=\"210pt\"\n viewBox=\"0.00 0.00 1545.50 210.00\" xmlns=\"http://www.w3.org/2000/svg\" xmlns:xlink=\"http://www.w3.org/1999/xlink\">\n<g id=\"graph0\" class=\"graph\" transform=\"scale(1 1) rotate(0) translate(4 206)\">\n<polygon fill=\"white\" stroke=\"none\" points=\"-4,4 -4,-206 1541.5,-206 1541.5,4 -4,4\"/>\n<!-- 13463318016 -->\n<g id=\"node1\" class=\"node\">\n<title>13463318016</title>\n<polygon fill=\"none\" stroke=\"black\" points=\"2.25,-165.5 2.25,-201.5 195.75,-201.5 195.75,-165.5 2.25,-165.5\"/>\n<text text-anchor=\"middle\" x=\"18.5\" y=\"-178.7\" font-family=\"Times,serif\" font-size=\"14.00\">w2</text>\n<polyline fill=\"none\" stroke=\"black\" points=\"34.75,-166 34.75,-201.5\"/>\n<text text-anchor=\"middle\" x=\"74.62\" y=\"-178.7\" font-family=\"Times,serif\" font-size=\"14.00\">data 1.0000</text>\n<polyline fill=\"none\" stroke=\"black\" points=\"114.5,-166 114.5,-201.5\"/>\n<text text-anchor=\"middle\" x=\"155.12\" y=\"-178.7\" font-family=\"Times,serif\" font-size=\"14.00\">grad 0.0000</text>\n</g>\n<!-- 13463322528* -->\n<g id=\"node3\" class=\"node\">\n<title>13463322528*</title>\n<ellipse fill=\"none\" stroke=\"black\" cx=\"261\" cy=\"-128.5\" rx=\"27\" ry=\"18\"/>\n<text text-anchor=\"middle\" x=\"261\" y=\"-123.45\" font-family=\"Times,serif\" font-size=\"14.00\">*</text>\n</g>\n<!-- 13463318016&#45;&gt;13463322528* -->\n<g id=\"edge12\" class=\"edge\">\n<title>13463318016&#45;&gt;13463322528*</title>\n<path fill=\"none\" stroke=\"black\" d=\"M172.12,-165.01C180.9,-162.35 189.7,-159.5 198,-156.5 208.09,-152.86 218.82,-148.27 228.47,-143.88\"/>\n<polygon fill=\"black\" stroke=\"black\" points=\"229.86,-147.09 237.45,-139.69 226.9,-140.75 229.86,-147.09\"/>\n</g>\n<!-- 13463322528 -->\n<g id=\"node2\" class=\"node\">\n<title>13463322528</title>\n<polygon fill=\"none\" stroke=\"black\" points=\"326.25,-110.5 326.25,-146.5 540,-146.5 540,-110.5 326.25,-110.5\"/>\n<text text-anchor=\"middle\" x=\"352.62\" y=\"-123.7\" font-family=\"Times,serif\" font-size=\"14.00\">x2*w2</text>\n<polyline fill=\"none\" stroke=\"black\" points=\"379,-111 379,-146.5\"/>\n<text text-anchor=\"middle\" x=\"418.88\" y=\"-123.7\" font-family=\"Times,serif\" font-size=\"14.00\">data 0.0000</text>\n<polyline fill=\"none\" stroke=\"black\" points=\"458.75,-111 458.75,-146.5\"/>\n<text text-anchor=\"middle\" x=\"499.38\" y=\"-123.7\" font-family=\"Times,serif\" font-size=\"14.00\">grad 0.0000</text>\n</g>\n<!-- 13463319456+ -->\n<g id=\"node14\" class=\"node\">\n<title>13463319456+</title>\n<ellipse fill=\"none\" stroke=\"black\" cx=\"605.25\" cy=\"-100.5\" rx=\"27\" ry=\"18\"/>\n<text text-anchor=\"middle\" x=\"605.25\" y=\"-95.45\" font-family=\"Times,serif\" font-size=\"14.00\">+</text>\n</g>\n<!-- 13463322528&#45;&gt;13463319456+ -->\n<g id=\"edge11\" class=\"edge\">\n<title>13463322528&#45;&gt;13463319456+</title>\n<path fill=\"none\" stroke=\"black\" d=\"M540.42,-111.01C549.89,-109.45 559,-107.95 567.21,-106.6\"/>\n<polygon fill=\"black\" stroke=\"black\" points=\"567.75,-110.05 577.05,-104.98 566.62,-103.15 567.75,-110.05\"/>\n</g>\n<!-- 13463322528*&#45;&gt;13463322528 -->\n<g id=\"edge1\" class=\"edge\">\n<title>13463322528*&#45;&gt;13463322528</title>\n<path fill=\"none\" stroke=\"black\" d=\"M288.21,-128.5C296,-128.5 305.08,-128.5 314.82,-128.5\"/>\n<polygon fill=\"black\" stroke=\"black\" points=\"314.55,-132 324.55,-128.5 314.55,-125 314.55,-132\"/>\n</g>\n<!-- 13463318592 -->\n<g id=\"node4\" class=\"node\">\n<title>13463318592</title>\n<polygon fill=\"none\" stroke=\"black\" points=\"701.25,-27.5 701.25,-63.5 885,-63.5 885,-27.5 701.25,-27.5\"/>\n<text text-anchor=\"middle\" x=\"712.62\" y=\"-40.7\" font-family=\"Times,serif\" font-size=\"14.00\">b</text>\n<polyline fill=\"none\" stroke=\"black\" points=\"724,-28 724,-63.5\"/>\n<text text-anchor=\"middle\" x=\"763.88\" y=\"-40.7\" font-family=\"Times,serif\" font-size=\"14.00\">data 6.8814</text>\n<polyline fill=\"none\" stroke=\"black\" points=\"803.75,-28 803.75,-63.5\"/>\n<text text-anchor=\"middle\" x=\"844.38\" y=\"-40.7\" font-family=\"Times,serif\" font-size=\"14.00\">grad 0.0000</text>\n</g>\n<!-- 13463319792+ -->\n<g id=\"node10\" class=\"node\">\n<title>13463319792+</title>\n<ellipse fill=\"none\" stroke=\"black\" cx=\"981\" cy=\"-72.5\" rx=\"27\" ry=\"18\"/>\n<text text-anchor=\"middle\" x=\"981\" y=\"-67.45\" font-family=\"Times,serif\" font-size=\"14.00\">+</text>\n</g>\n<!-- 13463318592&#45;&gt;13463319792+ -->\n<g id=\"edge8\" class=\"edge\">\n<title>13463318592&#45;&gt;13463319792+</title>\n<path fill=\"none\" stroke=\"black\" d=\"M885.43,-58.76C906.02,-61.75 926.71,-64.76 943.47,-67.19\"/>\n<polygon fill=\"black\" stroke=\"black\" points=\"942.5,-70.59 952.9,-68.56 943.5,-63.66 942.5,-70.59\"/>\n</g>\n<!-- 13463318640 -->\n<g id=\"node5\" class=\"node\">\n<title>13463318640</title>\n<polygon fill=\"none\" stroke=\"black\" points=\"324,-55.5 324,-91.5 542.25,-91.5 542.25,-55.5 324,-55.5\"/>\n<text text-anchor=\"middle\" x=\"350.38\" y=\"-68.7\" font-family=\"Times,serif\" font-size=\"14.00\">x1*w1</text>\n<polyline fill=\"none\" stroke=\"black\" points=\"376.75,-56 376.75,-91.5\"/>\n<text text-anchor=\"middle\" x=\"418.88\" y=\"-68.7\" font-family=\"Times,serif\" font-size=\"14.00\">data &#45;6.0000</text>\n<polyline fill=\"none\" stroke=\"black\" points=\"461,-56 461,-91.5\"/>\n<text text-anchor=\"middle\" x=\"501.62\" y=\"-68.7\" font-family=\"Times,serif\" font-size=\"14.00\">grad 0.0000</text>\n</g>\n<!-- 13463318640&#45;&gt;13463319456+ -->\n<g id=\"edge10\" class=\"edge\">\n<title>13463318640&#45;&gt;13463319456+</title>\n<path fill=\"none\" stroke=\"black\" d=\"M542.35,-90.68C551.12,-92.07 559.54,-93.4 567.19,-94.62\"/>\n<polygon fill=\"black\" stroke=\"black\" points=\"566.59,-98.07 577.02,-96.18 567.69,-91.15 566.59,-98.07\"/>\n</g>\n<!-- 13463318640* -->\n<g id=\"node6\" class=\"node\">\n<title>13463318640*</title>\n<ellipse fill=\"none\" stroke=\"black\" cx=\"261\" cy=\"-73.5\" rx=\"27\" ry=\"18\"/>\n<text text-anchor=\"middle\" x=\"261\" y=\"-68.45\" font-family=\"Times,serif\" font-size=\"14.00\">*</text>\n</g>\n<!-- 13463318640*&#45;&gt;13463318640 -->\n<g id=\"edge2\" class=\"edge\">\n<title>13463318640*&#45;&gt;13463318640</title>\n<path fill=\"none\" stroke=\"black\" d=\"M288.21,-73.5C295.29,-73.5 303.43,-73.5 312.17,-73.5\"/>\n<polygon fill=\"black\" stroke=\"black\" points=\"312.01,-77 322.01,-73.5 312.01,-70 312.01,-77\"/>\n</g>\n<!-- 13463306352 -->\n<g id=\"node7\" class=\"node\">\n<title>13463306352</title>\n<polygon fill=\"none\" stroke=\"black\" points=\"0,-55.5 0,-91.5 198,-91.5 198,-55.5 0,-55.5\"/>\n<text text-anchor=\"middle\" x=\"16.25\" y=\"-68.7\" font-family=\"Times,serif\" font-size=\"14.00\">w1</text>\n<polyline fill=\"none\" stroke=\"black\" points=\"32.5,-56 32.5,-91.5\"/>\n<text text-anchor=\"middle\" x=\"74.62\" y=\"-68.7\" font-family=\"Times,serif\" font-size=\"14.00\">data &#45;3.0000</text>\n<polyline fill=\"none\" stroke=\"black\" points=\"116.75,-56 116.75,-91.5\"/>\n<text text-anchor=\"middle\" x=\"157.38\" y=\"-68.7\" font-family=\"Times,serif\" font-size=\"14.00\">grad 0.0000</text>\n</g>\n<!-- 13463306352&#45;&gt;13463318640* -->\n<g id=\"edge13\" class=\"edge\">\n<title>13463306352&#45;&gt;13463318640*</title>\n<path fill=\"none\" stroke=\"black\" d=\"M198.14,-73.5C206.61,-73.5 214.8,-73.5 222.29,-73.5\"/>\n<polygon fill=\"black\" stroke=\"black\" points=\"222.29,-77 232.29,-73.5 222.29,-70 222.29,-77\"/>\n</g>\n<!-- 13463319744 -->\n<g id=\"node8\" class=\"node\">\n<title>13463319744</title>\n<polygon fill=\"none\" stroke=\"black\" points=\"3.75,-0.5 3.75,-36.5 194.25,-36.5 194.25,-0.5 3.75,-0.5\"/>\n<text text-anchor=\"middle\" x=\"18.5\" y=\"-13.7\" font-family=\"Times,serif\" font-size=\"14.00\">x1</text>\n<polyline fill=\"none\" stroke=\"black\" points=\"33.25,-1 33.25,-36.5\"/>\n<text text-anchor=\"middle\" x=\"73.12\" y=\"-13.7\" font-family=\"Times,serif\" font-size=\"14.00\">data 2.0000</text>\n<polyline fill=\"none\" stroke=\"black\" points=\"113,-1 113,-36.5\"/>\n<text text-anchor=\"middle\" x=\"153.62\" y=\"-13.7\" font-family=\"Times,serif\" font-size=\"14.00\">grad 0.0000</text>\n</g>\n<!-- 13463319744&#45;&gt;13463318640* -->\n<g id=\"edge9\" class=\"edge\">\n<title>13463319744&#45;&gt;13463318640*</title>\n<path fill=\"none\" stroke=\"black\" d=\"M172.12,-36.99C180.9,-39.65 189.7,-42.5 198,-45.5 208.09,-49.14 218.82,-53.73 228.47,-58.12\"/>\n<polygon fill=\"black\" stroke=\"black\" points=\"226.9,-61.25 237.45,-62.31 229.86,-54.91 226.9,-61.25\"/>\n</g>\n<!-- 13463319792 -->\n<g id=\"node9\" class=\"node\">\n<title>13463319792</title>\n<polygon fill=\"none\" stroke=\"black\" points=\"1044,-54.5 1044,-90.5 1227.75,-90.5 1227.75,-54.5 1044,-54.5\"/>\n<text text-anchor=\"middle\" x=\"1055.38\" y=\"-67.7\" font-family=\"Times,serif\" font-size=\"14.00\">n</text>\n<polyline fill=\"none\" stroke=\"black\" points=\"1066.75,-55 1066.75,-90.5\"/>\n<text text-anchor=\"middle\" x=\"1106.62\" y=\"-67.7\" font-family=\"Times,serif\" font-size=\"14.00\">data 0.8814</text>\n<polyline fill=\"none\" stroke=\"black\" points=\"1146.5,-55 1146.5,-90.5\"/>\n<text text-anchor=\"middle\" x=\"1187.12\" y=\"-67.7\" font-family=\"Times,serif\" font-size=\"14.00\">grad 0.5000</text>\n</g>\n<!-- 13463311680tanh -->\n<g id=\"node12\" class=\"node\">\n<title>13463311680tanh</title>\n<ellipse fill=\"none\" stroke=\"black\" cx=\"1290.75\" cy=\"-72.5\" rx=\"27\" ry=\"18\"/>\n<text text-anchor=\"middle\" x=\"1290.75\" y=\"-67.45\" font-family=\"Times,serif\" font-size=\"14.00\">tanh</text>\n</g>\n<!-- 13463319792&#45;&gt;13463311680tanh -->\n<g id=\"edge14\" class=\"edge\">\n<title>13463319792&#45;&gt;13463311680tanh</title>\n<path fill=\"none\" stroke=\"black\" d=\"M1228.01,-72.5C1236.39,-72.5 1244.52,-72.5 1251.98,-72.5\"/>\n<polygon fill=\"black\" stroke=\"black\" points=\"1251.95,-76 1261.95,-72.5 1251.95,-69 1251.95,-76\"/>\n</g>\n<!-- 13463319792+&#45;&gt;13463319792 -->\n<g id=\"edge3\" class=\"edge\">\n<title>13463319792+&#45;&gt;13463319792</title>\n<path fill=\"none\" stroke=\"black\" d=\"M1008.28,-72.5C1015.42,-72.5 1023.61,-72.5 1032.32,-72.5\"/>\n<polygon fill=\"black\" stroke=\"black\" points=\"1032.06,-76 1042.06,-72.5 1032.06,-69 1032.06,-76\"/>\n</g>\n<!-- 13463311680 -->\n<g id=\"node11\" class=\"node\">\n<title>13463311680</title>\n<polygon fill=\"none\" stroke=\"black\" points=\"1353.75,-54.5 1353.75,-90.5 1537.5,-90.5 1537.5,-54.5 1353.75,-54.5\"/>\n<text text-anchor=\"middle\" x=\"1365.12\" y=\"-67.7\" font-family=\"Times,serif\" font-size=\"14.00\">o</text>\n<polyline fill=\"none\" stroke=\"black\" points=\"1376.5,-55 1376.5,-90.5\"/>\n<text text-anchor=\"middle\" x=\"1416.38\" y=\"-67.7\" font-family=\"Times,serif\" font-size=\"14.00\">data 0.7071</text>\n<polyline fill=\"none\" stroke=\"black\" points=\"1456.25,-55 1456.25,-90.5\"/>\n<text text-anchor=\"middle\" x=\"1496.88\" y=\"-67.7\" font-family=\"Times,serif\" font-size=\"14.00\">grad 1.0000</text>\n</g>\n<!-- 13463311680tanh&#45;&gt;13463311680 -->\n<g id=\"edge4\" class=\"edge\">\n<title>13463311680tanh&#45;&gt;13463311680</title>\n<path fill=\"none\" stroke=\"black\" d=\"M1318.03,-72.5C1325.17,-72.5 1333.36,-72.5 1342.07,-72.5\"/>\n<polygon fill=\"black\" stroke=\"black\" points=\"1341.81,-76 1351.81,-72.5 1341.81,-69 1341.81,-76\"/>\n</g>\n<!-- 13463319456 -->\n<g id=\"node13\" class=\"node\">\n<title>13463319456</title>\n<polygon fill=\"none\" stroke=\"black\" points=\"668.25,-82.5 668.25,-118.5 918,-118.5 918,-82.5 668.25,-82.5\"/>\n<text text-anchor=\"middle\" x=\"710.38\" y=\"-95.7\" font-family=\"Times,serif\" font-size=\"14.00\">x1w1+x2w2</text>\n<polyline fill=\"none\" stroke=\"black\" points=\"752.5,-83 752.5,-118.5\"/>\n<text text-anchor=\"middle\" x=\"794.62\" y=\"-95.7\" font-family=\"Times,serif\" font-size=\"14.00\">data &#45;6.0000</text>\n<polyline fill=\"none\" stroke=\"black\" points=\"836.75,-83 836.75,-118.5\"/>\n<text text-anchor=\"middle\" x=\"877.38\" y=\"-95.7\" font-family=\"Times,serif\" font-size=\"14.00\">grad 0.0000</text>\n</g>\n<!-- 13463319456&#45;&gt;13463319792+ -->\n<g id=\"edge7\" class=\"edge\">\n<title>13463319456&#45;&gt;13463319792+</title>\n<path fill=\"none\" stroke=\"black\" d=\"M916.81,-82.02C926.08,-80.62 934.9,-79.29 942.86,-78.09\"/>\n<polygon fill=\"black\" stroke=\"black\" points=\"943.36,-81.56 952.72,-76.61 942.31,-74.64 943.36,-81.56\"/>\n</g>\n<!-- 13463319456+&#45;&gt;13463319456 -->\n<g id=\"edge5\" class=\"edge\">\n<title>13463319456+&#45;&gt;13463319456</title>\n<path fill=\"none\" stroke=\"black\" d=\"M632.49,-100.5C639.52,-100.5 647.64,-100.5 656.4,-100.5\"/>\n<polygon fill=\"black\" stroke=\"black\" points=\"656.3,-104 666.3,-100.5 656.3,-97 656.3,-104\"/>\n</g>\n<!-- 13463314896 -->\n<g id=\"node15\" class=\"node\">\n<title>13463314896</title>\n<polygon fill=\"none\" stroke=\"black\" points=\"3.75,-110.5 3.75,-146.5 194.25,-146.5 194.25,-110.5 3.75,-110.5\"/>\n<text text-anchor=\"middle\" x=\"18.5\" y=\"-123.7\" font-family=\"Times,serif\" font-size=\"14.00\">x2</text>\n<polyline fill=\"none\" stroke=\"black\" points=\"33.25,-111 33.25,-146.5\"/>\n<text text-anchor=\"middle\" x=\"73.12\" y=\"-123.7\" font-family=\"Times,serif\" font-size=\"14.00\">data 0.0000</text>\n<polyline fill=\"none\" stroke=\"black\" points=\"113,-111 113,-146.5\"/>\n<text text-anchor=\"middle\" x=\"153.62\" y=\"-123.7\" font-family=\"Times,serif\" font-size=\"14.00\">grad 0.0000</text>\n</g>\n<!-- 13463314896&#45;&gt;13463322528* -->\n<g id=\"edge6\" class=\"edge\">\n<title>13463314896&#45;&gt;13463322528*</title>\n<path fill=\"none\" stroke=\"black\" d=\"M194.46,-128.5C204.21,-128.5 213.66,-128.5 222.21,-128.5\"/>\n<polygon fill=\"black\" stroke=\"black\" points=\"222.12,-132 232.12,-128.5 222.12,-125 222.12,-132\"/>\n</g>\n</g>\n</svg>\n",
      "text/plain": [
       "<graphviz.graphs.Digraph at 0x3226ff670>"
      ]
     },
     "execution_count": 424,
     "metadata": {},
     "output_type": "execute_result"
    }
   ],
   "execution_count": 424
  },
  {
   "metadata": {},
   "cell_type": "markdown",
   "source": [
    "## Backpropagation Step 3: b & x2w1+x2w2\n",
    "\n",
    "Since we have discovered that a plus operation simply distributes the gradient of the function it is embedded in, we can simply say:\n",
    "$$\\frac{\\partial o}{\\partial b} = \\frac{\\partial o}{\\partial n} = 0.5$$\n",
    "$$\\frac{\\partial o}{\\partial x1w1+x2w2} = \\frac{\\partial o}{\\partial n} = 0.5$$"
   ]
  },
  {
   "metadata": {
    "ExecuteTime": {
     "end_time": "2024-12-11T12:09:27.873232Z",
     "start_time": "2024-12-11T12:09:27.870333Z"
    }
   },
   "cell_type": "code",
   "source": [
    "dot, derivative = partial_using_lim(o, b)\n",
    "print(derivative)"
   ],
   "outputs": [
    {
     "name": "stdout",
     "output_type": "stream",
     "text": [
      "0.49996464549284525\n"
     ]
    }
   ],
   "execution_count": 425
  },
  {
   "metadata": {
    "ExecuteTime": {
     "end_time": "2024-12-11T12:09:27.882828Z",
     "start_time": "2024-12-11T12:09:27.880232Z"
    }
   },
   "cell_type": "code",
   "source": [
    "dot, derivative = partial_using_lim(o, x1w1x2w2)\n",
    "print(derivative)"
   ],
   "outputs": [
    {
     "name": "stdout",
     "output_type": "stream",
     "text": [
      "0.49996464549284525\n"
     ]
    }
   ],
   "execution_count": 426
  },
  {
   "metadata": {
    "ExecuteTime": {
     "end_time": "2024-12-11T12:09:27.979548Z",
     "start_time": "2024-12-11T12:09:27.905220Z"
    }
   },
   "cell_type": "code",
   "source": [
    "# Applying the gradients\n",
    "b.grad = x1w1x2w2.grad = 0.5\n",
    "draw_dot(o)"
   ],
   "outputs": [
    {
     "data": {
      "image/svg+xml": "<?xml version=\"1.0\" encoding=\"UTF-8\" standalone=\"no\"?>\n<!DOCTYPE svg PUBLIC \"-//W3C//DTD SVG 1.1//EN\"\n \"http://www.w3.org/Graphics/SVG/1.1/DTD/svg11.dtd\">\n<!-- Generated by graphviz version 12.2.0 (20241103.1931)\n -->\n<!-- Pages: 1 -->\n<svg width=\"1546pt\" height=\"210pt\"\n viewBox=\"0.00 0.00 1545.50 210.00\" xmlns=\"http://www.w3.org/2000/svg\" xmlns:xlink=\"http://www.w3.org/1999/xlink\">\n<g id=\"graph0\" class=\"graph\" transform=\"scale(1 1) rotate(0) translate(4 206)\">\n<polygon fill=\"white\" stroke=\"none\" points=\"-4,4 -4,-206 1541.5,-206 1541.5,4 -4,4\"/>\n<!-- 13463318016 -->\n<g id=\"node1\" class=\"node\">\n<title>13463318016</title>\n<polygon fill=\"none\" stroke=\"black\" points=\"2.25,-165.5 2.25,-201.5 195.75,-201.5 195.75,-165.5 2.25,-165.5\"/>\n<text text-anchor=\"middle\" x=\"18.5\" y=\"-178.7\" font-family=\"Times,serif\" font-size=\"14.00\">w2</text>\n<polyline fill=\"none\" stroke=\"black\" points=\"34.75,-166 34.75,-201.5\"/>\n<text text-anchor=\"middle\" x=\"74.62\" y=\"-178.7\" font-family=\"Times,serif\" font-size=\"14.00\">data 1.0000</text>\n<polyline fill=\"none\" stroke=\"black\" points=\"114.5,-166 114.5,-201.5\"/>\n<text text-anchor=\"middle\" x=\"155.12\" y=\"-178.7\" font-family=\"Times,serif\" font-size=\"14.00\">grad 0.0000</text>\n</g>\n<!-- 13463322528* -->\n<g id=\"node3\" class=\"node\">\n<title>13463322528*</title>\n<ellipse fill=\"none\" stroke=\"black\" cx=\"261\" cy=\"-128.5\" rx=\"27\" ry=\"18\"/>\n<text text-anchor=\"middle\" x=\"261\" y=\"-123.45\" font-family=\"Times,serif\" font-size=\"14.00\">*</text>\n</g>\n<!-- 13463318016&#45;&gt;13463322528* -->\n<g id=\"edge12\" class=\"edge\">\n<title>13463318016&#45;&gt;13463322528*</title>\n<path fill=\"none\" stroke=\"black\" d=\"M172.12,-165.01C180.9,-162.35 189.7,-159.5 198,-156.5 208.09,-152.86 218.82,-148.27 228.47,-143.88\"/>\n<polygon fill=\"black\" stroke=\"black\" points=\"229.86,-147.09 237.45,-139.69 226.9,-140.75 229.86,-147.09\"/>\n</g>\n<!-- 13463322528 -->\n<g id=\"node2\" class=\"node\">\n<title>13463322528</title>\n<polygon fill=\"none\" stroke=\"black\" points=\"326.25,-110.5 326.25,-146.5 540,-146.5 540,-110.5 326.25,-110.5\"/>\n<text text-anchor=\"middle\" x=\"352.62\" y=\"-123.7\" font-family=\"Times,serif\" font-size=\"14.00\">x2*w2</text>\n<polyline fill=\"none\" stroke=\"black\" points=\"379,-111 379,-146.5\"/>\n<text text-anchor=\"middle\" x=\"418.88\" y=\"-123.7\" font-family=\"Times,serif\" font-size=\"14.00\">data 0.0000</text>\n<polyline fill=\"none\" stroke=\"black\" points=\"458.75,-111 458.75,-146.5\"/>\n<text text-anchor=\"middle\" x=\"499.38\" y=\"-123.7\" font-family=\"Times,serif\" font-size=\"14.00\">grad 0.0000</text>\n</g>\n<!-- 13463319456+ -->\n<g id=\"node14\" class=\"node\">\n<title>13463319456+</title>\n<ellipse fill=\"none\" stroke=\"black\" cx=\"605.25\" cy=\"-100.5\" rx=\"27\" ry=\"18\"/>\n<text text-anchor=\"middle\" x=\"605.25\" y=\"-95.45\" font-family=\"Times,serif\" font-size=\"14.00\">+</text>\n</g>\n<!-- 13463322528&#45;&gt;13463319456+ -->\n<g id=\"edge11\" class=\"edge\">\n<title>13463322528&#45;&gt;13463319456+</title>\n<path fill=\"none\" stroke=\"black\" d=\"M540.42,-111.01C549.89,-109.45 559,-107.95 567.21,-106.6\"/>\n<polygon fill=\"black\" stroke=\"black\" points=\"567.75,-110.05 577.05,-104.98 566.62,-103.15 567.75,-110.05\"/>\n</g>\n<!-- 13463322528*&#45;&gt;13463322528 -->\n<g id=\"edge1\" class=\"edge\">\n<title>13463322528*&#45;&gt;13463322528</title>\n<path fill=\"none\" stroke=\"black\" d=\"M288.21,-128.5C296,-128.5 305.08,-128.5 314.82,-128.5\"/>\n<polygon fill=\"black\" stroke=\"black\" points=\"314.55,-132 324.55,-128.5 314.55,-125 314.55,-132\"/>\n</g>\n<!-- 13463318592 -->\n<g id=\"node4\" class=\"node\">\n<title>13463318592</title>\n<polygon fill=\"none\" stroke=\"black\" points=\"701.25,-27.5 701.25,-63.5 885,-63.5 885,-27.5 701.25,-27.5\"/>\n<text text-anchor=\"middle\" x=\"712.62\" y=\"-40.7\" font-family=\"Times,serif\" font-size=\"14.00\">b</text>\n<polyline fill=\"none\" stroke=\"black\" points=\"724,-28 724,-63.5\"/>\n<text text-anchor=\"middle\" x=\"763.88\" y=\"-40.7\" font-family=\"Times,serif\" font-size=\"14.00\">data 6.8814</text>\n<polyline fill=\"none\" stroke=\"black\" points=\"803.75,-28 803.75,-63.5\"/>\n<text text-anchor=\"middle\" x=\"844.38\" y=\"-40.7\" font-family=\"Times,serif\" font-size=\"14.00\">grad 0.5000</text>\n</g>\n<!-- 13463319792+ -->\n<g id=\"node10\" class=\"node\">\n<title>13463319792+</title>\n<ellipse fill=\"none\" stroke=\"black\" cx=\"981\" cy=\"-72.5\" rx=\"27\" ry=\"18\"/>\n<text text-anchor=\"middle\" x=\"981\" y=\"-67.45\" font-family=\"Times,serif\" font-size=\"14.00\">+</text>\n</g>\n<!-- 13463318592&#45;&gt;13463319792+ -->\n<g id=\"edge8\" class=\"edge\">\n<title>13463318592&#45;&gt;13463319792+</title>\n<path fill=\"none\" stroke=\"black\" d=\"M885.43,-58.76C906.02,-61.75 926.71,-64.76 943.47,-67.19\"/>\n<polygon fill=\"black\" stroke=\"black\" points=\"942.5,-70.59 952.9,-68.56 943.5,-63.66 942.5,-70.59\"/>\n</g>\n<!-- 13463318640 -->\n<g id=\"node5\" class=\"node\">\n<title>13463318640</title>\n<polygon fill=\"none\" stroke=\"black\" points=\"324,-55.5 324,-91.5 542.25,-91.5 542.25,-55.5 324,-55.5\"/>\n<text text-anchor=\"middle\" x=\"350.38\" y=\"-68.7\" font-family=\"Times,serif\" font-size=\"14.00\">x1*w1</text>\n<polyline fill=\"none\" stroke=\"black\" points=\"376.75,-56 376.75,-91.5\"/>\n<text text-anchor=\"middle\" x=\"418.88\" y=\"-68.7\" font-family=\"Times,serif\" font-size=\"14.00\">data &#45;6.0000</text>\n<polyline fill=\"none\" stroke=\"black\" points=\"461,-56 461,-91.5\"/>\n<text text-anchor=\"middle\" x=\"501.62\" y=\"-68.7\" font-family=\"Times,serif\" font-size=\"14.00\">grad 0.0000</text>\n</g>\n<!-- 13463318640&#45;&gt;13463319456+ -->\n<g id=\"edge10\" class=\"edge\">\n<title>13463318640&#45;&gt;13463319456+</title>\n<path fill=\"none\" stroke=\"black\" d=\"M542.35,-90.68C551.12,-92.07 559.54,-93.4 567.19,-94.62\"/>\n<polygon fill=\"black\" stroke=\"black\" points=\"566.59,-98.07 577.02,-96.18 567.69,-91.15 566.59,-98.07\"/>\n</g>\n<!-- 13463318640* -->\n<g id=\"node6\" class=\"node\">\n<title>13463318640*</title>\n<ellipse fill=\"none\" stroke=\"black\" cx=\"261\" cy=\"-73.5\" rx=\"27\" ry=\"18\"/>\n<text text-anchor=\"middle\" x=\"261\" y=\"-68.45\" font-family=\"Times,serif\" font-size=\"14.00\">*</text>\n</g>\n<!-- 13463318640*&#45;&gt;13463318640 -->\n<g id=\"edge2\" class=\"edge\">\n<title>13463318640*&#45;&gt;13463318640</title>\n<path fill=\"none\" stroke=\"black\" d=\"M288.21,-73.5C295.29,-73.5 303.43,-73.5 312.17,-73.5\"/>\n<polygon fill=\"black\" stroke=\"black\" points=\"312.01,-77 322.01,-73.5 312.01,-70 312.01,-77\"/>\n</g>\n<!-- 13463306352 -->\n<g id=\"node7\" class=\"node\">\n<title>13463306352</title>\n<polygon fill=\"none\" stroke=\"black\" points=\"0,-55.5 0,-91.5 198,-91.5 198,-55.5 0,-55.5\"/>\n<text text-anchor=\"middle\" x=\"16.25\" y=\"-68.7\" font-family=\"Times,serif\" font-size=\"14.00\">w1</text>\n<polyline fill=\"none\" stroke=\"black\" points=\"32.5,-56 32.5,-91.5\"/>\n<text text-anchor=\"middle\" x=\"74.62\" y=\"-68.7\" font-family=\"Times,serif\" font-size=\"14.00\">data &#45;3.0000</text>\n<polyline fill=\"none\" stroke=\"black\" points=\"116.75,-56 116.75,-91.5\"/>\n<text text-anchor=\"middle\" x=\"157.38\" y=\"-68.7\" font-family=\"Times,serif\" font-size=\"14.00\">grad 0.0000</text>\n</g>\n<!-- 13463306352&#45;&gt;13463318640* -->\n<g id=\"edge13\" class=\"edge\">\n<title>13463306352&#45;&gt;13463318640*</title>\n<path fill=\"none\" stroke=\"black\" d=\"M198.14,-73.5C206.61,-73.5 214.8,-73.5 222.29,-73.5\"/>\n<polygon fill=\"black\" stroke=\"black\" points=\"222.29,-77 232.29,-73.5 222.29,-70 222.29,-77\"/>\n</g>\n<!-- 13463319744 -->\n<g id=\"node8\" class=\"node\">\n<title>13463319744</title>\n<polygon fill=\"none\" stroke=\"black\" points=\"3.75,-0.5 3.75,-36.5 194.25,-36.5 194.25,-0.5 3.75,-0.5\"/>\n<text text-anchor=\"middle\" x=\"18.5\" y=\"-13.7\" font-family=\"Times,serif\" font-size=\"14.00\">x1</text>\n<polyline fill=\"none\" stroke=\"black\" points=\"33.25,-1 33.25,-36.5\"/>\n<text text-anchor=\"middle\" x=\"73.12\" y=\"-13.7\" font-family=\"Times,serif\" font-size=\"14.00\">data 2.0000</text>\n<polyline fill=\"none\" stroke=\"black\" points=\"113,-1 113,-36.5\"/>\n<text text-anchor=\"middle\" x=\"153.62\" y=\"-13.7\" font-family=\"Times,serif\" font-size=\"14.00\">grad 0.0000</text>\n</g>\n<!-- 13463319744&#45;&gt;13463318640* -->\n<g id=\"edge9\" class=\"edge\">\n<title>13463319744&#45;&gt;13463318640*</title>\n<path fill=\"none\" stroke=\"black\" d=\"M172.12,-36.99C180.9,-39.65 189.7,-42.5 198,-45.5 208.09,-49.14 218.82,-53.73 228.47,-58.12\"/>\n<polygon fill=\"black\" stroke=\"black\" points=\"226.9,-61.25 237.45,-62.31 229.86,-54.91 226.9,-61.25\"/>\n</g>\n<!-- 13463319792 -->\n<g id=\"node9\" class=\"node\">\n<title>13463319792</title>\n<polygon fill=\"none\" stroke=\"black\" points=\"1044,-54.5 1044,-90.5 1227.75,-90.5 1227.75,-54.5 1044,-54.5\"/>\n<text text-anchor=\"middle\" x=\"1055.38\" y=\"-67.7\" font-family=\"Times,serif\" font-size=\"14.00\">n</text>\n<polyline fill=\"none\" stroke=\"black\" points=\"1066.75,-55 1066.75,-90.5\"/>\n<text text-anchor=\"middle\" x=\"1106.62\" y=\"-67.7\" font-family=\"Times,serif\" font-size=\"14.00\">data 0.8814</text>\n<polyline fill=\"none\" stroke=\"black\" points=\"1146.5,-55 1146.5,-90.5\"/>\n<text text-anchor=\"middle\" x=\"1187.12\" y=\"-67.7\" font-family=\"Times,serif\" font-size=\"14.00\">grad 0.5000</text>\n</g>\n<!-- 13463311680tanh -->\n<g id=\"node12\" class=\"node\">\n<title>13463311680tanh</title>\n<ellipse fill=\"none\" stroke=\"black\" cx=\"1290.75\" cy=\"-72.5\" rx=\"27\" ry=\"18\"/>\n<text text-anchor=\"middle\" x=\"1290.75\" y=\"-67.45\" font-family=\"Times,serif\" font-size=\"14.00\">tanh</text>\n</g>\n<!-- 13463319792&#45;&gt;13463311680tanh -->\n<g id=\"edge14\" class=\"edge\">\n<title>13463319792&#45;&gt;13463311680tanh</title>\n<path fill=\"none\" stroke=\"black\" d=\"M1228.01,-72.5C1236.39,-72.5 1244.52,-72.5 1251.98,-72.5\"/>\n<polygon fill=\"black\" stroke=\"black\" points=\"1251.95,-76 1261.95,-72.5 1251.95,-69 1251.95,-76\"/>\n</g>\n<!-- 13463319792+&#45;&gt;13463319792 -->\n<g id=\"edge3\" class=\"edge\">\n<title>13463319792+&#45;&gt;13463319792</title>\n<path fill=\"none\" stroke=\"black\" d=\"M1008.28,-72.5C1015.42,-72.5 1023.61,-72.5 1032.32,-72.5\"/>\n<polygon fill=\"black\" stroke=\"black\" points=\"1032.06,-76 1042.06,-72.5 1032.06,-69 1032.06,-76\"/>\n</g>\n<!-- 13463311680 -->\n<g id=\"node11\" class=\"node\">\n<title>13463311680</title>\n<polygon fill=\"none\" stroke=\"black\" points=\"1353.75,-54.5 1353.75,-90.5 1537.5,-90.5 1537.5,-54.5 1353.75,-54.5\"/>\n<text text-anchor=\"middle\" x=\"1365.12\" y=\"-67.7\" font-family=\"Times,serif\" font-size=\"14.00\">o</text>\n<polyline fill=\"none\" stroke=\"black\" points=\"1376.5,-55 1376.5,-90.5\"/>\n<text text-anchor=\"middle\" x=\"1416.38\" y=\"-67.7\" font-family=\"Times,serif\" font-size=\"14.00\">data 0.7071</text>\n<polyline fill=\"none\" stroke=\"black\" points=\"1456.25,-55 1456.25,-90.5\"/>\n<text text-anchor=\"middle\" x=\"1496.88\" y=\"-67.7\" font-family=\"Times,serif\" font-size=\"14.00\">grad 1.0000</text>\n</g>\n<!-- 13463311680tanh&#45;&gt;13463311680 -->\n<g id=\"edge4\" class=\"edge\">\n<title>13463311680tanh&#45;&gt;13463311680</title>\n<path fill=\"none\" stroke=\"black\" d=\"M1318.03,-72.5C1325.17,-72.5 1333.36,-72.5 1342.07,-72.5\"/>\n<polygon fill=\"black\" stroke=\"black\" points=\"1341.81,-76 1351.81,-72.5 1341.81,-69 1341.81,-76\"/>\n</g>\n<!-- 13463319456 -->\n<g id=\"node13\" class=\"node\">\n<title>13463319456</title>\n<polygon fill=\"none\" stroke=\"black\" points=\"668.25,-82.5 668.25,-118.5 918,-118.5 918,-82.5 668.25,-82.5\"/>\n<text text-anchor=\"middle\" x=\"710.38\" y=\"-95.7\" font-family=\"Times,serif\" font-size=\"14.00\">x1w1+x2w2</text>\n<polyline fill=\"none\" stroke=\"black\" points=\"752.5,-83 752.5,-118.5\"/>\n<text text-anchor=\"middle\" x=\"794.62\" y=\"-95.7\" font-family=\"Times,serif\" font-size=\"14.00\">data &#45;6.0000</text>\n<polyline fill=\"none\" stroke=\"black\" points=\"836.75,-83 836.75,-118.5\"/>\n<text text-anchor=\"middle\" x=\"877.38\" y=\"-95.7\" font-family=\"Times,serif\" font-size=\"14.00\">grad 0.5000</text>\n</g>\n<!-- 13463319456&#45;&gt;13463319792+ -->\n<g id=\"edge7\" class=\"edge\">\n<title>13463319456&#45;&gt;13463319792+</title>\n<path fill=\"none\" stroke=\"black\" d=\"M916.81,-82.02C926.08,-80.62 934.9,-79.29 942.86,-78.09\"/>\n<polygon fill=\"black\" stroke=\"black\" points=\"943.36,-81.56 952.72,-76.61 942.31,-74.64 943.36,-81.56\"/>\n</g>\n<!-- 13463319456+&#45;&gt;13463319456 -->\n<g id=\"edge5\" class=\"edge\">\n<title>13463319456+&#45;&gt;13463319456</title>\n<path fill=\"none\" stroke=\"black\" d=\"M632.49,-100.5C639.52,-100.5 647.64,-100.5 656.4,-100.5\"/>\n<polygon fill=\"black\" stroke=\"black\" points=\"656.3,-104 666.3,-100.5 656.3,-97 656.3,-104\"/>\n</g>\n<!-- 13463314896 -->\n<g id=\"node15\" class=\"node\">\n<title>13463314896</title>\n<polygon fill=\"none\" stroke=\"black\" points=\"3.75,-110.5 3.75,-146.5 194.25,-146.5 194.25,-110.5 3.75,-110.5\"/>\n<text text-anchor=\"middle\" x=\"18.5\" y=\"-123.7\" font-family=\"Times,serif\" font-size=\"14.00\">x2</text>\n<polyline fill=\"none\" stroke=\"black\" points=\"33.25,-111 33.25,-146.5\"/>\n<text text-anchor=\"middle\" x=\"73.12\" y=\"-123.7\" font-family=\"Times,serif\" font-size=\"14.00\">data 0.0000</text>\n<polyline fill=\"none\" stroke=\"black\" points=\"113,-111 113,-146.5\"/>\n<text text-anchor=\"middle\" x=\"153.62\" y=\"-123.7\" font-family=\"Times,serif\" font-size=\"14.00\">grad 0.0000</text>\n</g>\n<!-- 13463314896&#45;&gt;13463322528* -->\n<g id=\"edge6\" class=\"edge\">\n<title>13463314896&#45;&gt;13463322528*</title>\n<path fill=\"none\" stroke=\"black\" d=\"M194.46,-128.5C204.21,-128.5 213.66,-128.5 222.21,-128.5\"/>\n<polygon fill=\"black\" stroke=\"black\" points=\"222.12,-132 232.12,-128.5 222.12,-125 222.12,-132\"/>\n</g>\n</g>\n</svg>\n",
      "text/plain": [
       "<graphviz.graphs.Digraph at 0x32275f7c0>"
      ]
     },
     "execution_count": 427,
     "metadata": {},
     "output_type": "execute_result"
    }
   ],
   "execution_count": 427
  },
  {
   "metadata": {},
   "cell_type": "markdown",
   "source": [
    "## Backpropagation Step 4: x1*w1 & x2*w2\n",
    "\n",
    "The same goes for this operation:\n",
    "$$\\frac{\\partial o}{\\partial \\text{x1*w1}} = \\frac{\\partial o}{\\partial b} = \\frac{\\partial o}{\\partial n} = 0.5$$\n",
    "$$\\frac{\\partial o}{\\partial \\text{x2*w2}} = \\frac{\\partial o}{\\partial \\text{x1w1+x2w2}} = \\frac{\\partial o}{\\partial n} = 0.5$$"
   ]
  },
  {
   "metadata": {
    "ExecuteTime": {
     "end_time": "2024-12-11T12:09:27.992427Z",
     "start_time": "2024-12-11T12:09:27.989439Z"
    }
   },
   "cell_type": "code",
   "source": [
    "dot, derivative = partial_using_lim(o, x1w1)\n",
    "print(derivative)"
   ],
   "outputs": [
    {
     "name": "stdout",
     "output_type": "stream",
     "text": [
      "0.49996464549284525\n"
     ]
    }
   ],
   "execution_count": 428
  },
  {
   "metadata": {
    "ExecuteTime": {
     "end_time": "2024-12-11T12:09:28.010076Z",
     "start_time": "2024-12-11T12:09:28.007594Z"
    }
   },
   "cell_type": "code",
   "source": [
    "dot, derivative = partial_using_lim(o, x2w2)\n",
    "print(derivative)"
   ],
   "outputs": [
    {
     "name": "stdout",
     "output_type": "stream",
     "text": [
      "0.49996464549284525\n"
     ]
    }
   ],
   "execution_count": 429
  },
  {
   "metadata": {
    "ExecuteTime": {
     "end_time": "2024-12-11T12:09:28.100330Z",
     "start_time": "2024-12-11T12:09:28.028175Z"
    }
   },
   "cell_type": "code",
   "source": [
    "# Applying the gradients\n",
    "x1w1.grad = x2w2.grad = 0.5\n",
    "draw_dot(o)"
   ],
   "outputs": [
    {
     "data": {
      "image/svg+xml": "<?xml version=\"1.0\" encoding=\"UTF-8\" standalone=\"no\"?>\n<!DOCTYPE svg PUBLIC \"-//W3C//DTD SVG 1.1//EN\"\n \"http://www.w3.org/Graphics/SVG/1.1/DTD/svg11.dtd\">\n<!-- Generated by graphviz version 12.2.0 (20241103.1931)\n -->\n<!-- Pages: 1 -->\n<svg width=\"1546pt\" height=\"210pt\"\n viewBox=\"0.00 0.00 1545.50 210.00\" xmlns=\"http://www.w3.org/2000/svg\" xmlns:xlink=\"http://www.w3.org/1999/xlink\">\n<g id=\"graph0\" class=\"graph\" transform=\"scale(1 1) rotate(0) translate(4 206)\">\n<polygon fill=\"white\" stroke=\"none\" points=\"-4,4 -4,-206 1541.5,-206 1541.5,4 -4,4\"/>\n<!-- 13463318016 -->\n<g id=\"node1\" class=\"node\">\n<title>13463318016</title>\n<polygon fill=\"none\" stroke=\"black\" points=\"2.25,-165.5 2.25,-201.5 195.75,-201.5 195.75,-165.5 2.25,-165.5\"/>\n<text text-anchor=\"middle\" x=\"18.5\" y=\"-178.7\" font-family=\"Times,serif\" font-size=\"14.00\">w2</text>\n<polyline fill=\"none\" stroke=\"black\" points=\"34.75,-166 34.75,-201.5\"/>\n<text text-anchor=\"middle\" x=\"74.62\" y=\"-178.7\" font-family=\"Times,serif\" font-size=\"14.00\">data 1.0000</text>\n<polyline fill=\"none\" stroke=\"black\" points=\"114.5,-166 114.5,-201.5\"/>\n<text text-anchor=\"middle\" x=\"155.12\" y=\"-178.7\" font-family=\"Times,serif\" font-size=\"14.00\">grad 0.0000</text>\n</g>\n<!-- 13463322528* -->\n<g id=\"node3\" class=\"node\">\n<title>13463322528*</title>\n<ellipse fill=\"none\" stroke=\"black\" cx=\"261\" cy=\"-128.5\" rx=\"27\" ry=\"18\"/>\n<text text-anchor=\"middle\" x=\"261\" y=\"-123.45\" font-family=\"Times,serif\" font-size=\"14.00\">*</text>\n</g>\n<!-- 13463318016&#45;&gt;13463322528* -->\n<g id=\"edge12\" class=\"edge\">\n<title>13463318016&#45;&gt;13463322528*</title>\n<path fill=\"none\" stroke=\"black\" d=\"M172.12,-165.01C180.9,-162.35 189.7,-159.5 198,-156.5 208.09,-152.86 218.82,-148.27 228.47,-143.88\"/>\n<polygon fill=\"black\" stroke=\"black\" points=\"229.86,-147.09 237.45,-139.69 226.9,-140.75 229.86,-147.09\"/>\n</g>\n<!-- 13463322528 -->\n<g id=\"node2\" class=\"node\">\n<title>13463322528</title>\n<polygon fill=\"none\" stroke=\"black\" points=\"326.25,-110.5 326.25,-146.5 540,-146.5 540,-110.5 326.25,-110.5\"/>\n<text text-anchor=\"middle\" x=\"352.62\" y=\"-123.7\" font-family=\"Times,serif\" font-size=\"14.00\">x2*w2</text>\n<polyline fill=\"none\" stroke=\"black\" points=\"379,-111 379,-146.5\"/>\n<text text-anchor=\"middle\" x=\"418.88\" y=\"-123.7\" font-family=\"Times,serif\" font-size=\"14.00\">data 0.0000</text>\n<polyline fill=\"none\" stroke=\"black\" points=\"458.75,-111 458.75,-146.5\"/>\n<text text-anchor=\"middle\" x=\"499.38\" y=\"-123.7\" font-family=\"Times,serif\" font-size=\"14.00\">grad 0.5000</text>\n</g>\n<!-- 13463319456+ -->\n<g id=\"node14\" class=\"node\">\n<title>13463319456+</title>\n<ellipse fill=\"none\" stroke=\"black\" cx=\"605.25\" cy=\"-100.5\" rx=\"27\" ry=\"18\"/>\n<text text-anchor=\"middle\" x=\"605.25\" y=\"-95.45\" font-family=\"Times,serif\" font-size=\"14.00\">+</text>\n</g>\n<!-- 13463322528&#45;&gt;13463319456+ -->\n<g id=\"edge11\" class=\"edge\">\n<title>13463322528&#45;&gt;13463319456+</title>\n<path fill=\"none\" stroke=\"black\" d=\"M540.42,-111.01C549.89,-109.45 559,-107.95 567.21,-106.6\"/>\n<polygon fill=\"black\" stroke=\"black\" points=\"567.75,-110.05 577.05,-104.98 566.62,-103.15 567.75,-110.05\"/>\n</g>\n<!-- 13463322528*&#45;&gt;13463322528 -->\n<g id=\"edge1\" class=\"edge\">\n<title>13463322528*&#45;&gt;13463322528</title>\n<path fill=\"none\" stroke=\"black\" d=\"M288.21,-128.5C296,-128.5 305.08,-128.5 314.82,-128.5\"/>\n<polygon fill=\"black\" stroke=\"black\" points=\"314.55,-132 324.55,-128.5 314.55,-125 314.55,-132\"/>\n</g>\n<!-- 13463318592 -->\n<g id=\"node4\" class=\"node\">\n<title>13463318592</title>\n<polygon fill=\"none\" stroke=\"black\" points=\"701.25,-27.5 701.25,-63.5 885,-63.5 885,-27.5 701.25,-27.5\"/>\n<text text-anchor=\"middle\" x=\"712.62\" y=\"-40.7\" font-family=\"Times,serif\" font-size=\"14.00\">b</text>\n<polyline fill=\"none\" stroke=\"black\" points=\"724,-28 724,-63.5\"/>\n<text text-anchor=\"middle\" x=\"763.88\" y=\"-40.7\" font-family=\"Times,serif\" font-size=\"14.00\">data 6.8814</text>\n<polyline fill=\"none\" stroke=\"black\" points=\"803.75,-28 803.75,-63.5\"/>\n<text text-anchor=\"middle\" x=\"844.38\" y=\"-40.7\" font-family=\"Times,serif\" font-size=\"14.00\">grad 0.5000</text>\n</g>\n<!-- 13463319792+ -->\n<g id=\"node10\" class=\"node\">\n<title>13463319792+</title>\n<ellipse fill=\"none\" stroke=\"black\" cx=\"981\" cy=\"-72.5\" rx=\"27\" ry=\"18\"/>\n<text text-anchor=\"middle\" x=\"981\" y=\"-67.45\" font-family=\"Times,serif\" font-size=\"14.00\">+</text>\n</g>\n<!-- 13463318592&#45;&gt;13463319792+ -->\n<g id=\"edge8\" class=\"edge\">\n<title>13463318592&#45;&gt;13463319792+</title>\n<path fill=\"none\" stroke=\"black\" d=\"M885.43,-58.76C906.02,-61.75 926.71,-64.76 943.47,-67.19\"/>\n<polygon fill=\"black\" stroke=\"black\" points=\"942.5,-70.59 952.9,-68.56 943.5,-63.66 942.5,-70.59\"/>\n</g>\n<!-- 13463318640 -->\n<g id=\"node5\" class=\"node\">\n<title>13463318640</title>\n<polygon fill=\"none\" stroke=\"black\" points=\"324,-55.5 324,-91.5 542.25,-91.5 542.25,-55.5 324,-55.5\"/>\n<text text-anchor=\"middle\" x=\"350.38\" y=\"-68.7\" font-family=\"Times,serif\" font-size=\"14.00\">x1*w1</text>\n<polyline fill=\"none\" stroke=\"black\" points=\"376.75,-56 376.75,-91.5\"/>\n<text text-anchor=\"middle\" x=\"418.88\" y=\"-68.7\" font-family=\"Times,serif\" font-size=\"14.00\">data &#45;6.0000</text>\n<polyline fill=\"none\" stroke=\"black\" points=\"461,-56 461,-91.5\"/>\n<text text-anchor=\"middle\" x=\"501.62\" y=\"-68.7\" font-family=\"Times,serif\" font-size=\"14.00\">grad 0.5000</text>\n</g>\n<!-- 13463318640&#45;&gt;13463319456+ -->\n<g id=\"edge10\" class=\"edge\">\n<title>13463318640&#45;&gt;13463319456+</title>\n<path fill=\"none\" stroke=\"black\" d=\"M542.35,-90.68C551.12,-92.07 559.54,-93.4 567.19,-94.62\"/>\n<polygon fill=\"black\" stroke=\"black\" points=\"566.59,-98.07 577.02,-96.18 567.69,-91.15 566.59,-98.07\"/>\n</g>\n<!-- 13463318640* -->\n<g id=\"node6\" class=\"node\">\n<title>13463318640*</title>\n<ellipse fill=\"none\" stroke=\"black\" cx=\"261\" cy=\"-73.5\" rx=\"27\" ry=\"18\"/>\n<text text-anchor=\"middle\" x=\"261\" y=\"-68.45\" font-family=\"Times,serif\" font-size=\"14.00\">*</text>\n</g>\n<!-- 13463318640*&#45;&gt;13463318640 -->\n<g id=\"edge2\" class=\"edge\">\n<title>13463318640*&#45;&gt;13463318640</title>\n<path fill=\"none\" stroke=\"black\" d=\"M288.21,-73.5C295.29,-73.5 303.43,-73.5 312.17,-73.5\"/>\n<polygon fill=\"black\" stroke=\"black\" points=\"312.01,-77 322.01,-73.5 312.01,-70 312.01,-77\"/>\n</g>\n<!-- 13463306352 -->\n<g id=\"node7\" class=\"node\">\n<title>13463306352</title>\n<polygon fill=\"none\" stroke=\"black\" points=\"0,-55.5 0,-91.5 198,-91.5 198,-55.5 0,-55.5\"/>\n<text text-anchor=\"middle\" x=\"16.25\" y=\"-68.7\" font-family=\"Times,serif\" font-size=\"14.00\">w1</text>\n<polyline fill=\"none\" stroke=\"black\" points=\"32.5,-56 32.5,-91.5\"/>\n<text text-anchor=\"middle\" x=\"74.62\" y=\"-68.7\" font-family=\"Times,serif\" font-size=\"14.00\">data &#45;3.0000</text>\n<polyline fill=\"none\" stroke=\"black\" points=\"116.75,-56 116.75,-91.5\"/>\n<text text-anchor=\"middle\" x=\"157.38\" y=\"-68.7\" font-family=\"Times,serif\" font-size=\"14.00\">grad 0.0000</text>\n</g>\n<!-- 13463306352&#45;&gt;13463318640* -->\n<g id=\"edge13\" class=\"edge\">\n<title>13463306352&#45;&gt;13463318640*</title>\n<path fill=\"none\" stroke=\"black\" d=\"M198.14,-73.5C206.61,-73.5 214.8,-73.5 222.29,-73.5\"/>\n<polygon fill=\"black\" stroke=\"black\" points=\"222.29,-77 232.29,-73.5 222.29,-70 222.29,-77\"/>\n</g>\n<!-- 13463319744 -->\n<g id=\"node8\" class=\"node\">\n<title>13463319744</title>\n<polygon fill=\"none\" stroke=\"black\" points=\"3.75,-0.5 3.75,-36.5 194.25,-36.5 194.25,-0.5 3.75,-0.5\"/>\n<text text-anchor=\"middle\" x=\"18.5\" y=\"-13.7\" font-family=\"Times,serif\" font-size=\"14.00\">x1</text>\n<polyline fill=\"none\" stroke=\"black\" points=\"33.25,-1 33.25,-36.5\"/>\n<text text-anchor=\"middle\" x=\"73.12\" y=\"-13.7\" font-family=\"Times,serif\" font-size=\"14.00\">data 2.0000</text>\n<polyline fill=\"none\" stroke=\"black\" points=\"113,-1 113,-36.5\"/>\n<text text-anchor=\"middle\" x=\"153.62\" y=\"-13.7\" font-family=\"Times,serif\" font-size=\"14.00\">grad 0.0000</text>\n</g>\n<!-- 13463319744&#45;&gt;13463318640* -->\n<g id=\"edge9\" class=\"edge\">\n<title>13463319744&#45;&gt;13463318640*</title>\n<path fill=\"none\" stroke=\"black\" d=\"M172.12,-36.99C180.9,-39.65 189.7,-42.5 198,-45.5 208.09,-49.14 218.82,-53.73 228.47,-58.12\"/>\n<polygon fill=\"black\" stroke=\"black\" points=\"226.9,-61.25 237.45,-62.31 229.86,-54.91 226.9,-61.25\"/>\n</g>\n<!-- 13463319792 -->\n<g id=\"node9\" class=\"node\">\n<title>13463319792</title>\n<polygon fill=\"none\" stroke=\"black\" points=\"1044,-54.5 1044,-90.5 1227.75,-90.5 1227.75,-54.5 1044,-54.5\"/>\n<text text-anchor=\"middle\" x=\"1055.38\" y=\"-67.7\" font-family=\"Times,serif\" font-size=\"14.00\">n</text>\n<polyline fill=\"none\" stroke=\"black\" points=\"1066.75,-55 1066.75,-90.5\"/>\n<text text-anchor=\"middle\" x=\"1106.62\" y=\"-67.7\" font-family=\"Times,serif\" font-size=\"14.00\">data 0.8814</text>\n<polyline fill=\"none\" stroke=\"black\" points=\"1146.5,-55 1146.5,-90.5\"/>\n<text text-anchor=\"middle\" x=\"1187.12\" y=\"-67.7\" font-family=\"Times,serif\" font-size=\"14.00\">grad 0.5000</text>\n</g>\n<!-- 13463311680tanh -->\n<g id=\"node12\" class=\"node\">\n<title>13463311680tanh</title>\n<ellipse fill=\"none\" stroke=\"black\" cx=\"1290.75\" cy=\"-72.5\" rx=\"27\" ry=\"18\"/>\n<text text-anchor=\"middle\" x=\"1290.75\" y=\"-67.45\" font-family=\"Times,serif\" font-size=\"14.00\">tanh</text>\n</g>\n<!-- 13463319792&#45;&gt;13463311680tanh -->\n<g id=\"edge14\" class=\"edge\">\n<title>13463319792&#45;&gt;13463311680tanh</title>\n<path fill=\"none\" stroke=\"black\" d=\"M1228.01,-72.5C1236.39,-72.5 1244.52,-72.5 1251.98,-72.5\"/>\n<polygon fill=\"black\" stroke=\"black\" points=\"1251.95,-76 1261.95,-72.5 1251.95,-69 1251.95,-76\"/>\n</g>\n<!-- 13463319792+&#45;&gt;13463319792 -->\n<g id=\"edge3\" class=\"edge\">\n<title>13463319792+&#45;&gt;13463319792</title>\n<path fill=\"none\" stroke=\"black\" d=\"M1008.28,-72.5C1015.42,-72.5 1023.61,-72.5 1032.32,-72.5\"/>\n<polygon fill=\"black\" stroke=\"black\" points=\"1032.06,-76 1042.06,-72.5 1032.06,-69 1032.06,-76\"/>\n</g>\n<!-- 13463311680 -->\n<g id=\"node11\" class=\"node\">\n<title>13463311680</title>\n<polygon fill=\"none\" stroke=\"black\" points=\"1353.75,-54.5 1353.75,-90.5 1537.5,-90.5 1537.5,-54.5 1353.75,-54.5\"/>\n<text text-anchor=\"middle\" x=\"1365.12\" y=\"-67.7\" font-family=\"Times,serif\" font-size=\"14.00\">o</text>\n<polyline fill=\"none\" stroke=\"black\" points=\"1376.5,-55 1376.5,-90.5\"/>\n<text text-anchor=\"middle\" x=\"1416.38\" y=\"-67.7\" font-family=\"Times,serif\" font-size=\"14.00\">data 0.7071</text>\n<polyline fill=\"none\" stroke=\"black\" points=\"1456.25,-55 1456.25,-90.5\"/>\n<text text-anchor=\"middle\" x=\"1496.88\" y=\"-67.7\" font-family=\"Times,serif\" font-size=\"14.00\">grad 1.0000</text>\n</g>\n<!-- 13463311680tanh&#45;&gt;13463311680 -->\n<g id=\"edge4\" class=\"edge\">\n<title>13463311680tanh&#45;&gt;13463311680</title>\n<path fill=\"none\" stroke=\"black\" d=\"M1318.03,-72.5C1325.17,-72.5 1333.36,-72.5 1342.07,-72.5\"/>\n<polygon fill=\"black\" stroke=\"black\" points=\"1341.81,-76 1351.81,-72.5 1341.81,-69 1341.81,-76\"/>\n</g>\n<!-- 13463319456 -->\n<g id=\"node13\" class=\"node\">\n<title>13463319456</title>\n<polygon fill=\"none\" stroke=\"black\" points=\"668.25,-82.5 668.25,-118.5 918,-118.5 918,-82.5 668.25,-82.5\"/>\n<text text-anchor=\"middle\" x=\"710.38\" y=\"-95.7\" font-family=\"Times,serif\" font-size=\"14.00\">x1w1+x2w2</text>\n<polyline fill=\"none\" stroke=\"black\" points=\"752.5,-83 752.5,-118.5\"/>\n<text text-anchor=\"middle\" x=\"794.62\" y=\"-95.7\" font-family=\"Times,serif\" font-size=\"14.00\">data &#45;6.0000</text>\n<polyline fill=\"none\" stroke=\"black\" points=\"836.75,-83 836.75,-118.5\"/>\n<text text-anchor=\"middle\" x=\"877.38\" y=\"-95.7\" font-family=\"Times,serif\" font-size=\"14.00\">grad 0.5000</text>\n</g>\n<!-- 13463319456&#45;&gt;13463319792+ -->\n<g id=\"edge7\" class=\"edge\">\n<title>13463319456&#45;&gt;13463319792+</title>\n<path fill=\"none\" stroke=\"black\" d=\"M916.81,-82.02C926.08,-80.62 934.9,-79.29 942.86,-78.09\"/>\n<polygon fill=\"black\" stroke=\"black\" points=\"943.36,-81.56 952.72,-76.61 942.31,-74.64 943.36,-81.56\"/>\n</g>\n<!-- 13463319456+&#45;&gt;13463319456 -->\n<g id=\"edge5\" class=\"edge\">\n<title>13463319456+&#45;&gt;13463319456</title>\n<path fill=\"none\" stroke=\"black\" d=\"M632.49,-100.5C639.52,-100.5 647.64,-100.5 656.4,-100.5\"/>\n<polygon fill=\"black\" stroke=\"black\" points=\"656.3,-104 666.3,-100.5 656.3,-97 656.3,-104\"/>\n</g>\n<!-- 13463314896 -->\n<g id=\"node15\" class=\"node\">\n<title>13463314896</title>\n<polygon fill=\"none\" stroke=\"black\" points=\"3.75,-110.5 3.75,-146.5 194.25,-146.5 194.25,-110.5 3.75,-110.5\"/>\n<text text-anchor=\"middle\" x=\"18.5\" y=\"-123.7\" font-family=\"Times,serif\" font-size=\"14.00\">x2</text>\n<polyline fill=\"none\" stroke=\"black\" points=\"33.25,-111 33.25,-146.5\"/>\n<text text-anchor=\"middle\" x=\"73.12\" y=\"-123.7\" font-family=\"Times,serif\" font-size=\"14.00\">data 0.0000</text>\n<polyline fill=\"none\" stroke=\"black\" points=\"113,-111 113,-146.5\"/>\n<text text-anchor=\"middle\" x=\"153.62\" y=\"-123.7\" font-family=\"Times,serif\" font-size=\"14.00\">grad 0.0000</text>\n</g>\n<!-- 13463314896&#45;&gt;13463322528* -->\n<g id=\"edge6\" class=\"edge\">\n<title>13463314896&#45;&gt;13463322528*</title>\n<path fill=\"none\" stroke=\"black\" d=\"M194.46,-128.5C204.21,-128.5 213.66,-128.5 222.21,-128.5\"/>\n<polygon fill=\"black\" stroke=\"black\" points=\"222.12,-132 232.12,-128.5 222.12,-125 222.12,-132\"/>\n</g>\n</g>\n</svg>\n",
      "text/plain": [
       "<graphviz.graphs.Digraph at 0x3226ffdf0>"
      ]
     },
     "execution_count": 430,
     "metadata": {},
     "output_type": "execute_result"
    }
   ],
   "execution_count": 430
  },
  {
   "metadata": {},
   "cell_type": "markdown",
   "source": [
    "## Backpropagation Step 5: x1 & w1\n",
    "\n",
    "To find the derivative $\\frac{\\partial o}{\\partial x1}$ and $\\frac{\\partial o}{\\partial x2}$, we first need to find the partial derivatives of $\\frac{\\partial \\text{x1*w1}}{\\partial x1}$ and $\\frac{\\partial \\text{x1*w1}}{\\partial w1}$. //\n",
    "We know that the derivative of a multiplication like $f(a, b) = a \\times b$ with respect to $a$ is $b$. Therefor we can simply calculate the derivatives using the chain rule:\n",
    "$$\\frac{\\partial o}{\\partial x1} = \\frac{\\partial o}{\\partial \\text{x1*w1}} \\frac{\\partial \\text{x1*w1}}{\\partial x1} = 0.5 \\times -3.0 = -1.5$$\n",
    "$$\\frac{\\partial o}{\\partial w1} = \\frac{\\partial o}{\\partial \\text{x1*w1}} \\frac{\\partial \\text{x1*w1}}{\\partial w1} = 0.5 \\times 2.0 = 1.0$$\n"
   ]
  },
  {
   "metadata": {
    "ExecuteTime": {
     "end_time": "2024-12-11T12:09:28.111936Z",
     "start_time": "2024-12-11T12:09:28.109345Z"
    }
   },
   "cell_type": "code",
   "source": [
    "dot, derivative = partial_using_lim(o, x1)\n",
    "print(derivative)"
   ],
   "outputs": [
    {
     "name": "stdout",
     "output_type": "stream",
     "text": [
      "-1.500318220551966\n"
     ]
    }
   ],
   "execution_count": 431
  },
  {
   "metadata": {
    "ExecuteTime": {
     "end_time": "2024-12-11T12:09:28.134288Z",
     "start_time": "2024-12-11T12:09:28.131836Z"
    }
   },
   "cell_type": "code",
   "source": [
    "dot, derivative = partial_using_lim(o, w1)\n",
    "print(derivative)"
   ],
   "outputs": [
    {
     "name": "stdout",
     "output_type": "stream",
     "text": [
      "0.9998585853132624\n"
     ]
    }
   ],
   "execution_count": 432
  },
  {
   "metadata": {
    "ExecuteTime": {
     "end_time": "2024-12-11T12:09:28.226195Z",
     "start_time": "2024-12-11T12:09:28.151976Z"
    }
   },
   "cell_type": "code",
   "source": [
    "# Applying the gradients\n",
    "x1.grad = -1.5\n",
    "w1.grad = 1.0\n",
    "draw_dot(o)"
   ],
   "outputs": [
    {
     "data": {
      "image/svg+xml": "<?xml version=\"1.0\" encoding=\"UTF-8\" standalone=\"no\"?>\n<!DOCTYPE svg PUBLIC \"-//W3C//DTD SVG 1.1//EN\"\n \"http://www.w3.org/Graphics/SVG/1.1/DTD/svg11.dtd\">\n<!-- Generated by graphviz version 12.2.0 (20241103.1931)\n -->\n<!-- Pages: 1 -->\n<svg width=\"1546pt\" height=\"210pt\"\n viewBox=\"0.00 0.00 1545.50 210.00\" xmlns=\"http://www.w3.org/2000/svg\" xmlns:xlink=\"http://www.w3.org/1999/xlink\">\n<g id=\"graph0\" class=\"graph\" transform=\"scale(1 1) rotate(0) translate(4 206)\">\n<polygon fill=\"white\" stroke=\"none\" points=\"-4,4 -4,-206 1541.5,-206 1541.5,4 -4,4\"/>\n<!-- 13463318016 -->\n<g id=\"node1\" class=\"node\">\n<title>13463318016</title>\n<polygon fill=\"none\" stroke=\"black\" points=\"2.25,-165.5 2.25,-201.5 195.75,-201.5 195.75,-165.5 2.25,-165.5\"/>\n<text text-anchor=\"middle\" x=\"18.5\" y=\"-178.7\" font-family=\"Times,serif\" font-size=\"14.00\">w2</text>\n<polyline fill=\"none\" stroke=\"black\" points=\"34.75,-166 34.75,-201.5\"/>\n<text text-anchor=\"middle\" x=\"74.62\" y=\"-178.7\" font-family=\"Times,serif\" font-size=\"14.00\">data 1.0000</text>\n<polyline fill=\"none\" stroke=\"black\" points=\"114.5,-166 114.5,-201.5\"/>\n<text text-anchor=\"middle\" x=\"155.12\" y=\"-178.7\" font-family=\"Times,serif\" font-size=\"14.00\">grad 0.0000</text>\n</g>\n<!-- 13463322528* -->\n<g id=\"node3\" class=\"node\">\n<title>13463322528*</title>\n<ellipse fill=\"none\" stroke=\"black\" cx=\"261\" cy=\"-128.5\" rx=\"27\" ry=\"18\"/>\n<text text-anchor=\"middle\" x=\"261\" y=\"-123.45\" font-family=\"Times,serif\" font-size=\"14.00\">*</text>\n</g>\n<!-- 13463318016&#45;&gt;13463322528* -->\n<g id=\"edge12\" class=\"edge\">\n<title>13463318016&#45;&gt;13463322528*</title>\n<path fill=\"none\" stroke=\"black\" d=\"M172.12,-165.01C180.9,-162.35 189.7,-159.5 198,-156.5 208.09,-152.86 218.82,-148.27 228.47,-143.88\"/>\n<polygon fill=\"black\" stroke=\"black\" points=\"229.86,-147.09 237.45,-139.69 226.9,-140.75 229.86,-147.09\"/>\n</g>\n<!-- 13463322528 -->\n<g id=\"node2\" class=\"node\">\n<title>13463322528</title>\n<polygon fill=\"none\" stroke=\"black\" points=\"326.25,-110.5 326.25,-146.5 540,-146.5 540,-110.5 326.25,-110.5\"/>\n<text text-anchor=\"middle\" x=\"352.62\" y=\"-123.7\" font-family=\"Times,serif\" font-size=\"14.00\">x2*w2</text>\n<polyline fill=\"none\" stroke=\"black\" points=\"379,-111 379,-146.5\"/>\n<text text-anchor=\"middle\" x=\"418.88\" y=\"-123.7\" font-family=\"Times,serif\" font-size=\"14.00\">data 0.0000</text>\n<polyline fill=\"none\" stroke=\"black\" points=\"458.75,-111 458.75,-146.5\"/>\n<text text-anchor=\"middle\" x=\"499.38\" y=\"-123.7\" font-family=\"Times,serif\" font-size=\"14.00\">grad 0.5000</text>\n</g>\n<!-- 13463319456+ -->\n<g id=\"node14\" class=\"node\">\n<title>13463319456+</title>\n<ellipse fill=\"none\" stroke=\"black\" cx=\"605.25\" cy=\"-100.5\" rx=\"27\" ry=\"18\"/>\n<text text-anchor=\"middle\" x=\"605.25\" y=\"-95.45\" font-family=\"Times,serif\" font-size=\"14.00\">+</text>\n</g>\n<!-- 13463322528&#45;&gt;13463319456+ -->\n<g id=\"edge11\" class=\"edge\">\n<title>13463322528&#45;&gt;13463319456+</title>\n<path fill=\"none\" stroke=\"black\" d=\"M540.42,-111.01C549.89,-109.45 559,-107.95 567.21,-106.6\"/>\n<polygon fill=\"black\" stroke=\"black\" points=\"567.75,-110.05 577.05,-104.98 566.62,-103.15 567.75,-110.05\"/>\n</g>\n<!-- 13463322528*&#45;&gt;13463322528 -->\n<g id=\"edge1\" class=\"edge\">\n<title>13463322528*&#45;&gt;13463322528</title>\n<path fill=\"none\" stroke=\"black\" d=\"M288.21,-128.5C296,-128.5 305.08,-128.5 314.82,-128.5\"/>\n<polygon fill=\"black\" stroke=\"black\" points=\"314.55,-132 324.55,-128.5 314.55,-125 314.55,-132\"/>\n</g>\n<!-- 13463318592 -->\n<g id=\"node4\" class=\"node\">\n<title>13463318592</title>\n<polygon fill=\"none\" stroke=\"black\" points=\"701.25,-27.5 701.25,-63.5 885,-63.5 885,-27.5 701.25,-27.5\"/>\n<text text-anchor=\"middle\" x=\"712.62\" y=\"-40.7\" font-family=\"Times,serif\" font-size=\"14.00\">b</text>\n<polyline fill=\"none\" stroke=\"black\" points=\"724,-28 724,-63.5\"/>\n<text text-anchor=\"middle\" x=\"763.88\" y=\"-40.7\" font-family=\"Times,serif\" font-size=\"14.00\">data 6.8814</text>\n<polyline fill=\"none\" stroke=\"black\" points=\"803.75,-28 803.75,-63.5\"/>\n<text text-anchor=\"middle\" x=\"844.38\" y=\"-40.7\" font-family=\"Times,serif\" font-size=\"14.00\">grad 0.5000</text>\n</g>\n<!-- 13463319792+ -->\n<g id=\"node10\" class=\"node\">\n<title>13463319792+</title>\n<ellipse fill=\"none\" stroke=\"black\" cx=\"981\" cy=\"-72.5\" rx=\"27\" ry=\"18\"/>\n<text text-anchor=\"middle\" x=\"981\" y=\"-67.45\" font-family=\"Times,serif\" font-size=\"14.00\">+</text>\n</g>\n<!-- 13463318592&#45;&gt;13463319792+ -->\n<g id=\"edge8\" class=\"edge\">\n<title>13463318592&#45;&gt;13463319792+</title>\n<path fill=\"none\" stroke=\"black\" d=\"M885.43,-58.76C906.02,-61.75 926.71,-64.76 943.47,-67.19\"/>\n<polygon fill=\"black\" stroke=\"black\" points=\"942.5,-70.59 952.9,-68.56 943.5,-63.66 942.5,-70.59\"/>\n</g>\n<!-- 13463318640 -->\n<g id=\"node5\" class=\"node\">\n<title>13463318640</title>\n<polygon fill=\"none\" stroke=\"black\" points=\"324,-55.5 324,-91.5 542.25,-91.5 542.25,-55.5 324,-55.5\"/>\n<text text-anchor=\"middle\" x=\"350.38\" y=\"-68.7\" font-family=\"Times,serif\" font-size=\"14.00\">x1*w1</text>\n<polyline fill=\"none\" stroke=\"black\" points=\"376.75,-56 376.75,-91.5\"/>\n<text text-anchor=\"middle\" x=\"418.88\" y=\"-68.7\" font-family=\"Times,serif\" font-size=\"14.00\">data &#45;6.0000</text>\n<polyline fill=\"none\" stroke=\"black\" points=\"461,-56 461,-91.5\"/>\n<text text-anchor=\"middle\" x=\"501.62\" y=\"-68.7\" font-family=\"Times,serif\" font-size=\"14.00\">grad 0.5000</text>\n</g>\n<!-- 13463318640&#45;&gt;13463319456+ -->\n<g id=\"edge10\" class=\"edge\">\n<title>13463318640&#45;&gt;13463319456+</title>\n<path fill=\"none\" stroke=\"black\" d=\"M542.35,-90.68C551.12,-92.07 559.54,-93.4 567.19,-94.62\"/>\n<polygon fill=\"black\" stroke=\"black\" points=\"566.59,-98.07 577.02,-96.18 567.69,-91.15 566.59,-98.07\"/>\n</g>\n<!-- 13463318640* -->\n<g id=\"node6\" class=\"node\">\n<title>13463318640*</title>\n<ellipse fill=\"none\" stroke=\"black\" cx=\"261\" cy=\"-73.5\" rx=\"27\" ry=\"18\"/>\n<text text-anchor=\"middle\" x=\"261\" y=\"-68.45\" font-family=\"Times,serif\" font-size=\"14.00\">*</text>\n</g>\n<!-- 13463318640*&#45;&gt;13463318640 -->\n<g id=\"edge2\" class=\"edge\">\n<title>13463318640*&#45;&gt;13463318640</title>\n<path fill=\"none\" stroke=\"black\" d=\"M288.21,-73.5C295.29,-73.5 303.43,-73.5 312.17,-73.5\"/>\n<polygon fill=\"black\" stroke=\"black\" points=\"312.01,-77 322.01,-73.5 312.01,-70 312.01,-77\"/>\n</g>\n<!-- 13463306352 -->\n<g id=\"node7\" class=\"node\">\n<title>13463306352</title>\n<polygon fill=\"none\" stroke=\"black\" points=\"0,-55.5 0,-91.5 198,-91.5 198,-55.5 0,-55.5\"/>\n<text text-anchor=\"middle\" x=\"16.25\" y=\"-68.7\" font-family=\"Times,serif\" font-size=\"14.00\">w1</text>\n<polyline fill=\"none\" stroke=\"black\" points=\"32.5,-56 32.5,-91.5\"/>\n<text text-anchor=\"middle\" x=\"74.62\" y=\"-68.7\" font-family=\"Times,serif\" font-size=\"14.00\">data &#45;3.0000</text>\n<polyline fill=\"none\" stroke=\"black\" points=\"116.75,-56 116.75,-91.5\"/>\n<text text-anchor=\"middle\" x=\"157.38\" y=\"-68.7\" font-family=\"Times,serif\" font-size=\"14.00\">grad 1.0000</text>\n</g>\n<!-- 13463306352&#45;&gt;13463318640* -->\n<g id=\"edge13\" class=\"edge\">\n<title>13463306352&#45;&gt;13463318640*</title>\n<path fill=\"none\" stroke=\"black\" d=\"M198.14,-73.5C206.61,-73.5 214.8,-73.5 222.29,-73.5\"/>\n<polygon fill=\"black\" stroke=\"black\" points=\"222.29,-77 232.29,-73.5 222.29,-70 222.29,-77\"/>\n</g>\n<!-- 13463319744 -->\n<g id=\"node8\" class=\"node\">\n<title>13463319744</title>\n<polygon fill=\"none\" stroke=\"black\" points=\"1.5,-0.5 1.5,-36.5 196.5,-36.5 196.5,-0.5 1.5,-0.5\"/>\n<text text-anchor=\"middle\" x=\"16.25\" y=\"-13.7\" font-family=\"Times,serif\" font-size=\"14.00\">x1</text>\n<polyline fill=\"none\" stroke=\"black\" points=\"31,-1 31,-36.5\"/>\n<text text-anchor=\"middle\" x=\"70.88\" y=\"-13.7\" font-family=\"Times,serif\" font-size=\"14.00\">data 2.0000</text>\n<polyline fill=\"none\" stroke=\"black\" points=\"110.75,-1 110.75,-36.5\"/>\n<text text-anchor=\"middle\" x=\"153.62\" y=\"-13.7\" font-family=\"Times,serif\" font-size=\"14.00\">grad &#45;1.5000</text>\n</g>\n<!-- 13463319744&#45;&gt;13463318640* -->\n<g id=\"edge9\" class=\"edge\">\n<title>13463319744&#45;&gt;13463318640*</title>\n<path fill=\"none\" stroke=\"black\" d=\"M172.12,-36.99C180.9,-39.65 189.7,-42.5 198,-45.5 208.09,-49.14 218.82,-53.73 228.47,-58.12\"/>\n<polygon fill=\"black\" stroke=\"black\" points=\"226.9,-61.25 237.45,-62.31 229.86,-54.91 226.9,-61.25\"/>\n</g>\n<!-- 13463319792 -->\n<g id=\"node9\" class=\"node\">\n<title>13463319792</title>\n<polygon fill=\"none\" stroke=\"black\" points=\"1044,-54.5 1044,-90.5 1227.75,-90.5 1227.75,-54.5 1044,-54.5\"/>\n<text text-anchor=\"middle\" x=\"1055.38\" y=\"-67.7\" font-family=\"Times,serif\" font-size=\"14.00\">n</text>\n<polyline fill=\"none\" stroke=\"black\" points=\"1066.75,-55 1066.75,-90.5\"/>\n<text text-anchor=\"middle\" x=\"1106.62\" y=\"-67.7\" font-family=\"Times,serif\" font-size=\"14.00\">data 0.8814</text>\n<polyline fill=\"none\" stroke=\"black\" points=\"1146.5,-55 1146.5,-90.5\"/>\n<text text-anchor=\"middle\" x=\"1187.12\" y=\"-67.7\" font-family=\"Times,serif\" font-size=\"14.00\">grad 0.5000</text>\n</g>\n<!-- 13463311680tanh -->\n<g id=\"node12\" class=\"node\">\n<title>13463311680tanh</title>\n<ellipse fill=\"none\" stroke=\"black\" cx=\"1290.75\" cy=\"-72.5\" rx=\"27\" ry=\"18\"/>\n<text text-anchor=\"middle\" x=\"1290.75\" y=\"-67.45\" font-family=\"Times,serif\" font-size=\"14.00\">tanh</text>\n</g>\n<!-- 13463319792&#45;&gt;13463311680tanh -->\n<g id=\"edge14\" class=\"edge\">\n<title>13463319792&#45;&gt;13463311680tanh</title>\n<path fill=\"none\" stroke=\"black\" d=\"M1228.01,-72.5C1236.39,-72.5 1244.52,-72.5 1251.98,-72.5\"/>\n<polygon fill=\"black\" stroke=\"black\" points=\"1251.95,-76 1261.95,-72.5 1251.95,-69 1251.95,-76\"/>\n</g>\n<!-- 13463319792+&#45;&gt;13463319792 -->\n<g id=\"edge3\" class=\"edge\">\n<title>13463319792+&#45;&gt;13463319792</title>\n<path fill=\"none\" stroke=\"black\" d=\"M1008.28,-72.5C1015.42,-72.5 1023.61,-72.5 1032.32,-72.5\"/>\n<polygon fill=\"black\" stroke=\"black\" points=\"1032.06,-76 1042.06,-72.5 1032.06,-69 1032.06,-76\"/>\n</g>\n<!-- 13463311680 -->\n<g id=\"node11\" class=\"node\">\n<title>13463311680</title>\n<polygon fill=\"none\" stroke=\"black\" points=\"1353.75,-54.5 1353.75,-90.5 1537.5,-90.5 1537.5,-54.5 1353.75,-54.5\"/>\n<text text-anchor=\"middle\" x=\"1365.12\" y=\"-67.7\" font-family=\"Times,serif\" font-size=\"14.00\">o</text>\n<polyline fill=\"none\" stroke=\"black\" points=\"1376.5,-55 1376.5,-90.5\"/>\n<text text-anchor=\"middle\" x=\"1416.38\" y=\"-67.7\" font-family=\"Times,serif\" font-size=\"14.00\">data 0.7071</text>\n<polyline fill=\"none\" stroke=\"black\" points=\"1456.25,-55 1456.25,-90.5\"/>\n<text text-anchor=\"middle\" x=\"1496.88\" y=\"-67.7\" font-family=\"Times,serif\" font-size=\"14.00\">grad 1.0000</text>\n</g>\n<!-- 13463311680tanh&#45;&gt;13463311680 -->\n<g id=\"edge4\" class=\"edge\">\n<title>13463311680tanh&#45;&gt;13463311680</title>\n<path fill=\"none\" stroke=\"black\" d=\"M1318.03,-72.5C1325.17,-72.5 1333.36,-72.5 1342.07,-72.5\"/>\n<polygon fill=\"black\" stroke=\"black\" points=\"1341.81,-76 1351.81,-72.5 1341.81,-69 1341.81,-76\"/>\n</g>\n<!-- 13463319456 -->\n<g id=\"node13\" class=\"node\">\n<title>13463319456</title>\n<polygon fill=\"none\" stroke=\"black\" points=\"668.25,-82.5 668.25,-118.5 918,-118.5 918,-82.5 668.25,-82.5\"/>\n<text text-anchor=\"middle\" x=\"710.38\" y=\"-95.7\" font-family=\"Times,serif\" font-size=\"14.00\">x1w1+x2w2</text>\n<polyline fill=\"none\" stroke=\"black\" points=\"752.5,-83 752.5,-118.5\"/>\n<text text-anchor=\"middle\" x=\"794.62\" y=\"-95.7\" font-family=\"Times,serif\" font-size=\"14.00\">data &#45;6.0000</text>\n<polyline fill=\"none\" stroke=\"black\" points=\"836.75,-83 836.75,-118.5\"/>\n<text text-anchor=\"middle\" x=\"877.38\" y=\"-95.7\" font-family=\"Times,serif\" font-size=\"14.00\">grad 0.5000</text>\n</g>\n<!-- 13463319456&#45;&gt;13463319792+ -->\n<g id=\"edge7\" class=\"edge\">\n<title>13463319456&#45;&gt;13463319792+</title>\n<path fill=\"none\" stroke=\"black\" d=\"M916.81,-82.02C926.08,-80.62 934.9,-79.29 942.86,-78.09\"/>\n<polygon fill=\"black\" stroke=\"black\" points=\"943.36,-81.56 952.72,-76.61 942.31,-74.64 943.36,-81.56\"/>\n</g>\n<!-- 13463319456+&#45;&gt;13463319456 -->\n<g id=\"edge5\" class=\"edge\">\n<title>13463319456+&#45;&gt;13463319456</title>\n<path fill=\"none\" stroke=\"black\" d=\"M632.49,-100.5C639.52,-100.5 647.64,-100.5 656.4,-100.5\"/>\n<polygon fill=\"black\" stroke=\"black\" points=\"656.3,-104 666.3,-100.5 656.3,-97 656.3,-104\"/>\n</g>\n<!-- 13463314896 -->\n<g id=\"node15\" class=\"node\">\n<title>13463314896</title>\n<polygon fill=\"none\" stroke=\"black\" points=\"3.75,-110.5 3.75,-146.5 194.25,-146.5 194.25,-110.5 3.75,-110.5\"/>\n<text text-anchor=\"middle\" x=\"18.5\" y=\"-123.7\" font-family=\"Times,serif\" font-size=\"14.00\">x2</text>\n<polyline fill=\"none\" stroke=\"black\" points=\"33.25,-111 33.25,-146.5\"/>\n<text text-anchor=\"middle\" x=\"73.12\" y=\"-123.7\" font-family=\"Times,serif\" font-size=\"14.00\">data 0.0000</text>\n<polyline fill=\"none\" stroke=\"black\" points=\"113,-111 113,-146.5\"/>\n<text text-anchor=\"middle\" x=\"153.62\" y=\"-123.7\" font-family=\"Times,serif\" font-size=\"14.00\">grad 0.0000</text>\n</g>\n<!-- 13463314896&#45;&gt;13463322528* -->\n<g id=\"edge6\" class=\"edge\">\n<title>13463314896&#45;&gt;13463322528*</title>\n<path fill=\"none\" stroke=\"black\" d=\"M194.46,-128.5C204.21,-128.5 213.66,-128.5 222.21,-128.5\"/>\n<polygon fill=\"black\" stroke=\"black\" points=\"222.12,-132 232.12,-128.5 222.12,-125 222.12,-132\"/>\n</g>\n</g>\n</svg>\n",
      "text/plain": [
       "<graphviz.graphs.Digraph at 0x32279e6b0>"
      ]
     },
     "execution_count": 433,
     "metadata": {},
     "output_type": "execute_result"
    }
   ],
   "execution_count": 433
  },
  {
   "metadata": {},
   "cell_type": "markdown",
   "source": [
    "## Backpropagation Step 6: x2 and w2\n",
    "Equivalent to *Step 5*.\n",
    "$$\\frac{\\partial o}{\\partial x2} = 0.5 \\times 1.0 = 0.5$$\n",
    "$$\\frac{\\partial o}{\\partial w2} = 0.5 \\times 0.0 = 0.0$$\n"
   ]
  },
  {
   "metadata": {
    "ExecuteTime": {
     "end_time": "2024-12-11T12:09:28.238890Z",
     "start_time": "2024-12-11T12:09:28.235881Z"
    }
   },
   "cell_type": "code",
   "source": [
    "dot, derivative = partial_using_lim(o, x2)\n",
    "print(derivative)"
   ],
   "outputs": [
    {
     "name": "stdout",
     "output_type": "stream",
     "text": [
      "0.49996464549284525\n"
     ]
    }
   ],
   "execution_count": 434
  },
  {
   "metadata": {
    "ExecuteTime": {
     "end_time": "2024-12-11T12:09:28.259271Z",
     "start_time": "2024-12-11T12:09:28.256702Z"
    }
   },
   "cell_type": "code",
   "source": [
    "dot, derivative = partial_using_lim(o, w2)\n",
    "print(derivative)"
   ],
   "outputs": [
    {
     "name": "stdout",
     "output_type": "stream",
     "text": [
      "0.0\n"
     ]
    }
   ],
   "execution_count": 435
  },
  {
   "metadata": {
    "ExecuteTime": {
     "end_time": "2024-12-11T12:09:28.348976Z",
     "start_time": "2024-12-11T12:09:28.276028Z"
    }
   },
   "cell_type": "code",
   "source": [
    "# Applying the gradients\n",
    "x2.grad = 0.5\n",
    "w2.grad = 0.0\n",
    "draw_dot(o)"
   ],
   "outputs": [
    {
     "data": {
      "image/svg+xml": "<?xml version=\"1.0\" encoding=\"UTF-8\" standalone=\"no\"?>\n<!DOCTYPE svg PUBLIC \"-//W3C//DTD SVG 1.1//EN\"\n \"http://www.w3.org/Graphics/SVG/1.1/DTD/svg11.dtd\">\n<!-- Generated by graphviz version 12.2.0 (20241103.1931)\n -->\n<!-- Pages: 1 -->\n<svg width=\"1546pt\" height=\"210pt\"\n viewBox=\"0.00 0.00 1545.50 210.00\" xmlns=\"http://www.w3.org/2000/svg\" xmlns:xlink=\"http://www.w3.org/1999/xlink\">\n<g id=\"graph0\" class=\"graph\" transform=\"scale(1 1) rotate(0) translate(4 206)\">\n<polygon fill=\"white\" stroke=\"none\" points=\"-4,4 -4,-206 1541.5,-206 1541.5,4 -4,4\"/>\n<!-- 13463318016 -->\n<g id=\"node1\" class=\"node\">\n<title>13463318016</title>\n<polygon fill=\"none\" stroke=\"black\" points=\"2.25,-165.5 2.25,-201.5 195.75,-201.5 195.75,-165.5 2.25,-165.5\"/>\n<text text-anchor=\"middle\" x=\"18.5\" y=\"-178.7\" font-family=\"Times,serif\" font-size=\"14.00\">w2</text>\n<polyline fill=\"none\" stroke=\"black\" points=\"34.75,-166 34.75,-201.5\"/>\n<text text-anchor=\"middle\" x=\"74.62\" y=\"-178.7\" font-family=\"Times,serif\" font-size=\"14.00\">data 1.0000</text>\n<polyline fill=\"none\" stroke=\"black\" points=\"114.5,-166 114.5,-201.5\"/>\n<text text-anchor=\"middle\" x=\"155.12\" y=\"-178.7\" font-family=\"Times,serif\" font-size=\"14.00\">grad 0.0000</text>\n</g>\n<!-- 13463322528* -->\n<g id=\"node3\" class=\"node\">\n<title>13463322528*</title>\n<ellipse fill=\"none\" stroke=\"black\" cx=\"261\" cy=\"-128.5\" rx=\"27\" ry=\"18\"/>\n<text text-anchor=\"middle\" x=\"261\" y=\"-123.45\" font-family=\"Times,serif\" font-size=\"14.00\">*</text>\n</g>\n<!-- 13463318016&#45;&gt;13463322528* -->\n<g id=\"edge12\" class=\"edge\">\n<title>13463318016&#45;&gt;13463322528*</title>\n<path fill=\"none\" stroke=\"black\" d=\"M172.12,-165.01C180.9,-162.35 189.7,-159.5 198,-156.5 208.09,-152.86 218.82,-148.27 228.47,-143.88\"/>\n<polygon fill=\"black\" stroke=\"black\" points=\"229.86,-147.09 237.45,-139.69 226.9,-140.75 229.86,-147.09\"/>\n</g>\n<!-- 13463322528 -->\n<g id=\"node2\" class=\"node\">\n<title>13463322528</title>\n<polygon fill=\"none\" stroke=\"black\" points=\"326.25,-110.5 326.25,-146.5 540,-146.5 540,-110.5 326.25,-110.5\"/>\n<text text-anchor=\"middle\" x=\"352.62\" y=\"-123.7\" font-family=\"Times,serif\" font-size=\"14.00\">x2*w2</text>\n<polyline fill=\"none\" stroke=\"black\" points=\"379,-111 379,-146.5\"/>\n<text text-anchor=\"middle\" x=\"418.88\" y=\"-123.7\" font-family=\"Times,serif\" font-size=\"14.00\">data 0.0000</text>\n<polyline fill=\"none\" stroke=\"black\" points=\"458.75,-111 458.75,-146.5\"/>\n<text text-anchor=\"middle\" x=\"499.38\" y=\"-123.7\" font-family=\"Times,serif\" font-size=\"14.00\">grad 0.5000</text>\n</g>\n<!-- 13463319456+ -->\n<g id=\"node14\" class=\"node\">\n<title>13463319456+</title>\n<ellipse fill=\"none\" stroke=\"black\" cx=\"605.25\" cy=\"-100.5\" rx=\"27\" ry=\"18\"/>\n<text text-anchor=\"middle\" x=\"605.25\" y=\"-95.45\" font-family=\"Times,serif\" font-size=\"14.00\">+</text>\n</g>\n<!-- 13463322528&#45;&gt;13463319456+ -->\n<g id=\"edge11\" class=\"edge\">\n<title>13463322528&#45;&gt;13463319456+</title>\n<path fill=\"none\" stroke=\"black\" d=\"M540.42,-111.01C549.89,-109.45 559,-107.95 567.21,-106.6\"/>\n<polygon fill=\"black\" stroke=\"black\" points=\"567.75,-110.05 577.05,-104.98 566.62,-103.15 567.75,-110.05\"/>\n</g>\n<!-- 13463322528*&#45;&gt;13463322528 -->\n<g id=\"edge1\" class=\"edge\">\n<title>13463322528*&#45;&gt;13463322528</title>\n<path fill=\"none\" stroke=\"black\" d=\"M288.21,-128.5C296,-128.5 305.08,-128.5 314.82,-128.5\"/>\n<polygon fill=\"black\" stroke=\"black\" points=\"314.55,-132 324.55,-128.5 314.55,-125 314.55,-132\"/>\n</g>\n<!-- 13463318592 -->\n<g id=\"node4\" class=\"node\">\n<title>13463318592</title>\n<polygon fill=\"none\" stroke=\"black\" points=\"701.25,-27.5 701.25,-63.5 885,-63.5 885,-27.5 701.25,-27.5\"/>\n<text text-anchor=\"middle\" x=\"712.62\" y=\"-40.7\" font-family=\"Times,serif\" font-size=\"14.00\">b</text>\n<polyline fill=\"none\" stroke=\"black\" points=\"724,-28 724,-63.5\"/>\n<text text-anchor=\"middle\" x=\"763.88\" y=\"-40.7\" font-family=\"Times,serif\" font-size=\"14.00\">data 6.8814</text>\n<polyline fill=\"none\" stroke=\"black\" points=\"803.75,-28 803.75,-63.5\"/>\n<text text-anchor=\"middle\" x=\"844.38\" y=\"-40.7\" font-family=\"Times,serif\" font-size=\"14.00\">grad 0.5000</text>\n</g>\n<!-- 13463319792+ -->\n<g id=\"node10\" class=\"node\">\n<title>13463319792+</title>\n<ellipse fill=\"none\" stroke=\"black\" cx=\"981\" cy=\"-72.5\" rx=\"27\" ry=\"18\"/>\n<text text-anchor=\"middle\" x=\"981\" y=\"-67.45\" font-family=\"Times,serif\" font-size=\"14.00\">+</text>\n</g>\n<!-- 13463318592&#45;&gt;13463319792+ -->\n<g id=\"edge8\" class=\"edge\">\n<title>13463318592&#45;&gt;13463319792+</title>\n<path fill=\"none\" stroke=\"black\" d=\"M885.43,-58.76C906.02,-61.75 926.71,-64.76 943.47,-67.19\"/>\n<polygon fill=\"black\" stroke=\"black\" points=\"942.5,-70.59 952.9,-68.56 943.5,-63.66 942.5,-70.59\"/>\n</g>\n<!-- 13463318640 -->\n<g id=\"node5\" class=\"node\">\n<title>13463318640</title>\n<polygon fill=\"none\" stroke=\"black\" points=\"324,-55.5 324,-91.5 542.25,-91.5 542.25,-55.5 324,-55.5\"/>\n<text text-anchor=\"middle\" x=\"350.38\" y=\"-68.7\" font-family=\"Times,serif\" font-size=\"14.00\">x1*w1</text>\n<polyline fill=\"none\" stroke=\"black\" points=\"376.75,-56 376.75,-91.5\"/>\n<text text-anchor=\"middle\" x=\"418.88\" y=\"-68.7\" font-family=\"Times,serif\" font-size=\"14.00\">data &#45;6.0000</text>\n<polyline fill=\"none\" stroke=\"black\" points=\"461,-56 461,-91.5\"/>\n<text text-anchor=\"middle\" x=\"501.62\" y=\"-68.7\" font-family=\"Times,serif\" font-size=\"14.00\">grad 0.5000</text>\n</g>\n<!-- 13463318640&#45;&gt;13463319456+ -->\n<g id=\"edge10\" class=\"edge\">\n<title>13463318640&#45;&gt;13463319456+</title>\n<path fill=\"none\" stroke=\"black\" d=\"M542.35,-90.68C551.12,-92.07 559.54,-93.4 567.19,-94.62\"/>\n<polygon fill=\"black\" stroke=\"black\" points=\"566.59,-98.07 577.02,-96.18 567.69,-91.15 566.59,-98.07\"/>\n</g>\n<!-- 13463318640* -->\n<g id=\"node6\" class=\"node\">\n<title>13463318640*</title>\n<ellipse fill=\"none\" stroke=\"black\" cx=\"261\" cy=\"-73.5\" rx=\"27\" ry=\"18\"/>\n<text text-anchor=\"middle\" x=\"261\" y=\"-68.45\" font-family=\"Times,serif\" font-size=\"14.00\">*</text>\n</g>\n<!-- 13463318640*&#45;&gt;13463318640 -->\n<g id=\"edge2\" class=\"edge\">\n<title>13463318640*&#45;&gt;13463318640</title>\n<path fill=\"none\" stroke=\"black\" d=\"M288.21,-73.5C295.29,-73.5 303.43,-73.5 312.17,-73.5\"/>\n<polygon fill=\"black\" stroke=\"black\" points=\"312.01,-77 322.01,-73.5 312.01,-70 312.01,-77\"/>\n</g>\n<!-- 13463306352 -->\n<g id=\"node7\" class=\"node\">\n<title>13463306352</title>\n<polygon fill=\"none\" stroke=\"black\" points=\"0,-55.5 0,-91.5 198,-91.5 198,-55.5 0,-55.5\"/>\n<text text-anchor=\"middle\" x=\"16.25\" y=\"-68.7\" font-family=\"Times,serif\" font-size=\"14.00\">w1</text>\n<polyline fill=\"none\" stroke=\"black\" points=\"32.5,-56 32.5,-91.5\"/>\n<text text-anchor=\"middle\" x=\"74.62\" y=\"-68.7\" font-family=\"Times,serif\" font-size=\"14.00\">data &#45;3.0000</text>\n<polyline fill=\"none\" stroke=\"black\" points=\"116.75,-56 116.75,-91.5\"/>\n<text text-anchor=\"middle\" x=\"157.38\" y=\"-68.7\" font-family=\"Times,serif\" font-size=\"14.00\">grad 1.0000</text>\n</g>\n<!-- 13463306352&#45;&gt;13463318640* -->\n<g id=\"edge13\" class=\"edge\">\n<title>13463306352&#45;&gt;13463318640*</title>\n<path fill=\"none\" stroke=\"black\" d=\"M198.14,-73.5C206.61,-73.5 214.8,-73.5 222.29,-73.5\"/>\n<polygon fill=\"black\" stroke=\"black\" points=\"222.29,-77 232.29,-73.5 222.29,-70 222.29,-77\"/>\n</g>\n<!-- 13463319744 -->\n<g id=\"node8\" class=\"node\">\n<title>13463319744</title>\n<polygon fill=\"none\" stroke=\"black\" points=\"1.5,-0.5 1.5,-36.5 196.5,-36.5 196.5,-0.5 1.5,-0.5\"/>\n<text text-anchor=\"middle\" x=\"16.25\" y=\"-13.7\" font-family=\"Times,serif\" font-size=\"14.00\">x1</text>\n<polyline fill=\"none\" stroke=\"black\" points=\"31,-1 31,-36.5\"/>\n<text text-anchor=\"middle\" x=\"70.88\" y=\"-13.7\" font-family=\"Times,serif\" font-size=\"14.00\">data 2.0000</text>\n<polyline fill=\"none\" stroke=\"black\" points=\"110.75,-1 110.75,-36.5\"/>\n<text text-anchor=\"middle\" x=\"153.62\" y=\"-13.7\" font-family=\"Times,serif\" font-size=\"14.00\">grad &#45;1.5000</text>\n</g>\n<!-- 13463319744&#45;&gt;13463318640* -->\n<g id=\"edge9\" class=\"edge\">\n<title>13463319744&#45;&gt;13463318640*</title>\n<path fill=\"none\" stroke=\"black\" d=\"M172.12,-36.99C180.9,-39.65 189.7,-42.5 198,-45.5 208.09,-49.14 218.82,-53.73 228.47,-58.12\"/>\n<polygon fill=\"black\" stroke=\"black\" points=\"226.9,-61.25 237.45,-62.31 229.86,-54.91 226.9,-61.25\"/>\n</g>\n<!-- 13463319792 -->\n<g id=\"node9\" class=\"node\">\n<title>13463319792</title>\n<polygon fill=\"none\" stroke=\"black\" points=\"1044,-54.5 1044,-90.5 1227.75,-90.5 1227.75,-54.5 1044,-54.5\"/>\n<text text-anchor=\"middle\" x=\"1055.38\" y=\"-67.7\" font-family=\"Times,serif\" font-size=\"14.00\">n</text>\n<polyline fill=\"none\" stroke=\"black\" points=\"1066.75,-55 1066.75,-90.5\"/>\n<text text-anchor=\"middle\" x=\"1106.62\" y=\"-67.7\" font-family=\"Times,serif\" font-size=\"14.00\">data 0.8814</text>\n<polyline fill=\"none\" stroke=\"black\" points=\"1146.5,-55 1146.5,-90.5\"/>\n<text text-anchor=\"middle\" x=\"1187.12\" y=\"-67.7\" font-family=\"Times,serif\" font-size=\"14.00\">grad 0.5000</text>\n</g>\n<!-- 13463311680tanh -->\n<g id=\"node12\" class=\"node\">\n<title>13463311680tanh</title>\n<ellipse fill=\"none\" stroke=\"black\" cx=\"1290.75\" cy=\"-72.5\" rx=\"27\" ry=\"18\"/>\n<text text-anchor=\"middle\" x=\"1290.75\" y=\"-67.45\" font-family=\"Times,serif\" font-size=\"14.00\">tanh</text>\n</g>\n<!-- 13463319792&#45;&gt;13463311680tanh -->\n<g id=\"edge14\" class=\"edge\">\n<title>13463319792&#45;&gt;13463311680tanh</title>\n<path fill=\"none\" stroke=\"black\" d=\"M1228.01,-72.5C1236.39,-72.5 1244.52,-72.5 1251.98,-72.5\"/>\n<polygon fill=\"black\" stroke=\"black\" points=\"1251.95,-76 1261.95,-72.5 1251.95,-69 1251.95,-76\"/>\n</g>\n<!-- 13463319792+&#45;&gt;13463319792 -->\n<g id=\"edge3\" class=\"edge\">\n<title>13463319792+&#45;&gt;13463319792</title>\n<path fill=\"none\" stroke=\"black\" d=\"M1008.28,-72.5C1015.42,-72.5 1023.61,-72.5 1032.32,-72.5\"/>\n<polygon fill=\"black\" stroke=\"black\" points=\"1032.06,-76 1042.06,-72.5 1032.06,-69 1032.06,-76\"/>\n</g>\n<!-- 13463311680 -->\n<g id=\"node11\" class=\"node\">\n<title>13463311680</title>\n<polygon fill=\"none\" stroke=\"black\" points=\"1353.75,-54.5 1353.75,-90.5 1537.5,-90.5 1537.5,-54.5 1353.75,-54.5\"/>\n<text text-anchor=\"middle\" x=\"1365.12\" y=\"-67.7\" font-family=\"Times,serif\" font-size=\"14.00\">o</text>\n<polyline fill=\"none\" stroke=\"black\" points=\"1376.5,-55 1376.5,-90.5\"/>\n<text text-anchor=\"middle\" x=\"1416.38\" y=\"-67.7\" font-family=\"Times,serif\" font-size=\"14.00\">data 0.7071</text>\n<polyline fill=\"none\" stroke=\"black\" points=\"1456.25,-55 1456.25,-90.5\"/>\n<text text-anchor=\"middle\" x=\"1496.88\" y=\"-67.7\" font-family=\"Times,serif\" font-size=\"14.00\">grad 1.0000</text>\n</g>\n<!-- 13463311680tanh&#45;&gt;13463311680 -->\n<g id=\"edge4\" class=\"edge\">\n<title>13463311680tanh&#45;&gt;13463311680</title>\n<path fill=\"none\" stroke=\"black\" d=\"M1318.03,-72.5C1325.17,-72.5 1333.36,-72.5 1342.07,-72.5\"/>\n<polygon fill=\"black\" stroke=\"black\" points=\"1341.81,-76 1351.81,-72.5 1341.81,-69 1341.81,-76\"/>\n</g>\n<!-- 13463319456 -->\n<g id=\"node13\" class=\"node\">\n<title>13463319456</title>\n<polygon fill=\"none\" stroke=\"black\" points=\"668.25,-82.5 668.25,-118.5 918,-118.5 918,-82.5 668.25,-82.5\"/>\n<text text-anchor=\"middle\" x=\"710.38\" y=\"-95.7\" font-family=\"Times,serif\" font-size=\"14.00\">x1w1+x2w2</text>\n<polyline fill=\"none\" stroke=\"black\" points=\"752.5,-83 752.5,-118.5\"/>\n<text text-anchor=\"middle\" x=\"794.62\" y=\"-95.7\" font-family=\"Times,serif\" font-size=\"14.00\">data &#45;6.0000</text>\n<polyline fill=\"none\" stroke=\"black\" points=\"836.75,-83 836.75,-118.5\"/>\n<text text-anchor=\"middle\" x=\"877.38\" y=\"-95.7\" font-family=\"Times,serif\" font-size=\"14.00\">grad 0.5000</text>\n</g>\n<!-- 13463319456&#45;&gt;13463319792+ -->\n<g id=\"edge7\" class=\"edge\">\n<title>13463319456&#45;&gt;13463319792+</title>\n<path fill=\"none\" stroke=\"black\" d=\"M916.81,-82.02C926.08,-80.62 934.9,-79.29 942.86,-78.09\"/>\n<polygon fill=\"black\" stroke=\"black\" points=\"943.36,-81.56 952.72,-76.61 942.31,-74.64 943.36,-81.56\"/>\n</g>\n<!-- 13463319456+&#45;&gt;13463319456 -->\n<g id=\"edge5\" class=\"edge\">\n<title>13463319456+&#45;&gt;13463319456</title>\n<path fill=\"none\" stroke=\"black\" d=\"M632.49,-100.5C639.52,-100.5 647.64,-100.5 656.4,-100.5\"/>\n<polygon fill=\"black\" stroke=\"black\" points=\"656.3,-104 666.3,-100.5 656.3,-97 656.3,-104\"/>\n</g>\n<!-- 13463314896 -->\n<g id=\"node15\" class=\"node\">\n<title>13463314896</title>\n<polygon fill=\"none\" stroke=\"black\" points=\"3.75,-110.5 3.75,-146.5 194.25,-146.5 194.25,-110.5 3.75,-110.5\"/>\n<text text-anchor=\"middle\" x=\"18.5\" y=\"-123.7\" font-family=\"Times,serif\" font-size=\"14.00\">x2</text>\n<polyline fill=\"none\" stroke=\"black\" points=\"33.25,-111 33.25,-146.5\"/>\n<text text-anchor=\"middle\" x=\"73.12\" y=\"-123.7\" font-family=\"Times,serif\" font-size=\"14.00\">data 0.0000</text>\n<polyline fill=\"none\" stroke=\"black\" points=\"113,-111 113,-146.5\"/>\n<text text-anchor=\"middle\" x=\"153.62\" y=\"-123.7\" font-family=\"Times,serif\" font-size=\"14.00\">grad 0.5000</text>\n</g>\n<!-- 13463314896&#45;&gt;13463322528* -->\n<g id=\"edge6\" class=\"edge\">\n<title>13463314896&#45;&gt;13463322528*</title>\n<path fill=\"none\" stroke=\"black\" d=\"M194.46,-128.5C204.21,-128.5 213.66,-128.5 222.21,-128.5\"/>\n<polygon fill=\"black\" stroke=\"black\" points=\"222.12,-132 232.12,-128.5 222.12,-125 222.12,-132\"/>\n</g>\n</g>\n</svg>\n",
      "text/plain": [
       "<graphviz.graphs.Digraph at 0x3130bdd50>"
      ]
     },
     "execution_count": 436,
     "metadata": {},
     "output_type": "execute_result"
    }
   ],
   "execution_count": 436
  },
  {
   "metadata": {},
   "cell_type": "markdown",
   "source": "## Backprop with Autodifferentiation"
  },
  {
   "metadata": {
    "ExecuteTime": {
     "end_time": "2024-12-11T12:09:28.433695Z",
     "start_time": "2024-12-11T12:09:28.359595Z"
    }
   },
   "cell_type": "code",
   "source": [
    "# Perceptron inputs x1, x2\n",
    "x1 = Value(2.0, label=\"x1\")\n",
    "x2 = Value(0.0, label=\"x2\")\n",
    "# Weights w1, w2, and bias b\n",
    "w1 = Value(-3.0, label=\"w1\")\n",
    "w2 = Value(1.0, label=\"w2\")\n",
    "b = Value(6.8813735870195432, label=\"b\")\n",
    "# n = x1*w1 + x2*w2 + b\n",
    "x1w1 = x1*w1; x1w1.label = \"x1*w1\"\n",
    "x2w2 = x2*w2; x2w2.label = \"x2*w2\"\n",
    "x1w1x2w2 = x1w1 + x2w2; x1w1x2w2.label = \"x1w1+x2w2\"\n",
    "n = x1w1x2w2 + b; n.label = \"n\"#\n",
    "o = n.tanh(); o.label = \"o\"\n",
    "draw_dot(o)"
   ],
   "outputs": [
    {
     "data": {
      "image/svg+xml": "<?xml version=\"1.0\" encoding=\"UTF-8\" standalone=\"no\"?>\n<!DOCTYPE svg PUBLIC \"-//W3C//DTD SVG 1.1//EN\"\n \"http://www.w3.org/Graphics/SVG/1.1/DTD/svg11.dtd\">\n<!-- Generated by graphviz version 12.2.0 (20241103.1931)\n -->\n<!-- Pages: 1 -->\n<svg width=\"1546pt\" height=\"210pt\"\n viewBox=\"0.00 0.00 1545.50 210.00\" xmlns=\"http://www.w3.org/2000/svg\" xmlns:xlink=\"http://www.w3.org/1999/xlink\">\n<g id=\"graph0\" class=\"graph\" transform=\"scale(1 1) rotate(0) translate(4 206)\">\n<polygon fill=\"white\" stroke=\"none\" points=\"-4,4 -4,-206 1541.5,-206 1541.5,4 -4,4\"/>\n<!-- 13463438960 -->\n<g id=\"node1\" class=\"node\">\n<title>13463438960</title>\n<polygon fill=\"none\" stroke=\"black\" points=\"1353.75,-109.5 1353.75,-145.5 1537.5,-145.5 1537.5,-109.5 1353.75,-109.5\"/>\n<text text-anchor=\"middle\" x=\"1365.12\" y=\"-122.7\" font-family=\"Times,serif\" font-size=\"14.00\">o</text>\n<polyline fill=\"none\" stroke=\"black\" points=\"1376.5,-110 1376.5,-145.5\"/>\n<text text-anchor=\"middle\" x=\"1416.38\" y=\"-122.7\" font-family=\"Times,serif\" font-size=\"14.00\">data 0.7071</text>\n<polyline fill=\"none\" stroke=\"black\" points=\"1456.25,-110 1456.25,-145.5\"/>\n<text text-anchor=\"middle\" x=\"1496.88\" y=\"-122.7\" font-family=\"Times,serif\" font-size=\"14.00\">grad 0.0000</text>\n</g>\n<!-- 13463438960tanh -->\n<g id=\"node2\" class=\"node\">\n<title>13463438960tanh</title>\n<ellipse fill=\"none\" stroke=\"black\" cx=\"1290.75\" cy=\"-127.5\" rx=\"27\" ry=\"18\"/>\n<text text-anchor=\"middle\" x=\"1290.75\" y=\"-122.45\" font-family=\"Times,serif\" font-size=\"14.00\">tanh</text>\n</g>\n<!-- 13463438960tanh&#45;&gt;13463438960 -->\n<g id=\"edge1\" class=\"edge\">\n<title>13463438960tanh&#45;&gt;13463438960</title>\n<path fill=\"none\" stroke=\"black\" d=\"M1318.03,-127.5C1325.17,-127.5 1333.36,-127.5 1342.07,-127.5\"/>\n<polygon fill=\"black\" stroke=\"black\" points=\"1341.81,-131 1351.81,-127.5 1341.81,-124 1341.81,-131\"/>\n</g>\n<!-- 13463320176 -->\n<g id=\"node3\" class=\"node\">\n<title>13463320176</title>\n<polygon fill=\"none\" stroke=\"black\" points=\"701.25,-137.5 701.25,-173.5 885,-173.5 885,-137.5 701.25,-137.5\"/>\n<text text-anchor=\"middle\" x=\"712.62\" y=\"-150.7\" font-family=\"Times,serif\" font-size=\"14.00\">b</text>\n<polyline fill=\"none\" stroke=\"black\" points=\"724,-138 724,-173.5\"/>\n<text text-anchor=\"middle\" x=\"763.88\" y=\"-150.7\" font-family=\"Times,serif\" font-size=\"14.00\">data 6.8814</text>\n<polyline fill=\"none\" stroke=\"black\" points=\"803.75,-138 803.75,-173.5\"/>\n<text text-anchor=\"middle\" x=\"844.38\" y=\"-150.7\" font-family=\"Times,serif\" font-size=\"14.00\">grad 0.0000</text>\n</g>\n<!-- 13463441072+ -->\n<g id=\"node5\" class=\"node\">\n<title>13463441072+</title>\n<ellipse fill=\"none\" stroke=\"black\" cx=\"981\" cy=\"-127.5\" rx=\"27\" ry=\"18\"/>\n<text text-anchor=\"middle\" x=\"981\" y=\"-122.45\" font-family=\"Times,serif\" font-size=\"14.00\">+</text>\n</g>\n<!-- 13463320176&#45;&gt;13463441072+ -->\n<g id=\"edge14\" class=\"edge\">\n<title>13463320176&#45;&gt;13463441072+</title>\n<path fill=\"none\" stroke=\"black\" d=\"M885.43,-141.75C906.02,-138.64 926.71,-135.53 943.47,-133\"/>\n<polygon fill=\"black\" stroke=\"black\" points=\"943.53,-136.53 952.9,-131.58 942.49,-129.61 943.53,-136.53\"/>\n</g>\n<!-- 13463441072 -->\n<g id=\"node4\" class=\"node\">\n<title>13463441072</title>\n<polygon fill=\"none\" stroke=\"black\" points=\"1044,-109.5 1044,-145.5 1227.75,-145.5 1227.75,-109.5 1044,-109.5\"/>\n<text text-anchor=\"middle\" x=\"1055.38\" y=\"-122.7\" font-family=\"Times,serif\" font-size=\"14.00\">n</text>\n<polyline fill=\"none\" stroke=\"black\" points=\"1066.75,-110 1066.75,-145.5\"/>\n<text text-anchor=\"middle\" x=\"1106.62\" y=\"-122.7\" font-family=\"Times,serif\" font-size=\"14.00\">data 0.8814</text>\n<polyline fill=\"none\" stroke=\"black\" points=\"1146.5,-110 1146.5,-145.5\"/>\n<text text-anchor=\"middle\" x=\"1187.12\" y=\"-122.7\" font-family=\"Times,serif\" font-size=\"14.00\">grad 0.0000</text>\n</g>\n<!-- 13463441072&#45;&gt;13463438960tanh -->\n<g id=\"edge13\" class=\"edge\">\n<title>13463441072&#45;&gt;13463438960tanh</title>\n<path fill=\"none\" stroke=\"black\" d=\"M1228.01,-127.5C1236.39,-127.5 1244.52,-127.5 1251.98,-127.5\"/>\n<polygon fill=\"black\" stroke=\"black\" points=\"1251.95,-131 1261.95,-127.5 1251.95,-124 1251.95,-131\"/>\n</g>\n<!-- 13463441072+&#45;&gt;13463441072 -->\n<g id=\"edge2\" class=\"edge\">\n<title>13463441072+&#45;&gt;13463441072</title>\n<path fill=\"none\" stroke=\"black\" d=\"M1008.28,-127.5C1015.42,-127.5 1023.61,-127.5 1032.32,-127.5\"/>\n<polygon fill=\"black\" stroke=\"black\" points=\"1032.06,-131 1042.06,-127.5 1032.06,-124 1032.06,-131\"/>\n</g>\n<!-- 13204439248 -->\n<g id=\"node6\" class=\"node\">\n<title>13204439248</title>\n<polygon fill=\"none\" stroke=\"black\" points=\"3.75,-165.5 3.75,-201.5 194.25,-201.5 194.25,-165.5 3.75,-165.5\"/>\n<text text-anchor=\"middle\" x=\"18.5\" y=\"-178.7\" font-family=\"Times,serif\" font-size=\"14.00\">x1</text>\n<polyline fill=\"none\" stroke=\"black\" points=\"33.25,-166 33.25,-201.5\"/>\n<text text-anchor=\"middle\" x=\"73.12\" y=\"-178.7\" font-family=\"Times,serif\" font-size=\"14.00\">data 2.0000</text>\n<polyline fill=\"none\" stroke=\"black\" points=\"113,-166 113,-201.5\"/>\n<text text-anchor=\"middle\" x=\"153.62\" y=\"-178.7\" font-family=\"Times,serif\" font-size=\"14.00\">grad 0.0000</text>\n</g>\n<!-- 13463319312* -->\n<g id=\"node9\" class=\"node\">\n<title>13463319312*</title>\n<ellipse fill=\"none\" stroke=\"black\" cx=\"261\" cy=\"-128.5\" rx=\"27\" ry=\"18\"/>\n<text text-anchor=\"middle\" x=\"261\" y=\"-123.45\" font-family=\"Times,serif\" font-size=\"14.00\">*</text>\n</g>\n<!-- 13204439248&#45;&gt;13463319312* -->\n<g id=\"edge9\" class=\"edge\">\n<title>13204439248&#45;&gt;13463319312*</title>\n<path fill=\"none\" stroke=\"black\" d=\"M172.12,-165.01C180.9,-162.35 189.7,-159.5 198,-156.5 208.09,-152.86 218.82,-148.27 228.47,-143.88\"/>\n<polygon fill=\"black\" stroke=\"black\" points=\"229.86,-147.09 237.45,-139.69 226.9,-140.75 229.86,-147.09\"/>\n</g>\n<!-- 13463222496 -->\n<g id=\"node7\" class=\"node\">\n<title>13463222496</title>\n<polygon fill=\"none\" stroke=\"black\" points=\"3.75,-55.5 3.75,-91.5 194.25,-91.5 194.25,-55.5 3.75,-55.5\"/>\n<text text-anchor=\"middle\" x=\"18.5\" y=\"-68.7\" font-family=\"Times,serif\" font-size=\"14.00\">x2</text>\n<polyline fill=\"none\" stroke=\"black\" points=\"33.25,-56 33.25,-91.5\"/>\n<text text-anchor=\"middle\" x=\"73.12\" y=\"-68.7\" font-family=\"Times,serif\" font-size=\"14.00\">data 0.0000</text>\n<polyline fill=\"none\" stroke=\"black\" points=\"113,-56 113,-91.5\"/>\n<text text-anchor=\"middle\" x=\"153.62\" y=\"-68.7\" font-family=\"Times,serif\" font-size=\"14.00\">grad 0.0000</text>\n</g>\n<!-- 13463449424* -->\n<g id=\"node12\" class=\"node\">\n<title>13463449424*</title>\n<ellipse fill=\"none\" stroke=\"black\" cx=\"261\" cy=\"-73.5\" rx=\"27\" ry=\"18\"/>\n<text text-anchor=\"middle\" x=\"261\" y=\"-68.45\" font-family=\"Times,serif\" font-size=\"14.00\">*</text>\n</g>\n<!-- 13463222496&#45;&gt;13463449424* -->\n<g id=\"edge8\" class=\"edge\">\n<title>13463222496&#45;&gt;13463449424*</title>\n<path fill=\"none\" stroke=\"black\" d=\"M194.46,-73.5C204.21,-73.5 213.66,-73.5 222.21,-73.5\"/>\n<polygon fill=\"black\" stroke=\"black\" points=\"222.12,-77 232.12,-73.5 222.12,-70 222.12,-77\"/>\n</g>\n<!-- 13463319312 -->\n<g id=\"node8\" class=\"node\">\n<title>13463319312</title>\n<polygon fill=\"none\" stroke=\"black\" points=\"324,-110.5 324,-146.5 542.25,-146.5 542.25,-110.5 324,-110.5\"/>\n<text text-anchor=\"middle\" x=\"350.38\" y=\"-123.7\" font-family=\"Times,serif\" font-size=\"14.00\">x1*w1</text>\n<polyline fill=\"none\" stroke=\"black\" points=\"376.75,-111 376.75,-146.5\"/>\n<text text-anchor=\"middle\" x=\"418.88\" y=\"-123.7\" font-family=\"Times,serif\" font-size=\"14.00\">data &#45;6.0000</text>\n<polyline fill=\"none\" stroke=\"black\" points=\"461,-111 461,-146.5\"/>\n<text text-anchor=\"middle\" x=\"501.62\" y=\"-123.7\" font-family=\"Times,serif\" font-size=\"14.00\">grad 0.0000</text>\n</g>\n<!-- 13463439248+ -->\n<g id=\"node15\" class=\"node\">\n<title>13463439248+</title>\n<ellipse fill=\"none\" stroke=\"black\" cx=\"605.25\" cy=\"-100.5\" rx=\"27\" ry=\"18\"/>\n<text text-anchor=\"middle\" x=\"605.25\" y=\"-95.45\" font-family=\"Times,serif\" font-size=\"14.00\">+</text>\n</g>\n<!-- 13463319312&#45;&gt;13463439248+ -->\n<g id=\"edge10\" class=\"edge\">\n<title>13463319312&#45;&gt;13463439248+</title>\n<path fill=\"none\" stroke=\"black\" d=\"M542.35,-110.69C551.12,-109.24 559.54,-107.86 567.19,-106.6\"/>\n<polygon fill=\"black\" stroke=\"black\" points=\"567.72,-110.06 577.02,-104.98 566.58,-103.15 567.72,-110.06\"/>\n</g>\n<!-- 13463319312*&#45;&gt;13463319312 -->\n<g id=\"edge3\" class=\"edge\">\n<title>13463319312*&#45;&gt;13463319312</title>\n<path fill=\"none\" stroke=\"black\" d=\"M288.21,-128.5C295.29,-128.5 303.43,-128.5 312.17,-128.5\"/>\n<polygon fill=\"black\" stroke=\"black\" points=\"312.01,-132 322.01,-128.5 312.01,-125 312.01,-132\"/>\n</g>\n<!-- 13463224128 -->\n<g id=\"node10\" class=\"node\">\n<title>13463224128</title>\n<polygon fill=\"none\" stroke=\"black\" points=\"0,-110.5 0,-146.5 198,-146.5 198,-110.5 0,-110.5\"/>\n<text text-anchor=\"middle\" x=\"16.25\" y=\"-123.7\" font-family=\"Times,serif\" font-size=\"14.00\">w1</text>\n<polyline fill=\"none\" stroke=\"black\" points=\"32.5,-111 32.5,-146.5\"/>\n<text text-anchor=\"middle\" x=\"74.62\" y=\"-123.7\" font-family=\"Times,serif\" font-size=\"14.00\">data &#45;3.0000</text>\n<polyline fill=\"none\" stroke=\"black\" points=\"116.75,-111 116.75,-146.5\"/>\n<text text-anchor=\"middle\" x=\"157.38\" y=\"-123.7\" font-family=\"Times,serif\" font-size=\"14.00\">grad 0.0000</text>\n</g>\n<!-- 13463224128&#45;&gt;13463319312* -->\n<g id=\"edge6\" class=\"edge\">\n<title>13463224128&#45;&gt;13463319312*</title>\n<path fill=\"none\" stroke=\"black\" d=\"M198.14,-128.5C206.61,-128.5 214.8,-128.5 222.29,-128.5\"/>\n<polygon fill=\"black\" stroke=\"black\" points=\"222.29,-132 232.29,-128.5 222.29,-125 222.29,-132\"/>\n</g>\n<!-- 13463449424 -->\n<g id=\"node11\" class=\"node\">\n<title>13463449424</title>\n<polygon fill=\"none\" stroke=\"black\" points=\"326.25,-55.5 326.25,-91.5 540,-91.5 540,-55.5 326.25,-55.5\"/>\n<text text-anchor=\"middle\" x=\"352.62\" y=\"-68.7\" font-family=\"Times,serif\" font-size=\"14.00\">x2*w2</text>\n<polyline fill=\"none\" stroke=\"black\" points=\"379,-56 379,-91.5\"/>\n<text text-anchor=\"middle\" x=\"418.88\" y=\"-68.7\" font-family=\"Times,serif\" font-size=\"14.00\">data 0.0000</text>\n<polyline fill=\"none\" stroke=\"black\" points=\"458.75,-56 458.75,-91.5\"/>\n<text text-anchor=\"middle\" x=\"499.38\" y=\"-68.7\" font-family=\"Times,serif\" font-size=\"14.00\">grad 0.0000</text>\n</g>\n<!-- 13463449424&#45;&gt;13463439248+ -->\n<g id=\"edge12\" class=\"edge\">\n<title>13463449424&#45;&gt;13463439248+</title>\n<path fill=\"none\" stroke=\"black\" d=\"M540.42,-90.37C549.89,-91.87 559,-93.32 567.21,-94.62\"/>\n<polygon fill=\"black\" stroke=\"black\" points=\"566.63,-98.07 577.05,-96.18 567.72,-91.16 566.63,-98.07\"/>\n</g>\n<!-- 13463449424*&#45;&gt;13463449424 -->\n<g id=\"edge4\" class=\"edge\">\n<title>13463449424*&#45;&gt;13463449424</title>\n<path fill=\"none\" stroke=\"black\" d=\"M288.21,-73.5C296,-73.5 305.08,-73.5 314.82,-73.5\"/>\n<polygon fill=\"black\" stroke=\"black\" points=\"314.55,-77 324.55,-73.5 314.55,-70 314.55,-77\"/>\n</g>\n<!-- 13204445008 -->\n<g id=\"node13\" class=\"node\">\n<title>13204445008</title>\n<polygon fill=\"none\" stroke=\"black\" points=\"2.25,-0.5 2.25,-36.5 195.75,-36.5 195.75,-0.5 2.25,-0.5\"/>\n<text text-anchor=\"middle\" x=\"18.5\" y=\"-13.7\" font-family=\"Times,serif\" font-size=\"14.00\">w2</text>\n<polyline fill=\"none\" stroke=\"black\" points=\"34.75,-1 34.75,-36.5\"/>\n<text text-anchor=\"middle\" x=\"74.62\" y=\"-13.7\" font-family=\"Times,serif\" font-size=\"14.00\">data 1.0000</text>\n<polyline fill=\"none\" stroke=\"black\" points=\"114.5,-1 114.5,-36.5\"/>\n<text text-anchor=\"middle\" x=\"155.12\" y=\"-13.7\" font-family=\"Times,serif\" font-size=\"14.00\">grad 0.0000</text>\n</g>\n<!-- 13204445008&#45;&gt;13463449424* -->\n<g id=\"edge7\" class=\"edge\">\n<title>13204445008&#45;&gt;13463449424*</title>\n<path fill=\"none\" stroke=\"black\" d=\"M168.91,-36.94C178.74,-39.93 188.67,-43.15 198,-46.5 207.96,-50.07 218.58,-54.47 228.18,-58.68\"/>\n<polygon fill=\"black\" stroke=\"black\" points=\"226.54,-61.78 237.1,-62.67 229.4,-55.39 226.54,-61.78\"/>\n</g>\n<!-- 13463439248 -->\n<g id=\"node14\" class=\"node\">\n<title>13463439248</title>\n<polygon fill=\"none\" stroke=\"black\" points=\"668.25,-82.5 668.25,-118.5 918,-118.5 918,-82.5 668.25,-82.5\"/>\n<text text-anchor=\"middle\" x=\"710.38\" y=\"-95.7\" font-family=\"Times,serif\" font-size=\"14.00\">x1w1+x2w2</text>\n<polyline fill=\"none\" stroke=\"black\" points=\"752.5,-83 752.5,-118.5\"/>\n<text text-anchor=\"middle\" x=\"794.62\" y=\"-95.7\" font-family=\"Times,serif\" font-size=\"14.00\">data &#45;6.0000</text>\n<polyline fill=\"none\" stroke=\"black\" points=\"836.75,-83 836.75,-118.5\"/>\n<text text-anchor=\"middle\" x=\"877.38\" y=\"-95.7\" font-family=\"Times,serif\" font-size=\"14.00\">grad 0.0000</text>\n</g>\n<!-- 13463439248&#45;&gt;13463441072+ -->\n<g id=\"edge11\" class=\"edge\">\n<title>13463439248&#45;&gt;13463441072+</title>\n<path fill=\"none\" stroke=\"black\" d=\"M918.36,-118.55C927.16,-119.82 935.54,-121.04 943.11,-122.14\"/>\n<polygon fill=\"black\" stroke=\"black\" points=\"942.42,-125.58 952.82,-123.55 943.43,-118.65 942.42,-125.58\"/>\n</g>\n<!-- 13463439248+&#45;&gt;13463439248 -->\n<g id=\"edge5\" class=\"edge\">\n<title>13463439248+&#45;&gt;13463439248</title>\n<path fill=\"none\" stroke=\"black\" d=\"M632.49,-100.5C639.52,-100.5 647.64,-100.5 656.4,-100.5\"/>\n<polygon fill=\"black\" stroke=\"black\" points=\"656.3,-104 666.3,-100.5 656.3,-97 656.3,-104\"/>\n</g>\n</g>\n</svg>\n",
      "text/plain": [
       "<graphviz.graphs.Digraph at 0x3227bc5e0>"
      ]
     },
     "execution_count": 437,
     "metadata": {},
     "output_type": "execute_result"
    }
   ],
   "execution_count": 437
  },
  {
   "metadata": {
    "ExecuteTime": {
     "end_time": "2024-12-11T12:09:28.527807Z",
     "start_time": "2024-12-11T12:09:28.442595Z"
    }
   },
   "cell_type": "code",
   "source": [
    "o.grad = 1.0\n",
    "o._backward()\n",
    "draw_dot(o)"
   ],
   "outputs": [
    {
     "data": {
      "image/svg+xml": "<?xml version=\"1.0\" encoding=\"UTF-8\" standalone=\"no\"?>\n<!DOCTYPE svg PUBLIC \"-//W3C//DTD SVG 1.1//EN\"\n \"http://www.w3.org/Graphics/SVG/1.1/DTD/svg11.dtd\">\n<!-- Generated by graphviz version 12.2.0 (20241103.1931)\n -->\n<!-- Pages: 1 -->\n<svg width=\"1546pt\" height=\"210pt\"\n viewBox=\"0.00 0.00 1545.50 210.00\" xmlns=\"http://www.w3.org/2000/svg\" xmlns:xlink=\"http://www.w3.org/1999/xlink\">\n<g id=\"graph0\" class=\"graph\" transform=\"scale(1 1) rotate(0) translate(4 206)\">\n<polygon fill=\"white\" stroke=\"none\" points=\"-4,4 -4,-206 1541.5,-206 1541.5,4 -4,4\"/>\n<!-- 13463438960 -->\n<g id=\"node1\" class=\"node\">\n<title>13463438960</title>\n<polygon fill=\"none\" stroke=\"black\" points=\"1353.75,-109.5 1353.75,-145.5 1537.5,-145.5 1537.5,-109.5 1353.75,-109.5\"/>\n<text text-anchor=\"middle\" x=\"1365.12\" y=\"-122.7\" font-family=\"Times,serif\" font-size=\"14.00\">o</text>\n<polyline fill=\"none\" stroke=\"black\" points=\"1376.5,-110 1376.5,-145.5\"/>\n<text text-anchor=\"middle\" x=\"1416.38\" y=\"-122.7\" font-family=\"Times,serif\" font-size=\"14.00\">data 0.7071</text>\n<polyline fill=\"none\" stroke=\"black\" points=\"1456.25,-110 1456.25,-145.5\"/>\n<text text-anchor=\"middle\" x=\"1496.88\" y=\"-122.7\" font-family=\"Times,serif\" font-size=\"14.00\">grad 1.0000</text>\n</g>\n<!-- 13463438960tanh -->\n<g id=\"node2\" class=\"node\">\n<title>13463438960tanh</title>\n<ellipse fill=\"none\" stroke=\"black\" cx=\"1290.75\" cy=\"-127.5\" rx=\"27\" ry=\"18\"/>\n<text text-anchor=\"middle\" x=\"1290.75\" y=\"-122.45\" font-family=\"Times,serif\" font-size=\"14.00\">tanh</text>\n</g>\n<!-- 13463438960tanh&#45;&gt;13463438960 -->\n<g id=\"edge1\" class=\"edge\">\n<title>13463438960tanh&#45;&gt;13463438960</title>\n<path fill=\"none\" stroke=\"black\" d=\"M1318.03,-127.5C1325.17,-127.5 1333.36,-127.5 1342.07,-127.5\"/>\n<polygon fill=\"black\" stroke=\"black\" points=\"1341.81,-131 1351.81,-127.5 1341.81,-124 1341.81,-131\"/>\n</g>\n<!-- 13463320176 -->\n<g id=\"node3\" class=\"node\">\n<title>13463320176</title>\n<polygon fill=\"none\" stroke=\"black\" points=\"701.25,-137.5 701.25,-173.5 885,-173.5 885,-137.5 701.25,-137.5\"/>\n<text text-anchor=\"middle\" x=\"712.62\" y=\"-150.7\" font-family=\"Times,serif\" font-size=\"14.00\">b</text>\n<polyline fill=\"none\" stroke=\"black\" points=\"724,-138 724,-173.5\"/>\n<text text-anchor=\"middle\" x=\"763.88\" y=\"-150.7\" font-family=\"Times,serif\" font-size=\"14.00\">data 6.8814</text>\n<polyline fill=\"none\" stroke=\"black\" points=\"803.75,-138 803.75,-173.5\"/>\n<text text-anchor=\"middle\" x=\"844.38\" y=\"-150.7\" font-family=\"Times,serif\" font-size=\"14.00\">grad 0.0000</text>\n</g>\n<!-- 13463441072+ -->\n<g id=\"node5\" class=\"node\">\n<title>13463441072+</title>\n<ellipse fill=\"none\" stroke=\"black\" cx=\"981\" cy=\"-127.5\" rx=\"27\" ry=\"18\"/>\n<text text-anchor=\"middle\" x=\"981\" y=\"-122.45\" font-family=\"Times,serif\" font-size=\"14.00\">+</text>\n</g>\n<!-- 13463320176&#45;&gt;13463441072+ -->\n<g id=\"edge14\" class=\"edge\">\n<title>13463320176&#45;&gt;13463441072+</title>\n<path fill=\"none\" stroke=\"black\" d=\"M885.43,-141.75C906.02,-138.64 926.71,-135.53 943.47,-133\"/>\n<polygon fill=\"black\" stroke=\"black\" points=\"943.53,-136.53 952.9,-131.58 942.49,-129.61 943.53,-136.53\"/>\n</g>\n<!-- 13463441072 -->\n<g id=\"node4\" class=\"node\">\n<title>13463441072</title>\n<polygon fill=\"none\" stroke=\"black\" points=\"1044,-109.5 1044,-145.5 1227.75,-145.5 1227.75,-109.5 1044,-109.5\"/>\n<text text-anchor=\"middle\" x=\"1055.38\" y=\"-122.7\" font-family=\"Times,serif\" font-size=\"14.00\">n</text>\n<polyline fill=\"none\" stroke=\"black\" points=\"1066.75,-110 1066.75,-145.5\"/>\n<text text-anchor=\"middle\" x=\"1106.62\" y=\"-122.7\" font-family=\"Times,serif\" font-size=\"14.00\">data 0.8814</text>\n<polyline fill=\"none\" stroke=\"black\" points=\"1146.5,-110 1146.5,-145.5\"/>\n<text text-anchor=\"middle\" x=\"1187.12\" y=\"-122.7\" font-family=\"Times,serif\" font-size=\"14.00\">grad 0.5000</text>\n</g>\n<!-- 13463441072&#45;&gt;13463438960tanh -->\n<g id=\"edge13\" class=\"edge\">\n<title>13463441072&#45;&gt;13463438960tanh</title>\n<path fill=\"none\" stroke=\"black\" d=\"M1228.01,-127.5C1236.39,-127.5 1244.52,-127.5 1251.98,-127.5\"/>\n<polygon fill=\"black\" stroke=\"black\" points=\"1251.95,-131 1261.95,-127.5 1251.95,-124 1251.95,-131\"/>\n</g>\n<!-- 13463441072+&#45;&gt;13463441072 -->\n<g id=\"edge2\" class=\"edge\">\n<title>13463441072+&#45;&gt;13463441072</title>\n<path fill=\"none\" stroke=\"black\" d=\"M1008.28,-127.5C1015.42,-127.5 1023.61,-127.5 1032.32,-127.5\"/>\n<polygon fill=\"black\" stroke=\"black\" points=\"1032.06,-131 1042.06,-127.5 1032.06,-124 1032.06,-131\"/>\n</g>\n<!-- 13204439248 -->\n<g id=\"node6\" class=\"node\">\n<title>13204439248</title>\n<polygon fill=\"none\" stroke=\"black\" points=\"3.75,-165.5 3.75,-201.5 194.25,-201.5 194.25,-165.5 3.75,-165.5\"/>\n<text text-anchor=\"middle\" x=\"18.5\" y=\"-178.7\" font-family=\"Times,serif\" font-size=\"14.00\">x1</text>\n<polyline fill=\"none\" stroke=\"black\" points=\"33.25,-166 33.25,-201.5\"/>\n<text text-anchor=\"middle\" x=\"73.12\" y=\"-178.7\" font-family=\"Times,serif\" font-size=\"14.00\">data 2.0000</text>\n<polyline fill=\"none\" stroke=\"black\" points=\"113,-166 113,-201.5\"/>\n<text text-anchor=\"middle\" x=\"153.62\" y=\"-178.7\" font-family=\"Times,serif\" font-size=\"14.00\">grad 0.0000</text>\n</g>\n<!-- 13463319312* -->\n<g id=\"node9\" class=\"node\">\n<title>13463319312*</title>\n<ellipse fill=\"none\" stroke=\"black\" cx=\"261\" cy=\"-128.5\" rx=\"27\" ry=\"18\"/>\n<text text-anchor=\"middle\" x=\"261\" y=\"-123.45\" font-family=\"Times,serif\" font-size=\"14.00\">*</text>\n</g>\n<!-- 13204439248&#45;&gt;13463319312* -->\n<g id=\"edge9\" class=\"edge\">\n<title>13204439248&#45;&gt;13463319312*</title>\n<path fill=\"none\" stroke=\"black\" d=\"M172.12,-165.01C180.9,-162.35 189.7,-159.5 198,-156.5 208.09,-152.86 218.82,-148.27 228.47,-143.88\"/>\n<polygon fill=\"black\" stroke=\"black\" points=\"229.86,-147.09 237.45,-139.69 226.9,-140.75 229.86,-147.09\"/>\n</g>\n<!-- 13463222496 -->\n<g id=\"node7\" class=\"node\">\n<title>13463222496</title>\n<polygon fill=\"none\" stroke=\"black\" points=\"3.75,-55.5 3.75,-91.5 194.25,-91.5 194.25,-55.5 3.75,-55.5\"/>\n<text text-anchor=\"middle\" x=\"18.5\" y=\"-68.7\" font-family=\"Times,serif\" font-size=\"14.00\">x2</text>\n<polyline fill=\"none\" stroke=\"black\" points=\"33.25,-56 33.25,-91.5\"/>\n<text text-anchor=\"middle\" x=\"73.12\" y=\"-68.7\" font-family=\"Times,serif\" font-size=\"14.00\">data 0.0000</text>\n<polyline fill=\"none\" stroke=\"black\" points=\"113,-56 113,-91.5\"/>\n<text text-anchor=\"middle\" x=\"153.62\" y=\"-68.7\" font-family=\"Times,serif\" font-size=\"14.00\">grad 0.0000</text>\n</g>\n<!-- 13463449424* -->\n<g id=\"node12\" class=\"node\">\n<title>13463449424*</title>\n<ellipse fill=\"none\" stroke=\"black\" cx=\"261\" cy=\"-73.5\" rx=\"27\" ry=\"18\"/>\n<text text-anchor=\"middle\" x=\"261\" y=\"-68.45\" font-family=\"Times,serif\" font-size=\"14.00\">*</text>\n</g>\n<!-- 13463222496&#45;&gt;13463449424* -->\n<g id=\"edge8\" class=\"edge\">\n<title>13463222496&#45;&gt;13463449424*</title>\n<path fill=\"none\" stroke=\"black\" d=\"M194.46,-73.5C204.21,-73.5 213.66,-73.5 222.21,-73.5\"/>\n<polygon fill=\"black\" stroke=\"black\" points=\"222.12,-77 232.12,-73.5 222.12,-70 222.12,-77\"/>\n</g>\n<!-- 13463319312 -->\n<g id=\"node8\" class=\"node\">\n<title>13463319312</title>\n<polygon fill=\"none\" stroke=\"black\" points=\"324,-110.5 324,-146.5 542.25,-146.5 542.25,-110.5 324,-110.5\"/>\n<text text-anchor=\"middle\" x=\"350.38\" y=\"-123.7\" font-family=\"Times,serif\" font-size=\"14.00\">x1*w1</text>\n<polyline fill=\"none\" stroke=\"black\" points=\"376.75,-111 376.75,-146.5\"/>\n<text text-anchor=\"middle\" x=\"418.88\" y=\"-123.7\" font-family=\"Times,serif\" font-size=\"14.00\">data &#45;6.0000</text>\n<polyline fill=\"none\" stroke=\"black\" points=\"461,-111 461,-146.5\"/>\n<text text-anchor=\"middle\" x=\"501.62\" y=\"-123.7\" font-family=\"Times,serif\" font-size=\"14.00\">grad 0.0000</text>\n</g>\n<!-- 13463439248+ -->\n<g id=\"node15\" class=\"node\">\n<title>13463439248+</title>\n<ellipse fill=\"none\" stroke=\"black\" cx=\"605.25\" cy=\"-100.5\" rx=\"27\" ry=\"18\"/>\n<text text-anchor=\"middle\" x=\"605.25\" y=\"-95.45\" font-family=\"Times,serif\" font-size=\"14.00\">+</text>\n</g>\n<!-- 13463319312&#45;&gt;13463439248+ -->\n<g id=\"edge10\" class=\"edge\">\n<title>13463319312&#45;&gt;13463439248+</title>\n<path fill=\"none\" stroke=\"black\" d=\"M542.35,-110.69C551.12,-109.24 559.54,-107.86 567.19,-106.6\"/>\n<polygon fill=\"black\" stroke=\"black\" points=\"567.72,-110.06 577.02,-104.98 566.58,-103.15 567.72,-110.06\"/>\n</g>\n<!-- 13463319312*&#45;&gt;13463319312 -->\n<g id=\"edge3\" class=\"edge\">\n<title>13463319312*&#45;&gt;13463319312</title>\n<path fill=\"none\" stroke=\"black\" d=\"M288.21,-128.5C295.29,-128.5 303.43,-128.5 312.17,-128.5\"/>\n<polygon fill=\"black\" stroke=\"black\" points=\"312.01,-132 322.01,-128.5 312.01,-125 312.01,-132\"/>\n</g>\n<!-- 13463224128 -->\n<g id=\"node10\" class=\"node\">\n<title>13463224128</title>\n<polygon fill=\"none\" stroke=\"black\" points=\"0,-110.5 0,-146.5 198,-146.5 198,-110.5 0,-110.5\"/>\n<text text-anchor=\"middle\" x=\"16.25\" y=\"-123.7\" font-family=\"Times,serif\" font-size=\"14.00\">w1</text>\n<polyline fill=\"none\" stroke=\"black\" points=\"32.5,-111 32.5,-146.5\"/>\n<text text-anchor=\"middle\" x=\"74.62\" y=\"-123.7\" font-family=\"Times,serif\" font-size=\"14.00\">data &#45;3.0000</text>\n<polyline fill=\"none\" stroke=\"black\" points=\"116.75,-111 116.75,-146.5\"/>\n<text text-anchor=\"middle\" x=\"157.38\" y=\"-123.7\" font-family=\"Times,serif\" font-size=\"14.00\">grad 0.0000</text>\n</g>\n<!-- 13463224128&#45;&gt;13463319312* -->\n<g id=\"edge6\" class=\"edge\">\n<title>13463224128&#45;&gt;13463319312*</title>\n<path fill=\"none\" stroke=\"black\" d=\"M198.14,-128.5C206.61,-128.5 214.8,-128.5 222.29,-128.5\"/>\n<polygon fill=\"black\" stroke=\"black\" points=\"222.29,-132 232.29,-128.5 222.29,-125 222.29,-132\"/>\n</g>\n<!-- 13463449424 -->\n<g id=\"node11\" class=\"node\">\n<title>13463449424</title>\n<polygon fill=\"none\" stroke=\"black\" points=\"326.25,-55.5 326.25,-91.5 540,-91.5 540,-55.5 326.25,-55.5\"/>\n<text text-anchor=\"middle\" x=\"352.62\" y=\"-68.7\" font-family=\"Times,serif\" font-size=\"14.00\">x2*w2</text>\n<polyline fill=\"none\" stroke=\"black\" points=\"379,-56 379,-91.5\"/>\n<text text-anchor=\"middle\" x=\"418.88\" y=\"-68.7\" font-family=\"Times,serif\" font-size=\"14.00\">data 0.0000</text>\n<polyline fill=\"none\" stroke=\"black\" points=\"458.75,-56 458.75,-91.5\"/>\n<text text-anchor=\"middle\" x=\"499.38\" y=\"-68.7\" font-family=\"Times,serif\" font-size=\"14.00\">grad 0.0000</text>\n</g>\n<!-- 13463449424&#45;&gt;13463439248+ -->\n<g id=\"edge12\" class=\"edge\">\n<title>13463449424&#45;&gt;13463439248+</title>\n<path fill=\"none\" stroke=\"black\" d=\"M540.42,-90.37C549.89,-91.87 559,-93.32 567.21,-94.62\"/>\n<polygon fill=\"black\" stroke=\"black\" points=\"566.63,-98.07 577.05,-96.18 567.72,-91.16 566.63,-98.07\"/>\n</g>\n<!-- 13463449424*&#45;&gt;13463449424 -->\n<g id=\"edge4\" class=\"edge\">\n<title>13463449424*&#45;&gt;13463449424</title>\n<path fill=\"none\" stroke=\"black\" d=\"M288.21,-73.5C296,-73.5 305.08,-73.5 314.82,-73.5\"/>\n<polygon fill=\"black\" stroke=\"black\" points=\"314.55,-77 324.55,-73.5 314.55,-70 314.55,-77\"/>\n</g>\n<!-- 13204445008 -->\n<g id=\"node13\" class=\"node\">\n<title>13204445008</title>\n<polygon fill=\"none\" stroke=\"black\" points=\"2.25,-0.5 2.25,-36.5 195.75,-36.5 195.75,-0.5 2.25,-0.5\"/>\n<text text-anchor=\"middle\" x=\"18.5\" y=\"-13.7\" font-family=\"Times,serif\" font-size=\"14.00\">w2</text>\n<polyline fill=\"none\" stroke=\"black\" points=\"34.75,-1 34.75,-36.5\"/>\n<text text-anchor=\"middle\" x=\"74.62\" y=\"-13.7\" font-family=\"Times,serif\" font-size=\"14.00\">data 1.0000</text>\n<polyline fill=\"none\" stroke=\"black\" points=\"114.5,-1 114.5,-36.5\"/>\n<text text-anchor=\"middle\" x=\"155.12\" y=\"-13.7\" font-family=\"Times,serif\" font-size=\"14.00\">grad 0.0000</text>\n</g>\n<!-- 13204445008&#45;&gt;13463449424* -->\n<g id=\"edge7\" class=\"edge\">\n<title>13204445008&#45;&gt;13463449424*</title>\n<path fill=\"none\" stroke=\"black\" d=\"M168.91,-36.94C178.74,-39.93 188.67,-43.15 198,-46.5 207.96,-50.07 218.58,-54.47 228.18,-58.68\"/>\n<polygon fill=\"black\" stroke=\"black\" points=\"226.54,-61.78 237.1,-62.67 229.4,-55.39 226.54,-61.78\"/>\n</g>\n<!-- 13463439248 -->\n<g id=\"node14\" class=\"node\">\n<title>13463439248</title>\n<polygon fill=\"none\" stroke=\"black\" points=\"668.25,-82.5 668.25,-118.5 918,-118.5 918,-82.5 668.25,-82.5\"/>\n<text text-anchor=\"middle\" x=\"710.38\" y=\"-95.7\" font-family=\"Times,serif\" font-size=\"14.00\">x1w1+x2w2</text>\n<polyline fill=\"none\" stroke=\"black\" points=\"752.5,-83 752.5,-118.5\"/>\n<text text-anchor=\"middle\" x=\"794.62\" y=\"-95.7\" font-family=\"Times,serif\" font-size=\"14.00\">data &#45;6.0000</text>\n<polyline fill=\"none\" stroke=\"black\" points=\"836.75,-83 836.75,-118.5\"/>\n<text text-anchor=\"middle\" x=\"877.38\" y=\"-95.7\" font-family=\"Times,serif\" font-size=\"14.00\">grad 0.0000</text>\n</g>\n<!-- 13463439248&#45;&gt;13463441072+ -->\n<g id=\"edge11\" class=\"edge\">\n<title>13463439248&#45;&gt;13463441072+</title>\n<path fill=\"none\" stroke=\"black\" d=\"M918.36,-118.55C927.16,-119.82 935.54,-121.04 943.11,-122.14\"/>\n<polygon fill=\"black\" stroke=\"black\" points=\"942.42,-125.58 952.82,-123.55 943.43,-118.65 942.42,-125.58\"/>\n</g>\n<!-- 13463439248+&#45;&gt;13463439248 -->\n<g id=\"edge5\" class=\"edge\">\n<title>13463439248+&#45;&gt;13463439248</title>\n<path fill=\"none\" stroke=\"black\" d=\"M632.49,-100.5C639.52,-100.5 647.64,-100.5 656.4,-100.5\"/>\n<polygon fill=\"black\" stroke=\"black\" points=\"656.3,-104 666.3,-100.5 656.3,-97 656.3,-104\"/>\n</g>\n</g>\n</svg>\n",
      "text/plain": [
       "<graphviz.graphs.Digraph at 0x32275f700>"
      ]
     },
     "execution_count": 438,
     "metadata": {},
     "output_type": "execute_result"
    }
   ],
   "execution_count": 438
  },
  {
   "metadata": {
    "ExecuteTime": {
     "end_time": "2024-12-11T12:09:28.613041Z",
     "start_time": "2024-12-11T12:09:28.537841Z"
    }
   },
   "cell_type": "code",
   "source": [
    "n._backward()\n",
    "b._backward()\n",
    "x1w1x2w2._backward()\n",
    "x1w1._backward()\n",
    "x2w2._backward()\n",
    "x1._backward()\n",
    "w1._backward()\n",
    "x2._backward()\n",
    "w2._backward()\n",
    "draw_dot(o)"
   ],
   "outputs": [
    {
     "data": {
      "image/svg+xml": "<?xml version=\"1.0\" encoding=\"UTF-8\" standalone=\"no\"?>\n<!DOCTYPE svg PUBLIC \"-//W3C//DTD SVG 1.1//EN\"\n \"http://www.w3.org/Graphics/SVG/1.1/DTD/svg11.dtd\">\n<!-- Generated by graphviz version 12.2.0 (20241103.1931)\n -->\n<!-- Pages: 1 -->\n<svg width=\"1546pt\" height=\"210pt\"\n viewBox=\"0.00 0.00 1545.50 210.00\" xmlns=\"http://www.w3.org/2000/svg\" xmlns:xlink=\"http://www.w3.org/1999/xlink\">\n<g id=\"graph0\" class=\"graph\" transform=\"scale(1 1) rotate(0) translate(4 206)\">\n<polygon fill=\"white\" stroke=\"none\" points=\"-4,4 -4,-206 1541.5,-206 1541.5,4 -4,4\"/>\n<!-- 13463438960 -->\n<g id=\"node1\" class=\"node\">\n<title>13463438960</title>\n<polygon fill=\"none\" stroke=\"black\" points=\"1353.75,-109.5 1353.75,-145.5 1537.5,-145.5 1537.5,-109.5 1353.75,-109.5\"/>\n<text text-anchor=\"middle\" x=\"1365.12\" y=\"-122.7\" font-family=\"Times,serif\" font-size=\"14.00\">o</text>\n<polyline fill=\"none\" stroke=\"black\" points=\"1376.5,-110 1376.5,-145.5\"/>\n<text text-anchor=\"middle\" x=\"1416.38\" y=\"-122.7\" font-family=\"Times,serif\" font-size=\"14.00\">data 0.7071</text>\n<polyline fill=\"none\" stroke=\"black\" points=\"1456.25,-110 1456.25,-145.5\"/>\n<text text-anchor=\"middle\" x=\"1496.88\" y=\"-122.7\" font-family=\"Times,serif\" font-size=\"14.00\">grad 1.0000</text>\n</g>\n<!-- 13463438960tanh -->\n<g id=\"node2\" class=\"node\">\n<title>13463438960tanh</title>\n<ellipse fill=\"none\" stroke=\"black\" cx=\"1290.75\" cy=\"-127.5\" rx=\"27\" ry=\"18\"/>\n<text text-anchor=\"middle\" x=\"1290.75\" y=\"-122.45\" font-family=\"Times,serif\" font-size=\"14.00\">tanh</text>\n</g>\n<!-- 13463438960tanh&#45;&gt;13463438960 -->\n<g id=\"edge1\" class=\"edge\">\n<title>13463438960tanh&#45;&gt;13463438960</title>\n<path fill=\"none\" stroke=\"black\" d=\"M1318.03,-127.5C1325.17,-127.5 1333.36,-127.5 1342.07,-127.5\"/>\n<polygon fill=\"black\" stroke=\"black\" points=\"1341.81,-131 1351.81,-127.5 1341.81,-124 1341.81,-131\"/>\n</g>\n<!-- 13463320176 -->\n<g id=\"node3\" class=\"node\">\n<title>13463320176</title>\n<polygon fill=\"none\" stroke=\"black\" points=\"701.25,-137.5 701.25,-173.5 885,-173.5 885,-137.5 701.25,-137.5\"/>\n<text text-anchor=\"middle\" x=\"712.62\" y=\"-150.7\" font-family=\"Times,serif\" font-size=\"14.00\">b</text>\n<polyline fill=\"none\" stroke=\"black\" points=\"724,-138 724,-173.5\"/>\n<text text-anchor=\"middle\" x=\"763.88\" y=\"-150.7\" font-family=\"Times,serif\" font-size=\"14.00\">data 6.8814</text>\n<polyline fill=\"none\" stroke=\"black\" points=\"803.75,-138 803.75,-173.5\"/>\n<text text-anchor=\"middle\" x=\"844.38\" y=\"-150.7\" font-family=\"Times,serif\" font-size=\"14.00\">grad 0.5000</text>\n</g>\n<!-- 13463441072+ -->\n<g id=\"node5\" class=\"node\">\n<title>13463441072+</title>\n<ellipse fill=\"none\" stroke=\"black\" cx=\"981\" cy=\"-127.5\" rx=\"27\" ry=\"18\"/>\n<text text-anchor=\"middle\" x=\"981\" y=\"-122.45\" font-family=\"Times,serif\" font-size=\"14.00\">+</text>\n</g>\n<!-- 13463320176&#45;&gt;13463441072+ -->\n<g id=\"edge14\" class=\"edge\">\n<title>13463320176&#45;&gt;13463441072+</title>\n<path fill=\"none\" stroke=\"black\" d=\"M885.43,-141.75C906.02,-138.64 926.71,-135.53 943.47,-133\"/>\n<polygon fill=\"black\" stroke=\"black\" points=\"943.53,-136.53 952.9,-131.58 942.49,-129.61 943.53,-136.53\"/>\n</g>\n<!-- 13463441072 -->\n<g id=\"node4\" class=\"node\">\n<title>13463441072</title>\n<polygon fill=\"none\" stroke=\"black\" points=\"1044,-109.5 1044,-145.5 1227.75,-145.5 1227.75,-109.5 1044,-109.5\"/>\n<text text-anchor=\"middle\" x=\"1055.38\" y=\"-122.7\" font-family=\"Times,serif\" font-size=\"14.00\">n</text>\n<polyline fill=\"none\" stroke=\"black\" points=\"1066.75,-110 1066.75,-145.5\"/>\n<text text-anchor=\"middle\" x=\"1106.62\" y=\"-122.7\" font-family=\"Times,serif\" font-size=\"14.00\">data 0.8814</text>\n<polyline fill=\"none\" stroke=\"black\" points=\"1146.5,-110 1146.5,-145.5\"/>\n<text text-anchor=\"middle\" x=\"1187.12\" y=\"-122.7\" font-family=\"Times,serif\" font-size=\"14.00\">grad 0.5000</text>\n</g>\n<!-- 13463441072&#45;&gt;13463438960tanh -->\n<g id=\"edge13\" class=\"edge\">\n<title>13463441072&#45;&gt;13463438960tanh</title>\n<path fill=\"none\" stroke=\"black\" d=\"M1228.01,-127.5C1236.39,-127.5 1244.52,-127.5 1251.98,-127.5\"/>\n<polygon fill=\"black\" stroke=\"black\" points=\"1251.95,-131 1261.95,-127.5 1251.95,-124 1251.95,-131\"/>\n</g>\n<!-- 13463441072+&#45;&gt;13463441072 -->\n<g id=\"edge2\" class=\"edge\">\n<title>13463441072+&#45;&gt;13463441072</title>\n<path fill=\"none\" stroke=\"black\" d=\"M1008.28,-127.5C1015.42,-127.5 1023.61,-127.5 1032.32,-127.5\"/>\n<polygon fill=\"black\" stroke=\"black\" points=\"1032.06,-131 1042.06,-127.5 1032.06,-124 1032.06,-131\"/>\n</g>\n<!-- 13204439248 -->\n<g id=\"node6\" class=\"node\">\n<title>13204439248</title>\n<polygon fill=\"none\" stroke=\"black\" points=\"1.5,-165.5 1.5,-201.5 196.5,-201.5 196.5,-165.5 1.5,-165.5\"/>\n<text text-anchor=\"middle\" x=\"16.25\" y=\"-178.7\" font-family=\"Times,serif\" font-size=\"14.00\">x1</text>\n<polyline fill=\"none\" stroke=\"black\" points=\"31,-166 31,-201.5\"/>\n<text text-anchor=\"middle\" x=\"70.88\" y=\"-178.7\" font-family=\"Times,serif\" font-size=\"14.00\">data 2.0000</text>\n<polyline fill=\"none\" stroke=\"black\" points=\"110.75,-166 110.75,-201.5\"/>\n<text text-anchor=\"middle\" x=\"153.62\" y=\"-178.7\" font-family=\"Times,serif\" font-size=\"14.00\">grad &#45;1.5000</text>\n</g>\n<!-- 13463319312* -->\n<g id=\"node9\" class=\"node\">\n<title>13463319312*</title>\n<ellipse fill=\"none\" stroke=\"black\" cx=\"261\" cy=\"-128.5\" rx=\"27\" ry=\"18\"/>\n<text text-anchor=\"middle\" x=\"261\" y=\"-123.45\" font-family=\"Times,serif\" font-size=\"14.00\">*</text>\n</g>\n<!-- 13204439248&#45;&gt;13463319312* -->\n<g id=\"edge9\" class=\"edge\">\n<title>13204439248&#45;&gt;13463319312*</title>\n<path fill=\"none\" stroke=\"black\" d=\"M172.12,-165.01C180.9,-162.35 189.7,-159.5 198,-156.5 208.09,-152.86 218.82,-148.27 228.47,-143.88\"/>\n<polygon fill=\"black\" stroke=\"black\" points=\"229.86,-147.09 237.45,-139.69 226.9,-140.75 229.86,-147.09\"/>\n</g>\n<!-- 13463222496 -->\n<g id=\"node7\" class=\"node\">\n<title>13463222496</title>\n<polygon fill=\"none\" stroke=\"black\" points=\"3.75,-55.5 3.75,-91.5 194.25,-91.5 194.25,-55.5 3.75,-55.5\"/>\n<text text-anchor=\"middle\" x=\"18.5\" y=\"-68.7\" font-family=\"Times,serif\" font-size=\"14.00\">x2</text>\n<polyline fill=\"none\" stroke=\"black\" points=\"33.25,-56 33.25,-91.5\"/>\n<text text-anchor=\"middle\" x=\"73.12\" y=\"-68.7\" font-family=\"Times,serif\" font-size=\"14.00\">data 0.0000</text>\n<polyline fill=\"none\" stroke=\"black\" points=\"113,-56 113,-91.5\"/>\n<text text-anchor=\"middle\" x=\"153.62\" y=\"-68.7\" font-family=\"Times,serif\" font-size=\"14.00\">grad 0.5000</text>\n</g>\n<!-- 13463449424* -->\n<g id=\"node12\" class=\"node\">\n<title>13463449424*</title>\n<ellipse fill=\"none\" stroke=\"black\" cx=\"261\" cy=\"-73.5\" rx=\"27\" ry=\"18\"/>\n<text text-anchor=\"middle\" x=\"261\" y=\"-68.45\" font-family=\"Times,serif\" font-size=\"14.00\">*</text>\n</g>\n<!-- 13463222496&#45;&gt;13463449424* -->\n<g id=\"edge8\" class=\"edge\">\n<title>13463222496&#45;&gt;13463449424*</title>\n<path fill=\"none\" stroke=\"black\" d=\"M194.46,-73.5C204.21,-73.5 213.66,-73.5 222.21,-73.5\"/>\n<polygon fill=\"black\" stroke=\"black\" points=\"222.12,-77 232.12,-73.5 222.12,-70 222.12,-77\"/>\n</g>\n<!-- 13463319312 -->\n<g id=\"node8\" class=\"node\">\n<title>13463319312</title>\n<polygon fill=\"none\" stroke=\"black\" points=\"324,-110.5 324,-146.5 542.25,-146.5 542.25,-110.5 324,-110.5\"/>\n<text text-anchor=\"middle\" x=\"350.38\" y=\"-123.7\" font-family=\"Times,serif\" font-size=\"14.00\">x1*w1</text>\n<polyline fill=\"none\" stroke=\"black\" points=\"376.75,-111 376.75,-146.5\"/>\n<text text-anchor=\"middle\" x=\"418.88\" y=\"-123.7\" font-family=\"Times,serif\" font-size=\"14.00\">data &#45;6.0000</text>\n<polyline fill=\"none\" stroke=\"black\" points=\"461,-111 461,-146.5\"/>\n<text text-anchor=\"middle\" x=\"501.62\" y=\"-123.7\" font-family=\"Times,serif\" font-size=\"14.00\">grad 0.5000</text>\n</g>\n<!-- 13463439248+ -->\n<g id=\"node15\" class=\"node\">\n<title>13463439248+</title>\n<ellipse fill=\"none\" stroke=\"black\" cx=\"605.25\" cy=\"-100.5\" rx=\"27\" ry=\"18\"/>\n<text text-anchor=\"middle\" x=\"605.25\" y=\"-95.45\" font-family=\"Times,serif\" font-size=\"14.00\">+</text>\n</g>\n<!-- 13463319312&#45;&gt;13463439248+ -->\n<g id=\"edge10\" class=\"edge\">\n<title>13463319312&#45;&gt;13463439248+</title>\n<path fill=\"none\" stroke=\"black\" d=\"M542.35,-110.69C551.12,-109.24 559.54,-107.86 567.19,-106.6\"/>\n<polygon fill=\"black\" stroke=\"black\" points=\"567.72,-110.06 577.02,-104.98 566.58,-103.15 567.72,-110.06\"/>\n</g>\n<!-- 13463319312*&#45;&gt;13463319312 -->\n<g id=\"edge3\" class=\"edge\">\n<title>13463319312*&#45;&gt;13463319312</title>\n<path fill=\"none\" stroke=\"black\" d=\"M288.21,-128.5C295.29,-128.5 303.43,-128.5 312.17,-128.5\"/>\n<polygon fill=\"black\" stroke=\"black\" points=\"312.01,-132 322.01,-128.5 312.01,-125 312.01,-132\"/>\n</g>\n<!-- 13463224128 -->\n<g id=\"node10\" class=\"node\">\n<title>13463224128</title>\n<polygon fill=\"none\" stroke=\"black\" points=\"0,-110.5 0,-146.5 198,-146.5 198,-110.5 0,-110.5\"/>\n<text text-anchor=\"middle\" x=\"16.25\" y=\"-123.7\" font-family=\"Times,serif\" font-size=\"14.00\">w1</text>\n<polyline fill=\"none\" stroke=\"black\" points=\"32.5,-111 32.5,-146.5\"/>\n<text text-anchor=\"middle\" x=\"74.62\" y=\"-123.7\" font-family=\"Times,serif\" font-size=\"14.00\">data &#45;3.0000</text>\n<polyline fill=\"none\" stroke=\"black\" points=\"116.75,-111 116.75,-146.5\"/>\n<text text-anchor=\"middle\" x=\"157.38\" y=\"-123.7\" font-family=\"Times,serif\" font-size=\"14.00\">grad 1.0000</text>\n</g>\n<!-- 13463224128&#45;&gt;13463319312* -->\n<g id=\"edge6\" class=\"edge\">\n<title>13463224128&#45;&gt;13463319312*</title>\n<path fill=\"none\" stroke=\"black\" d=\"M198.14,-128.5C206.61,-128.5 214.8,-128.5 222.29,-128.5\"/>\n<polygon fill=\"black\" stroke=\"black\" points=\"222.29,-132 232.29,-128.5 222.29,-125 222.29,-132\"/>\n</g>\n<!-- 13463449424 -->\n<g id=\"node11\" class=\"node\">\n<title>13463449424</title>\n<polygon fill=\"none\" stroke=\"black\" points=\"326.25,-55.5 326.25,-91.5 540,-91.5 540,-55.5 326.25,-55.5\"/>\n<text text-anchor=\"middle\" x=\"352.62\" y=\"-68.7\" font-family=\"Times,serif\" font-size=\"14.00\">x2*w2</text>\n<polyline fill=\"none\" stroke=\"black\" points=\"379,-56 379,-91.5\"/>\n<text text-anchor=\"middle\" x=\"418.88\" y=\"-68.7\" font-family=\"Times,serif\" font-size=\"14.00\">data 0.0000</text>\n<polyline fill=\"none\" stroke=\"black\" points=\"458.75,-56 458.75,-91.5\"/>\n<text text-anchor=\"middle\" x=\"499.38\" y=\"-68.7\" font-family=\"Times,serif\" font-size=\"14.00\">grad 0.5000</text>\n</g>\n<!-- 13463449424&#45;&gt;13463439248+ -->\n<g id=\"edge12\" class=\"edge\">\n<title>13463449424&#45;&gt;13463439248+</title>\n<path fill=\"none\" stroke=\"black\" d=\"M540.42,-90.37C549.89,-91.87 559,-93.32 567.21,-94.62\"/>\n<polygon fill=\"black\" stroke=\"black\" points=\"566.63,-98.07 577.05,-96.18 567.72,-91.16 566.63,-98.07\"/>\n</g>\n<!-- 13463449424*&#45;&gt;13463449424 -->\n<g id=\"edge4\" class=\"edge\">\n<title>13463449424*&#45;&gt;13463449424</title>\n<path fill=\"none\" stroke=\"black\" d=\"M288.21,-73.5C296,-73.5 305.08,-73.5 314.82,-73.5\"/>\n<polygon fill=\"black\" stroke=\"black\" points=\"314.55,-77 324.55,-73.5 314.55,-70 314.55,-77\"/>\n</g>\n<!-- 13204445008 -->\n<g id=\"node13\" class=\"node\">\n<title>13204445008</title>\n<polygon fill=\"none\" stroke=\"black\" points=\"2.25,-0.5 2.25,-36.5 195.75,-36.5 195.75,-0.5 2.25,-0.5\"/>\n<text text-anchor=\"middle\" x=\"18.5\" y=\"-13.7\" font-family=\"Times,serif\" font-size=\"14.00\">w2</text>\n<polyline fill=\"none\" stroke=\"black\" points=\"34.75,-1 34.75,-36.5\"/>\n<text text-anchor=\"middle\" x=\"74.62\" y=\"-13.7\" font-family=\"Times,serif\" font-size=\"14.00\">data 1.0000</text>\n<polyline fill=\"none\" stroke=\"black\" points=\"114.5,-1 114.5,-36.5\"/>\n<text text-anchor=\"middle\" x=\"155.12\" y=\"-13.7\" font-family=\"Times,serif\" font-size=\"14.00\">grad 0.0000</text>\n</g>\n<!-- 13204445008&#45;&gt;13463449424* -->\n<g id=\"edge7\" class=\"edge\">\n<title>13204445008&#45;&gt;13463449424*</title>\n<path fill=\"none\" stroke=\"black\" d=\"M168.91,-36.94C178.74,-39.93 188.67,-43.15 198,-46.5 207.96,-50.07 218.58,-54.47 228.18,-58.68\"/>\n<polygon fill=\"black\" stroke=\"black\" points=\"226.54,-61.78 237.1,-62.67 229.4,-55.39 226.54,-61.78\"/>\n</g>\n<!-- 13463439248 -->\n<g id=\"node14\" class=\"node\">\n<title>13463439248</title>\n<polygon fill=\"none\" stroke=\"black\" points=\"668.25,-82.5 668.25,-118.5 918,-118.5 918,-82.5 668.25,-82.5\"/>\n<text text-anchor=\"middle\" x=\"710.38\" y=\"-95.7\" font-family=\"Times,serif\" font-size=\"14.00\">x1w1+x2w2</text>\n<polyline fill=\"none\" stroke=\"black\" points=\"752.5,-83 752.5,-118.5\"/>\n<text text-anchor=\"middle\" x=\"794.62\" y=\"-95.7\" font-family=\"Times,serif\" font-size=\"14.00\">data &#45;6.0000</text>\n<polyline fill=\"none\" stroke=\"black\" points=\"836.75,-83 836.75,-118.5\"/>\n<text text-anchor=\"middle\" x=\"877.38\" y=\"-95.7\" font-family=\"Times,serif\" font-size=\"14.00\">grad 0.5000</text>\n</g>\n<!-- 13463439248&#45;&gt;13463441072+ -->\n<g id=\"edge11\" class=\"edge\">\n<title>13463439248&#45;&gt;13463441072+</title>\n<path fill=\"none\" stroke=\"black\" d=\"M918.36,-118.55C927.16,-119.82 935.54,-121.04 943.11,-122.14\"/>\n<polygon fill=\"black\" stroke=\"black\" points=\"942.42,-125.58 952.82,-123.55 943.43,-118.65 942.42,-125.58\"/>\n</g>\n<!-- 13463439248+&#45;&gt;13463439248 -->\n<g id=\"edge5\" class=\"edge\">\n<title>13463439248+&#45;&gt;13463439248</title>\n<path fill=\"none\" stroke=\"black\" d=\"M632.49,-100.5C639.52,-100.5 647.64,-100.5 656.4,-100.5\"/>\n<polygon fill=\"black\" stroke=\"black\" points=\"656.3,-104 666.3,-100.5 656.3,-97 656.3,-104\"/>\n</g>\n</g>\n</svg>\n",
      "text/plain": [
       "<graphviz.graphs.Digraph at 0x3130bfd00>"
      ]
     },
     "execution_count": 439,
     "metadata": {},
     "output_type": "execute_result"
    }
   ],
   "execution_count": 439
  },
  {
   "metadata": {},
   "cell_type": "markdown",
   "source": "## Doing the Same with Topologial Sort"
  },
  {
   "metadata": {
    "ExecuteTime": {
     "end_time": "2024-12-11T12:09:28.701934Z",
     "start_time": "2024-12-11T12:09:28.622617Z"
    }
   },
   "cell_type": "code",
   "source": [
    "# Perceptron inputs x1, x2\n",
    "x1 = Value(2.0, label=\"x1\")\n",
    "x2 = Value(0.0, label=\"x2\")\n",
    "# Weights w1, w2, and bias b\n",
    "w1 = Value(-3.0, label=\"w1\")\n",
    "w2 = Value(1.0, label=\"w2\")\n",
    "b = Value(6.8813735870195432, label=\"b\")\n",
    "# n = x1*w1 + x2*w2 + b\n",
    "x1w1 = x1*w1; x1w1.label = \"x1*w1\"\n",
    "x2w2 = x2*w2; x2w2.label = \"x2*w2\"\n",
    "x1w1x2w2 = x1w1 + x2w2; x1w1x2w2.label = \"x1w1+x2w2\"\n",
    "n = x1w1x2w2 + b; n.label = \"n\"#\n",
    "o = n.tanh(); o.label = \"o\"\n",
    "draw_dot(o)"
   ],
   "outputs": [
    {
     "data": {
      "image/svg+xml": "<?xml version=\"1.0\" encoding=\"UTF-8\" standalone=\"no\"?>\n<!DOCTYPE svg PUBLIC \"-//W3C//DTD SVG 1.1//EN\"\n \"http://www.w3.org/Graphics/SVG/1.1/DTD/svg11.dtd\">\n<!-- Generated by graphviz version 12.2.0 (20241103.1931)\n -->\n<!-- Pages: 1 -->\n<svg width=\"1546pt\" height=\"210pt\"\n viewBox=\"0.00 0.00 1545.50 210.00\" xmlns=\"http://www.w3.org/2000/svg\" xmlns:xlink=\"http://www.w3.org/1999/xlink\">\n<g id=\"graph0\" class=\"graph\" transform=\"scale(1 1) rotate(0) translate(4 206)\">\n<polygon fill=\"white\" stroke=\"none\" points=\"-4,4 -4,-206 1541.5,-206 1541.5,4 -4,4\"/>\n<!-- 13463315472 -->\n<g id=\"node1\" class=\"node\">\n<title>13463315472</title>\n<polygon fill=\"none\" stroke=\"black\" points=\"668.25,-82.5 668.25,-118.5 918,-118.5 918,-82.5 668.25,-82.5\"/>\n<text text-anchor=\"middle\" x=\"710.38\" y=\"-95.7\" font-family=\"Times,serif\" font-size=\"14.00\">x1w1+x2w2</text>\n<polyline fill=\"none\" stroke=\"black\" points=\"752.5,-83 752.5,-118.5\"/>\n<text text-anchor=\"middle\" x=\"794.62\" y=\"-95.7\" font-family=\"Times,serif\" font-size=\"14.00\">data &#45;6.0000</text>\n<polyline fill=\"none\" stroke=\"black\" points=\"836.75,-83 836.75,-118.5\"/>\n<text text-anchor=\"middle\" x=\"877.38\" y=\"-95.7\" font-family=\"Times,serif\" font-size=\"14.00\">grad 0.0000</text>\n</g>\n<!-- 13204121504+ -->\n<g id=\"node12\" class=\"node\">\n<title>13204121504+</title>\n<ellipse fill=\"none\" stroke=\"black\" cx=\"981\" cy=\"-127.5\" rx=\"27\" ry=\"18\"/>\n<text text-anchor=\"middle\" x=\"981\" y=\"-122.45\" font-family=\"Times,serif\" font-size=\"14.00\">+</text>\n</g>\n<!-- 13463315472&#45;&gt;13204121504+ -->\n<g id=\"edge14\" class=\"edge\">\n<title>13463315472&#45;&gt;13204121504+</title>\n<path fill=\"none\" stroke=\"black\" d=\"M918.36,-118.55C927.16,-119.82 935.54,-121.04 943.11,-122.14\"/>\n<polygon fill=\"black\" stroke=\"black\" points=\"942.42,-125.58 952.82,-123.55 943.43,-118.65 942.42,-125.58\"/>\n</g>\n<!-- 13463315472+ -->\n<g id=\"node2\" class=\"node\">\n<title>13463315472+</title>\n<ellipse fill=\"none\" stroke=\"black\" cx=\"605.25\" cy=\"-100.5\" rx=\"27\" ry=\"18\"/>\n<text text-anchor=\"middle\" x=\"605.25\" y=\"-95.45\" font-family=\"Times,serif\" font-size=\"14.00\">+</text>\n</g>\n<!-- 13463315472+&#45;&gt;13463315472 -->\n<g id=\"edge1\" class=\"edge\">\n<title>13463315472+&#45;&gt;13463315472</title>\n<path fill=\"none\" stroke=\"black\" d=\"M632.49,-100.5C639.52,-100.5 647.64,-100.5 656.4,-100.5\"/>\n<polygon fill=\"black\" stroke=\"black\" points=\"656.3,-104 666.3,-100.5 656.3,-97 656.3,-104\"/>\n</g>\n<!-- 13463059616 -->\n<g id=\"node3\" class=\"node\">\n<title>13463059616</title>\n<polygon fill=\"none\" stroke=\"black\" points=\"1353.75,-109.5 1353.75,-145.5 1537.5,-145.5 1537.5,-109.5 1353.75,-109.5\"/>\n<text text-anchor=\"middle\" x=\"1365.12\" y=\"-122.7\" font-family=\"Times,serif\" font-size=\"14.00\">o</text>\n<polyline fill=\"none\" stroke=\"black\" points=\"1376.5,-110 1376.5,-145.5\"/>\n<text text-anchor=\"middle\" x=\"1416.38\" y=\"-122.7\" font-family=\"Times,serif\" font-size=\"14.00\">data 0.7071</text>\n<polyline fill=\"none\" stroke=\"black\" points=\"1456.25,-110 1456.25,-145.5\"/>\n<text text-anchor=\"middle\" x=\"1496.88\" y=\"-122.7\" font-family=\"Times,serif\" font-size=\"14.00\">grad 0.0000</text>\n</g>\n<!-- 13463059616tanh -->\n<g id=\"node4\" class=\"node\">\n<title>13463059616tanh</title>\n<ellipse fill=\"none\" stroke=\"black\" cx=\"1290.75\" cy=\"-127.5\" rx=\"27\" ry=\"18\"/>\n<text text-anchor=\"middle\" x=\"1290.75\" y=\"-122.45\" font-family=\"Times,serif\" font-size=\"14.00\">tanh</text>\n</g>\n<!-- 13463059616tanh&#45;&gt;13463059616 -->\n<g id=\"edge2\" class=\"edge\">\n<title>13463059616tanh&#45;&gt;13463059616</title>\n<path fill=\"none\" stroke=\"black\" d=\"M1318.03,-127.5C1325.17,-127.5 1333.36,-127.5 1342.07,-127.5\"/>\n<polygon fill=\"black\" stroke=\"black\" points=\"1341.81,-131 1351.81,-127.5 1341.81,-124 1341.81,-131\"/>\n</g>\n<!-- 13463322336 -->\n<g id=\"node5\" class=\"node\">\n<title>13463322336</title>\n<polygon fill=\"none\" stroke=\"black\" points=\"0,-55.5 0,-91.5 198,-91.5 198,-55.5 0,-55.5\"/>\n<text text-anchor=\"middle\" x=\"16.25\" y=\"-68.7\" font-family=\"Times,serif\" font-size=\"14.00\">w1</text>\n<polyline fill=\"none\" stroke=\"black\" points=\"32.5,-56 32.5,-91.5\"/>\n<text text-anchor=\"middle\" x=\"74.62\" y=\"-68.7\" font-family=\"Times,serif\" font-size=\"14.00\">data &#45;3.0000</text>\n<polyline fill=\"none\" stroke=\"black\" points=\"116.75,-56 116.75,-91.5\"/>\n<text text-anchor=\"middle\" x=\"157.38\" y=\"-68.7\" font-family=\"Times,serif\" font-size=\"14.00\">grad 0.0000</text>\n</g>\n<!-- 13463322096* -->\n<g id=\"node15\" class=\"node\">\n<title>13463322096*</title>\n<ellipse fill=\"none\" stroke=\"black\" cx=\"261\" cy=\"-73.5\" rx=\"27\" ry=\"18\"/>\n<text text-anchor=\"middle\" x=\"261\" y=\"-68.45\" font-family=\"Times,serif\" font-size=\"14.00\">*</text>\n</g>\n<!-- 13463322336&#45;&gt;13463322096* -->\n<g id=\"edge10\" class=\"edge\">\n<title>13463322336&#45;&gt;13463322096*</title>\n<path fill=\"none\" stroke=\"black\" d=\"M198.14,-73.5C206.61,-73.5 214.8,-73.5 222.29,-73.5\"/>\n<polygon fill=\"black\" stroke=\"black\" points=\"222.29,-77 232.29,-73.5 222.29,-70 222.29,-77\"/>\n</g>\n<!-- 13463320320 -->\n<g id=\"node6\" class=\"node\">\n<title>13463320320</title>\n<polygon fill=\"none\" stroke=\"black\" points=\"326.25,-110.5 326.25,-146.5 540,-146.5 540,-110.5 326.25,-110.5\"/>\n<text text-anchor=\"middle\" x=\"352.62\" y=\"-123.7\" font-family=\"Times,serif\" font-size=\"14.00\">x2*w2</text>\n<polyline fill=\"none\" stroke=\"black\" points=\"379,-111 379,-146.5\"/>\n<text text-anchor=\"middle\" x=\"418.88\" y=\"-123.7\" font-family=\"Times,serif\" font-size=\"14.00\">data 0.0000</text>\n<polyline fill=\"none\" stroke=\"black\" points=\"458.75,-111 458.75,-146.5\"/>\n<text text-anchor=\"middle\" x=\"499.38\" y=\"-123.7\" font-family=\"Times,serif\" font-size=\"14.00\">grad 0.0000</text>\n</g>\n<!-- 13463320320&#45;&gt;13463315472+ -->\n<g id=\"edge7\" class=\"edge\">\n<title>13463320320&#45;&gt;13463315472+</title>\n<path fill=\"none\" stroke=\"black\" d=\"M540.42,-111.01C549.89,-109.45 559,-107.95 567.21,-106.6\"/>\n<polygon fill=\"black\" stroke=\"black\" points=\"567.75,-110.05 577.05,-104.98 566.62,-103.15 567.75,-110.05\"/>\n</g>\n<!-- 13463320320* -->\n<g id=\"node7\" class=\"node\">\n<title>13463320320*</title>\n<ellipse fill=\"none\" stroke=\"black\" cx=\"261\" cy=\"-128.5\" rx=\"27\" ry=\"18\"/>\n<text text-anchor=\"middle\" x=\"261\" y=\"-123.45\" font-family=\"Times,serif\" font-size=\"14.00\">*</text>\n</g>\n<!-- 13463320320*&#45;&gt;13463320320 -->\n<g id=\"edge3\" class=\"edge\">\n<title>13463320320*&#45;&gt;13463320320</title>\n<path fill=\"none\" stroke=\"black\" d=\"M288.21,-128.5C296,-128.5 305.08,-128.5 314.82,-128.5\"/>\n<polygon fill=\"black\" stroke=\"black\" points=\"314.55,-132 324.55,-128.5 314.55,-125 314.55,-132\"/>\n</g>\n<!-- 13463318880 -->\n<g id=\"node8\" class=\"node\">\n<title>13463318880</title>\n<polygon fill=\"none\" stroke=\"black\" points=\"701.25,-137.5 701.25,-173.5 885,-173.5 885,-137.5 701.25,-137.5\"/>\n<text text-anchor=\"middle\" x=\"712.62\" y=\"-150.7\" font-family=\"Times,serif\" font-size=\"14.00\">b</text>\n<polyline fill=\"none\" stroke=\"black\" points=\"724,-138 724,-173.5\"/>\n<text text-anchor=\"middle\" x=\"763.88\" y=\"-150.7\" font-family=\"Times,serif\" font-size=\"14.00\">data 6.8814</text>\n<polyline fill=\"none\" stroke=\"black\" points=\"803.75,-138 803.75,-173.5\"/>\n<text text-anchor=\"middle\" x=\"844.38\" y=\"-150.7\" font-family=\"Times,serif\" font-size=\"14.00\">grad 0.0000</text>\n</g>\n<!-- 13463318880&#45;&gt;13204121504+ -->\n<g id=\"edge6\" class=\"edge\">\n<title>13463318880&#45;&gt;13204121504+</title>\n<path fill=\"none\" stroke=\"black\" d=\"M885.43,-141.75C906.02,-138.64 926.71,-135.53 943.47,-133\"/>\n<polygon fill=\"black\" stroke=\"black\" points=\"943.53,-136.53 952.9,-131.58 942.49,-129.61 943.53,-136.53\"/>\n</g>\n<!-- 13463322480 -->\n<g id=\"node9\" class=\"node\">\n<title>13463322480</title>\n<polygon fill=\"none\" stroke=\"black\" points=\"2.25,-165.5 2.25,-201.5 195.75,-201.5 195.75,-165.5 2.25,-165.5\"/>\n<text text-anchor=\"middle\" x=\"18.5\" y=\"-178.7\" font-family=\"Times,serif\" font-size=\"14.00\">w2</text>\n<polyline fill=\"none\" stroke=\"black\" points=\"34.75,-166 34.75,-201.5\"/>\n<text text-anchor=\"middle\" x=\"74.62\" y=\"-178.7\" font-family=\"Times,serif\" font-size=\"14.00\">data 1.0000</text>\n<polyline fill=\"none\" stroke=\"black\" points=\"114.5,-166 114.5,-201.5\"/>\n<text text-anchor=\"middle\" x=\"155.12\" y=\"-178.7\" font-family=\"Times,serif\" font-size=\"14.00\">grad 0.0000</text>\n</g>\n<!-- 13463322480&#45;&gt;13463320320* -->\n<g id=\"edge12\" class=\"edge\">\n<title>13463322480&#45;&gt;13463320320*</title>\n<path fill=\"none\" stroke=\"black\" d=\"M172.12,-165.01C180.9,-162.35 189.7,-159.5 198,-156.5 208.09,-152.86 218.82,-148.27 228.47,-143.88\"/>\n<polygon fill=\"black\" stroke=\"black\" points=\"229.86,-147.09 237.45,-139.69 226.9,-140.75 229.86,-147.09\"/>\n</g>\n<!-- 13463315328 -->\n<g id=\"node10\" class=\"node\">\n<title>13463315328</title>\n<polygon fill=\"none\" stroke=\"black\" points=\"3.75,-0.5 3.75,-36.5 194.25,-36.5 194.25,-0.5 3.75,-0.5\"/>\n<text text-anchor=\"middle\" x=\"18.5\" y=\"-13.7\" font-family=\"Times,serif\" font-size=\"14.00\">x1</text>\n<polyline fill=\"none\" stroke=\"black\" points=\"33.25,-1 33.25,-36.5\"/>\n<text text-anchor=\"middle\" x=\"73.12\" y=\"-13.7\" font-family=\"Times,serif\" font-size=\"14.00\">data 2.0000</text>\n<polyline fill=\"none\" stroke=\"black\" points=\"113,-1 113,-36.5\"/>\n<text text-anchor=\"middle\" x=\"153.62\" y=\"-13.7\" font-family=\"Times,serif\" font-size=\"14.00\">grad 0.0000</text>\n</g>\n<!-- 13463315328&#45;&gt;13463322096* -->\n<g id=\"edge9\" class=\"edge\">\n<title>13463315328&#45;&gt;13463322096*</title>\n<path fill=\"none\" stroke=\"black\" d=\"M168.91,-36.94C178.74,-39.93 188.67,-43.15 198,-46.5 207.96,-50.07 218.58,-54.47 228.18,-58.68\"/>\n<polygon fill=\"black\" stroke=\"black\" points=\"226.54,-61.78 237.1,-62.67 229.4,-55.39 226.54,-61.78\"/>\n</g>\n<!-- 13204121504 -->\n<g id=\"node11\" class=\"node\">\n<title>13204121504</title>\n<polygon fill=\"none\" stroke=\"black\" points=\"1044,-109.5 1044,-145.5 1227.75,-145.5 1227.75,-109.5 1044,-109.5\"/>\n<text text-anchor=\"middle\" x=\"1055.38\" y=\"-122.7\" font-family=\"Times,serif\" font-size=\"14.00\">n</text>\n<polyline fill=\"none\" stroke=\"black\" points=\"1066.75,-110 1066.75,-145.5\"/>\n<text text-anchor=\"middle\" x=\"1106.62\" y=\"-122.7\" font-family=\"Times,serif\" font-size=\"14.00\">data 0.8814</text>\n<polyline fill=\"none\" stroke=\"black\" points=\"1146.5,-110 1146.5,-145.5\"/>\n<text text-anchor=\"middle\" x=\"1187.12\" y=\"-122.7\" font-family=\"Times,serif\" font-size=\"14.00\">grad 0.0000</text>\n</g>\n<!-- 13204121504&#45;&gt;13463059616tanh -->\n<g id=\"edge13\" class=\"edge\">\n<title>13204121504&#45;&gt;13463059616tanh</title>\n<path fill=\"none\" stroke=\"black\" d=\"M1228.01,-127.5C1236.39,-127.5 1244.52,-127.5 1251.98,-127.5\"/>\n<polygon fill=\"black\" stroke=\"black\" points=\"1251.95,-131 1261.95,-127.5 1251.95,-124 1251.95,-131\"/>\n</g>\n<!-- 13204121504+&#45;&gt;13204121504 -->\n<g id=\"edge4\" class=\"edge\">\n<title>13204121504+&#45;&gt;13204121504</title>\n<path fill=\"none\" stroke=\"black\" d=\"M1008.28,-127.5C1015.42,-127.5 1023.61,-127.5 1032.32,-127.5\"/>\n<polygon fill=\"black\" stroke=\"black\" points=\"1032.06,-131 1042.06,-127.5 1032.06,-124 1032.06,-131\"/>\n</g>\n<!-- 13463321568 -->\n<g id=\"node13\" class=\"node\">\n<title>13463321568</title>\n<polygon fill=\"none\" stroke=\"black\" points=\"3.75,-110.5 3.75,-146.5 194.25,-146.5 194.25,-110.5 3.75,-110.5\"/>\n<text text-anchor=\"middle\" x=\"18.5\" y=\"-123.7\" font-family=\"Times,serif\" font-size=\"14.00\">x2</text>\n<polyline fill=\"none\" stroke=\"black\" points=\"33.25,-111 33.25,-146.5\"/>\n<text text-anchor=\"middle\" x=\"73.12\" y=\"-123.7\" font-family=\"Times,serif\" font-size=\"14.00\">data 0.0000</text>\n<polyline fill=\"none\" stroke=\"black\" points=\"113,-111 113,-146.5\"/>\n<text text-anchor=\"middle\" x=\"153.62\" y=\"-123.7\" font-family=\"Times,serif\" font-size=\"14.00\">grad 0.0000</text>\n</g>\n<!-- 13463321568&#45;&gt;13463320320* -->\n<g id=\"edge11\" class=\"edge\">\n<title>13463321568&#45;&gt;13463320320*</title>\n<path fill=\"none\" stroke=\"black\" d=\"M194.46,-128.5C204.21,-128.5 213.66,-128.5 222.21,-128.5\"/>\n<polygon fill=\"black\" stroke=\"black\" points=\"222.12,-132 232.12,-128.5 222.12,-125 222.12,-132\"/>\n</g>\n<!-- 13463322096 -->\n<g id=\"node14\" class=\"node\">\n<title>13463322096</title>\n<polygon fill=\"none\" stroke=\"black\" points=\"324,-55.5 324,-91.5 542.25,-91.5 542.25,-55.5 324,-55.5\"/>\n<text text-anchor=\"middle\" x=\"350.38\" y=\"-68.7\" font-family=\"Times,serif\" font-size=\"14.00\">x1*w1</text>\n<polyline fill=\"none\" stroke=\"black\" points=\"376.75,-56 376.75,-91.5\"/>\n<text text-anchor=\"middle\" x=\"418.88\" y=\"-68.7\" font-family=\"Times,serif\" font-size=\"14.00\">data &#45;6.0000</text>\n<polyline fill=\"none\" stroke=\"black\" points=\"461,-56 461,-91.5\"/>\n<text text-anchor=\"middle\" x=\"501.62\" y=\"-68.7\" font-family=\"Times,serif\" font-size=\"14.00\">grad 0.0000</text>\n</g>\n<!-- 13463322096&#45;&gt;13463315472+ -->\n<g id=\"edge8\" class=\"edge\">\n<title>13463322096&#45;&gt;13463315472+</title>\n<path fill=\"none\" stroke=\"black\" d=\"M542.35,-90.68C551.12,-92.07 559.54,-93.4 567.19,-94.62\"/>\n<polygon fill=\"black\" stroke=\"black\" points=\"566.59,-98.07 577.02,-96.18 567.69,-91.15 566.59,-98.07\"/>\n</g>\n<!-- 13463322096*&#45;&gt;13463322096 -->\n<g id=\"edge5\" class=\"edge\">\n<title>13463322096*&#45;&gt;13463322096</title>\n<path fill=\"none\" stroke=\"black\" d=\"M288.21,-73.5C295.29,-73.5 303.43,-73.5 312.17,-73.5\"/>\n<polygon fill=\"black\" stroke=\"black\" points=\"312.01,-77 322.01,-73.5 312.01,-70 312.01,-77\"/>\n</g>\n</g>\n</svg>\n",
      "text/plain": [
       "<graphviz.graphs.Digraph at 0x32279f370>"
      ]
     },
     "execution_count": 440,
     "metadata": {},
     "output_type": "execute_result"
    }
   ],
   "execution_count": 440
  },
  {
   "metadata": {
    "ExecuteTime": {
     "end_time": "2024-12-11T12:09:28.724840Z",
     "start_time": "2024-12-11T12:09:28.720908Z"
    }
   },
   "cell_type": "code",
   "source": [
    "topo = []\n",
    "visited = set()\n",
    "def build_topo(v):\n",
    "    if v not in visited:\n",
    "        visited.add(v)\n",
    "        for child in v._prev:\n",
    "            build_topo(child)\n",
    "        topo.append(v)\n",
    "build_topo(o)\n",
    "topo"
   ],
   "outputs": [
    {
     "data": {
      "text/plain": [
       "[x2: 0.0,\n",
       " w2: 1.0,\n",
       " x2*w2: 0.0,\n",
       " x1: 2.0,\n",
       " w1: -3.0,\n",
       " x1*w1: -6.0,\n",
       " x1w1+x2w2: -6.0,\n",
       " b: 6.881373587019543,\n",
       " n: 0.8813735870195432,\n",
       " o: 0.7071067811865476]"
      ]
     },
     "execution_count": 441,
     "metadata": {},
     "output_type": "execute_result"
    }
   ],
   "execution_count": 441
  },
  {
   "metadata": {
    "ExecuteTime": {
     "end_time": "2024-12-11T12:09:28.806514Z",
     "start_time": "2024-12-11T12:09:28.732557Z"
    }
   },
   "cell_type": "code",
   "source": [
    "topo = []\n",
    "visited = set()\n",
    "def build_topo(v):\n",
    "    if v not in visited:\n",
    "        visited.add(v)\n",
    "        for child in v._prev:\n",
    "            build_topo(child)\n",
    "        topo.append(v)\n",
    "build_topo(o)\n",
    "\n",
    "o.grad = 1.0\n",
    "for val in reversed(topo):\n",
    "    val._backward()\n",
    "draw_dot(o)"
   ],
   "outputs": [
    {
     "data": {
      "image/svg+xml": "<?xml version=\"1.0\" encoding=\"UTF-8\" standalone=\"no\"?>\n<!DOCTYPE svg PUBLIC \"-//W3C//DTD SVG 1.1//EN\"\n \"http://www.w3.org/Graphics/SVG/1.1/DTD/svg11.dtd\">\n<!-- Generated by graphviz version 12.2.0 (20241103.1931)\n -->\n<!-- Pages: 1 -->\n<svg width=\"1546pt\" height=\"210pt\"\n viewBox=\"0.00 0.00 1545.50 210.00\" xmlns=\"http://www.w3.org/2000/svg\" xmlns:xlink=\"http://www.w3.org/1999/xlink\">\n<g id=\"graph0\" class=\"graph\" transform=\"scale(1 1) rotate(0) translate(4 206)\">\n<polygon fill=\"white\" stroke=\"none\" points=\"-4,4 -4,-206 1541.5,-206 1541.5,4 -4,4\"/>\n<!-- 13463315472 -->\n<g id=\"node1\" class=\"node\">\n<title>13463315472</title>\n<polygon fill=\"none\" stroke=\"black\" points=\"668.25,-82.5 668.25,-118.5 918,-118.5 918,-82.5 668.25,-82.5\"/>\n<text text-anchor=\"middle\" x=\"710.38\" y=\"-95.7\" font-family=\"Times,serif\" font-size=\"14.00\">x1w1+x2w2</text>\n<polyline fill=\"none\" stroke=\"black\" points=\"752.5,-83 752.5,-118.5\"/>\n<text text-anchor=\"middle\" x=\"794.62\" y=\"-95.7\" font-family=\"Times,serif\" font-size=\"14.00\">data &#45;6.0000</text>\n<polyline fill=\"none\" stroke=\"black\" points=\"836.75,-83 836.75,-118.5\"/>\n<text text-anchor=\"middle\" x=\"877.38\" y=\"-95.7\" font-family=\"Times,serif\" font-size=\"14.00\">grad 0.5000</text>\n</g>\n<!-- 13204121504+ -->\n<g id=\"node12\" class=\"node\">\n<title>13204121504+</title>\n<ellipse fill=\"none\" stroke=\"black\" cx=\"981\" cy=\"-127.5\" rx=\"27\" ry=\"18\"/>\n<text text-anchor=\"middle\" x=\"981\" y=\"-122.45\" font-family=\"Times,serif\" font-size=\"14.00\">+</text>\n</g>\n<!-- 13463315472&#45;&gt;13204121504+ -->\n<g id=\"edge14\" class=\"edge\">\n<title>13463315472&#45;&gt;13204121504+</title>\n<path fill=\"none\" stroke=\"black\" d=\"M918.36,-118.55C927.16,-119.82 935.54,-121.04 943.11,-122.14\"/>\n<polygon fill=\"black\" stroke=\"black\" points=\"942.42,-125.58 952.82,-123.55 943.43,-118.65 942.42,-125.58\"/>\n</g>\n<!-- 13463315472+ -->\n<g id=\"node2\" class=\"node\">\n<title>13463315472+</title>\n<ellipse fill=\"none\" stroke=\"black\" cx=\"605.25\" cy=\"-100.5\" rx=\"27\" ry=\"18\"/>\n<text text-anchor=\"middle\" x=\"605.25\" y=\"-95.45\" font-family=\"Times,serif\" font-size=\"14.00\">+</text>\n</g>\n<!-- 13463315472+&#45;&gt;13463315472 -->\n<g id=\"edge1\" class=\"edge\">\n<title>13463315472+&#45;&gt;13463315472</title>\n<path fill=\"none\" stroke=\"black\" d=\"M632.49,-100.5C639.52,-100.5 647.64,-100.5 656.4,-100.5\"/>\n<polygon fill=\"black\" stroke=\"black\" points=\"656.3,-104 666.3,-100.5 656.3,-97 656.3,-104\"/>\n</g>\n<!-- 13463059616 -->\n<g id=\"node3\" class=\"node\">\n<title>13463059616</title>\n<polygon fill=\"none\" stroke=\"black\" points=\"1353.75,-109.5 1353.75,-145.5 1537.5,-145.5 1537.5,-109.5 1353.75,-109.5\"/>\n<text text-anchor=\"middle\" x=\"1365.12\" y=\"-122.7\" font-family=\"Times,serif\" font-size=\"14.00\">o</text>\n<polyline fill=\"none\" stroke=\"black\" points=\"1376.5,-110 1376.5,-145.5\"/>\n<text text-anchor=\"middle\" x=\"1416.38\" y=\"-122.7\" font-family=\"Times,serif\" font-size=\"14.00\">data 0.7071</text>\n<polyline fill=\"none\" stroke=\"black\" points=\"1456.25,-110 1456.25,-145.5\"/>\n<text text-anchor=\"middle\" x=\"1496.88\" y=\"-122.7\" font-family=\"Times,serif\" font-size=\"14.00\">grad 1.0000</text>\n</g>\n<!-- 13463059616tanh -->\n<g id=\"node4\" class=\"node\">\n<title>13463059616tanh</title>\n<ellipse fill=\"none\" stroke=\"black\" cx=\"1290.75\" cy=\"-127.5\" rx=\"27\" ry=\"18\"/>\n<text text-anchor=\"middle\" x=\"1290.75\" y=\"-122.45\" font-family=\"Times,serif\" font-size=\"14.00\">tanh</text>\n</g>\n<!-- 13463059616tanh&#45;&gt;13463059616 -->\n<g id=\"edge2\" class=\"edge\">\n<title>13463059616tanh&#45;&gt;13463059616</title>\n<path fill=\"none\" stroke=\"black\" d=\"M1318.03,-127.5C1325.17,-127.5 1333.36,-127.5 1342.07,-127.5\"/>\n<polygon fill=\"black\" stroke=\"black\" points=\"1341.81,-131 1351.81,-127.5 1341.81,-124 1341.81,-131\"/>\n</g>\n<!-- 13463322336 -->\n<g id=\"node5\" class=\"node\">\n<title>13463322336</title>\n<polygon fill=\"none\" stroke=\"black\" points=\"0,-55.5 0,-91.5 198,-91.5 198,-55.5 0,-55.5\"/>\n<text text-anchor=\"middle\" x=\"16.25\" y=\"-68.7\" font-family=\"Times,serif\" font-size=\"14.00\">w1</text>\n<polyline fill=\"none\" stroke=\"black\" points=\"32.5,-56 32.5,-91.5\"/>\n<text text-anchor=\"middle\" x=\"74.62\" y=\"-68.7\" font-family=\"Times,serif\" font-size=\"14.00\">data &#45;3.0000</text>\n<polyline fill=\"none\" stroke=\"black\" points=\"116.75,-56 116.75,-91.5\"/>\n<text text-anchor=\"middle\" x=\"157.38\" y=\"-68.7\" font-family=\"Times,serif\" font-size=\"14.00\">grad 1.0000</text>\n</g>\n<!-- 13463322096* -->\n<g id=\"node15\" class=\"node\">\n<title>13463322096*</title>\n<ellipse fill=\"none\" stroke=\"black\" cx=\"261\" cy=\"-73.5\" rx=\"27\" ry=\"18\"/>\n<text text-anchor=\"middle\" x=\"261\" y=\"-68.45\" font-family=\"Times,serif\" font-size=\"14.00\">*</text>\n</g>\n<!-- 13463322336&#45;&gt;13463322096* -->\n<g id=\"edge10\" class=\"edge\">\n<title>13463322336&#45;&gt;13463322096*</title>\n<path fill=\"none\" stroke=\"black\" d=\"M198.14,-73.5C206.61,-73.5 214.8,-73.5 222.29,-73.5\"/>\n<polygon fill=\"black\" stroke=\"black\" points=\"222.29,-77 232.29,-73.5 222.29,-70 222.29,-77\"/>\n</g>\n<!-- 13463320320 -->\n<g id=\"node6\" class=\"node\">\n<title>13463320320</title>\n<polygon fill=\"none\" stroke=\"black\" points=\"326.25,-110.5 326.25,-146.5 540,-146.5 540,-110.5 326.25,-110.5\"/>\n<text text-anchor=\"middle\" x=\"352.62\" y=\"-123.7\" font-family=\"Times,serif\" font-size=\"14.00\">x2*w2</text>\n<polyline fill=\"none\" stroke=\"black\" points=\"379,-111 379,-146.5\"/>\n<text text-anchor=\"middle\" x=\"418.88\" y=\"-123.7\" font-family=\"Times,serif\" font-size=\"14.00\">data 0.0000</text>\n<polyline fill=\"none\" stroke=\"black\" points=\"458.75,-111 458.75,-146.5\"/>\n<text text-anchor=\"middle\" x=\"499.38\" y=\"-123.7\" font-family=\"Times,serif\" font-size=\"14.00\">grad 0.5000</text>\n</g>\n<!-- 13463320320&#45;&gt;13463315472+ -->\n<g id=\"edge7\" class=\"edge\">\n<title>13463320320&#45;&gt;13463315472+</title>\n<path fill=\"none\" stroke=\"black\" d=\"M540.42,-111.01C549.89,-109.45 559,-107.95 567.21,-106.6\"/>\n<polygon fill=\"black\" stroke=\"black\" points=\"567.75,-110.05 577.05,-104.98 566.62,-103.15 567.75,-110.05\"/>\n</g>\n<!-- 13463320320* -->\n<g id=\"node7\" class=\"node\">\n<title>13463320320*</title>\n<ellipse fill=\"none\" stroke=\"black\" cx=\"261\" cy=\"-128.5\" rx=\"27\" ry=\"18\"/>\n<text text-anchor=\"middle\" x=\"261\" y=\"-123.45\" font-family=\"Times,serif\" font-size=\"14.00\">*</text>\n</g>\n<!-- 13463320320*&#45;&gt;13463320320 -->\n<g id=\"edge3\" class=\"edge\">\n<title>13463320320*&#45;&gt;13463320320</title>\n<path fill=\"none\" stroke=\"black\" d=\"M288.21,-128.5C296,-128.5 305.08,-128.5 314.82,-128.5\"/>\n<polygon fill=\"black\" stroke=\"black\" points=\"314.55,-132 324.55,-128.5 314.55,-125 314.55,-132\"/>\n</g>\n<!-- 13463318880 -->\n<g id=\"node8\" class=\"node\">\n<title>13463318880</title>\n<polygon fill=\"none\" stroke=\"black\" points=\"701.25,-137.5 701.25,-173.5 885,-173.5 885,-137.5 701.25,-137.5\"/>\n<text text-anchor=\"middle\" x=\"712.62\" y=\"-150.7\" font-family=\"Times,serif\" font-size=\"14.00\">b</text>\n<polyline fill=\"none\" stroke=\"black\" points=\"724,-138 724,-173.5\"/>\n<text text-anchor=\"middle\" x=\"763.88\" y=\"-150.7\" font-family=\"Times,serif\" font-size=\"14.00\">data 6.8814</text>\n<polyline fill=\"none\" stroke=\"black\" points=\"803.75,-138 803.75,-173.5\"/>\n<text text-anchor=\"middle\" x=\"844.38\" y=\"-150.7\" font-family=\"Times,serif\" font-size=\"14.00\">grad 0.5000</text>\n</g>\n<!-- 13463318880&#45;&gt;13204121504+ -->\n<g id=\"edge6\" class=\"edge\">\n<title>13463318880&#45;&gt;13204121504+</title>\n<path fill=\"none\" stroke=\"black\" d=\"M885.43,-141.75C906.02,-138.64 926.71,-135.53 943.47,-133\"/>\n<polygon fill=\"black\" stroke=\"black\" points=\"943.53,-136.53 952.9,-131.58 942.49,-129.61 943.53,-136.53\"/>\n</g>\n<!-- 13463322480 -->\n<g id=\"node9\" class=\"node\">\n<title>13463322480</title>\n<polygon fill=\"none\" stroke=\"black\" points=\"2.25,-165.5 2.25,-201.5 195.75,-201.5 195.75,-165.5 2.25,-165.5\"/>\n<text text-anchor=\"middle\" x=\"18.5\" y=\"-178.7\" font-family=\"Times,serif\" font-size=\"14.00\">w2</text>\n<polyline fill=\"none\" stroke=\"black\" points=\"34.75,-166 34.75,-201.5\"/>\n<text text-anchor=\"middle\" x=\"74.62\" y=\"-178.7\" font-family=\"Times,serif\" font-size=\"14.00\">data 1.0000</text>\n<polyline fill=\"none\" stroke=\"black\" points=\"114.5,-166 114.5,-201.5\"/>\n<text text-anchor=\"middle\" x=\"155.12\" y=\"-178.7\" font-family=\"Times,serif\" font-size=\"14.00\">grad 0.0000</text>\n</g>\n<!-- 13463322480&#45;&gt;13463320320* -->\n<g id=\"edge12\" class=\"edge\">\n<title>13463322480&#45;&gt;13463320320*</title>\n<path fill=\"none\" stroke=\"black\" d=\"M172.12,-165.01C180.9,-162.35 189.7,-159.5 198,-156.5 208.09,-152.86 218.82,-148.27 228.47,-143.88\"/>\n<polygon fill=\"black\" stroke=\"black\" points=\"229.86,-147.09 237.45,-139.69 226.9,-140.75 229.86,-147.09\"/>\n</g>\n<!-- 13463315328 -->\n<g id=\"node10\" class=\"node\">\n<title>13463315328</title>\n<polygon fill=\"none\" stroke=\"black\" points=\"1.5,-0.5 1.5,-36.5 196.5,-36.5 196.5,-0.5 1.5,-0.5\"/>\n<text text-anchor=\"middle\" x=\"16.25\" y=\"-13.7\" font-family=\"Times,serif\" font-size=\"14.00\">x1</text>\n<polyline fill=\"none\" stroke=\"black\" points=\"31,-1 31,-36.5\"/>\n<text text-anchor=\"middle\" x=\"70.88\" y=\"-13.7\" font-family=\"Times,serif\" font-size=\"14.00\">data 2.0000</text>\n<polyline fill=\"none\" stroke=\"black\" points=\"110.75,-1 110.75,-36.5\"/>\n<text text-anchor=\"middle\" x=\"153.62\" y=\"-13.7\" font-family=\"Times,serif\" font-size=\"14.00\">grad &#45;1.5000</text>\n</g>\n<!-- 13463315328&#45;&gt;13463322096* -->\n<g id=\"edge9\" class=\"edge\">\n<title>13463315328&#45;&gt;13463322096*</title>\n<path fill=\"none\" stroke=\"black\" d=\"M168.91,-36.94C178.74,-39.93 188.67,-43.15 198,-46.5 207.96,-50.07 218.58,-54.47 228.18,-58.68\"/>\n<polygon fill=\"black\" stroke=\"black\" points=\"226.54,-61.78 237.1,-62.67 229.4,-55.39 226.54,-61.78\"/>\n</g>\n<!-- 13204121504 -->\n<g id=\"node11\" class=\"node\">\n<title>13204121504</title>\n<polygon fill=\"none\" stroke=\"black\" points=\"1044,-109.5 1044,-145.5 1227.75,-145.5 1227.75,-109.5 1044,-109.5\"/>\n<text text-anchor=\"middle\" x=\"1055.38\" y=\"-122.7\" font-family=\"Times,serif\" font-size=\"14.00\">n</text>\n<polyline fill=\"none\" stroke=\"black\" points=\"1066.75,-110 1066.75,-145.5\"/>\n<text text-anchor=\"middle\" x=\"1106.62\" y=\"-122.7\" font-family=\"Times,serif\" font-size=\"14.00\">data 0.8814</text>\n<polyline fill=\"none\" stroke=\"black\" points=\"1146.5,-110 1146.5,-145.5\"/>\n<text text-anchor=\"middle\" x=\"1187.12\" y=\"-122.7\" font-family=\"Times,serif\" font-size=\"14.00\">grad 0.5000</text>\n</g>\n<!-- 13204121504&#45;&gt;13463059616tanh -->\n<g id=\"edge13\" class=\"edge\">\n<title>13204121504&#45;&gt;13463059616tanh</title>\n<path fill=\"none\" stroke=\"black\" d=\"M1228.01,-127.5C1236.39,-127.5 1244.52,-127.5 1251.98,-127.5\"/>\n<polygon fill=\"black\" stroke=\"black\" points=\"1251.95,-131 1261.95,-127.5 1251.95,-124 1251.95,-131\"/>\n</g>\n<!-- 13204121504+&#45;&gt;13204121504 -->\n<g id=\"edge4\" class=\"edge\">\n<title>13204121504+&#45;&gt;13204121504</title>\n<path fill=\"none\" stroke=\"black\" d=\"M1008.28,-127.5C1015.42,-127.5 1023.61,-127.5 1032.32,-127.5\"/>\n<polygon fill=\"black\" stroke=\"black\" points=\"1032.06,-131 1042.06,-127.5 1032.06,-124 1032.06,-131\"/>\n</g>\n<!-- 13463321568 -->\n<g id=\"node13\" class=\"node\">\n<title>13463321568</title>\n<polygon fill=\"none\" stroke=\"black\" points=\"3.75,-110.5 3.75,-146.5 194.25,-146.5 194.25,-110.5 3.75,-110.5\"/>\n<text text-anchor=\"middle\" x=\"18.5\" y=\"-123.7\" font-family=\"Times,serif\" font-size=\"14.00\">x2</text>\n<polyline fill=\"none\" stroke=\"black\" points=\"33.25,-111 33.25,-146.5\"/>\n<text text-anchor=\"middle\" x=\"73.12\" y=\"-123.7\" font-family=\"Times,serif\" font-size=\"14.00\">data 0.0000</text>\n<polyline fill=\"none\" stroke=\"black\" points=\"113,-111 113,-146.5\"/>\n<text text-anchor=\"middle\" x=\"153.62\" y=\"-123.7\" font-family=\"Times,serif\" font-size=\"14.00\">grad 0.5000</text>\n</g>\n<!-- 13463321568&#45;&gt;13463320320* -->\n<g id=\"edge11\" class=\"edge\">\n<title>13463321568&#45;&gt;13463320320*</title>\n<path fill=\"none\" stroke=\"black\" d=\"M194.46,-128.5C204.21,-128.5 213.66,-128.5 222.21,-128.5\"/>\n<polygon fill=\"black\" stroke=\"black\" points=\"222.12,-132 232.12,-128.5 222.12,-125 222.12,-132\"/>\n</g>\n<!-- 13463322096 -->\n<g id=\"node14\" class=\"node\">\n<title>13463322096</title>\n<polygon fill=\"none\" stroke=\"black\" points=\"324,-55.5 324,-91.5 542.25,-91.5 542.25,-55.5 324,-55.5\"/>\n<text text-anchor=\"middle\" x=\"350.38\" y=\"-68.7\" font-family=\"Times,serif\" font-size=\"14.00\">x1*w1</text>\n<polyline fill=\"none\" stroke=\"black\" points=\"376.75,-56 376.75,-91.5\"/>\n<text text-anchor=\"middle\" x=\"418.88\" y=\"-68.7\" font-family=\"Times,serif\" font-size=\"14.00\">data &#45;6.0000</text>\n<polyline fill=\"none\" stroke=\"black\" points=\"461,-56 461,-91.5\"/>\n<text text-anchor=\"middle\" x=\"501.62\" y=\"-68.7\" font-family=\"Times,serif\" font-size=\"14.00\">grad 0.5000</text>\n</g>\n<!-- 13463322096&#45;&gt;13463315472+ -->\n<g id=\"edge8\" class=\"edge\">\n<title>13463322096&#45;&gt;13463315472+</title>\n<path fill=\"none\" stroke=\"black\" d=\"M542.35,-90.68C551.12,-92.07 559.54,-93.4 567.19,-94.62\"/>\n<polygon fill=\"black\" stroke=\"black\" points=\"566.59,-98.07 577.02,-96.18 567.69,-91.15 566.59,-98.07\"/>\n</g>\n<!-- 13463322096*&#45;&gt;13463322096 -->\n<g id=\"edge5\" class=\"edge\">\n<title>13463322096*&#45;&gt;13463322096</title>\n<path fill=\"none\" stroke=\"black\" d=\"M288.21,-73.5C295.29,-73.5 303.43,-73.5 312.17,-73.5\"/>\n<polygon fill=\"black\" stroke=\"black\" points=\"312.01,-77 322.01,-73.5 312.01,-70 312.01,-77\"/>\n</g>\n</g>\n</svg>\n",
      "text/plain": [
       "<graphviz.graphs.Digraph at 0x32279f7f0>"
      ]
     },
     "execution_count": 442,
     "metadata": {},
     "output_type": "execute_result"
    }
   ],
   "execution_count": 442
  },
  {
   "metadata": {},
   "cell_type": "markdown",
   "source": "## Using the *backward* Method of Value"
  },
  {
   "metadata": {
    "ExecuteTime": {
     "end_time": "2024-12-11T12:09:28.894570Z",
     "start_time": "2024-12-11T12:09:28.816304Z"
    }
   },
   "cell_type": "code",
   "source": [
    "# Perceptron inputs x1, x2\n",
    "x1 = Value(2.0, label=\"x1\")\n",
    "x2 = Value(0.0, label=\"x2\")\n",
    "# Weights w1, w2, and bias b\n",
    "w1 = Value(-3.0, label=\"w1\")\n",
    "w2 = Value(1.0, label=\"w2\")\n",
    "b = Value(6.8813735870195432, label=\"b\")\n",
    "# n = x1*w1 + x2*w2 + b\n",
    "x1w1 = x1*w1; x1w1.label = \"x1*w1\"\n",
    "x2w2 = x2*w2; x2w2.label = \"x2*w2\"\n",
    "x1w1x2w2 = x1w1 + x2w2; x1w1x2w2.label = \"x1w1+x2w2\"\n",
    "n = x1w1x2w2 + b; n.label = \"n\"#\n",
    "o = n.tanh(); o.label = \"o\"\n",
    "draw_dot(o)"
   ],
   "outputs": [
    {
     "data": {
      "image/svg+xml": "<?xml version=\"1.0\" encoding=\"UTF-8\" standalone=\"no\"?>\n<!DOCTYPE svg PUBLIC \"-//W3C//DTD SVG 1.1//EN\"\n \"http://www.w3.org/Graphics/SVG/1.1/DTD/svg11.dtd\">\n<!-- Generated by graphviz version 12.2.0 (20241103.1931)\n -->\n<!-- Pages: 1 -->\n<svg width=\"1546pt\" height=\"210pt\"\n viewBox=\"0.00 0.00 1545.50 210.00\" xmlns=\"http://www.w3.org/2000/svg\" xmlns:xlink=\"http://www.w3.org/1999/xlink\">\n<g id=\"graph0\" class=\"graph\" transform=\"scale(1 1) rotate(0) translate(4 206)\">\n<polygon fill=\"white\" stroke=\"none\" points=\"-4,4 -4,-206 1541.5,-206 1541.5,4 -4,4\"/>\n<!-- 13463319552 -->\n<g id=\"node1\" class=\"node\">\n<title>13463319552</title>\n<polygon fill=\"none\" stroke=\"black\" points=\"1044,-54.5 1044,-90.5 1227.75,-90.5 1227.75,-54.5 1044,-54.5\"/>\n<text text-anchor=\"middle\" x=\"1055.38\" y=\"-67.7\" font-family=\"Times,serif\" font-size=\"14.00\">n</text>\n<polyline fill=\"none\" stroke=\"black\" points=\"1066.75,-55 1066.75,-90.5\"/>\n<text text-anchor=\"middle\" x=\"1106.62\" y=\"-67.7\" font-family=\"Times,serif\" font-size=\"14.00\">data 0.8814</text>\n<polyline fill=\"none\" stroke=\"black\" points=\"1146.5,-55 1146.5,-90.5\"/>\n<text text-anchor=\"middle\" x=\"1187.12\" y=\"-67.7\" font-family=\"Times,serif\" font-size=\"14.00\">grad 0.0000</text>\n</g>\n<!-- 13463444720tanh -->\n<g id=\"node9\" class=\"node\">\n<title>13463444720tanh</title>\n<ellipse fill=\"none\" stroke=\"black\" cx=\"1290.75\" cy=\"-72.5\" rx=\"27\" ry=\"18\"/>\n<text text-anchor=\"middle\" x=\"1290.75\" y=\"-67.45\" font-family=\"Times,serif\" font-size=\"14.00\">tanh</text>\n</g>\n<!-- 13463319552&#45;&gt;13463444720tanh -->\n<g id=\"edge11\" class=\"edge\">\n<title>13463319552&#45;&gt;13463444720tanh</title>\n<path fill=\"none\" stroke=\"black\" d=\"M1228.01,-72.5C1236.39,-72.5 1244.52,-72.5 1251.98,-72.5\"/>\n<polygon fill=\"black\" stroke=\"black\" points=\"1251.95,-76 1261.95,-72.5 1251.95,-69 1251.95,-76\"/>\n</g>\n<!-- 13463319552+ -->\n<g id=\"node2\" class=\"node\">\n<title>13463319552+</title>\n<ellipse fill=\"none\" stroke=\"black\" cx=\"981\" cy=\"-72.5\" rx=\"27\" ry=\"18\"/>\n<text text-anchor=\"middle\" x=\"981\" y=\"-67.45\" font-family=\"Times,serif\" font-size=\"14.00\">+</text>\n</g>\n<!-- 13463319552+&#45;&gt;13463319552 -->\n<g id=\"edge1\" class=\"edge\">\n<title>13463319552+&#45;&gt;13463319552</title>\n<path fill=\"none\" stroke=\"black\" d=\"M1008.28,-72.5C1015.42,-72.5 1023.61,-72.5 1032.32,-72.5\"/>\n<polygon fill=\"black\" stroke=\"black\" points=\"1032.06,-76 1042.06,-72.5 1032.06,-69 1032.06,-76\"/>\n</g>\n<!-- 13463322144 -->\n<g id=\"node3\" class=\"node\">\n<title>13463322144</title>\n<polygon fill=\"none\" stroke=\"black\" points=\"326.25,-110.5 326.25,-146.5 540,-146.5 540,-110.5 326.25,-110.5\"/>\n<text text-anchor=\"middle\" x=\"352.62\" y=\"-123.7\" font-family=\"Times,serif\" font-size=\"14.00\">x2*w2</text>\n<polyline fill=\"none\" stroke=\"black\" points=\"379,-111 379,-146.5\"/>\n<text text-anchor=\"middle\" x=\"418.88\" y=\"-123.7\" font-family=\"Times,serif\" font-size=\"14.00\">data 0.0000</text>\n<polyline fill=\"none\" stroke=\"black\" points=\"458.75,-111 458.75,-146.5\"/>\n<text text-anchor=\"middle\" x=\"499.38\" y=\"-123.7\" font-family=\"Times,serif\" font-size=\"14.00\">grad 0.0000</text>\n</g>\n<!-- 13463320368+ -->\n<g id=\"node12\" class=\"node\">\n<title>13463320368+</title>\n<ellipse fill=\"none\" stroke=\"black\" cx=\"605.25\" cy=\"-100.5\" rx=\"27\" ry=\"18\"/>\n<text text-anchor=\"middle\" x=\"605.25\" y=\"-95.45\" font-family=\"Times,serif\" font-size=\"14.00\">+</text>\n</g>\n<!-- 13463322144&#45;&gt;13463320368+ -->\n<g id=\"edge8\" class=\"edge\">\n<title>13463322144&#45;&gt;13463320368+</title>\n<path fill=\"none\" stroke=\"black\" d=\"M540.42,-111.01C549.89,-109.45 559,-107.95 567.21,-106.6\"/>\n<polygon fill=\"black\" stroke=\"black\" points=\"567.75,-110.05 577.05,-104.98 566.62,-103.15 567.75,-110.05\"/>\n</g>\n<!-- 13463322144* -->\n<g id=\"node4\" class=\"node\">\n<title>13463322144*</title>\n<ellipse fill=\"none\" stroke=\"black\" cx=\"261\" cy=\"-128.5\" rx=\"27\" ry=\"18\"/>\n<text text-anchor=\"middle\" x=\"261\" y=\"-123.45\" font-family=\"Times,serif\" font-size=\"14.00\">*</text>\n</g>\n<!-- 13463322144*&#45;&gt;13463322144 -->\n<g id=\"edge2\" class=\"edge\">\n<title>13463322144*&#45;&gt;13463322144</title>\n<path fill=\"none\" stroke=\"black\" d=\"M288.21,-128.5C296,-128.5 305.08,-128.5 314.82,-128.5\"/>\n<polygon fill=\"black\" stroke=\"black\" points=\"314.55,-132 324.55,-128.5 314.55,-125 314.55,-132\"/>\n</g>\n<!-- 13463059088 -->\n<g id=\"node5\" class=\"node\">\n<title>13463059088</title>\n<polygon fill=\"none\" stroke=\"black\" points=\"2.25,-165.5 2.25,-201.5 195.75,-201.5 195.75,-165.5 2.25,-165.5\"/>\n<text text-anchor=\"middle\" x=\"18.5\" y=\"-178.7\" font-family=\"Times,serif\" font-size=\"14.00\">w2</text>\n<polyline fill=\"none\" stroke=\"black\" points=\"34.75,-166 34.75,-201.5\"/>\n<text text-anchor=\"middle\" x=\"74.62\" y=\"-178.7\" font-family=\"Times,serif\" font-size=\"14.00\">data 1.0000</text>\n<polyline fill=\"none\" stroke=\"black\" points=\"114.5,-166 114.5,-201.5\"/>\n<text text-anchor=\"middle\" x=\"155.12\" y=\"-178.7\" font-family=\"Times,serif\" font-size=\"14.00\">grad 0.0000</text>\n</g>\n<!-- 13463059088&#45;&gt;13463322144* -->\n<g id=\"edge9\" class=\"edge\">\n<title>13463059088&#45;&gt;13463322144*</title>\n<path fill=\"none\" stroke=\"black\" d=\"M172.12,-165.01C180.9,-162.35 189.7,-159.5 198,-156.5 208.09,-152.86 218.82,-148.27 228.47,-143.88\"/>\n<polygon fill=\"black\" stroke=\"black\" points=\"229.86,-147.09 237.45,-139.69 226.9,-140.75 229.86,-147.09\"/>\n</g>\n<!-- 13463321280 -->\n<g id=\"node6\" class=\"node\">\n<title>13463321280</title>\n<polygon fill=\"none\" stroke=\"black\" points=\"324,-55.5 324,-91.5 542.25,-91.5 542.25,-55.5 324,-55.5\"/>\n<text text-anchor=\"middle\" x=\"350.38\" y=\"-68.7\" font-family=\"Times,serif\" font-size=\"14.00\">x1*w1</text>\n<polyline fill=\"none\" stroke=\"black\" points=\"376.75,-56 376.75,-91.5\"/>\n<text text-anchor=\"middle\" x=\"418.88\" y=\"-68.7\" font-family=\"Times,serif\" font-size=\"14.00\">data &#45;6.0000</text>\n<polyline fill=\"none\" stroke=\"black\" points=\"461,-56 461,-91.5\"/>\n<text text-anchor=\"middle\" x=\"501.62\" y=\"-68.7\" font-family=\"Times,serif\" font-size=\"14.00\">grad 0.0000</text>\n</g>\n<!-- 13463321280&#45;&gt;13463320368+ -->\n<g id=\"edge12\" class=\"edge\">\n<title>13463321280&#45;&gt;13463320368+</title>\n<path fill=\"none\" stroke=\"black\" d=\"M542.35,-90.68C551.12,-92.07 559.54,-93.4 567.19,-94.62\"/>\n<polygon fill=\"black\" stroke=\"black\" points=\"566.59,-98.07 577.02,-96.18 567.69,-91.15 566.59,-98.07\"/>\n</g>\n<!-- 13463321280* -->\n<g id=\"node7\" class=\"node\">\n<title>13463321280*</title>\n<ellipse fill=\"none\" stroke=\"black\" cx=\"261\" cy=\"-73.5\" rx=\"27\" ry=\"18\"/>\n<text text-anchor=\"middle\" x=\"261\" y=\"-68.45\" font-family=\"Times,serif\" font-size=\"14.00\">*</text>\n</g>\n<!-- 13463321280*&#45;&gt;13463321280 -->\n<g id=\"edge3\" class=\"edge\">\n<title>13463321280*&#45;&gt;13463321280</title>\n<path fill=\"none\" stroke=\"black\" d=\"M288.21,-73.5C295.29,-73.5 303.43,-73.5 312.17,-73.5\"/>\n<polygon fill=\"black\" stroke=\"black\" points=\"312.01,-77 322.01,-73.5 312.01,-70 312.01,-77\"/>\n</g>\n<!-- 13463444720 -->\n<g id=\"node8\" class=\"node\">\n<title>13463444720</title>\n<polygon fill=\"none\" stroke=\"black\" points=\"1353.75,-54.5 1353.75,-90.5 1537.5,-90.5 1537.5,-54.5 1353.75,-54.5\"/>\n<text text-anchor=\"middle\" x=\"1365.12\" y=\"-67.7\" font-family=\"Times,serif\" font-size=\"14.00\">o</text>\n<polyline fill=\"none\" stroke=\"black\" points=\"1376.5,-55 1376.5,-90.5\"/>\n<text text-anchor=\"middle\" x=\"1416.38\" y=\"-67.7\" font-family=\"Times,serif\" font-size=\"14.00\">data 0.7071</text>\n<polyline fill=\"none\" stroke=\"black\" points=\"1456.25,-55 1456.25,-90.5\"/>\n<text text-anchor=\"middle\" x=\"1496.88\" y=\"-67.7\" font-family=\"Times,serif\" font-size=\"14.00\">grad 0.0000</text>\n</g>\n<!-- 13463444720tanh&#45;&gt;13463444720 -->\n<g id=\"edge4\" class=\"edge\">\n<title>13463444720tanh&#45;&gt;13463444720</title>\n<path fill=\"none\" stroke=\"black\" d=\"M1318.03,-72.5C1325.17,-72.5 1333.36,-72.5 1342.07,-72.5\"/>\n<polygon fill=\"black\" stroke=\"black\" points=\"1341.81,-76 1351.81,-72.5 1341.81,-69 1341.81,-76\"/>\n</g>\n<!-- 13463059232 -->\n<g id=\"node10\" class=\"node\">\n<title>13463059232</title>\n<polygon fill=\"none\" stroke=\"black\" points=\"3.75,-55.5 3.75,-91.5 194.25,-91.5 194.25,-55.5 3.75,-55.5\"/>\n<text text-anchor=\"middle\" x=\"18.5\" y=\"-68.7\" font-family=\"Times,serif\" font-size=\"14.00\">x1</text>\n<polyline fill=\"none\" stroke=\"black\" points=\"33.25,-56 33.25,-91.5\"/>\n<text text-anchor=\"middle\" x=\"73.12\" y=\"-68.7\" font-family=\"Times,serif\" font-size=\"14.00\">data 2.0000</text>\n<polyline fill=\"none\" stroke=\"black\" points=\"113,-56 113,-91.5\"/>\n<text text-anchor=\"middle\" x=\"153.62\" y=\"-68.7\" font-family=\"Times,serif\" font-size=\"14.00\">grad 0.0000</text>\n</g>\n<!-- 13463059232&#45;&gt;13463321280* -->\n<g id=\"edge13\" class=\"edge\">\n<title>13463059232&#45;&gt;13463321280*</title>\n<path fill=\"none\" stroke=\"black\" d=\"M194.46,-73.5C204.21,-73.5 213.66,-73.5 222.21,-73.5\"/>\n<polygon fill=\"black\" stroke=\"black\" points=\"222.12,-77 232.12,-73.5 222.12,-70 222.12,-77\"/>\n</g>\n<!-- 13463320368 -->\n<g id=\"node11\" class=\"node\">\n<title>13463320368</title>\n<polygon fill=\"none\" stroke=\"black\" points=\"668.25,-82.5 668.25,-118.5 918,-118.5 918,-82.5 668.25,-82.5\"/>\n<text text-anchor=\"middle\" x=\"710.38\" y=\"-95.7\" font-family=\"Times,serif\" font-size=\"14.00\">x1w1+x2w2</text>\n<polyline fill=\"none\" stroke=\"black\" points=\"752.5,-83 752.5,-118.5\"/>\n<text text-anchor=\"middle\" x=\"794.62\" y=\"-95.7\" font-family=\"Times,serif\" font-size=\"14.00\">data &#45;6.0000</text>\n<polyline fill=\"none\" stroke=\"black\" points=\"836.75,-83 836.75,-118.5\"/>\n<text text-anchor=\"middle\" x=\"877.38\" y=\"-95.7\" font-family=\"Times,serif\" font-size=\"14.00\">grad 0.0000</text>\n</g>\n<!-- 13463320368&#45;&gt;13463319552+ -->\n<g id=\"edge7\" class=\"edge\">\n<title>13463320368&#45;&gt;13463319552+</title>\n<path fill=\"none\" stroke=\"black\" d=\"M916.81,-82.02C926.08,-80.62 934.9,-79.29 942.86,-78.09\"/>\n<polygon fill=\"black\" stroke=\"black\" points=\"943.36,-81.56 952.72,-76.61 942.31,-74.64 943.36,-81.56\"/>\n</g>\n<!-- 13463320368+&#45;&gt;13463320368 -->\n<g id=\"edge5\" class=\"edge\">\n<title>13463320368+&#45;&gt;13463320368</title>\n<path fill=\"none\" stroke=\"black\" d=\"M632.49,-100.5C639.52,-100.5 647.64,-100.5 656.4,-100.5\"/>\n<polygon fill=\"black\" stroke=\"black\" points=\"656.3,-104 666.3,-100.5 656.3,-97 656.3,-104\"/>\n</g>\n<!-- 13204455328 -->\n<g id=\"node13\" class=\"node\">\n<title>13204455328</title>\n<polygon fill=\"none\" stroke=\"black\" points=\"701.25,-27.5 701.25,-63.5 885,-63.5 885,-27.5 701.25,-27.5\"/>\n<text text-anchor=\"middle\" x=\"712.62\" y=\"-40.7\" font-family=\"Times,serif\" font-size=\"14.00\">b</text>\n<polyline fill=\"none\" stroke=\"black\" points=\"724,-28 724,-63.5\"/>\n<text text-anchor=\"middle\" x=\"763.88\" y=\"-40.7\" font-family=\"Times,serif\" font-size=\"14.00\">data 6.8814</text>\n<polyline fill=\"none\" stroke=\"black\" points=\"803.75,-28 803.75,-63.5\"/>\n<text text-anchor=\"middle\" x=\"844.38\" y=\"-40.7\" font-family=\"Times,serif\" font-size=\"14.00\">grad 0.0000</text>\n</g>\n<!-- 13204455328&#45;&gt;13463319552+ -->\n<g id=\"edge14\" class=\"edge\">\n<title>13204455328&#45;&gt;13463319552+</title>\n<path fill=\"none\" stroke=\"black\" d=\"M885.43,-58.76C906.02,-61.75 926.71,-64.76 943.47,-67.19\"/>\n<polygon fill=\"black\" stroke=\"black\" points=\"942.5,-70.59 952.9,-68.56 943.5,-63.66 942.5,-70.59\"/>\n</g>\n<!-- 13204446688 -->\n<g id=\"node14\" class=\"node\">\n<title>13204446688</title>\n<polygon fill=\"none\" stroke=\"black\" points=\"3.75,-110.5 3.75,-146.5 194.25,-146.5 194.25,-110.5 3.75,-110.5\"/>\n<text text-anchor=\"middle\" x=\"18.5\" y=\"-123.7\" font-family=\"Times,serif\" font-size=\"14.00\">x2</text>\n<polyline fill=\"none\" stroke=\"black\" points=\"33.25,-111 33.25,-146.5\"/>\n<text text-anchor=\"middle\" x=\"73.12\" y=\"-123.7\" font-family=\"Times,serif\" font-size=\"14.00\">data 0.0000</text>\n<polyline fill=\"none\" stroke=\"black\" points=\"113,-111 113,-146.5\"/>\n<text text-anchor=\"middle\" x=\"153.62\" y=\"-123.7\" font-family=\"Times,serif\" font-size=\"14.00\">grad 0.0000</text>\n</g>\n<!-- 13204446688&#45;&gt;13463322144* -->\n<g id=\"edge6\" class=\"edge\">\n<title>13204446688&#45;&gt;13463322144*</title>\n<path fill=\"none\" stroke=\"black\" d=\"M194.46,-128.5C204.21,-128.5 213.66,-128.5 222.21,-128.5\"/>\n<polygon fill=\"black\" stroke=\"black\" points=\"222.12,-132 232.12,-128.5 222.12,-125 222.12,-132\"/>\n</g>\n<!-- 13463058416 -->\n<g id=\"node15\" class=\"node\">\n<title>13463058416</title>\n<polygon fill=\"none\" stroke=\"black\" points=\"0,-0.5 0,-36.5 198,-36.5 198,-0.5 0,-0.5\"/>\n<text text-anchor=\"middle\" x=\"16.25\" y=\"-13.7\" font-family=\"Times,serif\" font-size=\"14.00\">w1</text>\n<polyline fill=\"none\" stroke=\"black\" points=\"32.5,-1 32.5,-36.5\"/>\n<text text-anchor=\"middle\" x=\"74.62\" y=\"-13.7\" font-family=\"Times,serif\" font-size=\"14.00\">data &#45;3.0000</text>\n<polyline fill=\"none\" stroke=\"black\" points=\"116.75,-1 116.75,-36.5\"/>\n<text text-anchor=\"middle\" x=\"157.38\" y=\"-13.7\" font-family=\"Times,serif\" font-size=\"14.00\">grad 0.0000</text>\n</g>\n<!-- 13463058416&#45;&gt;13463321280* -->\n<g id=\"edge10\" class=\"edge\">\n<title>13463058416&#45;&gt;13463321280*</title>\n<path fill=\"none\" stroke=\"black\" d=\"M172.12,-36.99C180.9,-39.65 189.7,-42.5 198,-45.5 208.09,-49.14 218.82,-53.73 228.47,-58.12\"/>\n<polygon fill=\"black\" stroke=\"black\" points=\"226.9,-61.25 237.45,-62.31 229.86,-54.91 226.9,-61.25\"/>\n</g>\n</g>\n</svg>\n",
      "text/plain": [
       "<graphviz.graphs.Digraph at 0x32279ece0>"
      ]
     },
     "execution_count": 443,
     "metadata": {},
     "output_type": "execute_result"
    }
   ],
   "execution_count": 443
  },
  {
   "metadata": {
    "ExecuteTime": {
     "end_time": "2024-12-11T12:09:28.982465Z",
     "start_time": "2024-12-11T12:09:28.905552Z"
    }
   },
   "cell_type": "code",
   "source": [
    "o.backward()\n",
    "draw_dot(o)"
   ],
   "outputs": [
    {
     "data": {
      "image/svg+xml": "<?xml version=\"1.0\" encoding=\"UTF-8\" standalone=\"no\"?>\n<!DOCTYPE svg PUBLIC \"-//W3C//DTD SVG 1.1//EN\"\n \"http://www.w3.org/Graphics/SVG/1.1/DTD/svg11.dtd\">\n<!-- Generated by graphviz version 12.2.0 (20241103.1931)\n -->\n<!-- Pages: 1 -->\n<svg width=\"1546pt\" height=\"210pt\"\n viewBox=\"0.00 0.00 1545.50 210.00\" xmlns=\"http://www.w3.org/2000/svg\" xmlns:xlink=\"http://www.w3.org/1999/xlink\">\n<g id=\"graph0\" class=\"graph\" transform=\"scale(1 1) rotate(0) translate(4 206)\">\n<polygon fill=\"white\" stroke=\"none\" points=\"-4,4 -4,-206 1541.5,-206 1541.5,4 -4,4\"/>\n<!-- 13463319552 -->\n<g id=\"node1\" class=\"node\">\n<title>13463319552</title>\n<polygon fill=\"none\" stroke=\"black\" points=\"1044,-54.5 1044,-90.5 1227.75,-90.5 1227.75,-54.5 1044,-54.5\"/>\n<text text-anchor=\"middle\" x=\"1055.38\" y=\"-67.7\" font-family=\"Times,serif\" font-size=\"14.00\">n</text>\n<polyline fill=\"none\" stroke=\"black\" points=\"1066.75,-55 1066.75,-90.5\"/>\n<text text-anchor=\"middle\" x=\"1106.62\" y=\"-67.7\" font-family=\"Times,serif\" font-size=\"14.00\">data 0.8814</text>\n<polyline fill=\"none\" stroke=\"black\" points=\"1146.5,-55 1146.5,-90.5\"/>\n<text text-anchor=\"middle\" x=\"1187.12\" y=\"-67.7\" font-family=\"Times,serif\" font-size=\"14.00\">grad 0.5000</text>\n</g>\n<!-- 13463444720tanh -->\n<g id=\"node9\" class=\"node\">\n<title>13463444720tanh</title>\n<ellipse fill=\"none\" stroke=\"black\" cx=\"1290.75\" cy=\"-72.5\" rx=\"27\" ry=\"18\"/>\n<text text-anchor=\"middle\" x=\"1290.75\" y=\"-67.45\" font-family=\"Times,serif\" font-size=\"14.00\">tanh</text>\n</g>\n<!-- 13463319552&#45;&gt;13463444720tanh -->\n<g id=\"edge11\" class=\"edge\">\n<title>13463319552&#45;&gt;13463444720tanh</title>\n<path fill=\"none\" stroke=\"black\" d=\"M1228.01,-72.5C1236.39,-72.5 1244.52,-72.5 1251.98,-72.5\"/>\n<polygon fill=\"black\" stroke=\"black\" points=\"1251.95,-76 1261.95,-72.5 1251.95,-69 1251.95,-76\"/>\n</g>\n<!-- 13463319552+ -->\n<g id=\"node2\" class=\"node\">\n<title>13463319552+</title>\n<ellipse fill=\"none\" stroke=\"black\" cx=\"981\" cy=\"-72.5\" rx=\"27\" ry=\"18\"/>\n<text text-anchor=\"middle\" x=\"981\" y=\"-67.45\" font-family=\"Times,serif\" font-size=\"14.00\">+</text>\n</g>\n<!-- 13463319552+&#45;&gt;13463319552 -->\n<g id=\"edge1\" class=\"edge\">\n<title>13463319552+&#45;&gt;13463319552</title>\n<path fill=\"none\" stroke=\"black\" d=\"M1008.28,-72.5C1015.42,-72.5 1023.61,-72.5 1032.32,-72.5\"/>\n<polygon fill=\"black\" stroke=\"black\" points=\"1032.06,-76 1042.06,-72.5 1032.06,-69 1032.06,-76\"/>\n</g>\n<!-- 13463322144 -->\n<g id=\"node3\" class=\"node\">\n<title>13463322144</title>\n<polygon fill=\"none\" stroke=\"black\" points=\"326.25,-110.5 326.25,-146.5 540,-146.5 540,-110.5 326.25,-110.5\"/>\n<text text-anchor=\"middle\" x=\"352.62\" y=\"-123.7\" font-family=\"Times,serif\" font-size=\"14.00\">x2*w2</text>\n<polyline fill=\"none\" stroke=\"black\" points=\"379,-111 379,-146.5\"/>\n<text text-anchor=\"middle\" x=\"418.88\" y=\"-123.7\" font-family=\"Times,serif\" font-size=\"14.00\">data 0.0000</text>\n<polyline fill=\"none\" stroke=\"black\" points=\"458.75,-111 458.75,-146.5\"/>\n<text text-anchor=\"middle\" x=\"499.38\" y=\"-123.7\" font-family=\"Times,serif\" font-size=\"14.00\">grad 0.5000</text>\n</g>\n<!-- 13463320368+ -->\n<g id=\"node12\" class=\"node\">\n<title>13463320368+</title>\n<ellipse fill=\"none\" stroke=\"black\" cx=\"605.25\" cy=\"-100.5\" rx=\"27\" ry=\"18\"/>\n<text text-anchor=\"middle\" x=\"605.25\" y=\"-95.45\" font-family=\"Times,serif\" font-size=\"14.00\">+</text>\n</g>\n<!-- 13463322144&#45;&gt;13463320368+ -->\n<g id=\"edge8\" class=\"edge\">\n<title>13463322144&#45;&gt;13463320368+</title>\n<path fill=\"none\" stroke=\"black\" d=\"M540.42,-111.01C549.89,-109.45 559,-107.95 567.21,-106.6\"/>\n<polygon fill=\"black\" stroke=\"black\" points=\"567.75,-110.05 577.05,-104.98 566.62,-103.15 567.75,-110.05\"/>\n</g>\n<!-- 13463322144* -->\n<g id=\"node4\" class=\"node\">\n<title>13463322144*</title>\n<ellipse fill=\"none\" stroke=\"black\" cx=\"261\" cy=\"-128.5\" rx=\"27\" ry=\"18\"/>\n<text text-anchor=\"middle\" x=\"261\" y=\"-123.45\" font-family=\"Times,serif\" font-size=\"14.00\">*</text>\n</g>\n<!-- 13463322144*&#45;&gt;13463322144 -->\n<g id=\"edge2\" class=\"edge\">\n<title>13463322144*&#45;&gt;13463322144</title>\n<path fill=\"none\" stroke=\"black\" d=\"M288.21,-128.5C296,-128.5 305.08,-128.5 314.82,-128.5\"/>\n<polygon fill=\"black\" stroke=\"black\" points=\"314.55,-132 324.55,-128.5 314.55,-125 314.55,-132\"/>\n</g>\n<!-- 13463059088 -->\n<g id=\"node5\" class=\"node\">\n<title>13463059088</title>\n<polygon fill=\"none\" stroke=\"black\" points=\"2.25,-165.5 2.25,-201.5 195.75,-201.5 195.75,-165.5 2.25,-165.5\"/>\n<text text-anchor=\"middle\" x=\"18.5\" y=\"-178.7\" font-family=\"Times,serif\" font-size=\"14.00\">w2</text>\n<polyline fill=\"none\" stroke=\"black\" points=\"34.75,-166 34.75,-201.5\"/>\n<text text-anchor=\"middle\" x=\"74.62\" y=\"-178.7\" font-family=\"Times,serif\" font-size=\"14.00\">data 1.0000</text>\n<polyline fill=\"none\" stroke=\"black\" points=\"114.5,-166 114.5,-201.5\"/>\n<text text-anchor=\"middle\" x=\"155.12\" y=\"-178.7\" font-family=\"Times,serif\" font-size=\"14.00\">grad 0.0000</text>\n</g>\n<!-- 13463059088&#45;&gt;13463322144* -->\n<g id=\"edge9\" class=\"edge\">\n<title>13463059088&#45;&gt;13463322144*</title>\n<path fill=\"none\" stroke=\"black\" d=\"M172.12,-165.01C180.9,-162.35 189.7,-159.5 198,-156.5 208.09,-152.86 218.82,-148.27 228.47,-143.88\"/>\n<polygon fill=\"black\" stroke=\"black\" points=\"229.86,-147.09 237.45,-139.69 226.9,-140.75 229.86,-147.09\"/>\n</g>\n<!-- 13463321280 -->\n<g id=\"node6\" class=\"node\">\n<title>13463321280</title>\n<polygon fill=\"none\" stroke=\"black\" points=\"324,-55.5 324,-91.5 542.25,-91.5 542.25,-55.5 324,-55.5\"/>\n<text text-anchor=\"middle\" x=\"350.38\" y=\"-68.7\" font-family=\"Times,serif\" font-size=\"14.00\">x1*w1</text>\n<polyline fill=\"none\" stroke=\"black\" points=\"376.75,-56 376.75,-91.5\"/>\n<text text-anchor=\"middle\" x=\"418.88\" y=\"-68.7\" font-family=\"Times,serif\" font-size=\"14.00\">data &#45;6.0000</text>\n<polyline fill=\"none\" stroke=\"black\" points=\"461,-56 461,-91.5\"/>\n<text text-anchor=\"middle\" x=\"501.62\" y=\"-68.7\" font-family=\"Times,serif\" font-size=\"14.00\">grad 0.5000</text>\n</g>\n<!-- 13463321280&#45;&gt;13463320368+ -->\n<g id=\"edge12\" class=\"edge\">\n<title>13463321280&#45;&gt;13463320368+</title>\n<path fill=\"none\" stroke=\"black\" d=\"M542.35,-90.68C551.12,-92.07 559.54,-93.4 567.19,-94.62\"/>\n<polygon fill=\"black\" stroke=\"black\" points=\"566.59,-98.07 577.02,-96.18 567.69,-91.15 566.59,-98.07\"/>\n</g>\n<!-- 13463321280* -->\n<g id=\"node7\" class=\"node\">\n<title>13463321280*</title>\n<ellipse fill=\"none\" stroke=\"black\" cx=\"261\" cy=\"-73.5\" rx=\"27\" ry=\"18\"/>\n<text text-anchor=\"middle\" x=\"261\" y=\"-68.45\" font-family=\"Times,serif\" font-size=\"14.00\">*</text>\n</g>\n<!-- 13463321280*&#45;&gt;13463321280 -->\n<g id=\"edge3\" class=\"edge\">\n<title>13463321280*&#45;&gt;13463321280</title>\n<path fill=\"none\" stroke=\"black\" d=\"M288.21,-73.5C295.29,-73.5 303.43,-73.5 312.17,-73.5\"/>\n<polygon fill=\"black\" stroke=\"black\" points=\"312.01,-77 322.01,-73.5 312.01,-70 312.01,-77\"/>\n</g>\n<!-- 13463444720 -->\n<g id=\"node8\" class=\"node\">\n<title>13463444720</title>\n<polygon fill=\"none\" stroke=\"black\" points=\"1353.75,-54.5 1353.75,-90.5 1537.5,-90.5 1537.5,-54.5 1353.75,-54.5\"/>\n<text text-anchor=\"middle\" x=\"1365.12\" y=\"-67.7\" font-family=\"Times,serif\" font-size=\"14.00\">o</text>\n<polyline fill=\"none\" stroke=\"black\" points=\"1376.5,-55 1376.5,-90.5\"/>\n<text text-anchor=\"middle\" x=\"1416.38\" y=\"-67.7\" font-family=\"Times,serif\" font-size=\"14.00\">data 0.7071</text>\n<polyline fill=\"none\" stroke=\"black\" points=\"1456.25,-55 1456.25,-90.5\"/>\n<text text-anchor=\"middle\" x=\"1496.88\" y=\"-67.7\" font-family=\"Times,serif\" font-size=\"14.00\">grad 1.0000</text>\n</g>\n<!-- 13463444720tanh&#45;&gt;13463444720 -->\n<g id=\"edge4\" class=\"edge\">\n<title>13463444720tanh&#45;&gt;13463444720</title>\n<path fill=\"none\" stroke=\"black\" d=\"M1318.03,-72.5C1325.17,-72.5 1333.36,-72.5 1342.07,-72.5\"/>\n<polygon fill=\"black\" stroke=\"black\" points=\"1341.81,-76 1351.81,-72.5 1341.81,-69 1341.81,-76\"/>\n</g>\n<!-- 13463059232 -->\n<g id=\"node10\" class=\"node\">\n<title>13463059232</title>\n<polygon fill=\"none\" stroke=\"black\" points=\"1.5,-55.5 1.5,-91.5 196.5,-91.5 196.5,-55.5 1.5,-55.5\"/>\n<text text-anchor=\"middle\" x=\"16.25\" y=\"-68.7\" font-family=\"Times,serif\" font-size=\"14.00\">x1</text>\n<polyline fill=\"none\" stroke=\"black\" points=\"31,-56 31,-91.5\"/>\n<text text-anchor=\"middle\" x=\"70.88\" y=\"-68.7\" font-family=\"Times,serif\" font-size=\"14.00\">data 2.0000</text>\n<polyline fill=\"none\" stroke=\"black\" points=\"110.75,-56 110.75,-91.5\"/>\n<text text-anchor=\"middle\" x=\"153.62\" y=\"-68.7\" font-family=\"Times,serif\" font-size=\"14.00\">grad &#45;1.5000</text>\n</g>\n<!-- 13463059232&#45;&gt;13463321280* -->\n<g id=\"edge13\" class=\"edge\">\n<title>13463059232&#45;&gt;13463321280*</title>\n<path fill=\"none\" stroke=\"black\" d=\"M196.76,-73.5C205.77,-73.5 214.47,-73.5 222.4,-73.5\"/>\n<polygon fill=\"black\" stroke=\"black\" points=\"222.25,-77 232.25,-73.5 222.25,-70 222.25,-77\"/>\n</g>\n<!-- 13463320368 -->\n<g id=\"node11\" class=\"node\">\n<title>13463320368</title>\n<polygon fill=\"none\" stroke=\"black\" points=\"668.25,-82.5 668.25,-118.5 918,-118.5 918,-82.5 668.25,-82.5\"/>\n<text text-anchor=\"middle\" x=\"710.38\" y=\"-95.7\" font-family=\"Times,serif\" font-size=\"14.00\">x1w1+x2w2</text>\n<polyline fill=\"none\" stroke=\"black\" points=\"752.5,-83 752.5,-118.5\"/>\n<text text-anchor=\"middle\" x=\"794.62\" y=\"-95.7\" font-family=\"Times,serif\" font-size=\"14.00\">data &#45;6.0000</text>\n<polyline fill=\"none\" stroke=\"black\" points=\"836.75,-83 836.75,-118.5\"/>\n<text text-anchor=\"middle\" x=\"877.38\" y=\"-95.7\" font-family=\"Times,serif\" font-size=\"14.00\">grad 0.5000</text>\n</g>\n<!-- 13463320368&#45;&gt;13463319552+ -->\n<g id=\"edge7\" class=\"edge\">\n<title>13463320368&#45;&gt;13463319552+</title>\n<path fill=\"none\" stroke=\"black\" d=\"M916.81,-82.02C926.08,-80.62 934.9,-79.29 942.86,-78.09\"/>\n<polygon fill=\"black\" stroke=\"black\" points=\"943.36,-81.56 952.72,-76.61 942.31,-74.64 943.36,-81.56\"/>\n</g>\n<!-- 13463320368+&#45;&gt;13463320368 -->\n<g id=\"edge5\" class=\"edge\">\n<title>13463320368+&#45;&gt;13463320368</title>\n<path fill=\"none\" stroke=\"black\" d=\"M632.49,-100.5C639.52,-100.5 647.64,-100.5 656.4,-100.5\"/>\n<polygon fill=\"black\" stroke=\"black\" points=\"656.3,-104 666.3,-100.5 656.3,-97 656.3,-104\"/>\n</g>\n<!-- 13204455328 -->\n<g id=\"node13\" class=\"node\">\n<title>13204455328</title>\n<polygon fill=\"none\" stroke=\"black\" points=\"701.25,-27.5 701.25,-63.5 885,-63.5 885,-27.5 701.25,-27.5\"/>\n<text text-anchor=\"middle\" x=\"712.62\" y=\"-40.7\" font-family=\"Times,serif\" font-size=\"14.00\">b</text>\n<polyline fill=\"none\" stroke=\"black\" points=\"724,-28 724,-63.5\"/>\n<text text-anchor=\"middle\" x=\"763.88\" y=\"-40.7\" font-family=\"Times,serif\" font-size=\"14.00\">data 6.8814</text>\n<polyline fill=\"none\" stroke=\"black\" points=\"803.75,-28 803.75,-63.5\"/>\n<text text-anchor=\"middle\" x=\"844.38\" y=\"-40.7\" font-family=\"Times,serif\" font-size=\"14.00\">grad 0.5000</text>\n</g>\n<!-- 13204455328&#45;&gt;13463319552+ -->\n<g id=\"edge14\" class=\"edge\">\n<title>13204455328&#45;&gt;13463319552+</title>\n<path fill=\"none\" stroke=\"black\" d=\"M885.43,-58.76C906.02,-61.75 926.71,-64.76 943.47,-67.19\"/>\n<polygon fill=\"black\" stroke=\"black\" points=\"942.5,-70.59 952.9,-68.56 943.5,-63.66 942.5,-70.59\"/>\n</g>\n<!-- 13204446688 -->\n<g id=\"node14\" class=\"node\">\n<title>13204446688</title>\n<polygon fill=\"none\" stroke=\"black\" points=\"3.75,-110.5 3.75,-146.5 194.25,-146.5 194.25,-110.5 3.75,-110.5\"/>\n<text text-anchor=\"middle\" x=\"18.5\" y=\"-123.7\" font-family=\"Times,serif\" font-size=\"14.00\">x2</text>\n<polyline fill=\"none\" stroke=\"black\" points=\"33.25,-111 33.25,-146.5\"/>\n<text text-anchor=\"middle\" x=\"73.12\" y=\"-123.7\" font-family=\"Times,serif\" font-size=\"14.00\">data 0.0000</text>\n<polyline fill=\"none\" stroke=\"black\" points=\"113,-111 113,-146.5\"/>\n<text text-anchor=\"middle\" x=\"153.62\" y=\"-123.7\" font-family=\"Times,serif\" font-size=\"14.00\">grad 0.5000</text>\n</g>\n<!-- 13204446688&#45;&gt;13463322144* -->\n<g id=\"edge6\" class=\"edge\">\n<title>13204446688&#45;&gt;13463322144*</title>\n<path fill=\"none\" stroke=\"black\" d=\"M194.46,-128.5C204.21,-128.5 213.66,-128.5 222.21,-128.5\"/>\n<polygon fill=\"black\" stroke=\"black\" points=\"222.12,-132 232.12,-128.5 222.12,-125 222.12,-132\"/>\n</g>\n<!-- 13463058416 -->\n<g id=\"node15\" class=\"node\">\n<title>13463058416</title>\n<polygon fill=\"none\" stroke=\"black\" points=\"0,-0.5 0,-36.5 198,-36.5 198,-0.5 0,-0.5\"/>\n<text text-anchor=\"middle\" x=\"16.25\" y=\"-13.7\" font-family=\"Times,serif\" font-size=\"14.00\">w1</text>\n<polyline fill=\"none\" stroke=\"black\" points=\"32.5,-1 32.5,-36.5\"/>\n<text text-anchor=\"middle\" x=\"74.62\" y=\"-13.7\" font-family=\"Times,serif\" font-size=\"14.00\">data &#45;3.0000</text>\n<polyline fill=\"none\" stroke=\"black\" points=\"116.75,-1 116.75,-36.5\"/>\n<text text-anchor=\"middle\" x=\"157.38\" y=\"-13.7\" font-family=\"Times,serif\" font-size=\"14.00\">grad 1.0000</text>\n</g>\n<!-- 13463058416&#45;&gt;13463321280* -->\n<g id=\"edge10\" class=\"edge\">\n<title>13463058416&#45;&gt;13463321280*</title>\n<path fill=\"none\" stroke=\"black\" d=\"M172.12,-36.99C180.9,-39.65 189.7,-42.5 198,-45.5 208.09,-49.14 218.82,-53.73 228.47,-58.12\"/>\n<polygon fill=\"black\" stroke=\"black\" points=\"226.9,-61.25 237.45,-62.31 229.86,-54.91 226.9,-61.25\"/>\n</g>\n</g>\n</svg>\n",
      "text/plain": [
       "<graphviz.graphs.Digraph at 0x3130bded0>"
      ]
     },
     "execution_count": 444,
     "metadata": {},
     "output_type": "execute_result"
    }
   ],
   "execution_count": 444
  },
  {
   "metadata": {},
   "cell_type": "markdown",
   "source": "## Fixing the Issue of cumulative gradients"
  },
  {
   "metadata": {
    "ExecuteTime": {
     "end_time": "2024-12-11T12:09:29.061995Z",
     "start_time": "2024-12-11T12:09:28.993217Z"
    }
   },
   "cell_type": "code",
   "source": [
    "a = Value(1.0, label=\"a\")\n",
    "b = a + a; b.label = \"b\"\n",
    "b.backward()\n",
    "draw_dot(b)"
   ],
   "outputs": [
    {
     "data": {
      "image/svg+xml": "<?xml version=\"1.0\" encoding=\"UTF-8\" standalone=\"no\"?>\n<!DOCTYPE svg PUBLIC \"-//W3C//DTD SVG 1.1//EN\"\n \"http://www.w3.org/Graphics/SVG/1.1/DTD/svg11.dtd\">\n<!-- Generated by graphviz version 12.2.0 (20241103.1931)\n -->\n<!-- Pages: 1 -->\n<svg width=\"501pt\" height=\"45pt\"\n viewBox=\"0.00 0.00 500.75 45.00\" xmlns=\"http://www.w3.org/2000/svg\" xmlns:xlink=\"http://www.w3.org/1999/xlink\">\n<g id=\"graph0\" class=\"graph\" transform=\"scale(1 1) rotate(0) translate(4 41)\">\n<polygon fill=\"white\" stroke=\"none\" points=\"-4,4 -4,-41 496.75,-41 496.75,4 -4,4\"/>\n<!-- 13463059520 -->\n<g id=\"node1\" class=\"node\">\n<title>13463059520</title>\n<polygon fill=\"none\" stroke=\"black\" points=\"0,-0.5 0,-36.5 183,-36.5 183,-0.5 0,-0.5\"/>\n<text text-anchor=\"middle\" x=\"11\" y=\"-13.7\" font-family=\"Times,serif\" font-size=\"14.00\">a</text>\n<polyline fill=\"none\" stroke=\"black\" points=\"22,-1 22,-36.5\"/>\n<text text-anchor=\"middle\" x=\"61.88\" y=\"-13.7\" font-family=\"Times,serif\" font-size=\"14.00\">data 1.0000</text>\n<polyline fill=\"none\" stroke=\"black\" points=\"101.75,-1 101.75,-36.5\"/>\n<text text-anchor=\"middle\" x=\"142.38\" y=\"-13.7\" font-family=\"Times,serif\" font-size=\"14.00\">grad 2.0000</text>\n</g>\n<!-- 13463321424+ -->\n<g id=\"node3\" class=\"node\">\n<title>13463321424+</title>\n<ellipse fill=\"none\" stroke=\"black\" cx=\"246\" cy=\"-18.5\" rx=\"27\" ry=\"18\"/>\n<text text-anchor=\"middle\" x=\"246\" y=\"-13.45\" font-family=\"Times,serif\" font-size=\"14.00\">+</text>\n</g>\n<!-- 13463059520&#45;&gt;13463321424+ -->\n<g id=\"edge2\" class=\"edge\">\n<title>13463059520&#45;&gt;13463321424+</title>\n<path fill=\"none\" stroke=\"black\" d=\"M183.41,-18.5C191.77,-18.5 199.88,-18.5 207.32,-18.5\"/>\n<polygon fill=\"black\" stroke=\"black\" points=\"207.26,-22 217.26,-18.5 207.26,-15 207.26,-22\"/>\n</g>\n<!-- 13463321424 -->\n<g id=\"node2\" class=\"node\">\n<title>13463321424</title>\n<polygon fill=\"none\" stroke=\"black\" points=\"309,-0.5 309,-36.5 492.75,-36.5 492.75,-0.5 309,-0.5\"/>\n<text text-anchor=\"middle\" x=\"320.38\" y=\"-13.7\" font-family=\"Times,serif\" font-size=\"14.00\">b</text>\n<polyline fill=\"none\" stroke=\"black\" points=\"331.75,-1 331.75,-36.5\"/>\n<text text-anchor=\"middle\" x=\"371.62\" y=\"-13.7\" font-family=\"Times,serif\" font-size=\"14.00\">data 2.0000</text>\n<polyline fill=\"none\" stroke=\"black\" points=\"411.5,-1 411.5,-36.5\"/>\n<text text-anchor=\"middle\" x=\"452.12\" y=\"-13.7\" font-family=\"Times,serif\" font-size=\"14.00\">grad 1.0000</text>\n</g>\n<!-- 13463321424+&#45;&gt;13463321424 -->\n<g id=\"edge1\" class=\"edge\">\n<title>13463321424+&#45;&gt;13463321424</title>\n<path fill=\"none\" stroke=\"black\" d=\"M273.28,-18.5C280.42,-18.5 288.61,-18.5 297.32,-18.5\"/>\n<polygon fill=\"black\" stroke=\"black\" points=\"297.06,-22 307.06,-18.5 297.06,-15 297.06,-22\"/>\n</g>\n</g>\n</svg>\n",
      "text/plain": [
       "<graphviz.graphs.Digraph at 0x32275f880>"
      ]
     },
     "execution_count": 445,
     "metadata": {},
     "output_type": "execute_result"
    }
   ],
   "execution_count": 445
  },
  {
   "metadata": {},
   "cell_type": "markdown",
   "source": "## Changing the *tanh* implementation"
  },
  {
   "metadata": {
    "ExecuteTime": {
     "end_time": "2024-12-11T12:09:29.149895Z",
     "start_time": "2024-12-11T12:09:29.075160Z"
    }
   },
   "cell_type": "code",
   "source": [
    "# Perceptron inputs x1, x2\n",
    "x1 = Value(2.0, label=\"x1\")\n",
    "x2 = Value(0.0, label=\"x2\")\n",
    "# Weights w1, w2, and bias b\n",
    "w1 = Value(-3.0, label=\"w1\")\n",
    "w2 = Value(1.0, label=\"w2\")\n",
    "b = Value(6.8813735870195432, label=\"b\")\n",
    "# n = x1*w1 + x2*w2 + b\n",
    "x1w1 = x1*w1; x1w1.label = \"x1*w1\"\n",
    "x2w2 = x2*w2; x2w2.label = \"x2*w2\"\n",
    "x1w1x2w2 = x1w1 + x2w2; x1w1x2w2.label = \"x1w1+x2w2\"\n",
    "n = x1w1x2w2 + b; n.label = \"n\"\n",
    "#---------\n",
    "e = (n*2).exp(); e.label = \"e\"\n",
    "o = (e - 1) / (e + 1); o.label = \"o\"\n",
    "#---------\n",
    "o.backward()\n",
    "draw_dot(o)"
   ],
   "outputs": [
    {
     "data": {
      "image/svg+xml": "<?xml version=\"1.0\" encoding=\"UTF-8\" standalone=\"no\"?>\n<!DOCTYPE svg PUBLIC \"-//W3C//DTD SVG 1.1//EN\"\n \"http://www.w3.org/Graphics/SVG/1.1/DTD/svg11.dtd\">\n<!-- Generated by graphviz version 12.2.0 (20241103.1931)\n -->\n<!-- Pages: 1 -->\n<svg width=\"2908pt\" height=\"239pt\"\n viewBox=\"0.00 0.00 2908.25 239.00\" xmlns=\"http://www.w3.org/2000/svg\" xmlns:xlink=\"http://www.w3.org/1999/xlink\">\n<g id=\"graph0\" class=\"graph\" transform=\"scale(1 1) rotate(0) translate(4 235)\">\n<polygon fill=\"white\" stroke=\"none\" points=\"-4,4 -4,-235 2904.25,-235 2904.25,4 -4,4\"/>\n<!-- 13463218176 -->\n<g id=\"node1\" class=\"node\">\n<title>13463218176</title>\n<polygon fill=\"none\" stroke=\"black\" points=\"0,-194.5 0,-230.5 198,-230.5 198,-194.5 0,-194.5\"/>\n<text text-anchor=\"middle\" x=\"16.25\" y=\"-207.7\" font-family=\"Times,serif\" font-size=\"14.00\">w1</text>\n<polyline fill=\"none\" stroke=\"black\" points=\"32.5,-195 32.5,-230.5\"/>\n<text text-anchor=\"middle\" x=\"74.62\" y=\"-207.7\" font-family=\"Times,serif\" font-size=\"14.00\">data &#45;3.0000</text>\n<polyline fill=\"none\" stroke=\"black\" points=\"116.75,-195 116.75,-230.5\"/>\n<text text-anchor=\"middle\" x=\"157.38\" y=\"-207.7\" font-family=\"Times,serif\" font-size=\"14.00\">grad 1.0000</text>\n</g>\n<!-- 13463320224* -->\n<g id=\"node10\" class=\"node\">\n<title>13463320224*</title>\n<ellipse fill=\"none\" stroke=\"black\" cx=\"261\" cy=\"-157.5\" rx=\"27\" ry=\"18\"/>\n<text text-anchor=\"middle\" x=\"261\" y=\"-152.45\" font-family=\"Times,serif\" font-size=\"14.00\">*</text>\n</g>\n<!-- 13463218176&#45;&gt;13463320224* -->\n<g id=\"edge18\" class=\"edge\">\n<title>13463218176&#45;&gt;13463320224*</title>\n<path fill=\"none\" stroke=\"black\" d=\"M172.12,-194.01C180.9,-191.35 189.7,-188.5 198,-185.5 208.09,-181.86 218.82,-177.27 228.47,-172.88\"/>\n<polygon fill=\"black\" stroke=\"black\" points=\"229.86,-176.09 237.45,-168.69 226.9,-169.75 229.86,-176.09\"/>\n</g>\n<!-- 13463438864 -->\n<g id=\"node2\" class=\"node\">\n<title>13463438864</title>\n<polygon fill=\"none\" stroke=\"black\" points=\"1353.75,-55.5 1353.75,-91.5 1534.5,-91.5 1534.5,-55.5 1353.75,-55.5\"/>\n<text text-anchor=\"middle\" x=\"1363.62\" y=\"-68.7\" font-family=\"Times,serif\" font-size=\"14.00\"> </text>\n<polyline fill=\"none\" stroke=\"black\" points=\"1373.5,-56 1373.5,-91.5\"/>\n<text text-anchor=\"middle\" x=\"1413.38\" y=\"-68.7\" font-family=\"Times,serif\" font-size=\"14.00\">data 1.7627</text>\n<polyline fill=\"none\" stroke=\"black\" points=\"1453.25,-56 1453.25,-91.5\"/>\n<text text-anchor=\"middle\" x=\"1493.88\" y=\"-68.7\" font-family=\"Times,serif\" font-size=\"14.00\">grad 0.2500</text>\n</g>\n<!-- 13463446064exp -->\n<g id=\"node5\" class=\"node\">\n<title>13463446064exp</title>\n<ellipse fill=\"none\" stroke=\"black\" cx=\"1597.5\" cy=\"-73.5\" rx=\"27\" ry=\"18\"/>\n<text text-anchor=\"middle\" x=\"1597.5\" y=\"-68.45\" font-family=\"Times,serif\" font-size=\"14.00\">exp</text>\n</g>\n<!-- 13463438864&#45;&gt;13463446064exp -->\n<g id=\"edge23\" class=\"edge\">\n<title>13463438864&#45;&gt;13463446064exp</title>\n<path fill=\"none\" stroke=\"black\" d=\"M1534.93,-73.5C1543.27,-73.5 1551.37,-73.5 1558.81,-73.5\"/>\n<polygon fill=\"black\" stroke=\"black\" points=\"1558.75,-77 1568.75,-73.5 1558.75,-70 1558.75,-77\"/>\n</g>\n<!-- 13463438864* -->\n<g id=\"node3\" class=\"node\">\n<title>13463438864*</title>\n<ellipse fill=\"none\" stroke=\"black\" cx=\"1290.75\" cy=\"-73.5\" rx=\"27\" ry=\"18\"/>\n<text text-anchor=\"middle\" x=\"1290.75\" y=\"-68.45\" font-family=\"Times,serif\" font-size=\"14.00\">*</text>\n</g>\n<!-- 13463438864*&#45;&gt;13463438864 -->\n<g id=\"edge1\" class=\"edge\">\n<title>13463438864*&#45;&gt;13463438864</title>\n<path fill=\"none\" stroke=\"black\" d=\"M1318.12,-73.5C1325.26,-73.5 1333.45,-73.5 1342.14,-73.5\"/>\n<polygon fill=\"black\" stroke=\"black\" points=\"1341.86,-77 1351.86,-73.5 1341.86,-70 1341.86,-77\"/>\n</g>\n<!-- 13463446064 -->\n<g id=\"node4\" class=\"node\">\n<title>13463446064</title>\n<polygon fill=\"none\" stroke=\"black\" points=\"1661.62,-55.5 1661.62,-91.5 1844.62,-91.5 1844.62,-55.5 1661.62,-55.5\"/>\n<text text-anchor=\"middle\" x=\"1672.62\" y=\"-68.7\" font-family=\"Times,serif\" font-size=\"14.00\">e</text>\n<polyline fill=\"none\" stroke=\"black\" points=\"1683.62,-56 1683.62,-91.5\"/>\n<text text-anchor=\"middle\" x=\"1723.5\" y=\"-68.7\" font-family=\"Times,serif\" font-size=\"14.00\">data 5.8284</text>\n<polyline fill=\"none\" stroke=\"black\" points=\"1763.38,-56 1763.38,-91.5\"/>\n<text text-anchor=\"middle\" x=\"1804\" y=\"-68.7\" font-family=\"Times,serif\" font-size=\"14.00\">grad 0.0429</text>\n</g>\n<!-- 13463441840+ -->\n<g id=\"node20\" class=\"node\">\n<title>13463441840+</title>\n<ellipse fill=\"none\" stroke=\"black\" cx=\"1908.75\" cy=\"-100.5\" rx=\"27\" ry=\"18\"/>\n<text text-anchor=\"middle\" x=\"1908.75\" y=\"-95.45\" font-family=\"Times,serif\" font-size=\"14.00\">+</text>\n</g>\n<!-- 13463446064&#45;&gt;13463441840+ -->\n<g id=\"edge27\" class=\"edge\">\n<title>13463446064&#45;&gt;13463441840+</title>\n<path fill=\"none\" stroke=\"black\" d=\"M1844.82,-89.44C1853.99,-91.05 1862.88,-92.61 1870.95,-94.03\"/>\n<polygon fill=\"black\" stroke=\"black\" points=\"1870.19,-97.45 1880.64,-95.74 1871.4,-90.56 1870.19,-97.45\"/>\n</g>\n<!-- 13463443952+ -->\n<g id=\"node28\" class=\"node\">\n<title>13463443952+</title>\n<ellipse fill=\"none\" stroke=\"black\" cx=\"1908.75\" cy=\"-45.5\" rx=\"27\" ry=\"18\"/>\n<text text-anchor=\"middle\" x=\"1908.75\" y=\"-40.45\" font-family=\"Times,serif\" font-size=\"14.00\">+</text>\n</g>\n<!-- 13463446064&#45;&gt;13463443952+ -->\n<g id=\"edge24\" class=\"edge\">\n<title>13463446064&#45;&gt;13463443952+</title>\n<path fill=\"none\" stroke=\"black\" d=\"M1844.82,-56.97C1854.07,-55.28 1863.05,-53.65 1871.19,-52.16\"/>\n<polygon fill=\"black\" stroke=\"black\" points=\"1871.74,-55.62 1880.95,-50.38 1870.48,-48.73 1871.74,-55.62\"/>\n</g>\n<!-- 13463446064exp&#45;&gt;13463446064 -->\n<g id=\"edge2\" class=\"edge\">\n<title>13463446064exp&#45;&gt;13463446064</title>\n<path fill=\"none\" stroke=\"black\" d=\"M1624.91,-73.5C1632.35,-73.5 1640.92,-73.5 1650.02,-73.5\"/>\n<polygon fill=\"black\" stroke=\"black\" points=\"1649.84,-77 1659.84,-73.5 1649.84,-70 1649.84,-77\"/>\n</g>\n<!-- 13463444048 -->\n<g id=\"node6\" class=\"node\">\n<title>13463444048</title>\n<polygon fill=\"none\" stroke=\"black\" points=\"1044,-83.5 1044,-119.5 1227.75,-119.5 1227.75,-83.5 1044,-83.5\"/>\n<text text-anchor=\"middle\" x=\"1055.38\" y=\"-96.7\" font-family=\"Times,serif\" font-size=\"14.00\">n</text>\n<polyline fill=\"none\" stroke=\"black\" points=\"1066.75,-84 1066.75,-119.5\"/>\n<text text-anchor=\"middle\" x=\"1106.62\" y=\"-96.7\" font-family=\"Times,serif\" font-size=\"14.00\">data 0.8814</text>\n<polyline fill=\"none\" stroke=\"black\" points=\"1146.5,-84 1146.5,-119.5\"/>\n<text text-anchor=\"middle\" x=\"1187.12\" y=\"-96.7\" font-family=\"Times,serif\" font-size=\"14.00\">grad 0.5000</text>\n</g>\n<!-- 13463444048&#45;&gt;13463438864* -->\n<g id=\"edge15\" class=\"edge\">\n<title>13463444048&#45;&gt;13463438864*</title>\n<path fill=\"none\" stroke=\"black\" d=\"M1228.01,-84.81C1236.84,-83.19 1245.4,-81.62 1253.19,-80.2\"/>\n<polygon fill=\"black\" stroke=\"black\" points=\"1253.67,-83.67 1262.88,-78.42 1252.41,-76.78 1253.67,-83.67\"/>\n</g>\n<!-- 13463444048+ -->\n<g id=\"node7\" class=\"node\">\n<title>13463444048+</title>\n<ellipse fill=\"none\" stroke=\"black\" cx=\"981\" cy=\"-101.5\" rx=\"27\" ry=\"18\"/>\n<text text-anchor=\"middle\" x=\"981\" y=\"-96.45\" font-family=\"Times,serif\" font-size=\"14.00\">+</text>\n</g>\n<!-- 13463444048+&#45;&gt;13463444048 -->\n<g id=\"edge3\" class=\"edge\">\n<title>13463444048+&#45;&gt;13463444048</title>\n<path fill=\"none\" stroke=\"black\" d=\"M1008.28,-101.5C1015.42,-101.5 1023.61,-101.5 1032.32,-101.5\"/>\n<polygon fill=\"black\" stroke=\"black\" points=\"1032.06,-105 1042.06,-101.5 1032.06,-98 1032.06,-105\"/>\n</g>\n<!-- 13463437712 -->\n<g id=\"node8\" class=\"node\">\n<title>13463437712</title>\n<polygon fill=\"none\" stroke=\"black\" points=\"1045.5,-28.5 1045.5,-64.5 1226.25,-64.5 1226.25,-28.5 1045.5,-28.5\"/>\n<text text-anchor=\"middle\" x=\"1055.38\" y=\"-41.7\" font-family=\"Times,serif\" font-size=\"14.00\"> </text>\n<polyline fill=\"none\" stroke=\"black\" points=\"1065.25,-29 1065.25,-64.5\"/>\n<text text-anchor=\"middle\" x=\"1105.12\" y=\"-41.7\" font-family=\"Times,serif\" font-size=\"14.00\">data 2.0000</text>\n<polyline fill=\"none\" stroke=\"black\" points=\"1145,-29 1145,-64.5\"/>\n<text text-anchor=\"middle\" x=\"1185.62\" y=\"-41.7\" font-family=\"Times,serif\" font-size=\"14.00\">grad 0.2203</text>\n</g>\n<!-- 13463437712&#45;&gt;13463438864* -->\n<g id=\"edge20\" class=\"edge\">\n<title>13463437712&#45;&gt;13463438864*</title>\n<path fill=\"none\" stroke=\"black\" d=\"M1226.69,-62.36C1235.94,-64 1244.93,-65.58 1253.08,-67.02\"/>\n<polygon fill=\"black\" stroke=\"black\" points=\"1252.41,-70.46 1262.87,-68.75 1253.63,-63.57 1252.41,-70.46\"/>\n</g>\n<!-- 13463320224 -->\n<g id=\"node9\" class=\"node\">\n<title>13463320224</title>\n<polygon fill=\"none\" stroke=\"black\" points=\"324,-139.5 324,-175.5 542.25,-175.5 542.25,-139.5 324,-139.5\"/>\n<text text-anchor=\"middle\" x=\"350.38\" y=\"-152.7\" font-family=\"Times,serif\" font-size=\"14.00\">x1*w1</text>\n<polyline fill=\"none\" stroke=\"black\" points=\"376.75,-140 376.75,-175.5\"/>\n<text text-anchor=\"middle\" x=\"418.88\" y=\"-152.7\" font-family=\"Times,serif\" font-size=\"14.00\">data &#45;6.0000</text>\n<polyline fill=\"none\" stroke=\"black\" points=\"461,-140 461,-175.5\"/>\n<text text-anchor=\"middle\" x=\"501.62\" y=\"-152.7\" font-family=\"Times,serif\" font-size=\"14.00\">grad 0.5000</text>\n</g>\n<!-- 13463444384+ -->\n<g id=\"node18\" class=\"node\">\n<title>13463444384+</title>\n<ellipse fill=\"none\" stroke=\"black\" cx=\"605.25\" cy=\"-129.5\" rx=\"27\" ry=\"18\"/>\n<text text-anchor=\"middle\" x=\"605.25\" y=\"-124.45\" font-family=\"Times,serif\" font-size=\"14.00\">+</text>\n</g>\n<!-- 13463320224&#45;&gt;13463444384+ -->\n<g id=\"edge17\" class=\"edge\">\n<title>13463320224&#45;&gt;13463444384+</title>\n<path fill=\"none\" stroke=\"black\" d=\"M542.35,-139.69C551.12,-138.24 559.54,-136.86 567.19,-135.6\"/>\n<polygon fill=\"black\" stroke=\"black\" points=\"567.72,-139.06 577.02,-133.98 566.58,-132.15 567.72,-139.06\"/>\n</g>\n<!-- 13463320224*&#45;&gt;13463320224 -->\n<g id=\"edge4\" class=\"edge\">\n<title>13463320224*&#45;&gt;13463320224</title>\n<path fill=\"none\" stroke=\"black\" d=\"M288.21,-157.5C295.29,-157.5 303.43,-157.5 312.17,-157.5\"/>\n<polygon fill=\"black\" stroke=\"black\" points=\"312.01,-161 322.01,-157.5 312.01,-154 312.01,-161\"/>\n</g>\n<!-- 13463445152 -->\n<g id=\"node11\" class=\"node\">\n<title>13463445152</title>\n<polygon fill=\"none\" stroke=\"black\" points=\"1660.5,-0.5 1660.5,-36.5 1845.75,-36.5 1845.75,-0.5 1660.5,-0.5\"/>\n<text text-anchor=\"middle\" x=\"1670.38\" y=\"-13.7\" font-family=\"Times,serif\" font-size=\"14.00\"> </text>\n<polyline fill=\"none\" stroke=\"black\" points=\"1680.25,-1 1680.25,-36.5\"/>\n<text text-anchor=\"middle\" x=\"1722.38\" y=\"-13.7\" font-family=\"Times,serif\" font-size=\"14.00\">data &#45;1.0000</text>\n<polyline fill=\"none\" stroke=\"black\" points=\"1764.5,-1 1764.5,-36.5\"/>\n<text text-anchor=\"middle\" x=\"1805.12\" y=\"-13.7\" font-family=\"Times,serif\" font-size=\"14.00\">grad 0.1464</text>\n</g>\n<!-- 13463445152&#45;&gt;13463443952+ -->\n<g id=\"edge21\" class=\"edge\">\n<title>13463445152&#45;&gt;13463443952+</title>\n<path fill=\"none\" stroke=\"black\" d=\"M1846.15,-34.67C1854.89,-36.21 1863.36,-37.7 1871.08,-39.05\"/>\n<polygon fill=\"black\" stroke=\"black\" points=\"1870.2,-42.45 1880.66,-40.74 1871.41,-35.56 1870.2,-42.45\"/>\n</g>\n<!-- 13463058656 -->\n<g id=\"node12\" class=\"node\">\n<title>13463058656</title>\n<polygon fill=\"none\" stroke=\"black\" points=\"2.25,-84.5 2.25,-120.5 195.75,-120.5 195.75,-84.5 2.25,-84.5\"/>\n<text text-anchor=\"middle\" x=\"18.5\" y=\"-97.7\" font-family=\"Times,serif\" font-size=\"14.00\">w2</text>\n<polyline fill=\"none\" stroke=\"black\" points=\"34.75,-85 34.75,-120.5\"/>\n<text text-anchor=\"middle\" x=\"74.62\" y=\"-97.7\" font-family=\"Times,serif\" font-size=\"14.00\">data 1.0000</text>\n<polyline fill=\"none\" stroke=\"black\" points=\"114.5,-85 114.5,-120.5\"/>\n<text text-anchor=\"middle\" x=\"155.12\" y=\"-97.7\" font-family=\"Times,serif\" font-size=\"14.00\">grad 0.0000</text>\n</g>\n<!-- 13463453120* -->\n<g id=\"node22\" class=\"node\">\n<title>13463453120*</title>\n<ellipse fill=\"none\" stroke=\"black\" cx=\"261\" cy=\"-102.5\" rx=\"27\" ry=\"18\"/>\n<text text-anchor=\"middle\" x=\"261\" y=\"-97.45\" font-family=\"Times,serif\" font-size=\"14.00\">*</text>\n</g>\n<!-- 13463058656&#45;&gt;13463453120* -->\n<g id=\"edge19\" class=\"edge\">\n<title>13463058656&#45;&gt;13463453120*</title>\n<path fill=\"none\" stroke=\"black\" d=\"M195.84,-102.5C205.14,-102.5 214.15,-102.5 222.32,-102.5\"/>\n<polygon fill=\"black\" stroke=\"black\" points=\"222.13,-106 232.13,-102.5 222.13,-99 222.13,-106\"/>\n</g>\n<!-- 13204446496 -->\n<g id=\"node13\" class=\"node\">\n<title>13204446496</title>\n<polygon fill=\"none\" stroke=\"black\" points=\"3.75,-29.5 3.75,-65.5 194.25,-65.5 194.25,-29.5 3.75,-29.5\"/>\n<text text-anchor=\"middle\" x=\"18.5\" y=\"-42.7\" font-family=\"Times,serif\" font-size=\"14.00\">x2</text>\n<polyline fill=\"none\" stroke=\"black\" points=\"33.25,-30 33.25,-65.5\"/>\n<text text-anchor=\"middle\" x=\"73.12\" y=\"-42.7\" font-family=\"Times,serif\" font-size=\"14.00\">data 0.0000</text>\n<polyline fill=\"none\" stroke=\"black\" points=\"113,-30 113,-65.5\"/>\n<text text-anchor=\"middle\" x=\"153.62\" y=\"-42.7\" font-family=\"Times,serif\" font-size=\"14.00\">grad 0.5000</text>\n</g>\n<!-- 13204446496&#45;&gt;13463453120* -->\n<g id=\"edge22\" class=\"edge\">\n<title>13204446496&#45;&gt;13463453120*</title>\n<path fill=\"none\" stroke=\"black\" d=\"M168.91,-65.94C178.74,-68.93 188.67,-72.15 198,-75.5 207.96,-79.07 218.58,-83.47 228.18,-87.68\"/>\n<polygon fill=\"black\" stroke=\"black\" points=\"226.54,-90.78 237.1,-91.67 229.4,-84.39 226.54,-90.78\"/>\n</g>\n<!-- 13463058320 -->\n<g id=\"node14\" class=\"node\">\n<title>13463058320</title>\n<polygon fill=\"none\" stroke=\"black\" points=\"701.25,-56.5 701.25,-92.5 885,-92.5 885,-56.5 701.25,-56.5\"/>\n<text text-anchor=\"middle\" x=\"712.62\" y=\"-69.7\" font-family=\"Times,serif\" font-size=\"14.00\">b</text>\n<polyline fill=\"none\" stroke=\"black\" points=\"724,-57 724,-92.5\"/>\n<text text-anchor=\"middle\" x=\"763.88\" y=\"-69.7\" font-family=\"Times,serif\" font-size=\"14.00\">data 6.8814</text>\n<polyline fill=\"none\" stroke=\"black\" points=\"803.75,-57 803.75,-92.5\"/>\n<text text-anchor=\"middle\" x=\"844.38\" y=\"-69.7\" font-family=\"Times,serif\" font-size=\"14.00\">grad 0.5000</text>\n</g>\n<!-- 13463058320&#45;&gt;13463444048+ -->\n<g id=\"edge14\" class=\"edge\">\n<title>13463058320&#45;&gt;13463444048+</title>\n<path fill=\"none\" stroke=\"black\" d=\"M885.43,-87.76C906.02,-90.75 926.71,-93.76 943.47,-96.19\"/>\n<polygon fill=\"black\" stroke=\"black\" points=\"942.5,-99.59 952.9,-97.56 943.5,-92.66 942.5,-99.59\"/>\n</g>\n<!-- 13463059280 -->\n<g id=\"node15\" class=\"node\">\n<title>13463059280</title>\n<polygon fill=\"none\" stroke=\"black\" points=\"1.5,-139.5 1.5,-175.5 196.5,-175.5 196.5,-139.5 1.5,-139.5\"/>\n<text text-anchor=\"middle\" x=\"16.25\" y=\"-152.7\" font-family=\"Times,serif\" font-size=\"14.00\">x1</text>\n<polyline fill=\"none\" stroke=\"black\" points=\"31,-140 31,-175.5\"/>\n<text text-anchor=\"middle\" x=\"70.88\" y=\"-152.7\" font-family=\"Times,serif\" font-size=\"14.00\">data 2.0000</text>\n<polyline fill=\"none\" stroke=\"black\" points=\"110.75,-140 110.75,-175.5\"/>\n<text text-anchor=\"middle\" x=\"153.62\" y=\"-152.7\" font-family=\"Times,serif\" font-size=\"14.00\">grad &#45;1.5000</text>\n</g>\n<!-- 13463059280&#45;&gt;13463320224* -->\n<g id=\"edge13\" class=\"edge\">\n<title>13463059280&#45;&gt;13463320224*</title>\n<path fill=\"none\" stroke=\"black\" d=\"M196.76,-157.5C205.77,-157.5 214.47,-157.5 222.4,-157.5\"/>\n<polygon fill=\"black\" stroke=\"black\" points=\"222.25,-161 232.25,-157.5 222.25,-154 222.25,-161\"/>\n</g>\n<!-- 13463445392 -->\n<g id=\"node16\" class=\"node\">\n<title>13463445392</title>\n<polygon fill=\"none\" stroke=\"black\" points=\"1660.5,-110.5 1660.5,-146.5 1845.75,-146.5 1845.75,-110.5 1660.5,-110.5\"/>\n<text text-anchor=\"middle\" x=\"1670.38\" y=\"-123.7\" font-family=\"Times,serif\" font-size=\"14.00\"> </text>\n<polyline fill=\"none\" stroke=\"black\" points=\"1680.25,-111 1680.25,-146.5\"/>\n<text text-anchor=\"middle\" x=\"1720.12\" y=\"-123.7\" font-family=\"Times,serif\" font-size=\"14.00\">data 1.0000</text>\n<polyline fill=\"none\" stroke=\"black\" points=\"1760,-111 1760,-146.5\"/>\n<text text-anchor=\"middle\" x=\"1802.88\" y=\"-123.7\" font-family=\"Times,serif\" font-size=\"14.00\">grad &#45;0.1036</text>\n</g>\n<!-- 13463445392&#45;&gt;13463441840+ -->\n<g id=\"edge28\" class=\"edge\">\n<title>13463445392&#45;&gt;13463441840+</title>\n<path fill=\"none\" stroke=\"black\" d=\"M1846.15,-111.73C1854.89,-110.13 1863.36,-108.59 1871.08,-107.18\"/>\n<polygon fill=\"black\" stroke=\"black\" points=\"1871.45,-110.67 1880.66,-105.44 1870.19,-103.79 1871.45,-110.67\"/>\n</g>\n<!-- 13463444384 -->\n<g id=\"node17\" class=\"node\">\n<title>13463444384</title>\n<polygon fill=\"none\" stroke=\"black\" points=\"668.25,-111.5 668.25,-147.5 918,-147.5 918,-111.5 668.25,-111.5\"/>\n<text text-anchor=\"middle\" x=\"710.38\" y=\"-124.7\" font-family=\"Times,serif\" font-size=\"14.00\">x1w1+x2w2</text>\n<polyline fill=\"none\" stroke=\"black\" points=\"752.5,-112 752.5,-147.5\"/>\n<text text-anchor=\"middle\" x=\"794.62\" y=\"-124.7\" font-family=\"Times,serif\" font-size=\"14.00\">data &#45;6.0000</text>\n<polyline fill=\"none\" stroke=\"black\" points=\"836.75,-112 836.75,-147.5\"/>\n<text text-anchor=\"middle\" x=\"877.38\" y=\"-124.7\" font-family=\"Times,serif\" font-size=\"14.00\">grad 0.5000</text>\n</g>\n<!-- 13463444384&#45;&gt;13463444048+ -->\n<g id=\"edge16\" class=\"edge\">\n<title>13463444384&#45;&gt;13463444048+</title>\n<path fill=\"none\" stroke=\"black\" d=\"M916.81,-111.02C926.08,-109.62 934.9,-108.29 942.86,-107.09\"/>\n<polygon fill=\"black\" stroke=\"black\" points=\"943.36,-110.56 952.72,-105.61 942.31,-103.64 943.36,-110.56\"/>\n</g>\n<!-- 13463444384+&#45;&gt;13463444384 -->\n<g id=\"edge5\" class=\"edge\">\n<title>13463444384+&#45;&gt;13463444384</title>\n<path fill=\"none\" stroke=\"black\" d=\"M632.49,-129.5C639.52,-129.5 647.64,-129.5 656.4,-129.5\"/>\n<polygon fill=\"black\" stroke=\"black\" points=\"656.3,-133 666.3,-129.5 656.3,-126 656.3,-133\"/>\n</g>\n<!-- 13463441840 -->\n<g id=\"node19\" class=\"node\">\n<title>13463441840</title>\n<polygon fill=\"none\" stroke=\"black\" points=\"1971.75,-82.5 1971.75,-118.5 2157,-118.5 2157,-82.5 1971.75,-82.5\"/>\n<text text-anchor=\"middle\" x=\"1981.62\" y=\"-95.7\" font-family=\"Times,serif\" font-size=\"14.00\"> </text>\n<polyline fill=\"none\" stroke=\"black\" points=\"1991.5,-83 1991.5,-118.5\"/>\n<text text-anchor=\"middle\" x=\"2031.38\" y=\"-95.7\" font-family=\"Times,serif\" font-size=\"14.00\">data 6.8284</text>\n<polyline fill=\"none\" stroke=\"black\" points=\"2071.25,-83 2071.25,-118.5\"/>\n<text text-anchor=\"middle\" x=\"2114.12\" y=\"-95.7\" font-family=\"Times,serif\" font-size=\"14.00\">grad &#45;0.1036</text>\n</g>\n<!-- 13463446496**&#45;1 -->\n<g id=\"node26\" class=\"node\">\n<title>13463446496**&#45;1</title>\n<ellipse fill=\"none\" stroke=\"black\" cx=\"2283.38\" cy=\"-100.5\" rx=\"27.81\" ry=\"18\"/>\n<text text-anchor=\"middle\" x=\"2283.38\" y=\"-95.45\" font-family=\"Times,serif\" font-size=\"14.00\">**&#45;1</text>\n</g>\n<!-- 13463441840&#45;&gt;13463446496**&#45;1 -->\n<g id=\"edge26\" class=\"edge\">\n<title>13463441840&#45;&gt;13463446496**&#45;1</title>\n<path fill=\"none\" stroke=\"black\" d=\"M2157.4,-100.5C2187.64,-100.5 2219.63,-100.5 2243.67,-100.5\"/>\n<polygon fill=\"black\" stroke=\"black\" points=\"2243.62,-104 2253.62,-100.5 2243.62,-97 2243.62,-104\"/>\n</g>\n<!-- 13463441840+&#45;&gt;13463441840 -->\n<g id=\"edge6\" class=\"edge\">\n<title>13463441840+&#45;&gt;13463441840</title>\n<path fill=\"none\" stroke=\"black\" d=\"M1936.16,-100.5C1943.2,-100.5 1951.25,-100.5 1959.8,-100.5\"/>\n<polygon fill=\"black\" stroke=\"black\" points=\"1959.79,-104 1969.79,-100.5 1959.79,-97 1959.79,-104\"/>\n</g>\n<!-- 13463453120 -->\n<g id=\"node21\" class=\"node\">\n<title>13463453120</title>\n<polygon fill=\"none\" stroke=\"black\" points=\"326.25,-84.5 326.25,-120.5 540,-120.5 540,-84.5 326.25,-84.5\"/>\n<text text-anchor=\"middle\" x=\"352.62\" y=\"-97.7\" font-family=\"Times,serif\" font-size=\"14.00\">x2*w2</text>\n<polyline fill=\"none\" stroke=\"black\" points=\"379,-85 379,-120.5\"/>\n<text text-anchor=\"middle\" x=\"418.88\" y=\"-97.7\" font-family=\"Times,serif\" font-size=\"14.00\">data 0.0000</text>\n<polyline fill=\"none\" stroke=\"black\" points=\"458.75,-85 458.75,-120.5\"/>\n<text text-anchor=\"middle\" x=\"499.38\" y=\"-97.7\" font-family=\"Times,serif\" font-size=\"14.00\">grad 0.5000</text>\n</g>\n<!-- 13463453120&#45;&gt;13463444384+ -->\n<g id=\"edge12\" class=\"edge\">\n<title>13463453120&#45;&gt;13463444384+</title>\n<path fill=\"none\" stroke=\"black\" d=\"M540.42,-119.37C549.89,-120.87 559,-122.32 567.21,-123.62\"/>\n<polygon fill=\"black\" stroke=\"black\" points=\"566.63,-127.07 577.05,-125.18 567.72,-120.16 566.63,-127.07\"/>\n</g>\n<!-- 13463453120*&#45;&gt;13463453120 -->\n<g id=\"edge7\" class=\"edge\">\n<title>13463453120*&#45;&gt;13463453120</title>\n<path fill=\"none\" stroke=\"black\" d=\"M288.21,-102.5C296,-102.5 305.08,-102.5 314.82,-102.5\"/>\n<polygon fill=\"black\" stroke=\"black\" points=\"314.55,-106 324.55,-102.5 314.55,-99 314.55,-106\"/>\n</g>\n<!-- 13463438288 -->\n<g id=\"node23\" class=\"node\">\n<title>13463438288</title>\n<polygon fill=\"none\" stroke=\"black\" points=\"2716.5,-54.5 2716.5,-90.5 2900.25,-90.5 2900.25,-54.5 2716.5,-54.5\"/>\n<text text-anchor=\"middle\" x=\"2727.88\" y=\"-67.7\" font-family=\"Times,serif\" font-size=\"14.00\">o</text>\n<polyline fill=\"none\" stroke=\"black\" points=\"2739.25,-55 2739.25,-90.5\"/>\n<text text-anchor=\"middle\" x=\"2779.12\" y=\"-67.7\" font-family=\"Times,serif\" font-size=\"14.00\">data 0.7071</text>\n<polyline fill=\"none\" stroke=\"black\" points=\"2819,-55 2819,-90.5\"/>\n<text text-anchor=\"middle\" x=\"2859.62\" y=\"-67.7\" font-family=\"Times,serif\" font-size=\"14.00\">grad 1.0000</text>\n</g>\n<!-- 13463438288* -->\n<g id=\"node24\" class=\"node\">\n<title>13463438288*</title>\n<ellipse fill=\"none\" stroke=\"black\" cx=\"2653.5\" cy=\"-72.5\" rx=\"27\" ry=\"18\"/>\n<text text-anchor=\"middle\" x=\"2653.5\" y=\"-67.45\" font-family=\"Times,serif\" font-size=\"14.00\">*</text>\n</g>\n<!-- 13463438288*&#45;&gt;13463438288 -->\n<g id=\"edge8\" class=\"edge\">\n<title>13463438288*&#45;&gt;13463438288</title>\n<path fill=\"none\" stroke=\"black\" d=\"M2680.78,-72.5C2687.92,-72.5 2696.11,-72.5 2704.82,-72.5\"/>\n<polygon fill=\"black\" stroke=\"black\" points=\"2704.56,-76 2714.56,-72.5 2704.56,-69 2704.56,-76\"/>\n</g>\n<!-- 13463446496 -->\n<g id=\"node25\" class=\"node\">\n<title>13463446496</title>\n<polygon fill=\"none\" stroke=\"black\" points=\"2409.75,-80.5 2409.75,-116.5 2590.5,-116.5 2590.5,-80.5 2409.75,-80.5\"/>\n<text text-anchor=\"middle\" x=\"2419.62\" y=\"-93.7\" font-family=\"Times,serif\" font-size=\"14.00\"> </text>\n<polyline fill=\"none\" stroke=\"black\" points=\"2429.5,-81 2429.5,-116.5\"/>\n<text text-anchor=\"middle\" x=\"2469.38\" y=\"-93.7\" font-family=\"Times,serif\" font-size=\"14.00\">data 0.1464</text>\n<polyline fill=\"none\" stroke=\"black\" points=\"2509.25,-81 2509.25,-116.5\"/>\n<text text-anchor=\"middle\" x=\"2549.88\" y=\"-93.7\" font-family=\"Times,serif\" font-size=\"14.00\">grad 4.8284</text>\n</g>\n<!-- 13463446496&#45;&gt;13463438288* -->\n<g id=\"edge25\" class=\"edge\">\n<title>13463446496&#45;&gt;13463438288*</title>\n<path fill=\"none\" stroke=\"black\" d=\"M2590.93,-83.08C2599.54,-81.6 2607.89,-80.16 2615.53,-78.85\"/>\n<polygon fill=\"black\" stroke=\"black\" points=\"2616.11,-82.3 2625.37,-77.16 2614.92,-75.4 2616.11,-82.3\"/>\n</g>\n<!-- 13463446496**&#45;1&#45;&gt;13463446496 -->\n<g id=\"edge9\" class=\"edge\">\n<title>13463446496**&#45;1&#45;&gt;13463446496</title>\n<path fill=\"none\" stroke=\"black\" d=\"M2311.57,-100.25C2333.68,-100.04 2366.33,-99.74 2398.22,-99.44\"/>\n<polygon fill=\"black\" stroke=\"black\" points=\"2397.96,-102.94 2407.93,-99.35 2397.9,-95.94 2397.96,-102.94\"/>\n</g>\n<!-- 13463443952 -->\n<g id=\"node27\" class=\"node\">\n<title>13463443952</title>\n<polygon fill=\"none\" stroke=\"black\" points=\"2193,-27.5 2193,-63.5 2373.75,-63.5 2373.75,-27.5 2193,-27.5\"/>\n<text text-anchor=\"middle\" x=\"2202.88\" y=\"-40.7\" font-family=\"Times,serif\" font-size=\"14.00\"> </text>\n<polyline fill=\"none\" stroke=\"black\" points=\"2212.75,-28 2212.75,-63.5\"/>\n<text text-anchor=\"middle\" x=\"2252.62\" y=\"-40.7\" font-family=\"Times,serif\" font-size=\"14.00\">data 4.8284</text>\n<polyline fill=\"none\" stroke=\"black\" points=\"2292.5,-28 2292.5,-63.5\"/>\n<text text-anchor=\"middle\" x=\"2333.12\" y=\"-40.7\" font-family=\"Times,serif\" font-size=\"14.00\">grad 0.1464</text>\n</g>\n<!-- 13463443952&#45;&gt;13463438288* -->\n<g id=\"edge11\" class=\"edge\">\n<title>13463443952&#45;&gt;13463438288*</title>\n<path fill=\"none\" stroke=\"black\" d=\"M2373.96,-52.07C2451.25,-57.74 2559.03,-65.64 2615.17,-69.76\"/>\n<polygon fill=\"black\" stroke=\"black\" points=\"2614.59,-73.23 2624.82,-70.47 2615.1,-66.25 2614.59,-73.23\"/>\n</g>\n<!-- 13463443952+&#45;&gt;13463443952 -->\n<g id=\"edge10\" class=\"edge\">\n<title>13463443952+&#45;&gt;13463443952</title>\n<path fill=\"none\" stroke=\"black\" d=\"M1936.25,-45.5C1986.51,-45.5 2098.07,-45.5 2181.03,-45.5\"/>\n<polygon fill=\"black\" stroke=\"black\" points=\"2181.02,-49 2191.02,-45.5 2181.02,-42 2181.02,-49\"/>\n</g>\n</g>\n</svg>\n",
      "text/plain": [
       "<graphviz.graphs.Digraph at 0x322785210>"
      ]
     },
     "execution_count": 446,
     "metadata": {},
     "output_type": "execute_result"
    }
   ],
   "execution_count": 446
  },
  {
   "metadata": {},
   "cell_type": "markdown",
   "source": "## Wrapping this in a Pytorch like API"
  },
  {
   "metadata": {
    "ExecuteTime": {
     "end_time": "2024-12-11T12:09:29.164808Z",
     "start_time": "2024-12-11T12:09:29.159499Z"
    }
   },
   "cell_type": "code",
   "source": [
    "class Neuron:\n",
    "\n",
    "    def __init__(self, n_inputs):\n",
    "        self.w = [Value(np.random.uniform(-1, 1)) for _ in range(n_inputs)]\n",
    "        self.b = Value(np.random.uniform(-1, 1))\n",
    "\n",
    "    def __call__(self, x):\n",
    "        # w * x + b\n",
    "        assert len(x) == len(self.w)#, f\"Inputs 'x' must have be of length {len(self.)}.\"\n",
    "        y = sum((x[i] * self.w[i] for i in range(len(self.w))), self.b)\n",
    "        return y.tanh()\n",
    "\n",
    "    def parameters(self):\n",
    "        return self.w + [self.b]\n",
    "\n",
    "\n",
    "class Layer:\n",
    "\n",
    "    def __init__(self, n_inputs, n_outputs):\n",
    "        self.n_inputs = n_inputs\n",
    "        self.neurons = [Neuron(n_inputs) for _ in range(n_outputs)]\n",
    "\n",
    "    def __call__(self, x):\n",
    "        assert len(x) == self.n_inputs #, f\"Inputs 'x' must be of length {self.n_inputs}.\"\n",
    "        y = [neuron(x) for neuron in self.neurons]\n",
    "        return y[0] if len(y) == 1 else y\n",
    "\n",
    "    def parameters(self):\n",
    "        return [p for neuron in self.neurons for p in neuron.parameters()]\n",
    "        params = []\n",
    "        for neuron in self.neurons:\n",
    "            params.extend(neuron.parameters())\n",
    "\n",
    "\n",
    "class MLP:\n",
    "\n",
    "    def __init__(self, n_inputs, n_outputs): # n_outputs: list of number of neurons per layer\n",
    "        self.layers = []\n",
    "        prev_layer_n_outputs = n_inputs\n",
    "        for num_neurons in n_outputs:\n",
    "            self.layers.append(Layer(prev_layer_n_outputs, num_neurons))\n",
    "            prev_layer_n_outputs = num_neurons\n",
    "\n",
    "    def __call__(self, x):\n",
    "        for layer in self.layers:\n",
    "            x = layer(x)\n",
    "        return x\n",
    "\n",
    "    def parameters(self):\n",
    "        return [p for layer in self.layers for p in layer.parameters()]\n"
   ],
   "outputs": [],
   "execution_count": 447
  },
  {
   "metadata": {},
   "cell_type": "markdown",
   "source": "## Backpropagating through the MLP"
  },
  {
   "metadata": {
    "ExecuteTime": {
     "end_time": "2024-12-11T12:09:29.181435Z",
     "start_time": "2024-12-11T12:09:29.178009Z"
    }
   },
   "cell_type": "code",
   "source": [
    "mlp = MLP(3, [4, 4, 1])\n",
    "mlp.parameters()"
   ],
   "outputs": [
    {
     "data": {
      "text/plain": [
       "[: 0.06373716676623542,\n",
       " : 0.3777853883377382,\n",
       " : 0.7366775109657211,\n",
       " : -0.040692052067912377,\n",
       " : -0.36477431201454724,\n",
       " : 0.5777949660315553,\n",
       " : 0.8537529649514717,\n",
       " : -0.5171326311184548,\n",
       " : -0.4109989477327092,\n",
       " : -0.6689549468056544,\n",
       " : -0.007094087970048291,\n",
       " : 0.9768858984797806,\n",
       " : -0.6960913062954333,\n",
       " : -0.7435662994397221,\n",
       " : 0.396763417455122,\n",
       " : 0.724245926212933,\n",
       " : 0.6348864822091085,\n",
       " : -0.17088498155183784,\n",
       " : 0.7516578707048869,\n",
       " : 0.6452764794813808,\n",
       " : 0.2601647826769682,\n",
       " : 0.4583620171785876,\n",
       " : -0.44150038575412087,\n",
       " : 0.11360533939696782,\n",
       " : 0.9469363881715014,\n",
       " : 0.43864964081346347,\n",
       " : 0.7961485615289117,\n",
       " : 0.8658847696798828,\n",
       " : 0.024512253164359787,\n",
       " : 0.22887850522095854,\n",
       " : -0.21077976628829065,\n",
       " : -0.7476449546487751,\n",
       " : 0.6842960695950375,\n",
       " : 0.560056577314014,\n",
       " : 0.4735029355464735,\n",
       " : -0.7545800242540104,\n",
       " : -0.2411975403922555,\n",
       " : -0.5949029287905141,\n",
       " : 0.3600816531950133,\n",
       " : 0.21745814933655572,\n",
       " : -0.6763898833226627]"
      ]
     },
     "execution_count": 448,
     "metadata": {},
     "output_type": "execute_result"
    }
   ],
   "execution_count": 448
  },
  {
   "metadata": {
    "ExecuteTime": {
     "end_time": "2024-12-11T12:09:29.203997Z",
     "start_time": "2024-12-11T12:09:29.199705Z"
    }
   },
   "cell_type": "code",
   "source": [
    "xs = [\n",
    "    [2.0, 3.0, -1.0],\n",
    "    [3.0, -1.0, 0.5],\n",
    "    [1.0, 1.0, -1.0],\n",
    "    [1.0, 0.5, -1.0]\n",
    "]\n",
    "\n",
    "ys = [1.0, -1.0, -1.0, 1.0] # targets\n",
    "\n",
    "y_pred = [mlp(x) for x in xs]\n",
    "y_pred"
   ],
   "outputs": [
    {
     "data": {
      "text/plain": [
       "[: -0.6221502770079331,\n",
       " : -0.9184753430824827,\n",
       " : -0.7728190745376897,\n",
       " : -0.8271096280070797]"
      ]
     },
     "execution_count": 449,
     "metadata": {},
     "output_type": "execute_result"
    }
   ],
   "execution_count": 449
  },
  {
   "metadata": {
    "ExecuteTime": {
     "end_time": "2024-12-11T12:09:29.230226Z",
     "start_time": "2024-12-11T12:09:29.227274Z"
    }
   },
   "cell_type": "code",
   "source": [
    "# Mean squared error loss\n",
    "loss = sum([(yout - ygt)**2 for ygt, yout in zip(ys, y_pred)])\n",
    "loss.backward()\n",
    "loss"
   ],
   "outputs": [
    {
     "data": {
      "text/plain": [
       ": 6.027958556532514"
      ]
     },
     "execution_count": 450,
     "metadata": {},
     "output_type": "execute_result"
    }
   ],
   "execution_count": 450
  },
  {
   "metadata": {
    "ExecuteTime": {
     "end_time": "2024-12-11T12:09:29.255028Z",
     "start_time": "2024-12-11T12:09:29.252322Z"
    }
   },
   "cell_type": "code",
   "source": "mlp.layers[0].neurons[0].w[0].data",
   "outputs": [
    {
     "data": {
      "text/plain": [
       "0.06373716676623542"
      ]
     },
     "execution_count": 451,
     "metadata": {},
     "output_type": "execute_result"
    }
   ],
   "execution_count": 451
  },
  {
   "metadata": {
    "ExecuteTime": {
     "end_time": "2024-12-11T12:09:29.282459Z",
     "start_time": "2024-12-11T12:09:29.279947Z"
    }
   },
   "cell_type": "code",
   "source": "mlp.layers[0].neurons[0].w[0].grad",
   "outputs": [
    {
     "data": {
      "text/plain": [
       "0.6467776325130308"
      ]
     },
     "execution_count": 452,
     "metadata": {},
     "output_type": "execute_result"
    }
   ],
   "execution_count": 452
  },
  {
   "metadata": {
    "ExecuteTime": {
     "end_time": "2024-12-11T12:09:29.308107Z",
     "start_time": "2024-12-11T12:09:29.305126Z"
    }
   },
   "cell_type": "code",
   "source": [
    "learning_rate = 0.011\n",
    "\n",
    "for p in mlp.parameters():\n",
    "    p.data += -learning_rate * p.grad\n",
    "\n",
    "mlp.layers[0].neurons[0].w[0].data"
   ],
   "outputs": [
    {
     "data": {
      "text/plain": [
       "0.056622612808592085"
      ]
     },
     "execution_count": 453,
     "metadata": {},
     "output_type": "execute_result"
    }
   ],
   "execution_count": 453
  },
  {
   "metadata": {
    "ExecuteTime": {
     "end_time": "2024-12-11T12:09:29.335621Z",
     "start_time": "2024-12-11T12:09:29.331022Z"
    }
   },
   "cell_type": "code",
   "source": [
    "class LossFunction:\n",
    "    \"\"\" Loss Function Interface \"\"\"\n",
    "    @staticmethod\n",
    "    def __call__(y_pred, y)-> Value:\n",
    "        pass\n",
    "\n",
    "\n",
    "class MeanSquaredError(LossFunction):\n",
    "    \"\"\" Mean Squared Error implementation of LossFunction \"\"\"\n",
    "    @staticmethod\n",
    "    def __call__(y_pred, y):\n",
    "        return sum((y_out - y_true)**2 for y_out, y_true in zip(y_pred, y))\n",
    "\n",
    "\n",
    "class Optimizer:\n",
    "    def __init__(self, model:MLP, loss_fct:LossFunction=lambda y_pred, y: sum((y_out - y_true)**2 for y_out, y_true in zip(y_pred, y))):\n",
    "        self.model = model\n",
    "        self.loss_fct = loss_fct\n",
    "\n",
    "    def _step(self, X, y, learning_rate):\n",
    "        # Forward pass\n",
    "        y_pred = [self.model(x) for x in X]\n",
    "        loss = self.loss_fct(y_pred, y)\n",
    "\n",
    "        # Backward pass\n",
    "        loss.backward()\n",
    "        for p in self.model.parameters():\n",
    "            p.data -= learning_rate * p.grad\n",
    "        return loss\n",
    "\n",
    "    def fit(self, X, y, epochs, learning_rate=1e-3):\n",
    "        # Parameter check\n",
    "        assert len(X[0]) == self.model.layers[0].n_inputs, \"Input X has wrong shape\"\n",
    "        assert len(y) == self.model.layers[-1].n_inputs, \"Input y has wrong shape\"\n",
    "\n",
    "        history = []\n",
    "        for _ in range(epochs):\n",
    "            history.append(self._step(X, y, learning_rate))\n",
    "        return history"
   ],
   "outputs": [],
   "execution_count": 454
  },
  {
   "metadata": {
    "ExecuteTime": {
     "end_time": "2024-12-11T12:09:32.248900Z",
     "start_time": "2024-12-11T12:09:29.343385Z"
    }
   },
   "cell_type": "code",
   "source": [
    "optimizer = Optimizer(mlp)\n",
    "history = optimizer.fit(xs, ys, epochs=1000, learning_rate=0.0001)\n",
    "plt.plot([val.data for val in history])\n",
    "plt.show()"
   ],
   "outputs": [
    {
     "data": {
      "text/plain": [
       "<Figure size 640x480 with 1 Axes>"
      ],
      "image/png": "[encoded data removed]"
     },
     "metadata": {},
     "output_type": "display_data"
    }
   ],
   "execution_count": 455
  },
  {
   "metadata": {
    "ExecuteTime": {
     "end_time": "2024-12-11T12:09:32.264924Z",
     "start_time": "2024-12-11T12:09:32.255537Z"
    }
   },
   "cell_type": "code",
   "source": "history",
   "outputs": [
    {
     "data": {
      "text/plain": [
       "[: 5.492965239413536,\n",
       " : 5.481944303954349,\n",
       " : 5.465000421007442,\n",
       " : 5.442076037580787,\n",
       " : 5.413097862016338,\n",
       " : 5.3779813669151375,\n",
       " : 5.336636818804456,\n",
       " : 5.288977043431089,\n",
       " : 5.234927122713652,\n",
       " : 5.174436160769732,\n",
       " : 5.1074911346432845,\n",
       " : 5.034132643093333,\n",
       " : 4.954472072227068,\n",
       " : 4.868709312024881,\n",
       " : 4.777149710271584,\n",
       " : 4.68021850393737,\n",
       " : 4.578470628852848,\n",
       " : 4.472593717336933,\n",
       " : 4.363402395926032,\n",
       " : 4.251822788624584,\n",
       " : 4.138867397839004,\n",
       " : 4.025602093844372,\n",
       " : 3.9131084523037116,\n",
       " : 3.8024457176794657,\n",
       " : 3.6946168863034203,\n",
       " : 3.5905426639783364,\n",
       " : 3.491045522549673,\n",
       " : 3.396844168272029,\n",
       " : 3.3085569447638274,\n",
       " : 3.226711437624728,\n",
       " : 3.1517570263056336,\n",
       " : 3.0840773092739537,\n",
       " : 3.0240000140269085,\n",
       " : 2.971802935091397,\n",
       " : 2.927715386848712,\n",
       " : 2.8919154519614656,\n",
       " : 2.8645238691324453,\n",
       " : 2.845595720504849,\n",
       " : 2.8351111771762127,\n",
       " : 2.832966491803581,\n",
       " : 2.8389662484197844,\n",
       " : 2.852817646794318,\n",
       " : 2.874127357615019,\n",
       " : 2.902401266993072,\n",
       " : 2.937047249928111,\n",
       " : 2.9773809731005016,\n",
       " : 3.0226346173733907,\n",
       " : 3.0719683146869796,\n",
       " : 3.1244840001421648,\n",
       " : 3.17924128408685,\n",
       " : 3.2352748583301625,\n",
       " : 3.291612882214778,\n",
       " : 3.3472957689752123,\n",
       " : 3.401394827204336,\n",
       " : 3.4530303112696794,\n",
       " : 3.501388586861718,\n",
       " : 3.545738295523843,\n",
       " : 3.585445563665156,\n",
       " : 3.6199883984197307,\n",
       " : 3.6489703959268915,\n",
       " : 3.6721337167756642,\n",
       " : 3.6893709373370904,\n",
       " : 3.700734876981608,\n",
       " : 3.7064448936911565,\n",
       " : 3.7068875664934353,\n",
       " : 3.7026093470848536,\n",
       " : 3.6942989159713524,\n",
       " : 3.682757844891048,\n",
       " : 3.6688598263108854,\n",
       " : 3.6535009894550043,\n",
       " : 3.637546159269773,\n",
       " : 3.6217775793667335,\n",
       " : 3.6068529079989236,\n",
       " : 3.593277898223221,\n",
       " : 3.581396395412796,\n",
       " : 3.5713969708426405,\n",
       " : 3.563332676185229,\n",
       " : 3.557148796786269,\n",
       " : 3.552713310053897,\n",
       " : 3.5498457182643968,\n",
       " : 3.5483414573276852,\n",
       " : 3.547990636377689,\n",
       " : 3.5485910821407494,\n",
       " : 3.5499564192257584,\n",
       " : 3.5519202527481277,\n",
       " : 3.5543375529959493,\n",
       " : 3.5570842032865206,\n",
       " : 3.5600554647280163,\n",
       " : 3.5631639009307543,\n",
       " : 3.5663371251025,\n",
       " : 3.5695155925727238,\n",
       " : 3.57265056230449,\n",
       " : 3.5757022845457627,\n",
       " : 3.578638430289523,\n",
       " : 3.581432754242442,\n",
       " : 3.5840639706391526,\n",
       " : 3.5865148161514813,\n",
       " : 3.588771273339505,\n",
       " : 3.59082192961194,\n",
       " : 3.592657449279813,\n",
       " : 3.5942701392701166,\n",
       " : 3.595653592009359,\n",
       " : 3.596802391685985,\n",
       " : 3.597711872471529,\n",
       " : 3.59837791930667,\n",
       " : 3.5987968035593916,\n",
       " : 3.5989650472736487,\n",
       " : 3.598879310888688,\n",
       " : 3.598536300261285,\n",
       " : 3.5979326896015564,\n",
       " : 3.597065057569061,\n",
       " : 3.59592983429606,\n",
       " : 3.594523257531016,\n",
       " : 3.5928413364456198,\n",
       " : 3.590879821937698,\n",
       " : 3.588634182501878,\n",
       " : 3.586099584939735,\n",
       " : 3.5832708793489165,\n",
       " : 3.5801425879727478,\n",
       " : 3.5767088976131363,\n",
       " : 3.572963655414297,\n",
       " : 3.5689003679161835,\n",
       " : 3.5645122033572973,\n",
       " : 3.55979199727884,\n",
       " : 3.554732261547748,\n",
       " : 3.5493251969765125,\n",
       " : 3.54356270977383,\n",
       " : 3.5374364321131897,\n",
       " : 3.5309377471571084,\n",
       " : 3.524057818923643,\n",
       " : 3.5167876274295997,\n",
       " : 3.5091180095920604,\n",
       " : 3.501039706417087,\n",
       " : 3.492543417052247,\n",
       " : 3.483619860328761,\n",
       " : 3.474259844470157,\n",
       " : 3.4644543456985972,\n",
       " : 3.454194596528234,\n",
       " : 3.4434721845985385,\n",
       " : 3.4322791629707874,\n",
       " : 3.420608172889147,\n",
       " : 3.408452580095477,\n",
       " : 3.3958066258852253,\n",
       " : 3.3826655942012507,\n",
       " : 3.3690259961830353,\n",
       " : 3.354885773719474,\n",
       " : 3.3402445236912035,\n",
       " : 3.325103744728674,\n",
       " : 3.309467108446925,\n",
       " : 3.293340757236709,\n",
       " : 3.2767336307792916,\n",
       " : 3.259657823490145,\n",
       " : 3.2421289750615947,\n",
       " : 3.2241666961381066,\n",
       " : 3.2057950308887317,\n",
       " : 3.1870429578029786,\n",
       " : 3.167944929390186,\n",
       " : 3.148541450566261,\n",
       " : 3.1288796943201405,\n",
       " : 3.1090141517160608,\n",
       " : 3.0890073113497882,\n",
       " : 3.0689303609683227,\n",
       " : 3.0488639009948715,\n",
       " : 3.028898656057816,\n",
       " : 3.0091361661509963,\n",
       " : 2.989689433558115,\n",
       " : 2.97068349492334,\n",
       " : 2.9522558795907585,\n",
       " : 2.9345569053399227,\n",
       " : 2.9177497507887615,\n",
       " : 2.9020102301155597,\n",
       " : 2.88752618084892,\n",
       " : 2.8744963603461904,\n",
       " : 2.863128733068765,\n",
       " : 2.853638021665904,\n",
       " : 2.8462423940321666,\n",
       " : 2.8411591706741666,\n",
       " : 2.838599467221249,\n",
       " : 2.838761740826046,\n",
       " : 2.84182429015648,\n",
       " : 2.8479368672097554,\n",
       " : 2.8572116908262686,\n",
       " : 2.8697142954446924,\n",
       " : 2.8854547858349173,\n",
       " : 2.9043801744582134,\n",
       " : 2.9263685250980696,\n",
       " : 2.951225590016647,\n",
       " : 2.9786844942554858,\n",
       " : 3.008408793235735,\n",
       " : 3.039998932453871,\n",
       " : 3.0730018128875076,\n",
       " : 3.1069228646598033,\n",
       " : 3.1412398042316663,\n",
       " : 3.175417132175517,\n",
       " : 3.208920432254753,\n",
       " : 3.241229646965774,\n",
       " : 3.271850699848222,\n",
       " : 3.300325070950848,\n",
       " : 3.326237169287831,\n",
       " : 3.349219553351232,\n",
       " : 3.3689562081938504,\n",
       " : 3.3851841880115003,\n",
       " : 3.3976939792338374,\n",
       " : 3.406328939951262,\n",
       " : 3.41098413895606,\n",
       " : 3.411604863710881,\n",
       " : 3.408185001479382,\n",
       " : 3.400765429583457,\n",
       " : 3.3894324848104875,\n",
       " : 3.37431652191049,\n",
       " : 3.355590519006687,\n",
       " : 3.333468644862179,\n",
       " : 3.3082046701932972,\n",
       " : 3.2800900834287363,\n",
       " : 3.2494517613902936,\n",
       " : 3.21664904827224,\n",
       " : 3.1820701128509494,\n",
       " : 3.146127484477976,\n",
       " : 3.109252712742087,\n",
       " : 3.0718901522510014,\n",
       " : 3.034489939906659,\n",
       " : 2.997500302946891,\n",
       " : 2.9613594061410087,\n",
       " : 2.926487009129869,\n",
       " : 2.893276252992793,\n",
       " : 2.8620859223349426,\n",
       " : 2.833233530763805,\n",
       " : 2.8069895513009007,\n",
       " : 2.783573059875084,\n",
       " : 2.763148983608976,\n",
       " : 2.745827053022757,\n",
       " : 2.731662457394505,\n",
       " : 2.72065810495268,\n",
       " : 2.7127683033914463,\n",
       " : 2.707903608694473,\n",
       " : 2.70593654612163,\n",
       " : 2.7067078881639492,\n",
       " : 2.710033179140713,\n",
       " : 2.715709221385565,\n",
       " : 2.7235202785710024,\n",
       " : 2.7332438018883427,\n",
       " : 2.744655538883216,\n",
       " : 2.757533937829775,\n",
       " : 2.7716638088151972,\n",
       " : 2.7868392436757525,\n",
       " : 2.8028658292777804,\n",
       " : 2.819562212117425,\n",
       " : 2.8367610873599243,\n",
       " : 2.854309693313481,\n",
       " : 2.8720698942713296,\n",
       " : 2.8899179320712167,\n",
       " : 2.907743920957114,\n",
       " : 2.925451152565269,\n",
       " : 2.942955269069079,\n",
       " : 2.9601833534590134,\n",
       " : 2.977072977151649,\n",
       " : 2.9935712369811407,\n",
       " : 3.0096338063438433,\n",
       " : 3.0252240189434527,\n",
       " : 3.040311998236711,\n",
       " : 3.0548738412672987,\n",
       " : 3.068890862020776,\n",
       " : 3.082348896639329,\n",
       " : 3.0952376706973346,\n",
       " : 3.107550227153956,\n",
       " : 3.119282412469943,\n",
       " : 3.1304324176150615,\n",
       " : 3.1410003702231557,\n",
       " : 3.1509879739083417,\n",
       " : 3.1603981906832477,\n",
       " : 3.169234962473674,\n",
       " : 3.1775029678671887,\n",
       " : 3.18520741043734,\n",
       " : 3.1923538352279945,\n",
       " : 3.198947970246766,\n",
       " : 3.2049955900899185,\n",
       " : 3.210502399094224,\n",
       " : 3.2154739316776926,\n",
       " : 3.2199154677863984,\n",
       " : 3.2238319616064355,\n",
       " : 3.22722798192675,\n",
       " : 3.2301076627499725,\n",
       " : 3.232474662944679,\n",
       " : 3.234332133914467,\n",
       " : 3.235682694428046,\n",
       " : 3.236528411911592,\n",
       " : 3.23687078965132,\n",
       " : 3.2367107594923117,\n",
       " : 3.236048679750599,\n",
       " : 3.234884338181081,\n",
       " : 3.2332169599655547,\n",
       " : 3.231045220804652,\n",
       " : 3.2283672653160917,\n",
       " : 3.225180731061013,\n",
       " : 3.221482778641427,\n",
       " : 3.2172701284362137,\n",
       " : 3.21253910467167,\n",
       " : 3.2072856876561535,\n",
       " : 3.201505575147474,\n",
       " : 3.1951942539665454,\n",
       " : 3.188347083121261,\n",
       " : 3.180959389859832,\n",
       " : 3.173026580231478,\n",
       " : 3.1645442658921863,\n",
       " : 3.155508409050694,\n",
       " : 3.1459154876003828,\n",
       " : 3.1357626826199345,\n",
       " : 3.125048090541097,\n",
       " : 3.1137709623651597,\n",
       " : 3.101931972347202,\n",
       " : 3.089533518542447,\n",
       " : 3.076580057501737,\n",
       " : 3.0630784751892755,\n",
       " : 3.049038495846721,\n",
       " : 3.034473130010837,\n",
       " : 3.019399162169943,\n",
       " : 3.0038376775766595,\n",
       " : 2.987814626477394,\n",
       " : 2.9713614224281693,\n",
       " : 2.954515569399226,\n",
       " : 2.937321309990148,\n",
       " : 2.9198302842567094,\n",
       " : 2.9021021853813616,\n",
       " : 2.884205394717595,\n",
       " : 2.8662175746563983,\n",
       " : 2.848226193398284,\n",
       " : 2.8303289512222327,\n",
       " : 2.812634073446256,\n",
       " : 2.7952604312725033,\n",
       " : 2.7783374484822905,\n",
       " : 2.7620047499493476,\n",
       " : 2.746411507692872,\n",
       " : 2.73171544225281,\n",
       " : 2.718081442091047,\n",
       " : 2.705679771994184,\n",
       " : 2.694683853431675,\n",
       " : 2.6852676156429522,\n",
       " : 2.6776024357189545,\n",
       " : 2.6718537085549654,\n",
       " : 2.6681771122948708,\n",
       " : 2.666714660328833,\n",
       " : 2.667590655213422,\n",
       " : 2.6709076809353327,\n",
       " : 2.676742785511683,\n",
       " : 2.685144013919155,\n",
       " : 2.696127450082569,\n",
       " : 2.7096749151122634,\n",
       " : 2.725732447026917,\n",
       " : 2.744209655713107,\n",
       " : 2.764980007743883,\n",
       " : 2.7878820516628697,\n",
       " : 2.8127215487920925,\n",
       " : 2.8392744311251494,\n",
       " : 2.867290469829919,\n",
       " : 2.896497508151003,\n",
       " : 2.9266060930493905,\n",
       " : 2.9573143316771544,\n",
       " : 2.9883128016109897,\n",
       " : 3.019289356538142,\n",
       " : 3.0499336899212057,\n",
       " : 3.0799415457067605,\n",
       " : 3.1090184948520614,\n",
       " : 3.136883226886134,\n",
       " : 3.163270334772086,\n",
       " : 3.187932597325518,\n",
       " : 3.2106427852159256,\n",
       " : 3.23119503349133,\n",
       " : 3.2494058354317548,\n",
       " : 3.2651147195273866,\n",
       " : 3.278184673924186,\n",
       " : 3.2885023813709644,\n",
       " : 3.2959783231930757,\n",
       " : 3.300546803762791,\n",
       " : 3.3021659379403956,\n",
       " : 3.30081763355542,\n",
       " : 3.2965075896362217,\n",
       " : 3.2892653191611583,\n",
       " : 3.2791441929286633,\n",
       " : 3.26622148903823,\n",
       " : 3.2505984207609204,\n",
       " : 3.2324001046162225,\n",
       " : 3.2117754206861138,\n",
       " : 3.1888967090895033,\n",
       " : 3.1639592406936856,\n",
       " : 3.137180397201069,\n",
       " : 3.1087984963928066,\n",
       " : 3.0790712031768157,\n",
       " : 3.0482734767021418,\n",
       " : 3.0166950184780443,\n",
       " : 2.984637206168614,\n",
       " : 2.9524095220964273,\n",
       " : 2.920325513560405,\n",
       " : 2.8886983524032264,\n",
       " : 2.8578360919042134,\n",
       " : 2.8280367476837105,\n",
       " : 2.7995833533372876,\n",
       " : 2.7727391584718823,\n",
       " : 2.7477431445340095,\n",
       " : 2.72480603078715,\n",
       " : 2.704106928392604,\n",
       " : 2.68579077521359,\n",
       " : 2.6699666492234178,\n",
       " : 2.6567070167550453,\n",
       " : 2.646047926500362,\n",
       " : 2.637990114732175,\n",
       " : 2.6325009452110892,\n",
       " : 2.6295170717400156,\n",
       " : 2.628947684662589,\n",
       " : 2.630678186120311,\n",
       " : 2.6345741329063874,\n",
       " : 2.640485289640085,\n",
       " : 2.648249647312839,\n",
       " : 2.65769728107629,\n",
       " : 2.6686539442492503,\n",
       " : 2.6809443207153647,\n",
       " : 2.6943948831799496,\n",
       " : 2.708836328525328,\n",
       " : 2.724105582555022,\n",
       " : 2.740047384000837,\n",
       " : 2.7565154714467233,\n",
       " : 2.773373406805257,\n",
       " : 2.790495075431509,\n",
       " : 2.8077649063122063,\n",
       " : 2.82507785655663,\n",
       " : 2.8423392031994212,\n",
       " : 2.859464182644384,\n",
       " : 2.87637751441876,\n",
       " : 2.893012841684359,\n",
       " : 2.9093121165003297,\n",
       " : 2.9252249534094035,\n",
       " : 2.940707970710069,\n",
       " : 2.9557241349044494,\n",
       " : 2.970242120347592,\n",
       " : 2.984235693100496,\n",
       " : 2.997683125408791,\n",
       " : 3.0105666450728488,\n",
       " : 3.0228719222110922,\n",
       " : 3.0345875945062484,\n",
       " : 3.0457048309209362,\n",
       " : 3.05621693303049,\n",
       " : 3.0661189725055205,\n",
       " : 3.0754074628459915,\n",
       " : 3.0840800631878236,\n",
       " : 3.0921353118423003,\n",
       " : 3.099572387161732,\n",
       " : 3.106390893330356,\n",
       " : 3.1125906687392617,\n",
       " : 3.118171614703561,\n",
       " : 3.123133542407632,\n",
       " : 3.1274760361107226,\n",
       " : 3.131198330803856,\n",
       " : 3.1342992026745558,\n",
       " : 3.136776870905123,\n",
       " : 3.1386289095005138,\n",
       " : 3.139852168012397,\n",
       " : 3.1404427001962087,\n",
       " : 3.140395699808538,\n",
       " : 3.139705442923997,\n",
       " : 3.1383652363255403,\n",
       " : 3.136367371702174,\n",
       " : 3.1337030855756227,\n",
       " : 3.130362525075982,\n",
       " : 3.126334719899048,\n",
       " : 3.121607561008708,\n",
       " : 3.116167786900856,\n",
       " : 3.110000978525248,\n",
       " : 3.1030915642735435,\n",
       " : 3.0954228367907852,\n",
       " : 3.0869769837589036,\n",
       " : 3.0777351352401117,\n",
       " : 3.0676774306602095,\n",
       " : 3.0567831090613913,\n",
       " : 3.0450306268645146,\n",
       " : 3.0323978080535463,\n",
       " : 3.018862032428712,\n",
       " : 3.004400468364897,\n",
       " : 2.9889903573470478,\n",
       " : 2.972609358416796,\n",
       " : 2.9552359615258146,\n",
       " : 2.9368499796101846,\n",
       " : 2.9174331299182135,\n",
       " : 2.896969715662748,\n",
       " : 2.8754474193236113,\n",
       " : 2.8528582187617704,\n",
       " : 2.8291994365550894,\n",
       " : 2.804474931418741,\n",
       " : 2.7786964379851296,\n",
       " : 2.75188505730524,\n",
       " : 2.7240728948835224,\n",
       " : 2.6953048355474905,\n",
       " : 2.6656404346723566,\n",
       " : 2.6351558929791477,\n",
       " : 2.603946067168313,\n",
       " : 2.57212645110204,\n",
       " : 2.5398350424620997,\n",
       " : 2.5072339885415857,\n",
       " : 2.4745108833461296,\n",
       " : 2.441879568352711,\n",
       " : 2.409580273619891,\n",
       " : 2.377878927586224,\n",
       " : 2.3470654663995782,\n",
       " : 2.3174509906665124,\n",
       " : 2.28936365237479,\n",
       " : 2.263143209616906,\n",
       " : 2.2391342619491774,\n",
       " : 2.217678272439313,\n",
       " : 2.1991045881593743,\n",
       " : 2.183720780195893,\n",
       " : 2.171802725428485,\n",
       " : 2.163584931964391,\n",
       " : 2.1592516550307437,\n",
       " : 2.158929349693356,\n",
       " : 2.1626809552258166,\n",
       " : 2.170502404133278,\n",
       " : 2.1823216048413254,\n",
       " : 2.197999975523173,\n",
       " : 2.2173364265266424,\n",
       " : 2.2400735208138713,\n",
       " : 2.265905404176486,\n",
       " : 2.294487003247437,\n",
       " : 2.3254439462389183,\n",
       " : 2.3583826684182387,\n",
       " : 2.3929002148025273,\n",
       " : 2.428593335201218,\n",
       " : 2.465066568281478,\n",
       " : 2.5019391186804247,\n",
       " : 2.5388504331893915,\n",
       " : 2.575464470541077,\n",
       " : 2.611472729528208,\n",
       " : 2.646596150352132,\n",
       " : 2.6805860349912836,\n",
       " : 2.7132241464318865,\n",
       " : 2.744322147174792,\n",
       " : 2.7737205281557777,\n",
       " : 2.8012871635300836,\n",
       " : 2.8269156076310527,\n",
       " : 2.850523230157232,\n",
       " : 2.872049265978651,\n",
       " : 2.891452838011501,\n",
       " : 2.9087109960414117,\n",
       " : 2.9238168014580417,\n",
       " : 2.936777477610149,\n",
       " : 2.9476126377353196,\n",
       " : 2.9563525968911435,\n",
       " : 2.9630367706907283,\n",
       " : 2.967712161585335,\n",
       " : 2.9704319326094257,\n",
       " : 2.971254068600612,\n",
       " : 2.9702401256521846,\n",
       " : 2.967454070707627,\n",
       " : 2.962961214559506,\n",
       " : 2.95682724290058,\n",
       " : 2.9491173513587667,\n",
       " : 2.939895491529931,\n",
       " : 2.9292237358340127,\n",
       " : 2.9171617695207326,\n",
       " : 2.903766518324755,\n",
       " : 2.8890919201203387,\n",
       " : 2.8731888484687076,\n",
       " : 2.8561051952103953,\n",
       " : 2.8378861182502204,\n",
       " : 2.818574459424549,\n",
       " : 2.7982113358203673,\n",
       " : 2.7768369060984455,\n",
       " : 2.754491311190457,\n",
       " : 2.731215786088122,\n",
       " : 2.707053936179041,\n",
       " : 2.6820531675331076,\n",
       " : 2.6562662555044483,\n",
       " : 2.629753029777289,\n",
       " : 2.602582146356883,\n",
       " : 2.5748329078466186,\n",
       " : 2.5465970826149036,\n",
       " : 2.5179806612504407,\n",
       " : 2.48910547536273,\n",
       " : 2.4601105899291063,\n",
       " : 2.43115336700135,\n",
       " : 2.4024100870521226,\n",
       " : 2.374076006369793,\n",
       " : 2.3463647268739978,\n",
       " : 2.319506760930906,\n",
       " : 2.293747190596297,\n",
       " : 2.269342350241324,\n",
       " : 2.246555504932691,\n",
       " : 2.2256515541209003,\n",
       " : 2.2068908591855636,\n",
       " : 2.1905223700727223,\n",
       " : 2.176776304276777,\n",
       " : 2.1658567025138495,\n",
       " : 2.157934240268943,\n",
       " : 2.1531397038220352,\n",
       " : 2.151558535951776,\n",
       " : 2.153226816169692,\n",
       " : 2.158128963477325,\n",
       " : 2.1661973417657716,\n",
       " : 2.1773138192940724,\n",
       " : 2.19131319777562,\n",
       " : 2.207988298387287,\n",
       " : 2.2270963853794274,\n",
       " : 2.2483665335848615,\n",
       " : 2.2715075099549433,\n",
       " : 2.29621574194049,\n",
       " : 2.3221829828369778,\n",
       " : 2.3491033481866315,\n",
       " : 2.3766794779976603,\n",
       " : 2.4046276666098527,\n",
       " : 2.4326818863463058,\n",
       " : 2.4605967055924354,\n",
       " : 2.4881491621292757,\n",
       " : 2.5151396964153805,\n",
       " : 2.541392277173471,\n",
       " : 2.5667538647526857,\n",
       " : 2.5910933588956624,\n",
       " : 2.614300169715931,\n",
       " : 2.636282536815476,\n",
       " : 2.656965704147005,\n",
       " : 2.676290039570163,\n",
       " : 2.6942091696553936,\n",
       " : 2.710688183239177,\n",
       " : 2.7257019421807342,\n",
       " : 2.739233525018479,\n",
       " : 2.751272818825221,\n",
       " : 2.7618152663922215,\n",
       " : 2.7708607697078538,\n",
       " : 2.778412746258045,\n",
       " : 2.784477331670693,\n",
       " : 2.7890627203724963,\n",
       " : 2.792178634967435,\n",
       " : 2.7938359147578957,\n",
       " : 2.7940462140229245,\n",
       " : 2.792821801188242,\n",
       " : 2.790175450744812,\n",
       " : 2.786120420598024,\n",
       " : 2.780670508381205,\n",
       " : 2.7738401810851574,\n",
       " : 2.7656447730930305,\n",
       " : 2.7561007483294855,\n",
       " : 2.745226022704018,\n",
       " : 2.7330403433231307,\n",
       " : 2.7195657210396993,\n",
       " : 2.7048269127760647,\n",
       " : 2.6888519496753194,\n",
       " : 2.671672706478719,\n",
       " : 2.653325506571984,\n",
       " : 2.6338517558681622,\n",
       " : 2.6132985970827964,\n",
       " : 2.591719574000424,\n",
       " : 2.569175293035172,\n",
       " : 2.5457340667772717,\n",
       " : 2.521472521342901,\n",
       " : 2.4964761462923413,\n",
       " : 2.470839762778172,\n",
       " : 2.444667882607114,\n",
       " : 2.418074928275063,\n",
       " : 2.3911852820479202,\n",
       " : 2.3641331311428933,\n",
       " : 2.337062076384016,\n",
       " : 2.310124473743973,\n",
       " : 2.2834804823052512,\n",
       " : 2.2572967986792274,\n",
       " : 2.231745067000607,\n",
       " : 2.2069999652863523,\n",
       " : 2.183236983009237,\n",
       " : 2.160629920716933,\n",
       " : 2.1393481596696104,\n",
       " : 2.119553766734921,\n",
       " : 2.10139851589853,\n",
       " : 2.0850209213099777,\n",
       " : 2.070543386364181,\n",
       " : 2.0580695776421183,\n",
       " : 2.047682130639908,\n",
       " : 2.0394407856131975,\n",
       " : 2.033381036645974,\n",
       " : 2.0295133559442737,\n",
       " : 2.0278230296800994,\n",
       " : 2.0282706132813266,\n",
       " : 2.030792984994144,\n",
       " : 2.035304949025077,\n",
       " : 2.0417013156230266,\n",
       " : 2.049859366728884,\n",
       " : 2.059641603400379,\n",
       " : 2.070898665586475,\n",
       " : 2.0834723158270188,\n",
       " : 2.09719838538758,\n",
       " : 2.1119095930869047,\n",
       " : 2.127438162262173,\n",
       " : 2.1436181784872543,\n",
       " : 2.1602876484203644,\n",
       " : 2.177290237302188,\n",
       " : 2.194476678205472,\n",
       " : 2.211705859495734,\n",
       " : 2.2288456077322625,\n",
       " : 2.245773191307616,\n",
       " : 2.262375575589051,\n",
       " : 2.278549463434822,\n",
       " : 2.294201156055784,\n",
       " : 2.3092462686676134,\n",
       " : 2.323609333626581,\n",
       " : 2.337223321132841,\n",
       " : 2.3500291044476547,\n",
       " : 2.361974893178777,\n",
       " : 2.373015654758538,\n",
       " : 2.383112540934523,\n",
       " : 2.3922323330258535,\n",
       " : 2.400346916939786,\n",
       " : 2.407432796529316,\n",
       " : 2.413470651812217,\n",
       " : 2.4184449468545766,\n",
       " : 2.4223435907221416,\n",
       " : 2.425157653786962,\n",
       " : 2.426881140804496,\n",
       " : 2.4275108215050127,\n",
       " : 2.4270461189287014,\n",
       " : 2.425489055332706,\n",
       " : 2.4228442551670417,\n",
       " : 2.4191190043131936,\n",
       " : 2.414323364463148,\n",
       " : 2.4084703411477557,\n",
       " : 2.401576103463534,\n",
       " : 2.393660252958776,\n",
       " : 2.384746138388639,\n",
       " : 2.374861212102701,\n",
       " : 2.364037422660146,\n",
       " : 2.352311636857159,\n",
       " : 2.3397260826874025,\n",
       " : 2.3263288028428626,\n",
       " : 2.31217410621887,\n",
       " : 2.2973230025571594,\n",
       " : 2.2818436029143365,\n",
       " : 2.265811466183109,\n",
       " : 2.2493098695582265,\n",
       " : 2.2324299788053903,\n",
       " : 2.215270892672552,\n",
       " : 2.1979395350253146,\n",
       " : 2.180550368558866,\n",
       " : 2.1632249055111994,\n",
       " : 2.146090993931557,\n",
       " : 2.1292818629516903,\n",
       " : 2.11293491729157,\n",
       " : 2.097190279911736,\n",
       " : 2.0821890921540054,\n",
       " : 2.0680715925605586,\n",
       " : 2.0549750083023666,\n",
       " : 2.0430313060640457,\n",
       " : 2.03236486144672,\n",
       " : 2.0230901164821806,\n",
       " : 2.0153093027011435,\n",
       " : 2.009110311447571,\n",
       " : 2.004564793055458,\n",
       " : 2.0017265616770796,\n",
       " : 2.000630372924336,\n",
       " : 2.0012911274314287,\n",
       " : 2.0037035357594117,\n",
       " : 2.0078422598911776,\n",
       " : 2.0136625253129763,\n",
       " : 2.02110117686075,\n",
       " : 2.0300781325970134,\n",
       " : 2.0404981742511845,\n",
       " : 2.052253001159092,\n",
       " : 2.065223467733067,\n",
       " : 2.079281922412789,\n",
       " : 2.0942945685160566,\n",
       " : 2.1101237738182976,\n",
       " : 2.1266302651902755,\n",
       " : 2.143675156235048,\n",
       " : 2.161121768585084,\n",
       " : 2.1788372204154456,\n",
       " : 2.196693768004318,\n",
       " : 2.2145698972145604,\n",
       " : 2.2323511711612922,\n",
       " : 2.2499308478444786,\n",
       " : 2.267210287102157,\n",
       " : 2.2840991699560766,\n",
       " : 2.300515555451736,\n",
       " : 2.3163858006783546,\n",
       " : 2.33164436906139,\n",
       " : 2.346233550528745,\n",
       " : 2.360103115026998,\n",
       " : 2.373209918346857,\n",
       " : 2.385517476517926,\n",
       " : 2.3969955223270114,\n",
       " : 2.4076195549437074,\n",
       " : 2.417370391310632,\n",
       " : 2.426233725950907,\n",
       " : 2.434199704210777,\n",
       " : 2.441262512709185,\n",
       " : 2.4474199898995934,\n",
       " : 2.4526732591243,\n",
       " : 2.457026386293178,\n",
       " : 2.460486064258282,\n",
       " : 2.463061325975458,\n",
       " : 2.464763288526144,\n",
       " : 2.4656049298998206,\n",
       " : 2.4656009000066326,\n",
       " : 2.46476736662364,\n",
       " : 2.4631218958376992,\n",
       " : 2.4606833650394258,\n",
       " : 2.457471904699377,\n",
       " : 2.453508863117423,\n",
       " : 2.4488167862130354,\n",
       " : 2.4434194023762097,\n",
       " : 2.43734160059767,\n",
       " : 2.430609388717763,\n",
       " : 2.4232498178493502,\n",
       " : 2.415290859013966,\n",
       " : 2.4067612189601606,\n",
       " : 2.3976900842022135,\n",
       " : 2.388106785747099,\n",
       " : 2.3780403820250804,\n",
       " : 2.367519164498698,\n",
       " : 2.3565700996148102,\n",
       " : 2.3452182324917747,\n",
       " : 2.3334860922258738,\n",
       " : 2.321393155991617,\n",
       " : 2.308955448862308,\n",
       " : 2.296185377531695,\n",
       " : 2.283091916954496,\n",
       " : 2.269681286050136,\n",
       " : 2.2559582569353216,\n",
       " : 2.2419282344535967,\n",
       " : 2.2276002097815564,\n",
       " : 2.2129906231171432,\n",
       " : 2.198128056341424,\n",
       " : 2.183058512490148,\n",
       " : 2.167850831231549,\n",
       " : 2.1526015627516095,\n",
       " : 2.137438424577022,\n",
       " : 2.1225213679385937,\n",
       " : 2.1080403634930502,\n",
       " : 2.0942093437832296,\n",
       " : 2.081256317746415,\n",
       " : 2.069410415716076,\n",
       " : 2.058887351464306,\n",
       " : 2.04987527125849,\n",
       " : 2.0425230091334017,\n",
       " : 2.0369323268276647,\n",
       " : 2.033154905870264,\n",
       " : 2.031193930307865,\n",
       " : 2.031009327145113,\n",
       " : 2.0325253036765445,\n",
       " : 2.0356387761221235,\n",
       " : 2.040227534200532,\n",
       " : 2.046157382355818,\n",
       " : 2.0532878999787396,\n",
       " : 2.061476780016853,\n",
       " : 2.0705829050105486,\n",
       " : 2.080468411084385,\n",
       " : 2.091000003556256,\n",
       " : 2.102049755606909,\n",
       " : 2.113495570536725,\n",
       " : 2.125221435897765,\n",
       " : 2.1371175532737987,\n",
       " : 2.149080393844661,\n",
       " : 2.1610127068305904,\n",
       " : 2.172823493596844,\n",
       " : 2.1844279523134498,\n",
       " : 2.1957473944983614,\n",
       " : 2.2067091338408744,\n",
       " : 2.2172463481871834,\n",
       " : 2.227297916659606,\n",
       " : 2.236808235077345,\n",
       " : 2.245727013878236,\n",
       " : 2.2540090634849257,\n",
       " : 2.2616140724864664,\n",
       " : 2.268506384139927,\n",
       " : 2.274654776584672,\n",
       " : 2.2800322518608205,\n",
       " : 2.2846158383872104,\n",
       " : 2.288386411030106,\n",
       " : 2.291328532319255,\n",
       " : 2.293430317770099,\n",
       " : 2.294683327667924,\n",
       " : 2.295082487071044,\n",
       " : 2.2946260351986565,\n",
       " : 2.293315504782163,\n",
       " : 2.2911557313695474,\n",
       " : 2.288154891971758,\n",
       " : 2.284324571816521,\n",
       " : 2.2796798573174595,\n",
       " : 2.2742394526640783,\n",
       " : 2.268025816682311,\n",
       " : 2.2610653158004643,\n",
       " : 2.2533883880802437,\n",
       " : 2.245029712341917,\n",
       " : 2.236028375438298,\n",
       " : 2.22642802973452,\n",
       " : 2.216277031859756,\n",
       " : 2.205628552854196,\n",
       " : 2.1945406489920827,\n",
       " : 2.183076281883078,\n",
       " : 2.1713032760140103,\n",
       " : 2.1592942017728576,\n",
       " : 2.1471261722837287,\n",
       " : 2.1348805431619056,\n",
       " : 2.122642505650264,\n",
       " : 2.1105005655869626,\n",
       " : 2.098545903317579,\n",
       " : 2.0868716130075615,\n",
       " : 2.0755718237938647,\n",
       " : 2.0647407097467303,\n",
       " : 2.054471400546496,\n",
       " : 2.044854809911751,\n",
       " : 2.0359784038870616,\n",
       " : 2.0279249358136244,\n",
       " : 2.0207711788430314,\n",
       " : 2.014586689892039,\n",
       " : 2.0094326406810334,\n",
       " : 2.005360751714086,\n",
       " : 2.0024123635916293,\n",
       " : 2.000617676852613,\n",
       " : 1.9999951866972339,\n",
       " : 2.0005513326440987,\n",
       " : 2.0022803757416363,\n",
       " : 2.00516450779084,\n",
       " : 2.0091741886138017,\n",
       " : 2.014268699210973,\n",
       " : 2.020396891161244,\n",
       " : 2.0274981062449844,\n",
       " : 2.0355032353323814,\n",
       " : 2.044335882284686,\n",
       " : 2.053913597047759,\n",
       " : 2.0641491422367535,\n",
       " : 2.0749517591716105,\n",
       " : 2.0862284022922575,\n",
       " : 2.097884914869507,\n",
       " : 2.1098271236115926,\n",
       " : 2.121961834825992,\n",
       " : 2.134197719931359,\n",
       " : 2.1464460830661127,\n",
       " : 2.15862150810022,\n",
       " : 2.1706423863746673,\n",
       " : 2.1824313298744604,\n",
       " : 2.19391547724386,\n",
       " : 2.2050267020788845,\n",
       " : 2.215701734319307,\n",
       " : 2.2258822063725385,\n",
       " : 2.2355146359136646,\n",
       " : 2.244550357204948,\n",
       " : 2.2529454123515666,\n",
       " : 2.260660413240242,\n",
       " : 2.2676603840684892,\n",
       " : 2.27391459342833,\n",
       " : 2.279396383912472,\n",
       " : 2.2840830062045816,\n",
       " : 2.287955463628362,\n",
       " : 2.2909983721837004,\n",
       " : 2.2931998402031084,\n",
       " : 2.2945513709225973,\n",
       " : 2.295047790475737,\n",
       " : 2.294687203081286,\n",
       " : 2.293470974492633,\n",
       " : 2.2914037440986403,\n",
       " : 2.288493465395403,\n",
       " : 2.2847514738720944,\n",
       " : 2.280192580656487,\n",
       " : 2.2748351895335968,\n",
       " : 2.2687014341733893,\n",
       " : 2.261817331572628,\n",
       " : 2.2542129468294214,\n",
       " : 2.2459225634293203,\n",
       " : 2.2369848522396074,\n",
       " : 2.227443031402425,\n",
       " : 2.217345008316384,\n",
       " : 2.206743493939734,\n",
       " : 2.1956960787873863,\n",
       " : 2.184265259290948,\n",
       " : 2.172518402719162,\n",
       " : 2.160527638696285,\n",
       " : 2.148369665595351,\n",
       " : 2.1361254608077678,\n",
       " : 2.123879885181055,\n",
       " : 2.1117211738380766,\n",
       " : 2.0997403081858925,\n",
       " : 2.088030267198931,\n",
       " : 2.076685159984973,\n",
       " : 2.0657992461280203,\n",
       " : 2.0554658552077734,\n",
       " : 2.045776222022302,\n",
       " : 2.036818259136176,\n",
       " : 2.02867529314672,\n",
       " : 2.0214247951855433,\n",
       " : 2.015137139328784,\n",
       " : 2.009874424479391,\n",
       " : 2.005689395663703,\n",
       " : 2.0026244993910027,\n",
       " : 2.0007111047009034,\n",
       " : 1.9999689168329584,\n",
       " : 2.000405604283676,\n",
       " : 2.0020166526724896,\n",
       " : 2.0047854507204637,\n",
       " : 2.008683605218639,\n",
       " : 2.0136714736183614,\n",
       " : 2.0196988952892423,\n",
       " : 2.0267060959820524,\n",
       " : 2.0346247349360764,\n",
       " : 2.043379060602025,\n",
       " : 2.052887139208894,\n",
       " : 2.0630621203591963,\n",
       " : 2.073813505354501,\n",
       " : 2.0850483868074785]"
      ]
     },
     "execution_count": 456,
     "metadata": {},
     "output_type": "execute_result"
    }
   ],
   "execution_count": 456
  },
  {
   "metadata": {
    "ExecuteTime": {
     "end_time": "2024-12-11T12:09:33.881292Z",
     "start_time": "2024-12-11T12:09:32.309915Z"
    }
   },
   "cell_type": "code",
   "source": [
    "# loop\n",
    "\n",
    "epochs = 100\n",
    "learning_rate = 0.0001\n",
    "\n",
    "for epoch in range(epochs):\n",
    "    # Forward pass\n",
    "    y_pred = [mlp(x) for x in xs]\n",
    "    loss = sum([(yout - ygt)**2 for ygt, yout in zip(ys, y_pred)])\n",
    "    print(loss)\n",
    "    # Backward pass\n",
    "    loss.backward()\n",
    "    for p in mlp.parameters():\n",
    "        p.data += -learning_rate * p.grad"
   ],
   "outputs": [
    {
     "name": "stdout",
     "output_type": "stream",
     "text": [
      ": 2.096672631999963\n",
      ": 2.1085919870805148\n",
      ": 2.12071308423593\n",
      ": 2.1329443391162\n",
      ": 2.1451967307771547\n",
      ": 2.157384461015907\n",
      ": 2.1694254940547064\n",
      ": 2.1812419809788253\n",
      ": 2.192760576107214\n",
      ": 2.2039126545683523\n",
      ": 2.21463444180263\n",
      ": 2.2248670665772385\n",
      ": 2.234556549456591\n",
      ": 2.2436537386071906\n",
      ": 2.2521142044167988\n",
      ": 2.259898103757613\n",
      ": 2.266970023896781\n",
      ": 2.2732988151206834\n",
      ": 2.2788574201455623\n",
      ": 2.2836227073793283\n",
      ": 2.287575314108666\n",
      ": 2.2906995047335346\n",
      ": 2.2929830482701163\n",
      ": 2.294417118497951\n",
      ": 2.2949962193359936\n",
      ": 2.29471813728909\n",
      ": 2.293583922100811\n",
      ": 2.2915978960675805\n",
      ": 2.2887676917984203\n",
      ": 2.28510431752892\n",
      ": 2.2806222484026355\n",
      ": 2.2753395414043993\n",
      ": 2.2692779708565376\n",
      ": 2.2624631805630626\n",
      ": 2.25492484780496\n",
      ": 2.2466968534541523\n",
      ": 2.2378174514941724\n",
      ": 2.2283294302301226\n",
      ": 2.218280256466605\n",
      ": 2.2077221929689346\n",
      ": 2.1967123786495786\n",
      ": 2.18531286020026\n",
      ": 2.17359056339223\n",
      ": 2.1616171920739484\n",
      ": 2.1494690430928105\n",
      ": 2.1372267260428988\n",
      ": 2.1249747779747494\n",
      ": 2.112801165063738\n",
      ": 2.100796665765312\n",
      ": 2.089054133200103\n",
      ": 2.0776676383798933\n",
      ": 2.0667315003262168\n",
      ": 2.0563392140102463\n",
      ": 2.046582292162374\n",
      ": 2.037549042114309\n",
      ": 2.0293233036544764\n",
      ": 2.0219831780801814\n",
      ": 2.015599781893178\n",
      ": 2.0102360606075553\n",
      ": 2.0059456986689455\n",
      ": 2.0027721603511646\n",
      ": 2.0007478936325223\n",
      ": 1.9998937245107844\n",
      ": 2.00021846316974\n",
      ": 2.001718736155946\n",
      ": 2.0043790506541863\n",
      ": 2.0081720885255834\n",
      ": 2.013059219483928\n",
      ": 2.018991215113381\n",
      ": 2.025909138801447\n",
      ": 2.033745381416661\n",
      ": 2.0424248089318944\n",
      ": 2.05186598628874\n",
      ": 2.0619824416003523\n",
      ": 2.0726839361720537\n",
      ": 2.0838777085623077\n",
      ": 2.095469664728478\n",
      ": 2.107365490885094\n",
      ": 2.119471670722167\n",
      ": 2.1316963937821036\n",
      ": 2.1439503468064793\n",
      ": 2.15614738452016\n",
      ": 2.168205080457497\n",
      ": 2.1800451619488284\n",
      ": 2.191593836223452\n",
      ": 2.202782016742156\n",
      ": 2.2135454603794873\n",
      ": 2.223824826991698\n",
      ": 2.233565673306987\n",
      ": 2.2427183930452967\n",
      ": 2.251238114802883\n",
      ": 2.259084568606038\n",
      ": 2.2662219312245813\n",
      ": 2.272618659405912\n",
      ": 2.2782473191992665\n",
      ": 2.283084418531015\n",
      ": 2.287110249198029\n",
      ": 2.2903087434892764\n",
      ": 2.2926673497391103\n",
      ": 2.294176930264963\n"
     ]
    }
   ],
   "execution_count": 457
  },
  {
   "metadata": {
    "ExecuteTime": {
     "end_time": "2024-12-11T12:09:33.890358Z",
     "start_time": "2024-12-11T12:09:33.887616Z"
    }
   },
   "cell_type": "code",
   "source": "mlp.parameters()",
   "outputs": [
    {
     "data": {
      "text/plain": [
       "[: 2.60564463963292,\n",
       " : -3.3355605886916133,\n",
       " : 5.421629433420436,\n",
       " : -1.5989058962558726,\n",
       " : 5.538752635477982,\n",
       " : 10.218481793318146,\n",
       " : -2.477055572681971,\n",
       " : 2.418476249012764,\n",
       " : 2.7765320060862524,\n",
       " : -6.150338821661528,\n",
       " : -0.22048601214940772,\n",
       " : 4.377592525818108,\n",
       " : 4.482660752507478,\n",
       " : -7.109897706469372,\n",
       " : 10.448070577539898,\n",
       " : -2.791048470894751,\n",
       " : 2.6924373080580173,\n",
       " : -0.49015323078567546,\n",
       " : -1.0599284345336901,\n",
       " : 0.6861405982108386,\n",
       " : -1.7844655564593883,\n",
       " : 2.0273542852463695,\n",
       " : -0.5175579904274704,\n",
       " : 1.6254765484250984,\n",
       " : 4.509706645228719,\n",
       " : -3.160534708620227,\n",
       " : 2.8945440128175592,\n",
       " : -0.4529475407459541,\n",
       " : -4.725436112261566,\n",
       " : 0.31496467802952033,\n",
       " : -1.1068208006523585,\n",
       " : -0.19173797125043715,\n",
       " : 0.9662261067155601,\n",
       " : 0.7419653311386404,\n",
       " : -0.44184072165930355,\n",
       " : 1.5931133494214906,\n",
       " : -1.342562808292572,\n",
       " : -2.9844703740277496,\n",
       " : 4.127552503910001,\n",
       " : 0.6641765721796412,\n",
       " : -0.4582185387600852]"
      ]
     },
     "execution_count": 458,
     "metadata": {},
     "output_type": "execute_result"
    }
   ],
   "execution_count": 458
  },
  {
   "metadata": {
    "ExecuteTime": {
     "end_time": "2024-12-11T12:09:33.906748Z",
     "start_time": "2024-12-11T12:09:33.905370Z"
    }
   },
   "cell_type": "code",
   "source": "",
   "outputs": [],
   "execution_count": null
  }
 ],
 "metadata": {
  "kernelspec": {
   "display_name": "Python 3.10 (tensorflow)",
   "language": "python",
   "name": "tf"
  }
 },
 "nbformat": 4,
 "nbformat_minor": 2
}
